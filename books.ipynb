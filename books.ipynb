{
 "cells": [
  {
   "cell_type": "code",
   "execution_count": 1,
   "id": "b82c1087",
   "metadata": {},
   "outputs": [],
   "source": [
    "import requests\n",
    "import pandas as pd\n",
    "\n",
    "import time\n",
    "\n",
    "import os\n",
    "from dotenv import load_dotenv\n",
    "\n",
    "load_dotenv()\n",
    "\n",
    "google_key = os.getenv(\"GOOGLE_BOOKS\")\n",
    "nyt_key = os.getenv(\"NYT\")"
   ]
  },
  {
   "cell_type": "code",
   "execution_count": 2,
   "id": "78d15cf9",
   "metadata": {},
   "outputs": [],
   "source": [
    "import plotly.express as px\n",
    "import plotly.io as pio\n",
    "import plotly.graph_objects as go"
   ]
  },
  {
   "cell_type": "code",
   "execution_count": 3,
   "id": "51f0abea",
   "metadata": {},
   "outputs": [],
   "source": [
    "df_cached = pd.read_csv('df_cached.csv')\n",
    "df_cached['primary_isbn13'] = df_cached['primary_isbn13'].apply(str)"
   ]
  },
  {
   "cell_type": "code",
   "execution_count": 4,
   "id": "cebe6e0b",
   "metadata": {},
   "outputs": [
    {
     "data": {
      "application/vnd.microsoft.datawrangler.viewer.v0+json": {
       "columns": [
        {
         "name": "index",
         "rawType": "int64",
         "type": "integer"
        },
        {
         "name": "age_group",
         "rawType": "float64",
         "type": "float"
        },
        {
         "name": "amazon_product_url",
         "rawType": "object",
         "type": "string"
        },
        {
         "name": "article_chapter_link",
         "rawType": "float64",
         "type": "float"
        },
        {
         "name": "asterisk",
         "rawType": "int64",
         "type": "integer"
        },
        {
         "name": "author",
         "rawType": "object",
         "type": "string"
        },
        {
         "name": "book_image",
         "rawType": "object",
         "type": "string"
        },
        {
         "name": "book_image_height",
         "rawType": "int64",
         "type": "integer"
        },
        {
         "name": "book_image_width",
         "rawType": "int64",
         "type": "integer"
        },
        {
         "name": "book_review_link",
         "rawType": "object",
         "type": "unknown"
        },
        {
         "name": "book_uri",
         "rawType": "object",
         "type": "string"
        },
        {
         "name": "contributor",
         "rawType": "object",
         "type": "string"
        },
        {
         "name": "contributor_note",
         "rawType": "object",
         "type": "unknown"
        },
        {
         "name": "created_date",
         "rawType": "object",
         "type": "string"
        },
        {
         "name": "dagger",
         "rawType": "int64",
         "type": "integer"
        },
        {
         "name": "description",
         "rawType": "object",
         "type": "unknown"
        },
        {
         "name": "first_chapter_link",
         "rawType": "object",
         "type": "unknown"
        },
        {
         "name": "price",
         "rawType": "float64",
         "type": "float"
        },
        {
         "name": "primary_isbn10",
         "rawType": "float64",
         "type": "float"
        },
        {
         "name": "primary_isbn13",
         "rawType": "object",
         "type": "string"
        },
        {
         "name": "publisher",
         "rawType": "object",
         "type": "unknown"
        },
        {
         "name": "rank",
         "rawType": "int64",
         "type": "integer"
        },
        {
         "name": "rank_last_week",
         "rawType": "int64",
         "type": "integer"
        },
        {
         "name": "sunday_review_link",
         "rawType": "float64",
         "type": "float"
        },
        {
         "name": "title",
         "rawType": "object",
         "type": "string"
        },
        {
         "name": "updated_date",
         "rawType": "object",
         "type": "string"
        },
        {
         "name": "weeks_on_list",
         "rawType": "int64",
         "type": "integer"
        },
        {
         "name": "category",
         "rawType": "object",
         "type": "unknown"
        },
        {
         "name": "published_date",
         "rawType": "object",
         "type": "string"
        },
        {
         "name": "Unnamed: 0",
         "rawType": "float64",
         "type": "float"
        }
       ],
       "ref": "6bb474f0-5805-402a-a575-422d6c59df96",
       "rows": [
        [
         "0",
         null,
         "https://www.amazon.com/dp/B0DTYKCJC9?tag=thenewyorktim-20",
         null,
         "0",
         "Jake Tapper and Alex Thompson",
         "https://static01.nyt.com/bestsellers/images/9798217060672.jpg",
         "500",
         "329",
         null,
         "nyt://book/786e31c1-bc83-50f1-bd8d-995926458641",
         "by Jake Tapper and Alex Thompson",
         null,
         "2025-06-02T23:13:46.798Z",
         "0",
         "An account of Joe Biden’s initial decision to run for re-election in 2024 and its numerous consequences.",
         null,
         "0.0",
         null,
         "9798217060672",
         "Penguin Press",
         "1",
         "0",
         null,
         "ORIGINAL SIN",
         "2025-06-02T23:13:46.798Z",
         "1",
         "Political Science",
         "2025-06-08",
         null
        ],
        [
         "1",
         null,
         "https://www.amazon.com/dp/1668023369?tag=thenewyorktim-20",
         null,
         "0",
         "Dawn Staley",
         "https://static01.nyt.com/bestsellers/images/9781668023365.jpg",
         "500",
         "329",
         null,
         "nyt://book/93e1c5cf-1a3f-5ede-b081-ca9bbd7d30a2",
         "by Dawn Staley",
         null,
         "2025-06-02T23:13:46.873Z",
         "0",
         "The three-time Olympic gold medalist and six-time W.N.B.A. All-Star, who is the head coach for the South Carolina Gamecocks women’s basketball team, describes obstacles she encountered on and off the court.",
         null,
         "0.0",
         null,
         "9781668023365",
         "Atria/Black Privilege",
         "2",
         "0",
         null,
         "UNCOMMON FAVOR",
         "2025-06-02T23:13:46.873Z",
         "1",
         "Biography & Autobiography",
         "2025-06-08",
         null
        ],
        [
         "2",
         null,
         "https://www.amazon.com/dp/0525561722?tag=thenewyorktim-20",
         null,
         "0",
         "Ron Chernow",
         "https://static01.nyt.com/bestsellers/images/9780525561729.jpg",
         "500",
         "329",
         null,
         "nyt://book/b92f68c9-76ad-5510-8520-c5864d663b19",
         "by Ron Chernow",
         null,
         "2025-06-02T23:13:46.947Z",
         "0",
         "The Pulitzer Prize-winning biographer portrays the life and career of the literary celebrity and political pundit.",
         null,
         "0.0",
         null,
         "9780525561729",
         "Penguin Press",
         "3",
         "1",
         null,
         "MARK TWAIN",
         "2025-06-02T23:13:46.947Z",
         "2",
         "Biography & Autobiography",
         "2025-06-08",
         null
        ],
        [
         "3",
         null,
         "https://www.amazon.com/dp/1668053373?tag=thenewyorktim-20",
         null,
         "0",
         "Patrick McGee",
         "https://static01.nyt.com/bestsellers/images/9781668053379.jpg",
         "500",
         "331",
         null,
         "nyt://book/82ca74aa-bab8-5b05-9a1f-f8f7e383e1e2",
         "by Patrick McGee",
         null,
         "2025-06-02T23:13:47.02Z",
         "0",
         "A journalist depicts the development of Apple’s supply chain and its increasingly precarious relationship with China.",
         null,
         "0.0",
         null,
         "9781668053379",
         "Scribner",
         "4",
         "0",
         null,
         "APPLE IN CHINA",
         "2025-06-02T23:13:47.02Z",
         "1",
         "Business & Economics",
         "2025-06-08",
         null
        ],
        [
         "4",
         null,
         "https://www.amazon.com/dp/0593655036?tag=thenewyorktim-20",
         null,
         "0",
         "Jonathan Haidt",
         "https://static01.nyt.com/bestsellers/images/9780593655030.jpg",
         "500",
         "329",
         null,
         "nyt://book/7557cf43-7888-5c15-8206-d3541cccd89b",
         "by Jonathan Haidt",
         null,
         "2025-06-02T23:13:47.093Z",
         "0",
         "A co-author of “The Coddling of the American Mind” looks at the mental health impacts that a phone-based life has on children.",
         null,
         "0.0",
         null,
         "9780593655030",
         "Penguin Press",
         "5",
         "2",
         null,
         "THE ANXIOUS GENERATION",
         "2025-06-02T23:13:47.093Z",
         "61",
         "Psychology",
         "2025-06-08",
         null
        ],
        [
         "5",
         null,
         "https://www.amazon.com/dp/1668096870?tag=thenewyorktim-20",
         null,
         "0",
         "Barry Diller",
         "https://static01.nyt.com/bestsellers/images/9781668096871.jpg",
         "500",
         "335",
         null,
         "nyt://book/e98102d7-5245-5251-b913-d2331f70382a",
         "by Barry Diller",
         null,
         "2025-06-02T23:13:47.167Z",
         "1",
         "The businessman charts his career from the mail room at William Morris to the heights of the entertainment industry and beyond.",
         null,
         "0.0",
         null,
         "9781668096871",
         "Simon & Schuster",
         "6",
         "0",
         null,
         "WHO KNEW",
         "2025-06-02T23:13:47.167Z",
         "1",
         "Biography & Autobiography",
         "2025-06-08",
         null
        ],
        [
         "6",
         null,
         "http://www.amazon.com/The-Body-Keeps-Score-Healing/dp/0670785938?tag=thenewyorktim-20",
         null,
         "0",
         "Bessel van der Kolk",
         "https://static01.nyt.com/bestsellers/images/9780143127741.jpg",
         "193",
         "128",
         "https://www.nytimes.com/2018/10/18/books/review/how-to-rewire-your-traumatized-brain.html",
         "nyt://book/e3e33e9d-0e67-5fec-b0d2-2ecddc38ce0e",
         "by Bessel van der Kolk",
         null,
         "2025-06-02T23:13:47.24Z",
         "0",
         "How trauma affects the body and mind, and innovative treatments for recovery.",
         null,
         "0.0",
         null,
         "9780143127741",
         "Penguin",
         "7",
         "5",
         null,
         "THE BODY KEEPS THE SCORE",
         "2025-06-02T23:13:47.24Z",
         "244",
         "Medical",
         "2025-06-08",
         null
        ],
        [
         "7",
         null,
         "https://www.amazon.com/dp/1668023482?tag=thenewyorktim-20",
         null,
         "0",
         "Ezra Klein and Derek Thompson",
         "https://static01.nyt.com/bestsellers/images/9781668023488.jpg",
         "500",
         "331",
         null,
         "nyt://book/041486a7-1130-5821-989f-33b7d1efd0de",
         "by Ezra Klein and Derek Thompson",
         null,
         "2025-06-02T23:13:47.314Z",
         "0",
         "A New York Times opinion columnist and a staff writer at The Atlantic evaluate obstacles to American progress.",
         null,
         "0.0",
         null,
         "9781668023488",
         "Avid Reader",
         "8",
         "7",
         null,
         "ABUNDANCE",
         "2025-06-02T23:13:47.314Z",
         "10",
         "Business & Economics",
         "2025-06-08",
         null
        ],
        [
         "8",
         null,
         "https://www.amazon.com/dp/1538768461?tag=thenewyorktim-20",
         null,
         "0",
         "Nate Bargatze",
         "https://static01.nyt.com/bestsellers/images/9781538768464.jpg",
         "500",
         "329",
         null,
         "nyt://book/455045a1-1463-5d73-be48-160b23c2acc9",
         "by Nate Bargatze",
         null,
         "2025-06-02T23:13:47.386Z",
         "0",
         "The Grammy Award-nominated comedian shares snippets from his life and career.",
         null,
         "0.0",
         null,
         "9781538768464",
         "Grand Central",
         "9",
         "3",
         null,
         "BIG DUMB EYES",
         "2025-06-02T23:13:47.386Z",
         "3",
         "Biography & Autobiography",
         "2025-06-08",
         null
        ],
        [
         "9",
         null,
         "https://www.amazon.com/dp/0593799186?tag=thenewyorktim-20",
         null,
         "0",
         "Rick Atkinson",
         "https://static01.nyt.com/bestsellers/images/9780593799185.jpg",
         "500",
         "329",
         null,
         "nyt://book/fa7dc600-09b9-5121-8800-f63b633f9f41",
         "by Rick Atkinson",
         null,
         "2025-06-02T23:13:47.459Z",
         "0",
         "The author of “The British Are Coming” portrays the middle years of the American Revolution.",
         null,
         "0.0",
         null,
         "9780593799185",
         "Crown",
         "10",
         "12",
         null,
         "THE FATE OF THE DAY",
         "2025-06-02T23:13:47.459Z",
         "4",
         "History",
         "2025-06-08",
         null
        ],
        [
         "10",
         null,
         "https://www.amazon.com/dp/0393242137?tag=thenewyorktim-20",
         null,
         "0",
         "Robert Macfarlane",
         "https://static01.nyt.com/bestsellers/images/9780393242133.jpg",
         "500",
         "329",
         null,
         "nyt://book/a89110b8-b088-58cd-afd3-275cc677b3c2",
         "by Robert Macfarlane",
         null,
         "2025-06-02T23:13:47.534Z",
         "0",
         "The author of “Underland” explores flowing waters in Ecuador, India and Canada.",
         null,
         "0.0",
         null,
         "9780393242133",
         "Norton",
         "11",
         "0",
         null,
         "IS A RIVER ALIVE?",
         "2025-06-02T23:13:47.534Z",
         "1",
         "Nature",
         "2025-06-08",
         null
        ],
        [
         "11",
         null,
         "https://www.amazon.com/dp/0525426051?tag=thenewyorktim-20",
         null,
         "0",
         "John Green",
         "https://static01.nyt.com/bestsellers/images/9780525556572.jpg",
         "500",
         "331",
         null,
         "nyt://book/bb5b70b2-964d-5146-8e4b-64724d34a3a9",
         "by John Green",
         null,
         "2025-06-02T23:13:47.608Z",
         "0",
         "The author of “The Anthropocene Reviewed” chronicles the fight against the deadly infectious disease tuberculosis.",
         null,
         "0.0",
         null,
         "9780525556572",
         "Crash Course",
         "12",
         "10",
         null,
         "EVERYTHING IS TUBERCULOSIS",
         "2025-06-02T23:13:47.608Z",
         "10",
         "Social Science",
         "2025-06-08",
         null
        ],
        [
         "12",
         null,
         "https://www.amazon.com/Tyranny-Twenty-Lessons-Twentieth-Century/dp/0804190119?tag=thenewyorktim-20",
         null,
         "0",
         "Timothy Snyder",
         "https://static01.nyt.com/bestsellers/images/9780804190114.jpg",
         "465",
         "330",
         null,
         "nyt://book/eeb07cb6-f672-5b8d-b85d-6ce6f62b1856",
         "by Timothy Snyder",
         null,
         "2025-06-02T23:13:47.681Z",
         "0",
         "Twenty lessons from the 20th century about the course of tyranny.",
         null,
         "0.0",
         null,
         "9780804190114",
         "Crown",
         "13",
         "13",
         null,
         "ON TYRANNY",
         "2025-06-02T23:13:47.681Z",
         "52",
         "Political Science",
         "2025-06-08",
         null
        ],
        [
         "13",
         null,
         "https://www.amazon.com/dp/0593657500?tag=thenewyorktim-20",
         null,
         "0",
         "Karen Hao",
         "https://static01.nyt.com/bestsellers/images/9780593657508.jpg",
         "500",
         "329",
         null,
         "nyt://book/ab7f22c8-0633-5baf-8263-71c8899cfd41",
         "by Karen Hao",
         null,
         "2025-06-02T23:13:47.754Z",
         "0",
         "An examination of the disruptions made and resources taken by artificial intelligence.",
         null,
         "0.0",
         null,
         "9780593657508",
         "Penguin Press",
         "14",
         "0",
         null,
         "EMPIRE OF AI",
         "2025-06-02T23:13:47.754Z",
         "1",
         "Technology & Engineering",
         "2025-06-08",
         null
        ],
        [
         "14",
         null,
         "https://www.amazon.com/dp/1538767066?tag=thenewyorktim-20",
         null,
         "0",
         "Jonathan Capehart",
         "https://static01.nyt.com/bestsellers/images/9781538767061.jpg",
         "500",
         "331",
         null,
         "nyt://book/1c972b9e-91e8-512f-b55e-8be6f7c0a1e3",
         "by Jonathan Capehart",
         null,
         "2025-06-02T23:13:47.827Z",
         "0",
         "The MSNBC anchor and Pulitzer Prize-winning journalist describes how he embraced his identity.",
         null,
         "0.0",
         null,
         "9781538767061",
         "Grand Central",
         "15",
         "0",
         null,
         "YET HERE I AM",
         "2025-06-02T23:13:47.827Z",
         "1",
         "Biography & Autobiography",
         "2025-06-08",
         null
        ],
        [
         "15",
         null,
         "https://www.amazon.com/dp/0593597400?tag=thenewyorktim-20",
         null,
         "0",
         "Tina Knowles with Kevin Carr O'Leary",
         "https://static01.nyt.com/bestsellers/images/9780593597408.jpg",
         "500",
         "375",
         null,
         "nyt://book/4e539008-0935-5396-aa30-495b9145310f",
         "by Tina Knowles with Kevin Carr O'Leary",
         null,
         "2025-06-04T22:33:17.822Z",
         "0",
         null,
         null,
         "0.0",
         null,
         "9780593597408",
         "One World",
         "1",
         "0",
         null,
         "MATRIARCH",
         "2025-06-04T22:33:17.822Z",
         "1",
         "Biography & Autobiography",
         "2025-05-11",
         null
        ],
        [
         "16",
         null,
         "https://www.amazon.com/dp/1668023482?tag=thenewyorktim-20",
         null,
         "0",
         "Ezra Klein and Derek Thompson",
         "https://static01.nyt.com/bestsellers/images/9781668023488.jpg",
         "500",
         "331",
         null,
         "nyt://book/041486a7-1130-5821-989f-33b7d1efd0de",
         "by Ezra Klein and Derek Thompson",
         null,
         "2025-06-02T23:13:47.314Z",
         "0",
         "A New York Times opinion columnist and a staff writer at The Atlantic evaluate obstacles to American progress.",
         null,
         "0.0",
         null,
         "9781668023488",
         "Avid Reader",
         "2",
         "1",
         null,
         "ABUNDANCE",
         "2025-06-02T23:13:47.314Z",
         "6",
         "Business & Economics",
         "2025-05-11",
         null
        ],
        [
         "17",
         null,
         "https://www.amazon.com/dp/0525426051?tag=thenewyorktim-20",
         null,
         "0",
         "John Green",
         "https://static01.nyt.com/bestsellers/images/9780525556572.jpg",
         "500",
         "331",
         null,
         "nyt://book/bb5b70b2-964d-5146-8e4b-64724d34a3a9",
         "by John Green",
         null,
         "2025-06-02T23:13:47.608Z",
         "0",
         "The author of “The Anthropocene Reviewed” chronicles the fight against the deadly infectious disease tuberculosis.",
         null,
         "0.0",
         null,
         "9780525556572",
         "Crash Course",
         "3",
         "2",
         null,
         "EVERYTHING IS TUBERCULOSIS",
         "2025-06-02T23:13:47.608Z",
         "6",
         "Social Science",
         "2025-05-11",
         null
        ],
        [
         "18",
         null,
         "https://www.amazon.com/dp/0593803671?tag=thenewyorktim-20",
         null,
         "0",
         "Joan Didion",
         "https://static01.nyt.com/bestsellers/images/9780593803677.jpg",
         "500",
         "329",
         null,
         "nyt://book/5ebb46d0-9a97-51ed-91f0-a518dda382d1",
         "by Joan Didion",
         null,
         "2025-05-16T17:58:08.88Z",
         "0",
         "Didon’s first-person account, discovered after her death, written to her husband, John Gregory Dunne, of her psychiatric sessions.",
         null,
         "0.0",
         null,
         "9780593803677",
         "Knopf",
         "4",
         "0",
         null,
         "NOTES TO JOHN",
         "2025-05-16T17:58:08.88Z",
         "1",
         "Literary Collections",
         "2025-05-11",
         null
        ],
        [
         "19",
         null,
         "https://www.amazon.com/dp/0593978773?tag=thenewyorktim-20",
         null,
         "0",
         "Pope Francis with Carlo Musso",
         "https://static01.nyt.com/bestsellers/images/9780593978771.jpg",
         "500",
         "335",
         null,
         "nyt://book/2520551f-07e4-5c12-b83d-f426855f31e1",
         "by Pope Francis with Carlo Musso",
         null,
         "2025-06-02T23:12:58.352Z",
         "0",
         "The late Pope Francis recounts details of his life from his childhood through to key moments of his papacy; translated by Richard Dixon.",
         null,
         "0.0",
         null,
         "9780593978771",
         "Random House",
         "5",
         "0",
         null,
         "HOPE",
         "2025-06-02T23:12:58.352Z",
         "3",
         "Religion",
         "2025-05-11",
         null
        ],
        [
         "20",
         null,
         "https://www.amazon.com/dp/0593655036?tag=thenewyorktim-20",
         null,
         "0",
         "Jonathan Haidt",
         "https://static01.nyt.com/bestsellers/images/9780593655030.jpg",
         "500",
         "329",
         null,
         "nyt://book/7557cf43-7888-5c15-8206-d3541cccd89b",
         "by Jonathan Haidt",
         null,
         "2025-06-02T23:13:47.093Z",
         "0",
         "A co-author of “The Coddling of the American Mind” looks at the mental health impacts that a phone-based life has on children.",
         null,
         "0.0",
         null,
         "9780593655030",
         "Penguin Press",
         "6",
         "3",
         null,
         "THE ANXIOUS GENERATION",
         "2025-06-02T23:13:47.093Z",
         "57",
         "Psychology",
         "2025-05-11",
         null
        ],
        [
         "21",
         null,
         "https://www.amazon.com/Tyranny-Twenty-Lessons-Twentieth-Century/dp/0804190119?tag=thenewyorktim-20",
         null,
         "0",
         "Timothy Snyder",
         "https://static01.nyt.com/bestsellers/images/9780804190114.jpg",
         "465",
         "330",
         null,
         "nyt://book/eeb07cb6-f672-5b8d-b85d-6ce6f62b1856",
         "by Timothy Snyder",
         null,
         "2025-06-02T23:13:47.681Z",
         "0",
         "Twenty lessons from the 20th century about the course of tyranny.",
         null,
         "0.0",
         null,
         "9780804190114",
         "Crown",
         "7",
         "4",
         null,
         "ON TYRANNY",
         "2025-06-02T23:13:47.681Z",
         "48",
         "Political Science",
         "2025-05-11",
         null
        ],
        [
         "22",
         null,
         "http://www.amazon.com/The-Body-Keeps-Score-Healing/dp/0670785938?tag=thenewyorktim-20",
         null,
         "0",
         "Bessel van der Kolk",
         "https://static01.nyt.com/bestsellers/images/9780143127741.jpg",
         "193",
         "128",
         "https://www.nytimes.com/2018/10/18/books/review/how-to-rewire-your-traumatized-brain.html",
         "nyt://book/e3e33e9d-0e67-5fec-b0d2-2ecddc38ce0e",
         "by Bessel van der Kolk",
         null,
         "2025-06-02T23:13:47.24Z",
         "0",
         "How trauma affects the body and mind, and innovative treatments for recovery.",
         null,
         "0.0",
         null,
         "9780143127741",
         "Penguin",
         "8",
         "7",
         null,
         "THE BODY KEEPS THE SCORE",
         "2025-06-02T23:13:47.24Z",
         "240",
         "Medical",
         "2025-05-11",
         null
        ],
        [
         "23",
         null,
         "https://www.amazon.com/dp/B0DHZ2ZXPM?tag=thenewyorktim-20",
         null,
         "0",
         "Michael Lewis",
         "https://static01.nyt.com/bestsellers/images/9798217047802.jpg",
         "500",
         "331",
         null,
         "nyt://book/0a1d12c6-2ba3-5618-a876-5f7072d3d8b7",
         "by Michael Lewis",
         null,
         "2025-05-16T17:58:09.242Z",
         "0",
         "Essays by Casey Cep, Dave Eggers, John Lanchester, Geraldine Brooks, Sarah Vowell, W. Kamau Bell and Michael Lewis illuminate the work of federal employees and the business of government.",
         null,
         "0.0",
         null,
         "9798217047802",
         "Riverhead",
         "9",
         "12",
         null,
         "WHO IS GOVERNMENT?",
         "2025-05-16T17:58:09.242Z",
         "6",
         "Political Science",
         "2025-05-11",
         null
        ],
        [
         "24",
         null,
         "https://www.amazon.com/dp/0063437139?tag=thenewyorktim-20",
         null,
         "0",
         "Douglas Murray",
         "https://static01.nyt.com/bestsellers/images/9780063437135.jpg",
         "500",
         "327",
         null,
         "nyt://book/00ff19eb-fa60-56df-85ed-fe85316f7f02",
         "by Douglas Murray",
         null,
         "2025-05-16T17:58:09.316Z",
         "1",
         "The author of “The War on the West” gives his perspective on the conflict between Israel and Hamas.",
         null,
         "0.0",
         null,
         "9780063437135",
         "Broadside",
         "10",
         "8",
         null,
         "ON DEMOCRACIES AND DEATH CULTS",
         "2025-05-16T17:58:09.316Z",
         "3",
         "History",
         "2025-05-11",
         null
        ],
        [
         "25",
         null,
         "https://www.amazon.com/dp/B0DTP85ZG6?tag=thenewyorktim-20",
         null,
         "0",
         "David A. Graham",
         "https://static01.nyt.com/bestsellers/images/9798217153725.jpg",
         "500",
         "333",
         null,
         "nyt://book/b908173b-897f-51e9-be8b-67e5cf24ba8b",
         "by David A. Graham",
         null,
         "2025-05-17T20:58:25.315Z",
         "0",
         "A staff writer at The Atlantic explicates Project 2025, which was published by the conservative think tank the Heritage Foundation.",
         null,
         "0.0",
         null,
         "9798217153725",
         "Random House",
         "11",
         "0",
         null,
         "THE PROJECT",
         "2025-05-17T20:58:25.315Z",
         "1",
         "Political Science",
         "2025-05-11",
         null
        ],
        [
         "26",
         null,
         "https://www.amazon.com/dp/1623716365?tag=thenewyorktim-20",
         null,
         "0",
         "Sim Kern",
         "https://static01.nyt.com/bestsellers/images/9781623716363.jpg",
         "500",
         "335",
         null,
         "nyt://book/85a5b7fb-ed39-5d02-a207-c1fd7579fed6",
         "by Sim Kern",
         null,
         "2025-05-16T17:58:09.459Z",
         "0",
         "An anti-Zionist Jewish activist recounts pivotal life experiences.",
         null,
         "0.0",
         null,
         "9781623716363",
         "Interlink",
         "12",
         "0",
         null,
         "GENOCIDE BAD",
         "2025-05-16T17:58:09.459Z",
         "1",
         "Political Science",
         "2025-05-11",
         null
        ],
        [
         "27",
         null,
         "https://www.amazon.com/dp/1250391237?tag=thenewyorktim-20",
         null,
         "0",
         "Sarah Wynn-Williams",
         "https://static01.nyt.com/bestsellers/images/9781250391230.jpg",
         "500",
         "329",
         null,
         "nyt://book/7c18484b-2dcb-57fc-800a-8d457e7b848c",
         "by Sarah Wynn-Williams",
         null,
         "2025-05-16T17:58:09.532Z",
         "0",
         "A former Facebook executive gives an account of policies and leadership at the social media platform.",
         null,
         "0.0",
         null,
         "9781250391230",
         "Flatiron",
         "13",
         "9",
         null,
         "CARELESS PEOPLE",
         "2025-05-16T17:58:09.532Z",
         "7",
         "Biography & Autobiography",
         "2025-05-11",
         null
        ],
        [
         "28",
         null,
         "https://www.amazon.com/dp/006343864X?tag=thenewyorktim-20",
         null,
         "0",
         "Jonathan Allen and Amie Parnes",
         "https://static01.nyt.com/bestsellers/images/9780063438644.jpg",
         "500",
         "331",
         null,
         "nyt://book/fb226c54-cf9f-55b0-87b7-2855382cbd45",
         "by Jonathan Allen and Amie Parnes",
         null,
         "2025-05-16T17:58:09.606Z",
         "0",
         "The authors of “Shattered” give an account of the 2024 presidential campaigns.",
         null,
         "0.0",
         null,
         "9780063438644",
         "Morrow",
         "14",
         "5",
         null,
         "FIGHT",
         "2025-05-16T17:58:09.606Z",
         "4",
         "Biography & Autobiography",
         "2025-05-11",
         null
        ],
        [
         "29",
         null,
         "https://www.amazon.com/dp/1668072246?tag=thenewyorktim-20",
         null,
         "0",
         "Robin Wall Kimmerer",
         "https://static01.nyt.com/bestsellers/images/9781668072240.jpg",
         "500",
         "356",
         null,
         "nyt://book/546eae3e-3927-5811-8afb-976b6a5478d0",
         "by Robin Wall Kimmerer",
         null,
         "2025-06-02T23:12:58.28Z",
         "0",
         "The author of “Braiding Sweetgrass” illuminates how the gift economy in the natural world works and draws lessons for our economy; with illustrations by John Burgoyne.",
         null,
         "0.0",
         null,
         "9781668072240",
         "Scribner",
         "15",
         "0",
         null,
         "THE SERVICEBERRY",
         "2025-06-02T23:12:58.28Z",
         "16",
         "Nature",
         "2025-05-11",
         null
        ],
        [
         "30",
         null,
         "https://www.amazon.com/dp/0525426051?tag=thenewyorktim-20",
         null,
         "0",
         "John Green",
         "https://static01.nyt.com/bestsellers/images/9780525426059.jpg",
         "500",
         "331",
         null,
         "nyt://book/de969ddd-72a6-5b79-9532-48ebbd0eef70",
         "by John Green",
         null,
         "2025-05-14T15:37:09.377Z",
         "0",
         "The author of “The Anthropocene Reviewed” chronicles the fight against the deadly infectious disease tuberculosis.",
         null,
         "0.0",
         null,
         "9780525426059",
         "Crash Course",
         "1",
         "1",
         null,
         "EVERYTHING IS TUBERCULOSIS",
         "2025-05-14T15:37:09.377Z",
         "2",
         "Social Science",
         "2025-04-13",
         null
        ],
        [
         "31",
         null,
         "https://www.amazon.com/dp/1250391237?tag=thenewyorktim-20",
         null,
         "0",
         "Sarah Wynn-Williams",
         "https://static01.nyt.com/bestsellers/images/9781250391230.jpg",
         "500",
         "329",
         null,
         "nyt://book/7c18484b-2dcb-57fc-800a-8d457e7b848c",
         "by Sarah Wynn-Williams",
         null,
         "2025-05-16T17:58:09.532Z",
         "0",
         "A former Facebook executive gives an account of policies and leadership at the social media platform.",
         null,
         "0.0",
         null,
         "9781250391230",
         "Flatiron",
         "2",
         "3",
         null,
         "CARELESS PEOPLE",
         "2025-05-16T17:58:09.532Z",
         "3",
         "Biography & Autobiography",
         "2025-04-13",
         null
        ],
        [
         "32",
         null,
         "https://www.amazon.com/dp/1668023482?tag=thenewyorktim-20",
         null,
         "0",
         "Ezra Klein and Derek Thompson",
         "https://static01.nyt.com/bestsellers/images/9781668023488.jpg",
         "500",
         "331",
         null,
         "nyt://book/041486a7-1130-5821-989f-33b7d1efd0de",
         "by Ezra Klein and Derek Thompson",
         null,
         "2025-06-02T23:13:47.314Z",
         "0",
         "A New York Times opinion columnist and a staff writer at The Atlantic evaluate obstacles to American progress.",
         null,
         "0.0",
         null,
         "9781668023488",
         "Avid Reader",
         "3",
         "2",
         null,
         "ABUNDANCE",
         "2025-06-02T23:13:47.314Z",
         "2",
         "Business & Economics",
         "2025-04-13",
         null
        ],
        [
         "33",
         null,
         "https://www.amazon.com/dp/0593655036?tag=thenewyorktim-20",
         null,
         "0",
         "Jonathan Haidt",
         "https://static01.nyt.com/bestsellers/images/9780593655030.jpg",
         "500",
         "329",
         null,
         "nyt://book/7557cf43-7888-5c15-8206-d3541cccd89b",
         "by Jonathan Haidt",
         null,
         "2025-06-02T23:13:47.093Z",
         "0",
         "A co-author of “The Coddling of the American Mind” looks at the mental health impacts that a phone-based life has on children.",
         null,
         "0.0",
         null,
         "9780593655030",
         "Penguin Press",
         "4",
         "7",
         null,
         "THE ANXIOUS GENERATION",
         "2025-06-02T23:13:47.093Z",
         "53",
         "Psychology",
         "2025-04-13",
         null
        ],
        [
         "34",
         null,
         "https://www.amazon.com/dp/0593655907?tag=thenewyorktim-20",
         null,
         "0",
         "Graydon Carter with James Fox",
         "https://static01.nyt.com/bestsellers/images/9780593655900.jpg",
         "500",
         "331",
         null,
         "nyt://book/a0fbfb29-9374-50e0-b70e-154e3a4cb8b8",
         "by Graydon Carter with James Fox",
         null,
         "2025-05-14T15:35:48.986Z",
         "0",
         "The co-creator of Spy and former editor of Vanity Fair retraces his storied career.",
         null,
         "0.0",
         null,
         "9780593655900",
         "Penguin Press",
         "5",
         "0",
         null,
         "WHEN THE GOING WAS GOOD",
         "2025-05-14T15:35:48.986Z",
         "1",
         "Biography & Autobiography",
         "2025-04-13",
         null
        ],
        [
         "35",
         null,
         "http://www.amazon.com/The-Body-Keeps-Score-Healing/dp/0670785938?tag=thenewyorktim-20",
         null,
         "0",
         "Bessel van der Kolk",
         "https://static01.nyt.com/bestsellers/images/9780143127741.jpg",
         "193",
         "128",
         "https://www.nytimes.com/2018/10/18/books/review/how-to-rewire-your-traumatized-brain.html",
         "nyt://book/e3e33e9d-0e67-5fec-b0d2-2ecddc38ce0e",
         "by Bessel van der Kolk",
         null,
         "2025-06-02T23:13:47.24Z",
         "0",
         "How trauma affects the body and mind, and innovative treatments for recovery.",
         null,
         "0.0",
         null,
         "9780143127741",
         "Penguin",
         "6",
         "10",
         null,
         "THE BODY KEEPS THE SCORE",
         "2025-06-02T23:13:47.24Z",
         "236",
         "Medical",
         "2025-04-13",
         null
        ],
        [
         "36",
         null,
         "https://www.amazon.com/dp/0807016535?tag=thenewyorktim-20",
         null,
         "0",
         "David Pakman",
         "https://static01.nyt.com/bestsellers/images/9780807016534.jpg",
         "500",
         "333",
         null,
         "nyt://book/9b5c9208-37d0-539c-9c9d-bde5e4708420",
         "by David Pakman",
         null,
         "2025-05-14T15:37:39.022Z",
         "0",
         "The podcast host assesses a cycle of reactionary political ideology in an era of polarization.",
         null,
         "0.0",
         null,
         "9780807016534",
         "Beacon",
         "7",
         "0",
         null,
         "THE ECHO MACHINE",
         "2025-05-14T15:37:39.022Z",
         "1",
         "Political Science",
         "2025-04-13",
         null
        ],
        [
         "37",
         null,
         "https://www.amazon.com/Tyranny-Twenty-Lessons-Twentieth-Century/dp/0804190119?tag=thenewyorktim-20",
         null,
         "0",
         "Timothy Snyder",
         "https://static01.nyt.com/bestsellers/images/9780804190114.jpg",
         "465",
         "330",
         null,
         "nyt://book/eeb07cb6-f672-5b8d-b85d-6ce6f62b1856",
         "by Timothy Snyder",
         null,
         "2025-06-02T23:13:47.681Z",
         "0",
         "Twenty lessons from the 20th century about the course of tyranny.",
         null,
         "0.0",
         null,
         "9780804190114",
         "Crown",
         "8",
         "8",
         null,
         "ON TYRANNY",
         "2025-06-02T23:13:47.681Z",
         "44",
         "Political Science",
         "2025-04-13",
         null
        ],
        [
         "38",
         null,
         "https://www.amazon.com/dp/0593731204?tag=thenewyorktim-20",
         null,
         "0",
         "Amy Griffin",
         "https://static01.nyt.com/bestsellers/images/9780593731208.jpg",
         "500",
         "331",
         null,
         "nyt://book/c8c1fc79-16a4-5aeb-8f99-bdf6d19579d8",
         "by Amy Griffin",
         null,
         "2025-05-14T15:37:09.522Z",
         "0",
         "The founder of the investment firm G9 Ventures recounts her efforts to recover from trauma she experienced during childhood.",
         null,
         "0.0",
         null,
         "9780593731208",
         "Dial",
         "9",
         "5",
         null,
         "THE TELL",
         "2025-05-14T15:37:09.522Z",
         "3",
         "Biography & Autobiography",
         "2025-04-13",
         null
        ],
        [
         "39",
         null,
         "https://www.amazon.com/dp/0385534264?tag=thenewyorktim-20",
         null,
         "0",
         "David Grann",
         "https://static01.nyt.com/bestsellers/images/9780307742490.jpg",
         "500",
         "329",
         null,
         "nyt://book/423213d6-9fa7-5fb1-8543-79dcd840c76e",
         "by David Grann",
         null,
         "2025-06-02T23:13:40.027Z",
         "0",
         "The survivors of a shipwrecked British vessel on a secret mission during an imperial war with Spain have different accounts of events.",
         null,
         "0.0",
         null,
         "9780307742490",
         "Vintage",
         "10",
         "11",
         null,
         "THE WAGER",
         "2025-06-02T23:13:40.027Z",
         "71",
         "True Crime",
         "2025-04-13",
         null
        ],
        [
         "40",
         null,
         "https://www.amazon.com/dp/1480216895?tag=thenewyorktim-20",
         null,
         "0",
         "Suzanne Humphries and Roman Bystrianyk",
         "https://static01.nyt.com/bestsellers/images/9781480216891.jpg",
         "500",
         "333",
         null,
         "nyt://book/52214f90-48fc-557f-8e3a-7216f5dc55bc",
         "by Suzanne Humphries and Roman Bystrianyk",
         null,
         "2025-05-14T15:35:49.415Z",
         "1",
         "Humphries and Bystrianyk argue that medical interventions might not increase lifespans or prevent premature deaths.",
         null,
         "0.0",
         null,
         "9781480216891",
         "Suzanne Humphries and Roman Bystrianyk",
         "11",
         "0",
         null,
         "DISSOLVING ILLUSIONS",
         "2025-05-14T15:35:49.415Z",
         "1",
         "Communicable diseases",
         "2025-04-13",
         null
        ],
        [
         "41",
         null,
         "https://www.amazon.com/dp/0593731263?tag=thenewyorktim-20",
         null,
         "0",
         "Annie Karni and Luke Broadwater",
         "https://static01.nyt.com/bestsellers/images/9780593731260.jpg",
         "500",
         "328",
         null,
         "nyt://book/cfd85078-e42f-5b8d-8203-3e017eed1088",
         "by Annie Karni and Luke Broadwater",
         null,
         "2025-05-14T15:35:49.486Z",
         "0",
         "Two correspondents for The New York Times depict the decay and dysfunction of the American Congress.",
         null,
         "0.0",
         null,
         "9780593731260",
         "Random House",
         "12",
         "0",
         null,
         "MAD HOUSE",
         "2025-05-14T15:35:49.486Z",
         "1",
         "Political Science",
         "2025-04-13",
         null
        ],
        [
         "42",
         null,
         "https://www.amazon.com/dp/B0DHZ2ZXPM?tag=thenewyorktim-20",
         null,
         "0",
         "Michael Lewis",
         "https://static01.nyt.com/bestsellers/images/9798217047802.jpg",
         "500",
         "331",
         null,
         "nyt://book/0a1d12c6-2ba3-5618-a876-5f7072d3d8b7",
         "by Michael Lewis",
         null,
         "2025-05-16T17:58:09.242Z",
         "0",
         "Essays by Casey Cep, Dave Eggers, John Lanchester, Geraldine Brooks, Sarah Vowell, W. Kamau Bell and Michael Lewis illuminate the work of federal employees and the business of government.",
         null,
         "0.0",
         null,
         "9798217047802",
         "Riverhead",
         "13",
         "6",
         null,
         "WHO IS GOVERNMENT?",
         "2025-05-16T17:58:09.242Z",
         "2",
         "Political Science",
         "2025-04-13",
         null
        ],
        [
         "43",
         null,
         "https://www.amazon.com/dp/1668065398?tag=thenewyorktim-20",
         null,
         "0",
         "Shari Franke",
         "https://static01.nyt.com/bestsellers/images/9781668065396.jpg",
         "500",
         "331",
         null,
         "nyt://book/44710a63-300c-58b3-8c0a-eb11c9a614ca",
         "by Shari Franke",
         null,
         "2025-05-14T15:36:23.94Z",
         "0",
         "Franke gives an account of abuse within her family, who gained a following with their YouTube channel “8 Passengers.”",
         null,
         "0.0",
         null,
         "9781668065396",
         "Gallery",
         "14",
         "13",
         null,
         "THE HOUSE OF MY MOTHER",
         "2025-05-14T15:36:23.94Z",
         "11",
         "Biography & Autobiography",
         "2025-04-13",
         null
        ],
        [
         "44",
         null,
         "https://www.amazon.com/dp/0593536134?tag=thenewyorktim-20",
         null,
         "0",
         "Amy Tan",
         "https://static01.nyt.com/bestsellers/images/9780593536131.jpg",
         "500",
         "379",
         null,
         "nyt://book/1bde7fcf-f70c-5c94-8303-fb918ea1007e",
         "by Amy Tan",
         null,
         "2025-06-02T23:13:40.102Z",
         "0",
         "Essays and drawings by the author of “The Joy Luck Club” and “The Bonesetter's Daughter,” which depict a search for peace through birding.",
         null,
         "0.0",
         null,
         "9780593536131",
         "Knopf",
         "15",
         "15",
         null,
         "THE BACKYARD BIRD CHRONICLES",
         "2025-06-02T23:13:40.102Z",
         "18",
         "Nature",
         "2025-04-13",
         null
        ],
        [
         "45",
         null,
         "http://www.amazon.com/The-Body-Keeps-Score-Healing/dp/0670785938?tag=thenewyorktim-20",
         null,
         "0",
         "Bessel van der Kolk",
         "https://static01.nyt.com/bestsellers/images/9781101608302.jpg",
         "193",
         "128",
         "https://www.nytimes.com/2018/10/18/books/review/how-to-rewire-your-traumatized-brain.html",
         "nyt://book/02c6d54c-541e-52b6-b792-88d5f44e34c4",
         "by Bessel van der Kolk",
         null,
         "2025-05-14T15:33:06.543Z",
         "0",
         "How trauma affects the body and mind, and innovative treatments for recovery.",
         null,
         "0.0",
         null,
         "9781101608302",
         "Penguin",
         "1",
         "5",
         null,
         "THE BODY KEEPS THE SCORE",
         "2025-05-14T15:33:06.543Z",
         "232",
         "Psychology",
         "2025-03-16",
         null
        ],
        [
         "46",
         null,
         "https://www.amazon.com/dp/0593596579?tag=thenewyorktim-20",
         null,
         "0",
         "Chelsea Handler",
         "https://static01.nyt.com/bestsellers/images/9780593596579.jpg",
         "500",
         "331",
         null,
         "nyt://book/99fbd2e7-cca4-52b8-8641-2297d4f299ad",
         "by Chelsea Handler",
         null,
         "2025-05-14T15:34:28.924Z",
         "0",
         "In a collection of essays, the comedian shares some public and private moments from her life.",
         null,
         "0.0",
         null,
         "9780593596579",
         "Dial",
         "2",
         "0",
         null,
         "I'LL HAVE WHAT SHE'S HAVING",
         "2025-05-14T15:34:28.924Z",
         "1",
         "Biography & Autobiography",
         "2025-03-16",
         null
        ],
        [
         "47",
         null,
         "https://www.amazon.com/Tyranny-Twenty-Lessons-Twentieth-Century/dp/0804190119?tag=thenewyorktim-20",
         null,
         "0",
         "Timothy Snyder",
         "https://static01.nyt.com/bestsellers/images/9780804190114.jpg",
         "465",
         "330",
         null,
         "nyt://book/eeb07cb6-f672-5b8d-b85d-6ce6f62b1856",
         "by Timothy Snyder",
         null,
         "2025-06-02T23:13:47.681Z",
         "0",
         "Twenty lessons from the 20th century about the course of tyranny.",
         null,
         "0.0",
         null,
         "9780804190114",
         "Crown",
         "3",
         "3",
         null,
         "ON TYRANNY",
         "2025-06-02T23:13:47.681Z",
         "40",
         "Political Science",
         "2025-03-16",
         null
        ],
        [
         "48",
         null,
         "https://www.amazon.com/dp/0593655036?tag=thenewyorktim-20",
         null,
         "0",
         "Jonathan Haidt",
         "https://static01.nyt.com/bestsellers/images/9780593655030.jpg",
         "500",
         "329",
         null,
         "nyt://book/7557cf43-7888-5c15-8206-d3541cccd89b",
         "by Jonathan Haidt",
         null,
         "2025-06-02T23:13:47.093Z",
         "0",
         "A co-author of “The Coddling of the American Mind” looks at the mental health impacts that a phone-based life has on children.",
         null,
         "0.0",
         null,
         "9780593655030",
         "Penguin Press",
         "4",
         "6",
         null,
         "THE ANXIOUS GENERATION",
         "2025-06-02T23:13:47.093Z",
         "49",
         "Psychology",
         "2025-03-16",
         null
        ],
        [
         "49",
         null,
         "https://www.amazon.com/dp/0593798694?tag=thenewyorktim-20",
         null,
         "0",
         "Alexander C. Karp and Nicholas W. Zamiska",
         "https://static01.nyt.com/bestsellers/images/9780593798690.jpg",
         "500",
         "333",
         null,
         "nyt://book/db7eee49-be29-58e3-9f0d-0d94381a11a1",
         "by Alexander C. Karp and Nicholas W. Zamiska",
         null,
         "2025-05-14T15:34:58.976Z",
         "0",
         "Two senior leaders at Palantir Technologies enumerate what they see as potential global threats to the United States.",
         null,
         "0.0",
         null,
         "9780593798690",
         "Crown Currency",
         "5",
         "1",
         null,
         "THE TECHNOLOGICAL REPUBLIC",
         "2025-05-14T15:34:58.976Z",
         "2",
         "Business & Economics",
         "2025-03-16",
         null
        ]
       ],
       "shape": {
        "columns": 29,
        "rows": 3040
       }
      },
      "text/html": [
       "<div>\n",
       "<style scoped>\n",
       "    .dataframe tbody tr th:only-of-type {\n",
       "        vertical-align: middle;\n",
       "    }\n",
       "\n",
       "    .dataframe tbody tr th {\n",
       "        vertical-align: top;\n",
       "    }\n",
       "\n",
       "    .dataframe thead th {\n",
       "        text-align: right;\n",
       "    }\n",
       "</style>\n",
       "<table border=\"1\" class=\"dataframe\">\n",
       "  <thead>\n",
       "    <tr style=\"text-align: right;\">\n",
       "      <th></th>\n",
       "      <th>age_group</th>\n",
       "      <th>amazon_product_url</th>\n",
       "      <th>article_chapter_link</th>\n",
       "      <th>asterisk</th>\n",
       "      <th>author</th>\n",
       "      <th>book_image</th>\n",
       "      <th>book_image_height</th>\n",
       "      <th>book_image_width</th>\n",
       "      <th>book_review_link</th>\n",
       "      <th>book_uri</th>\n",
       "      <th>...</th>\n",
       "      <th>publisher</th>\n",
       "      <th>rank</th>\n",
       "      <th>rank_last_week</th>\n",
       "      <th>sunday_review_link</th>\n",
       "      <th>title</th>\n",
       "      <th>updated_date</th>\n",
       "      <th>weeks_on_list</th>\n",
       "      <th>category</th>\n",
       "      <th>published_date</th>\n",
       "      <th>Unnamed: 0</th>\n",
       "    </tr>\n",
       "  </thead>\n",
       "  <tbody>\n",
       "    <tr>\n",
       "      <th>0</th>\n",
       "      <td>NaN</td>\n",
       "      <td>https://www.amazon.com/dp/B0DTYKCJC9?tag=thene...</td>\n",
       "      <td>NaN</td>\n",
       "      <td>0</td>\n",
       "      <td>Jake Tapper and Alex Thompson</td>\n",
       "      <td>https://static01.nyt.com/bestsellers/images/97...</td>\n",
       "      <td>500</td>\n",
       "      <td>329</td>\n",
       "      <td>NaN</td>\n",
       "      <td>nyt://book/786e31c1-bc83-50f1-bd8d-995926458641</td>\n",
       "      <td>...</td>\n",
       "      <td>Penguin Press</td>\n",
       "      <td>1</td>\n",
       "      <td>0</td>\n",
       "      <td>NaN</td>\n",
       "      <td>ORIGINAL SIN</td>\n",
       "      <td>2025-06-02T23:13:46.798Z</td>\n",
       "      <td>1</td>\n",
       "      <td>Political Science</td>\n",
       "      <td>2025-06-08</td>\n",
       "      <td>NaN</td>\n",
       "    </tr>\n",
       "    <tr>\n",
       "      <th>1</th>\n",
       "      <td>NaN</td>\n",
       "      <td>https://www.amazon.com/dp/1668023369?tag=thene...</td>\n",
       "      <td>NaN</td>\n",
       "      <td>0</td>\n",
       "      <td>Dawn Staley</td>\n",
       "      <td>https://static01.nyt.com/bestsellers/images/97...</td>\n",
       "      <td>500</td>\n",
       "      <td>329</td>\n",
       "      <td>NaN</td>\n",
       "      <td>nyt://book/93e1c5cf-1a3f-5ede-b081-ca9bbd7d30a2</td>\n",
       "      <td>...</td>\n",
       "      <td>Atria/Black Privilege</td>\n",
       "      <td>2</td>\n",
       "      <td>0</td>\n",
       "      <td>NaN</td>\n",
       "      <td>UNCOMMON FAVOR</td>\n",
       "      <td>2025-06-02T23:13:46.873Z</td>\n",
       "      <td>1</td>\n",
       "      <td>Biography &amp; Autobiography</td>\n",
       "      <td>2025-06-08</td>\n",
       "      <td>NaN</td>\n",
       "    </tr>\n",
       "    <tr>\n",
       "      <th>2</th>\n",
       "      <td>NaN</td>\n",
       "      <td>https://www.amazon.com/dp/0525561722?tag=thene...</td>\n",
       "      <td>NaN</td>\n",
       "      <td>0</td>\n",
       "      <td>Ron Chernow</td>\n",
       "      <td>https://static01.nyt.com/bestsellers/images/97...</td>\n",
       "      <td>500</td>\n",
       "      <td>329</td>\n",
       "      <td>NaN</td>\n",
       "      <td>nyt://book/b92f68c9-76ad-5510-8520-c5864d663b19</td>\n",
       "      <td>...</td>\n",
       "      <td>Penguin Press</td>\n",
       "      <td>3</td>\n",
       "      <td>1</td>\n",
       "      <td>NaN</td>\n",
       "      <td>MARK TWAIN</td>\n",
       "      <td>2025-06-02T23:13:46.947Z</td>\n",
       "      <td>2</td>\n",
       "      <td>Biography &amp; Autobiography</td>\n",
       "      <td>2025-06-08</td>\n",
       "      <td>NaN</td>\n",
       "    </tr>\n",
       "    <tr>\n",
       "      <th>3</th>\n",
       "      <td>NaN</td>\n",
       "      <td>https://www.amazon.com/dp/1668053373?tag=thene...</td>\n",
       "      <td>NaN</td>\n",
       "      <td>0</td>\n",
       "      <td>Patrick McGee</td>\n",
       "      <td>https://static01.nyt.com/bestsellers/images/97...</td>\n",
       "      <td>500</td>\n",
       "      <td>331</td>\n",
       "      <td>NaN</td>\n",
       "      <td>nyt://book/82ca74aa-bab8-5b05-9a1f-f8f7e383e1e2</td>\n",
       "      <td>...</td>\n",
       "      <td>Scribner</td>\n",
       "      <td>4</td>\n",
       "      <td>0</td>\n",
       "      <td>NaN</td>\n",
       "      <td>APPLE IN CHINA</td>\n",
       "      <td>2025-06-02T23:13:47.02Z</td>\n",
       "      <td>1</td>\n",
       "      <td>Business &amp; Economics</td>\n",
       "      <td>2025-06-08</td>\n",
       "      <td>NaN</td>\n",
       "    </tr>\n",
       "    <tr>\n",
       "      <th>4</th>\n",
       "      <td>NaN</td>\n",
       "      <td>https://www.amazon.com/dp/0593655036?tag=thene...</td>\n",
       "      <td>NaN</td>\n",
       "      <td>0</td>\n",
       "      <td>Jonathan Haidt</td>\n",
       "      <td>https://static01.nyt.com/bestsellers/images/97...</td>\n",
       "      <td>500</td>\n",
       "      <td>329</td>\n",
       "      <td>NaN</td>\n",
       "      <td>nyt://book/7557cf43-7888-5c15-8206-d3541cccd89b</td>\n",
       "      <td>...</td>\n",
       "      <td>Penguin Press</td>\n",
       "      <td>5</td>\n",
       "      <td>2</td>\n",
       "      <td>NaN</td>\n",
       "      <td>THE ANXIOUS GENERATION</td>\n",
       "      <td>2025-06-02T23:13:47.093Z</td>\n",
       "      <td>61</td>\n",
       "      <td>Psychology</td>\n",
       "      <td>2025-06-08</td>\n",
       "      <td>NaN</td>\n",
       "    </tr>\n",
       "    <tr>\n",
       "      <th>...</th>\n",
       "      <td>...</td>\n",
       "      <td>...</td>\n",
       "      <td>...</td>\n",
       "      <td>...</td>\n",
       "      <td>...</td>\n",
       "      <td>...</td>\n",
       "      <td>...</td>\n",
       "      <td>...</td>\n",
       "      <td>...</td>\n",
       "      <td>...</td>\n",
       "      <td>...</td>\n",
       "      <td>...</td>\n",
       "      <td>...</td>\n",
       "      <td>...</td>\n",
       "      <td>...</td>\n",
       "      <td>...</td>\n",
       "      <td>...</td>\n",
       "      <td>...</td>\n",
       "      <td>...</td>\n",
       "      <td>...</td>\n",
       "      <td>...</td>\n",
       "    </tr>\n",
       "    <tr>\n",
       "      <th>3035</th>\n",
       "      <td>NaN</td>\n",
       "      <td>http://www.amazon.com/Fifty-Shades-Trilogy-Bun...</td>\n",
       "      <td>NaN</td>\n",
       "      <td>0</td>\n",
       "      <td>E. L. James</td>\n",
       "      <td>https://static01.nyt.com/bestsellers/images/97...</td>\n",
       "      <td>197</td>\n",
       "      <td>128</td>\n",
       "      <td>NaN</td>\n",
       "      <td>nyt://book/dd89aefc-ae79-5850-ac96-f940ba2cc4fb</td>\n",
       "      <td>...</td>\n",
       "      <td>Vintage</td>\n",
       "      <td>16</td>\n",
       "      <td>0</td>\n",
       "      <td>NaN</td>\n",
       "      <td>FIFTY SHADES TRILOGY</td>\n",
       "      <td>2025-05-14T21:54:40.666Z</td>\n",
       "      <td>0</td>\n",
       "      <td>NaN</td>\n",
       "      <td>2012-08-12</td>\n",
       "      <td>NaN</td>\n",
       "    </tr>\n",
       "    <tr>\n",
       "      <th>3036</th>\n",
       "      <td>NaN</td>\n",
       "      <td>http://www.amazon.com/The-Marriage-Bargain-Bil...</td>\n",
       "      <td>NaN</td>\n",
       "      <td>0</td>\n",
       "      <td>Jennifer Probst</td>\n",
       "      <td>https://static01.nyt.com/bestsellers/images/A0...</td>\n",
       "      <td>203</td>\n",
       "      <td>128</td>\n",
       "      <td>NaN</td>\n",
       "      <td>nyt://book/cac1eae6-106b-5a28-88cf-73cdf4dd4471</td>\n",
       "      <td>...</td>\n",
       "      <td>Entangled Publishing</td>\n",
       "      <td>17</td>\n",
       "      <td>0</td>\n",
       "      <td>NaN</td>\n",
       "      <td>THE MARRIAGE BARGAIN</td>\n",
       "      <td>2025-05-14T06:55:56.627Z</td>\n",
       "      <td>0</td>\n",
       "      <td>NaN</td>\n",
       "      <td>2012-08-12</td>\n",
       "      <td>NaN</td>\n",
       "    </tr>\n",
       "    <tr>\n",
       "      <th>3037</th>\n",
       "      <td>NaN</td>\n",
       "      <td>http://www.amazon.com/The-Litigators-Novel-Joh...</td>\n",
       "      <td>NaN</td>\n",
       "      <td>0</td>\n",
       "      <td>John Grisham</td>\n",
       "      <td>https://static01.nyt.com/bestsellers/images/97...</td>\n",
       "      <td>229</td>\n",
       "      <td>128</td>\n",
       "      <td>NaN</td>\n",
       "      <td>nyt://book/7c934be9-85db-5ab2-b6a8-89c07600fa24</td>\n",
       "      <td>...</td>\n",
       "      <td>Random House Publishing</td>\n",
       "      <td>18</td>\n",
       "      <td>0</td>\n",
       "      <td>NaN</td>\n",
       "      <td>THE LITIGATORS</td>\n",
       "      <td>2025-05-14T06:55:56.769Z</td>\n",
       "      <td>0</td>\n",
       "      <td>NaN</td>\n",
       "      <td>2012-08-12</td>\n",
       "      <td>NaN</td>\n",
       "    </tr>\n",
       "    <tr>\n",
       "      <th>3038</th>\n",
       "      <td>NaN</td>\n",
       "      <td>http://www.amazon.com/Backfire-FBI-Thriller-Ca...</td>\n",
       "      <td>NaN</td>\n",
       "      <td>0</td>\n",
       "      <td>Catherine Coulter</td>\n",
       "      <td>https://static01.nyt.com/bestsellers/images/97...</td>\n",
       "      <td>495</td>\n",
       "      <td>327</td>\n",
       "      <td>NaN</td>\n",
       "      <td>nyt://book/c3da01f5-1a39-5460-a8b5-ae4e2e5015bf</td>\n",
       "      <td>...</td>\n",
       "      <td>Penguin Group</td>\n",
       "      <td>19</td>\n",
       "      <td>0</td>\n",
       "      <td>NaN</td>\n",
       "      <td>BACKFIRE</td>\n",
       "      <td>2025-05-14T06:55:56.698Z</td>\n",
       "      <td>0</td>\n",
       "      <td>NaN</td>\n",
       "      <td>2012-08-12</td>\n",
       "      <td>NaN</td>\n",
       "    </tr>\n",
       "    <tr>\n",
       "      <th>3039</th>\n",
       "      <td>NaN</td>\n",
       "      <td>http://www.amazon.com/Playing-Keeps-Neighbor-F...</td>\n",
       "      <td>NaN</td>\n",
       "      <td>0</td>\n",
       "      <td>R. L. Mathewson</td>\n",
       "      <td>https://static01.nyt.com/bestsellers/images/29...</td>\n",
       "      <td>396</td>\n",
       "      <td>330</td>\n",
       "      <td>NaN</td>\n",
       "      <td>nyt://book/5330f702-9c2a-5d62-9d85-4863cb263e6c</td>\n",
       "      <td>...</td>\n",
       "      <td>Rerum Publishing House</td>\n",
       "      <td>20</td>\n",
       "      <td>0</td>\n",
       "      <td>NaN</td>\n",
       "      <td>PLAYING FOR KEEPS</td>\n",
       "      <td>2025-05-14T06:55:57.129Z</td>\n",
       "      <td>0</td>\n",
       "      <td>NaN</td>\n",
       "      <td>2012-08-12</td>\n",
       "      <td>NaN</td>\n",
       "    </tr>\n",
       "  </tbody>\n",
       "</table>\n",
       "<p>3040 rows × 29 columns</p>\n",
       "</div>"
      ],
      "text/plain": [
       "      age_group                                 amazon_product_url  \\\n",
       "0           NaN  https://www.amazon.com/dp/B0DTYKCJC9?tag=thene...   \n",
       "1           NaN  https://www.amazon.com/dp/1668023369?tag=thene...   \n",
       "2           NaN  https://www.amazon.com/dp/0525561722?tag=thene...   \n",
       "3           NaN  https://www.amazon.com/dp/1668053373?tag=thene...   \n",
       "4           NaN  https://www.amazon.com/dp/0593655036?tag=thene...   \n",
       "...         ...                                                ...   \n",
       "3035        NaN  http://www.amazon.com/Fifty-Shades-Trilogy-Bun...   \n",
       "3036        NaN  http://www.amazon.com/The-Marriage-Bargain-Bil...   \n",
       "3037        NaN  http://www.amazon.com/The-Litigators-Novel-Joh...   \n",
       "3038        NaN  http://www.amazon.com/Backfire-FBI-Thriller-Ca...   \n",
       "3039        NaN  http://www.amazon.com/Playing-Keeps-Neighbor-F...   \n",
       "\n",
       "      article_chapter_link  asterisk                         author  \\\n",
       "0                      NaN         0  Jake Tapper and Alex Thompson   \n",
       "1                      NaN         0                    Dawn Staley   \n",
       "2                      NaN         0                    Ron Chernow   \n",
       "3                      NaN         0                  Patrick McGee   \n",
       "4                      NaN         0                 Jonathan Haidt   \n",
       "...                    ...       ...                            ...   \n",
       "3035                   NaN         0                    E. L. James   \n",
       "3036                   NaN         0                Jennifer Probst   \n",
       "3037                   NaN         0                   John Grisham   \n",
       "3038                   NaN         0              Catherine Coulter   \n",
       "3039                   NaN         0                R. L. Mathewson   \n",
       "\n",
       "                                             book_image  book_image_height  \\\n",
       "0     https://static01.nyt.com/bestsellers/images/97...                500   \n",
       "1     https://static01.nyt.com/bestsellers/images/97...                500   \n",
       "2     https://static01.nyt.com/bestsellers/images/97...                500   \n",
       "3     https://static01.nyt.com/bestsellers/images/97...                500   \n",
       "4     https://static01.nyt.com/bestsellers/images/97...                500   \n",
       "...                                                 ...                ...   \n",
       "3035  https://static01.nyt.com/bestsellers/images/97...                197   \n",
       "3036  https://static01.nyt.com/bestsellers/images/A0...                203   \n",
       "3037  https://static01.nyt.com/bestsellers/images/97...                229   \n",
       "3038  https://static01.nyt.com/bestsellers/images/97...                495   \n",
       "3039  https://static01.nyt.com/bestsellers/images/29...                396   \n",
       "\n",
       "      book_image_width book_review_link  \\\n",
       "0                  329              NaN   \n",
       "1                  329              NaN   \n",
       "2                  329              NaN   \n",
       "3                  331              NaN   \n",
       "4                  329              NaN   \n",
       "...                ...              ...   \n",
       "3035               128              NaN   \n",
       "3036               128              NaN   \n",
       "3037               128              NaN   \n",
       "3038               327              NaN   \n",
       "3039               330              NaN   \n",
       "\n",
       "                                             book_uri  ...  \\\n",
       "0     nyt://book/786e31c1-bc83-50f1-bd8d-995926458641  ...   \n",
       "1     nyt://book/93e1c5cf-1a3f-5ede-b081-ca9bbd7d30a2  ...   \n",
       "2     nyt://book/b92f68c9-76ad-5510-8520-c5864d663b19  ...   \n",
       "3     nyt://book/82ca74aa-bab8-5b05-9a1f-f8f7e383e1e2  ...   \n",
       "4     nyt://book/7557cf43-7888-5c15-8206-d3541cccd89b  ...   \n",
       "...                                               ...  ...   \n",
       "3035  nyt://book/dd89aefc-ae79-5850-ac96-f940ba2cc4fb  ...   \n",
       "3036  nyt://book/cac1eae6-106b-5a28-88cf-73cdf4dd4471  ...   \n",
       "3037  nyt://book/7c934be9-85db-5ab2-b6a8-89c07600fa24  ...   \n",
       "3038  nyt://book/c3da01f5-1a39-5460-a8b5-ae4e2e5015bf  ...   \n",
       "3039  nyt://book/5330f702-9c2a-5d62-9d85-4863cb263e6c  ...   \n",
       "\n",
       "                    publisher rank rank_last_week  sunday_review_link  \\\n",
       "0               Penguin Press    1              0                 NaN   \n",
       "1       Atria/Black Privilege    2              0                 NaN   \n",
       "2               Penguin Press    3              1                 NaN   \n",
       "3                    Scribner    4              0                 NaN   \n",
       "4               Penguin Press    5              2                 NaN   \n",
       "...                       ...  ...            ...                 ...   \n",
       "3035                  Vintage   16              0                 NaN   \n",
       "3036     Entangled Publishing   17              0                 NaN   \n",
       "3037  Random House Publishing   18              0                 NaN   \n",
       "3038            Penguin Group   19              0                 NaN   \n",
       "3039   Rerum Publishing House   20              0                 NaN   \n",
       "\n",
       "                       title              updated_date  weeks_on_list  \\\n",
       "0               ORIGINAL SIN  2025-06-02T23:13:46.798Z              1   \n",
       "1             UNCOMMON FAVOR  2025-06-02T23:13:46.873Z              1   \n",
       "2                 MARK TWAIN  2025-06-02T23:13:46.947Z              2   \n",
       "3             APPLE IN CHINA   2025-06-02T23:13:47.02Z              1   \n",
       "4     THE ANXIOUS GENERATION  2025-06-02T23:13:47.093Z             61   \n",
       "...                      ...                       ...            ...   \n",
       "3035    FIFTY SHADES TRILOGY  2025-05-14T21:54:40.666Z              0   \n",
       "3036    THE MARRIAGE BARGAIN  2025-05-14T06:55:56.627Z              0   \n",
       "3037          THE LITIGATORS  2025-05-14T06:55:56.769Z              0   \n",
       "3038                BACKFIRE  2025-05-14T06:55:56.698Z              0   \n",
       "3039       PLAYING FOR KEEPS  2025-05-14T06:55:57.129Z              0   \n",
       "\n",
       "                       category published_date Unnamed: 0  \n",
       "0             Political Science     2025-06-08        NaN  \n",
       "1     Biography & Autobiography     2025-06-08        NaN  \n",
       "2     Biography & Autobiography     2025-06-08        NaN  \n",
       "3          Business & Economics     2025-06-08        NaN  \n",
       "4                    Psychology     2025-06-08        NaN  \n",
       "...                         ...            ...        ...  \n",
       "3035                        NaN     2012-08-12        NaN  \n",
       "3036                        NaN     2012-08-12        NaN  \n",
       "3037                        NaN     2012-08-12        NaN  \n",
       "3038                        NaN     2012-08-12        NaN  \n",
       "3039                        NaN     2012-08-12        NaN  \n",
       "\n",
       "[3040 rows x 29 columns]"
      ]
     },
     "execution_count": 4,
     "metadata": {},
     "output_type": "execute_result"
    }
   ],
   "source": [
    "df_cached"
   ]
  },
  {
   "cell_type": "markdown",
   "id": "2b0577e0",
   "metadata": {},
   "source": [
    "<!-- This is kind of interesting, but it doesn't show change over time. I've decided to use the NYT best sellers list, specifically non-fiction becuase I'm able to crossreference more specific categories from the Google Books API. The question becomes:\n",
    "\n",
    "**How have American tastes in non-fiction changed over time?** -->"
   ]
  },
  {
   "cell_type": "code",
   "execution_count": 5,
   "id": "20f57805",
   "metadata": {},
   "outputs": [
    {
     "name": "stdout",
     "output_type": "stream",
     "text": [
      "2025-06-15\n",
      "2025-06-15 15:54:33.322648\n",
      "pubdate: 2025-06-15\n"
     ]
    },
    {
     "data": {
      "text/plain": [
       "6"
      ]
     },
     "execution_count": 5,
     "metadata": {},
     "output_type": "execute_result"
    }
   ],
   "source": [
    "# Able to calculate date as loop through calls. Neet to remember to always call strftime.\n",
    "from datetime import datetime\n",
    "from datetime import timedelta, date\n",
    "import dateutil.relativedelta\n",
    "\n",
    "\n",
    "date = datetime.now()\n",
    "print(date.strftime(\"%Y-%m-%d\"))\n",
    "\n",
    "while (date.weekday() != 6):\n",
    "    date = date - timedelta(1)\n",
    "\n",
    "print(date)\n",
    "pub_date = date.strftime(\"%Y-%m-%d\")\n",
    "print(f\"pubdate: {pub_date}\")\n",
    "date.weekday()\n"
   ]
  },
  {
   "cell_type": "code",
   "execution_count": 6,
   "id": "6dc33f7f",
   "metadata": {},
   "outputs": [
    {
     "name": "stdout",
     "output_type": "stream",
     "text": [
      "isbn from cache\n"
     ]
    },
    {
     "data": {
      "text/plain": [
       "'Political Science'"
      ]
     },
     "execution_count": 6,
     "metadata": {},
     "output_type": "execute_result"
    }
   ],
   "source": [
    "# Be sure to test that this works before running the full pull! Google Books limits api at 1000 per day.\n",
    "\n",
    "\n",
    "def get_category(isbn):\n",
    "    if (len(isbn)==13):\n",
    "        # First, check cache\n",
    "        try:\n",
    "            category = df_cached[df_cached['primary_isbn13'] == isbn]['category'].iloc[0]\n",
    "            print('isbn from cache')\n",
    "            return category\n",
    "        \n",
    "        # If not in cache, call Google Books API\n",
    "        except:\n",
    "\n",
    "            response = requests.get(f'https://books.googleapis.com/books/v1/volumes?q=isbn%3A{isbn}&key={google_key}')\n",
    "            data = response.json()\n",
    "\n",
    "            if(response.status_code != 200):\n",
    "                print(response.status_code)\n",
    "                print(response.headers)\n",
    "\n",
    "            try:\n",
    "                category = data['items'][0]['volumeInfo']['categories'][0]\n",
    "                print('isbn from api')\n",
    "                return category\n",
    "            except:\n",
    "                category = data['items'][0]['volumeInfo']['categories']\n",
    "                print('isbn from api')\n",
    "                return category\n",
    "            finally:\n",
    "                return None\n",
    "\n",
    "# uncomment to test   \n",
    "get_category('9798217060672')"
   ]
  },
  {
   "cell_type": "code",
   "execution_count": 7,
   "id": "4adb01a9",
   "metadata": {},
   "outputs": [
    {
     "name": "stdout",
     "output_type": "stream",
     "text": [
      "2025-06-15\n",
      "nyt list from cache\n",
      "2025-05-11\n",
      "nyt list from cache\n",
      "2025-04-06\n",
      "nyt list from cache\n",
      "2025-03-02\n",
      "nyt list from cache\n",
      "2025-01-26\n",
      "nyt list from cache\n",
      "2024-12-22\n",
      "nyt list from cache\n",
      "2024-11-17\n",
      "nyt list from cache\n",
      "2024-10-13\n",
      "nyt list from cache\n",
      "2024-09-08\n",
      "nyt list from cache\n",
      "2024-08-04\n",
      "nyt list from cache\n",
      "2024-06-30\n",
      "nyt list from cache\n",
      "2024-05-26\n",
      "nyt list from cache\n",
      "2024-04-21\n",
      "nyt list from cache\n",
      "2024-03-17\n",
      "nyt list from cache\n",
      "2024-02-11\n",
      "nyt list from cache\n",
      "2024-01-07\n",
      "nyt list from cache\n",
      "2023-12-03\n",
      "nyt list from cache\n",
      "2023-10-29\n",
      "nyt list from cache\n",
      "2023-09-24\n",
      "nyt list from cache\n",
      "2023-08-20\n",
      "nyt list from cache\n",
      "2023-07-16\n",
      "nyt list from cache\n",
      "2023-06-11\n",
      "nyt list from cache\n",
      "2023-05-07\n",
      "nyt list from cache\n",
      "2023-04-02\n",
      "nyt list from cache\n",
      "2023-02-26\n",
      "nyt list from cache\n",
      "2023-01-22\n",
      "nyt list from cache\n",
      "2022-12-18\n",
      "nyt list from cache\n",
      "2022-11-13\n",
      "nyt list from cache\n",
      "2022-10-09\n",
      "nyt list from cache\n",
      "2022-09-04\n",
      "nyt list from cache\n",
      "2022-07-31\n",
      "nyt list from cache\n",
      "2022-06-26\n",
      "nyt list from cache\n",
      "2022-05-22\n",
      "nyt list from cache\n",
      "2022-04-17\n",
      "nyt list from cache\n",
      "2022-03-13\n",
      "nyt list from cache\n",
      "2022-02-06\n",
      "nyt list from cache\n",
      "2022-01-02\n",
      "nyt list from cache\n",
      "2021-11-28\n",
      "nyt list from cache\n",
      "2021-10-24\n",
      "nyt list from cache\n",
      "2021-09-19\n",
      "nyt list from cache\n",
      "2021-08-15\n",
      "nyt list from cache\n",
      "2021-07-11\n",
      "nyt list from cache\n",
      "2021-06-06\n",
      "nyt list from cache\n",
      "2021-05-02\n",
      "nyt list from cache\n",
      "2021-03-28\n",
      "nyt list from cache\n",
      "2021-02-21\n",
      "nyt list from cache\n",
      "2021-01-17\n",
      "nyt list from cache\n",
      "2020-12-13\n",
      "nyt list from cache\n",
      "2020-11-08\n",
      "nyt list from cache\n",
      "2020-10-04\n",
      "nyt list from cache\n",
      "2020-08-30\n",
      "nyt list from cache\n",
      "2020-07-26\n",
      "nyt list from cache\n",
      "2020-06-21\n",
      "nyt list from cache\n",
      "2020-05-17\n",
      "nyt list from cache\n",
      "2020-04-12\n",
      "nyt list from cache\n",
      "2020-03-08\n",
      "nyt list from cache\n",
      "2020-02-02\n",
      "nyt list from cache\n",
      "2019-12-29\n",
      "nyt list from cache\n",
      "2019-11-24\n",
      "nyt list from cache\n",
      "2019-10-20\n",
      "nyt list from cache\n",
      "2019-09-15\n",
      "nyt list from cache\n",
      "2019-08-11\n",
      "nyt list from cache\n",
      "2019-07-07\n",
      "nyt list from cache\n",
      "2019-06-02\n",
      "nyt list from cache\n",
      "2019-04-28\n",
      "nyt list from cache\n",
      "2019-03-24\n",
      "nyt list from cache\n",
      "2019-02-17\n",
      "nyt list from cache\n",
      "2019-01-13\n",
      "nyt list from cache\n",
      "2018-12-09\n",
      "nyt list from cache\n",
      "2018-11-04\n",
      "nyt list from cache\n",
      "2018-09-30\n",
      "nyt list from cache\n",
      "2018-08-26\n",
      "nyt list from cache\n",
      "2018-07-22\n",
      "nyt list from cache\n",
      "2018-06-17\n",
      "nyt list from cache\n",
      "2018-05-13\n",
      "nyt list from cache\n",
      "2018-04-08\n",
      "nyt list from cache\n",
      "2018-03-04\n",
      "nyt list from cache\n",
      "2018-01-28\n",
      "nyt list from cache\n",
      "2017-12-24\n",
      "nyt list from cache\n",
      "2017-11-19\n",
      "nyt list from cache\n",
      "2017-10-15\n",
      "nyt list from cache\n",
      "2017-09-10\n",
      "nyt list from cache\n",
      "2017-08-06\n",
      "nyt list from cache\n",
      "2017-07-02\n",
      "nyt list from cache\n",
      "2017-05-28\n",
      "nyt list from cache\n",
      "2017-04-23\n",
      "nyt list from cache\n",
      "2017-03-19\n",
      "nyt list from cache\n",
      "2017-02-12\n",
      "nyt list from cache\n",
      "2017-01-08\n",
      "nyt list from cache\n",
      "2016-12-04\n",
      "nyt list from cache\n",
      "2016-10-30\n",
      "nyt list from cache\n",
      "2016-09-25\n",
      "nyt list from cache\n",
      "2016-08-21\n",
      "nyt list from cache\n",
      "2016-07-17\n",
      "nyt list from cache\n",
      "2016-06-12\n",
      "nyt list from cache\n",
      "2016-05-08\n",
      "nyt list from cache\n",
      "2016-04-03\n",
      "nyt list from cache\n",
      "2016-02-28\n",
      "nyt list from cache\n",
      "2016-01-24\n",
      "nyt list from cache\n",
      "2015-12-20\n",
      "nyt list from cache\n",
      "2015-11-15\n",
      "nyt list from cache\n",
      "2015-10-11\n",
      "nyt list from cache\n",
      "2015-09-06\n",
      "nyt list from cache\n",
      "2015-08-02\n",
      "nyt list from cache\n",
      "2015-06-28\n",
      "nyt list from cache\n",
      "2015-05-24\n",
      "nyt list from cache\n",
      "2015-04-19\n",
      "nyt list from cache\n",
      "2015-03-15\n",
      "nyt list from cache\n",
      "2015-02-08\n",
      "nyt list from cache\n",
      "2015-01-04\n",
      "nyt list from cache\n",
      "2014-11-30\n",
      "nyt list from cache\n",
      "2014-10-26\n",
      "nyt list from cache\n",
      "2014-09-21\n",
      "nyt list from cache\n",
      "2014-08-17\n",
      "nyt list from cache\n",
      "2014-07-13\n",
      "nyt list from cache\n",
      "2014-06-08\n",
      "nyt list from cache\n",
      "2014-05-04\n",
      "nyt list from cache\n",
      "2014-03-30\n",
      "nyt list from cache\n",
      "2014-02-23\n",
      "nyt list from cache\n",
      "2014-01-19\n",
      "nyt list from cache\n",
      "2013-12-15\n",
      "nyt list from cache\n",
      "2013-11-10\n",
      "nyt list from cache\n",
      "2013-10-06\n",
      "nyt list from cache\n",
      "2013-09-01\n",
      "nyt list from cache\n",
      "2013-07-28\n",
      "nyt list from cache\n",
      "2013-06-23\n",
      "nyt list from cache\n",
      "2013-05-19\n",
      "nyt list from cache\n",
      "2013-04-14\n",
      "nyt list from cache\n",
      "2013-03-10\n",
      "nyt list from cache\n",
      "2013-02-03\n",
      "nyt list from cache\n",
      "2012-12-30\n",
      "nyt list from cache\n",
      "2012-11-25\n",
      "nyt list from cache\n",
      "2012-10-21\n",
      "nyt list from cache\n",
      "2012-09-16\n",
      "nyt list from cache\n",
      "2012-08-12\n",
      "nyt list from cache\n",
      "2012-07-08\n",
      "nyt list from api\n",
      "500\n",
      "{'Date': 'Sun, 15 Jun 2025 19:54:33 GMT', 'Content-Type': 'application/json; charset=utf-8', 'Content-Length': '136', 'Connection': 'keep-alive', 'cache-control': 'max-age=300', 'x-cloud-trace-context': '00000000000000002a4f74e599cce461', 'Server': 'Google Frontend', 'Via': '1.1 google, 1.1 varnish', 'Fastly-Restarts': '1', 'Accept-Ranges': 'bytes', 'X-Served-By': 'cache-iad-kiad7000052-IAD', 'X-Cache': 'MISS', 'X-Cache-Hits': '0', 'X-Timer': 'S1750017272.248873,VS0,VE982', 'x-nyt-mktg-group': 'group1', 'Access-Control-Allow-Origin': '*', 'Access-Control-Allow-Headers': 'Accept, Content-Type, X-Forwarded-For, X-Prototype-Version, X-Requested-With', 'Access-Control-Expose-Headers': 'Content-Length, X-JSON', 'Access-Control-Allow-Methods': 'GET, OPTIONS', 'Strict-Transport-Security': 'max-age=63072000; preload; includeSubdomains'}\n"
     ]
    },
    {
     "ename": "KeyError",
     "evalue": "'results'",
     "output_type": "error",
     "traceback": [
      "\u001b[1;31m---------------------------------------------------------------------------\u001b[0m",
      "\u001b[1;31mKeyError\u001b[0m                                  Traceback (most recent call last)",
      "Cell \u001b[1;32mIn[7], line 29\u001b[0m\n\u001b[0;32m     27\u001b[0m     \u001b[38;5;28mprint\u001b[39m(response\u001b[38;5;241m.\u001b[39mstatus_code)\n\u001b[0;32m     28\u001b[0m     \u001b[38;5;28mprint\u001b[39m(response\u001b[38;5;241m.\u001b[39mheaders)\n\u001b[1;32m---> 29\u001b[0m data \u001b[38;5;241m=\u001b[39m \u001b[43mresponse\u001b[49m\u001b[38;5;241;43m.\u001b[39;49m\u001b[43mjson\u001b[49m\u001b[43m(\u001b[49m\u001b[43m)\u001b[49m\u001b[43m[\u001b[49m\u001b[38;5;124;43m'\u001b[39;49m\u001b[38;5;124;43mresults\u001b[39;49m\u001b[38;5;124;43m'\u001b[39;49m\u001b[43m]\u001b[49m\n\u001b[0;32m     31\u001b[0m nf_combined\u001b[38;5;241m=\u001b[39mdata[\u001b[38;5;124m'\u001b[39m\u001b[38;5;124mlists\u001b[39m\u001b[38;5;124m'\u001b[39m][\u001b[38;5;241m1\u001b[39m][\u001b[38;5;124m'\u001b[39m\u001b[38;5;124mbooks\u001b[39m\u001b[38;5;124m'\u001b[39m]\n\u001b[0;32m     33\u001b[0m df \u001b[38;5;241m=\u001b[39m pd\u001b[38;5;241m.\u001b[39mDataFrame(nf_combined)\n",
      "\u001b[1;31mKeyError\u001b[0m: 'results'"
     ]
    }
   ],
   "source": [
    "# Get NYT\n",
    "\n",
    "dfs = []\n",
    "\n",
    "weeks = 520\n",
    "time_interval = 30\n",
    "\n",
    "# start_date = '03/28/2025'\n",
    "# start_date = datetime.strptime(start_date, '%m%d,%y')\n",
    "\n",
    "# pub_date = start_date\n",
    "\n",
    "for week in range(1,weeks+1):\n",
    "    print(pub_date)\n",
    "     # First, check cache\n",
    "    if (df_cached[df_cached['published_date']==pub_date].shape[0] > 1):\n",
    "            df = df_cached[df_cached['published_date']==pub_date]\n",
    "            print('nyt list from cache')\n",
    "            \n",
    "    \n",
    "    # If not in cache, call Google Books API\n",
    "    else:\n",
    "        response = requests.get(f'https://api.nytimes.com/svc/books/v3/lists/overview.json?api-key={nyt_key}&published-date={pub_date}')\n",
    "        print('nyt list from api')\n",
    "\n",
    "        if(response.status_code != 200):\n",
    "            print(response.status_code)\n",
    "            print(response.headers)\n",
    "        data = response.json()['results']\n",
    "\n",
    "        nf_combined=data['lists'][1]['books']\n",
    "\n",
    "        df = pd.DataFrame(nf_combined)\n",
    "\n",
    "\n",
    "        # Add categories by calling Google Books API\n",
    "        df['category'] = df['primary_isbn13'].apply(get_category)\n",
    "        df['published_date'] = data['published_date']\n",
    "\n",
    "        # NYT API call limit of 5 per minute, 400 per day.\n",
    "        time.sleep(12)\n",
    "\n",
    "    dfs.append(df)\n",
    "\n",
    "    date = (date - timedelta(time_interval))\n",
    "    while (date.weekday() != 6):\n",
    "        date = date - timedelta(1)\n",
    "    pub_date = date.strftime(\"%Y-%m-%d\")\n",
    "\n"
   ]
  },
  {
   "cell_type": "code",
   "execution_count": 8,
   "id": "4b157a3d",
   "metadata": {},
   "outputs": [
    {
     "data": {
      "application/vnd.microsoft.datawrangler.viewer.v0+json": {
       "columns": [
        {
         "name": "index",
         "rawType": "int64",
         "type": "integer"
        },
        {
         "name": "category",
         "rawType": "object",
         "type": "string"
        }
       ],
       "ref": "c69353fc-0574-407f-96ce-d83f6ae35058",
       "rows": [
        [
         "915",
         "political science"
        ],
        [
         "916",
         "psychology"
        ],
        [
         "917",
         "medical"
        ],
        [
         "918",
         "biography & autobiography"
        ],
        [
         "919",
         "business & economics"
        ],
        [
         "920",
         "business & economics"
        ],
        [
         "921",
         "history"
        ],
        [
         "922",
         "biography & autobiography"
        ],
        [
         "923",
         "biography & autobiography"
        ],
        [
         "924",
         "political science"
        ],
        [
         "925",
         "social science"
        ],
        [
         "926",
         "biography & autobiography"
        ],
        [
         "927",
         "biography & autobiography"
        ],
        [
         "928",
         "technology & engineering"
        ],
        [
         "929",
         "true crime"
        ],
        [
         "15",
         "biography & autobiography"
        ],
        [
         "16",
         "business & economics"
        ],
        [
         "17",
         "social science"
        ],
        [
         "18",
         "literary collections"
        ],
        [
         "19",
         "religion"
        ],
        [
         "20",
         "psychology"
        ],
        [
         "21",
         "political science"
        ],
        [
         "22",
         "medical"
        ],
        [
         "23",
         "political science"
        ],
        [
         "24",
         "history"
        ],
        [
         "25",
         "political science"
        ],
        [
         "26",
         "political science"
        ],
        [
         "27",
         "biography & autobiography"
        ],
        [
         "28",
         "biography & autobiography"
        ],
        [
         "29",
         "nature"
        ],
        [
         "930",
         "social science"
        ],
        [
         "931",
         "business & economics"
        ],
        [
         "932",
         "biography & autobiography"
        ],
        [
         "933",
         "biography & autobiography"
        ],
        [
         "934",
         "biography & autobiography"
        ],
        [
         "935",
         "political science"
        ],
        [
         "936",
         "psychology"
        ],
        [
         "937",
         "political science"
        ],
        [
         "938",
         "biography & autobiography"
        ],
        [
         "939",
         "medical"
        ],
        [
         "940",
         "true crime"
        ],
        [
         "941",
         "history"
        ],
        [
         "942",
         "biography & autobiography"
        ],
        [
         "943",
         "health & fitness"
        ],
        [
         "944",
         "nature"
        ],
        [
         "945",
         "health & fitness"
        ],
        [
         "946",
         "political science"
        ],
        [
         "947",
         "psychology"
        ],
        [
         "948",
         "biography & autobiography"
        ],
        [
         "949",
         "medical"
        ]
       ],
       "shape": {
        "columns": 1,
        "rows": 1837
       }
      },
      "text/plain": [
       "915             political science\n",
       "916                    psychology\n",
       "917                       medical\n",
       "918     biography & autobiography\n",
       "919          business & economics\n",
       "                  ...            \n",
       "2956                      fiction\n",
       "2960                      fiction\n",
       "2976                      fiction\n",
       "2990                      fiction\n",
       "2999                      fiction\n",
       "Name: category, Length: 1837, dtype: object"
      ]
     },
     "execution_count": 8,
     "metadata": {},
     "output_type": "execute_result"
    }
   ],
   "source": [
    "df = pd.concat(dfs)\n",
    "df.dropna(subset='category', inplace=True)\n",
    "df['category']=df['category'].str.lower()\n",
    "\n",
    "df['category']\n",
    "\n",
    "# df.to_csv('year_sample.csv', index=False)"
   ]
  },
  {
   "cell_type": "code",
   "execution_count": null,
   "id": "fd61b716",
   "metadata": {},
   "outputs": [],
   "source": [
    "# def cut_strings(x):\n",
    "#     if (type(x) == str):\n",
    "#         new_string = x.replace(\"['\",'')\n",
    "#         new_string = new_string.replace(\"']\",'')\n",
    "#         return new_string\n",
    "\n",
    "# df['category'] = df['category'].apply(cut_strings)\n",
    "# df_cached['category'] = df_cached['category'].apply(cut_strings)"
   ]
  },
  {
   "cell_type": "code",
   "execution_count": 9,
   "id": "baa40151",
   "metadata": {},
   "outputs": [],
   "source": [
    "# Combine current df with cached\n",
    "df_cached = pd.concat([df_cached,df])\n",
    "\n",
    "try:\n",
    "    df_cached.drop(axis='columns', columns=['buy_links','isbns'], inplace=True)\n",
    "except:\n",
    "    pass\n",
    "\n",
    "\n",
    "df_cached.drop_duplicates(subset=['published_date','primary_isbn13'], inplace=True)\n",
    "df_cached.to_csv('df_cached.csv', index=False)\n"
   ]
  },
  {
   "cell_type": "code",
   "execution_count": null,
   "id": "d6efa0a4",
   "metadata": {},
   "outputs": [
    {
     "data": {
      "application/vnd.microsoft.datawrangler.viewer.v0+json": {
       "columns": [
        {
         "name": "title",
         "rawType": "object",
         "type": "string"
        },
        {
         "name": "count",
         "rawType": "int64",
         "type": "integer"
        }
       ],
       "ref": "5f30126a-fea2-4a86-b457-ad91e5237200",
       "rows": [
        [
         "THE BODY KEEPS THE SCORE",
         "52"
        ],
        [
         "EDUCATED",
         "28"
        ],
        [
         "THE BOYS IN THE BOAT",
         "26"
        ],
        [
         "KILLERS OF THE FLOWER MOON",
         "26"
        ],
        [
         "HILLBILLY ELEGY",
         "24"
        ],
        [
         "SAPIENS",
         "24"
        ],
        [
         "BECOMING",
         "22"
        ],
        [
         "BRAIDING SWEETGRASS",
         "20"
        ],
        [
         "OUTLIVE",
         "19"
        ],
        [
         "BETWEEN THE WORLD AND ME",
         "18"
        ],
        [
         "BORN A CRIME",
         "17"
        ],
        [
         "GREENLIGHTS",
         "17"
        ],
        [
         "UNTAMED",
         "17"
        ],
        [
         "THE WAGER",
         "15"
        ],
        [
         "WHEN BREATH BECOMES AIR",
         "15"
        ],
        [
         "ALEXANDER HAMILTON",
         "14"
        ],
        [
         "CRYING IN H MART",
         "14"
        ],
        [
         "BEING MORTAL",
         "14"
        ],
        [
         "ASTROPHYSICS FOR PEOPLE IN A HURRY",
         "13"
        ],
        [
         "WILD",
         "13"
        ],
        [
         "THE ANXIOUS GENERATION",
         "13"
        ],
        [
         "CASTE",
         "13"
        ],
        [
         "I'M GLAD MY MOM DIED",
         "13"
        ],
        [
         "UNBROKEN",
         "12"
        ],
        [
         "ALL ABOUT LOVE",
         "12"
        ],
        [
         "ON TYRANNY",
         "11"
        ],
        [
         "JUST MERCY",
         "9"
        ],
        [
         "DEAD WAKE",
         "9"
        ],
        [
         "I AM MALALA",
         "9"
        ],
        [
         "THINK AGAIN",
         "8"
        ],
        [
         "BAD BLOOD",
         "8"
        ],
        [
         "THE WRIGHT BROTHERS",
         "8"
        ],
        [
         "HAMILTON: THE REVOLUTION",
         "8"
        ],
        [
         "THE SPLENDID AND THE VILE",
         "8"
        ],
        [
         "TALKING TO STRANGERS",
         "7"
        ],
        [
         "THE LIGHT WE CARRY",
         "7"
        ],
        [
         "HOW TO BE AN ANTIRACIST",
         "7"
        ],
        [
         "THE DEMON OF UNREST",
         "7"
        ],
        [
         "FINDING ME",
         "7"
        ],
        [
         "THE STORYTELLER",
         "7"
        ],
        [
         "FRIENDS, LOVERS, AND THE BIG TERRIBLE THING",
         "6"
        ],
        [
         "YES PLEASE",
         "6"
        ],
        [
         "KILLING THE RISING SUN",
         "6"
        ],
        [
         "MAYBE YOU SHOULD TALK TO SOMEONE",
         "6"
        ],
        [
         "THE MAGNOLIA STORY",
         "6"
        ],
        [
         "AMERICAN SNIPER",
         "6"
        ],
        [
         "ORANGE IS THE NEW BLACK",
         "5"
        ],
        [
         "ELON MUSK",
         "5"
        ],
        [
         "WHITE FRAGILITY",
         "5"
        ],
        [
         "THOMAS JEFFERSON AND THE TRIPOLI PIRATES",
         "5"
        ]
       ],
       "shape": {
        "columns": 1,
        "rows": 890
       }
      },
      "text/plain": [
       "title\n",
       "THE BODY KEEPS THE SCORE      52\n",
       "EDUCATED                      28\n",
       "THE BOYS IN THE BOAT          26\n",
       "KILLERS OF THE FLOWER MOON    26\n",
       "HILLBILLY ELEGY               24\n",
       "                              ..\n",
       "THE ROUND HOUSE                1\n",
       "THE PERFECT HOPE               1\n",
       "THE SINS OF THE MOTHER         1\n",
       "A WANTED MAN                   1\n",
       "EMPIRE OF AI                   1\n",
       "Name: count, Length: 890, dtype: int64"
      ]
     },
     "execution_count": 382,
     "metadata": {},
     "output_type": "execute_result"
    }
   ],
   "source": [
    "df['title'].value_counts()\n"
   ]
  },
  {
   "cell_type": "code",
   "execution_count": 14,
   "id": "7c307f34",
   "metadata": {},
   "outputs": [],
   "source": [
    "top10_cat = df['category'].value_counts().reset_index().head(10)\n"
   ]
  },
  {
   "cell_type": "code",
   "execution_count": 15,
   "id": "c4379ab3",
   "metadata": {},
   "outputs": [
    {
     "data": {
      "application/vnd.plotly.v1+json": {
       "config": {
        "plotlyServerURL": "https://plot.ly"
       },
       "data": [
        {
         "hovertemplate": "category=%{x}<br>count=%{y}<extra></extra>",
         "legendgroup": "",
         "marker": {
          "color": "#636efa",
          "pattern": {
           "shape": ""
          }
         },
         "name": "",
         "orientation": "v",
         "showlegend": false,
         "textposition": "auto",
         "type": "bar",
         "x": [
          "biography & autobiography",
          "history",
          "political science",
          "social science",
          "true crime",
          "science",
          "business & economics",
          "medical",
          "nature",
          "psychology"
         ],
         "xaxis": "x",
         "y": {
          "bdata": "KQPNAJoAUgBFAEAANwA0ACUAIwA=",
          "dtype": "i2"
         },
         "yaxis": "y"
        }
       ],
       "layout": {
        "barmode": "relative",
        "legend": {
         "tracegroupgap": 0
        },
        "margin": {
         "t": 60
        },
        "template": {
         "data": {
          "bar": [
           {
            "error_x": {
             "color": "#2a3f5f"
            },
            "error_y": {
             "color": "#2a3f5f"
            },
            "marker": {
             "line": {
              "color": "#E5ECF6",
              "width": 0.5
             },
             "pattern": {
              "fillmode": "overlay",
              "size": 10,
              "solidity": 0.2
             }
            },
            "type": "bar"
           }
          ],
          "barpolar": [
           {
            "marker": {
             "line": {
              "color": "#E5ECF6",
              "width": 0.5
             },
             "pattern": {
              "fillmode": "overlay",
              "size": 10,
              "solidity": 0.2
             }
            },
            "type": "barpolar"
           }
          ],
          "carpet": [
           {
            "aaxis": {
             "endlinecolor": "#2a3f5f",
             "gridcolor": "white",
             "linecolor": "white",
             "minorgridcolor": "white",
             "startlinecolor": "#2a3f5f"
            },
            "baxis": {
             "endlinecolor": "#2a3f5f",
             "gridcolor": "white",
             "linecolor": "white",
             "minorgridcolor": "white",
             "startlinecolor": "#2a3f5f"
            },
            "type": "carpet"
           }
          ],
          "choropleth": [
           {
            "colorbar": {
             "outlinewidth": 0,
             "ticks": ""
            },
            "type": "choropleth"
           }
          ],
          "contour": [
           {
            "colorbar": {
             "outlinewidth": 0,
             "ticks": ""
            },
            "colorscale": [
             [
              0,
              "#0d0887"
             ],
             [
              0.1111111111111111,
              "#46039f"
             ],
             [
              0.2222222222222222,
              "#7201a8"
             ],
             [
              0.3333333333333333,
              "#9c179e"
             ],
             [
              0.4444444444444444,
              "#bd3786"
             ],
             [
              0.5555555555555556,
              "#d8576b"
             ],
             [
              0.6666666666666666,
              "#ed7953"
             ],
             [
              0.7777777777777778,
              "#fb9f3a"
             ],
             [
              0.8888888888888888,
              "#fdca26"
             ],
             [
              1,
              "#f0f921"
             ]
            ],
            "type": "contour"
           }
          ],
          "contourcarpet": [
           {
            "colorbar": {
             "outlinewidth": 0,
             "ticks": ""
            },
            "type": "contourcarpet"
           }
          ],
          "heatmap": [
           {
            "colorbar": {
             "outlinewidth": 0,
             "ticks": ""
            },
            "colorscale": [
             [
              0,
              "#0d0887"
             ],
             [
              0.1111111111111111,
              "#46039f"
             ],
             [
              0.2222222222222222,
              "#7201a8"
             ],
             [
              0.3333333333333333,
              "#9c179e"
             ],
             [
              0.4444444444444444,
              "#bd3786"
             ],
             [
              0.5555555555555556,
              "#d8576b"
             ],
             [
              0.6666666666666666,
              "#ed7953"
             ],
             [
              0.7777777777777778,
              "#fb9f3a"
             ],
             [
              0.8888888888888888,
              "#fdca26"
             ],
             [
              1,
              "#f0f921"
             ]
            ],
            "type": "heatmap"
           }
          ],
          "histogram": [
           {
            "marker": {
             "pattern": {
              "fillmode": "overlay",
              "size": 10,
              "solidity": 0.2
             }
            },
            "type": "histogram"
           }
          ],
          "histogram2d": [
           {
            "colorbar": {
             "outlinewidth": 0,
             "ticks": ""
            },
            "colorscale": [
             [
              0,
              "#0d0887"
             ],
             [
              0.1111111111111111,
              "#46039f"
             ],
             [
              0.2222222222222222,
              "#7201a8"
             ],
             [
              0.3333333333333333,
              "#9c179e"
             ],
             [
              0.4444444444444444,
              "#bd3786"
             ],
             [
              0.5555555555555556,
              "#d8576b"
             ],
             [
              0.6666666666666666,
              "#ed7953"
             ],
             [
              0.7777777777777778,
              "#fb9f3a"
             ],
             [
              0.8888888888888888,
              "#fdca26"
             ],
             [
              1,
              "#f0f921"
             ]
            ],
            "type": "histogram2d"
           }
          ],
          "histogram2dcontour": [
           {
            "colorbar": {
             "outlinewidth": 0,
             "ticks": ""
            },
            "colorscale": [
             [
              0,
              "#0d0887"
             ],
             [
              0.1111111111111111,
              "#46039f"
             ],
             [
              0.2222222222222222,
              "#7201a8"
             ],
             [
              0.3333333333333333,
              "#9c179e"
             ],
             [
              0.4444444444444444,
              "#bd3786"
             ],
             [
              0.5555555555555556,
              "#d8576b"
             ],
             [
              0.6666666666666666,
              "#ed7953"
             ],
             [
              0.7777777777777778,
              "#fb9f3a"
             ],
             [
              0.8888888888888888,
              "#fdca26"
             ],
             [
              1,
              "#f0f921"
             ]
            ],
            "type": "histogram2dcontour"
           }
          ],
          "mesh3d": [
           {
            "colorbar": {
             "outlinewidth": 0,
             "ticks": ""
            },
            "type": "mesh3d"
           }
          ],
          "parcoords": [
           {
            "line": {
             "colorbar": {
              "outlinewidth": 0,
              "ticks": ""
             }
            },
            "type": "parcoords"
           }
          ],
          "pie": [
           {
            "automargin": true,
            "type": "pie"
           }
          ],
          "scatter": [
           {
            "fillpattern": {
             "fillmode": "overlay",
             "size": 10,
             "solidity": 0.2
            },
            "type": "scatter"
           }
          ],
          "scatter3d": [
           {
            "line": {
             "colorbar": {
              "outlinewidth": 0,
              "ticks": ""
             }
            },
            "marker": {
             "colorbar": {
              "outlinewidth": 0,
              "ticks": ""
             }
            },
            "type": "scatter3d"
           }
          ],
          "scattercarpet": [
           {
            "marker": {
             "colorbar": {
              "outlinewidth": 0,
              "ticks": ""
             }
            },
            "type": "scattercarpet"
           }
          ],
          "scattergeo": [
           {
            "marker": {
             "colorbar": {
              "outlinewidth": 0,
              "ticks": ""
             }
            },
            "type": "scattergeo"
           }
          ],
          "scattergl": [
           {
            "marker": {
             "colorbar": {
              "outlinewidth": 0,
              "ticks": ""
             }
            },
            "type": "scattergl"
           }
          ],
          "scattermap": [
           {
            "marker": {
             "colorbar": {
              "outlinewidth": 0,
              "ticks": ""
             }
            },
            "type": "scattermap"
           }
          ],
          "scattermapbox": [
           {
            "marker": {
             "colorbar": {
              "outlinewidth": 0,
              "ticks": ""
             }
            },
            "type": "scattermapbox"
           }
          ],
          "scatterpolar": [
           {
            "marker": {
             "colorbar": {
              "outlinewidth": 0,
              "ticks": ""
             }
            },
            "type": "scatterpolar"
           }
          ],
          "scatterpolargl": [
           {
            "marker": {
             "colorbar": {
              "outlinewidth": 0,
              "ticks": ""
             }
            },
            "type": "scatterpolargl"
           }
          ],
          "scatterternary": [
           {
            "marker": {
             "colorbar": {
              "outlinewidth": 0,
              "ticks": ""
             }
            },
            "type": "scatterternary"
           }
          ],
          "surface": [
           {
            "colorbar": {
             "outlinewidth": 0,
             "ticks": ""
            },
            "colorscale": [
             [
              0,
              "#0d0887"
             ],
             [
              0.1111111111111111,
              "#46039f"
             ],
             [
              0.2222222222222222,
              "#7201a8"
             ],
             [
              0.3333333333333333,
              "#9c179e"
             ],
             [
              0.4444444444444444,
              "#bd3786"
             ],
             [
              0.5555555555555556,
              "#d8576b"
             ],
             [
              0.6666666666666666,
              "#ed7953"
             ],
             [
              0.7777777777777778,
              "#fb9f3a"
             ],
             [
              0.8888888888888888,
              "#fdca26"
             ],
             [
              1,
              "#f0f921"
             ]
            ],
            "type": "surface"
           }
          ],
          "table": [
           {
            "cells": {
             "fill": {
              "color": "#EBF0F8"
             },
             "line": {
              "color": "white"
             }
            },
            "header": {
             "fill": {
              "color": "#C8D4E3"
             },
             "line": {
              "color": "white"
             }
            },
            "type": "table"
           }
          ]
         },
         "layout": {
          "annotationdefaults": {
           "arrowcolor": "#2a3f5f",
           "arrowhead": 0,
           "arrowwidth": 1
          },
          "autotypenumbers": "strict",
          "coloraxis": {
           "colorbar": {
            "outlinewidth": 0,
            "ticks": ""
           }
          },
          "colorscale": {
           "diverging": [
            [
             0,
             "#8e0152"
            ],
            [
             0.1,
             "#c51b7d"
            ],
            [
             0.2,
             "#de77ae"
            ],
            [
             0.3,
             "#f1b6da"
            ],
            [
             0.4,
             "#fde0ef"
            ],
            [
             0.5,
             "#f7f7f7"
            ],
            [
             0.6,
             "#e6f5d0"
            ],
            [
             0.7,
             "#b8e186"
            ],
            [
             0.8,
             "#7fbc41"
            ],
            [
             0.9,
             "#4d9221"
            ],
            [
             1,
             "#276419"
            ]
           ],
           "sequential": [
            [
             0,
             "#0d0887"
            ],
            [
             0.1111111111111111,
             "#46039f"
            ],
            [
             0.2222222222222222,
             "#7201a8"
            ],
            [
             0.3333333333333333,
             "#9c179e"
            ],
            [
             0.4444444444444444,
             "#bd3786"
            ],
            [
             0.5555555555555556,
             "#d8576b"
            ],
            [
             0.6666666666666666,
             "#ed7953"
            ],
            [
             0.7777777777777778,
             "#fb9f3a"
            ],
            [
             0.8888888888888888,
             "#fdca26"
            ],
            [
             1,
             "#f0f921"
            ]
           ],
           "sequentialminus": [
            [
             0,
             "#0d0887"
            ],
            [
             0.1111111111111111,
             "#46039f"
            ],
            [
             0.2222222222222222,
             "#7201a8"
            ],
            [
             0.3333333333333333,
             "#9c179e"
            ],
            [
             0.4444444444444444,
             "#bd3786"
            ],
            [
             0.5555555555555556,
             "#d8576b"
            ],
            [
             0.6666666666666666,
             "#ed7953"
            ],
            [
             0.7777777777777778,
             "#fb9f3a"
            ],
            [
             0.8888888888888888,
             "#fdca26"
            ],
            [
             1,
             "#f0f921"
            ]
           ]
          },
          "colorway": [
           "#636efa",
           "#EF553B",
           "#00cc96",
           "#ab63fa",
           "#FFA15A",
           "#19d3f3",
           "#FF6692",
           "#B6E880",
           "#FF97FF",
           "#FECB52"
          ],
          "font": {
           "color": "#2a3f5f"
          },
          "geo": {
           "bgcolor": "white",
           "lakecolor": "white",
           "landcolor": "#E5ECF6",
           "showlakes": true,
           "showland": true,
           "subunitcolor": "white"
          },
          "hoverlabel": {
           "align": "left"
          },
          "hovermode": "closest",
          "mapbox": {
           "style": "light"
          },
          "paper_bgcolor": "white",
          "plot_bgcolor": "#E5ECF6",
          "polar": {
           "angularaxis": {
            "gridcolor": "white",
            "linecolor": "white",
            "ticks": ""
           },
           "bgcolor": "#E5ECF6",
           "radialaxis": {
            "gridcolor": "white",
            "linecolor": "white",
            "ticks": ""
           }
          },
          "scene": {
           "xaxis": {
            "backgroundcolor": "#E5ECF6",
            "gridcolor": "white",
            "gridwidth": 2,
            "linecolor": "white",
            "showbackground": true,
            "ticks": "",
            "zerolinecolor": "white"
           },
           "yaxis": {
            "backgroundcolor": "#E5ECF6",
            "gridcolor": "white",
            "gridwidth": 2,
            "linecolor": "white",
            "showbackground": true,
            "ticks": "",
            "zerolinecolor": "white"
           },
           "zaxis": {
            "backgroundcolor": "#E5ECF6",
            "gridcolor": "white",
            "gridwidth": 2,
            "linecolor": "white",
            "showbackground": true,
            "ticks": "",
            "zerolinecolor": "white"
           }
          },
          "shapedefaults": {
           "line": {
            "color": "#2a3f5f"
           }
          },
          "ternary": {
           "aaxis": {
            "gridcolor": "white",
            "linecolor": "white",
            "ticks": ""
           },
           "baxis": {
            "gridcolor": "white",
            "linecolor": "white",
            "ticks": ""
           },
           "bgcolor": "#E5ECF6",
           "caxis": {
            "gridcolor": "white",
            "linecolor": "white",
            "ticks": ""
           }
          },
          "title": {
           "x": 0.05
          },
          "xaxis": {
           "automargin": true,
           "gridcolor": "white",
           "linecolor": "white",
           "ticks": "",
           "title": {
            "standoff": 15
           },
           "zerolinecolor": "white",
           "zerolinewidth": 2
          },
          "yaxis": {
           "automargin": true,
           "gridcolor": "white",
           "linecolor": "white",
           "ticks": "",
           "title": {
            "standoff": 15
           },
           "zerolinecolor": "white",
           "zerolinewidth": 2
          }
         }
        },
        "xaxis": {
         "anchor": "y",
         "domain": [
          0,
          1
         ],
         "title": {
          "text": "category"
         }
        },
        "yaxis": {
         "anchor": "x",
         "domain": [
          0,
          1
         ],
         "title": {
          "text": "count"
         }
        }
       }
      }
     },
     "metadata": {},
     "output_type": "display_data"
    }
   ],
   "source": [
    "fig = px.bar(top10_cat, x = 'category', y = 'count')\n",
    "fig.show()"
   ]
  },
  {
   "cell_type": "code",
   "execution_count": 16,
   "id": "e5d291f7",
   "metadata": {},
   "outputs": [
    {
     "data": {
      "application/vnd.plotly.v1+json": {
       "config": {
        "plotlyServerURL": "https://plot.ly"
       },
       "data": [
        {
         "customdata": [
          [
           "ORIGINAL SIN"
          ],
          [
           "ON TYRANNY"
          ],
          [
           "ON TYRANNY"
          ],
          [
           "WHO IS GOVERNMENT?"
          ],
          [
           "THE PROJECT"
          ],
          [
           "GENOCIDE BAD"
          ],
          [
           "WHO IS GOVERNMENT?"
          ],
          [
           "ON TYRANNY"
          ],
          [
           "ON TYRANNY"
          ],
          [
           "THE SIRENS' CALL"
          ],
          [
           "ON TYRANNY"
          ],
          [
           "ON TYRANNY"
          ],
          [
           "TRUTHS"
          ],
          [
           "SHAMELESS"
          ],
          [
           "NO GOING BACK"
          ],
          [
           "GET IT TOGETHER"
          ],
          [
           "ATTACK FROM WITHIN"
          ],
          [
           "WHITE RURAL RAGE"
          ],
          [
           "THE KINGDOM, THE POWER, AND THE GLORY"
          ],
          [
           "PREQUEL"
          ],
          [
           "TIRED OF WINNING"
          ],
          [
           "PREQUEL"
          ],
          [
           "UNWOKE"
          ],
          [
           "THE DEMOCRAT PARTY HATES AMERICA"
          ],
          [
           "THE LAST POLITICIAN"
          ],
          [
           "IT'S OK TO BE ANGRY ABOUT CAPITALISM"
          ],
          [
           "JUSTICE CORRUPTED"
          ],
          [
           "CONFIDENCE MAN"
          ],
          [
           "HOLDING THE LINE"
          ],
          [
           "THANK YOU FOR YOUR SERVITUDE"
          ],
          [
           "THEY WANT TO KILL AMERICANS"
          ],
          [
           "WHY WE DID IT"
          ],
          [
           "BATTLING THE BIG LIE"
          ],
          [
           "RED-HANDED"
          ],
          [
           "THE DYING CITIZEN"
          ],
          [
           "AMERICAN MARXISM"
          ],
          [
           "ON TYRANNY"
          ],
          [
           "AMERICAN MARXISM"
          ],
          [
           "AMERICAN MARXISM"
          ],
          [
           "I ALONE CAN FIX IT"
          ],
          [
           "THE PREMONITION"
          ],
          [
           "ZERO FAIL"
          ],
          [
           "THE PREMONITION"
          ],
          [
           "UNMASKED"
          ],
          [
           "HOW TO BE AN ANTIRACIST"
          ],
          [
           "BAG MAN"
          ],
          [
           "ONE VOTE AWAY"
          ],
          [
           "BLACKOUT"
          ],
          [
           "HOW TO BE AN ANTIRACIST"
          ],
          [
           "A REPUBLIC UNDER ASSAULT"
          ],
          [
           "BLACKOUT"
          ],
          [
           "DISLOYAL"
          ],
          [
           "SPEAKING FOR MYSELF"
          ],
          [
           "HOW TO BE AN ANTIRACIST"
          ],
          [
           "HOW TO BE AN ANTIRACIST"
          ],
          [
           "HOW TO BE AN ANTIRACIST"
          ],
          [
           "HOW TO BE AN ANTIRACIST"
          ],
          [
           "FRONT ROW AT THE TRUMP SHOW"
          ],
          [
           "DON'T BURN THIS BOOK"
          ],
          [
           "FORTITUDE"
          ],
          [
           "A VERY STABLE GENIUS"
          ],
          [
           "UN-TRUMPING AMERICA"
          ],
          [
           "PROFILES IN CORRUPTION"
          ],
          [
           "ON TYRANNY"
          ],
          [
           "AMERICAN OLIGARCHS"
          ],
          [
           "BLOWOUT"
          ],
          [
           "A WARNING"
          ],
          [
           "TRIGGERED"
          ],
          [
           "TRIGGERED"
          ],
          [
           "BLOWOUT"
          ],
          [
           "BLOWOUT"
          ],
          [
           "ON TYRANNY"
          ],
          [
           "RADICALS, RESISTANCE AND REVENGE"
          ],
          [
           "HOW TO BE AN ANTIRACIST"
          ],
          [
           "THE MUELLER REPORT"
          ],
          [
           "UNFREEDOM OF THE PRESS"
          ],
          [
           "JUSTICE ON TRIAL"
          ],
          [
           "AMERICAN CARNAGE"
          ],
          [
           "UNFREEDOM OF THE PRESS"
          ],
          [
           "THE MUELLER REPORT"
          ],
          [
           "THE MUELLER REPORT"
          ],
          [
           "THE MUELLER REPORT"
          ],
          [
           "LET ME FINISH"
          ],
          [
           "FASCISM: A WARNING"
          ],
          [
           "THE POINT OF IT ALL"
          ],
          [
           "FEAR"
          ],
          [
           "THE FIFTH RISK"
          ],
          [
           "SHIP OF FOOLS"
          ],
          [
           "FEAR"
          ],
          [
           "THE FIFTH RISK"
          ],
          [
           "SHIP OF FOOLS"
          ],
          [
           "FEAR"
          ],
          [
           "THE FIFTH RISK"
          ],
          [
           "FEAR"
          ],
          [
           "UNHINGED"
          ],
          [
           "THE RUSSIA HOAX"
          ],
          [
           "LIARS, LEAKERS AND LIBERALS"
          ],
          [
           "EVERYTHING TRUMP TOUCHES DIES"
          ],
          [
           "THE RUSSIA HOAX"
          ],
          [
           "LIARS, LEAKERS AND LIBERALS"
          ],
          [
           "THINGS THAT MATTER"
          ],
          [
           "THE PLOT TO DESTROY DEMOCRACY"
          ],
          [
           "WAR ON PEACE"
          ],
          [
           "FASCISM: A WARNING"
          ],
          [
           "US VS. THEM"
          ],
          [
           "SECRET EMPIRES"
          ],
          [
           "RUSSIAN ROULETTE"
          ],
          [
           "FIRE AND FURY"
          ],
          [
           "FIRE AND FURY"
          ],
          [
           "FIRE AND FURY"
          ],
          [
           "LET TRUMP BE TRUMP"
          ],
          [
           "COLLUSION"
          ],
          [
           "UNBELIEVABLE"
          ],
          [
           "THE SMEAR"
          ],
          [
           "THE BIG LIE"
          ],
          [
           "REDISCOVERING AMERICANISM"
          ],
          [
           "UNDERSTANDING TRUMP"
          ],
          [
           "UNDERSTANDING TRUMP"
          ],
          [
           "ON TYRANNY"
          ],
          [
           "NO IS NOT ENOUGH"
          ],
          [
           "DEMOCRACY"
          ],
          [
           "ON TYRANNY"
          ],
          [
           "BIG AGENDA"
          ],
          [
           "BIG AGENDA"
          ],
          [
           "THANK YOU FOR BEING LATE"
          ],
          [
           "THANK YOU FOR BEING LATE"
          ],
          [
           "STRANGERS IN THEIR OWN LAND"
          ],
          [
           "GUILTY AS SIN"
          ],
          [
           "ARMAGEDDON"
          ],
          [
           "CRISIS OF CHARACTER"
          ],
          [
           "HILLARY'S AMERICA"
          ],
          [
           "LIARS"
          ],
          [
           "CRISIS OF CHARACTER"
          ],
          [
           "ARMAGEDDON"
          ],
          [
           "THE MAKING OF DONALD TRUMP"
          ],
          [
           "CRISIS OF CHARACTER"
          ],
          [
           "AND THEN ALL HELL BROKE LOOSE"
          ],
          [
           "CRIPPLED AMERICA"
          ],
          [
           "GOVERNMENT ZERO"
          ],
          [
           "IT IS ABOUT ISLAM"
          ],
          [
           "PLUNDER AND DECEIT"
          ],
          [
           "THE REAGAN DIARIES"
          ],
          [
           "IT IS ABOUT ISLAM"
          ],
          [
           "PLUNDER AND DECEIT"
          ],
          [
           "THE CONSERVATIVE HEART"
          ],
          [
           "ADIOS, AMERICA!"
          ],
          [
           "CLINTON CASH"
          ],
          [
           "ISIS"
          ],
          [
           "STONEWALLED"
          ],
          [
           "STOP THE COMING CIVIL WAR"
          ],
          [
           "ONE NATION"
          ],
          [
           "AMERICA"
          ],
          [
           "ONE NATION"
          ],
          [
           "ONE NATION"
          ]
         ],
         "hovertemplate": "category=%{y}<br>published_date=%{x}<br>title=%{customdata[0]}<extra></extra>",
         "legendgroup": "political science",
         "marker": {
          "color": "#636efa",
          "opacity": 0.25,
          "symbol": "circle"
         },
         "mode": "markers",
         "name": "political science",
         "showlegend": true,
         "type": "scattergl",
         "x": [
          "2025-06-15T00:00:00.000000000",
          "2025-06-15T00:00:00.000000000",
          "2025-05-11T00:00:00.000000000",
          "2025-05-11T00:00:00.000000000",
          "2025-05-11T00:00:00.000000000",
          "2025-05-11T00:00:00.000000000",
          "2025-04-06T00:00:00.000000000",
          "2025-04-06T00:00:00.000000000",
          "2025-03-02T00:00:00.000000000",
          "2025-03-02T00:00:00.000000000",
          "2025-01-26T00:00:00.000000000",
          "2024-12-22T00:00:00.000000000",
          "2024-10-13T00:00:00.000000000",
          "2024-09-08T00:00:00.000000000",
          "2024-05-26T00:00:00.000000000",
          "2024-04-21T00:00:00.000000000",
          "2024-03-17T00:00:00.000000000",
          "2024-03-17T00:00:00.000000000",
          "2024-02-11T00:00:00.000000000",
          "2024-01-07T00:00:00.000000000",
          "2023-12-03T00:00:00.000000000",
          "2023-12-03T00:00:00.000000000",
          "2023-12-03T00:00:00.000000000",
          "2023-10-29T00:00:00.000000000",
          "2023-09-24T00:00:00.000000000",
          "2023-04-02T00:00:00.000000000",
          "2022-11-13T00:00:00.000000000",
          "2022-11-13T00:00:00.000000000",
          "2022-10-09T00:00:00.000000000",
          "2022-07-31T00:00:00.000000000",
          "2022-07-31T00:00:00.000000000",
          "2022-07-31T00:00:00.000000000",
          "2022-06-26T00:00:00.000000000",
          "2022-03-13T00:00:00.000000000",
          "2021-10-24T00:00:00.000000000",
          "2021-10-24T00:00:00.000000000",
          "2021-10-24T00:00:00.000000000",
          "2021-09-19T00:00:00.000000000",
          "2021-08-15T00:00:00.000000000",
          "2021-08-15T00:00:00.000000000",
          "2021-07-11T00:00:00.000000000",
          "2021-06-06T00:00:00.000000000",
          "2021-06-06T00:00:00.000000000",
          "2021-02-21T00:00:00.000000000",
          "2021-02-21T00:00:00.000000000",
          "2021-01-17T00:00:00.000000000",
          "2020-11-08T00:00:00.000000000",
          "2020-11-08T00:00:00.000000000",
          "2020-11-08T00:00:00.000000000",
          "2020-11-08T00:00:00.000000000",
          "2020-10-04T00:00:00.000000000",
          "2020-10-04T00:00:00.000000000",
          "2020-10-04T00:00:00.000000000",
          "2020-10-04T00:00:00.000000000",
          "2020-08-30T00:00:00.000000000",
          "2020-07-26T00:00:00.000000000",
          "2020-06-21T00:00:00.000000000",
          "2020-05-17T00:00:00.000000000",
          "2020-05-17T00:00:00.000000000",
          "2020-05-17T00:00:00.000000000",
          "2020-03-08T00:00:00.000000000",
          "2020-03-08T00:00:00.000000000",
          "2020-03-08T00:00:00.000000000",
          "2020-03-08T00:00:00.000000000",
          "2020-02-02T00:00:00.000000000",
          "2019-12-29T00:00:00.000000000",
          "2019-12-29T00:00:00.000000000",
          "2019-12-29T00:00:00.000000000",
          "2019-11-24T00:00:00.000000000",
          "2019-11-24T00:00:00.000000000",
          "2019-10-20T00:00:00.000000000",
          "2019-10-20T00:00:00.000000000",
          "2019-09-15T00:00:00.000000000",
          "2019-09-15T00:00:00.000000000",
          "2019-08-11T00:00:00.000000000",
          "2019-08-11T00:00:00.000000000",
          "2019-08-11T00:00:00.000000000",
          "2019-08-11T00:00:00.000000000",
          "2019-07-07T00:00:00.000000000",
          "2019-07-07T00:00:00.000000000",
          "2019-06-02T00:00:00.000000000",
          "2019-06-02T00:00:00.000000000",
          "2019-02-17T00:00:00.000000000",
          "2019-02-17T00:00:00.000000000",
          "2019-01-13T00:00:00.000000000",
          "2019-01-13T00:00:00.000000000",
          "2019-01-13T00:00:00.000000000",
          "2018-12-09T00:00:00.000000000",
          "2018-12-09T00:00:00.000000000",
          "2018-12-09T00:00:00.000000000",
          "2018-11-04T00:00:00.000000000",
          "2018-11-04T00:00:00.000000000",
          "2018-11-04T00:00:00.000000000",
          "2018-09-30T00:00:00.000000000",
          "2018-09-30T00:00:00.000000000",
          "2018-09-30T00:00:00.000000000",
          "2018-09-30T00:00:00.000000000",
          "2018-08-26T00:00:00.000000000",
          "2018-08-26T00:00:00.000000000",
          "2018-08-26T00:00:00.000000000",
          "2018-07-22T00:00:00.000000000",
          "2018-07-22T00:00:00.000000000",
          "2018-05-13T00:00:00.000000000",
          "2018-05-13T00:00:00.000000000",
          "2018-05-13T00:00:00.000000000",
          "2018-04-08T00:00:00.000000000",
          "2018-04-08T00:00:00.000000000",
          "2018-04-08T00:00:00.000000000",
          "2018-03-04T00:00:00.000000000",
          "2018-01-28T00:00:00.000000000",
          "2017-12-24T00:00:00.000000000",
          "2017-12-24T00:00:00.000000000",
          "2017-10-15T00:00:00.000000000",
          "2017-10-15T00:00:00.000000000",
          "2017-09-10T00:00:00.000000000",
          "2017-08-06T00:00:00.000000000",
          "2017-08-06T00:00:00.000000000",
          "2017-07-02T00:00:00.000000000",
          "2017-07-02T00:00:00.000000000",
          "2017-07-02T00:00:00.000000000",
          "2017-05-28T00:00:00.000000000",
          "2017-04-23T00:00:00.000000000",
          "2017-04-23T00:00:00.000000000",
          "2017-03-19T00:00:00.000000000",
          "2017-02-12T00:00:00.000000000",
          "2017-01-08T00:00:00.000000000",
          "2016-12-04T00:00:00.000000000",
          "2016-10-30T00:00:00.000000000",
          "2016-09-25T00:00:00.000000000",
          "2016-09-25T00:00:00.000000000",
          "2016-08-21T00:00:00.000000000",
          "2016-08-21T00:00:00.000000000",
          "2016-08-21T00:00:00.000000000",
          "2016-08-21T00:00:00.000000000",
          "2016-08-21T00:00:00.000000000",
          "2016-07-17T00:00:00.000000000",
          "2016-02-28T00:00:00.000000000",
          "2015-12-20T00:00:00.000000000",
          "2015-11-15T00:00:00.000000000",
          "2015-10-11T00:00:00.000000000",
          "2015-10-11T00:00:00.000000000",
          "2015-10-11T00:00:00.000000000",
          "2015-09-06T00:00:00.000000000",
          "2015-09-06T00:00:00.000000000",
          "2015-08-02T00:00:00.000000000",
          "2015-06-28T00:00:00.000000000",
          "2015-05-24T00:00:00.000000000",
          "2015-03-15T00:00:00.000000000",
          "2014-11-30T00:00:00.000000000",
          "2014-10-26T00:00:00.000000000",
          "2014-09-21T00:00:00.000000000",
          "2014-08-17T00:00:00.000000000",
          "2014-08-17T00:00:00.000000000",
          "2014-06-08T00:00:00.000000000"
         ],
         "xaxis": "x",
         "y": [
          "political science",
          "political science",
          "political science",
          "political science",
          "political science",
          "political science",
          "political science",
          "political science",
          "political science",
          "political science",
          "political science",
          "political science",
          "political science",
          "political science",
          "political science",
          "political science",
          "political science",
          "political science",
          "political science",
          "political science",
          "political science",
          "political science",
          "political science",
          "political science",
          "political science",
          "political science",
          "political science",
          "political science",
          "political science",
          "political science",
          "political science",
          "political science",
          "political science",
          "political science",
          "political science",
          "political science",
          "political science",
          "political science",
          "political science",
          "political science",
          "political science",
          "political science",
          "political science",
          "political science",
          "political science",
          "political science",
          "political science",
          "political science",
          "political science",
          "political science",
          "political science",
          "political science",
          "political science",
          "political science",
          "political science",
          "political science",
          "political science",
          "political science",
          "political science",
          "political science",
          "political science",
          "political science",
          "political science",
          "political science",
          "political science",
          "political science",
          "political science",
          "political science",
          "political science",
          "political science",
          "political science",
          "political science",
          "political science",
          "political science",
          "political science",
          "political science",
          "political science",
          "political science",
          "political science",
          "political science",
          "political science",
          "political science",
          "political science",
          "political science",
          "political science",
          "political science",
          "political science",
          "political science",
          "political science",
          "political science",
          "political science",
          "political science",
          "political science",
          "political science",
          "political science",
          "political science",
          "political science",
          "political science",
          "political science",
          "political science",
          "political science",
          "political science",
          "political science",
          "political science",
          "political science",
          "political science",
          "political science",
          "political science",
          "political science",
          "political science",
          "political science",
          "political science",
          "political science",
          "political science",
          "political science",
          "political science",
          "political science",
          "political science",
          "political science",
          "political science",
          "political science",
          "political science",
          "political science",
          "political science",
          "political science",
          "political science",
          "political science",
          "political science",
          "political science",
          "political science",
          "political science",
          "political science",
          "political science",
          "political science",
          "political science",
          "political science",
          "political science",
          "political science",
          "political science",
          "political science",
          "political science",
          "political science",
          "political science",
          "political science",
          "political science",
          "political science",
          "political science",
          "political science",
          "political science",
          "political science",
          "political science",
          "political science",
          "political science",
          "political science"
         ],
         "yaxis": "y"
        },
        {
         "customdata": [
          [
           "THE ANXIOUS GENERATION"
          ],
          [
           "THE ANXIOUS GENERATION"
          ],
          [
           "THE ANXIOUS GENERATION"
          ],
          [
           "THE ANXIOUS GENERATION"
          ],
          [
           "YOU DIDN'T HEAR THIS FROM ME"
          ],
          [
           "THE ANXIOUS GENERATION"
          ],
          [
           "THE ANXIOUS GENERATION"
          ],
          [
           "THE ANXIOUS GENERATION"
          ],
          [
           "THE ANXIOUS GENERATION"
          ],
          [
           "THE ANXIOUS GENERATION"
          ],
          [
           "THE ANXIOUS GENERATION"
          ],
          [
           "THE ANXIOUS GENERATION"
          ],
          [
           "THE ANXIOUS GENERATION"
          ],
          [
           "THE ANXIOUS GENERATION"
          ],
          [
           "THE MYTH OF NORMAL"
          ],
          [
           "THE MYTH OF NORMAL"
          ],
          [
           "WHAT HAPPENED TO YOU?"
          ],
          [
           "WHAT HAPPENED TO YOU?"
          ],
          [
           "WHAT HAPPENED TO YOU?"
          ],
          [
           "WHAT HAPPENED TO YOU?"
          ],
          [
           "WHAT HAPPENED TO YOU?"
          ],
          [
           "WOMEN ROWING NORTH"
          ],
          [
           "WOMEN ROWING NORTH"
          ],
          [
           "DOPESICK"
          ],
          [
           "ENLIGHTENMENT NOW"
          ],
          [
           "ENLIGHTENMENT NOW"
          ],
          [
           "SHAKEN"
          ],
          [
           "SHAKEN"
          ],
          [
           "QUIET"
          ],
          [
           "QUIET"
          ],
          [
           "DAVID AND GOLIATH"
          ],
          [
           "QUIET"
          ],
          [
           "DAVID AND GOLIATH"
          ],
          [
           "QUIET"
          ],
          [
           "QUIET"
          ]
         ],
         "hovertemplate": "category=%{y}<br>published_date=%{x}<br>title=%{customdata[0]}<extra></extra>",
         "legendgroup": "psychology",
         "marker": {
          "color": "#EF553B",
          "opacity": 0.25,
          "symbol": "circle"
         },
         "mode": "markers",
         "name": "psychology",
         "showlegend": true,
         "type": "scattergl",
         "x": [
          "2025-06-15T00:00:00.000000000",
          "2025-05-11T00:00:00.000000000",
          "2025-04-06T00:00:00.000000000",
          "2025-03-02T00:00:00.000000000",
          "2025-03-02T00:00:00.000000000",
          "2025-01-26T00:00:00.000000000",
          "2024-12-22T00:00:00.000000000",
          "2024-11-17T00:00:00.000000000",
          "2024-10-13T00:00:00.000000000",
          "2024-09-08T00:00:00.000000000",
          "2024-08-04T00:00:00.000000000",
          "2024-06-30T00:00:00.000000000",
          "2024-05-26T00:00:00.000000000",
          "2024-04-21T00:00:00.000000000",
          "2023-01-22T00:00:00.000000000",
          "2022-10-09T00:00:00.000000000",
          "2022-05-22T00:00:00.000000000",
          "2021-09-19T00:00:00.000000000",
          "2021-08-15T00:00:00.000000000",
          "2021-07-11T00:00:00.000000000",
          "2021-06-06T00:00:00.000000000",
          "2019-03-24T00:00:00.000000000",
          "2019-02-17T00:00:00.000000000",
          "2018-08-26T00:00:00.000000000",
          "2018-04-08T00:00:00.000000000",
          "2018-03-04T00:00:00.000000000",
          "2017-01-08T00:00:00.000000000",
          "2016-12-04T00:00:00.000000000",
          "2014-09-21T00:00:00.000000000",
          "2014-07-13T00:00:00.000000000",
          "2014-03-30T00:00:00.000000000",
          "2014-01-19T00:00:00.000000000",
          "2013-12-15T00:00:00.000000000",
          "2013-06-23T00:00:00.000000000",
          "2013-05-19T00:00:00.000000000"
         ],
         "xaxis": "x",
         "y": [
          "psychology",
          "psychology",
          "psychology",
          "psychology",
          "psychology",
          "psychology",
          "psychology",
          "psychology",
          "psychology",
          "psychology",
          "psychology",
          "psychology",
          "psychology",
          "psychology",
          "psychology",
          "psychology",
          "psychology",
          "psychology",
          "psychology",
          "psychology",
          "psychology",
          "psychology",
          "psychology",
          "psychology",
          "psychology",
          "psychology",
          "psychology",
          "psychology",
          "psychology",
          "psychology",
          "psychology",
          "psychology",
          "psychology",
          "psychology",
          "psychology"
         ],
         "yaxis": "y"
        },
        {
         "customdata": [
          [
           "THE BODY KEEPS THE SCORE"
          ],
          [
           "THE BODY KEEPS THE SCORE"
          ],
          [
           "THE BODY KEEPS THE SCORE"
          ],
          [
           "THE BODY KEEPS THE SCORE"
          ],
          [
           "THE BODY KEEPS THE SCORE"
          ],
          [
           "THE BODY KEEPS THE SCORE"
          ],
          [
           "THE BODY KEEPS THE SCORE"
          ],
          [
           "THE BODY KEEPS THE SCORE"
          ],
          [
           "THE BODY KEEPS THE SCORE"
          ],
          [
           "THE BODY KEEPS THE SCORE"
          ],
          [
           "THE BODY KEEPS THE SCORE"
          ],
          [
           "THE BODY KEEPS THE SCORE"
          ],
          [
           "THE BODY KEEPS THE SCORE"
          ],
          [
           "THE BODY KEEPS THE SCORE"
          ],
          [
           "THE BODY KEEPS THE SCORE"
          ],
          [
           "THE BODY KEEPS THE SCORE"
          ],
          [
           "THE BODY KEEPS THE SCORE"
          ],
          [
           "THE BODY KEEPS THE SCORE"
          ],
          [
           "THE BODY KEEPS THE SCORE"
          ],
          [
           "THE BODY KEEPS THE SCORE"
          ],
          [
           "THE BODY KEEPS THE SCORE"
          ],
          [
           "THE BODY KEEPS THE SCORE"
          ],
          [
           "THE BODY KEEPS THE SCORE"
          ],
          [
           "THE BODY KEEPS THE SCORE"
          ],
          [
           "THE BODY KEEPS THE SCORE"
          ],
          [
           "THE BODY KEEPS THE SCORE"
          ],
          [
           "THE BODY KEEPS THE SCORE"
          ],
          [
           "THE BODY KEEPS THE SCORE"
          ],
          [
           "THE BODY KEEPS THE SCORE"
          ],
          [
           "THE BODY KEEPS THE SCORE"
          ],
          [
           "THE BODY KEEPS THE SCORE"
          ],
          [
           "THE BODY KEEPS THE SCORE"
          ],
          [
           "THE BODY KEEPS THE SCORE"
          ],
          [
           "THE BODY KEEPS THE SCORE"
          ],
          [
           "THE BODY KEEPS THE SCORE"
          ],
          [
           "THE BODY KEEPS THE SCORE"
          ],
          [
           "THE BODY KEEPS THE SCORE"
          ],
          [
           "THE BODY KEEPS THE SCORE"
          ],
          [
           "THE BODY KEEPS THE SCORE"
          ],
          [
           "THE BODY KEEPS THE SCORE"
          ],
          [
           "THE BODY KEEPS THE SCORE"
          ],
          [
           "THE BODY KEEPS THE SCORE"
          ],
          [
           "THE BODY KEEPS THE SCORE"
          ],
          [
           "THE BODY KEEPS THE SCORE"
          ],
          [
           "THE BODY KEEPS THE SCORE"
          ],
          [
           "THE BODY KEEPS THE SCORE"
          ],
          [
           "THE BODY KEEPS THE SCORE"
          ],
          [
           "THE BODY KEEPS THE SCORE"
          ],
          [
           "THE BODY KEEPS THE SCORE"
          ],
          [
           "THE BODY KEEPS THE SCORE"
          ],
          [
           "THE BODY KEEPS THE SCORE"
          ],
          [
           "THE BODY KEEPS THE SCORE"
          ]
         ],
         "hovertemplate": "category=%{y}<br>published_date=%{x}<br>title=%{customdata[0]}<extra></extra>",
         "legendgroup": "medical",
         "marker": {
          "color": "#00cc96",
          "opacity": 0.25,
          "symbol": "circle"
         },
         "mode": "markers",
         "name": "medical",
         "showlegend": true,
         "type": "scattergl",
         "x": [
          "2025-06-15T00:00:00.000000000",
          "2025-05-11T00:00:00.000000000",
          "2025-04-06T00:00:00.000000000",
          "2025-03-02T00:00:00.000000000",
          "2025-01-26T00:00:00.000000000",
          "2024-12-22T00:00:00.000000000",
          "2024-11-17T00:00:00.000000000",
          "2024-10-13T00:00:00.000000000",
          "2024-09-08T00:00:00.000000000",
          "2024-08-04T00:00:00.000000000",
          "2024-06-30T00:00:00.000000000",
          "2024-05-26T00:00:00.000000000",
          "2024-04-21T00:00:00.000000000",
          "2024-03-17T00:00:00.000000000",
          "2024-02-11T00:00:00.000000000",
          "2024-01-07T00:00:00.000000000",
          "2023-12-03T00:00:00.000000000",
          "2023-10-29T00:00:00.000000000",
          "2023-09-24T00:00:00.000000000",
          "2023-08-20T00:00:00.000000000",
          "2023-07-16T00:00:00.000000000",
          "2023-06-11T00:00:00.000000000",
          "2023-05-07T00:00:00.000000000",
          "2023-04-02T00:00:00.000000000",
          "2023-02-26T00:00:00.000000000",
          "2023-01-22T00:00:00.000000000",
          "2022-12-18T00:00:00.000000000",
          "2022-11-13T00:00:00.000000000",
          "2022-10-09T00:00:00.000000000",
          "2022-09-04T00:00:00.000000000",
          "2022-07-31T00:00:00.000000000",
          "2022-06-26T00:00:00.000000000",
          "2022-05-22T00:00:00.000000000",
          "2022-04-17T00:00:00.000000000",
          "2022-03-13T00:00:00.000000000",
          "2022-02-06T00:00:00.000000000",
          "2022-01-02T00:00:00.000000000",
          "2021-11-28T00:00:00.000000000",
          "2021-10-24T00:00:00.000000000",
          "2021-09-19T00:00:00.000000000",
          "2021-08-15T00:00:00.000000000",
          "2021-07-11T00:00:00.000000000",
          "2021-06-06T00:00:00.000000000",
          "2021-05-02T00:00:00.000000000",
          "2021-03-28T00:00:00.000000000",
          "2021-02-21T00:00:00.000000000",
          "2021-01-17T00:00:00.000000000",
          "2020-04-12T00:00:00.000000000",
          "2020-03-08T00:00:00.000000000",
          "2020-02-02T00:00:00.000000000",
          "2019-09-15T00:00:00.000000000",
          "2019-08-11T00:00:00.000000000"
         ],
         "xaxis": "x",
         "y": [
          "medical",
          "medical",
          "medical",
          "medical",
          "medical",
          "medical",
          "medical",
          "medical",
          "medical",
          "medical",
          "medical",
          "medical",
          "medical",
          "medical",
          "medical",
          "medical",
          "medical",
          "medical",
          "medical",
          "medical",
          "medical",
          "medical",
          "medical",
          "medical",
          "medical",
          "medical",
          "medical",
          "medical",
          "medical",
          "medical",
          "medical",
          "medical",
          "medical",
          "medical",
          "medical",
          "medical",
          "medical",
          "medical",
          "medical",
          "medical",
          "medical",
          "medical",
          "medical",
          "medical",
          "medical",
          "medical",
          "medical",
          "medical",
          "medical",
          "medical",
          "medical",
          "medical"
         ],
         "yaxis": "y"
        },
        {
         "customdata": [
          [
           "MARK TWAIN"
          ],
          [
           "BIG DUMB EYES"
          ],
          [
           "UNCOMMON FAVOR"
          ],
          [
           "WHEN BREATH BECOMES AIR"
          ],
          [
           "MY NEXT BREATH"
          ],
          [
           "MATRIARCH"
          ],
          [
           "CARELESS PEOPLE"
          ],
          [
           "FIGHT"
          ],
          [
           "CARELESS PEOPLE"
          ],
          [
           "RESOLUTE"
          ],
          [
           "THE TELL"
          ],
          [
           "HEARTBREAKER"
          ],
          [
           "THE HOUSE OF MY MOTHER"
          ],
          [
           "SOURCE CODE"
          ],
          [
           "GREENLIGHTS"
          ],
          [
           "MELANIA"
          ],
          [
           "MEMORIAL DAYS"
          ],
          [
           "ELON MUSK"
          ],
          [
           "THE HOUSE OF MY MOTHER"
          ],
          [
           "BE READY WHEN THE LUCK HAPPENS"
          ],
          [
           "CHER: THE MEMOIR, PART ONE"
          ],
          [
           "GREENLIGHTS"
          ],
          [
           "MELANIA"
          ],
          [
           "CONFRONTING THE PRESIDENTS"
          ],
          [
           "CHER: THE MEMOIR, PART ONE"
          ],
          [
           "MELANIA"
          ],
          [
           "BE READY WHEN THE LUCK HAPPENS"
          ],
          [
           "CONFRONTING THE PRESIDENTS"
          ],
          [
           "FROM HERE TO THE GREAT UNKNOWN"
          ],
          [
           "YOUR MOM'S GONNA LOVE ME"
          ],
          [
           "MELANIA"
          ],
          [
           "WAR"
          ],
          [
           "BE READY WHEN THE LUCK HAPPENS"
          ],
          [
           "FROM HERE TO THE GREAT UNKNOWN"
          ],
          [
           "CONFRONTING THE PRESIDENTS"
          ],
          [
           "PATRIOT"
          ],
          [
           "BROTHERS"
          ],
          [
           "AMERICAN HEROES"
          ],
          [
           "CONFRONTING THE PRESIDENTS"
          ],
          [
           "SOMETHING LOST, SOMETHING GAINED"
          ],
          [
           "THE THIRD GILMORE GIRL"
          ],
          [
           "LOVELY ONE"
          ],
          [
           "LUCKY LOSER"
          ],
          [
           "IMMINENT"
          ],
          [
           "THE ART OF POWER"
          ],
          [
           "OUT OF THE DARKNESS"
          ],
          [
           "THE TRUTHS WE HOLD"
          ],
          [
           "BORN A CRIME"
          ],
          [
           "JFK JR."
          ],
          [
           "EVERYTHING I KNOW ABOUT LOVE"
          ],
          [
           "ON CALL"
          ],
          [
           "THE WAR ON WARRIORS"
          ],
          [
           "FRIENDS, LOVERS, AND THE BIG TERRIBLE THING"
          ],
          [
           "AN UNFINISHED LOVE STORY"
          ],
          [
           "THE WAR ON WARRIORS"
          ],
          [
           "THE FRIDAY AFTERNOON CLUB"
          ],
          [
           "AN UNFINISHED LOVE STORY"
          ],
          [
           "THE WIDE WIDE SEA"
          ],
          [
           "JUST ADD WATER"
          ],
          [
           "YOU NEVER KNOW"
          ],
          [
           "BITS AND PIECES"
          ],
          [
           "COMING HOME"
          ],
          [
           "LOVE, MOM"
          ],
          [
           "AN UNFINISHED LOVE STORY"
          ],
          [
           "THE LIGHT WE CARRY"
          ],
          [
           "SOCIOPATH"
          ],
          [
           "I'M GLAD MY MOM DIED"
          ],
          [
           "NEVER LEAVE THE DOGS BEHIND"
          ],
          [
           "REBEL RISING"
          ],
          [
           "BURN BOOK"
          ],
          [
           "GRIEF IS FOR PEOPLE"
          ],
          [
           "THE MANY LIVES OF MAMA LOVE"
          ],
          [
           "MASTERS OF THE AIR"
          ],
          [
           "EVERYTHING I KNOW ABOUT LOVE"
          ],
          [
           "OATH AND HONOR"
          ],
          [
           "ONE IN A MILLENNIAL"
          ],
          [
           "THE WOMAN IN ME"
          ],
          [
           "ONLY SAY GOOD THINGS"
          ],
          [
           "EVERYTHING I KNOW ABOUT LOVE"
          ],
          [
           "LEGACY"
          ],
          [
           "OATH AND HONOR"
          ],
          [
           "THE WOMAN IN ME"
          ],
          [
           "MY NAME IS BARBRA"
          ],
          [
           "FRIENDS, LOVERS, AND THE BIG TERRIBLE THING"
          ],
          [
           "ELON MUSK"
          ],
          [
           "THE STORYTELLER"
          ],
          [
           "BEHIND THE SEAMS"
          ],
          [
           "AMERICAN PROMETHEUS"
          ],
          [
           "FRIENDS, LOVERS, AND THE BIG TERRIBLE THING"
          ],
          [
           "THE WOMAN IN ME"
          ],
          [
           "MY NAME IS BARBRA"
          ],
          [
           "MY EFFIN' LIFE"
          ],
          [
           "ELON MUSK"
          ],
          [
           "BEING HENRY"
          ],
          [
           "ENOUGH"
          ],
          [
           "ELON MUSK"
          ],
          [
           "LUCKY ME"
          ],
          [
           "ASTOR"
          ],
          [
           "MAKING IT SO"
          ],
          [
           "AMERICAN PROMETHEUS"
          ],
          [
           "NECESSARY TROUBLE"
          ],
          [
           "I'M GLAD MY MOM DIED"
          ],
          [
           "SURE, I'LL JOIN YOUR CULT"
          ],
          [
           "CRYING IN H MART"
          ],
          [
           "AMERICAN PROMETHEUS"
          ],
          [
           "I'M GLAD MY MOM DIED"
          ],
          [
           "EVERYTHING I KNOW ABOUT LOVE"
          ],
          [
           "BEYOND THE STORY"
          ],
          [
           "THE IN-BETWEEN"
          ],
          [
           "CRYING IN H MART"
          ],
          [
           "BORN A CRIME"
          ],
          [
           "I'M GLAD MY MOM DIED"
          ],
          [
           "THE ART THIEF"
          ],
          [
           "CRYING IN H MART"
          ],
          [
           "THE IN-BETWEEN"
          ],
          [
           "PAGEBOY"
          ],
          [
           "THE BOOK OF CHARLIE"
          ],
          [
           "I'M GLAD MY MOM DIED"
          ],
          [
           "SPARE"
          ],
          [
           "CRYING IN H MART"
          ],
          [
           "THE DADDY DIARIES"
          ],
          [
           "THE LIGHT WE CARRY"
          ],
          [
           "CRYING IN H MART"
          ],
          [
           "I'M GLAD MY MOM DIED"
          ],
          [
           "SPARE"
          ],
          [
           "THE LIGHT WE CARRY"
          ],
          [
           "GREENLIGHTS"
          ],
          [
           "I SWEAR"
          ],
          [
           "YOU COULD MAKE THIS PLACE BEAUTIFUL"
          ],
          [
           "SAVED"
          ],
          [
           "SPARE"
          ],
          [
           "I'M GLAD MY MOM DIED"
          ],
          [
           "THE LONGEST RACE"
          ],
          [
           "THE LIGHT WE CARRY"
          ],
          [
           "WALK THE BLUE LINE"
          ],
          [
           "BELONGING"
          ],
          [
           "ALL MY KNOTTED-UP LIFE"
          ],
          [
           "SPARE"
          ],
          [
           "I'M GLAD MY MOM DIED"
          ],
          [
           "THE LIGHT WE CARRY"
          ],
          [
           "PEOPLE VS. DONALD TRUMP"
          ],
          [
           "FRIENDS, LOVERS, AND THE BIG TERRIBLE THING"
          ],
          [
           "THE NAZI CONSPIRACY"
          ],
          [
           "BAD MORMON"
          ],
          [
           "FINDING ME"
          ],
          [
           "WALK THE BLUE LINE"
          ],
          [
           "THE LIGHT WE CARRY"
          ],
          [
           "I'M GLAD MY MOM DIED"
          ],
          [
           "FRIENDS, LOVERS, AND THE BIG TERRIBLE THING"
          ],
          [
           "THE REVOLUTIONARY"
          ],
          [
           "AND THERE WAS LIGHT"
          ],
          [
           "SURRENDER"
          ],
          [
           "THE LIGHT WE CARRY"
          ],
          [
           "FRIENDS, LOVERS, AND THE BIG TERRIBLE THING"
          ],
          [
           "I'M GLAD MY MOM DIED"
          ],
          [
           "SURRENDER"
          ],
          [
           "AND THERE WAS LIGHT"
          ],
          [
           "SO HELP ME GOD"
          ],
          [
           "THE REVOLUTIONARY"
          ],
          [
           "A HEART THAT WORKS"
          ],
          [
           "CINEMA SPECULATION"
          ],
          [
           "RADIO'S GREATEST OF ALL TIME"
          ],
          [
           "I'M GLAD MY MOM DIED"
          ],
          [
           "AND THERE WAS LIGHT"
          ],
          [
           "WAYPOINTS"
          ],
          [
           "MY TRAVELS WITH MRS. KENNEDY"
          ],
          [
           "THE REVOLUTIONARY"
          ],
          [
           "THE LAST FOLK HERO"
          ],
          [
           "KILLING THE LEGENDS"
          ],
          [
           "THE EXTRAORDINARY LIFE OF AN ORDINARY MAN"
          ],
          [
           "BEYOND THE WAND"
          ],
          [
           "LIVE WIRE"
          ],
          [
           "I'M GLAD MY MOM DIED"
          ],
          [
           "DINNERS WITH RUTH"
          ],
          [
           "THE MOSQUITO BOWL"
          ],
          [
           "BREAKING HISTORY"
          ],
          [
           "LIKE A ROLLING STONE"
          ],
          [
           "SOLITO"
          ],
          [
           "PROFILES IN IGNORANCE"
          ],
          [
           "I'M GLAD MY MOM DIED"
          ],
          [
           "PATH LIT BY LIGHTNING"
          ],
          [
           "DIANA, WILLIAM, AND HARRY"
          ],
          [
           "CRYING IN H MART"
          ],
          [
           "VACUUMING IN THE NUDE"
          ],
          [
           "BORN A CRIME"
          ],
          [
           "EDUCATED"
          ],
          [
           "FINDING ME"
          ],
          [
           "TANQUERAY"
          ],
          [
           "LEADERSHIP"
          ],
          [
           "FINDING ME"
          ],
          [
           "CRYING IN H MART"
          ],
          [
           "JAMES PATTERSON"
          ],
          [
           "EDUCATED"
          ],
          [
           "JAMES PATTERSON"
          ],
          [
           "FINDING ME"
          ],
          [
           "THE PALACE PAPERS"
          ],
          [
           "SCARS AND STRIPES"
          ],
          [
           "HERE'S THE DEAL"
          ],
          [
           "CRYING IN H MART"
          ],
          [
           "GREENLIGHTS"
          ],
          [
           "THE FACEMAKER"
          ],
          [
           "FINDING ME"
          ],
          [
           "THIS WILL NOT PASS"
          ],
          [
           "THE PALACE PAPERS"
          ],
          [
           "OUT OF THE CORNER"
          ],
          [
           "UNMASKED"
          ],
          [
           "CRYING IN H MART"
          ],
          [
           "FREEZING ORDER"
          ],
          [
           "ANNA"
          ],
          [
           "JUST TYRUS"
          ],
          [
           "WILL"
          ],
          [
           "THE STORYTELLER"
          ],
          [
           "TEN STEPS TO NANETTE"
          ],
          [
           "EDUCATED"
          ],
          [
           "CRYING IN H MART"
          ],
          [
           "ONE DAMN THING AFTER ANOTHER"
          ],
          [
           "GREENLIGHTS"
          ],
          [
           "EDUCATED"
          ],
          [
           "CRYING IN H MART"
          ],
          [
           "WILL"
          ],
          [
           "THE STORYTELLER"
          ],
          [
           "ENOUGH ALREADY"
          ],
          [
           "UNTHINKABLE"
          ],
          [
           "CRYING IN H MART"
          ],
          [
           "GREENLIGHTS"
          ],
          [
           "WILL"
          ],
          [
           "THE STORYTELLER"
          ],
          [
           "BLOOD IN THE GARDEN"
          ],
          [
           "UNTAMED"
          ],
          [
           "TASTE"
          ],
          [
           "JUST PURSUIT"
          ],
          [
           "THE STORYTELLER"
          ],
          [
           "WILL"
          ],
          [
           "TASTE"
          ],
          [
           "ALL AMERICAN CHRISTMAS"
          ],
          [
           "THE BEATLES: GET BACK"
          ],
          [
           "GREENLIGHTS"
          ],
          [
           "WILL"
          ],
          [
           "THE STORYTELLER"
          ],
          [
           "MY BODY"
          ],
          [
           "GOING THERE"
          ],
          [
           "TASTE"
          ],
          [
           "PERIL"
          ],
          [
           "E.R. NURSES"
          ],
          [
           "TO RESCUE THE REPUBLIC"
          ],
          [
           "THE STORYTELLER"
          ],
          [
           "I'LL TAKE YOUR QUESTIONS NOW"
          ],
          [
           "PERIL"
          ],
          [
           "TASTE"
          ],
          [
           "THERE IS NOTHING FOR YOU HERE"
          ],
          [
           "MAID"
          ],
          [
           "BOURDAIN"
          ],
          [
           "GREENLIGHTS"
          ],
          [
           "UNTAMED"
          ],
          [
           "BORN A CRIME"
          ],
          [
           "CRYING IN H MART"
          ],
          [
           "THE RECKONING"
          ],
          [
           "HOW I SAVED THE WORLD"
          ],
          [
           "LANDSLIDE"
          ],
          [
           "GREENLIGHTS"
          ],
          [
           "UNTAMED"
          ],
          [
           "GREENLIGHTS"
          ],
          [
           "UNTAMED"
          ],
          [
           "CRYING IN H MART"
          ],
          [
           "BORN A CRIME"
          ],
          [
           "YEARBOOK"
          ],
          [
           "GREENLIGHTS"
          ],
          [
           "UNTAMED"
          ],
          [
           "ON THE HOUSE"
          ],
          [
           "EMPIRE OF PAIN"
          ],
          [
           "THE CODE BREAKER"
          ],
          [
           "BROKEN HORSES"
          ],
          [
           "GREENLIGHTS"
          ],
          [
           "BROKEN"
          ],
          [
           "UNTAMED"
          ],
          [
           "BEAUTIFUL THINGS"
          ],
          [
           "FINDING FREEDOM"
          ],
          [
           "BECOMING"
          ],
          [
           "THE CODE BREAKER"
          ],
          [
           "GREENLIGHTS"
          ],
          [
           "BECOMING"
          ],
          [
           "UNTAMED"
          ],
          [
           "A PROMISED LAND"
          ],
          [
           "JUST AS I AM"
          ],
          [
           "WALK IN MY COMBAT BOOTS"
          ],
          [
           "FOUR HUNDRED SOULS"
          ],
          [
           "JUST AS I AM"
          ],
          [
           "A PROMISED LAND"
          ],
          [
           "GREENLIGHTS"
          ],
          [
           "UNTAMED"
          ],
          [
           "WHEN HARRY MET MINNIE"
          ],
          [
           "BECOMING"
          ],
          [
           "MIKE NICHOLS"
          ],
          [
           "A PROMISED LAND"
          ],
          [
           "GREENLIGHTS"
          ],
          [
           "UNTAMED"
          ],
          [
           "BECOMING"
          ],
          [
           "WORLD OF WONDERS"
          ],
          [
           "IS THIS ANYTHING?"
          ],
          [
           "THE ANSWER IS ..."
          ],
          [
           "THE LAST DAYS OF JOHN LENNON"
          ],
          [
           "A PROMISED LAND"
          ],
          [
           "GREENLIGHTS"
          ],
          [
           "BECOMING"
          ],
          [
           "MODERN WARRIORS"
          ],
          [
           "NO TIME LIKE THE FUTURE"
          ],
          [
           "UNTAMED"
          ],
          [
           "IS THIS ANYTHING?"
          ],
          [
           "THE ANSWER IS ..."
          ],
          [
           "MY OWN WORDS"
          ],
          [
           "GREENLIGHTS"
          ],
          [
           "UNTAMED"
          ],
          [
           "IS THIS ANYTHING?"
          ],
          [
           "RAGE"
          ],
          [
           "BATTLE OF BROTHERS"
          ],
          [
           "DO YOU FEEL LIKE I DO?"
          ],
          [
           "RAGE"
          ],
          [
           "COMPROMISED"
          ],
          [
           "UNTAMED"
          ],
          [
           "TOO MUCH AND NEVER ENOUGH"
          ],
          [
           "MELANIA AND ME"
          ],
          [
           "TOO MUCH AND NEVER ENOUGH"
          ],
          [
           "UNTAMED"
          ],
          [
           "THE TRUTHS WE HOLD"
          ],
          [
           "EDUCATED"
          ],
          [
           "BORN A CRIME"
          ],
          [
           "ALEXANDER HAMILTON"
          ],
          [
           "UNTAMED"
          ],
          [
           "BETWEEN THE WORLD AND ME"
          ],
          [
           "BECOMING"
          ],
          [
           "BETWEEN THE WORLD AND ME"
          ],
          [
           "UNTAMED"
          ],
          [
           "BECOMING"
          ],
          [
           "BORN A CRIME"
          ],
          [
           "UNTAMED"
          ],
          [
           "HIDDEN VALLEY ROAD"
          ],
          [
           "EDUCATED"
          ],
          [
           "BECOMING"
          ],
          [
           "A WOMAN OF NO IMPORTANCE"
          ],
          [
           "UNORTHODOX"
          ],
          [
           "MORE MYSELF"
          ],
          [
           "UNTAMED"
          ],
          [
           "EDUCATED"
          ],
          [
           "LADY IN WAITING"
          ],
          [
           "BECOMING"
          ],
          [
           "EDUCATED"
          ],
          [
           "BECOMING"
          ],
          [
           "YOU NEVER FORGET YOUR FIRST"
          ],
          [
           "EDUCATED"
          ],
          [
           "RUNNING AGAINST THE DEVIL"
          ],
          [
           "BECOMING"
          ],
          [
           "UNCANNY VALLEY"
          ],
          [
           "MAYBE YOU SHOULD TALK TO SOMEONE"
          ],
          [
           "EDUCATED"
          ],
          [
           "ME"
          ],
          [
           "BECOMING"
          ],
          [
           "THE BOOK OF GUTSY WOMEN"
          ],
          [
           "FINDING CHIKA"
          ],
          [
           "HOME WORK"
          ],
          [
           "FINDING CHIKA"
          ],
          [
           "ME"
          ],
          [
           "EDUCATED"
          ],
          [
           "THE BOOK OF GUTSY WOMEN"
          ],
          [
           "THE BEAUTIFUL ONES"
          ],
          [
           "MOBITUARIES"
          ],
          [
           "THE BOOK OF GUTSY WOMEN"
          ],
          [
           "THE UNITED STATES OF TRUMP"
          ],
          [
           "EDUCATED"
          ],
          [
           "OVER THE TOP"
          ],
          [
           "PERMANENT RECORD"
          ],
          [
           "KNOW MY NAME"
          ],
          [
           "WHERE DO I BEGIN?"
          ],
          [
           "BECOMING"
          ],
          [
           "WHEN LIFE GIVES YOU PEARS"
          ],
          [
           "EDUCATED"
          ],
          [
           "BECOMING"
          ],
          [
           "BORN A CRIME"
          ],
          [
           "MAYBE YOU SHOULD TALK TO SOMEONE"
          ],
          [
           "THANK YOU FOR MY SERVICE"
          ],
          [
           "BETWEEN THE WORLD AND ME"
          ],
          [
           "EDUCATED"
          ],
          [
           "BECOMING"
          ],
          [
           "BORN A CRIME"
          ],
          [
           "MAYBE YOU SHOULD TALK TO SOMEONE"
          ],
          [
           "EDUCATED"
          ],
          [
           "BECOMING"
          ],
          [
           "HOWARD STERN COMES AGAIN"
          ],
          [
           "BORN A CRIME"
          ],
          [
           "MAYBE YOU SHOULD TALK TO SOMEONE"
          ],
          [
           "THE CHOICE"
          ],
          [
           "HOWARD STERN COMES AGAIN"
          ],
          [
           "EDUCATED"
          ],
          [
           "BECOMING"
          ],
          [
           "FURIOUS HOURS"
          ],
          [
           "MAYBE YOU SHOULD TALK TO SOMEONE"
          ],
          [
           "LIFE WILL BE THE DEATH OF ME"
          ],
          [
           "LIFE WILL BE THE DEATH OF ME"
          ],
          [
           "BECOMING"
          ],
          [
           "EDUCATED"
          ],
          [
           "MAYBE YOU SHOULD TALK TO SOMEONE"
          ],
          [
           "THE MATRIARCH"
          ],
          [
           "LADIES WHO PUNCH"
          ],
          [
           "WORKING"
          ],
          [
           "SAVE ME THE PLUMS"
          ],
          [
           "BORN A CRIME"
          ],
          [
           "THE HILL TO DIE ON"
          ],
          [
           "BECOMING"
          ],
          [
           "THE CASE FOR TRUMP"
          ],
          [
           "EDUCATED"
          ],
          [
           "BORN A CRIME"
          ],
          [
           "THE THREAT"
          ],
          [
           "MOSTLY SUNNY"
          ],
          [
           "BECOMING"
          ],
          [
           "EDUCATED"
          ],
          [
           "TEAM OF VIPERS"
          ],
          [
           "FROM THE GROUND UP"
          ],
          [
           "THE TRUTHS WE HOLD"
          ],
          [
           "A SERIAL KILLER'S DAUGHTER"
          ],
          [
           "MAID"
          ],
          [
           "BECOMING"
          ],
          [
           "EDUCATED"
          ],
          [
           "GRANT"
          ],
          [
           "CHURCHILL: WALKING WITH DESTINY"
          ],
          [
           "BECOMING"
          ],
          [
           "EDUCATED"
          ],
          [
           "CHURCHILL: WALKING WITH DESTINY"
          ],
          [
           "IN PIECES"
          ],
          [
           "BEASTIE BOYS BOOK"
          ],
          [
           "THIS WILL ONLY HURT A LITTLE"
          ],
          [
           "EDUCATED"
          ],
          [
           "PRESIDENTS OF WAR"
          ],
          [
           "IN PIECES"
          ],
          [
           "RACING TO THE FINISH"
          ],
          [
           "EDUCATED"
          ],
          [
           "THE RESTLESS WAVE"
          ],
          [
           "EVERY DAY IS EXTRA"
          ],
          [
           "EDUCATED"
          ],
          [
           "BLACK KLANSMAN"
          ],
          [
           "KITCHEN CONFIDENTIAL"
          ],
          [
           "NINETY-NINE GLIMPSES OF PRINCESS MARGARET"
          ],
          [
           "KITCHEN CONFIDENTIAL"
          ],
          [
           "EDUCATED"
          ],
          [
           "LINCOLN'S LAST TRIAL"
          ],
          [
           "THE RESTLESS WAVE"
          ],
          [
           "A HIGHER LOYALTY"
          ],
          [
           "EDUCATED"
          ],
          [
           "A HIGHER LOYALTY"
          ],
          [
           "THE LIGHT WITHIN ME"
          ],
          [
           "EDUCATED"
          ],
          [
           "CHASING HILLARY"
          ],
          [
           "THE GIRL WHO SMILED BEADS"
          ],
          [
           "EDUCATED"
          ],
          [
           "PRETTY MESS"
          ],
          [
           "BORN A CRIME"
          ],
          [
           "EVERYTHING HAPPENS FOR A REASON"
          ],
          [
           "HORSE SOLDIERS"
          ],
          [
           "PROMISE ME, DAD"
          ],
          [
           "WALLIS IN LOVE"
          ],
          [
           "GRANT"
          ],
          [
           "SINGLE STATE OF MIND"
          ],
          [
           "PROMISE ME, DAD"
          ],
          [
           "WHEN BREATH BECOMES AIR"
          ],
          [
           "GRANT"
          ],
          [
           "BOBBY KENNEDY"
          ],
          [
           "PROMISE ME, DAD"
          ],
          [
           "NATURAL DISASTER"
          ],
          [
           "SISTERS FIRST"
          ],
          [
           "WHAT HAPPENED"
          ],
          [
           "BOBBY KENNEDY"
          ],
          [
           "SISTERS FIRST"
          ],
          [
           "GRANT"
          ],
          [
           "WHAT HAPPENED"
          ],
          [
           "WE'RE GOING TO NEED MORE WINE"
          ],
          [
           "WE WERE EIGHT YEARS IN POWER"
          ],
          [
           "MARTIN LUTHER"
          ],
          [
           "WHAT DOES THIS BUTTON DO?"
          ],
          [
           "ENDURANCE"
          ],
          [
           "WHAT HAPPENED"
          ],
          [
           "HIT REFRESH"
          ],
          [
           "THE GLASS CASTLE"
          ],
          [
           "THE AUTOBIOGRAPHY OF GUCCI MANE"
          ],
          [
           "AL FRANKEN, GIANT OF THE SENATE"
          ],
          [
           "THE GLASS CASTLE"
          ],
          [
           "AL FRANKEN, GIANT OF THE SENATE"
          ],
          [
           "TEAM OF RIVALS"
          ],
          [
           "HELGA'S DIARY"
          ],
          [
           "DEVIL'S BARGAIN"
          ],
          [
           "SCRAPPY LITTLE NOBODY"
          ],
          [
           "OPTION B"
          ],
          [
           "BETWEEN THE WORLD AND ME"
          ],
          [
           "DEVIL'S BARGAIN"
          ],
          [
           "AL FRANKEN, GIANT OF THE SENATE"
          ],
          [
           "THE GLASS CASTLE"
          ],
          [
           "OPTION B"
          ],
          [
           "BORN A CRIME"
          ],
          [
           "YOU DON'T HAVE TO SAY YOU LOVE ME"
          ],
          [
           "AL FRANKEN, GIANT OF THE SENATE"
          ],
          [
           "I CAN'T MAKE THIS UP"
          ],
          [
           "HUNGER"
          ],
          [
           "BILL O'REILLY'S LEGENDS AND LIES: THE CIVIL WAR"
          ],
          [
           "OPTION B"
          ],
          [
           "YOU DON'T HAVE TO SAY YOU LOVE ME"
          ],
          [
           "OPTION B"
          ],
          [
           "SHATTERED"
          ],
          [
           "JACKIE'S GIRL"
          ],
          [
           "THE OPERATOR"
          ],
          [
           "TEAMMATE"
          ],
          [
           "THIS FIGHT IS OUR FIGHT"
          ],
          [
           "THE MAGNOLIA STORY"
          ],
          [
           "BLACK PRIVILEGE"
          ],
          [
           "RISING STAR"
          ],
          [
           "OLD SCHOOL"
          ],
          [
           "THE MOST BEAUTIFUL"
          ],
          [
           "PRINCE CHARLES"
          ],
          [
           "NEVERTHELESS"
          ],
          [
           "WHEN BREATH BECOMES AIR"
          ],
          [
           "BALLPLAYER"
          ],
          [
           "THE MAGNOLIA STORY"
          ],
          [
           "PORTRAITS OF COURAGE"
          ],
          [
           "THE MAGNOLIA STORY"
          ],
          [
           "WHEN BREATH BECOMES AIR"
          ],
          [
           "LION"
          ],
          [
           "THIS LIFE I LIVE"
          ],
          [
           "ALEXANDER HAMILTON"
          ],
          [
           "THREE DAYS IN JANUARY"
          ],
          [
           "THE MAGNOLIA STORY"
          ],
          [
           "ALEXANDER HAMILTON"
          ],
          [
           "WHEN BREATH BECOMES AIR"
          ],
          [
           "BORN A CRIME"
          ],
          [
           "THE MAGNOLIA STORY"
          ],
          [
           "BORN TO RUN"
          ],
          [
           "SETTLE FOR MORE"
          ],
          [
           "ALEXANDER HAMILTON"
          ],
          [
           "BORN A CRIME"
          ],
          [
           "WHEN BREATH BECOMES AIR"
          ],
          [
           "TALKING AS FAST AS I CAN"
          ],
          [
           "THE GIRL WITH THE LOWER BACK TATTOO"
          ],
          [
           "ALL THE GALLANT MEN"
          ],
          [
           "OUR REVOLUTION"
          ],
          [
           "SCRAPPY LITTLE NOBODY"
          ],
          [
           "SETTLE FOR MORE"
          ],
          [
           "OUR REVOLUTION"
          ],
          [
           "SCRAPPY LITTLE NOBODY"
          ],
          [
           "SUPERFICIAL"
          ],
          [
           "THE MAGNOLIA STORY"
          ],
          [
           "BORN A CRIME"
          ],
          [
           "BORN TO RUN"
          ],
          [
           "ALEXANDER HAMILTON"
          ],
          [
           "BETWEEN THE WORLD AND ME"
          ],
          [
           "TESTIMONY"
          ],
          [
           "WHEN BREATH BECOMES AIR"
          ],
          [
           "BORN TO RUN"
          ],
          [
           "LOVE WARRIOR"
          ],
          [
           "HUNGRY HEART"
          ],
          [
           "THE GIRL WITH THE LOWER BACK TATTOO"
          ],
          [
           "A LIFE IN PARTS"
          ],
          [
           "MY OWN WORDS"
          ],
          [
           "ALEXANDER HAMILTON"
          ],
          [
           "WHEN BREATH BECOMES AIR"
          ],
          [
           "I AM BRIAN WILSON"
          ],
          [
           "A TORCH KEPT LIT"
          ],
          [
           "A LIFE WELL PLAYED"
          ],
          [
           "THE GENERAL VS. THE PRESIDENT"
          ],
          [
           "LOVE WARRIOR"
          ],
          [
           "THE GIRL WITH THE LOWER BACK TATTOO"
          ],
          [
           "WHEN BREATH BECOMES AIR"
          ],
          [
           "ALEXANDER HAMILTON"
          ],
          [
           "SULLY"
          ],
          [
           "BETWEEN THE WORLD AND ME"
          ],
          [
           "THE RED BANDANNA"
          ],
          [
           "CLEAN HOUSE"
          ],
          [
           "CARRY ON, WARRIOR"
          ],
          [
           "WHEN BREATH BECOMES AIR"
          ],
          [
           "ALEXANDER HAMILTON"
          ],
          [
           "AMERICAN HEIRESS"
          ],
          [
           "BETWEEN THE WORLD AND ME"
          ],
          [
           "IT GETS WORSE"
          ],
          [
           "PRESTO!"
          ],
          [
           "SHOE DOG"
          ],
          [
           "BILL O'REILLY'S LEGENDS AND LIES: THE PATRIOTS"
          ],
          [
           "ALEXANDER HAMILTON"
          ],
          [
           "WHEN BREATH BECOMES AIR"
          ],
          [
           "BILL O'REILLY'S LEGENDS AND LIES: THE PATRIOTS"
          ],
          [
           "MY LUCKY LIFE IN AND OUT OF SHOW BUSINESS"
          ],
          [
           "WAKE UP AMERICA"
          ],
          [
           "HOUSE OF NAILS"
          ],
          [
           "THE RAINBOW COMES AND GOES"
          ],
          [
           "BETWEEN THE WORLD AND ME"
          ],
          [
           "THE ROMANOVS"
          ],
          [
           "BUT WHAT IF WE'RE WRONG?"
          ],
          [
           "SHOE DOG"
          ],
          [
           "WHEN BREATH BECOMES AIR"
          ],
          [
           "ALEXANDER HAMILTON"
          ],
          [
           "BILL O'REILLY'S LEGENDS AND LIES: THE PATRIOTS"
          ],
          [
           "SHOE DOG"
          ],
          [
           "VALIANT AMBITION"
          ],
          [
           "THE RAINBOW COMES AND GOES"
          ],
          [
           "FIVE PRESIDENTS"
          ],
          [
           "THE WRIGHT BROTHERS"
          ],
          [
           "IT'S NOT OKAY"
          ],
          [
           "BETWEEN THE WORLD AND ME"
          ],
          [
           "BARE BONES"
          ],
          [
           "THE ROMANOVS"
          ],
          [
           "I AM MALALA"
          ],
          [
           "THE RAINBOW COMES AND GOES"
          ],
          [
           "WHEN BREATH BECOMES AIR"
          ],
          [
           "ALEXANDER HAMILTON"
          ],
          [
           "THE THIRD WAVE"
          ],
          [
           "BETWEEN THE WORLD AND ME"
          ],
          [
           "GAME OF CROWNS"
          ],
          [
           "LOVE THAT BOY"
          ],
          [
           "BECOMING GRANDMA"
          ],
          [
           "PARIS IN LOVE"
          ],
          [
           "WHEN BREATH BECOMES AIR"
          ],
          [
           "MIRACLES FROM HEAVEN"
          ],
          [
           "ALEXANDER HAMILTON"
          ],
          [
           "BETWEEN THE WORLD AND ME"
          ],
          [
           "THE IMMORTAL IRISHMAN"
          ],
          [
           "ROSEMARY"
          ],
          [
           "LOVE, LOSS, AND WHAT WE ATE"
          ],
          [
           "I AM MALALA"
          ],
          [
           "AND THEN ALL HELL BROKE LOOSE"
          ],
          [
           "WHEN BREATH BECOMES AIR"
          ],
          [
           "TURNING THE TABLES"
          ],
          [
           "BETWEEN THE WORLD AND ME"
          ],
          [
           "KILLING REAGAN"
          ],
          [
           "IN OTHER WORDS"
          ],
          [
           "THOMAS JEFFERSON AND THE TRIPOLI PIRATES"
          ],
          [
           "WEST OF EDEN"
          ],
          [
           "THOMAS JEFFERSON"
          ],
          [
           "ALEXANDER HAMILTON"
          ],
          [
           "BETWEEN THE WORLD AND ME"
          ],
          [
           "THOMAS JEFFERSON AND THE TRIPOLI PIRATES"
          ],
          [
           "KILLING REAGAN"
          ],
          [
           "LADY ALMINA AND THE REAL DOWNTON ABBEY"
          ],
          [
           "I AM MALALA"
          ],
          [
           "THE WRIGHT BROTHERS"
          ],
          [
           "WHY NOT ME?"
          ],
          [
           "ALEXANDER HAMILTON"
          ],
          [
           "H IS FOR HAWK"
          ],
          [
           "HUMANS OF NEW YORK: STORIES"
          ],
          [
           "KILLING REAGAN"
          ],
          [
           "THOMAS JEFFERSON AND THE TRIPOLI PIRATES"
          ],
          [
           "BETWEEN THE WORLD AND ME"
          ],
          [
           "DESTINY AND POWER"
          ],
          [
           "BOYS IN THE TREES"
          ],
          [
           "WHY NOT ME?"
          ],
          [
           "THE WRIGHT BROTHERS"
          ],
          [
           "SUCH GOOD GIRLS"
          ],
          [
           "I AM MALALA"
          ],
          [
           "IN THE HEART OF THE SEA"
          ],
          [
           "KILLING REAGAN"
          ],
          [
           "EXTREME OWNERSHIP"
          ],
          [
           "WILDFLOWER"
          ],
          [
           "NOTORIOUS RBG"
          ],
          [
           "BETWEEN THE WORLD AND ME"
          ],
          [
           "MY LIFE ON THE ROAD"
          ],
          [
           "HUMANS OF NEW YORK: STORIES"
          ],
          [
           "WHY NOT ME?"
          ],
          [
           "I AM MALALA"
          ],
          [
           "M TRAIN"
          ],
          [
           "FURIOUSLY HAPPY"
          ],
          [
           "KILLING REAGAN"
          ],
          [
           "WHY NOT ME?"
          ],
          [
           "FURIOUSLY HAPPY"
          ],
          [
           "BETWEEN THE WORLD AND ME"
          ],
          [
           "THE WRIGHT BROTHERS"
          ],
          [
           "1944"
          ],
          [
           "I AM MALALA"
          ],
          [
           "FAST GIRL"
          ],
          [
           "ACCIDENTAL SAINTS"
          ],
          [
           "BETWEEN THE WORLD AND ME"
          ],
          [
           "THE WRIGHT BROTHERS"
          ],
          [
           "I AM MALALA"
          ],
          [
           "DEAN & ME (A LOVE STORY)"
          ],
          [
           "MY LOBOTOMY"
          ],
          [
           "YOU'RE NEVER WEIRD ON THE INTERNET (ALMOST)"
          ],
          [
           "WILD"
          ],
          [
           "DOWN THE RABBIT HOLE"
          ],
          [
           "BETWEEN THE WORLD AND ME"
          ],
          [
           "DOWN THE RABBIT HOLE"
          ],
          [
           "THE WRIGHT BROTHERS"
          ],
          [
           "I AM MALALA"
          ],
          [
           "A TIME FOR TRUTH"
          ],
          [
           "SICK IN THE HEAD"
          ],
          [
           "UNBROKEN"
          ],
          [
           "WILD"
          ],
          [
           "A FULL LIFE"
          ],
          [
           "THE GLASS CASTLE"
          ],
          [
           "THE WRIGHT BROTHERS"
          ],
          [
           "PRIMATES OF PARK AVENUE"
          ],
          [
           "I AM MALALA"
          ],
          [
           "BILL O'REILLY'S LEGENDS AND LIES"
          ],
          [
           "AMERICAN SNIPER"
          ],
          [
           "ON GOLD MOUNTAIN"
          ],
          [
           "AND THE GOOD NEWS IS ..."
          ],
          [
           "WILD"
          ],
          [
           "UNBROKEN"
          ],
          [
           "ELON MUSK"
          ],
          [
           "IT'S A LONG STORY"
          ],
          [
           "THE QUARTET"
          ],
          [
           "THE WRIGHT BROTHERS"
          ],
          [
           "HOPE"
          ],
          [
           "THE BOOK OF JOAN"
          ],
          [
           "IT'S A LONG STORY"
          ],
          [
           "AND THE GOOD NEWS IS ..."
          ],
          [
           "AMERICAN WIFE"
          ],
          [
           "BILL O'REILLY'S LEGENDS AND LIES"
          ],
          [
           "AMERICAN SNIPER"
          ],
          [
           "FINDING ME"
          ],
          [
           "DEAL"
          ],
          [
           "WILD"
          ],
          [
           "PIONEER GIRL"
          ],
          [
           "AMERICAN SNIPER"
          ],
          [
           "WILD"
          ],
          [
           "UNBROKEN"
          ],
          [
           "BECOMING STEVE JOBS"
          ],
          [
           "UNDER THE TUSCAN SUN"
          ],
          [
           "H IS FOR HAWK"
          ],
          [
           "WAITING TO BE HEARD"
          ],
          [
           "AMERICAN SNIPER"
          ],
          [
           "WILD"
          ],
          [
           "UNBROKEN"
          ],
          [
           "GHOST BOY"
          ],
          [
           "ALAN TURING: THE ENIGMA"
          ],
          [
           "ON MY OWN TWO FEET"
          ],
          [
           "BELIEVER"
          ],
          [
           "UNBROKEN"
          ],
          [
           "WILD"
          ],
          [
           "CLAPTON"
          ],
          [
           "GOD, GUNS, GRITS AND GRAVY"
          ],
          [
           "DEEP DOWN DARK"
          ],
          [
           "LEAVING BEFORE THE RAINS COME"
          ],
          [
           "NOT THAT KIND OF GIRL"
          ],
          [
           "THE LIFE AND LEGEND OF CHRIS KYLE"
          ],
          [
           "IT WAS ME ALL ALONG"
          ],
          [
           "UNBROKEN"
          ],
          [
           "WILD"
          ],
          [
           "41"
          ],
          [
           "AMERICAN SNIPER"
          ],
          [
           "AS YOU WISH"
          ],
          [
           "YOU CAN'T MAKE THIS UP"
          ],
          [
           "NOT THAT KIND OF GIRL"
          ],
          [
           "THE INNOVATORS"
          ],
          [
           "SO ANYWAY . . ."
          ],
          [
           "THE ANDY COHEN DIARIES"
          ],
          [
           "UNBROKEN"
          ],
          [
           "NOT THAT KIND OF GIRL"
          ],
          [
           "THE ART OF ASKING"
          ],
          [
           "DREAMERS AND DECEIVERS"
          ],
          [
           "THE WILD TRUTH"
          ],
          [
           "NOT THAT KIND OF GIRL"
          ],
          [
           "WORTHY FIGHTS"
          ],
          [
           "UNBROKEN"
          ],
          [
           "AMERICAN SNIPER"
          ],
          [
           "WILD"
          ],
          [
           "NOT MY FATHER'S SON"
          ],
          [
           "REBEL YELL"
          ],
          [
           "UNBROKEN"
          ],
          [
           "UNPHILTERED"
          ],
          [
           "WILD"
          ],
          [
           "ORANGE IS THE NEW BLACK"
          ],
          [
           "ELVIS AND GINGER"
          ],
          [
           "ORANGE IS THE NEW BLACK"
          ],
          [
           "BLOOD FEUD"
          ],
          [
           "HARD CHOICES"
          ],
          [
           "WILD"
          ],
          [
           "A LONG WAY GONE"
          ],
          [
           "ORANGE IS THE NEW BLACK"
          ],
          [
           "IT LOOKED DIFFERENT ON THE MODEL"
          ],
          [
           "I DIDN'T COME HERE TO MAKE FRIENDS"
          ],
          [
           "THE SISTERS WHO WOULD BE QUEEN"
          ],
          [
           "FINDING ME"
          ],
          [
           "A FIGHTING CHANCE"
          ],
          [
           "THRIVE"
          ],
          [
           "UNBROKEN"
          ],
          [
           "TWELVE YEARS A SLAVE"
          ],
          [
           "LOVE LIFE"
          ],
          [
           "UNBROKEN"
          ],
          [
           "WILD"
          ],
          [
           "YOU MUST REMEMBER THIS"
          ],
          [
           "PROOF OF HEAVEN"
          ],
          [
           "DUTY"
          ],
          [
           "TWELVE YEARS A SLAVE"
          ],
          [
           "DUTY"
          ],
          [
           "UNBROKEN"
          ],
          [
           "WILD"
          ],
          [
           "ORANGE IS THE NEW BLACK"
          ],
          [
           "PROOF OF HEAVEN"
          ],
          [
           "THE BULLY PULPIT"
          ],
          [
           "SI-COLOGY 1"
          ],
          [
           "THE DEATH OF SANTINI"
          ],
          [
           "TWELVE YEARS A SLAVE"
          ],
          [
           "40 CHANCES"
          ],
          [
           "LEAN IN"
          ],
          [
           "PROOF OF HEAVEN"
          ],
          [
           "SI-COLOGY 1"
          ],
          [
           "STILL FOOLIN' 'EM"
          ],
          [
           "EMPTY MANSIONS"
          ],
          [
           "LEAN IN"
          ],
          [
           "SIMPLE DREAMS"
          ],
          [
           "ORANGE IS THE NEW BLACK"
          ],
          [
           "PROOF OF HEAVEN"
          ],
          [
           "HAPPY, HAPPY, HAPPY"
          ],
          [
           "UNBREAKABLE"
          ],
          [
           "ELEVEN RINGS"
          ],
          [
           "LEAN IN"
          ],
          [
           "THE TAO OF MARTHA"
          ],
          [
           "KILLING KENNEDY"
          ]
         ],
         "hovertemplate": "category=%{y}<br>published_date=%{x}<br>title=%{customdata[0]}<extra></extra>",
         "legendgroup": "biography & autobiography",
         "marker": {
          "color": "#ab63fa",
          "opacity": 0.25,
          "symbol": "circle"
         },
         "mode": "markers",
         "name": "biography & autobiography",
         "showlegend": true,
         "type": "scattergl",
         "x": [
          "2025-06-15T00:00:00.000000000",
          "2025-06-15T00:00:00.000000000",
          "2025-06-15T00:00:00.000000000",
          "2025-06-15T00:00:00.000000000",
          "2025-06-15T00:00:00.000000000",
          "2025-05-11T00:00:00.000000000",
          "2025-05-11T00:00:00.000000000",
          "2025-05-11T00:00:00.000000000",
          "2025-04-06T00:00:00.000000000",
          "2025-04-06T00:00:00.000000000",
          "2025-04-06T00:00:00.000000000",
          "2025-04-06T00:00:00.000000000",
          "2025-04-06T00:00:00.000000000",
          "2025-03-02T00:00:00.000000000",
          "2025-03-02T00:00:00.000000000",
          "2025-03-02T00:00:00.000000000",
          "2025-03-02T00:00:00.000000000",
          "2025-03-02T00:00:00.000000000",
          "2025-01-26T00:00:00.000000000",
          "2025-01-26T00:00:00.000000000",
          "2025-01-26T00:00:00.000000000",
          "2025-01-26T00:00:00.000000000",
          "2025-01-26T00:00:00.000000000",
          "2025-01-26T00:00:00.000000000",
          "2024-12-22T00:00:00.000000000",
          "2024-12-22T00:00:00.000000000",
          "2024-12-22T00:00:00.000000000",
          "2024-12-22T00:00:00.000000000",
          "2024-12-22T00:00:00.000000000",
          "2024-12-22T00:00:00.000000000",
          "2024-11-17T00:00:00.000000000",
          "2024-11-17T00:00:00.000000000",
          "2024-11-17T00:00:00.000000000",
          "2024-11-17T00:00:00.000000000",
          "2024-11-17T00:00:00.000000000",
          "2024-11-17T00:00:00.000000000",
          "2024-11-17T00:00:00.000000000",
          "2024-11-17T00:00:00.000000000",
          "2024-10-13T00:00:00.000000000",
          "2024-10-13T00:00:00.000000000",
          "2024-10-13T00:00:00.000000000",
          "2024-10-13T00:00:00.000000000",
          "2024-10-13T00:00:00.000000000",
          "2024-09-08T00:00:00.000000000",
          "2024-09-08T00:00:00.000000000",
          "2024-09-08T00:00:00.000000000",
          "2024-09-08T00:00:00.000000000",
          "2024-09-08T00:00:00.000000000",
          "2024-08-04T00:00:00.000000000",
          "2024-08-04T00:00:00.000000000",
          "2024-08-04T00:00:00.000000000",
          "2024-08-04T00:00:00.000000000",
          "2024-08-04T00:00:00.000000000",
          "2024-08-04T00:00:00.000000000",
          "2024-06-30T00:00:00.000000000",
          "2024-06-30T00:00:00.000000000",
          "2024-06-30T00:00:00.000000000",
          "2024-06-30T00:00:00.000000000",
          "2024-06-30T00:00:00.000000000",
          "2024-05-26T00:00:00.000000000",
          "2024-05-26T00:00:00.000000000",
          "2024-05-26T00:00:00.000000000",
          "2024-05-26T00:00:00.000000000",
          "2024-05-26T00:00:00.000000000",
          "2024-05-26T00:00:00.000000000",
          "2024-04-21T00:00:00.000000000",
          "2024-04-21T00:00:00.000000000",
          "2024-04-21T00:00:00.000000000",
          "2024-04-21T00:00:00.000000000",
          "2024-03-17T00:00:00.000000000",
          "2024-03-17T00:00:00.000000000",
          "2024-03-17T00:00:00.000000000",
          "2024-03-17T00:00:00.000000000",
          "2024-03-17T00:00:00.000000000",
          "2024-02-11T00:00:00.000000000",
          "2024-02-11T00:00:00.000000000",
          "2024-02-11T00:00:00.000000000",
          "2024-02-11T00:00:00.000000000",
          "2024-02-11T00:00:00.000000000",
          "2024-02-11T00:00:00.000000000",
          "2024-01-07T00:00:00.000000000",
          "2024-01-07T00:00:00.000000000",
          "2024-01-07T00:00:00.000000000",
          "2024-01-07T00:00:00.000000000",
          "2024-01-07T00:00:00.000000000",
          "2024-01-07T00:00:00.000000000",
          "2024-01-07T00:00:00.000000000",
          "2024-01-07T00:00:00.000000000",
          "2023-12-03T00:00:00.000000000",
          "2023-12-03T00:00:00.000000000",
          "2023-12-03T00:00:00.000000000",
          "2023-12-03T00:00:00.000000000",
          "2023-12-03T00:00:00.000000000",
          "2023-12-03T00:00:00.000000000",
          "2023-10-29T00:00:00.000000000",
          "2023-10-29T00:00:00.000000000",
          "2023-10-29T00:00:00.000000000",
          "2023-10-29T00:00:00.000000000",
          "2023-10-29T00:00:00.000000000",
          "2023-09-24T00:00:00.000000000",
          "2023-09-24T00:00:00.000000000",
          "2023-09-24T00:00:00.000000000",
          "2023-09-24T00:00:00.000000000",
          "2023-09-24T00:00:00.000000000",
          "2023-08-20T00:00:00.000000000",
          "2023-08-20T00:00:00.000000000",
          "2023-08-20T00:00:00.000000000",
          "2023-08-20T00:00:00.000000000",
          "2023-08-20T00:00:00.000000000",
          "2023-08-20T00:00:00.000000000",
          "2023-08-20T00:00:00.000000000",
          "2023-07-16T00:00:00.000000000",
          "2023-07-16T00:00:00.000000000",
          "2023-07-16T00:00:00.000000000",
          "2023-07-16T00:00:00.000000000",
          "2023-07-16T00:00:00.000000000",
          "2023-06-11T00:00:00.000000000",
          "2023-06-11T00:00:00.000000000",
          "2023-06-11T00:00:00.000000000",
          "2023-06-11T00:00:00.000000000",
          "2023-06-11T00:00:00.000000000",
          "2023-06-11T00:00:00.000000000",
          "2023-05-07T00:00:00.000000000",
          "2023-05-07T00:00:00.000000000",
          "2023-05-07T00:00:00.000000000",
          "2023-05-07T00:00:00.000000000",
          "2023-05-07T00:00:00.000000000",
          "2023-05-07T00:00:00.000000000",
          "2023-05-07T00:00:00.000000000",
          "2023-04-02T00:00:00.000000000",
          "2023-04-02T00:00:00.000000000",
          "2023-04-02T00:00:00.000000000",
          "2023-04-02T00:00:00.000000000",
          "2023-04-02T00:00:00.000000000",
          "2023-04-02T00:00:00.000000000",
          "2023-04-02T00:00:00.000000000",
          "2023-04-02T00:00:00.000000000",
          "2023-02-26T00:00:00.000000000",
          "2023-02-26T00:00:00.000000000",
          "2023-02-26T00:00:00.000000000",
          "2023-02-26T00:00:00.000000000",
          "2023-02-26T00:00:00.000000000",
          "2023-02-26T00:00:00.000000000",
          "2023-02-26T00:00:00.000000000",
          "2023-02-26T00:00:00.000000000",
          "2023-02-26T00:00:00.000000000",
          "2023-01-22T00:00:00.000000000",
          "2023-01-22T00:00:00.000000000",
          "2023-01-22T00:00:00.000000000",
          "2023-01-22T00:00:00.000000000",
          "2023-01-22T00:00:00.000000000",
          "2023-01-22T00:00:00.000000000",
          "2022-12-18T00:00:00.000000000",
          "2022-12-18T00:00:00.000000000",
          "2022-12-18T00:00:00.000000000",
          "2022-12-18T00:00:00.000000000",
          "2022-12-18T00:00:00.000000000",
          "2022-12-18T00:00:00.000000000",
          "2022-12-18T00:00:00.000000000",
          "2022-12-18T00:00:00.000000000",
          "2022-12-18T00:00:00.000000000",
          "2022-11-13T00:00:00.000000000",
          "2022-11-13T00:00:00.000000000",
          "2022-11-13T00:00:00.000000000",
          "2022-11-13T00:00:00.000000000",
          "2022-11-13T00:00:00.000000000",
          "2022-11-13T00:00:00.000000000",
          "2022-11-13T00:00:00.000000000",
          "2022-11-13T00:00:00.000000000",
          "2022-11-13T00:00:00.000000000",
          "2022-11-13T00:00:00.000000000",
          "2022-11-13T00:00:00.000000000",
          "2022-10-09T00:00:00.000000000",
          "2022-10-09T00:00:00.000000000",
          "2022-10-09T00:00:00.000000000",
          "2022-10-09T00:00:00.000000000",
          "2022-10-09T00:00:00.000000000",
          "2022-10-09T00:00:00.000000000",
          "2022-10-09T00:00:00.000000000",
          "2022-09-04T00:00:00.000000000",
          "2022-09-04T00:00:00.000000000",
          "2022-09-04T00:00:00.000000000",
          "2022-09-04T00:00:00.000000000",
          "2022-09-04T00:00:00.000000000",
          "2022-09-04T00:00:00.000000000",
          "2022-09-04T00:00:00.000000000",
          "2022-09-04T00:00:00.000000000",
          "2022-07-31T00:00:00.000000000",
          "2022-07-31T00:00:00.000000000",
          "2022-07-31T00:00:00.000000000",
          "2022-07-31T00:00:00.000000000",
          "2022-07-31T00:00:00.000000000",
          "2022-07-31T00:00:00.000000000",
          "2022-06-26T00:00:00.000000000",
          "2022-06-26T00:00:00.000000000",
          "2022-06-26T00:00:00.000000000",
          "2022-06-26T00:00:00.000000000",
          "2022-06-26T00:00:00.000000000",
          "2022-06-26T00:00:00.000000000",
          "2022-06-26T00:00:00.000000000",
          "2022-06-26T00:00:00.000000000",
          "2022-05-22T00:00:00.000000000",
          "2022-05-22T00:00:00.000000000",
          "2022-05-22T00:00:00.000000000",
          "2022-05-22T00:00:00.000000000",
          "2022-05-22T00:00:00.000000000",
          "2022-05-22T00:00:00.000000000",
          "2022-05-22T00:00:00.000000000",
          "2022-05-22T00:00:00.000000000",
          "2022-05-22T00:00:00.000000000",
          "2022-04-17T00:00:00.000000000",
          "2022-04-17T00:00:00.000000000",
          "2022-04-17T00:00:00.000000000",
          "2022-04-17T00:00:00.000000000",
          "2022-04-17T00:00:00.000000000",
          "2022-04-17T00:00:00.000000000",
          "2022-03-13T00:00:00.000000000",
          "2022-03-13T00:00:00.000000000",
          "2022-03-13T00:00:00.000000000",
          "2022-03-13T00:00:00.000000000",
          "2022-03-13T00:00:00.000000000",
          "2022-02-06T00:00:00.000000000",
          "2022-02-06T00:00:00.000000000",
          "2022-02-06T00:00:00.000000000",
          "2022-02-06T00:00:00.000000000",
          "2022-02-06T00:00:00.000000000",
          "2022-02-06T00:00:00.000000000",
          "2022-02-06T00:00:00.000000000",
          "2022-02-06T00:00:00.000000000",
          "2022-02-06T00:00:00.000000000",
          "2022-02-06T00:00:00.000000000",
          "2022-01-02T00:00:00.000000000",
          "2022-01-02T00:00:00.000000000",
          "2022-01-02T00:00:00.000000000",
          "2022-01-02T00:00:00.000000000",
          "2022-01-02T00:00:00.000000000",
          "2022-01-02T00:00:00.000000000",
          "2021-11-28T00:00:00.000000000",
          "2021-11-28T00:00:00.000000000",
          "2021-11-28T00:00:00.000000000",
          "2021-11-28T00:00:00.000000000",
          "2021-11-28T00:00:00.000000000",
          "2021-11-28T00:00:00.000000000",
          "2021-11-28T00:00:00.000000000",
          "2021-11-28T00:00:00.000000000",
          "2021-10-24T00:00:00.000000000",
          "2021-10-24T00:00:00.000000000",
          "2021-10-24T00:00:00.000000000",
          "2021-10-24T00:00:00.000000000",
          "2021-10-24T00:00:00.000000000",
          "2021-10-24T00:00:00.000000000",
          "2021-10-24T00:00:00.000000000",
          "2021-09-19T00:00:00.000000000",
          "2021-09-19T00:00:00.000000000",
          "2021-09-19T00:00:00.000000000",
          "2021-09-19T00:00:00.000000000",
          "2021-09-19T00:00:00.000000000",
          "2021-08-15T00:00:00.000000000",
          "2021-08-15T00:00:00.000000000",
          "2021-08-15T00:00:00.000000000",
          "2021-08-15T00:00:00.000000000",
          "2021-07-11T00:00:00.000000000",
          "2021-07-11T00:00:00.000000000",
          "2021-07-11T00:00:00.000000000",
          "2021-07-11T00:00:00.000000000",
          "2021-06-06T00:00:00.000000000",
          "2021-06-06T00:00:00.000000000",
          "2021-06-06T00:00:00.000000000",
          "2021-05-02T00:00:00.000000000",
          "2021-05-02T00:00:00.000000000",
          "2021-05-02T00:00:00.000000000",
          "2021-05-02T00:00:00.000000000",
          "2021-05-02T00:00:00.000000000",
          "2021-05-02T00:00:00.000000000",
          "2021-05-02T00:00:00.000000000",
          "2021-05-02T00:00:00.000000000",
          "2021-05-02T00:00:00.000000000",
          "2021-05-02T00:00:00.000000000",
          "2021-03-28T00:00:00.000000000",
          "2021-03-28T00:00:00.000000000",
          "2021-03-28T00:00:00.000000000",
          "2021-03-28T00:00:00.000000000",
          "2021-03-28T00:00:00.000000000",
          "2021-03-28T00:00:00.000000000",
          "2021-03-28T00:00:00.000000000",
          "2021-02-21T00:00:00.000000000",
          "2021-02-21T00:00:00.000000000",
          "2021-02-21T00:00:00.000000000",
          "2021-02-21T00:00:00.000000000",
          "2021-02-21T00:00:00.000000000",
          "2021-02-21T00:00:00.000000000",
          "2021-02-21T00:00:00.000000000",
          "2021-02-21T00:00:00.000000000",
          "2021-01-17T00:00:00.000000000",
          "2021-01-17T00:00:00.000000000",
          "2021-01-17T00:00:00.000000000",
          "2021-01-17T00:00:00.000000000",
          "2021-01-17T00:00:00.000000000",
          "2021-01-17T00:00:00.000000000",
          "2021-01-17T00:00:00.000000000",
          "2021-01-17T00:00:00.000000000",
          "2020-12-13T00:00:00.000000000",
          "2020-12-13T00:00:00.000000000",
          "2020-12-13T00:00:00.000000000",
          "2020-12-13T00:00:00.000000000",
          "2020-12-13T00:00:00.000000000",
          "2020-12-13T00:00:00.000000000",
          "2020-12-13T00:00:00.000000000",
          "2020-12-13T00:00:00.000000000",
          "2020-12-13T00:00:00.000000000",
          "2020-11-08T00:00:00.000000000",
          "2020-11-08T00:00:00.000000000",
          "2020-11-08T00:00:00.000000000",
          "2020-11-08T00:00:00.000000000",
          "2020-11-08T00:00:00.000000000",
          "2020-11-08T00:00:00.000000000",
          "2020-10-04T00:00:00.000000000",
          "2020-10-04T00:00:00.000000000",
          "2020-10-04T00:00:00.000000000",
          "2020-10-04T00:00:00.000000000",
          "2020-10-04T00:00:00.000000000",
          "2020-08-30T00:00:00.000000000",
          "2020-08-30T00:00:00.000000000",
          "2020-08-30T00:00:00.000000000",
          "2020-08-30T00:00:00.000000000",
          "2020-08-30T00:00:00.000000000",
          "2020-07-26T00:00:00.000000000",
          "2020-07-26T00:00:00.000000000",
          "2020-07-26T00:00:00.000000000",
          "2020-07-26T00:00:00.000000000",
          "2020-06-21T00:00:00.000000000",
          "2020-06-21T00:00:00.000000000",
          "2020-06-21T00:00:00.000000000",
          "2020-06-21T00:00:00.000000000",
          "2020-05-17T00:00:00.000000000",
          "2020-05-17T00:00:00.000000000",
          "2020-05-17T00:00:00.000000000",
          "2020-05-17T00:00:00.000000000",
          "2020-05-17T00:00:00.000000000",
          "2020-05-17T00:00:00.000000000",
          "2020-05-17T00:00:00.000000000",
          "2020-04-12T00:00:00.000000000",
          "2020-04-12T00:00:00.000000000",
          "2020-04-12T00:00:00.000000000",
          "2020-04-12T00:00:00.000000000",
          "2020-03-08T00:00:00.000000000",
          "2020-03-08T00:00:00.000000000",
          "2020-03-08T00:00:00.000000000",
          "2020-02-02T00:00:00.000000000",
          "2020-02-02T00:00:00.000000000",
          "2020-02-02T00:00:00.000000000",
          "2020-02-02T00:00:00.000000000",
          "2020-02-02T00:00:00.000000000",
          "2019-12-29T00:00:00.000000000",
          "2019-12-29T00:00:00.000000000",
          "2019-12-29T00:00:00.000000000",
          "2019-12-29T00:00:00.000000000",
          "2019-12-29T00:00:00.000000000",
          "2019-12-29T00:00:00.000000000",
          "2019-11-24T00:00:00.000000000",
          "2019-11-24T00:00:00.000000000",
          "2019-11-24T00:00:00.000000000",
          "2019-11-24T00:00:00.000000000",
          "2019-11-24T00:00:00.000000000",
          "2019-11-24T00:00:00.000000000",
          "2019-10-20T00:00:00.000000000",
          "2019-10-20T00:00:00.000000000",
          "2019-10-20T00:00:00.000000000",
          "2019-10-20T00:00:00.000000000",
          "2019-10-20T00:00:00.000000000",
          "2019-10-20T00:00:00.000000000",
          "2019-10-20T00:00:00.000000000",
          "2019-10-20T00:00:00.000000000",
          "2019-10-20T00:00:00.000000000",
          "2019-09-15T00:00:00.000000000",
          "2019-09-15T00:00:00.000000000",
          "2019-09-15T00:00:00.000000000",
          "2019-09-15T00:00:00.000000000",
          "2019-09-15T00:00:00.000000000",
          "2019-09-15T00:00:00.000000000",
          "2019-08-11T00:00:00.000000000",
          "2019-08-11T00:00:00.000000000",
          "2019-08-11T00:00:00.000000000",
          "2019-08-11T00:00:00.000000000",
          "2019-07-07T00:00:00.000000000",
          "2019-07-07T00:00:00.000000000",
          "2019-07-07T00:00:00.000000000",
          "2019-07-07T00:00:00.000000000",
          "2019-07-07T00:00:00.000000000",
          "2019-07-07T00:00:00.000000000",
          "2019-06-02T00:00:00.000000000",
          "2019-06-02T00:00:00.000000000",
          "2019-06-02T00:00:00.000000000",
          "2019-06-02T00:00:00.000000000",
          "2019-06-02T00:00:00.000000000",
          "2019-06-02T00:00:00.000000000",
          "2019-04-28T00:00:00.000000000",
          "2019-04-28T00:00:00.000000000",
          "2019-04-28T00:00:00.000000000",
          "2019-04-28T00:00:00.000000000",
          "2019-04-28T00:00:00.000000000",
          "2019-04-28T00:00:00.000000000",
          "2019-04-28T00:00:00.000000000",
          "2019-04-28T00:00:00.000000000",
          "2019-04-28T00:00:00.000000000",
          "2019-04-28T00:00:00.000000000",
          "2019-03-24T00:00:00.000000000",
          "2019-03-24T00:00:00.000000000",
          "2019-03-24T00:00:00.000000000",
          "2019-03-24T00:00:00.000000000",
          "2019-03-24T00:00:00.000000000",
          "2019-03-24T00:00:00.000000000",
          "2019-02-17T00:00:00.000000000",
          "2019-02-17T00:00:00.000000000",
          "2019-02-17T00:00:00.000000000",
          "2019-02-17T00:00:00.000000000",
          "2019-02-17T00:00:00.000000000",
          "2019-02-17T00:00:00.000000000",
          "2019-02-17T00:00:00.000000000",
          "2019-01-13T00:00:00.000000000",
          "2019-01-13T00:00:00.000000000",
          "2019-01-13T00:00:00.000000000",
          "2019-01-13T00:00:00.000000000",
          "2018-12-09T00:00:00.000000000",
          "2018-12-09T00:00:00.000000000",
          "2018-12-09T00:00:00.000000000",
          "2018-12-09T00:00:00.000000000",
          "2018-12-09T00:00:00.000000000",
          "2018-11-04T00:00:00.000000000",
          "2018-11-04T00:00:00.000000000",
          "2018-11-04T00:00:00.000000000",
          "2018-11-04T00:00:00.000000000",
          "2018-11-04T00:00:00.000000000",
          "2018-09-30T00:00:00.000000000",
          "2018-09-30T00:00:00.000000000",
          "2018-09-30T00:00:00.000000000",
          "2018-08-26T00:00:00.000000000",
          "2018-08-26T00:00:00.000000000",
          "2018-08-26T00:00:00.000000000",
          "2018-08-26T00:00:00.000000000",
          "2018-07-22T00:00:00.000000000",
          "2018-07-22T00:00:00.000000000",
          "2018-07-22T00:00:00.000000000",
          "2018-06-17T00:00:00.000000000",
          "2018-06-17T00:00:00.000000000",
          "2018-06-17T00:00:00.000000000",
          "2018-05-13T00:00:00.000000000",
          "2018-05-13T00:00:00.000000000",
          "2018-05-13T00:00:00.000000000",
          "2018-05-13T00:00:00.000000000",
          "2018-05-13T00:00:00.000000000",
          "2018-04-08T00:00:00.000000000",
          "2018-04-08T00:00:00.000000000",
          "2018-04-08T00:00:00.000000000",
          "2018-03-04T00:00:00.000000000",
          "2018-03-04T00:00:00.000000000",
          "2018-03-04T00:00:00.000000000",
          "2018-03-04T00:00:00.000000000",
          "2018-01-28T00:00:00.000000000",
          "2018-01-28T00:00:00.000000000",
          "2018-01-28T00:00:00.000000000",
          "2018-01-28T00:00:00.000000000",
          "2017-12-24T00:00:00.000000000",
          "2017-12-24T00:00:00.000000000",
          "2017-12-24T00:00:00.000000000",
          "2017-12-24T00:00:00.000000000",
          "2017-12-24T00:00:00.000000000",
          "2017-12-24T00:00:00.000000000",
          "2017-11-19T00:00:00.000000000",
          "2017-11-19T00:00:00.000000000",
          "2017-11-19T00:00:00.000000000",
          "2017-11-19T00:00:00.000000000",
          "2017-11-19T00:00:00.000000000",
          "2017-11-19T00:00:00.000000000",
          "2017-11-19T00:00:00.000000000",
          "2017-11-19T00:00:00.000000000",
          "2017-11-19T00:00:00.000000000",
          "2017-10-15T00:00:00.000000000",
          "2017-10-15T00:00:00.000000000",
          "2017-10-15T00:00:00.000000000",
          "2017-10-15T00:00:00.000000000",
          "2017-10-15T00:00:00.000000000",
          "2017-09-10T00:00:00.000000000",
          "2017-09-10T00:00:00.000000000",
          "2017-09-10T00:00:00.000000000",
          "2017-09-10T00:00:00.000000000",
          "2017-09-10T00:00:00.000000000",
          "2017-09-10T00:00:00.000000000",
          "2017-09-10T00:00:00.000000000",
          "2017-09-10T00:00:00.000000000",
          "2017-08-06T00:00:00.000000000",
          "2017-08-06T00:00:00.000000000",
          "2017-08-06T00:00:00.000000000",
          "2017-08-06T00:00:00.000000000",
          "2017-08-06T00:00:00.000000000",
          "2017-08-06T00:00:00.000000000",
          "2017-07-02T00:00:00.000000000",
          "2017-07-02T00:00:00.000000000",
          "2017-07-02T00:00:00.000000000",
          "2017-07-02T00:00:00.000000000",
          "2017-07-02T00:00:00.000000000",
          "2017-07-02T00:00:00.000000000",
          "2017-05-28T00:00:00.000000000",
          "2017-05-28T00:00:00.000000000",
          "2017-05-28T00:00:00.000000000",
          "2017-05-28T00:00:00.000000000",
          "2017-05-28T00:00:00.000000000",
          "2017-05-28T00:00:00.000000000",
          "2017-05-28T00:00:00.000000000",
          "2017-05-28T00:00:00.000000000",
          "2017-05-28T00:00:00.000000000",
          "2017-04-23T00:00:00.000000000",
          "2017-04-23T00:00:00.000000000",
          "2017-04-23T00:00:00.000000000",
          "2017-04-23T00:00:00.000000000",
          "2017-04-23T00:00:00.000000000",
          "2017-04-23T00:00:00.000000000",
          "2017-04-23T00:00:00.000000000",
          "2017-03-19T00:00:00.000000000",
          "2017-03-19T00:00:00.000000000",
          "2017-03-19T00:00:00.000000000",
          "2017-03-19T00:00:00.000000000",
          "2017-03-19T00:00:00.000000000",
          "2017-03-19T00:00:00.000000000",
          "2017-02-12T00:00:00.000000000",
          "2017-02-12T00:00:00.000000000",
          "2017-02-12T00:00:00.000000000",
          "2017-02-12T00:00:00.000000000",
          "2017-02-12T00:00:00.000000000",
          "2017-01-08T00:00:00.000000000",
          "2017-01-08T00:00:00.000000000",
          "2017-01-08T00:00:00.000000000",
          "2017-01-08T00:00:00.000000000",
          "2017-01-08T00:00:00.000000000",
          "2017-01-08T00:00:00.000000000",
          "2017-01-08T00:00:00.000000000",
          "2017-01-08T00:00:00.000000000",
          "2017-01-08T00:00:00.000000000",
          "2017-01-08T00:00:00.000000000",
          "2017-01-08T00:00:00.000000000",
          "2016-12-04T00:00:00.000000000",
          "2016-12-04T00:00:00.000000000",
          "2016-12-04T00:00:00.000000000",
          "2016-12-04T00:00:00.000000000",
          "2016-12-04T00:00:00.000000000",
          "2016-12-04T00:00:00.000000000",
          "2016-12-04T00:00:00.000000000",
          "2016-12-04T00:00:00.000000000",
          "2016-12-04T00:00:00.000000000",
          "2016-12-04T00:00:00.000000000",
          "2016-12-04T00:00:00.000000000",
          "2016-10-30T00:00:00.000000000",
          "2016-10-30T00:00:00.000000000",
          "2016-10-30T00:00:00.000000000",
          "2016-10-30T00:00:00.000000000",
          "2016-10-30T00:00:00.000000000",
          "2016-10-30T00:00:00.000000000",
          "2016-10-30T00:00:00.000000000",
          "2016-10-30T00:00:00.000000000",
          "2016-10-30T00:00:00.000000000",
          "2016-10-30T00:00:00.000000000",
          "2016-10-30T00:00:00.000000000",
          "2016-10-30T00:00:00.000000000",
          "2016-09-25T00:00:00.000000000",
          "2016-09-25T00:00:00.000000000",
          "2016-09-25T00:00:00.000000000",
          "2016-09-25T00:00:00.000000000",
          "2016-09-25T00:00:00.000000000",
          "2016-09-25T00:00:00.000000000",
          "2016-09-25T00:00:00.000000000",
          "2016-09-25T00:00:00.000000000",
          "2016-09-25T00:00:00.000000000",
          "2016-08-21T00:00:00.000000000",
          "2016-08-21T00:00:00.000000000",
          "2016-08-21T00:00:00.000000000",
          "2016-08-21T00:00:00.000000000",
          "2016-08-21T00:00:00.000000000",
          "2016-08-21T00:00:00.000000000",
          "2016-08-21T00:00:00.000000000",
          "2016-08-21T00:00:00.000000000",
          "2016-07-17T00:00:00.000000000",
          "2016-07-17T00:00:00.000000000",
          "2016-07-17T00:00:00.000000000",
          "2016-07-17T00:00:00.000000000",
          "2016-07-17T00:00:00.000000000",
          "2016-07-17T00:00:00.000000000",
          "2016-07-17T00:00:00.000000000",
          "2016-07-17T00:00:00.000000000",
          "2016-07-17T00:00:00.000000000",
          "2016-07-17T00:00:00.000000000",
          "2016-07-17T00:00:00.000000000",
          "2016-06-12T00:00:00.000000000",
          "2016-06-12T00:00:00.000000000",
          "2016-06-12T00:00:00.000000000",
          "2016-06-12T00:00:00.000000000",
          "2016-06-12T00:00:00.000000000",
          "2016-06-12T00:00:00.000000000",
          "2016-06-12T00:00:00.000000000",
          "2016-06-12T00:00:00.000000000",
          "2016-06-12T00:00:00.000000000",
          "2016-06-12T00:00:00.000000000",
          "2016-06-12T00:00:00.000000000",
          "2016-06-12T00:00:00.000000000",
          "2016-06-12T00:00:00.000000000",
          "2016-05-08T00:00:00.000000000",
          "2016-05-08T00:00:00.000000000",
          "2016-05-08T00:00:00.000000000",
          "2016-05-08T00:00:00.000000000",
          "2016-05-08T00:00:00.000000000",
          "2016-05-08T00:00:00.000000000",
          "2016-05-08T00:00:00.000000000",
          "2016-05-08T00:00:00.000000000",
          "2016-05-08T00:00:00.000000000",
          "2016-04-03T00:00:00.000000000",
          "2016-04-03T00:00:00.000000000",
          "2016-04-03T00:00:00.000000000",
          "2016-04-03T00:00:00.000000000",
          "2016-04-03T00:00:00.000000000",
          "2016-04-03T00:00:00.000000000",
          "2016-04-03T00:00:00.000000000",
          "2016-04-03T00:00:00.000000000",
          "2016-04-03T00:00:00.000000000",
          "2016-02-28T00:00:00.000000000",
          "2016-02-28T00:00:00.000000000",
          "2016-02-28T00:00:00.000000000",
          "2016-02-28T00:00:00.000000000",
          "2016-02-28T00:00:00.000000000",
          "2016-02-28T00:00:00.000000000",
          "2016-02-28T00:00:00.000000000",
          "2016-02-28T00:00:00.000000000",
          "2016-02-28T00:00:00.000000000",
          "2016-01-24T00:00:00.000000000",
          "2016-01-24T00:00:00.000000000",
          "2016-01-24T00:00:00.000000000",
          "2016-01-24T00:00:00.000000000",
          "2016-01-24T00:00:00.000000000",
          "2016-01-24T00:00:00.000000000",
          "2016-01-24T00:00:00.000000000",
          "2016-01-24T00:00:00.000000000",
          "2016-01-24T00:00:00.000000000",
          "2015-12-20T00:00:00.000000000",
          "2015-12-20T00:00:00.000000000",
          "2015-12-20T00:00:00.000000000",
          "2015-12-20T00:00:00.000000000",
          "2015-12-20T00:00:00.000000000",
          "2015-12-20T00:00:00.000000000",
          "2015-12-20T00:00:00.000000000",
          "2015-12-20T00:00:00.000000000",
          "2015-12-20T00:00:00.000000000",
          "2015-12-20T00:00:00.000000000",
          "2015-12-20T00:00:00.000000000",
          "2015-11-15T00:00:00.000000000",
          "2015-11-15T00:00:00.000000000",
          "2015-11-15T00:00:00.000000000",
          "2015-11-15T00:00:00.000000000",
          "2015-11-15T00:00:00.000000000",
          "2015-11-15T00:00:00.000000000",
          "2015-11-15T00:00:00.000000000",
          "2015-11-15T00:00:00.000000000",
          "2015-11-15T00:00:00.000000000",
          "2015-11-15T00:00:00.000000000",
          "2015-11-15T00:00:00.000000000",
          "2015-10-11T00:00:00.000000000",
          "2015-10-11T00:00:00.000000000",
          "2015-10-11T00:00:00.000000000",
          "2015-10-11T00:00:00.000000000",
          "2015-10-11T00:00:00.000000000",
          "2015-10-11T00:00:00.000000000",
          "2015-10-11T00:00:00.000000000",
          "2015-10-11T00:00:00.000000000",
          "2015-10-11T00:00:00.000000000",
          "2015-09-06T00:00:00.000000000",
          "2015-09-06T00:00:00.000000000",
          "2015-09-06T00:00:00.000000000",
          "2015-09-06T00:00:00.000000000",
          "2015-09-06T00:00:00.000000000",
          "2015-09-06T00:00:00.000000000",
          "2015-09-06T00:00:00.000000000",
          "2015-09-06T00:00:00.000000000",
          "2015-08-02T00:00:00.000000000",
          "2015-08-02T00:00:00.000000000",
          "2015-08-02T00:00:00.000000000",
          "2015-08-02T00:00:00.000000000",
          "2015-08-02T00:00:00.000000000",
          "2015-08-02T00:00:00.000000000",
          "2015-08-02T00:00:00.000000000",
          "2015-08-02T00:00:00.000000000",
          "2015-08-02T00:00:00.000000000",
          "2015-08-02T00:00:00.000000000",
          "2015-06-28T00:00:00.000000000",
          "2015-06-28T00:00:00.000000000",
          "2015-06-28T00:00:00.000000000",
          "2015-06-28T00:00:00.000000000",
          "2015-06-28T00:00:00.000000000",
          "2015-06-28T00:00:00.000000000",
          "2015-06-28T00:00:00.000000000",
          "2015-06-28T00:00:00.000000000",
          "2015-06-28T00:00:00.000000000",
          "2015-06-28T00:00:00.000000000",
          "2015-06-28T00:00:00.000000000",
          "2015-06-28T00:00:00.000000000",
          "2015-05-24T00:00:00.000000000",
          "2015-05-24T00:00:00.000000000",
          "2015-05-24T00:00:00.000000000",
          "2015-05-24T00:00:00.000000000",
          "2015-05-24T00:00:00.000000000",
          "2015-05-24T00:00:00.000000000",
          "2015-05-24T00:00:00.000000000",
          "2015-05-24T00:00:00.000000000",
          "2015-05-24T00:00:00.000000000",
          "2015-05-24T00:00:00.000000000",
          "2015-05-24T00:00:00.000000000",
          "2015-05-24T00:00:00.000000000",
          "2015-04-19T00:00:00.000000000",
          "2015-04-19T00:00:00.000000000",
          "2015-04-19T00:00:00.000000000",
          "2015-04-19T00:00:00.000000000",
          "2015-04-19T00:00:00.000000000",
          "2015-04-19T00:00:00.000000000",
          "2015-04-19T00:00:00.000000000",
          "2015-03-15T00:00:00.000000000",
          "2015-03-15T00:00:00.000000000",
          "2015-03-15T00:00:00.000000000",
          "2015-03-15T00:00:00.000000000",
          "2015-03-15T00:00:00.000000000",
          "2015-03-15T00:00:00.000000000",
          "2015-03-15T00:00:00.000000000",
          "2015-02-08T00:00:00.000000000",
          "2015-02-08T00:00:00.000000000",
          "2015-02-08T00:00:00.000000000",
          "2015-02-08T00:00:00.000000000",
          "2015-02-08T00:00:00.000000000",
          "2015-02-08T00:00:00.000000000",
          "2015-02-08T00:00:00.000000000",
          "2015-02-08T00:00:00.000000000",
          "2015-02-08T00:00:00.000000000",
          "2015-01-04T00:00:00.000000000",
          "2015-01-04T00:00:00.000000000",
          "2015-01-04T00:00:00.000000000",
          "2015-01-04T00:00:00.000000000",
          "2015-01-04T00:00:00.000000000",
          "2015-01-04T00:00:00.000000000",
          "2015-01-04T00:00:00.000000000",
          "2015-01-04T00:00:00.000000000",
          "2015-01-04T00:00:00.000000000",
          "2014-11-30T00:00:00.000000000",
          "2014-11-30T00:00:00.000000000",
          "2014-11-30T00:00:00.000000000",
          "2014-11-30T00:00:00.000000000",
          "2014-11-30T00:00:00.000000000",
          "2014-11-30T00:00:00.000000000",
          "2014-10-26T00:00:00.000000000",
          "2014-10-26T00:00:00.000000000",
          "2014-10-26T00:00:00.000000000",
          "2014-10-26T00:00:00.000000000",
          "2014-10-26T00:00:00.000000000",
          "2014-10-26T00:00:00.000000000",
          "2014-10-26T00:00:00.000000000",
          "2014-09-21T00:00:00.000000000",
          "2014-09-21T00:00:00.000000000",
          "2014-09-21T00:00:00.000000000",
          "2014-09-21T00:00:00.000000000",
          "2014-09-21T00:00:00.000000000",
          "2014-08-17T00:00:00.000000000",
          "2014-08-17T00:00:00.000000000",
          "2014-08-17T00:00:00.000000000",
          "2014-08-17T00:00:00.000000000",
          "2014-08-17T00:00:00.000000000",
          "2014-07-13T00:00:00.000000000",
          "2014-07-13T00:00:00.000000000",
          "2014-07-13T00:00:00.000000000",
          "2014-07-13T00:00:00.000000000",
          "2014-06-08T00:00:00.000000000",
          "2014-06-08T00:00:00.000000000",
          "2014-05-04T00:00:00.000000000",
          "2014-05-04T00:00:00.000000000",
          "2014-05-04T00:00:00.000000000",
          "2014-05-04T00:00:00.000000000",
          "2014-03-30T00:00:00.000000000",
          "2014-03-30T00:00:00.000000000",
          "2014-03-30T00:00:00.000000000",
          "2014-03-30T00:00:00.000000000",
          "2014-03-30T00:00:00.000000000",
          "2014-02-23T00:00:00.000000000",
          "2014-02-23T00:00:00.000000000",
          "2014-02-23T00:00:00.000000000",
          "2014-02-23T00:00:00.000000000",
          "2014-02-23T00:00:00.000000000",
          "2014-02-23T00:00:00.000000000",
          "2013-12-15T00:00:00.000000000",
          "2013-12-15T00:00:00.000000000",
          "2013-12-15T00:00:00.000000000",
          "2013-11-10T00:00:00.000000000",
          "2013-11-10T00:00:00.000000000",
          "2013-11-10T00:00:00.000000000",
          "2013-11-10T00:00:00.000000000",
          "2013-10-06T00:00:00.000000000",
          "2013-10-06T00:00:00.000000000",
          "2013-10-06T00:00:00.000000000",
          "2013-10-06T00:00:00.000000000",
          "2013-10-06T00:00:00.000000000",
          "2013-09-01T00:00:00.000000000",
          "2013-07-28T00:00:00.000000000",
          "2013-07-28T00:00:00.000000000",
          "2013-07-28T00:00:00.000000000",
          "2013-07-28T00:00:00.000000000",
          "2013-06-23T00:00:00.000000000",
          "2013-06-23T00:00:00.000000000",
          "2013-06-23T00:00:00.000000000"
         ],
         "xaxis": "x",
         "y": [
          "biography & autobiography",
          "biography & autobiography",
          "biography & autobiography",
          "biography & autobiography",
          "biography & autobiography",
          "biography & autobiography",
          "biography & autobiography",
          "biography & autobiography",
          "biography & autobiography",
          "biography & autobiography",
          "biography & autobiography",
          "biography & autobiography",
          "biography & autobiography",
          "biography & autobiography",
          "biography & autobiography",
          "biography & autobiography",
          "biography & autobiography",
          "biography & autobiography",
          "biography & autobiography",
          "biography & autobiography",
          "biography & autobiography",
          "biography & autobiography",
          "biography & autobiography",
          "biography & autobiography",
          "biography & autobiography",
          "biography & autobiography",
          "biography & autobiography",
          "biography & autobiography",
          "biography & autobiography",
          "biography & autobiography",
          "biography & autobiography",
          "biography & autobiography",
          "biography & autobiography",
          "biography & autobiography",
          "biography & autobiography",
          "biography & autobiography",
          "biography & autobiography",
          "biography & autobiography",
          "biography & autobiography",
          "biography & autobiography",
          "biography & autobiography",
          "biography & autobiography",
          "biography & autobiography",
          "biography & autobiography",
          "biography & autobiography",
          "biography & autobiography",
          "biography & autobiography",
          "biography & autobiography",
          "biography & autobiography",
          "biography & autobiography",
          "biography & autobiography",
          "biography & autobiography",
          "biography & autobiography",
          "biography & autobiography",
          "biography & autobiography",
          "biography & autobiography",
          "biography & autobiography",
          "biography & autobiography",
          "biography & autobiography",
          "biography & autobiography",
          "biography & autobiography",
          "biography & autobiography",
          "biography & autobiography",
          "biography & autobiography",
          "biography & autobiography",
          "biography & autobiography",
          "biography & autobiography",
          "biography & autobiography",
          "biography & autobiography",
          "biography & autobiography",
          "biography & autobiography",
          "biography & autobiography",
          "biography & autobiography",
          "biography & autobiography",
          "biography & autobiography",
          "biography & autobiography",
          "biography & autobiography",
          "biography & autobiography",
          "biography & autobiography",
          "biography & autobiography",
          "biography & autobiography",
          "biography & autobiography",
          "biography & autobiography",
          "biography & autobiography",
          "biography & autobiography",
          "biography & autobiography",
          "biography & autobiography",
          "biography & autobiography",
          "biography & autobiography",
          "biography & autobiography",
          "biography & autobiography",
          "biography & autobiography",
          "biography & autobiography",
          "biography & autobiography",
          "biography & autobiography",
          "biography & autobiography",
          "biography & autobiography",
          "biography & autobiography",
          "biography & autobiography",
          "biography & autobiography",
          "biography & autobiography",
          "biography & autobiography",
          "biography & autobiography",
          "biography & autobiography",
          "biography & autobiography",
          "biography & autobiography",
          "biography & autobiography",
          "biography & autobiography",
          "biography & autobiography",
          "biography & autobiography",
          "biography & autobiography",
          "biography & autobiography",
          "biography & autobiography",
          "biography & autobiography",
          "biography & autobiography",
          "biography & autobiography",
          "biography & autobiography",
          "biography & autobiography",
          "biography & autobiography",
          "biography & autobiography",
          "biography & autobiography",
          "biography & autobiography",
          "biography & autobiography",
          "biography & autobiography",
          "biography & autobiography",
          "biography & autobiography",
          "biography & autobiography",
          "biography & autobiography",
          "biography & autobiography",
          "biography & autobiography",
          "biography & autobiography",
          "biography & autobiography",
          "biography & autobiography",
          "biography & autobiography",
          "biography & autobiography",
          "biography & autobiography",
          "biography & autobiography",
          "biography & autobiography",
          "biography & autobiography",
          "biography & autobiography",
          "biography & autobiography",
          "biography & autobiography",
          "biography & autobiography",
          "biography & autobiography",
          "biography & autobiography",
          "biography & autobiography",
          "biography & autobiography",
          "biography & autobiography",
          "biography & autobiography",
          "biography & autobiography",
          "biography & autobiography",
          "biography & autobiography",
          "biography & autobiography",
          "biography & autobiography",
          "biography & autobiography",
          "biography & autobiography",
          "biography & autobiography",
          "biography & autobiography",
          "biography & autobiography",
          "biography & autobiography",
          "biography & autobiography",
          "biography & autobiography",
          "biography & autobiography",
          "biography & autobiography",
          "biography & autobiography",
          "biography & autobiography",
          "biography & autobiography",
          "biography & autobiography",
          "biography & autobiography",
          "biography & autobiography",
          "biography & autobiography",
          "biography & autobiography",
          "biography & autobiography",
          "biography & autobiography",
          "biography & autobiography",
          "biography & autobiography",
          "biography & autobiography",
          "biography & autobiography",
          "biography & autobiography",
          "biography & autobiography",
          "biography & autobiography",
          "biography & autobiography",
          "biography & autobiography",
          "biography & autobiography",
          "biography & autobiography",
          "biography & autobiography",
          "biography & autobiography",
          "biography & autobiography",
          "biography & autobiography",
          "biography & autobiography",
          "biography & autobiography",
          "biography & autobiography",
          "biography & autobiography",
          "biography & autobiography",
          "biography & autobiography",
          "biography & autobiography",
          "biography & autobiography",
          "biography & autobiography",
          "biography & autobiography",
          "biography & autobiography",
          "biography & autobiography",
          "biography & autobiography",
          "biography & autobiography",
          "biography & autobiography",
          "biography & autobiography",
          "biography & autobiography",
          "biography & autobiography",
          "biography & autobiography",
          "biography & autobiography",
          "biography & autobiography",
          "biography & autobiography",
          "biography & autobiography",
          "biography & autobiography",
          "biography & autobiography",
          "biography & autobiography",
          "biography & autobiography",
          "biography & autobiography",
          "biography & autobiography",
          "biography & autobiography",
          "biography & autobiography",
          "biography & autobiography",
          "biography & autobiography",
          "biography & autobiography",
          "biography & autobiography",
          "biography & autobiography",
          "biography & autobiography",
          "biography & autobiography",
          "biography & autobiography",
          "biography & autobiography",
          "biography & autobiography",
          "biography & autobiography",
          "biography & autobiography",
          "biography & autobiography",
          "biography & autobiography",
          "biography & autobiography",
          "biography & autobiography",
          "biography & autobiography",
          "biography & autobiography",
          "biography & autobiography",
          "biography & autobiography",
          "biography & autobiography",
          "biography & autobiography",
          "biography & autobiography",
          "biography & autobiography",
          "biography & autobiography",
          "biography & autobiography",
          "biography & autobiography",
          "biography & autobiography",
          "biography & autobiography",
          "biography & autobiography",
          "biography & autobiography",
          "biography & autobiography",
          "biography & autobiography",
          "biography & autobiography",
          "biography & autobiography",
          "biography & autobiography",
          "biography & autobiography",
          "biography & autobiography",
          "biography & autobiography",
          "biography & autobiography",
          "biography & autobiography",
          "biography & autobiography",
          "biography & autobiography",
          "biography & autobiography",
          "biography & autobiography",
          "biography & autobiography",
          "biography & autobiography",
          "biography & autobiography",
          "biography & autobiography",
          "biography & autobiography",
          "biography & autobiography",
          "biography & autobiography",
          "biography & autobiography",
          "biography & autobiography",
          "biography & autobiography",
          "biography & autobiography",
          "biography & autobiography",
          "biography & autobiography",
          "biography & autobiography",
          "biography & autobiography",
          "biography & autobiography",
          "biography & autobiography",
          "biography & autobiography",
          "biography & autobiography",
          "biography & autobiography",
          "biography & autobiography",
          "biography & autobiography",
          "biography & autobiography",
          "biography & autobiography",
          "biography & autobiography",
          "biography & autobiography",
          "biography & autobiography",
          "biography & autobiography",
          "biography & autobiography",
          "biography & autobiography",
          "biography & autobiography",
          "biography & autobiography",
          "biography & autobiography",
          "biography & autobiography",
          "biography & autobiography",
          "biography & autobiography",
          "biography & autobiography",
          "biography & autobiography",
          "biography & autobiography",
          "biography & autobiography",
          "biography & autobiography",
          "biography & autobiography",
          "biography & autobiography",
          "biography & autobiography",
          "biography & autobiography",
          "biography & autobiography",
          "biography & autobiography",
          "biography & autobiography",
          "biography & autobiography",
          "biography & autobiography",
          "biography & autobiography",
          "biography & autobiography",
          "biography & autobiography",
          "biography & autobiography",
          "biography & autobiography",
          "biography & autobiography",
          "biography & autobiography",
          "biography & autobiography",
          "biography & autobiography",
          "biography & autobiography",
          "biography & autobiography",
          "biography & autobiography",
          "biography & autobiography",
          "biography & autobiography",
          "biography & autobiography",
          "biography & autobiography",
          "biography & autobiography",
          "biography & autobiography",
          "biography & autobiography",
          "biography & autobiography",
          "biography & autobiography",
          "biography & autobiography",
          "biography & autobiography",
          "biography & autobiography",
          "biography & autobiography",
          "biography & autobiography",
          "biography & autobiography",
          "biography & autobiography",
          "biography & autobiography",
          "biography & autobiography",
          "biography & autobiography",
          "biography & autobiography",
          "biography & autobiography",
          "biography & autobiography",
          "biography & autobiography",
          "biography & autobiography",
          "biography & autobiography",
          "biography & autobiography",
          "biography & autobiography",
          "biography & autobiography",
          "biography & autobiography",
          "biography & autobiography",
          "biography & autobiography",
          "biography & autobiography",
          "biography & autobiography",
          "biography & autobiography",
          "biography & autobiography",
          "biography & autobiography",
          "biography & autobiography",
          "biography & autobiography",
          "biography & autobiography",
          "biography & autobiography",
          "biography & autobiography",
          "biography & autobiography",
          "biography & autobiography",
          "biography & autobiography",
          "biography & autobiography",
          "biography & autobiography",
          "biography & autobiography",
          "biography & autobiography",
          "biography & autobiography",
          "biography & autobiography",
          "biography & autobiography",
          "biography & autobiography",
          "biography & autobiography",
          "biography & autobiography",
          "biography & autobiography",
          "biography & autobiography",
          "biography & autobiography",
          "biography & autobiography",
          "biography & autobiography",
          "biography & autobiography",
          "biography & autobiography",
          "biography & autobiography",
          "biography & autobiography",
          "biography & autobiography",
          "biography & autobiography",
          "biography & autobiography",
          "biography & autobiography",
          "biography & autobiography",
          "biography & autobiography",
          "biography & autobiography",
          "biography & autobiography",
          "biography & autobiography",
          "biography & autobiography",
          "biography & autobiography",
          "biography & autobiography",
          "biography & autobiography",
          "biography & autobiography",
          "biography & autobiography",
          "biography & autobiography",
          "biography & autobiography",
          "biography & autobiography",
          "biography & autobiography",
          "biography & autobiography",
          "biography & autobiography",
          "biography & autobiography",
          "biography & autobiography",
          "biography & autobiography",
          "biography & autobiography",
          "biography & autobiography",
          "biography & autobiography",
          "biography & autobiography",
          "biography & autobiography",
          "biography & autobiography",
          "biography & autobiography",
          "biography & autobiography",
          "biography & autobiography",
          "biography & autobiography",
          "biography & autobiography",
          "biography & autobiography",
          "biography & autobiography",
          "biography & autobiography",
          "biography & autobiography",
          "biography & autobiography",
          "biography & autobiography",
          "biography & autobiography",
          "biography & autobiography",
          "biography & autobiography",
          "biography & autobiography",
          "biography & autobiography",
          "biography & autobiography",
          "biography & autobiography",
          "biography & autobiography",
          "biography & autobiography",
          "biography & autobiography",
          "biography & autobiography",
          "biography & autobiography",
          "biography & autobiography",
          "biography & autobiography",
          "biography & autobiography",
          "biography & autobiography",
          "biography & autobiography",
          "biography & autobiography",
          "biography & autobiography",
          "biography & autobiography",
          "biography & autobiography",
          "biography & autobiography",
          "biography & autobiography",
          "biography & autobiography",
          "biography & autobiography",
          "biography & autobiography",
          "biography & autobiography",
          "biography & autobiography",
          "biography & autobiography",
          "biography & autobiography",
          "biography & autobiography",
          "biography & autobiography",
          "biography & autobiography",
          "biography & autobiography",
          "biography & autobiography",
          "biography & autobiography",
          "biography & autobiography",
          "biography & autobiography",
          "biography & autobiography",
          "biography & autobiography",
          "biography & autobiography",
          "biography & autobiography",
          "biography & autobiography",
          "biography & autobiography",
          "biography & autobiography",
          "biography & autobiography",
          "biography & autobiography",
          "biography & autobiography",
          "biography & autobiography",
          "biography & autobiography",
          "biography & autobiography",
          "biography & autobiography",
          "biography & autobiography",
          "biography & autobiography",
          "biography & autobiography",
          "biography & autobiography",
          "biography & autobiography",
          "biography & autobiography",
          "biography & autobiography",
          "biography & autobiography",
          "biography & autobiography",
          "biography & autobiography",
          "biography & autobiography",
          "biography & autobiography",
          "biography & autobiography",
          "biography & autobiography",
          "biography & autobiography",
          "biography & autobiography",
          "biography & autobiography",
          "biography & autobiography",
          "biography & autobiography",
          "biography & autobiography",
          "biography & autobiography",
          "biography & autobiography",
          "biography & autobiography",
          "biography & autobiography",
          "biography & autobiography",
          "biography & autobiography",
          "biography & autobiography",
          "biography & autobiography",
          "biography & autobiography",
          "biography & autobiography",
          "biography & autobiography",
          "biography & autobiography",
          "biography & autobiography",
          "biography & autobiography",
          "biography & autobiography",
          "biography & autobiography",
          "biography & autobiography",
          "biography & autobiography",
          "biography & autobiography",
          "biography & autobiography",
          "biography & autobiography",
          "biography & autobiography",
          "biography & autobiography",
          "biography & autobiography",
          "biography & autobiography",
          "biography & autobiography",
          "biography & autobiography",
          "biography & autobiography",
          "biography & autobiography",
          "biography & autobiography",
          "biography & autobiography",
          "biography & autobiography",
          "biography & autobiography",
          "biography & autobiography",
          "biography & autobiography",
          "biography & autobiography",
          "biography & autobiography",
          "biography & autobiography",
          "biography & autobiography",
          "biography & autobiography",
          "biography & autobiography",
          "biography & autobiography",
          "biography & autobiography",
          "biography & autobiography",
          "biography & autobiography",
          "biography & autobiography",
          "biography & autobiography",
          "biography & autobiography",
          "biography & autobiography",
          "biography & autobiography",
          "biography & autobiography",
          "biography & autobiography",
          "biography & autobiography",
          "biography & autobiography",
          "biography & autobiography",
          "biography & autobiography",
          "biography & autobiography",
          "biography & autobiography",
          "biography & autobiography",
          "biography & autobiography",
          "biography & autobiography",
          "biography & autobiography",
          "biography & autobiography",
          "biography & autobiography",
          "biography & autobiography",
          "biography & autobiography",
          "biography & autobiography",
          "biography & autobiography",
          "biography & autobiography",
          "biography & autobiography",
          "biography & autobiography",
          "biography & autobiography",
          "biography & autobiography",
          "biography & autobiography",
          "biography & autobiography",
          "biography & autobiography",
          "biography & autobiography",
          "biography & autobiography",
          "biography & autobiography",
          "biography & autobiography",
          "biography & autobiography",
          "biography & autobiography",
          "biography & autobiography",
          "biography & autobiography",
          "biography & autobiography",
          "biography & autobiography",
          "biography & autobiography",
          "biography & autobiography",
          "biography & autobiography",
          "biography & autobiography",
          "biography & autobiography",
          "biography & autobiography",
          "biography & autobiography",
          "biography & autobiography",
          "biography & autobiography",
          "biography & autobiography",
          "biography & autobiography",
          "biography & autobiography",
          "biography & autobiography",
          "biography & autobiography",
          "biography & autobiography",
          "biography & autobiography",
          "biography & autobiography",
          "biography & autobiography",
          "biography & autobiography",
          "biography & autobiography",
          "biography & autobiography",
          "biography & autobiography",
          "biography & autobiography",
          "biography & autobiography",
          "biography & autobiography",
          "biography & autobiography",
          "biography & autobiography",
          "biography & autobiography",
          "biography & autobiography",
          "biography & autobiography",
          "biography & autobiography",
          "biography & autobiography",
          "biography & autobiography",
          "biography & autobiography",
          "biography & autobiography",
          "biography & autobiography",
          "biography & autobiography",
          "biography & autobiography",
          "biography & autobiography",
          "biography & autobiography",
          "biography & autobiography",
          "biography & autobiography",
          "biography & autobiography",
          "biography & autobiography",
          "biography & autobiography",
          "biography & autobiography",
          "biography & autobiography",
          "biography & autobiography",
          "biography & autobiography",
          "biography & autobiography",
          "biography & autobiography",
          "biography & autobiography",
          "biography & autobiography",
          "biography & autobiography",
          "biography & autobiography",
          "biography & autobiography",
          "biography & autobiography",
          "biography & autobiography",
          "biography & autobiography",
          "biography & autobiography",
          "biography & autobiography",
          "biography & autobiography",
          "biography & autobiography",
          "biography & autobiography",
          "biography & autobiography",
          "biography & autobiography",
          "biography & autobiography",
          "biography & autobiography",
          "biography & autobiography",
          "biography & autobiography",
          "biography & autobiography",
          "biography & autobiography",
          "biography & autobiography",
          "biography & autobiography",
          "biography & autobiography",
          "biography & autobiography",
          "biography & autobiography",
          "biography & autobiography",
          "biography & autobiography",
          "biography & autobiography",
          "biography & autobiography",
          "biography & autobiography",
          "biography & autobiography",
          "biography & autobiography",
          "biography & autobiography",
          "biography & autobiography",
          "biography & autobiography",
          "biography & autobiography",
          "biography & autobiography",
          "biography & autobiography",
          "biography & autobiography",
          "biography & autobiography",
          "biography & autobiography",
          "biography & autobiography",
          "biography & autobiography",
          "biography & autobiography",
          "biography & autobiography",
          "biography & autobiography",
          "biography & autobiography",
          "biography & autobiography",
          "biography & autobiography",
          "biography & autobiography",
          "biography & autobiography",
          "biography & autobiography",
          "biography & autobiography",
          "biography & autobiography",
          "biography & autobiography",
          "biography & autobiography",
          "biography & autobiography",
          "biography & autobiography",
          "biography & autobiography",
          "biography & autobiography",
          "biography & autobiography",
          "biography & autobiography",
          "biography & autobiography",
          "biography & autobiography",
          "biography & autobiography",
          "biography & autobiography",
          "biography & autobiography",
          "biography & autobiography",
          "biography & autobiography",
          "biography & autobiography",
          "biography & autobiography",
          "biography & autobiography",
          "biography & autobiography",
          "biography & autobiography",
          "biography & autobiography",
          "biography & autobiography",
          "biography & autobiography",
          "biography & autobiography",
          "biography & autobiography",
          "biography & autobiography",
          "biography & autobiography",
          "biography & autobiography",
          "biography & autobiography",
          "biography & autobiography",
          "biography & autobiography",
          "biography & autobiography",
          "biography & autobiography",
          "biography & autobiography",
          "biography & autobiography",
          "biography & autobiography",
          "biography & autobiography",
          "biography & autobiography",
          "biography & autobiography",
          "biography & autobiography",
          "biography & autobiography",
          "biography & autobiography",
          "biography & autobiography",
          "biography & autobiography",
          "biography & autobiography",
          "biography & autobiography",
          "biography & autobiography",
          "biography & autobiography",
          "biography & autobiography",
          "biography & autobiography",
          "biography & autobiography",
          "biography & autobiography",
          "biography & autobiography",
          "biography & autobiography",
          "biography & autobiography",
          "biography & autobiography",
          "biography & autobiography",
          "biography & autobiography",
          "biography & autobiography",
          "biography & autobiography",
          "biography & autobiography",
          "biography & autobiography",
          "biography & autobiography",
          "biography & autobiography",
          "biography & autobiography",
          "biography & autobiography",
          "biography & autobiography",
          "biography & autobiography",
          "biography & autobiography",
          "biography & autobiography",
          "biography & autobiography",
          "biography & autobiography",
          "biography & autobiography",
          "biography & autobiography",
          "biography & autobiography",
          "biography & autobiography",
          "biography & autobiography",
          "biography & autobiography",
          "biography & autobiography",
          "biography & autobiography",
          "biography & autobiography",
          "biography & autobiography",
          "biography & autobiography",
          "biography & autobiography",
          "biography & autobiography",
          "biography & autobiography",
          "biography & autobiography",
          "biography & autobiography",
          "biography & autobiography",
          "biography & autobiography",
          "biography & autobiography",
          "biography & autobiography",
          "biography & autobiography",
          "biography & autobiography",
          "biography & autobiography",
          "biography & autobiography",
          "biography & autobiography",
          "biography & autobiography",
          "biography & autobiography",
          "biography & autobiography",
          "biography & autobiography",
          "biography & autobiography",
          "biography & autobiography",
          "biography & autobiography",
          "biography & autobiography",
          "biography & autobiography",
          "biography & autobiography",
          "biography & autobiography",
          "biography & autobiography",
          "biography & autobiography",
          "biography & autobiography",
          "biography & autobiography",
          "biography & autobiography",
          "biography & autobiography"
         ],
         "yaxis": "y"
        },
        {
         "customdata": [
          [
           "ABUNDANCE"
          ],
          [
           "APPLE IN CHINA"
          ],
          [
           "ABUNDANCE"
          ],
          [
           "ABUNDANCE"
          ],
          [
           "REVENGE OF THE TIPPING POINT"
          ],
          [
           "REVENGE OF THE TIPPING POINT"
          ],
          [
           "REVENGE OF THE TIPPING POINT"
          ],
          [
           "ON THE EDGE"
          ],
          [
           "CO-INTELLIGENCE"
          ],
          [
           "THINK AGAIN"
          ],
          [
           "THE HIDDEN ROOTS OF WHITE SUPREMACY"
          ],
          [
           "THINK AGAIN"
          ],
          [
           "THINK AGAIN"
          ],
          [
           "THINK AGAIN"
          ],
          [
           "THINK AGAIN"
          ],
          [
           "THINK AGAIN"
          ],
          [
           "THINK AGAIN"
          ],
          [
           "THINK AGAIN"
          ],
          [
           "DARK TOWERS"
          ],
          [
           "TIGHTROPE"
          ],
          [
           "THE MAN WHO SOLVED THE MARKET"
          ],
          [
           "CALL SIGN CHAOS"
          ],
          [
           "BAD BLOOD"
          ],
          [
           "BAD BLOOD"
          ],
          [
           "BAD BLOOD"
          ],
          [
           "BAD BLOOD"
          ],
          [
           "BAD BLOOD"
          ],
          [
           "BAD BLOOD"
          ],
          [
           "BAD BLOOD"
          ],
          [
           "BAD BLOOD"
          ],
          [
           "FACTFULNESS"
          ],
          [
           "MEASURE WHAT MATTERS"
          ],
          [
           "WHEN"
          ],
          [
           "WHEN"
          ],
          [
           "THE ROAD TO RUIN"
          ],
          [
           "GRIT"
          ],
          [
           "GRIT"
          ],
          [
           "GRIT"
          ],
          [
           "GRIT"
          ],
          [
           "SMARTER FASTER BETTER"
          ],
          [
           "CONTAGIOUS"
          ],
          [
           "SMARTER FASTER BETTER"
          ],
          [
           "ORIGINALS"
          ],
          [
           "LIGHTS OUT"
          ],
          [
           "LIGHTS OUT"
          ],
          [
           "WHEN TO ROB A BANK"
          ],
          [
           "THINK LIKE A FREAK"
          ],
          [
           "THE POWER OF HABIT"
          ],
          [
           "THINK LIKE A FREAK"
          ],
          [
           "CAPITAL IN THE TWENTY-FIRST CENTURY"
          ],
          [
           "FLASH BOYS"
          ],
          [
           "THE DIVIDE"
          ],
          [
           "FREAKONOMICS"
          ],
          [
           "CAPITAL IN THE TWENTY-FIRST CENTURY"
          ],
          [
           "TRIPLE PACKAGE"
          ]
         ],
         "hovertemplate": "category=%{y}<br>published_date=%{x}<br>title=%{customdata[0]}<extra></extra>",
         "legendgroup": "business & economics",
         "marker": {
          "color": "#FFA15A",
          "opacity": 0.25,
          "symbol": "circle"
         },
         "mode": "markers",
         "name": "business & economics",
         "showlegend": true,
         "type": "scattergl",
         "x": [
          "2025-06-15T00:00:00.000000000",
          "2025-06-15T00:00:00.000000000",
          "2025-05-11T00:00:00.000000000",
          "2025-04-06T00:00:00.000000000",
          "2025-01-26T00:00:00.000000000",
          "2024-12-22T00:00:00.000000000",
          "2024-11-17T00:00:00.000000000",
          "2024-09-08T00:00:00.000000000",
          "2024-04-21T00:00:00.000000000",
          "2024-02-11T00:00:00.000000000",
          "2023-09-24T00:00:00.000000000",
          "2022-09-04T00:00:00.000000000",
          "2021-09-19T00:00:00.000000000",
          "2021-07-11T00:00:00.000000000",
          "2021-06-06T00:00:00.000000000",
          "2021-05-02T00:00:00.000000000",
          "2021-03-28T00:00:00.000000000",
          "2021-02-21T00:00:00.000000000",
          "2020-03-08T00:00:00.000000000",
          "2020-02-02T00:00:00.000000000",
          "2019-11-24T00:00:00.000000000",
          "2019-10-20T00:00:00.000000000",
          "2019-04-28T00:00:00.000000000",
          "2019-03-24T00:00:00.000000000",
          "2019-02-17T00:00:00.000000000",
          "2019-01-13T00:00:00.000000000",
          "2018-09-30T00:00:00.000000000",
          "2018-08-26T00:00:00.000000000",
          "2018-07-22T00:00:00.000000000",
          "2018-06-17T00:00:00.000000000",
          "2018-06-17T00:00:00.000000000",
          "2018-05-13T00:00:00.000000000",
          "2018-03-04T00:00:00.000000000",
          "2018-01-28T00:00:00.000000000",
          "2016-12-04T00:00:00.000000000",
          "2016-09-25T00:00:00.000000000",
          "2016-08-21T00:00:00.000000000",
          "2016-07-17T00:00:00.000000000",
          "2016-06-12T00:00:00.000000000",
          "2016-05-08T00:00:00.000000000",
          "2016-05-08T00:00:00.000000000",
          "2016-04-03T00:00:00.000000000",
          "2016-02-28T00:00:00.000000000",
          "2015-12-20T00:00:00.000000000",
          "2015-11-15T00:00:00.000000000",
          "2015-05-24T00:00:00.000000000",
          "2015-04-19T00:00:00.000000000",
          "2015-02-08T00:00:00.000000000",
          "2014-07-13T00:00:00.000000000",
          "2014-06-08T00:00:00.000000000",
          "2014-05-04T00:00:00.000000000",
          "2014-05-04T00:00:00.000000000",
          "2014-05-04T00:00:00.000000000",
          "2014-05-04T00:00:00.000000000",
          "2014-02-23T00:00:00.000000000"
         ],
         "xaxis": "x",
         "y": [
          "business & economics",
          "business & economics",
          "business & economics",
          "business & economics",
          "business & economics",
          "business & economics",
          "business & economics",
          "business & economics",
          "business & economics",
          "business & economics",
          "business & economics",
          "business & economics",
          "business & economics",
          "business & economics",
          "business & economics",
          "business & economics",
          "business & economics",
          "business & economics",
          "business & economics",
          "business & economics",
          "business & economics",
          "business & economics",
          "business & economics",
          "business & economics",
          "business & economics",
          "business & economics",
          "business & economics",
          "business & economics",
          "business & economics",
          "business & economics",
          "business & economics",
          "business & economics",
          "business & economics",
          "business & economics",
          "business & economics",
          "business & economics",
          "business & economics",
          "business & economics",
          "business & economics",
          "business & economics",
          "business & economics",
          "business & economics",
          "business & economics",
          "business & economics",
          "business & economics",
          "business & economics",
          "business & economics",
          "business & economics",
          "business & economics",
          "business & economics",
          "business & economics",
          "business & economics",
          "business & economics",
          "business & economics",
          "business & economics"
         ],
         "yaxis": "y"
        },
        {
         "customdata": [
          [
           "THE FATE OF THE DAY"
          ],
          [
           "ON DEMOCRACIES AND DEATH CULTS"
          ],
          [
           "ANTISEMITISM IN AMERICA"
          ],
          [
           "THE DEMON OF UNREST"
          ],
          [
           "THE DEMON OF UNREST"
          ],
          [
           "NEXUS"
          ],
          [
           "THE SMALL AND THE MIGHTY"
          ],
          [
           "TARGETED: BEIRUT"
          ],
          [
           "THE BARN"
          ],
          [
           "NEXUS"
          ],
          [
           "GHOSTS OF HONOLULU"
          ],
          [
           "THE DEMON OF UNREST"
          ],
          [
           "THE DEMON OF UNREST"
          ],
          [
           "THE DEMON OF UNREST"
          ],
          [
           "NUCLEAR WAR"
          ],
          [
           "THE DEMON OF UNREST"
          ],
          [
           "THE SITUATION ROOM"
          ],
          [
           "WHEN THE SEA CAME ALIVE"
          ],
          [
           "HIP-HOP IS HISTORY"
          ],
          [
           "PATTON'S PRAYER"
          ],
          [
           "THE DEMON OF UNREST"
          ],
          [
           "THE HUNDRED YEARS' WAR ON PALESTINE"
          ],
          [
           "NUCLEAR WAR"
          ],
          [
           "BLOOD MONEY"
          ],
          [
           "MADNESS"
          ],
          [
           "TEDDY AND BOOKER T."
          ],
          [
           "KILLING THE WITCHES"
          ],
          [
           "DEMOCRACY AWAKENING"
          ],
          [
           "THE ESCAPE ARTIST"
          ],
          [
           "THE 1619 PROJECT"
          ],
          [
           "MYTH AMERICA"
          ],
          [
           "THE SONG OF THE CELL"
          ],
          [
           "THE SONG OF THE CELL"
          ],
          [
           "THE SONG OF THE CELL"
          ],
          [
           "THE DIVIDER"
          ],
          [
           "KILLING THE KILLERS"
          ],
          [
           "KILLING THE KILLERS"
          ],
          [
           "THE POPE AT WAR"
          ],
          [
           "RIVER OF THE GODS"
          ],
          [
           "KILLING THE KILLERS"
          ],
          [
           "AGAINST ALL ODDS"
          ],
          [
           "THE 1619 PROJECT"
          ],
          [
           "THE SPLENDID AND THE VILE"
          ],
          [
           "THE 1619 PROJECT"
          ],
          [
           "THE SPLENDID AND THE VILE"
          ],
          [
           "THE DRESSMAKERS OF AUSCHWITZ"
          ],
          [
           "THE BETRAYAL OF ANNE FRANK"
          ],
          [
           "THE 1619 PROJECT"
          ],
          [
           "THE 1619 PROJECT"
          ],
          [
           "THE PRESIDENT AND THE FREEDOM FIGHTER"
          ],
          [
           "THE DAWN OF EVERYTHING"
          ],
          [
           "THE DAWN OF EVERYTHING"
          ],
          [
           "THE PRESIDENT AND THE FREEDOM FIGHTER"
          ],
          [
           "VANDERBILT"
          ],
          [
           "THE AFGHANISTAN PAPERS"
          ],
          [
           "THE WARMTH OF OTHER SUNS"
          ],
          [
           "FRANKLY, WE DID WIN THIS ELECTION"
          ],
          [
           "KILLING THE MOB"
          ],
          [
           "KILLING THE MOB"
          ],
          [
           "THE BOMBER MAFIA"
          ],
          [
           "ON JUNETEENTH"
          ],
          [
           "KILLING THE MOB"
          ],
          [
           "THE BOMBER MAFIA"
          ],
          [
           "FACING THE MOUNTAIN"
          ],
          [
           "THE SPLENDID AND THE VILE"
          ],
          [
           "KILLING CRAZY HORSE"
          ],
          [
           "KILLING CRAZY HORSE"
          ],
          [
           "EVIL GENIUSES"
          ],
          [
           "THE WARMTH OF OTHER SUNS"
          ],
          [
           "THE SPLENDID AND THE VILE"
          ],
          [
           "SEPARATED"
          ],
          [
           "THE SPLENDID AND THE VILE"
          ],
          [
           "THE SPLENDID AND THE VILE"
          ],
          [
           "THE SPLENDID AND THE VILE"
          ],
          [
           "THE GREAT INFLUENZA"
          ],
          [
           "THE SPLENDID AND THE VILE"
          ],
          [
           "THE GREAT INFLUENZA"
          ],
          [
           "SAY NOTHING"
          ],
          [
           "SAM HOUSTON AND THE ALAMO AVENGERS"
          ],
          [
           "THE WAY I HEARD IT"
          ],
          [
           "THE PIONEERS"
          ],
          [
           "SAM HOUSTON AND THE ALAMO AVENGERS"
          ],
          [
           "THE PIONEERS"
          ],
          [
           "THREE WOMEN"
          ],
          [
           "TRICK MIRROR"
          ],
          [
           "THREE WOMEN"
          ],
          [
           "THE PIONEERS"
          ],
          [
           "THE PIONEERS"
          ],
          [
           "SONGS OF AMERICA"
          ],
          [
           "SEA STORIES"
          ],
          [
           "THE BRITISH ARE COMING"
          ],
          [
           "THE PIONEERS"
          ],
          [
           "THE BRITISH ARE COMING"
          ],
          [
           "SACRED DUTY"
          ],
          [
           "SAY NOTHING"
          ],
          [
           "SPEARHEAD"
          ],
          [
           "MADAME FOURCADE'S SECRET WAR"
          ],
          [
           "THE FIRST CONSPIRACY"
          ],
          [
           "THE LIBRARY BOOK"
          ],
          [
           "KILLING THE SS"
          ],
          [
           "LEADERSHIP"
          ],
          [
           "21 LESSONS FOR THE 21ST CENTURY"
          ],
          [
           "KILLING THE SS"
          ],
          [
           "LEADERSHIP"
          ],
          [
           "THE LIBRARY BOOK"
          ],
          [
           "KILLING THE SS"
          ],
          [
           "THE LIBRARY BOOK"
          ],
          [
           "IN THE HURRICANE'S EYE"
          ],
          [
           "LEADERSHIP"
          ],
          [
           "21 LESSONS FOR THE 21ST CENTURY"
          ],
          [
           "CONTEMPT"
          ],
          [
           "INDIANAPOLIS"
          ],
          [
           "THE SOUL OF AMERICA"
          ],
          [
           "THE SOUL OF AMERICA"
          ],
          [
           "THE SOUL OF AMERICA"
          ],
          [
           "ANDREW JACKSON AND THE MIRACLE OF NEW ORLEANS"
          ],
          [
           "ANDREW JACKSON AND THE MIRACLE OF NEW ORLEANS"
          ],
          [
           "KILLING ENGLAND"
          ],
          [
           "ANDREW JACKSON AND THE MIRACLE OF NEW ORLEANS"
          ],
          [
           "KILLING ENGLAND"
          ],
          [
           "KILLING ENGLAND"
          ],
          [
           "THE LOST CITY OF THE MONKEY GOD"
          ],
          [
           "FANTASYLAND"
          ],
          [
           "THE OPERATOR"
          ],
          [
           "HUE 1968"
          ],
          [
           "HUE 1968"
          ],
          [
           "THE AMERICAN SPIRIT"
          ],
          [
           "THE ZOOKEEPER’S WIFE"
          ],
          [
           "THE AMERICAN SPIRIT"
          ],
          [
           "THE ZOOKEEPER’S WIFE"
          ],
          [
           "HIDDEN FIGURES"
          ],
          [
           "KILLING THE RISING SUN"
          ],
          [
           "HIDDEN FIGURES"
          ],
          [
           "KILLING THE RISING SUN"
          ],
          [
           "DERELICTION OF DUTY"
          ],
          [
           "THE ZOOKEEPER’S WIFE"
          ],
          [
           "HIDDEN FIGURES"
          ],
          [
           "KILLING THE RISING SUN"
          ],
          [
           "THE LOST CITY OF THE MONKEY GOD"
          ],
          [
           "INSANE CLOWN PRESIDENT"
          ],
          [
           "KILLING THE RISING SUN"
          ],
          [
           "HIDDEN FIGURES"
          ],
          [
           "KILLING THE RISING SUN"
          ],
          [
           "THOMAS JEFFERSON AND THE TRIPOLI PIRATES"
          ],
          [
           "WHITE TRASH"
          ],
          [
           "KILLING THE RISING SUN"
          ],
          [
           "HIDDEN FIGURES"
          ],
          [
           "BEST. STATE. EVER"
          ],
          [
           "WHITE TRASH"
          ],
          [
           "THE GENE"
          ],
          [
           "DEAD WAKE"
          ],
          [
           "THOMAS JEFFERSON AND THE TRIPOLI PIRATES"
          ],
          [
           "DEAD WAKE"
          ],
          [
           "FIRST WOMEN"
          ],
          [
           "OUTLAW PLATOON"
          ],
          [
           "13 HOURS"
          ],
          [
           "THE VATICAN PIMPERNEL"
          ],
          [
           "THE DEVIL IN THE WHITE CITY"
          ],
          [
           "13 HOURS"
          ],
          [
           "BLACK HAWK DOWN"
          ],
          [
           "DEAD WAKE"
          ],
          [
           "THE DEVIL IN THE WHITE CITY"
          ],
          [
           "SPQR"
          ],
          [
           "THE WITCHES"
          ],
          [
           "HUMANS OF NEW YORK"
          ],
          [
           "THE WITCHES"
          ],
          [
           "BRIDGE OF SPIES"
          ],
          [
           "DEAD WAKE"
          ],
          [
           "THE DEVIL IN THE WHITE CITY"
          ],
          [
           "THE DEVIL IN THE WHITE CITY"
          ],
          [
           "DEAD WAKE"
          ],
          [
           "AUSCHWITZ"
          ],
          [
           "DEAD WAKE"
          ],
          [
           "THE OREGON TRAIL"
          ],
          [
           "CHIEF JOSEPH & THE FLIGHT OF THE NEZ PERCE"
          ],
          [
           "DEAD WAKE"
          ],
          [
           "DEAD WAKE"
          ],
          [
           "THE RESIDENCE"
          ],
          [
           "DEAD WAKE"
          ],
          [
           "KILLING PATTON"
          ],
          [
           "KILLING PATTON"
          ],
          [
           "THUNDERSTRUCK"
          ],
          [
           "LONE SURVIVOR"
          ],
          [
           "EMPIRE OF MUD"
          ],
          [
           "KILLING PATTON"
          ],
          [
           "THE HEART OF EVERYTHING THAT IS"
          ],
          [
           "KILLING PATTON"
          ],
          [
           "LEVEL ZERO HEROES"
          ],
          [
           "LONE SURVIVOR"
          ],
          [
           "THE NAZI OFFICER'S WIFE"
          ],
          [
           "LONE SURVIVOR"
          ],
          [
           "THE NAZI OFFICER'S WIFE"
          ],
          [
           "THE NAZI OFFICER'S WIFE"
          ],
          [
           "LONE SURVIVOR"
          ],
          [
           "KILLING JESUS"
          ],
          [
           "GEORGE WASHINGTON'S SECRET SIX"
          ],
          [
           "KILLING JESUS"
          ],
          [
           "GEORGE WASHINGTON'S SECRET SIX"
          ],
          [
           "MIRACLES AND MASSACRES"
          ],
          [
           "HUMANS OF NEW YORK"
          ],
          [
           "MY PROMISED LAND"
          ],
          [
           "KILLING JESUS"
          ],
          [
           "THE GUNS AT LAST LIGHT"
          ],
          [
           "BUNKER HILL"
          ],
          [
           "FROZEN IN TIME"
          ]
         ],
         "hovertemplate": "category=%{y}<br>published_date=%{x}<br>title=%{customdata[0]}<extra></extra>",
         "legendgroup": "history",
         "marker": {
          "color": "#19d3f3",
          "opacity": 0.25,
          "symbol": "circle"
         },
         "mode": "markers",
         "name": "history",
         "showlegend": true,
         "type": "scattergl",
         "x": [
          "2025-06-15T00:00:00.000000000",
          "2025-05-11T00:00:00.000000000",
          "2025-04-06T00:00:00.000000000",
          "2025-01-26T00:00:00.000000000",
          "2024-12-22T00:00:00.000000000",
          "2024-11-17T00:00:00.000000000",
          "2024-10-13T00:00:00.000000000",
          "2024-10-13T00:00:00.000000000",
          "2024-10-13T00:00:00.000000000",
          "2024-10-13T00:00:00.000000000",
          "2024-10-13T00:00:00.000000000",
          "2024-10-13T00:00:00.000000000",
          "2024-09-08T00:00:00.000000000",
          "2024-08-04T00:00:00.000000000",
          "2024-08-04T00:00:00.000000000",
          "2024-06-30T00:00:00.000000000",
          "2024-06-30T00:00:00.000000000",
          "2024-06-30T00:00:00.000000000",
          "2024-06-30T00:00:00.000000000",
          "2024-06-30T00:00:00.000000000",
          "2024-05-26T00:00:00.000000000",
          "2024-05-26T00:00:00.000000000",
          "2024-04-21T00:00:00.000000000",
          "2024-03-17T00:00:00.000000000",
          "2024-02-11T00:00:00.000000000",
          "2023-12-03T00:00:00.000000000",
          "2023-10-29T00:00:00.000000000",
          "2023-10-29T00:00:00.000000000",
          "2023-06-11T00:00:00.000000000",
          "2023-02-26T00:00:00.000000000",
          "2023-01-22T00:00:00.000000000",
          "2023-01-22T00:00:00.000000000",
          "2022-12-18T00:00:00.000000000",
          "2022-11-13T00:00:00.000000000",
          "2022-10-09T00:00:00.000000000",
          "2022-07-31T00:00:00.000000000",
          "2022-06-26T00:00:00.000000000",
          "2022-06-26T00:00:00.000000000",
          "2022-06-26T00:00:00.000000000",
          "2022-05-22T00:00:00.000000000",
          "2022-04-17T00:00:00.000000000",
          "2022-04-17T00:00:00.000000000",
          "2022-04-17T00:00:00.000000000",
          "2022-03-13T00:00:00.000000000",
          "2022-03-13T00:00:00.000000000",
          "2022-03-13T00:00:00.000000000",
          "2022-02-06T00:00:00.000000000",
          "2022-02-06T00:00:00.000000000",
          "2022-01-02T00:00:00.000000000",
          "2022-01-02T00:00:00.000000000",
          "2022-01-02T00:00:00.000000000",
          "2021-11-28T00:00:00.000000000",
          "2021-11-28T00:00:00.000000000",
          "2021-10-24T00:00:00.000000000",
          "2021-09-19T00:00:00.000000000",
          "2021-08-15T00:00:00.000000000",
          "2021-08-15T00:00:00.000000000",
          "2021-08-15T00:00:00.000000000",
          "2021-07-11T00:00:00.000000000",
          "2021-07-11T00:00:00.000000000",
          "2021-07-11T00:00:00.000000000",
          "2021-06-06T00:00:00.000000000",
          "2021-06-06T00:00:00.000000000",
          "2021-06-06T00:00:00.000000000",
          "2021-01-17T00:00:00.000000000",
          "2020-11-08T00:00:00.000000000",
          "2020-10-04T00:00:00.000000000",
          "2020-08-30T00:00:00.000000000",
          "2020-08-30T00:00:00.000000000",
          "2020-08-30T00:00:00.000000000",
          "2020-07-26T00:00:00.000000000",
          "2020-07-26T00:00:00.000000000",
          "2020-06-21T00:00:00.000000000",
          "2020-05-17T00:00:00.000000000",
          "2020-05-17T00:00:00.000000000",
          "2020-04-12T00:00:00.000000000",
          "2020-04-12T00:00:00.000000000",
          "2020-02-02T00:00:00.000000000",
          "2019-12-29T00:00:00.000000000",
          "2019-12-29T00:00:00.000000000",
          "2019-12-29T00:00:00.000000000",
          "2019-11-24T00:00:00.000000000",
          "2019-09-15T00:00:00.000000000",
          "2019-09-15T00:00:00.000000000",
          "2019-09-15T00:00:00.000000000",
          "2019-08-11T00:00:00.000000000",
          "2019-08-11T00:00:00.000000000",
          "2019-07-07T00:00:00.000000000",
          "2019-07-07T00:00:00.000000000",
          "2019-07-07T00:00:00.000000000",
          "2019-07-07T00:00:00.000000000",
          "2019-06-02T00:00:00.000000000",
          "2019-06-02T00:00:00.000000000",
          "2019-06-02T00:00:00.000000000",
          "2019-03-24T00:00:00.000000000",
          "2019-03-24T00:00:00.000000000",
          "2019-03-24T00:00:00.000000000",
          "2019-02-17T00:00:00.000000000",
          "2019-02-17T00:00:00.000000000",
          "2019-01-13T00:00:00.000000000",
          "2019-01-13T00:00:00.000000000",
          "2019-01-13T00:00:00.000000000",
          "2018-12-09T00:00:00.000000000",
          "2018-12-09T00:00:00.000000000",
          "2018-12-09T00:00:00.000000000",
          "2018-11-04T00:00:00.000000000",
          "2018-11-04T00:00:00.000000000",
          "2018-11-04T00:00:00.000000000",
          "2018-11-04T00:00:00.000000000",
          "2018-09-30T00:00:00.000000000",
          "2018-09-30T00:00:00.000000000",
          "2018-08-26T00:00:00.000000000",
          "2018-08-26T00:00:00.000000000",
          "2018-07-22T00:00:00.000000000",
          "2018-06-17T00:00:00.000000000",
          "2018-01-28T00:00:00.000000000",
          "2017-12-24T00:00:00.000000000",
          "2017-12-24T00:00:00.000000000",
          "2017-11-19T00:00:00.000000000",
          "2017-11-19T00:00:00.000000000",
          "2017-10-15T00:00:00.000000000",
          "2017-10-15T00:00:00.000000000",
          "2017-10-15T00:00:00.000000000",
          "2017-08-06T00:00:00.000000000",
          "2017-08-06T00:00:00.000000000",
          "2017-07-02T00:00:00.000000000",
          "2017-07-02T00:00:00.000000000",
          "2017-05-28T00:00:00.000000000",
          "2017-05-28T00:00:00.000000000",
          "2017-04-23T00:00:00.000000000",
          "2017-04-23T00:00:00.000000000",
          "2017-04-23T00:00:00.000000000",
          "2017-03-19T00:00:00.000000000",
          "2017-03-19T00:00:00.000000000",
          "2017-03-19T00:00:00.000000000",
          "2017-03-19T00:00:00.000000000",
          "2017-02-12T00:00:00.000000000",
          "2017-02-12T00:00:00.000000000",
          "2017-02-12T00:00:00.000000000",
          "2017-02-12T00:00:00.000000000",
          "2017-01-08T00:00:00.000000000",
          "2017-01-08T00:00:00.000000000",
          "2016-12-04T00:00:00.000000000",
          "2016-12-04T00:00:00.000000000",
          "2016-12-04T00:00:00.000000000",
          "2016-10-30T00:00:00.000000000",
          "2016-09-25T00:00:00.000000000",
          "2016-09-25T00:00:00.000000000",
          "2016-07-17T00:00:00.000000000",
          "2016-06-12T00:00:00.000000000",
          "2016-06-12T00:00:00.000000000",
          "2016-05-08T00:00:00.000000000",
          "2016-05-08T00:00:00.000000000",
          "2016-05-08T00:00:00.000000000",
          "2016-04-03T00:00:00.000000000",
          "2016-02-28T00:00:00.000000000",
          "2016-02-28T00:00:00.000000000",
          "2016-02-28T00:00:00.000000000",
          "2016-01-24T00:00:00.000000000",
          "2016-01-24T00:00:00.000000000",
          "2016-01-24T00:00:00.000000000",
          "2016-01-24T00:00:00.000000000",
          "2015-12-20T00:00:00.000000000",
          "2015-12-20T00:00:00.000000000",
          "2015-12-20T00:00:00.000000000",
          "2015-11-15T00:00:00.000000000",
          "2015-11-15T00:00:00.000000000",
          "2015-10-11T00:00:00.000000000",
          "2015-10-11T00:00:00.000000000",
          "2015-09-06T00:00:00.000000000",
          "2015-09-06T00:00:00.000000000",
          "2015-09-06T00:00:00.000000000",
          "2015-08-02T00:00:00.000000000",
          "2015-08-02T00:00:00.000000000",
          "2015-08-02T00:00:00.000000000",
          "2015-06-28T00:00:00.000000000",
          "2015-05-24T00:00:00.000000000",
          "2015-05-24T00:00:00.000000000",
          "2015-04-19T00:00:00.000000000",
          "2015-04-19T00:00:00.000000000",
          "2015-03-15T00:00:00.000000000",
          "2015-03-15T00:00:00.000000000",
          "2015-03-15T00:00:00.000000000",
          "2015-03-15T00:00:00.000000000",
          "2015-02-08T00:00:00.000000000",
          "2015-02-08T00:00:00.000000000",
          "2015-01-04T00:00:00.000000000",
          "2014-09-21T00:00:00.000000000",
          "2014-07-13T00:00:00.000000000",
          "2014-07-13T00:00:00.000000000",
          "2014-06-08T00:00:00.000000000",
          "2014-06-08T00:00:00.000000000",
          "2014-05-04T00:00:00.000000000",
          "2014-03-30T00:00:00.000000000",
          "2014-03-30T00:00:00.000000000",
          "2014-02-23T00:00:00.000000000",
          "2014-01-19T00:00:00.000000000",
          "2013-12-15T00:00:00.000000000",
          "2013-12-15T00:00:00.000000000",
          "2013-12-15T00:00:00.000000000",
          "2013-12-15T00:00:00.000000000",
          "2013-11-10T00:00:00.000000000",
          "2013-06-23T00:00:00.000000000",
          "2013-05-19T00:00:00.000000000",
          "2013-05-19T00:00:00.000000000"
         ],
         "xaxis": "x",
         "y": [
          "history",
          "history",
          "history",
          "history",
          "history",
          "history",
          "history",
          "history",
          "history",
          "history",
          "history",
          "history",
          "history",
          "history",
          "history",
          "history",
          "history",
          "history",
          "history",
          "history",
          "history",
          "history",
          "history",
          "history",
          "history",
          "history",
          "history",
          "history",
          "history",
          "history",
          "history",
          "history",
          "history",
          "history",
          "history",
          "history",
          "history",
          "history",
          "history",
          "history",
          "history",
          "history",
          "history",
          "history",
          "history",
          "history",
          "history",
          "history",
          "history",
          "history",
          "history",
          "history",
          "history",
          "history",
          "history",
          "history",
          "history",
          "history",
          "history",
          "history",
          "history",
          "history",
          "history",
          "history",
          "history",
          "history",
          "history",
          "history",
          "history",
          "history",
          "history",
          "history",
          "history",
          "history",
          "history",
          "history",
          "history",
          "history",
          "history",
          "history",
          "history",
          "history",
          "history",
          "history",
          "history",
          "history",
          "history",
          "history",
          "history",
          "history",
          "history",
          "history",
          "history",
          "history",
          "history",
          "history",
          "history",
          "history",
          "history",
          "history",
          "history",
          "history",
          "history",
          "history",
          "history",
          "history",
          "history",
          "history",
          "history",
          "history",
          "history",
          "history",
          "history",
          "history",
          "history",
          "history",
          "history",
          "history",
          "history",
          "history",
          "history",
          "history",
          "history",
          "history",
          "history",
          "history",
          "history",
          "history",
          "history",
          "history",
          "history",
          "history",
          "history",
          "history",
          "history",
          "history",
          "history",
          "history",
          "history",
          "history",
          "history",
          "history",
          "history",
          "history",
          "history",
          "history",
          "history",
          "history",
          "history",
          "history",
          "history",
          "history",
          "history",
          "history",
          "history",
          "history",
          "history",
          "history",
          "history",
          "history",
          "history",
          "history",
          "history",
          "history",
          "history",
          "history",
          "history",
          "history",
          "history",
          "history",
          "history",
          "history",
          "history",
          "history",
          "history",
          "history",
          "history",
          "history",
          "history",
          "history",
          "history",
          "history",
          "history",
          "history",
          "history",
          "history",
          "history",
          "history",
          "history",
          "history",
          "history",
          "history",
          "history",
          "history",
          "history",
          "history",
          "history",
          "history",
          "history",
          "history",
          "history",
          "history",
          "history",
          "history",
          "history"
         ],
         "yaxis": "y"
        },
        {
         "customdata": [
          [
           "EVERYTHING IS TUBERCULOSIS"
          ],
          [
           "EVERYTHING IS TUBERCULOSIS"
          ],
          [
           "EVERYTHING IS TUBERCULOSIS"
          ],
          [
           "HILLBILLY ELEGY"
          ],
          [
           "THE MESSAGE"
          ],
          [
           "HILLBILLY ELEGY"
          ],
          [
           "HILLBILLY ELEGY"
          ],
          [
           "HILLBILLY ELEGY"
          ],
          [
           "HILLBILLY ELEGY"
          ],
          [
           "CASTE"
          ],
          [
           "AMERICAN WHITELASH"
          ],
          [
           "ON OUR BEST BEHAVIOR"
          ],
          [
           "POVERTY, BY AMERICA"
          ],
          [
           "THE NINETIES"
          ],
          [
           "RENEGADES"
          ],
          [
           "RENEGADES"
          ],
          [
           "CASTE"
          ],
          [
           "CASTE"
          ],
          [
           "CASTE"
          ],
          [
           "CASTE"
          ],
          [
           "CASTE"
          ],
          [
           "THE SUM OF US"
          ],
          [
           "CASTE"
          ],
          [
           "NOMADLAND"
          ],
          [
           "CASTE"
          ],
          [
           "CASTE"
          ],
          [
           "CASTE"
          ],
          [
           "HILLBILLY ELEGY"
          ],
          [
           "UNCOMFORTABLE CONVERSATIONS WITH A BLACK MAN"
          ],
          [
           "CASTE"
          ],
          [
           "CASTE"
          ],
          [
           "WHITE FRAGILITY"
          ],
          [
           "CASTE"
          ],
          [
           "WHITE FRAGILITY"
          ],
          [
           "WHITE FRAGILITY"
          ],
          [
           "THE COLOR OF LAW"
          ],
          [
           "BEGIN AGAIN"
          ],
          [
           "WHITE FRAGILITY"
          ],
          [
           "ME AND WHITE SUPREMACY"
          ],
          [
           "THE COLOR OF LAW"
          ],
          [
           "WHY ARE ALL THE BLACK KIDS SITTING TOGETHER IN THE CAFETERIA?"
          ],
          [
           "I'M STILL HERE"
          ],
          [
           "TALKING TO STRANGERS"
          ],
          [
           "TALKING TO STRANGERS"
          ],
          [
           "TALKING TO STRANGERS"
          ],
          [
           "TALKING TO STRANGERS"
          ],
          [
           "TALKING TO STRANGERS"
          ],
          [
           "TALKING TO STRANGERS"
          ],
          [
           "WHITE FRAGILITY"
          ],
          [
           "HILLBILLY ELEGY"
          ],
          [
           "BECAUSE INTERNET"
          ],
          [
           "THE SECOND MOUNTAIN"
          ],
          [
           "THE RIGHT SIDE OF HISTORY"
          ],
          [
           "THE CODDLING OF THE AMERICAN MIND"
          ],
          [
           "BARRACOON"
          ],
          [
           "HILLBILLY ELEGY"
          ],
          [
           "BARRACOON"
          ],
          [
           "HILLBILLY ELEGY"
          ],
          [
           "HILLBILLY ELEGY"
          ],
          [
           "HILLBILLY ELEGY"
          ],
          [
           "HILLBILLY ELEGY"
          ],
          [
           "HILLBILLY ELEGY"
          ],
          [
           "HILLBILLY ELEGY"
          ],
          [
           "HILLBILLY ELEGY"
          ],
          [
           "HILLBILLY ELEGY"
          ],
          [
           "HILLBILLY ELEGY"
          ],
          [
           "HILLBILLY ELEGY"
          ],
          [
           "HILLBILLY ELEGY"
          ],
          [
           "HILLBILLY ELEGY"
          ],
          [
           "HILLBILLY ELEGY"
          ],
          [
           "HILLBILLY ELEGY"
          ],
          [
           "HILLBILLY ELEGY"
          ],
          [
           "HILLBILLY ELEGY"
          ],
          [
           "TRIBE"
          ],
          [
           "TRIBE"
          ],
          [
           "THE ROAD TO CHARACTER"
          ],
          [
           "THE ROAD TO CHARACTER"
          ],
          [
           "THE ROAD TO CHARACTER"
          ],
          [
           "MISSOULA"
          ],
          [
           "SO YOU'VE BEEN PUBLICLY SHAMED"
          ],
          [
           "BEHIND THE BEAUTIFUL FOREVERS"
          ],
          [
           "ALL JOY AND NO FUN"
          ]
         ],
         "hovertemplate": "category=%{y}<br>published_date=%{x}<br>title=%{customdata[0]}<extra></extra>",
         "legendgroup": "social science",
         "marker": {
          "color": "#FF6692",
          "opacity": 0.25,
          "symbol": "circle"
         },
         "mode": "markers",
         "name": "social science",
         "showlegend": true,
         "type": "scattergl",
         "x": [
          "2025-06-15T00:00:00.000000000",
          "2025-05-11T00:00:00.000000000",
          "2025-04-06T00:00:00.000000000",
          "2025-03-02T00:00:00.000000000",
          "2024-11-17T00:00:00.000000000",
          "2024-11-17T00:00:00.000000000",
          "2024-10-13T00:00:00.000000000",
          "2024-09-08T00:00:00.000000000",
          "2024-08-04T00:00:00.000000000",
          "2024-02-11T00:00:00.000000000",
          "2023-07-16T00:00:00.000000000",
          "2023-06-11T00:00:00.000000000",
          "2023-05-07T00:00:00.000000000",
          "2022-03-13T00:00:00.000000000",
          "2022-01-02T00:00:00.000000000",
          "2021-11-28T00:00:00.000000000",
          "2021-09-19T00:00:00.000000000",
          "2021-08-15T00:00:00.000000000",
          "2021-07-11T00:00:00.000000000",
          "2021-06-06T00:00:00.000000000",
          "2021-05-02T00:00:00.000000000",
          "2021-03-28T00:00:00.000000000",
          "2021-03-28T00:00:00.000000000",
          "2021-03-28T00:00:00.000000000",
          "2021-02-21T00:00:00.000000000",
          "2021-01-17T00:00:00.000000000",
          "2020-12-13T00:00:00.000000000",
          "2020-12-13T00:00:00.000000000",
          "2020-12-13T00:00:00.000000000",
          "2020-11-08T00:00:00.000000000",
          "2020-10-04T00:00:00.000000000",
          "2020-10-04T00:00:00.000000000",
          "2020-08-30T00:00:00.000000000",
          "2020-08-30T00:00:00.000000000",
          "2020-07-26T00:00:00.000000000",
          "2020-07-26T00:00:00.000000000",
          "2020-07-26T00:00:00.000000000",
          "2020-06-21T00:00:00.000000000",
          "2020-06-21T00:00:00.000000000",
          "2020-06-21T00:00:00.000000000",
          "2020-06-21T00:00:00.000000000",
          "2020-06-21T00:00:00.000000000",
          "2020-04-12T00:00:00.000000000",
          "2020-03-08T00:00:00.000000000",
          "2020-02-02T00:00:00.000000000",
          "2019-12-29T00:00:00.000000000",
          "2019-11-24T00:00:00.000000000",
          "2019-10-20T00:00:00.000000000",
          "2019-09-15T00:00:00.000000000",
          "2019-08-11T00:00:00.000000000",
          "2019-08-11T00:00:00.000000000",
          "2019-06-02T00:00:00.000000000",
          "2019-04-28T00:00:00.000000000",
          "2018-09-30T00:00:00.000000000",
          "2018-07-22T00:00:00.000000000",
          "2018-07-22T00:00:00.000000000",
          "2018-06-17T00:00:00.000000000",
          "2018-06-17T00:00:00.000000000",
          "2018-01-28T00:00:00.000000000",
          "2017-11-19T00:00:00.000000000",
          "2017-10-15T00:00:00.000000000",
          "2017-09-10T00:00:00.000000000",
          "2017-08-06T00:00:00.000000000",
          "2017-07-02T00:00:00.000000000",
          "2017-05-28T00:00:00.000000000",
          "2017-04-23T00:00:00.000000000",
          "2017-03-19T00:00:00.000000000",
          "2017-02-12T00:00:00.000000000",
          "2017-01-08T00:00:00.000000000",
          "2016-12-04T00:00:00.000000000",
          "2016-10-30T00:00:00.000000000",
          "2016-09-25T00:00:00.000000000",
          "2016-08-21T00:00:00.000000000",
          "2016-07-17T00:00:00.000000000",
          "2016-06-12T00:00:00.000000000",
          "2015-08-02T00:00:00.000000000",
          "2015-06-28T00:00:00.000000000",
          "2015-05-24T00:00:00.000000000",
          "2015-05-24T00:00:00.000000000",
          "2015-04-19T00:00:00.000000000",
          "2014-06-08T00:00:00.000000000",
          "2014-02-23T00:00:00.000000000"
         ],
         "xaxis": "x",
         "y": [
          "social science",
          "social science",
          "social science",
          "social science",
          "social science",
          "social science",
          "social science",
          "social science",
          "social science",
          "social science",
          "social science",
          "social science",
          "social science",
          "social science",
          "social science",
          "social science",
          "social science",
          "social science",
          "social science",
          "social science",
          "social science",
          "social science",
          "social science",
          "social science",
          "social science",
          "social science",
          "social science",
          "social science",
          "social science",
          "social science",
          "social science",
          "social science",
          "social science",
          "social science",
          "social science",
          "social science",
          "social science",
          "social science",
          "social science",
          "social science",
          "social science",
          "social science",
          "social science",
          "social science",
          "social science",
          "social science",
          "social science",
          "social science",
          "social science",
          "social science",
          "social science",
          "social science",
          "social science",
          "social science",
          "social science",
          "social science",
          "social science",
          "social science",
          "social science",
          "social science",
          "social science",
          "social science",
          "social science",
          "social science",
          "social science",
          "social science",
          "social science",
          "social science",
          "social science",
          "social science",
          "social science",
          "social science",
          "social science",
          "social science",
          "social science",
          "social science",
          "social science",
          "social science",
          "social science",
          "social science",
          "social science",
          "social science"
         ],
         "yaxis": "y"
        },
        {
         "customdata": [
          [
           "EMPIRE OF AI"
          ],
          [
           "THE COMING WAVE"
          ],
          [
           "THE INNOVATORS"
          ]
         ],
         "hovertemplate": "category=%{y}<br>published_date=%{x}<br>title=%{customdata[0]}<extra></extra>",
         "legendgroup": "technology & engineering",
         "marker": {
          "color": "#B6E880",
          "opacity": 0.25,
          "symbol": "circle"
         },
         "mode": "markers",
         "name": "technology & engineering",
         "showlegend": true,
         "type": "scattergl",
         "x": [
          "2025-06-15T00:00:00.000000000",
          "2023-09-24T00:00:00.000000000",
          "2014-10-26T00:00:00.000000000"
         ],
         "xaxis": "x",
         "y": [
          "technology & engineering",
          "technology & engineering",
          "technology & engineering"
         ],
         "yaxis": "y"
        },
        {
         "customdata": [
          [
           "THE WAGER"
          ],
          [
           "THE WAGER"
          ],
          [
           "FRAMED"
          ],
          [
           "FRAMED"
          ],
          [
           "FRAMED"
          ],
          [
           "FRAMED"
          ],
          [
           "THE DEVIL AT HIS ELBOW"
          ],
          [
           "CHAOS"
          ],
          [
           "CHAOS"
          ],
          [
           "THE WAGER"
          ],
          [
           "THE WAGER"
          ],
          [
           "THE WAGER"
          ],
          [
           "KILLERS OF THE FLOWER MOON"
          ],
          [
           "KILLERS OF THE FLOWER MOON"
          ],
          [
           "THE WAGER"
          ],
          [
           "KILLERS OF THE FLOWER MOON"
          ],
          [
           "THE WAGER"
          ],
          [
           "THE WAGER"
          ],
          [
           "KILLERS OF THE FLOWER MOON"
          ],
          [
           "KILLERS OF THE FLOWER MOON"
          ],
          [
           "THE WAGER"
          ],
          [
           "KILLERS OF THE FLOWER MOON"
          ],
          [
           "THE WAGER"
          ],
          [
           "KILLERS OF THE FLOWER MOON"
          ],
          [
           "THE WAGER"
          ],
          [
           "KILLERS OF THE FLOWER MOON"
          ],
          [
           "THE WAGER"
          ],
          [
           "THE WAGER"
          ],
          [
           "KILLERS OF THE FLOWER MOON"
          ],
          [
           "KILLERS OF THE FLOWER MOON"
          ],
          [
           "THE WAGER"
          ],
          [
           "THE WAGER"
          ],
          [
           "KILLERS OF THE FLOWER MOON"
          ],
          [
           "UNDER THE BANNER OF HEAVEN"
          ],
          [
           "UNDER THE BANNER OF HEAVEN"
          ],
          [
           "KILLERS OF THE FLOWER MOON"
          ],
          [
           "THE HOUSE OF KENNEDY"
          ],
          [
           "SAY NOTHING"
          ],
          [
           "CATCH AND KILL"
          ],
          [
           "I HEARD YOU PAINT HOUSES"
          ],
          [
           "CATCH AND KILL"
          ],
          [
           "I HEARD YOU PAINT HOUSES"
          ],
          [
           "KILLERS OF THE FLOWER MOON"
          ],
          [
           "THE INNOCENT MAN"
          ],
          [
           "KILLERS OF THE FLOWER MOON"
          ],
          [
           "KILLERS OF THE FLOWER MOON"
          ],
          [
           "I'LL BE GONE IN THE DARK"
          ],
          [
           "KILLERS OF THE FLOWER MOON"
          ],
          [
           "I'LL BE GONE IN THE DARK"
          ],
          [
           "KILLERS OF THE FLOWER MOON"
          ],
          [
           "I'LL BE GONE IN THE DARK"
          ],
          [
           "KILLERS OF THE FLOWER MOON"
          ],
          [
           "ALL-AMERICAN MURDER"
          ],
          [
           "KILLERS OF THE FLOWER MOON"
          ],
          [
           "KILLERS OF THE FLOWER MOON"
          ],
          [
           "HOME SWEET MURDER"
          ],
          [
           "KILLERS OF THE FLOWER MOON"
          ],
          [
           "KILLERS OF THE FLOWER MOON"
          ],
          [
           "KILLERS OF THE FLOWER MOON"
          ],
          [
           "KILLERS OF THE FLOWER MOON"
          ],
          [
           "KILLERS OF THE FLOWER MOON"
          ],
          [
           "KILLERS OF THE FLOWER MOON"
          ],
          [
           "GOSNELL"
          ],
          [
           "FILTHY RICH"
          ],
          [
           "BLACK MASS"
          ],
          [
           "THE BILLIONAIRE'S VINEGAR"
          ],
          [
           "BLOOD WILL OUT"
          ],
          [
           "LOST GIRLS"
          ],
          [
           "THE GOOD NURSE"
          ]
         ],
         "hovertemplate": "category=%{y}<br>published_date=%{x}<br>title=%{customdata[0]}<extra></extra>",
         "legendgroup": "true crime",
         "marker": {
          "color": "#FF97FF",
          "opacity": 0.25,
          "symbol": "circle"
         },
         "mode": "markers",
         "name": "true crime",
         "showlegend": true,
         "type": "scattergl",
         "x": [
          "2025-06-15T00:00:00.000000000",
          "2025-04-06T00:00:00.000000000",
          "2025-03-02T00:00:00.000000000",
          "2025-01-26T00:00:00.000000000",
          "2024-12-22T00:00:00.000000000",
          "2024-11-17T00:00:00.000000000",
          "2024-09-08T00:00:00.000000000",
          "2024-09-08T00:00:00.000000000",
          "2024-08-04T00:00:00.000000000",
          "2024-06-30T00:00:00.000000000",
          "2024-05-26T00:00:00.000000000",
          "2024-04-21T00:00:00.000000000",
          "2024-04-21T00:00:00.000000000",
          "2024-03-17T00:00:00.000000000",
          "2024-03-17T00:00:00.000000000",
          "2024-02-11T00:00:00.000000000",
          "2024-02-11T00:00:00.000000000",
          "2024-01-07T00:00:00.000000000",
          "2024-01-07T00:00:00.000000000",
          "2023-12-03T00:00:00.000000000",
          "2023-12-03T00:00:00.000000000",
          "2023-10-29T00:00:00.000000000",
          "2023-10-29T00:00:00.000000000",
          "2023-09-24T00:00:00.000000000",
          "2023-09-24T00:00:00.000000000",
          "2023-08-20T00:00:00.000000000",
          "2023-08-20T00:00:00.000000000",
          "2023-07-16T00:00:00.000000000",
          "2023-07-16T00:00:00.000000000",
          "2023-06-11T00:00:00.000000000",
          "2023-06-11T00:00:00.000000000",
          "2023-05-07T00:00:00.000000000",
          "2023-05-07T00:00:00.000000000",
          "2022-06-26T00:00:00.000000000",
          "2022-05-22T00:00:00.000000000",
          "2021-06-06T00:00:00.000000000",
          "2020-05-17T00:00:00.000000000",
          "2020-04-12T00:00:00.000000000",
          "2020-02-02T00:00:00.000000000",
          "2019-12-29T00:00:00.000000000",
          "2019-11-24T00:00:00.000000000",
          "2019-11-24T00:00:00.000000000",
          "2019-07-07T00:00:00.000000000",
          "2019-01-13T00:00:00.000000000",
          "2018-08-26T00:00:00.000000000",
          "2018-07-22T00:00:00.000000000",
          "2018-07-22T00:00:00.000000000",
          "2018-06-17T00:00:00.000000000",
          "2018-06-17T00:00:00.000000000",
          "2018-05-13T00:00:00.000000000",
          "2018-04-08T00:00:00.000000000",
          "2018-04-08T00:00:00.000000000",
          "2018-03-04T00:00:00.000000000",
          "2018-03-04T00:00:00.000000000",
          "2018-01-28T00:00:00.000000000",
          "2018-01-28T00:00:00.000000000",
          "2017-12-24T00:00:00.000000000",
          "2017-10-15T00:00:00.000000000",
          "2017-09-10T00:00:00.000000000",
          "2017-08-06T00:00:00.000000000",
          "2017-07-02T00:00:00.000000000",
          "2017-05-28T00:00:00.000000000",
          "2017-02-12T00:00:00.000000000",
          "2016-10-30T00:00:00.000000000",
          "2015-10-11T00:00:00.000000000",
          "2014-08-17T00:00:00.000000000",
          "2014-03-30T00:00:00.000000000",
          "2013-07-28T00:00:00.000000000",
          "2013-05-19T00:00:00.000000000"
         ],
         "xaxis": "x",
         "y": [
          "true crime",
          "true crime",
          "true crime",
          "true crime",
          "true crime",
          "true crime",
          "true crime",
          "true crime",
          "true crime",
          "true crime",
          "true crime",
          "true crime",
          "true crime",
          "true crime",
          "true crime",
          "true crime",
          "true crime",
          "true crime",
          "true crime",
          "true crime",
          "true crime",
          "true crime",
          "true crime",
          "true crime",
          "true crime",
          "true crime",
          "true crime",
          "true crime",
          "true crime",
          "true crime",
          "true crime",
          "true crime",
          "true crime",
          "true crime",
          "true crime",
          "true crime",
          "true crime",
          "true crime",
          "true crime",
          "true crime",
          "true crime",
          "true crime",
          "true crime",
          "true crime",
          "true crime",
          "true crime",
          "true crime",
          "true crime",
          "true crime",
          "true crime",
          "true crime",
          "true crime",
          "true crime",
          "true crime",
          "true crime",
          "true crime",
          "true crime",
          "true crime",
          "true crime",
          "true crime",
          "true crime",
          "true crime",
          "true crime",
          "true crime",
          "true crime",
          "true crime",
          "true crime",
          "true crime",
          "true crime"
         ],
         "yaxis": "y"
        },
        {
         "customdata": [
          [
           "NOTES TO JOHN"
          ],
          [
           "THE ANTHROPOCENE REVIEWED"
          ],
          [
           "THE ANTHROPOCENE REVIEWED"
          ],
          [
           "LET ME TELL YOU WHAT I MEAN"
          ],
          [
           "UPSTREAM"
          ],
          [
           "SMALL VICTORIES"
          ],
          [
           "I WEAR THE BLACK HAT"
          ]
         ],
         "hovertemplate": "category=%{y}<br>published_date=%{x}<br>title=%{customdata[0]}<extra></extra>",
         "legendgroup": "literary collections",
         "marker": {
          "color": "#FECB52",
          "opacity": 0.25,
          "symbol": "circle"
         },
         "mode": "markers",
         "name": "literary collections",
         "showlegend": true,
         "type": "scattergl",
         "x": [
          "2025-05-11T00:00:00.000000000",
          "2021-07-11T00:00:00.000000000",
          "2021-06-06T00:00:00.000000000",
          "2021-02-21T00:00:00.000000000",
          "2016-10-30T00:00:00.000000000",
          "2015-01-04T00:00:00.000000000",
          "2013-07-28T00:00:00.000000000"
         ],
         "xaxis": "x",
         "y": [
          "literary collections",
          "literary collections",
          "literary collections",
          "literary collections",
          "literary collections",
          "literary collections",
          "literary collections"
         ],
         "yaxis": "y"
        },
        {
         "customdata": [
          [
           "HOPE"
          ],
          [
           "THE FALSE WHITE GOSPEL"
          ],
          [
           "THE UNIVERSAL CHRIST"
          ],
          [
           "SHAMELESS"
          ],
          [
           "THE PARADIGM"
          ],
          [
           "THE NAME OF GOD IS MERCY"
          ],
          [
           "GOING CLEAR"
          ],
          [
           "HEAVEN IS FOR REAL"
          ],
          [
           "HEAVEN IS FOR REAL"
          ],
          [
           "JESUS"
          ],
          [
           "ZEALOT"
          ]
         ],
         "hovertemplate": "category=%{y}<br>published_date=%{x}<br>title=%{customdata[0]}<extra></extra>",
         "legendgroup": "religion",
         "marker": {
          "color": "#636efa",
          "opacity": 0.25,
          "symbol": "circle"
         },
         "mode": "markers",
         "name": "religion",
         "showlegend": true,
         "type": "scattergl",
         "x": [
          "2025-05-11T00:00:00.000000000",
          "2024-04-21T00:00:00.000000000",
          "2019-03-24T00:00:00.000000000",
          "2019-02-17T00:00:00.000000000",
          "2017-10-15T00:00:00.000000000",
          "2016-02-28T00:00:00.000000000",
          "2015-04-19T00:00:00.000000000",
          "2014-09-21T00:00:00.000000000",
          "2014-05-04T00:00:00.000000000",
          "2014-03-30T00:00:00.000000000",
          "2013-10-06T00:00:00.000000000"
         ],
         "xaxis": "x",
         "y": [
          "religion",
          "religion",
          "religion",
          "religion",
          "religion",
          "religion",
          "religion",
          "religion",
          "religion",
          "religion",
          "religion"
         ],
         "yaxis": "y"
        },
        {
         "customdata": [
          [
           "THE SERVICEBERRY"
          ],
          [
           "THE BACKYARD BIRD CHRONICLES"
          ],
          [
           "THE SERVICEBERRY"
          ],
          [
           "THE SERVICEBERRY"
          ],
          [
           "THE BACKYARD BIRD CHRONICLES"
          ],
          [
           "THE BACKYARD BIRD CHRONICLES"
          ],
          [
           "THE SERVICEBERRY"
          ],
          [
           "THE BACKYARD BIRD CHRONICLES"
          ],
          [
           "BRAIDING SWEETGRASS"
          ],
          [
           "BRAIDING SWEETGRASS"
          ],
          [
           "AN IMMENSE WORLD"
          ],
          [
           "BRAIDING SWEETGRASS"
          ],
          [
           "WHAT AN OWL KNOWS"
          ],
          [
           "BRAIDING SWEETGRASS"
          ],
          [
           "BRAIDING SWEETGRASS"
          ],
          [
           "BRAIDING SWEETGRASS"
          ],
          [
           "BRAIDING SWEETGRASS"
          ],
          [
           "BRAIDING SWEETGRASS"
          ],
          [
           "AN IMMENSE WORLD"
          ],
          [
           "BRAIDING SWEETGRASS"
          ],
          [
           "AN IMMENSE WORLD"
          ],
          [
           "BRAIDING SWEETGRASS"
          ],
          [
           "BRAIDING SWEETGRASS"
          ],
          [
           "AN IMMENSE WORLD"
          ],
          [
           "BRAIDING SWEETGRASS"
          ],
          [
           "BRAIDING SWEETGRASS"
          ],
          [
           "BRAIDING SWEETGRASS"
          ],
          [
           "BRAIDING SWEETGRASS"
          ],
          [
           "BRAIDING SWEETGRASS"
          ],
          [
           "BRAIDING SWEETGRASS"
          ],
          [
           "BRAIDING SWEETGRASS"
          ],
          [
           "BRAIDING SWEETGRASS"
          ],
          [
           "BRAIDING SWEETGRASS"
          ],
          [
           "THE UNINHABITABLE EARTH"
          ],
          [
           "THE HIDDEN LIFE OF TREES"
          ],
          [
           "THE PERFECT HORSE"
          ],
          [
           "H IS FOR HAWK"
          ]
         ],
         "hovertemplate": "category=%{y}<br>published_date=%{x}<br>title=%{customdata[0]}<extra></extra>",
         "legendgroup": "nature",
         "marker": {
          "color": "#EF553B",
          "opacity": 0.25,
          "symbol": "circle"
         },
         "mode": "markers",
         "name": "nature",
         "showlegend": true,
         "type": "scattergl",
         "x": [
          "2025-05-11T00:00:00.000000000",
          "2025-04-06T00:00:00.000000000",
          "2025-03-02T00:00:00.000000000",
          "2025-01-26T00:00:00.000000000",
          "2025-01-26T00:00:00.000000000",
          "2024-12-22T00:00:00.000000000",
          "2024-12-22T00:00:00.000000000",
          "2024-05-26T00:00:00.000000000",
          "2024-03-17T00:00:00.000000000",
          "2023-09-24T00:00:00.000000000",
          "2023-09-24T00:00:00.000000000",
          "2023-08-20T00:00:00.000000000",
          "2023-08-20T00:00:00.000000000",
          "2023-07-16T00:00:00.000000000",
          "2023-06-11T00:00:00.000000000",
          "2023-05-07T00:00:00.000000000",
          "2023-04-02T00:00:00.000000000",
          "2023-02-26T00:00:00.000000000",
          "2023-01-22T00:00:00.000000000",
          "2023-01-22T00:00:00.000000000",
          "2022-12-18T00:00:00.000000000",
          "2022-09-04T00:00:00.000000000",
          "2022-07-31T00:00:00.000000000",
          "2022-07-31T00:00:00.000000000",
          "2022-05-22T00:00:00.000000000",
          "2022-04-17T00:00:00.000000000",
          "2022-03-13T00:00:00.000000000",
          "2022-02-06T00:00:00.000000000",
          "2021-09-19T00:00:00.000000000",
          "2021-08-15T00:00:00.000000000",
          "2021-07-11T00:00:00.000000000",
          "2021-03-28T00:00:00.000000000",
          "2021-01-17T00:00:00.000000000",
          "2019-03-24T00:00:00.000000000",
          "2016-10-30T00:00:00.000000000",
          "2016-09-25T00:00:00.000000000",
          "2016-04-03T00:00:00.000000000"
         ],
         "xaxis": "x",
         "y": [
          "nature",
          "nature",
          "nature",
          "nature",
          "nature",
          "nature",
          "nature",
          "nature",
          "nature",
          "nature",
          "nature",
          "nature",
          "nature",
          "nature",
          "nature",
          "nature",
          "nature",
          "nature",
          "nature",
          "nature",
          "nature",
          "nature",
          "nature",
          "nature",
          "nature",
          "nature",
          "nature",
          "nature",
          "nature",
          "nature",
          "nature",
          "nature",
          "nature",
          "nature",
          "nature",
          "nature",
          "nature"
         ],
         "yaxis": "y"
        },
        {
         "customdata": [
          [
           "OUTLIVE"
          ],
          [
           "OUTLIVE"
          ],
          [
           "OUTLIVE"
          ],
          [
           "OUTLIVE"
          ],
          [
           "OUTLIVE"
          ],
          [
           "OUTLIVE"
          ],
          [
           "OUTLIVE"
          ],
          [
           "OUTLIVE"
          ],
          [
           "OUTLIVE"
          ],
          [
           "OUTLIVE"
          ],
          [
           "OUTLIVE"
          ],
          [
           "OUTLIVE"
          ],
          [
           "OUTLIVE"
          ],
          [
           "OUTLIVE"
          ],
          [
           "OUTLIVE"
          ],
          [
           "OUTLIVE"
          ],
          [
           "OUTLIVE"
          ],
          [
           "ULTRA-PROCESSED PEOPLE"
          ],
          [
           "OUTLIVE"
          ],
          [
           "OUTLIVE"
          ],
          [
           "THE REAL ANTHONY FAUCI"
          ],
          [
           "CRISIS IN THE RED ZONE"
          ],
          [
           "THE SLEEP REVOLUTION"
          ],
          [
           "THE HOT ZONE"
          ]
         ],
         "hovertemplate": "category=%{y}<br>published_date=%{x}<br>title=%{customdata[0]}<extra></extra>",
         "legendgroup": "health & fitness",
         "marker": {
          "color": "#00cc96",
          "opacity": 0.25,
          "symbol": "circle"
         },
         "mode": "markers",
         "name": "health & fitness",
         "showlegend": true,
         "type": "scattergl",
         "x": [
          "2025-04-06T00:00:00.000000000",
          "2025-03-02T00:00:00.000000000",
          "2025-01-26T00:00:00.000000000",
          "2024-12-22T00:00:00.000000000",
          "2024-09-08T00:00:00.000000000",
          "2024-08-04T00:00:00.000000000",
          "2024-06-30T00:00:00.000000000",
          "2024-05-26T00:00:00.000000000",
          "2024-04-21T00:00:00.000000000",
          "2024-03-17T00:00:00.000000000",
          "2024-02-11T00:00:00.000000000",
          "2024-01-07T00:00:00.000000000",
          "2023-12-03T00:00:00.000000000",
          "2023-10-29T00:00:00.000000000",
          "2023-09-24T00:00:00.000000000",
          "2023-08-20T00:00:00.000000000",
          "2023-07-16T00:00:00.000000000",
          "2023-07-16T00:00:00.000000000",
          "2023-06-11T00:00:00.000000000",
          "2023-05-07T00:00:00.000000000",
          "2022-01-02T00:00:00.000000000",
          "2019-08-11T00:00:00.000000000",
          "2016-05-08T00:00:00.000000000",
          "2014-08-17T00:00:00.000000000"
         ],
         "xaxis": "x",
         "y": [
          "health & fitness",
          "health & fitness",
          "health & fitness",
          "health & fitness",
          "health & fitness",
          "health & fitness",
          "health & fitness",
          "health & fitness",
          "health & fitness",
          "health & fitness",
          "health & fitness",
          "health & fitness",
          "health & fitness",
          "health & fitness",
          "health & fitness",
          "health & fitness",
          "health & fitness",
          "health & fitness",
          "health & fitness",
          "health & fitness",
          "health & fitness",
          "health & fitness",
          "health & fitness",
          "health & fitness"
         ],
         "yaxis": "y"
        },
        {
         "customdata": [
          [
           "BELIEVE"
          ],
          [
           "WHAT WE OWE THE FUTURE"
          ],
          [
           "THE AUTHORITARIAN MOMENT"
          ],
          [
           "WHY BUDDHISM IS TRUE"
          ]
         ],
         "hovertemplate": "category=%{y}<br>published_date=%{x}<br>title=%{customdata[0]}<extra></extra>",
         "legendgroup": "philosophy",
         "marker": {
          "color": "#ab63fa",
          "opacity": 0.25,
          "symbol": "circle"
         },
         "mode": "markers",
         "name": "philosophy",
         "showlegend": true,
         "type": "scattergl",
         "x": [
          "2025-03-02T00:00:00.000000000",
          "2022-09-04T00:00:00.000000000",
          "2021-08-15T00:00:00.000000000",
          "2017-09-10T00:00:00.000000000"
         ],
         "xaxis": "x",
         "y": [
          "philosophy",
          "philosophy",
          "philosophy",
          "philosophy"
         ],
         "yaxis": "y"
        },
        {
         "customdata": [
          [
           "WHAT'S NEXT"
          ],
          [
           "ACCIDENTALLY WES ANDERSON"
          ],
          [
           "THE OFFICE"
          ],
          [
           "ALL THE PIECES MATTER"
          ],
          [
           "HAMILTON: THE REVOLUTION"
          ],
          [
           "THE DAILY SHOW (THE BOOK)"
          ],
          [
           "HAMILTON: THE REVOLUTION"
          ],
          [
           "HAMILTON: THE REVOLUTION"
          ],
          [
           "HAMILTON: THE REVOLUTION"
          ],
          [
           "HAMILTON: THE REVOLUTION"
          ],
          [
           "HAMILTON: THE REVOLUTION"
          ],
          [
           "HAMILTON: THE REVOLUTION"
          ],
          [
           "HAMILTON: THE REVOLUTION"
          ]
         ],
         "hovertemplate": "category=%{y}<br>published_date=%{x}<br>title=%{customdata[0]}<extra></extra>",
         "legendgroup": "performing arts",
         "marker": {
          "color": "#FFA15A",
          "opacity": 0.25,
          "symbol": "circle"
         },
         "mode": "markers",
         "name": "performing arts",
         "showlegend": true,
         "type": "scattergl",
         "x": [
          "2024-09-08T00:00:00.000000000",
          "2020-11-08T00:00:00.000000000",
          "2020-04-12T00:00:00.000000000",
          "2018-03-04T00:00:00.000000000",
          "2017-01-08T00:00:00.000000000",
          "2017-01-08T00:00:00.000000000",
          "2016-12-04T00:00:00.000000000",
          "2016-10-30T00:00:00.000000000",
          "2016-09-25T00:00:00.000000000",
          "2016-08-21T00:00:00.000000000",
          "2016-07-17T00:00:00.000000000",
          "2016-06-12T00:00:00.000000000",
          "2016-05-08T00:00:00.000000000"
         ],
         "xaxis": "x",
         "y": [
          "performing arts",
          "performing arts",
          "performing arts",
          "performing arts",
          "performing arts",
          "performing arts",
          "performing arts",
          "performing arts",
          "performing arts",
          "performing arts",
          "performing arts",
          "performing arts",
          "performing arts"
         ],
         "yaxis": "y"
        },
        {
         "customdata": [
          [
           "THE ART THIEF"
          ]
         ],
         "hovertemplate": "category=%{y}<br>published_date=%{x}<br>title=%{customdata[0]}<extra></extra>",
         "legendgroup": "art thefts",
         "marker": {
          "color": "#19d3f3",
          "opacity": 0.25,
          "symbol": "circle"
         },
         "mode": "markers",
         "name": "art thefts",
         "showlegend": true,
         "type": "scattergl",
         "x": [
          "2024-08-04T00:00:00.000000000"
         ],
         "xaxis": "x",
         "y": [
          "art thefts"
         ],
         "yaxis": "y"
        },
        {
         "customdata": [
          [
           "WHAT THIS COMEDIAN SAID WILL SHOCK YOU"
          ],
          [
           "YOU CAN'T JOKE ABOUT THAT"
          ],
          [
           "THE COMEDIANS IN CARS GETTING COFFEE BOOK"
          ],
          [
           "WHAT IF? 2"
          ],
          [
           "WHAT IF? 2"
          ],
          [
           "HOW TO BE PERFECT"
          ],
          [
           "CALYPSO"
          ],
          [
           "CALYPSO"
          ],
          [
           "CALYPSO"
          ],
          [
           "GO ASK ALI"
          ],
          [
           "THE LAST BLACK UNICORN"
          ],
          [
           "THE LAST BLACK UNICORN"
          ],
          [
           "THE LAST BLACK UNICORN"
          ],
          [
           "THE LAST BLACK UNICORN"
          ],
          [
           "DANGEROUS"
          ],
          [
           "THEFT BY FINDING"
          ],
          [
           "MODERN ROMANCE"
          ],
          [
           "YES PLEASE"
          ],
          [
           "MODERN ROMANCE"
          ],
          [
           "YES PLEASE"
          ],
          [
           "BINGE"
          ],
          [
           "MODERN ROMANCE"
          ],
          [
           "MODERN ROMANCE"
          ],
          [
           "MODERN ROMANCE"
          ],
          [
           "GUMPTION"
          ],
          [
           "YES PLEASE"
          ],
          [
           "YES PLEASE"
          ],
          [
           "YES PLEASE"
          ],
          [
           "IS EVERYONE HANGING OUT WITHOUT ME?"
          ],
          [
           "YES PLEASE"
          ],
          [
           "IS EVERYONE HANGING OUT WITHOUT ME?"
          ],
          [
           "IS EVERYONE HANGING OUT WITHOUT ME?"
          ],
          [
           "LET ME OFF AT THE TOP!"
          ],
          [
           "_____ MY DAD SAYS"
          ]
         ],
         "hovertemplate": "category=%{y}<br>published_date=%{x}<br>title=%{customdata[0]}<extra></extra>",
         "legendgroup": "humor",
         "marker": {
          "color": "#FF6692",
          "opacity": 0.25,
          "symbol": "circle"
         },
         "mode": "markers",
         "name": "humor",
         "showlegend": true,
         "type": "scattergl",
         "x": [
          "2024-06-30T00:00:00.000000000",
          "2023-05-07T00:00:00.000000000",
          "2022-12-18T00:00:00.000000000",
          "2022-12-18T00:00:00.000000000",
          "2022-10-09T00:00:00.000000000",
          "2022-03-13T00:00:00.000000000",
          "2018-08-26T00:00:00.000000000",
          "2018-07-22T00:00:00.000000000",
          "2018-06-17T00:00:00.000000000",
          "2018-05-13T00:00:00.000000000",
          "2018-04-08T00:00:00.000000000",
          "2018-03-04T00:00:00.000000000",
          "2018-01-28T00:00:00.000000000",
          "2017-12-24T00:00:00.000000000",
          "2017-08-06T00:00:00.000000000",
          "2017-07-02T00:00:00.000000000",
          "2016-08-21T00:00:00.000000000",
          "2016-01-24T00:00:00.000000000",
          "2016-01-24T00:00:00.000000000",
          "2015-12-20T00:00:00.000000000",
          "2015-11-15T00:00:00.000000000",
          "2015-10-11T00:00:00.000000000",
          "2015-09-06T00:00:00.000000000",
          "2015-08-02T00:00:00.000000000",
          "2015-06-28T00:00:00.000000000",
          "2015-03-15T00:00:00.000000000",
          "2015-02-08T00:00:00.000000000",
          "2015-01-04T00:00:00.000000000",
          "2015-01-04T00:00:00.000000000",
          "2014-11-30T00:00:00.000000000",
          "2014-08-17T00:00:00.000000000",
          "2014-01-19T00:00:00.000000000",
          "2013-12-15T00:00:00.000000000",
          "2013-10-06T00:00:00.000000000"
         ],
         "xaxis": "x",
         "y": [
          "humor",
          "humor",
          "humor",
          "humor",
          "humor",
          "humor",
          "humor",
          "humor",
          "humor",
          "humor",
          "humor",
          "humor",
          "humor",
          "humor",
          "humor",
          "humor",
          "humor",
          "humor",
          "humor",
          "humor",
          "humor",
          "humor",
          "humor",
          "humor",
          "humor",
          "humor",
          "humor",
          "humor",
          "humor",
          "humor",
          "humor",
          "humor",
          "humor",
          "humor"
         ],
         "yaxis": "y"
        },
        {
         "customdata": [
          [
           "THE TRUMP INDICTMENTS"
          ],
          [
           "THE JANUARY 6TH REPORT"
          ],
          [
           "LADY JUSTICE"
          ],
          [
           "JUST MERCY"
          ],
          [
           "JUST MERCY"
          ],
          [
           "JUST MERCY"
          ],
          [
           "JUST MERCY"
          ],
          [
           "JUST MERCY"
          ],
          [
           "JUST MERCY"
          ],
          [
           "CHARGED"
          ],
          [
           "JUST MERCY"
          ],
          [
           "JUST MERCY"
          ],
          [
           "A MORE PERFECT UNION"
          ],
          [
           "JUST MERCY"
          ],
          [
           "THE LIBERTY AMENDMENTS"
          ]
         ],
         "hovertemplate": "category=%{y}<br>published_date=%{x}<br>title=%{customdata[0]}<extra></extra>",
         "legendgroup": "law",
         "marker": {
          "color": "#B6E880",
          "opacity": 0.25,
          "symbol": "circle"
         },
         "mode": "markers",
         "name": "law",
         "showlegend": true,
         "type": "scattergl",
         "x": [
          "2024-03-17T00:00:00.000000000",
          "2023-01-22T00:00:00.000000000",
          "2022-10-09T00:00:00.000000000",
          "2020-07-26T00:00:00.000000000",
          "2020-06-21T00:00:00.000000000",
          "2020-04-12T00:00:00.000000000",
          "2020-03-08T00:00:00.000000000",
          "2020-02-02T00:00:00.000000000",
          "2019-09-15T00:00:00.000000000",
          "2019-04-28T00:00:00.000000000",
          "2017-09-10T00:00:00.000000000",
          "2016-07-17T00:00:00.000000000",
          "2015-11-15T00:00:00.000000000",
          "2015-09-06T00:00:00.000000000",
          "2013-09-01T00:00:00.000000000"
         ],
         "xaxis": "x",
         "y": [
          "law",
          "law",
          "law",
          "law",
          "law",
          "law",
          "law",
          "law",
          "law",
          "law",
          "law",
          "law",
          "law",
          "law",
          "law"
         ],
         "yaxis": "y"
        },
        {
         "customdata": [
          [
           "THE BOYS IN THE BOAT"
          ],
          [
           "THE BOYS IN THE BOAT"
          ],
          [
           "THE BOYS IN THE BOAT"
          ],
          [
           "WHY WE LOVE BASEBALL"
          ],
          [
           "UNGUARDED"
          ],
          [
           "COMMANDER IN CHEAT"
          ],
          [
           "COMMANDER IN CHEAT"
          ],
          [
           "THE BOYS IN THE BOAT"
          ],
          [
           "THE BOYS IN THE BOAT"
          ],
          [
           "THE BOYS IN THE BOAT"
          ],
          [
           "THE BOYS IN THE BOAT"
          ],
          [
           "THE BOYS IN THE BOAT"
          ],
          [
           "THE BOYS IN THE BOAT"
          ],
          [
           "THE BOYS IN THE BOAT"
          ],
          [
           "THE BOYS IN THE BOAT"
          ],
          [
           "THE BOYS IN THE BOAT"
          ],
          [
           "THE BOYS IN THE BOAT"
          ],
          [
           "THE BOYS IN THE BOAT"
          ],
          [
           "THE BOYS IN THE BOAT"
          ],
          [
           "THE BOYS IN THE BOAT"
          ],
          [
           "THE BOYS IN THE BOAT"
          ],
          [
           "THE BOYS IN THE BOAT"
          ],
          [
           "THE BOYS IN THE BOAT"
          ],
          [
           "THE BOYS IN THE BOAT"
          ],
          [
           "THE BOYS IN THE BOAT"
          ],
          [
           "THE BOYS IN THE BOAT"
          ],
          [
           "THE BOYS IN THE BOAT"
          ],
          [
           "THE BOYS IN THE BOAT"
          ],
          [
           "THE BOYS IN THE BOAT"
          ],
          [
           "THE BOYS IN THE BOAT"
          ],
          [
           "WHERE NOBODY KNOWS YOUR NAME"
          ]
         ],
         "hovertemplate": "category=%{y}<br>published_date=%{x}<br>title=%{customdata[0]}<extra></extra>",
         "legendgroup": "sports & recreation",
         "marker": {
          "color": "#FF97FF",
          "opacity": 0.25,
          "symbol": "circle"
         },
         "mode": "markers",
         "name": "sports & recreation",
         "showlegend": true,
         "type": "scattergl",
         "x": [
          "2024-03-17T00:00:00.000000000",
          "2024-02-11T00:00:00.000000000",
          "2024-01-07T00:00:00.000000000",
          "2023-09-24T00:00:00.000000000",
          "2021-11-28T00:00:00.000000000",
          "2019-06-02T00:00:00.000000000",
          "2019-04-28T00:00:00.000000000",
          "2016-09-25T00:00:00.000000000",
          "2016-08-21T00:00:00.000000000",
          "2016-07-17T00:00:00.000000000",
          "2016-06-12T00:00:00.000000000",
          "2016-05-08T00:00:00.000000000",
          "2016-04-03T00:00:00.000000000",
          "2016-02-28T00:00:00.000000000",
          "2016-01-24T00:00:00.000000000",
          "2015-12-20T00:00:00.000000000",
          "2015-11-15T00:00:00.000000000",
          "2015-10-11T00:00:00.000000000",
          "2015-09-06T00:00:00.000000000",
          "2015-08-02T00:00:00.000000000",
          "2015-06-28T00:00:00.000000000",
          "2015-05-24T00:00:00.000000000",
          "2015-04-19T00:00:00.000000000",
          "2015-03-15T00:00:00.000000000",
          "2015-02-08T00:00:00.000000000",
          "2015-01-04T00:00:00.000000000",
          "2014-11-30T00:00:00.000000000",
          "2014-10-26T00:00:00.000000000",
          "2014-08-17T00:00:00.000000000",
          "2014-07-13T00:00:00.000000000",
          "2014-03-30T00:00:00.000000000"
         ],
         "xaxis": "x",
         "y": [
          "sports & recreation",
          "sports & recreation",
          "sports & recreation",
          "sports & recreation",
          "sports & recreation",
          "sports & recreation",
          "sports & recreation",
          "sports & recreation",
          "sports & recreation",
          "sports & recreation",
          "sports & recreation",
          "sports & recreation",
          "sports & recreation",
          "sports & recreation",
          "sports & recreation",
          "sports & recreation",
          "sports & recreation",
          "sports & recreation",
          "sports & recreation",
          "sports & recreation",
          "sports & recreation",
          "sports & recreation",
          "sports & recreation",
          "sports & recreation",
          "sports & recreation",
          "sports & recreation",
          "sports & recreation",
          "sports & recreation",
          "sports & recreation",
          "sports & recreation",
          "sports & recreation"
         ],
         "yaxis": "y"
        },
        {
         "customdata": [
          [
           "GHOSTS OF HONOLULU"
          ],
          [
           "GHOSTS OF HONOLULU"
          ],
          [
           "WHAT IF?"
          ],
          [
           "WHAT IF?"
          ],
          [
           "WHAT IF?"
          ],
          [
           "WHAT IF?"
          ],
          [
           "WHAT IF?"
          ],
          [
           "SIX YEARS"
          ],
          [
           "THREE SISTERS"
          ],
          [
           "AND THEN SHE FELL"
          ],
          [
           "GONE GIRL"
          ],
          [
           "A WEEK IN WINTER"
          ],
          [
           "TOUCH AND GO"
          ],
          [
           "THE SILVER LININGS PLAYBOOK"
          ],
          [
           "THE DINNER"
          ],
          [
           "SAFE HAVEN"
          ],
          [
           "THE RACKETEER"
          ],
          [
           "MERRY CHRISTMAS, ALEX CROSS"
          ],
          [
           "THE ROUND HOUSE"
          ],
          [
           "THE PERFECT HOPE"
          ],
          [
           "THE SINS OF THE MOTHER"
          ],
          [
           "A WANTED MAN"
          ],
          [
           "ZOO"
          ]
         ],
         "hovertemplate": "category=%{y}<br>published_date=%{x}<br>title=%{customdata[0]}<extra></extra>",
         "legendgroup": "fiction",
         "marker": {
          "color": "#FECB52",
          "opacity": 0.25,
          "symbol": "circle"
         },
         "mode": "markers",
         "name": "fiction",
         "showlegend": true,
         "type": "scattergl",
         "x": [
          "2024-01-07T00:00:00.000000000",
          "2023-12-03T00:00:00.000000000",
          "2016-01-24T00:00:00.000000000",
          "2015-12-20T00:00:00.000000000",
          "2015-01-04T00:00:00.000000000",
          "2014-10-26T00:00:00.000000000",
          "2014-09-21T00:00:00.000000000",
          "2013-04-14T00:00:00.000000000",
          "2013-04-14T00:00:00.000000000",
          "2013-04-14T00:00:00.000000000",
          "2013-03-10T00:00:00.000000000",
          "2013-03-10T00:00:00.000000000",
          "2013-03-10T00:00:00.000000000",
          "2013-03-10T00:00:00.000000000",
          "2013-03-10T00:00:00.000000000",
          "2013-02-03T00:00:00.000000000",
          "2013-02-03T00:00:00.000000000",
          "2012-12-30T00:00:00.000000000",
          "2012-12-30T00:00:00.000000000",
          "2012-11-25T00:00:00.000000000",
          "2012-11-25T00:00:00.000000000",
          "2012-10-21T00:00:00.000000000",
          "2012-10-21T00:00:00.000000000"
         ],
         "xaxis": "x",
         "y": [
          "fiction",
          "fiction",
          "fiction",
          "fiction",
          "fiction",
          "fiction",
          "fiction",
          "fiction",
          "fiction",
          "fiction",
          "fiction",
          "fiction",
          "fiction",
          "fiction",
          "fiction",
          "fiction",
          "fiction",
          "fiction",
          "fiction",
          "fiction",
          "fiction",
          "fiction",
          "fiction"
         ],
         "yaxis": "y"
        },
        {
         "customdata": [
          [
           "MCU"
          ],
          [
           "THE LAST CASTLE"
          ]
         ],
         "hovertemplate": "category=%{y}<br>published_date=%{x}<br>title=%{customdata[0]}<extra></extra>",
         "legendgroup": "architecture",
         "marker": {
          "color": "#636efa",
          "opacity": 0.25,
          "symbol": "circle"
         },
         "mode": "markers",
         "name": "architecture",
         "showlegend": true,
         "type": "scattergl",
         "x": [
          "2023-10-29T00:00:00.000000000",
          "2017-10-15T00:00:00.000000000"
         ],
         "xaxis": "x",
         "y": [
          "architecture",
          "architecture"
         ],
         "yaxis": "y"
        },
        {
         "customdata": [
          [
           "ALL ABOUT LOVE"
          ],
          [
           "ALL ABOUT LOVE"
          ],
          [
           "ALL ABOUT LOVE"
          ],
          [
           "ALL ABOUT LOVE"
          ],
          [
           "ALL ABOUT LOVE"
          ],
          [
           "ALL ABOUT LOVE"
          ],
          [
           "ALL ABOUT LOVE"
          ],
          [
           "ALL ABOUT LOVE"
          ],
          [
           "HAPPY-GO-LUCKY"
          ],
          [
           "HAPPY-GO-LUCKY"
          ],
          [
           "I'LL SHOW MYSELF OUT"
          ],
          [
           "ALL ABOUT LOVE"
          ],
          [
           "ALL ABOUT LOVE"
          ],
          [
           "ALL ABOUT LOVE"
          ],
          [
           "ALL ABOUT LOVE"
          ],
          [
           "HUNT, GATHER, PARENT"
          ],
          [
           "BEING MORTAL"
          ],
          [
           "BEING MORTAL"
          ],
          [
           "BEING MORTAL"
          ],
          [
           "BEING MORTAL"
          ],
          [
           "BEING MORTAL"
          ],
          [
           "BEING MORTAL"
          ],
          [
           "ETCHED IN SAND"
          ],
          [
           "BEING MORTAL"
          ],
          [
           "BEING MORTAL"
          ],
          [
           "BEING MORTAL"
          ],
          [
           "BEING MORTAL"
          ],
          [
           "BEING MORTAL"
          ],
          [
           "BEING MORTAL"
          ],
          [
           "BEING MORTAL"
          ],
          [
           "GHOST BOY"
          ],
          [
           "BEING MORTAL"
          ],
          [
           "THE REASON I JUMP"
          ]
         ],
         "hovertemplate": "category=%{y}<br>published_date=%{x}<br>title=%{customdata[0]}<extra></extra>",
         "legendgroup": "family & relationships",
         "marker": {
          "color": "#EF553B",
          "opacity": 0.25,
          "symbol": "circle"
         },
         "mode": "markers",
         "name": "family & relationships",
         "showlegend": true,
         "type": "scattergl",
         "x": [
          "2023-08-20T00:00:00.000000000",
          "2023-07-16T00:00:00.000000000",
          "2023-06-11T00:00:00.000000000",
          "2023-05-07T00:00:00.000000000",
          "2023-04-02T00:00:00.000000000",
          "2023-02-26T00:00:00.000000000",
          "2023-01-22T00:00:00.000000000",
          "2022-09-04T00:00:00.000000000",
          "2022-07-31T00:00:00.000000000",
          "2022-06-26T00:00:00.000000000",
          "2022-05-22T00:00:00.000000000",
          "2022-04-17T00:00:00.000000000",
          "2022-03-13T00:00:00.000000000",
          "2022-02-06T00:00:00.000000000",
          "2022-01-02T00:00:00.000000000",
          "2021-03-28T00:00:00.000000000",
          "2016-05-08T00:00:00.000000000",
          "2016-04-03T00:00:00.000000000",
          "2016-02-28T00:00:00.000000000",
          "2016-01-24T00:00:00.000000000",
          "2015-11-15T00:00:00.000000000",
          "2015-10-11T00:00:00.000000000",
          "2015-09-06T00:00:00.000000000",
          "2015-09-06T00:00:00.000000000",
          "2015-08-02T00:00:00.000000000",
          "2015-06-28T00:00:00.000000000",
          "2015-05-24T00:00:00.000000000",
          "2015-04-19T00:00:00.000000000",
          "2015-03-15T00:00:00.000000000",
          "2015-02-08T00:00:00.000000000",
          "2015-02-08T00:00:00.000000000",
          "2015-01-04T00:00:00.000000000",
          "2013-11-10T00:00:00.000000000"
         ],
         "xaxis": "x",
         "y": [
          "family & relationships",
          "family & relationships",
          "family & relationships",
          "family & relationships",
          "family & relationships",
          "family & relationships",
          "family & relationships",
          "family & relationships",
          "family & relationships",
          "family & relationships",
          "family & relationships",
          "family & relationships",
          "family & relationships",
          "family & relationships",
          "family & relationships",
          "family & relationships",
          "family & relationships",
          "family & relationships",
          "family & relationships",
          "family & relationships",
          "family & relationships",
          "family & relationships",
          "family & relationships",
          "family & relationships",
          "family & relationships",
          "family & relationships",
          "family & relationships",
          "family & relationships",
          "family & relationships",
          "family & relationships",
          "family & relationships",
          "family & relationships",
          "family & relationships"
         ],
         "yaxis": "y"
        },
        {
         "customdata": [
          [
           "UNBROKEN BONDS OF BATTLE"
          ]
         ],
         "hovertemplate": "category=%{y}<br>published_date=%{x}<br>title=%{customdata[0]}<extra></extra>",
         "legendgroup": "soldiers",
         "marker": {
          "color": "#00cc96",
          "opacity": 0.25,
          "symbol": "circle"
         },
         "mode": "markers",
         "name": "soldiers",
         "showlegend": true,
         "type": "scattergl",
         "x": [
          "2023-07-16T00:00:00.000000000"
         ],
         "xaxis": "x",
         "y": [
          "soldiers"
         ],
         "yaxis": "y"
        },
        {
         "customdata": [
          [
           "RAW DOG"
          ]
         ],
         "hovertemplate": "category=%{y}<br>published_date=%{x}<br>title=%{customdata[0]}<extra></extra>",
         "legendgroup": "cooking",
         "marker": {
          "color": "#ab63fa",
          "opacity": 0.25,
          "symbol": "circle"
         },
         "mode": "markers",
         "name": "cooking",
         "showlegend": true,
         "type": "scattergl",
         "x": [
          "2023-06-11T00:00:00.000000000"
         ],
         "xaxis": "x",
         "y": [
          "cooking"
         ],
         "yaxis": "y"
        },
        {
         "customdata": [
          [
           "ENCHANTMENT"
          ],
          [
           "THIS IS YOUR MIND ON PLANTS"
          ],
          [
           "THIS IS YOUR MIND ON PLANTS"
          ],
          [
           "ALMOST EVERYTHING"
          ],
          [
           "HOW TO CHANGE YOUR MIND"
          ],
          [
           "HOW TO CHANGE YOUR MIND"
          ],
          [
           "HALLELUJAH ANYWAY"
          ],
          [
           "WAKING UP"
          ]
         ],
         "hovertemplate": "category=%{y}<br>published_date=%{x}<br>title=%{customdata[0]}<extra></extra>",
         "legendgroup": "body, mind & spirit",
         "marker": {
          "color": "#FFA15A",
          "opacity": 0.25,
          "symbol": "circle"
         },
         "mode": "markers",
         "name": "body, mind & spirit",
         "showlegend": true,
         "type": "scattergl",
         "x": [
          "2023-04-02T00:00:00.000000000",
          "2022-09-04T00:00:00.000000000",
          "2021-08-15T00:00:00.000000000",
          "2018-11-04T00:00:00.000000000",
          "2018-07-22T00:00:00.000000000",
          "2018-06-17T00:00:00.000000000",
          "2017-04-23T00:00:00.000000000",
          "2014-10-26T00:00:00.000000000"
         ],
         "xaxis": "x",
         "y": [
          "body, mind & spirit",
          "body, mind & spirit",
          "body, mind & spirit",
          "body, mind & spirit",
          "body, mind & spirit",
          "body, mind & spirit",
          "body, mind & spirit",
          "body, mind & spirit"
         ],
         "yaxis": "y"
        },
        {
         "customdata": [
          [
           "THE PHILOSOPHY OF MODERN SONG"
          ],
          [
           "THE LYRICS: 1956 TO THE PRESENT"
          ],
          [
           "THE LYRICS: 1956 TO THE PRESENT"
          ],
          [
           "OPEN BOOK"
          ],
          [
           "OPEN BOOK"
          ],
          [
           "ACID FOR THE CHILDREN"
          ]
         ],
         "hovertemplate": "category=%{y}<br>published_date=%{x}<br>title=%{customdata[0]}<extra></extra>",
         "legendgroup": "music",
         "marker": {
          "color": "#19d3f3",
          "opacity": 0.25,
          "symbol": "circle"
         },
         "mode": "markers",
         "name": "music",
         "showlegend": true,
         "type": "scattergl",
         "x": [
          "2022-12-18T00:00:00.000000000",
          "2022-01-02T00:00:00.000000000",
          "2021-11-28T00:00:00.000000000",
          "2020-04-12T00:00:00.000000000",
          "2020-03-08T00:00:00.000000000",
          "2019-11-24T00:00:00.000000000"
         ],
         "xaxis": "x",
         "y": [
          "music",
          "music",
          "music",
          "music",
          "music",
          "music"
         ],
         "yaxis": "y"
        },
        {
         "customdata": [
          [
           "STARRY MESSENGER"
          ],
          [
           "THE BIGGEST IDEAS IN THE UNIVERSE"
          ],
          [
           "IMMUNE"
          ],
          [
           "SAPIENS"
          ],
          [
           "THE GOD EQUATION"
          ],
          [
           "THE BODY"
          ],
          [
           "HOW TO AVOID A CLIMATE DISASTER"
          ],
          [
           "BREATH"
          ],
          [
           "BREATH"
          ],
          [
           "SAPIENS"
          ],
          [
           "SAPIENS"
          ],
          [
           "UNTIL THE END OF TIME"
          ],
          [
           "SAPIENS"
          ],
          [
           "SAPIENS"
          ],
          [
           "WHY WE SLEEP"
          ],
          [
           "THE BODY"
          ],
          [
           "THE BODY"
          ],
          [
           "THE BODY"
          ],
          [
           "SAPIENS"
          ],
          [
           "SAPIENS"
          ],
          [
           "SAPIENS"
          ],
          [
           "SAPIENS"
          ],
          [
           "SAPIENS"
          ],
          [
           "SAPIENS"
          ],
          [
           "SAPIENS"
          ],
          [
           "SAPIENS"
          ],
          [
           "BRIEF ANSWERS TO THE BIG QUESTIONS"
          ],
          [
           "FACTFULNESS"
          ],
          [
           "SAPIENS"
          ],
          [
           "BRIEF ANSWERS TO THE BIG QUESTIONS"
          ],
          [
           "BRIEF ANSWERS TO THE BIG QUESTIONS"
          ],
          [
           "ACCESSORY TO WAR"
          ],
          [
           "SAPIENS"
          ],
          [
           "ASTROPHYSICS FOR PEOPLE IN A HURRY"
          ],
          [
           "SAPIENS"
          ],
          [
           "SAPIENS"
          ],
          [
           "ASTROPHYSICS FOR PEOPLE IN A HURRY"
          ],
          [
           "SAPIENS"
          ],
          [
           "ASTROPHYSICS FOR PEOPLE IN A HURRY"
          ],
          [
           "A BRIEF HISTORY OF TIME"
          ],
          [
           "ASTROPHYSICS FOR PEOPLE IN A HURRY"
          ],
          [
           "ASTROPHYSICS FOR PEOPLE IN A HURRY"
          ],
          [
           "ASTROPHYSICS FOR PEOPLE IN A HURRY"
          ],
          [
           "SAPIENS"
          ],
          [
           "ASTROPHYSICS FOR PEOPLE IN A HURRY"
          ],
          [
           "ASTROPHYSICS FOR PEOPLE IN A HURRY"
          ],
          [
           "ASTROPHYSICS FOR PEOPLE IN A HURRY"
          ],
          [
           "ASTROPHYSICS FOR PEOPLE IN A HURRY"
          ],
          [
           "SAPIENS"
          ],
          [
           "ASTROPHYSICS FOR PEOPLE IN A HURRY"
          ],
          [
           "ASTROPHYSICS FOR PEOPLE IN A HURRY"
          ],
          [
           "ASTROPHYSICS FOR PEOPLE IN A HURRY"
          ],
          [
           "SAPIENS"
          ],
          [
           "SAPIENS"
          ],
          [
           "HOMO DEUS"
          ],
          [
           "THE UNDOING PROJECT"
          ],
          [
           "THE UNDOING PROJECT"
          ],
          [
           "SAPIENS"
          ],
          [
           "GRUNT"
          ],
          [
           "SAPIENS"
          ],
          [
           "SEVEN BRIEF LESSONS ON PHYSICS"
          ],
          [
           "SEVEN BRIEF LESSONS ON PHYSICS"
          ],
          [
           "THE IMMORTAL LIFE OF HENRIETTA LACKS"
          ],
          [
           "THE IMMORTAL LIFE OF HENRIETTA LACKS"
          ]
         ],
         "hovertemplate": "category=%{y}<br>published_date=%{x}<br>title=%{customdata[0]}<extra></extra>",
         "legendgroup": "science",
         "marker": {
          "color": "#FF6692",
          "opacity": 0.25,
          "symbol": "circle"
         },
         "mode": "markers",
         "name": "science",
         "showlegend": true,
         "type": "scattergl",
         "x": [
          "2022-10-09T00:00:00.000000000",
          "2022-10-09T00:00:00.000000000",
          "2021-11-28T00:00:00.000000000",
          "2021-09-19T00:00:00.000000000",
          "2021-05-02T00:00:00.000000000",
          "2021-05-02T00:00:00.000000000",
          "2021-03-28T00:00:00.000000000",
          "2021-02-21T00:00:00.000000000",
          "2021-01-17T00:00:00.000000000",
          "2020-05-17T00:00:00.000000000",
          "2020-04-12T00:00:00.000000000",
          "2020-03-08T00:00:00.000000000",
          "2020-03-08T00:00:00.000000000",
          "2020-02-02T00:00:00.000000000",
          "2020-02-02T00:00:00.000000000",
          "2020-02-02T00:00:00.000000000",
          "2019-12-29T00:00:00.000000000",
          "2019-11-24T00:00:00.000000000",
          "2019-09-15T00:00:00.000000000",
          "2019-08-11T00:00:00.000000000",
          "2019-07-07T00:00:00.000000000",
          "2019-06-02T00:00:00.000000000",
          "2019-04-28T00:00:00.000000000",
          "2019-03-24T00:00:00.000000000",
          "2019-02-17T00:00:00.000000000",
          "2019-01-13T00:00:00.000000000",
          "2019-01-13T00:00:00.000000000",
          "2018-12-09T00:00:00.000000000",
          "2018-12-09T00:00:00.000000000",
          "2018-12-09T00:00:00.000000000",
          "2018-11-04T00:00:00.000000000",
          "2018-09-30T00:00:00.000000000",
          "2018-09-30T00:00:00.000000000",
          "2018-09-30T00:00:00.000000000",
          "2018-08-26T00:00:00.000000000",
          "2018-07-22T00:00:00.000000000",
          "2018-07-22T00:00:00.000000000",
          "2018-06-17T00:00:00.000000000",
          "2018-05-13T00:00:00.000000000",
          "2018-04-08T00:00:00.000000000",
          "2018-04-08T00:00:00.000000000",
          "2018-03-04T00:00:00.000000000",
          "2018-01-28T00:00:00.000000000",
          "2018-01-28T00:00:00.000000000",
          "2017-12-24T00:00:00.000000000",
          "2017-11-19T00:00:00.000000000",
          "2017-10-15T00:00:00.000000000",
          "2017-09-10T00:00:00.000000000",
          "2017-09-10T00:00:00.000000000",
          "2017-08-06T00:00:00.000000000",
          "2017-07-02T00:00:00.000000000",
          "2017-05-28T00:00:00.000000000",
          "2017-04-23T00:00:00.000000000",
          "2017-03-19T00:00:00.000000000",
          "2017-03-19T00:00:00.000000000",
          "2017-02-12T00:00:00.000000000",
          "2017-01-08T00:00:00.000000000",
          "2016-09-25T00:00:00.000000000",
          "2016-07-17T00:00:00.000000000",
          "2016-06-12T00:00:00.000000000",
          "2016-05-08T00:00:00.000000000",
          "2016-04-03T00:00:00.000000000",
          "2015-02-08T00:00:00.000000000",
          "2013-10-06T00:00:00.000000000"
         ],
         "xaxis": "x",
         "y": [
          "science",
          "science",
          "science",
          "science",
          "science",
          "science",
          "science",
          "science",
          "science",
          "science",
          "science",
          "science",
          "science",
          "science",
          "science",
          "science",
          "science",
          "science",
          "science",
          "science",
          "science",
          "science",
          "science",
          "science",
          "science",
          "science",
          "science",
          "science",
          "science",
          "science",
          "science",
          "science",
          "science",
          "science",
          "science",
          "science",
          "science",
          "science",
          "science",
          "science",
          "science",
          "science",
          "science",
          "science",
          "science",
          "science",
          "science",
          "science",
          "science",
          "science",
          "science",
          "science",
          "science",
          "science",
          "science",
          "science",
          "science",
          "science",
          "science",
          "science",
          "science",
          "science",
          "science",
          "science"
         ],
         "yaxis": "y"
        },
        {
         "customdata": [
          [
           "BATTLE FOR THE AMERICAN MIND"
          ],
          [
           "IN DEFENSE OF A LIBERAL EDUCATION"
          ],
          [
           "HOW CHILDREN SUCCEED"
          ],
          [
           "CONFORM"
          ]
         ],
         "hovertemplate": "category=%{y}<br>published_date=%{x}<br>title=%{customdata[0]}<extra></extra>",
         "legendgroup": "education",
         "marker": {
          "color": "#B6E880",
          "opacity": 0.25,
          "symbol": "circle"
         },
         "mode": "markers",
         "name": "education",
         "showlegend": true,
         "type": "scattergl",
         "x": [
          "2022-07-31T00:00:00.000000000",
          "2015-04-19T00:00:00.000000000",
          "2014-10-26T00:00:00.000000000",
          "2014-06-08T00:00:00.000000000"
         ],
         "xaxis": "x",
         "y": [
          "education",
          "education",
          "education",
          "education"
         ],
         "yaxis": "y"
        },
        {
         "customdata": [
          [
           "FROM STRENGTH TO STRENGTH"
          ],
          [
           "FROM STRENGTH TO STRENGTH"
          ],
          [
           "THE GIFT OF FORGIVENESS"
          ],
          [
           "GRIT"
          ],
          [
           "LOST CONNECTIONS"
          ],
          [
           "THE BOOK OF JOY"
          ],
          [
           "THE BOOK OF JOY"
          ],
          [
           "THE BOOK OF JOY"
          ],
          [
           "THE BOOK OF JOY"
          ]
         ],
         "hovertemplate": "category=%{y}<br>published_date=%{x}<br>title=%{customdata[0]}<extra></extra>",
         "legendgroup": "self-help",
         "marker": {
          "color": "#FF97FF",
          "opacity": 0.25,
          "symbol": "circle"
         },
         "mode": "markers",
         "name": "self-help",
         "showlegend": true,
         "type": "scattergl",
         "x": [
          "2022-04-17T00:00:00.000000000",
          "2022-03-13T00:00:00.000000000",
          "2020-04-12T00:00:00.000000000",
          "2018-09-30T00:00:00.000000000",
          "2018-03-04T00:00:00.000000000",
          "2017-03-19T00:00:00.000000000",
          "2017-02-12T00:00:00.000000000",
          "2017-01-08T00:00:00.000000000",
          "2016-12-04T00:00:00.000000000"
         ],
         "xaxis": "x",
         "y": [
          "self-help",
          "self-help",
          "self-help",
          "self-help",
          "self-help",
          "self-help",
          "self-help",
          "self-help",
          "self-help"
         ],
         "yaxis": "y"
        },
        {
         "customdata": [
          [
           "TALKING TO STRANGERS"
          ],
          [
           "THE LONG SLIDE"
          ],
          [
           "BETWEEN YOU & ME"
          ]
         ],
         "hovertemplate": "category=%{y}<br>published_date=%{x}<br>title=%{customdata[0]}<extra></extra>",
         "legendgroup": "language arts & disciplines",
         "marker": {
          "color": "#FECB52",
          "opacity": 0.25,
          "symbol": "circle"
         },
         "mode": "markers",
         "name": "language arts & disciplines",
         "showlegend": true,
         "type": "scattergl",
         "x": [
          "2021-10-24T00:00:00.000000000",
          "2021-09-19T00:00:00.000000000",
          "2015-04-19T00:00:00.000000000"
         ],
         "xaxis": "x",
         "y": [
          "language arts & disciplines",
          "language arts & disciplines",
          "language arts & disciplines"
         ],
         "yaxis": "y"
        },
        {
         "customdata": [
          [
           "HUMANS"
          ],
          [
           "HUMANS"
          ],
          [
           "SHADE"
          ],
          [
           "SHADE"
          ],
          [
           "SHADE"
          ],
          [
           "SHADE"
          ],
          [
           "OBAMA"
          ],
          [
           "OBAMA"
          ],
          [
           "OBAMA"
          ]
         ],
         "hovertemplate": "category=%{y}<br>published_date=%{x}<br>title=%{customdata[0]}<extra></extra>",
         "legendgroup": "photography",
         "marker": {
          "color": "#636efa",
          "opacity": 0.25,
          "symbol": "circle"
         },
         "mode": "markers",
         "name": "photography",
         "showlegend": true,
         "type": "scattergl",
         "x": [
          "2021-01-17T00:00:00.000000000",
          "2020-12-13T00:00:00.000000000",
          "2020-11-08T00:00:00.000000000",
          "2019-01-13T00:00:00.000000000",
          "2018-12-09T00:00:00.000000000",
          "2018-11-04T00:00:00.000000000",
          "2018-04-08T00:00:00.000000000",
          "2018-03-04T00:00:00.000000000",
          "2017-12-24T00:00:00.000000000"
         ],
         "xaxis": "x",
         "y": [
          "photography",
          "photography",
          "photography",
          "photography",
          "photography",
          "photography",
          "photography",
          "photography",
          "photography"
         ],
         "yaxis": "y"
        },
        {
         "customdata": [
          [
           "SAVING FREEDOM"
          ],
          [
           "THE PIGEON TUNNEL"
          ]
         ],
         "hovertemplate": "category=%{y}<br>published_date=%{x}<br>title=%{customdata[0]}<extra></extra>",
         "legendgroup": "cold war",
         "marker": {
          "color": "#EF553B",
          "opacity": 0.25,
          "symbol": "circle"
         },
         "mode": "markers",
         "name": "cold war",
         "showlegend": true,
         "type": "scattergl",
         "x": [
          "2020-12-13T00:00:00.000000000",
          "2016-09-25T00:00:00.000000000"
         ],
         "xaxis": "x",
         "y": [
          "cold war",
          "cold war"
         ],
         "yaxis": "y"
        },
        {
         "customdata": [
          [
           "THE MOMENT OF LIFT"
          ],
          [
           "THE MOMENT OF LIFT"
          ]
         ],
         "hovertemplate": "category=%{y}<br>published_date=%{x}<br>title=%{customdata[0]}<extra></extra>",
         "legendgroup": "equality",
         "marker": {
          "color": "#00cc96",
          "opacity": 0.25,
          "symbol": "circle"
         },
         "mode": "markers",
         "name": "equality",
         "showlegend": true,
         "type": "scattergl",
         "x": [
          "2019-07-07T00:00:00.000000000",
          "2019-06-02T00:00:00.000000000"
         ],
         "xaxis": "x",
         "y": [
          "equality",
          "equality"
         ],
         "yaxis": "y"
        },
        {
         "customdata": [
          [
           "GRATEFUL AMERICAN"
          ]
         ],
         "hovertemplate": "category=%{y}<br>published_date=%{x}<br>title=%{customdata[0]}<extra></extra>",
         "legendgroup": "actors",
         "marker": {
          "color": "#ab63fa",
          "opacity": 0.25,
          "symbol": "circle"
         },
         "mode": "markers",
         "name": "actors",
         "showlegend": true,
         "type": "scattergl",
         "x": [
          "2019-03-24T00:00:00.000000000"
         ],
         "xaxis": "x",
         "y": [
          "actors"
         ],
         "yaxis": "y"
        },
        {
         "customdata": [
          [
           "IN THE SHADOW OF STATUES"
          ],
          [
           "LEONARDO DA VINCI"
          ],
          [
           "LEONARDO DA VINCI"
          ],
          [
           "LEONARDO DA VINCI"
          ],
          [
           "LEONARDO DA VINCI"
          ],
          [
           "THE ANDY COHEN DIARIES"
          ]
         ],
         "hovertemplate": "category=%{y}<br>published_date=%{x}<br>title=%{customdata[0]}<extra></extra>",
         "legendgroup": "art",
         "marker": {
          "color": "#FFA15A",
          "opacity": 0.25,
          "symbol": "circle"
         },
         "mode": "markers",
         "name": "art",
         "showlegend": true,
         "type": "scattergl",
         "x": [
          "2018-04-08T00:00:00.000000000",
          "2018-03-04T00:00:00.000000000",
          "2018-01-28T00:00:00.000000000",
          "2017-12-24T00:00:00.000000000",
          "2017-11-19T00:00:00.000000000",
          "2015-01-04T00:00:00.000000000"
         ],
         "xaxis": "x",
         "y": [
          "art",
          "art",
          "art",
          "art",
          "art",
          "art"
         ],
         "yaxis": "y"
        },
        {
         "customdata": [
          [
           "HORSE SOLDIERS"
          ]
         ],
         "hovertemplate": "category=%{y}<br>published_date=%{x}<br>title=%{customdata[0]}<extra></extra>",
         "legendgroup": "afghan war, 2001-2021",
         "marker": {
          "color": "#19d3f3",
          "opacity": 0.25,
          "symbol": "circle"
         },
         "mode": "markers",
         "name": "afghan war, 2001-2021",
         "showlegend": true,
         "type": "scattergl",
         "x": [
          "2018-01-28T00:00:00.000000000"
         ],
         "xaxis": "x",
         "y": [
          "afghan war, 2001-2021"
         ],
         "yaxis": "y"
        },
        {
         "customdata": [
          [
           "SAME KIND OF DIFFERENT AS ME"
          ]
         ],
         "hovertemplate": "category=%{y}<br>published_date=%{x}<br>title=%{customdata[0]}<extra></extra>",
         "legendgroup": "african americans",
         "marker": {
          "color": "#FF6692",
          "opacity": 0.25,
          "symbol": "circle"
         },
         "mode": "markers",
         "name": "african americans",
         "showlegend": true,
         "type": "scattergl",
         "x": [
          "2017-11-19T00:00:00.000000000"
         ],
         "xaxis": "x",
         "y": [
          "african americans"
         ],
         "yaxis": "y"
        },
        {
         "customdata": [
          [
           "HERO OF THE EMPIRE"
          ]
         ],
         "hovertemplate": "category=%{y}<br>published_date=%{x}<br>title=%{customdata[0]}<extra></extra>",
         "legendgroup": "south african war, 1899-1902",
         "marker": {
          "color": "#B6E880",
          "opacity": 0.25,
          "symbol": "circle"
         },
         "mode": "markers",
         "name": "south african war, 1899-1902",
         "showlegend": true,
         "type": "scattergl",
         "x": [
          "2016-10-30T00:00:00.000000000"
         ],
         "xaxis": "x",
         "y": [
          "south african war, 1899-1902"
         ],
         "yaxis": "y"
        },
        {
         "customdata": [
          [
           "THE WAR ON COPS"
          ]
         ],
         "hovertemplate": "category=%{y}<br>published_date=%{x}<br>title=%{customdata[0]}<extra></extra>",
         "legendgroup": "crime prevention",
         "marker": {
          "color": "#FF97FF",
          "opacity": 0.25,
          "symbol": "circle"
         },
         "mode": "markers",
         "name": "crime prevention",
         "showlegend": true,
         "type": "scattergl",
         "x": [
          "2016-08-21T00:00:00.000000000"
         ],
         "xaxis": "x",
         "y": [
          "crime prevention"
         ],
         "yaxis": "y"
        },
        {
         "customdata": [
          [
           "NEITHER HERE NOR THERE"
          ],
          [
           "NOTES FROM A SMALL ISLAND"
          ],
          [
           "A WALK IN THE WOODS"
          ],
          [
           "A WALK IN THE WOODS"
          ]
         ],
         "hovertemplate": "category=%{y}<br>published_date=%{x}<br>title=%{customdata[0]}<extra></extra>",
         "legendgroup": "travel",
         "marker": {
          "color": "#FECB52",
          "opacity": 0.25,
          "symbol": "circle"
         },
         "mode": "markers",
         "name": "travel",
         "showlegend": true,
         "type": "scattergl",
         "x": [
          "2016-04-03T00:00:00.000000000",
          "2016-04-03T00:00:00.000000000",
          "2015-10-11T00:00:00.000000000",
          "2015-09-06T00:00:00.000000000"
         ],
         "xaxis": "x",
         "y": [
          "travel",
          "travel",
          "travel",
          "travel"
         ],
         "yaxis": "y"
        },
        {
         "customdata": [
          [
           "DARK MONEY"
          ],
          [
           "DARK MONEY"
          ]
         ],
         "hovertemplate": "category=%{y}<br>published_date=%{x}<br>title=%{customdata[0]}<extra></extra>",
         "legendgroup": "billionaires",
         "marker": {
          "color": "#636efa",
          "opacity": 0.25,
          "symbol": "circle"
         },
         "mode": "markers",
         "name": "billionaires",
         "showlegend": true,
         "type": "scattergl",
         "x": [
          "2016-04-03T00:00:00.000000000",
          "2016-02-28T00:00:00.000000000"
         ],
         "xaxis": "x",
         "y": [
          "billionaires",
          "billionaires"
         ],
         "yaxis": "y"
        },
        {
         "customdata": [
          [
           "THE BIG SHORT"
          ],
          [
           "THE BIG SHORT"
          ],
          [
           "THE BIG SHORT"
          ]
         ],
         "hovertemplate": "category=%{y}<br>published_date=%{x}<br>title=%{customdata[0]}<extra></extra>",
         "legendgroup": "economics",
         "marker": {
          "color": "#EF553B",
          "opacity": 0.25,
          "symbol": "circle"
         },
         "mode": "markers",
         "name": "economics",
         "showlegend": true,
         "type": "scattergl",
         "x": [
          "2016-04-03T00:00:00.000000000",
          "2016-02-28T00:00:00.000000000",
          "2016-01-24T00:00:00.000000000"
         ],
         "xaxis": "x",
         "y": [
          "economics",
          "economics",
          "economics"
         ],
         "yaxis": "y"
        },
        {
         "customdata": [
          [
           "THE LEGENDS CLUB"
          ]
         ],
         "hovertemplate": "category=%{y}<br>published_date=%{x}<br>title=%{customdata[0]}<extra></extra>",
         "legendgroup": "basketball coaches",
         "marker": {
          "color": "#00cc96",
          "opacity": 0.25,
          "symbol": "circle"
         },
         "mode": "markers",
         "name": "basketball coaches",
         "showlegend": true,
         "type": "scattergl",
         "x": [
          "2016-04-03T00:00:00.000000000"
         ],
         "xaxis": "x",
         "y": [
          "basketball coaches"
         ],
         "yaxis": "y"
        },
        {
         "customdata": [
          [
           "THE ROAD TO LITTLE DRIBBLING"
          ]
         ],
         "hovertemplate": "category=%{y}<br>published_date=%{x}<br>title=%{customdata[0]}<extra></extra>",
         "legendgroup": "great britain",
         "marker": {
          "color": "#ab63fa",
          "opacity": 0.25,
          "symbol": "circle"
         },
         "mode": "markers",
         "name": "great britain",
         "showlegend": true,
         "type": "scattergl",
         "x": [
          "2016-02-28T00:00:00.000000000"
         ],
         "xaxis": "x",
         "y": [
          "great britain"
         ],
         "yaxis": "y"
        },
        {
         "customdata": [
          [
           "TROUBLEMAKER"
          ],
          [
           "HUNGER MAKES ME A MODERN GIRL"
          ]
         ],
         "hovertemplate": "category=%{y}<br>published_date=%{x}<br>title=%{customdata[0]}<extra></extra>",
         "legendgroup": "autobiographies",
         "marker": {
          "color": "#FFA15A",
          "opacity": 0.25,
          "symbol": "circle"
         },
         "mode": "markers",
         "name": "autobiographies",
         "showlegend": true,
         "type": "scattergl",
         "x": [
          "2015-12-20T00:00:00.000000000",
          "2015-11-15T00:00:00.000000000"
         ],
         "xaxis": "x",
         "y": [
          "autobiographies",
          "autobiographies"
         ],
         "yaxis": "y"
        },
        {
         "customdata": [
          [
           "THE BILLION DOLLAR SPY"
          ]
         ],
         "hovertemplate": "category=%{y}<br>published_date=%{x}<br>title=%{customdata[0]}<extra></extra>",
         "legendgroup": "aeronautics",
         "marker": {
          "color": "#19d3f3",
          "opacity": 0.25,
          "symbol": "circle"
         },
         "mode": "markers",
         "name": "aeronautics",
         "showlegend": true,
         "type": "scattergl",
         "x": [
          "2015-08-02T00:00:00.000000000"
         ],
         "xaxis": "x",
         "y": [
          "aeronautics"
         ],
         "yaxis": "y"
        },
        {
         "customdata": [
          [
           "FUTURE CRIMES"
          ]
         ],
         "hovertemplate": "category=%{y}<br>published_date=%{x}<br>title=%{customdata[0]}<extra></extra>",
         "legendgroup": "computer crimes",
         "marker": {
          "color": "#FF6692",
          "opacity": 0.25,
          "symbol": "circle"
         },
         "mode": "markers",
         "name": "computer crimes",
         "showlegend": true,
         "type": "scattergl",
         "x": [
          "2015-03-15T00:00:00.000000000"
         ],
         "xaxis": "x",
         "y": [
          "computer crimes"
         ],
         "yaxis": "y"
        },
        {
         "customdata": [
          [
           "TRUE LOVE"
          ]
         ],
         "hovertemplate": "category=%{y}<br>published_date=%{x}<br>title=%{customdata[0]}<extra></extra>",
         "legendgroup": "autobiography",
         "marker": {
          "color": "#B6E880",
          "opacity": 0.25,
          "symbol": "circle"
         },
         "mode": "markers",
         "name": "autobiography",
         "showlegend": true,
         "type": "scattergl",
         "x": [
          "2014-11-30T00:00:00.000000000"
         ],
         "xaxis": "x",
         "y": [
          "autobiography"
         ],
         "yaxis": "y"
        },
        {
         "customdata": [
          [
           "THE MOCKINGBIRD NEXT DOOR"
          ]
         ],
         "hovertemplate": "category=%{y}<br>published_date=%{x}<br>title=%{customdata[0]}<extra></extra>",
         "legendgroup": "alabama",
         "marker": {
          "color": "#FF97FF",
          "opacity": 0.25,
          "symbol": "circle"
         },
         "mode": "markers",
         "name": "alabama",
         "showlegend": true,
         "type": "scattergl",
         "x": [
          "2014-08-17T00:00:00.000000000"
         ],
         "xaxis": "x",
         "y": [
          "alabama"
         ],
         "yaxis": "y"
        },
        {
         "customdata": [
          [
           "TENTH OF DECEMBER"
          ]
         ],
         "hovertemplate": "category=%{y}<br>published_date=%{x}<br>title=%{customdata[0]}<extra></extra>",
         "legendgroup": "short stories",
         "marker": {
          "color": "#FECB52",
          "opacity": 0.25,
          "symbol": "circle"
         },
         "mode": "markers",
         "name": "short stories",
         "showlegend": true,
         "type": "scattergl",
         "x": [
          "2013-02-03T00:00:00.000000000"
         ],
         "xaxis": "x",
         "y": [
          "short stories"
         ],
         "yaxis": "y"
        }
       ],
       "layout": {
        "legend": {
         "title": {
          "text": "category"
         },
         "tracegroupgap": 0
        },
        "margin": {
         "t": 60
        },
        "template": {
         "data": {
          "bar": [
           {
            "error_x": {
             "color": "#2a3f5f"
            },
            "error_y": {
             "color": "#2a3f5f"
            },
            "marker": {
             "line": {
              "color": "#E5ECF6",
              "width": 0.5
             },
             "pattern": {
              "fillmode": "overlay",
              "size": 10,
              "solidity": 0.2
             }
            },
            "type": "bar"
           }
          ],
          "barpolar": [
           {
            "marker": {
             "line": {
              "color": "#E5ECF6",
              "width": 0.5
             },
             "pattern": {
              "fillmode": "overlay",
              "size": 10,
              "solidity": 0.2
             }
            },
            "type": "barpolar"
           }
          ],
          "carpet": [
           {
            "aaxis": {
             "endlinecolor": "#2a3f5f",
             "gridcolor": "white",
             "linecolor": "white",
             "minorgridcolor": "white",
             "startlinecolor": "#2a3f5f"
            },
            "baxis": {
             "endlinecolor": "#2a3f5f",
             "gridcolor": "white",
             "linecolor": "white",
             "minorgridcolor": "white",
             "startlinecolor": "#2a3f5f"
            },
            "type": "carpet"
           }
          ],
          "choropleth": [
           {
            "colorbar": {
             "outlinewidth": 0,
             "ticks": ""
            },
            "type": "choropleth"
           }
          ],
          "contour": [
           {
            "colorbar": {
             "outlinewidth": 0,
             "ticks": ""
            },
            "colorscale": [
             [
              0,
              "#0d0887"
             ],
             [
              0.1111111111111111,
              "#46039f"
             ],
             [
              0.2222222222222222,
              "#7201a8"
             ],
             [
              0.3333333333333333,
              "#9c179e"
             ],
             [
              0.4444444444444444,
              "#bd3786"
             ],
             [
              0.5555555555555556,
              "#d8576b"
             ],
             [
              0.6666666666666666,
              "#ed7953"
             ],
             [
              0.7777777777777778,
              "#fb9f3a"
             ],
             [
              0.8888888888888888,
              "#fdca26"
             ],
             [
              1,
              "#f0f921"
             ]
            ],
            "type": "contour"
           }
          ],
          "contourcarpet": [
           {
            "colorbar": {
             "outlinewidth": 0,
             "ticks": ""
            },
            "type": "contourcarpet"
           }
          ],
          "heatmap": [
           {
            "colorbar": {
             "outlinewidth": 0,
             "ticks": ""
            },
            "colorscale": [
             [
              0,
              "#0d0887"
             ],
             [
              0.1111111111111111,
              "#46039f"
             ],
             [
              0.2222222222222222,
              "#7201a8"
             ],
             [
              0.3333333333333333,
              "#9c179e"
             ],
             [
              0.4444444444444444,
              "#bd3786"
             ],
             [
              0.5555555555555556,
              "#d8576b"
             ],
             [
              0.6666666666666666,
              "#ed7953"
             ],
             [
              0.7777777777777778,
              "#fb9f3a"
             ],
             [
              0.8888888888888888,
              "#fdca26"
             ],
             [
              1,
              "#f0f921"
             ]
            ],
            "type": "heatmap"
           }
          ],
          "histogram": [
           {
            "marker": {
             "pattern": {
              "fillmode": "overlay",
              "size": 10,
              "solidity": 0.2
             }
            },
            "type": "histogram"
           }
          ],
          "histogram2d": [
           {
            "colorbar": {
             "outlinewidth": 0,
             "ticks": ""
            },
            "colorscale": [
             [
              0,
              "#0d0887"
             ],
             [
              0.1111111111111111,
              "#46039f"
             ],
             [
              0.2222222222222222,
              "#7201a8"
             ],
             [
              0.3333333333333333,
              "#9c179e"
             ],
             [
              0.4444444444444444,
              "#bd3786"
             ],
             [
              0.5555555555555556,
              "#d8576b"
             ],
             [
              0.6666666666666666,
              "#ed7953"
             ],
             [
              0.7777777777777778,
              "#fb9f3a"
             ],
             [
              0.8888888888888888,
              "#fdca26"
             ],
             [
              1,
              "#f0f921"
             ]
            ],
            "type": "histogram2d"
           }
          ],
          "histogram2dcontour": [
           {
            "colorbar": {
             "outlinewidth": 0,
             "ticks": ""
            },
            "colorscale": [
             [
              0,
              "#0d0887"
             ],
             [
              0.1111111111111111,
              "#46039f"
             ],
             [
              0.2222222222222222,
              "#7201a8"
             ],
             [
              0.3333333333333333,
              "#9c179e"
             ],
             [
              0.4444444444444444,
              "#bd3786"
             ],
             [
              0.5555555555555556,
              "#d8576b"
             ],
             [
              0.6666666666666666,
              "#ed7953"
             ],
             [
              0.7777777777777778,
              "#fb9f3a"
             ],
             [
              0.8888888888888888,
              "#fdca26"
             ],
             [
              1,
              "#f0f921"
             ]
            ],
            "type": "histogram2dcontour"
           }
          ],
          "mesh3d": [
           {
            "colorbar": {
             "outlinewidth": 0,
             "ticks": ""
            },
            "type": "mesh3d"
           }
          ],
          "parcoords": [
           {
            "line": {
             "colorbar": {
              "outlinewidth": 0,
              "ticks": ""
             }
            },
            "type": "parcoords"
           }
          ],
          "pie": [
           {
            "automargin": true,
            "type": "pie"
           }
          ],
          "scatter": [
           {
            "fillpattern": {
             "fillmode": "overlay",
             "size": 10,
             "solidity": 0.2
            },
            "type": "scatter"
           }
          ],
          "scatter3d": [
           {
            "line": {
             "colorbar": {
              "outlinewidth": 0,
              "ticks": ""
             }
            },
            "marker": {
             "colorbar": {
              "outlinewidth": 0,
              "ticks": ""
             }
            },
            "type": "scatter3d"
           }
          ],
          "scattercarpet": [
           {
            "marker": {
             "colorbar": {
              "outlinewidth": 0,
              "ticks": ""
             }
            },
            "type": "scattercarpet"
           }
          ],
          "scattergeo": [
           {
            "marker": {
             "colorbar": {
              "outlinewidth": 0,
              "ticks": ""
             }
            },
            "type": "scattergeo"
           }
          ],
          "scattergl": [
           {
            "marker": {
             "colorbar": {
              "outlinewidth": 0,
              "ticks": ""
             }
            },
            "type": "scattergl"
           }
          ],
          "scattermap": [
           {
            "marker": {
             "colorbar": {
              "outlinewidth": 0,
              "ticks": ""
             }
            },
            "type": "scattermap"
           }
          ],
          "scattermapbox": [
           {
            "marker": {
             "colorbar": {
              "outlinewidth": 0,
              "ticks": ""
             }
            },
            "type": "scattermapbox"
           }
          ],
          "scatterpolar": [
           {
            "marker": {
             "colorbar": {
              "outlinewidth": 0,
              "ticks": ""
             }
            },
            "type": "scatterpolar"
           }
          ],
          "scatterpolargl": [
           {
            "marker": {
             "colorbar": {
              "outlinewidth": 0,
              "ticks": ""
             }
            },
            "type": "scatterpolargl"
           }
          ],
          "scatterternary": [
           {
            "marker": {
             "colorbar": {
              "outlinewidth": 0,
              "ticks": ""
             }
            },
            "type": "scatterternary"
           }
          ],
          "surface": [
           {
            "colorbar": {
             "outlinewidth": 0,
             "ticks": ""
            },
            "colorscale": [
             [
              0,
              "#0d0887"
             ],
             [
              0.1111111111111111,
              "#46039f"
             ],
             [
              0.2222222222222222,
              "#7201a8"
             ],
             [
              0.3333333333333333,
              "#9c179e"
             ],
             [
              0.4444444444444444,
              "#bd3786"
             ],
             [
              0.5555555555555556,
              "#d8576b"
             ],
             [
              0.6666666666666666,
              "#ed7953"
             ],
             [
              0.7777777777777778,
              "#fb9f3a"
             ],
             [
              0.8888888888888888,
              "#fdca26"
             ],
             [
              1,
              "#f0f921"
             ]
            ],
            "type": "surface"
           }
          ],
          "table": [
           {
            "cells": {
             "fill": {
              "color": "#EBF0F8"
             },
             "line": {
              "color": "white"
             }
            },
            "header": {
             "fill": {
              "color": "#C8D4E3"
             },
             "line": {
              "color": "white"
             }
            },
            "type": "table"
           }
          ]
         },
         "layout": {
          "annotationdefaults": {
           "arrowcolor": "#2a3f5f",
           "arrowhead": 0,
           "arrowwidth": 1
          },
          "autotypenumbers": "strict",
          "coloraxis": {
           "colorbar": {
            "outlinewidth": 0,
            "ticks": ""
           }
          },
          "colorscale": {
           "diverging": [
            [
             0,
             "#8e0152"
            ],
            [
             0.1,
             "#c51b7d"
            ],
            [
             0.2,
             "#de77ae"
            ],
            [
             0.3,
             "#f1b6da"
            ],
            [
             0.4,
             "#fde0ef"
            ],
            [
             0.5,
             "#f7f7f7"
            ],
            [
             0.6,
             "#e6f5d0"
            ],
            [
             0.7,
             "#b8e186"
            ],
            [
             0.8,
             "#7fbc41"
            ],
            [
             0.9,
             "#4d9221"
            ],
            [
             1,
             "#276419"
            ]
           ],
           "sequential": [
            [
             0,
             "#0d0887"
            ],
            [
             0.1111111111111111,
             "#46039f"
            ],
            [
             0.2222222222222222,
             "#7201a8"
            ],
            [
             0.3333333333333333,
             "#9c179e"
            ],
            [
             0.4444444444444444,
             "#bd3786"
            ],
            [
             0.5555555555555556,
             "#d8576b"
            ],
            [
             0.6666666666666666,
             "#ed7953"
            ],
            [
             0.7777777777777778,
             "#fb9f3a"
            ],
            [
             0.8888888888888888,
             "#fdca26"
            ],
            [
             1,
             "#f0f921"
            ]
           ],
           "sequentialminus": [
            [
             0,
             "#0d0887"
            ],
            [
             0.1111111111111111,
             "#46039f"
            ],
            [
             0.2222222222222222,
             "#7201a8"
            ],
            [
             0.3333333333333333,
             "#9c179e"
            ],
            [
             0.4444444444444444,
             "#bd3786"
            ],
            [
             0.5555555555555556,
             "#d8576b"
            ],
            [
             0.6666666666666666,
             "#ed7953"
            ],
            [
             0.7777777777777778,
             "#fb9f3a"
            ],
            [
             0.8888888888888888,
             "#fdca26"
            ],
            [
             1,
             "#f0f921"
            ]
           ]
          },
          "colorway": [
           "#636efa",
           "#EF553B",
           "#00cc96",
           "#ab63fa",
           "#FFA15A",
           "#19d3f3",
           "#FF6692",
           "#B6E880",
           "#FF97FF",
           "#FECB52"
          ],
          "font": {
           "color": "#2a3f5f"
          },
          "geo": {
           "bgcolor": "white",
           "lakecolor": "white",
           "landcolor": "#E5ECF6",
           "showlakes": true,
           "showland": true,
           "subunitcolor": "white"
          },
          "hoverlabel": {
           "align": "left"
          },
          "hovermode": "closest",
          "mapbox": {
           "style": "light"
          },
          "paper_bgcolor": "white",
          "plot_bgcolor": "#E5ECF6",
          "polar": {
           "angularaxis": {
            "gridcolor": "white",
            "linecolor": "white",
            "ticks": ""
           },
           "bgcolor": "#E5ECF6",
           "radialaxis": {
            "gridcolor": "white",
            "linecolor": "white",
            "ticks": ""
           }
          },
          "scene": {
           "xaxis": {
            "backgroundcolor": "#E5ECF6",
            "gridcolor": "white",
            "gridwidth": 2,
            "linecolor": "white",
            "showbackground": true,
            "ticks": "",
            "zerolinecolor": "white"
           },
           "yaxis": {
            "backgroundcolor": "#E5ECF6",
            "gridcolor": "white",
            "gridwidth": 2,
            "linecolor": "white",
            "showbackground": true,
            "ticks": "",
            "zerolinecolor": "white"
           },
           "zaxis": {
            "backgroundcolor": "#E5ECF6",
            "gridcolor": "white",
            "gridwidth": 2,
            "linecolor": "white",
            "showbackground": true,
            "ticks": "",
            "zerolinecolor": "white"
           }
          },
          "shapedefaults": {
           "line": {
            "color": "#2a3f5f"
           }
          },
          "ternary": {
           "aaxis": {
            "gridcolor": "white",
            "linecolor": "white",
            "ticks": ""
           },
           "baxis": {
            "gridcolor": "white",
            "linecolor": "white",
            "ticks": ""
           },
           "bgcolor": "#E5ECF6",
           "caxis": {
            "gridcolor": "white",
            "linecolor": "white",
            "ticks": ""
           }
          },
          "title": {
           "x": 0.05
          },
          "xaxis": {
           "automargin": true,
           "gridcolor": "white",
           "linecolor": "white",
           "ticks": "",
           "title": {
            "standoff": 15
           },
           "zerolinecolor": "white",
           "zerolinewidth": 2
          },
          "yaxis": {
           "automargin": true,
           "gridcolor": "white",
           "linecolor": "white",
           "ticks": "",
           "title": {
            "standoff": 15
           },
           "zerolinecolor": "white",
           "zerolinewidth": 2
          }
         }
        },
        "xaxis": {
         "anchor": "y",
         "domain": [
          0,
          1
         ],
         "title": {
          "text": "published_date"
         }
        },
        "yaxis": {
         "anchor": "x",
         "categoryarray": [
          "short stories",
          "alabama",
          "autobiography",
          "computer crimes",
          "aeronautics",
          "autobiographies",
          "great britain",
          "basketball coaches",
          "economics",
          "billionaires",
          "travel",
          "crime prevention",
          "south african war, 1899-1902",
          "african americans",
          "afghan war, 2001-2021",
          "art",
          "actors",
          "equality",
          "cold war",
          "photography",
          "language arts & disciplines",
          "self-help",
          "education",
          "science",
          "music",
          "body, mind & spirit",
          "cooking",
          "soldiers",
          "family & relationships",
          "architecture",
          "fiction",
          "sports & recreation",
          "law",
          "humor",
          "art thefts",
          "performing arts",
          "philosophy",
          "health & fitness",
          "nature",
          "religion",
          "literary collections",
          "true crime",
          "technology & engineering",
          "social science",
          "history",
          "business & economics",
          "biography & autobiography",
          "medical",
          "psychology",
          "political science"
         ],
         "categoryorder": "array",
         "domain": [
          0,
          1
         ],
         "title": {
          "text": "category"
         }
        }
       }
      }
     },
     "metadata": {},
     "output_type": "display_data"
    }
   ],
   "source": [
    "fig = px.scatter(df, x = 'published_date', y = 'category', color='category',opacity=.25, hover_data='title')\n",
    "fig.show()"
   ]
  },
  {
   "cell_type": "code",
   "execution_count": 19,
   "id": "8dd99322",
   "metadata": {},
   "outputs": [],
   "source": [
    "top_cats = top10_cat['category'].to_list()"
   ]
  },
  {
   "cell_type": "code",
   "execution_count": 20,
   "id": "15646f56",
   "metadata": {},
   "outputs": [
    {
     "data": {
      "text/plain": [
       "['biography & autobiography',\n",
       " 'history',\n",
       " 'political science',\n",
       " 'social science',\n",
       " 'true crime',\n",
       " 'science',\n",
       " 'business & economics',\n",
       " 'medical',\n",
       " 'nature',\n",
       " 'psychology']"
      ]
     },
     "execution_count": 20,
     "metadata": {},
     "output_type": "execute_result"
    }
   ],
   "source": [
    "top_cats"
   ]
  },
  {
   "cell_type": "code",
   "execution_count": 23,
   "id": "6c5c0954",
   "metadata": {},
   "outputs": [
    {
     "data": {
      "text/plain": [
       "Index(['age_group', 'amazon_product_url', 'article_chapter_link', 'asterisk',\n",
       "       'author', 'book_image', 'book_image_height', 'book_image_width',\n",
       "       'book_review_link', 'book_uri', 'contributor', 'contributor_note',\n",
       "       'created_date', 'dagger', 'description', 'first_chapter_link', 'price',\n",
       "       'primary_isbn10', 'primary_isbn13', 'publisher', 'rank',\n",
       "       'rank_last_week', 'sunday_review_link', 'title', 'updated_date',\n",
       "       'weeks_on_list', 'category', 'published_date', 'Unnamed: 0'],\n",
       "      dtype='object')"
      ]
     },
     "execution_count": 23,
     "metadata": {},
     "output_type": "execute_result"
    }
   ],
   "source": [
    "df.columns"
   ]
  },
  {
   "cell_type": "code",
   "execution_count": 25,
   "id": "9da0df5a",
   "metadata": {},
   "outputs": [],
   "source": [
    "clean_df = df[['title','published_date','category','rank']]"
   ]
  },
  {
   "cell_type": "code",
   "execution_count": 26,
   "id": "027257bb",
   "metadata": {},
   "outputs": [],
   "source": [
    "clean_df.to_csv('clean_df.csv',index=False)"
   ]
  },
  {
   "cell_type": "code",
   "execution_count": null,
   "id": "0cb2ff1f",
   "metadata": {},
   "outputs": [],
   "source": []
  }
 ],
 "metadata": {
  "kernelspec": {
   "display_name": "Python 3",
   "language": "python",
   "name": "python3"
  },
  "language_info": {
   "codemirror_mode": {
    "name": "ipython",
    "version": 3
   },
   "file_extension": ".py",
   "mimetype": "text/x-python",
   "name": "python",
   "nbconvert_exporter": "python",
   "pygments_lexer": "ipython3",
   "version": "3.12.8"
  }
 },
 "nbformat": 4,
 "nbformat_minor": 5
}
