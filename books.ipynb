{
 "cells": [
  {
   "cell_type": "code",
   "execution_count": null,
   "id": "955c8656",
   "metadata": {},
   "outputs": [],
   "source": [
    "# gutendex.com/book"
   ]
  },
  {
   "cell_type": "code",
   "execution_count": 4,
   "id": "b82c1087",
   "metadata": {},
   "outputs": [],
   "source": [
    "import requests\n",
    "import pandas as pd\n",
    "\n",
    "import os\n",
    "from dotenv import load_dotenv\n",
    "\n",
    "load_dotenv()\n",
    "\n",
    "google_key = os.getenv(\"GOOGLE_BOOKS\")\n",
    "nyt_key = os.getenv(\"NYT\")"
   ]
  },
  {
   "cell_type": "code",
   "execution_count": 5,
   "id": "e4aedba8",
   "metadata": {},
   "outputs": [],
   "source": [
    "# create a list of dataframes\n",
    "\n",
    "dfs = []\n",
    "url = 'https://gutendex.com/books'\n",
    "for p in range(1,11):\n",
    "    response = requests.get(url)\n",
    "    data = response.json()\n",
    "    dfs.append(pd.DataFrame.from_dict(data['results']))\n",
    "    url = data['next']\n"
   ]
  },
  {
   "cell_type": "code",
   "execution_count": 6,
   "id": "9d12798a",
   "metadata": {},
   "outputs": [
    {
     "data": {
      "application/vnd.microsoft.datawrangler.viewer.v0+json": {
       "columns": [
        {
         "name": "index",
         "rawType": "int64",
         "type": "integer"
        },
        {
         "name": "index",
         "rawType": "int64",
         "type": "integer"
        },
        {
         "name": "id",
         "rawType": "int64",
         "type": "integer"
        },
        {
         "name": "title",
         "rawType": "object",
         "type": "string"
        },
        {
         "name": "authors",
         "rawType": "object",
         "type": "unknown"
        },
        {
         "name": "summaries",
         "rawType": "object",
         "type": "unknown"
        },
        {
         "name": "translators",
         "rawType": "object",
         "type": "unknown"
        },
        {
         "name": "subjects",
         "rawType": "object",
         "type": "unknown"
        },
        {
         "name": "bookshelves",
         "rawType": "object",
         "type": "unknown"
        },
        {
         "name": "languages",
         "rawType": "object",
         "type": "unknown"
        },
        {
         "name": "copyright",
         "rawType": "bool",
         "type": "boolean"
        },
        {
         "name": "media_type",
         "rawType": "object",
         "type": "string"
        },
        {
         "name": "formats",
         "rawType": "object",
         "type": "unknown"
        },
        {
         "name": "download_count",
         "rawType": "int64",
         "type": "integer"
        }
       ],
       "ref": "3028ab86-31d8-4888-abed-7599da2f565e",
       "rows": [
        [
         "0",
         "0",
         "84",
         "Frankenstein; Or, The Modern Prometheus",
         "[{'name': 'Shelley, Mary Wollstonecraft', 'birth_year': 1797, 'death_year': 1851}]",
         "['\"Frankenstein; Or, The Modern Prometheus\" by Mary Wollstonecraft Shelley is a novel written in the early 19th century. The story explores themes of ambition, the quest for knowledge, and the consequences of man\\'s hubris through the experiences of Victor Frankenstein and the monstrous creation of his own making.   The opening of the book introduces Robert Walton, an ambitious explorer on a quest to discover new lands and knowledge in the icy regions of the Arctic. In his letters to his sister Margaret, he expresses both enthusiasm and the fear of isolation in his grand venture. As Walton\\'s expedition progresses, he encounters a mysterious, emaciated stranger who has faced great suffering—furthering the intrigue of his narrative. This stranger ultimately reveals his tale of creation, loss, and the profound consequences of seeking knowledge that lies beyond human bounds. The narrative is set up in a manner that suggests a deep examination of the emotions and ethical dilemmas faced by those who dare to defy the natural order. (This is an automatically generated summary.)']",
         "[]",
         "[\"Frankenstein's monster (Fictitious character) -- Fiction\", 'Frankenstein, Victor (Fictitious character) -- Fiction', 'Gothic fiction', 'Horror tales', 'Monsters -- Fiction', 'Science fiction', 'Scientists -- Fiction']",
         "['Browsing: Culture/Civilization/Society', 'Browsing: Fiction', 'Browsing: Gender & Sexuality Studies', 'Browsing: Literature', 'Browsing: Science-Fiction & Fantasy', 'Gothic Fiction', 'Movie Books', 'Precursors of Science Fiction', 'Science Fiction by Women']",
         "['en']",
         "False",
         "Text",
         "{'text/html': 'https://www.gutenberg.org/ebooks/84.html.images', 'application/epub+zip': 'https://www.gutenberg.org/ebooks/84.epub3.images', 'application/x-mobipocket-ebook': 'https://www.gutenberg.org/ebooks/84.kf8.images', 'text/plain; charset=us-ascii': 'https://www.gutenberg.org/ebooks/84.txt.utf-8', 'application/rdf+xml': 'https://www.gutenberg.org/ebooks/84.rdf', 'image/jpeg': 'https://www.gutenberg.org/cache/epub/84/pg84.cover.medium.jpg', 'application/octet-stream': 'https://www.gutenberg.org/cache/epub/84/pg84-h.zip'}",
         "117026"
        ],
        [
         "1",
         "1",
         "2701",
         "Moby Dick; Or, The Whale",
         "[{'name': 'Melville, Herman', 'birth_year': 1819, 'death_year': 1891}]",
         "['\"Moby Dick; Or, The Whale\" by Herman Melville is a novel written in the mid-19th century. The story follows Ishmael, a sailor on a whaling voyage, who seeks adventure and escape from his gloomy life on land. As he embarks on this journey, he becomes drawn into the complex world of whaling and is introduced to the ominous figure of Captain Ahab, whose obsession with a legendary white whale ultimately drives the narrative.  At the start of the novel, Ishmael introduces himself and shares his philosophy about the sea as a remedy for his melancholic disposition. He muses on the magnetic pull of the ocean, describing not only his own urge to set sail but also the collective longing of city dwellers for the water. Ishmael\\'s journey takes him to New Bedford, where he experiences a series of humorous and strange encounters while seeking lodging before joining a whaling ship. As he navigates his way through the town, he is introduced to Queequeg, a tattooed harpooner with a mysterious past, setting the stage for a unique friendship that unfolds amidst the backdrop of whaling adventures. (This is an automatically generated summary.)']",
         "[]",
         "['Adventure stories', 'Ahab, Captain (Fictitious character) -- Fiction', 'Mentally ill -- Fiction', 'Psychological fiction', 'Sea stories', 'Ship captains -- Fiction', 'Whales -- Fiction', 'Whaling -- Fiction', 'Whaling ships -- Fiction']",
         "['Best Books Ever Listings', 'Browsing: Fiction', 'Browsing: Literature']",
         "['en']",
         "False",
         "Text",
         "{'text/html': 'https://www.gutenberg.org/ebooks/2701.html.images', 'application/epub+zip': 'https://www.gutenberg.org/ebooks/2701.epub3.images', 'application/x-mobipocket-ebook': 'https://www.gutenberg.org/ebooks/2701.kf8.images', 'text/plain; charset=us-ascii': 'https://www.gutenberg.org/ebooks/2701.txt.utf-8', 'application/rdf+xml': 'https://www.gutenberg.org/ebooks/2701.rdf', 'image/jpeg': 'https://www.gutenberg.org/cache/epub/2701/pg2701.cover.medium.jpg', 'application/octet-stream': 'https://www.gutenberg.org/cache/epub/2701/pg2701-h.zip'}",
         "93457"
        ],
        [
         "2",
         "2",
         "1513",
         "Romeo and Juliet",
         "[{'name': 'Shakespeare, William', 'birth_year': 1564, 'death_year': 1616}]",
         "['\"Romeo and Juliet\" by William Shakespeare is a tragedy likely written during the late 16th century. The play centers on the intense love affair between two young lovers, Romeo Montague and Juliet Capulet, whose families are embroiled in a bitter feud. Their love, while passionate and profound, is met with adversities that ultimately lead to tragic consequences.  At the start of the play, a Prologue delivered by the Chorus sets the stage for the tale of forbidden love, revealing the familial conflict that surrounds Romeo and Juliet. The opening scenes depict a public brawl ignited by the feud between the Montagues and Capulets, showcasing the hostility that envelops their lives. As we are introduced to various characters such as Benvolio, Tybalt, and Mercutio, we learn of Romeo\\'s unrequited love for Rosaline. However, this quickly changes when Romeo encounters Juliet at the Capulet ball, where they share a famous and romantic exchange, unwittingly falling in love with each other despite their families\\' bitter enmity. This initial encounter foreshadows the obstacles they will face as their love story unfolds amidst chaos and conflict. (This is an automatically generated summary.)']",
         "[]",
         "['Conflict of generations -- Drama', 'Juliet (Fictitious character) -- Drama', 'Romeo (Fictitious character) -- Drama', 'Tragedies (Drama)', 'Vendetta -- Drama', 'Verona (Italy) -- Drama', 'Youth -- Drama']",
         "['Browsing: Fiction', 'Browsing: Literature', 'Browsing: Poetry']",
         "['en']",
         "False",
         "Text",
         "{'text/html': 'https://www.gutenberg.org/ebooks/1513.html.images', 'application/epub+zip': 'https://www.gutenberg.org/ebooks/1513.epub3.images', 'application/x-mobipocket-ebook': 'https://www.gutenberg.org/ebooks/1513.kf8.images', 'text/plain; charset=us-ascii': 'https://www.gutenberg.org/ebooks/1513.txt.utf-8', 'application/rdf+xml': 'https://www.gutenberg.org/ebooks/1513.rdf', 'image/jpeg': 'https://www.gutenberg.org/cache/epub/1513/pg1513.cover.medium.jpg', 'application/octet-stream': 'https://www.gutenberg.org/cache/epub/1513/pg1513-h.zip'}",
         "56729"
        ],
        [
         "3",
         "3",
         "1342",
         "Pride and Prejudice",
         "[{'name': 'Austen, Jane', 'birth_year': 1775, 'death_year': 1817}]",
         "['\"Pride and Prejudice\" by Jane Austen is a classic novel written in the early 19th century. The story delves into themes of love, social class, and individual agency, largely revolving around the life of Elizabeth Bennet, one of five sisters from a modest but genteel family navigating the complex social landscape of Regency England.  The opening of the novel introduces the seemingly universal truth that a single man of wealth is a target for matchmaking mothers in the neighborhood. Mrs. Bennet is eager to marry off her daughters and is excited to hear about the arrival of Mr. Bingley, a wealthy young man who has taken up residence at Netherfield Park. Mr. Bennet\\'s teasing yet indifferent nature contrasts sharply with Mrs. Bennet\\'s anxious and businesslike demeanor as she plans to visit Mr. Bingley to create an opportunity for her daughters. Their witty exchanges set the tone for the story\\'s exploration of family dynamics and social expectations, while also hinting at deeper character developments and the challenges Elizabeth will face regarding love and prejudice in her interactions with Mr. Darcy and the Bingley family. (This is an automatically generated summary.)']",
         "[]",
         "['Courtship -- Fiction', 'Domestic fiction', 'England -- Fiction', 'Love stories', 'Sisters -- Fiction', 'Social classes -- Fiction', 'Young women -- Fiction']",
         "['Best Books Ever Listings', 'Browsing: Culture/Civilization/Society', 'Browsing: Fiction', 'Browsing: Literature', 'Harvard Classics']",
         "['en']",
         "False",
         "Text",
         "{'text/html': 'https://www.gutenberg.org/ebooks/1342.html.images', 'application/epub+zip': 'https://www.gutenberg.org/ebooks/1342.epub3.images', 'application/x-mobipocket-ebook': 'https://www.gutenberg.org/ebooks/1342.kf8.images', 'text/plain; charset=us-ascii': 'https://www.gutenberg.org/ebooks/1342.txt.utf-8', 'application/rdf+xml': 'https://www.gutenberg.org/ebooks/1342.rdf', 'image/jpeg': 'https://www.gutenberg.org/cache/epub/1342/pg1342.cover.medium.jpg', 'application/octet-stream': 'https://www.gutenberg.org/cache/epub/1342/pg1342-h.zip'}",
         "54851"
        ],
        [
         "4",
         "4",
         "11",
         "Alice's Adventures in Wonderland",
         "[{'name': 'Carroll, Lewis', 'birth_year': 1832, 'death_year': 1898}]",
         "['\"Alice\\'s Adventures in Wonderland\" by Lewis Carroll is a classic children\\'s novel written in the mid-19th century. The story follows a young girl named Alice who, feeling bored and sleepy while sitting by a riverbank, encounters a White Rabbit and follows it down a rabbit hole, plunging into a fantastical world filled with curious creatures and whimsical adventures.  The opening of the book introduces Alice as she daydreams about her surroundings before spotting the White Rabbit, who is both flustered and animated. Curious, Alice pursues the Rabbit and finds herself tumbling down a deep rabbit hole, leading to a curious hall filled with doors, all locked. After experiencing a series of bizarre changes in size from eating and drinking mysterious substances, she begins exploring this new world, initially frustrated by her newfound challenges as she navigates her size and the peculiar inhabitants she meets. The narrative sets the tone for Alice\\'s whimsical and often nonsensical adventures that characterize the entire tale. (This is an automatically generated summary.)']",
         "[]",
         "['Alice (Fictitious character from Carroll) -- Juvenile fiction', \"Children's stories\", 'Fantasy fiction', 'Imaginary places -- Juvenile fiction']",
         "['Browsing: Children & Young Adult Reading', 'Browsing: Fiction', \"Children's Literature\"]",
         "['en']",
         "False",
         "Text",
         "{'text/html': 'https://www.gutenberg.org/ebooks/11.html.images', 'application/epub+zip': 'https://www.gutenberg.org/ebooks/11.epub3.images', 'application/x-mobipocket-ebook': 'https://www.gutenberg.org/ebooks/11.kf8.images', 'text/plain; charset=us-ascii': 'https://www.gutenberg.org/ebooks/11.txt.utf-8', 'application/rdf+xml': 'https://www.gutenberg.org/ebooks/11.rdf', 'image/jpeg': 'https://www.gutenberg.org/cache/epub/11/pg11.cover.medium.jpg', 'application/octet-stream': 'https://www.gutenberg.org/cache/epub/11/pg11-h.zip'}",
         "47514"
        ],
        [
         "5",
         "5",
         "100",
         "The Complete Works of William Shakespeare",
         "[{'name': 'Shakespeare, William', 'birth_year': 1564, 'death_year': 1616}]",
         "['\"The Complete Works of William Shakespeare\" by William Shakespeare is a collection of classic literary works written in the late 16th to early 17th centuries. This comprehensive anthology includes a wide range of genres, encompassing sonnets, comedies, histories, and tragedies, all showcasing Shakespeare\\'s unparalleled mastery of language and character development. Important themes such as love, ambition, betrayal, and the complexities of human nature resonate throughout these timeless pieces.  At the start of this collection, the reader is immediately introduced to Shakespeare\\'s \"Sonnets,\" which serve as an eloquent prelude to his themes of love and beauty. These opening verses explore the fleeting nature of beauty and time, with a poignant focus on the necessity of procreation to preserve youthful beauty. The sonnets address a young man of remarkable beauty and the poet\\'s passionate urge for him to reproduce, emphasizing the tensions between self-love and the desire for legacy. Through rhythmic language and rich imagery, the sonnets present a universal contemplation on love, mortality, and the human experience, inviting readers to engage deeply with concepts that remain relevant today. (This is an automatically generated summary.)']",
         "[]",
         "['English drama -- Early modern and Elizabethan, 1500-1600']",
         "['Browsing: Fiction', 'Browsing: Literature', 'Plays']",
         "['en']",
         "False",
         "Text",
         "{'text/html': 'https://www.gutenberg.org/ebooks/100.html.images', 'application/epub+zip': 'https://www.gutenberg.org/ebooks/100.epub3.images', 'application/x-mobipocket-ebook': 'https://www.gutenberg.org/ebooks/100.kf8.images', 'text/plain; charset=us-ascii': 'https://www.gutenberg.org/ebooks/100.txt.utf-8', 'application/rdf+xml': 'https://www.gutenberg.org/ebooks/100.rdf', 'image/jpeg': 'https://www.gutenberg.org/cache/epub/100/pg100.cover.medium.jpg', 'application/octet-stream': 'https://www.gutenberg.org/cache/epub/100/pg100-h.zip'}",
         "42209"
        ],
        [
         "6",
         "6",
         "145",
         "Middlemarch",
         "[{'name': 'Eliot, George', 'birth_year': 1819, 'death_year': 1880}]",
         "['\"Middlemarch\" by George Eliot is a novel written in the mid-19th century that explores the lives and interactions of residents in a provincial English town. The story primarily centers around Dorothea Brooke, a young woman with high ideals and aspirations for a meaningful life, who grapples with her search for love and purpose amid societal expectations. The novel addresses themes of marriage, ambition, and the intersection of personal and social values in a rapidly changing world.  At the start of the novel, we are introduced to Miss Brooke, who is depicted as a strikingly beautiful and intelligent young woman, yet may be seen as eccentric due to her lofty aspirations and disregard for societal norms. She lives with her sister Celia and their uncle, Mr. Brooke, in a quiet country house, harboring dreams of making a significant impact on the world. As the opening chapters unfold, we see her rejection of traditional feminine pursuits and her desire to be with a man of intellect who can match her aspirations. Important characters such as the learned Reverend Edward Casaubon and the kind Sir James Chettam emerge, each representing different paths and values that will challenge Dorothea in her quest for fulfillment. The complexities of their interactions are foreshadowed early on, setting the stage for a rich exploration of human relationships and personal growth. (This is an automatically generated summary.)']",
         "[]",
         "['Bildungsromans', 'City and town life -- Fiction', 'Didactic fiction', 'Domestic fiction', 'England -- Fiction', 'Love stories', 'Married people -- Fiction', 'Young women -- Fiction']",
         "['Best Books Ever Listings', 'Browsing: Culture/Civilization/Society', 'Browsing: Fiction', 'Browsing: History - British', 'Browsing: Literature', 'Historical Fiction']",
         "['en']",
         "False",
         "Text",
         "{'text/html': 'https://www.gutenberg.org/ebooks/145.html.images', 'application/epub+zip': 'https://www.gutenberg.org/ebooks/145.epub3.images', 'application/x-mobipocket-ebook': 'https://www.gutenberg.org/ebooks/145.kf8.images', 'text/plain; charset=us-ascii': 'https://www.gutenberg.org/ebooks/145.txt.utf-8', 'application/rdf+xml': 'https://www.gutenberg.org/ebooks/145.rdf', 'image/jpeg': 'https://www.gutenberg.org/cache/epub/145/pg145.cover.medium.jpg', 'application/octet-stream': 'https://www.gutenberg.org/cache/epub/145/pg145-h.zip'}",
         "40160"
        ],
        [
         "7",
         "7",
         "2641",
         "A Room with a View",
         "[{'name': 'Forster, E. M. (Edward Morgan)', 'birth_year': 1879, 'death_year': 1970}]",
         "['\"A Room with a View\" by E. M. Forster is a novel written during the early 20th century, which explores themes of social conventions and personal freedom. Set primarily in Italy and England, the narrative follows the journey of Lucy Honeychurch, a young woman navigating her feelings about love, societal expectations, and her own desires against the backdrop of her experiences abroad.  The opening of the story introduces the character of Lucy and her cousin Charlotte Bartlett as they arrive at the Pension Bertolini in Florence. Disappointed by the accommodation’s lack of a promised view, they bicker about their arrangements. Lucy\\'s eagerness to experience Italy conflicts with Charlotte\\'s more cautious demeanor. Here, the reader meets Mr. Emerson and his son George, who challenge the norms of polite society, offering their rooms to Lucy and Charlotte out of kindness, which Charlotte initially declines. The tension between personal desires and societal expectations is palpable, setting the stage for Lucy\\'s internal conflict and her eventual blossoming into independence and self-discovery. (This is an automatically generated summary.)']",
         "[]",
         "['British -- Italy -- Fiction', 'England -- Fiction', 'Florence (Italy) -- Fiction', 'Humorous stories', 'Young women -- Fiction']",
         "['Browsing: Culture/Civilization/Society', 'Browsing: Fiction', 'Browsing: Humour', 'Browsing: Literature', 'Browsing: Travel & Geography', 'Italy']",
         "['en']",
         "False",
         "Text",
         "{'text/html': 'https://www.gutenberg.org/ebooks/2641.html.images', 'application/epub+zip': 'https://www.gutenberg.org/ebooks/2641.epub3.images', 'application/x-mobipocket-ebook': 'https://www.gutenberg.org/ebooks/2641.kf8.images', 'text/plain; charset=us-ascii': 'https://www.gutenberg.org/ebooks/2641.txt.utf-8', 'application/rdf+xml': 'https://www.gutenberg.org/ebooks/2641.rdf', 'image/jpeg': 'https://www.gutenberg.org/cache/epub/2641/pg2641.cover.medium.jpg', 'application/octet-stream': 'https://www.gutenberg.org/cache/epub/2641/pg2641-h.zip'}",
         "39430"
        ],
        [
         "8",
         "8",
         "64317",
         "The Great Gatsby",
         "[{'name': 'Fitzgerald, F. Scott (Francis Scott)', 'birth_year': 1896, 'death_year': 1940}]",
         "['\"The Great Gatsby\" by F. Scott Fitzgerald is a novel written in the early 20th century. The story is mainly narrated by Nick Carraway, who reflects on the life of his enigmatic neighbor, Jay Gatsby, and the extravagant world of wealth and excess he inhabits. The novel explores themes of the American Dream, love, and social class.  At the start of the novel, Nick Carraway reflects on advice from his father about withholding judgment of others, which sets the stage for the unfolding narrative. We learn about Nick\\'s background, his move to West Egg, and his connection to wealthy acquaintances like Tom and Daisy Buchanan. Nick\\'s first glimpse of Gatsby is during a moment of solitude when he sees Gatsby reaching out toward a distant green light, symbolizing his unattainable dreams. This opening portion lays the groundwork for the intricate relationships and social dynamics in the world of 1920s America, hinting at the luxurious yet hollow lives that many characters lead. (This is an automatically generated summary.)']",
         "[]",
         "['First loves -- Fiction', 'Long Island (N.Y.) -- Fiction', 'Married women -- Fiction', 'Psychological fiction', 'Rich people -- Fiction']",
         "['Browsing: Culture/Civilization/Society', 'Browsing: Fiction', 'Browsing: Literature']",
         "['en']",
         "False",
         "Text",
         "{'text/plain; charset=us-ascii': 'https://www.gutenberg.org/ebooks/64317.txt.utf-8', 'text/html': 'https://www.gutenberg.org/ebooks/64317.html.images', 'application/epub+zip': 'https://www.gutenberg.org/ebooks/64317.epub3.images', 'application/x-mobipocket-ebook': 'https://www.gutenberg.org/ebooks/64317.kf8.images', 'application/rdf+xml': 'https://www.gutenberg.org/ebooks/64317.rdf', 'image/jpeg': 'https://www.gutenberg.org/cache/epub/64317/pg64317.cover.medium.jpg', 'application/octet-stream': 'https://www.gutenberg.org/cache/epub/64317/pg64317-h.zip'}",
         "39149"
        ],
        [
         "9",
         "9",
         "2542",
         "A Doll's House : a play",
         "[{'name': 'Ibsen, Henrik', 'birth_year': 1828, 'death_year': 1906}]",
         "['\"A Doll\\'s House\" by Henrik Ibsen is a three-act play written during the late 19th century. The story revolves around Nora Helmer and her seemingly perfect marriage to Torvald Helmer, as well as themes of gender roles, deception, and the struggle for identity within the constraints of societal expectations.  At the start of the play, we meet Nora, who enters her home in high spirits, preparing for Christmas and eagerly discussing her acquisitions with her husband, Torvald. Their playful banter reveals Nora\\'s childlike demeanor and Torvald\\'s patronizing affection for her. As they converse, it becomes evident there are underlying tensions: Nora has kept a significant secret involving a loan she took out to save Torvald\\'s life during an illness. The arrival of Nora\\'s old friend, Mrs. Linde, introduces additional complexity to the narrative. Their conversation hints at Nora’s hidden struggles and foreshadows the impending conflict as Krogstad, who has connections to Nora’s loan, enters the picture, setting the stage for the unfolding drama. (This is an automatically generated summary.)']",
         "[]",
         "['Man-woman relationships -- Drama', 'Marriage -- Drama', 'Norwegian drama -- Translations into English', 'Wives -- Drama']",
         "['Best Books Ever Listings', 'Browsing: Fiction', 'Browsing: Literature']",
         "['en']",
         "False",
         "Text",
         "{'text/html': 'https://www.gutenberg.org/ebooks/2542.html.images', 'application/epub+zip': 'https://www.gutenberg.org/ebooks/2542.epub3.images', 'application/x-mobipocket-ebook': 'https://www.gutenberg.org/ebooks/2542.kf8.images', 'text/plain; charset=us-ascii': 'https://www.gutenberg.org/ebooks/2542.txt.utf-8', 'application/rdf+xml': 'https://www.gutenberg.org/ebooks/2542.rdf', 'image/jpeg': 'https://www.gutenberg.org/cache/epub/2542/pg2542.cover.medium.jpg', 'application/octet-stream': 'https://www.gutenberg.org/files/2542/2542-0.zip'}",
         "39082"
        ],
        [
         "10",
         "10",
         "1023",
         "Bleak House",
         "[{'name': 'Dickens, Charles', 'birth_year': 1812, 'death_year': 1870}]",
         "['\"Bleak House\" by Charles Dickens is a novel written in the mid-19th century that explores the themes of social justice, the inefficiencies of the legal system, and the personal struggles of its characters. The narrative primarily revolves around several characters involved in the interminable court case of Jarndyce and Jarndyce, delving into their lives, relationships, and the pervasive influence of the legal system on their choices and fates. The story is introduced through the eyes of Esther Summerson, a young woman of uncertain parentage, who finds herself at the center of the unfolding drama.  The opening of \"Bleak House\" paints a vivid picture of a murky November day in London and the dreary atmosphere of the Court of Chancery, where the proceedings for the case of Jarndyce and Jarndyce are taking place. Dickens introduces the audience to various characters in the court, showcasing their despondency and the seemingly endless nature of their legal troubles. Esther observes the weariness of the court\\'s attendees, including a mad old woman who expects a judgment that never arrives, illustrating the hopelessness associated with the legal entanglement. The narrative establishes a sense of foreboding regarding the Chancery court and hints at the broader societal critique of the legal system, promising readers a multifaceted exploration of justice, morality, and human experience throughout the novel. (This is an automatically generated summary.)']",
         "[]",
         "['Bildungsromans', 'Domestic fiction', 'Guardian and ward -- Fiction', 'Illegitimate children -- Fiction', 'Inheritance and succession -- Fiction', 'Legal stories', 'London (England) -- Fiction', 'Young women -- Fiction']",
         "['Browsing: Culture/Civilization/Society', 'Browsing: Fiction', 'Browsing: Literature']",
         "['en']",
         "False",
         "Text",
         "{'text/html': 'https://www.gutenberg.org/ebooks/1023.html.images', 'application/epub+zip': 'https://www.gutenberg.org/ebooks/1023.epub3.images', 'application/x-mobipocket-ebook': 'https://www.gutenberg.org/ebooks/1023.kf8.images', 'text/plain; charset=us-ascii': 'https://www.gutenberg.org/ebooks/1023.txt.utf-8', 'application/rdf+xml': 'https://www.gutenberg.org/ebooks/1023.rdf', 'image/jpeg': 'https://www.gutenberg.org/cache/epub/1023/pg1023.cover.medium.jpg', 'application/octet-stream': 'https://www.gutenberg.org/cache/epub/1023/pg1023-h.zip'}",
         "38966"
        ],
        [
         "11",
         "11",
         "37106",
         "Little Women; Or, Meg, Jo, Beth, and Amy",
         "[{'name': 'Alcott, Louisa May', 'birth_year': 1832, 'death_year': 1888}]",
         "['\"Little Women; Or, Meg, Jo, Beth, and Amy\" by Louisa May Alcott is a classic novel written in the mid-19th century. The story revolves around the lives and experiences of four sisters—Meg, Jo, Beth, and Amy March—as they navigate the challenges of growing up in a modest household during the American Civil War. The novel explores themes of family, sacrifice, and the pursuit of personal dreams, showcasing the distinct personalities and aspirations of each sister.  The opening of the book introduces readers to the March sisters, who are grappling with their financial struggles and longing for a more comfortable life. As they gather around the fire to express their frustrations about being poor, their mother reinforces the idea that they should embrace gratitude and make sacrifices for those suffering during the war, particularly their father, who is away serving as a chaplain. This chapter sets the tone for the sisters\\' individual journeys, highlighting their different approaches to hardship—Meg longs for material wealth, Jo is a spirited tomboy who craves independence, Beth is the gentle peacemaker, and Amy is the aspiring artist concerned with appearances. Through their interactions and hopes, Alcott paints a vivid picture of their lives, filled with warmth, humor, and the bonds of sisterhood. (This is an automatically generated summary.)']",
         "[]",
         "['Autobiographical fiction', 'Bildungsromans', 'Domestic fiction', 'Family life -- New England -- Fiction', 'March family (Fictitious characters) -- Fiction', 'Mothers and daughters -- Fiction', 'New England -- Fiction', 'Sisters -- Fiction', 'Young women -- Fiction']",
         "['Browsing: Culture/Civilization/Society', 'Browsing: Fiction', 'Browsing: Literature']",
         "['en']",
         "False",
         "Text",
         "{'text/html': 'https://www.gutenberg.org/ebooks/37106.html.images', 'application/epub+zip': 'https://www.gutenberg.org/ebooks/37106.epub3.images', 'application/x-mobipocket-ebook': 'https://www.gutenberg.org/ebooks/37106.kf8.images', 'application/rdf+xml': 'https://www.gutenberg.org/ebooks/37106.rdf', 'image/jpeg': 'https://www.gutenberg.org/cache/epub/37106/pg37106.cover.medium.jpg', 'application/octet-stream': 'https://www.gutenberg.org/files/37106/37106-0.zip', 'text/plain; charset=us-ascii': 'https://www.gutenberg.org/ebooks/37106.txt.utf-8'}",
         "38071"
        ],
        [
         "12",
         "12",
         "26184",
         "Simple Sabotage Field Manual",
         "[{'name': 'United States. Office of Strategic Services', 'birth_year': None, 'death_year': None}]",
         "['\"Simple Sabotage Field Manual\" by United States. Office of Strategic Services is a historical publication written during the early 1940s, amid World War II. This manual acts as a guide for ordinary civilians to conduct simple acts of sabotage against enemy operations without the need for specialized training or equipment. Its main topic revolves around promoting small, accessible forms of resistance that could collectively disrupt the enemy\\'s war effort.  The manual outlines various strategies and techniques for citizens to engage in sabotage that could be executed discreetly and with minimal risk. It provides specific suggestions for targeting transportation, communication, and industrial facilities to create delays and inefficiencies in enemy operations. The manual emphasizes the power of many individuals acting independently to contribute to a larger campaign of disruption, encouraging simple acts such as misplacing tools, delaying communication, or damaging equipment with household items. Overall, the \"Simple Sabotage Field Manual\" serves as a unique historical artifact that illustrates grassroots resistance efforts and the belief in the collective power of ordinary people during wartime. (This is an automatically generated summary.)']",
         "[]",
         "['Sabotage']",
         "['Browsing: History - Warfare']",
         "['en']",
         "False",
         "Text",
         "{'text/html': 'https://www.gutenberg.org/ebooks/26184.html.images', 'application/epub+zip': 'https://www.gutenberg.org/ebooks/26184.epub3.images', 'application/x-mobipocket-ebook': 'https://www.gutenberg.org/ebooks/26184.kf8.images', 'text/plain; charset=us-ascii': 'https://www.gutenberg.org/ebooks/26184.txt.utf-8', 'application/rdf+xml': 'https://www.gutenberg.org/ebooks/26184.rdf', 'image/jpeg': 'https://www.gutenberg.org/cache/epub/26184/pg26184.cover.medium.jpg', 'application/octet-stream': 'https://www.gutenberg.org/cache/epub/26184/pg26184-h.zip'}",
         "36196"
        ],
        [
         "13",
         "13",
         "43",
         "The Strange Case of Dr. Jekyll and Mr. Hyde",
         "[{'name': 'Stevenson, Robert Louis', 'birth_year': 1850, 'death_year': 1894}]",
         "['\"The Strange Case of Dr. Jekyll and Mr. Hyde\" by Robert Louis Stevenson is a novella written during the late 19th century that delves into the duality of human nature and the struggle between good and evil. The narrative follows Mr. Utterson, a lawyer, as he investigates the mysterious relationship between his friend, Dr. Jekyll, and the sinister Mr. Hyde, uncovering dark secrets that test the boundaries of morality.  At the start of the novella, we meet Mr. Utterson and his distant cousin, Mr. Enfield, who discuss a strange door that Enfield associates with a disturbing story about Hyde trampling a young girl and displaying an unsettling demeanor. Utterson becomes increasingly intrigued by Hyde, especially when he discovers that Hyde stands to inherit Jekyll\\'s wealth upon the doctor\\'s disappearance. The text evokes a sense of foreboding as Utterson grapples with his concerns for Jekyll\\'s welfare while unraveling the enigma surrounding Hyde, whose appearance elicits an inexplicable sense of dread. As the tale unfolds, it sets the stage for a profound exploration of identity, shame, and the darker aspects of human behavior. (This is an automatically generated summary.)']",
         "[]",
         "['Horror tales', 'London (England) -- Fiction', 'Multiple personality -- Fiction', 'Physicians -- Fiction', 'Psychological fiction', 'Science fiction', 'Self-experimentation in medicine -- Fiction']",
         "['Browsing: Fiction', 'Browsing: Psychiatry/Psychology', 'Browsing: Science-Fiction & Fantasy', 'Horror', 'Movie Books', 'Precursors of Science Fiction']",
         "['en']",
         "False",
         "Text",
         "{'text/html': 'https://www.gutenberg.org/ebooks/43.html.images', 'application/epub+zip': 'https://www.gutenberg.org/ebooks/43.epub3.images', 'application/x-mobipocket-ebook': 'https://www.gutenberg.org/ebooks/43.kf8.images', 'text/plain; charset=us-ascii': 'https://www.gutenberg.org/ebooks/43.txt.utf-8', 'application/rdf+xml': 'https://www.gutenberg.org/ebooks/43.rdf', 'image/jpeg': 'https://www.gutenberg.org/cache/epub/43/pg43.cover.medium.jpg', 'application/octet-stream': 'https://www.gutenberg.org/files/43/43-0.zip'}",
         "35263"
        ],
        [
         "14",
         "14",
         "16389",
         "The Enchanted April",
         "[{'name': 'Von Arnim, Elizabeth', 'birth_year': 1866, 'death_year': 1941}]",
         "['\"The Enchanted April\" by Elizabeth Von Arnim is a novel written in the early 20th century. The story revolves around four women who seek a transformative escape from their mundane lives in cold, rainy England to the alluring sunshine of a mediaeval castle in Italy. The main characters introduced are Mrs. Wilkins and Mrs. Arbuthnot, both of whom are discontented with their respective circumstances and longing for a change.  At the start of the novel, Mrs. Wilkins, feeling trapped in her drab life, stumbles upon an advertisement for a rental castle in Italy while at a Women\\'s Club in London. Drawn to the idea of warmth and beauty, she impulsively starts a conversation with the similarly yearning Mrs. Arbuthnot. As they discuss the advertisement, an unexpected bond forms, leading them to consider sharing the castle with two other women to make the plan financially feasible. This opening sets the stage for an uplifting journey where the characters’ quest for personal joy and freedom unfolds against the backdrop of picturesque Italy, suggesting themes of self-discovery and the rejuvenating power of adventure. (This is an automatically generated summary.)']",
         "[]",
         "['British -- Italy -- Fiction', 'Domestic fiction', 'Female friendship -- Fiction', 'Italy -- Fiction', 'Love stories']",
         "['Bestsellers, American, 1895-1923', 'Browsing: Culture/Civilization/Society', 'Browsing: Fiction', 'Browsing: Literature']",
         "['en']",
         "False",
         "Text",
         "{'text/html': 'https://www.gutenberg.org/ebooks/16389.html.images', 'application/epub+zip': 'https://www.gutenberg.org/ebooks/16389.epub3.images', 'application/x-mobipocket-ebook': 'https://www.gutenberg.org/ebooks/16389.kf8.images', 'text/plain; charset=us-ascii': 'https://www.gutenberg.org/ebooks/16389.txt.utf-8', 'application/rdf+xml': 'https://www.gutenberg.org/ebooks/16389.rdf', 'image/jpeg': 'https://www.gutenberg.org/cache/epub/16389/pg16389.cover.medium.jpg', 'application/octet-stream': 'https://www.gutenberg.org/files/16389/16389-0.zip'}",
         "35228"
        ],
        [
         "15",
         "15",
         "67979",
         "The Blue Castle: a novel",
         "[{'name': 'Montgomery, L. M. (Lucy Maud)', 'birth_year': 1874, 'death_year': 1942}]",
         "['\"The Blue Castle\" by L. M. Montgomery is a novel written in the early 20th century. The story centers around Valancy Stirling, a nearly thirty-year-old woman who feels trapped in her life as an unmarried woman in a family that shows little regard for her. The opening of the novel introduces Valancy\\'s bleak existence, characterized by a suffocating home life and a longing for romance and meaning that she has never experienced.  At the start of the book, Valancy awakens on a rainy morning weighed down by her impending birthday and the realization of her unfulfilled life. As she reflects on her circumstances, the reader gains insight into her despair and her dreams of an idealized life represented by her fantastical \"Blue Castle.\" She feels oppressed by her family\\'s expectations and by her status as a \"hopeless old maid.\" Valancy\\'s introspection reveals both her sense of humor and her deep-rooted sorrow, setting the stage for the profound changes that her impending fate may bring. The subsequent narrative promises to explore themes of self-discovery and rebellion against familial constraints as Valancy contemplates her situation. (This is an automatically generated summary.)']",
         "[]",
         "['Canada -- History -- 1914-1945 -- Fiction', 'Choice (Psychology) -- Fiction', 'Love -- Fiction', 'Romance fiction', 'Self-actualization (Psychology) -- Fiction', 'Single women -- Fiction', 'Young adult fiction']",
         "['Browsing: Culture/Civilization/Society', 'Browsing: Fiction', 'Browsing: Literature', 'Browsing: Teaching & Education']",
         "['en']",
         "False",
         "Text",
         "{'application/octet-stream': 'https://www.gutenberg.org/cache/epub/67979/pg67979-h.zip', 'text/html': 'https://www.gutenberg.org/ebooks/67979.html.images', 'application/epub+zip': 'https://www.gutenberg.org/ebooks/67979.epub3.images', 'application/x-mobipocket-ebook': 'https://www.gutenberg.org/ebooks/67979.kf8.images', 'application/rdf+xml': 'https://www.gutenberg.org/ebooks/67979.rdf', 'image/jpeg': 'https://www.gutenberg.org/cache/epub/67979/pg67979.cover.medium.jpg', 'text/plain; charset=us-ascii': 'https://www.gutenberg.org/ebooks/67979.txt.utf-8'}",
         "34644"
        ],
        [
         "16",
         "16",
         "844",
         "The Importance of Being Earnest: A Trivial Comedy for Serious People",
         "[{'name': 'Wilde, Oscar', 'birth_year': 1854, 'death_year': 1900}]",
         "['\"The Importance of Being Earnest: A Trivial Comedy for Serious People\" by Oscar Wilde is a play written in the late 19th century. This witty farce revolves around the theme of mistaken identities and the absurdities of Victorian society, focusing on the lives of two friends, John Worthing and Algernon Moncrieff, who both assume fictitious personas to escape their societal obligations.   The opening of the play establishes Algernon Moncrieff\\'s opulent flat, where he converses with his manservant Lane about the complexity of life and marriage. John Worthing, or \"Ernest\" in town, visits Algernon, expressing his purpose of proposing to Gwendolen Fairfax, Algernon\\'s cousin. Through clever dialogue, the two men discuss their escapades and the concept of \"Bunburying,\" a euphemism for creating a fictional identity to avoid responsibilities. This sets the stage for comedic misunderstandings and romantic entanglements that unfold as they both navigate their relationships with the women in their lives, Gwendolen and Cecily Cardew. (This is an automatically generated summary.)']",
         "[]",
         "['Comedy plays', 'England -- Drama', 'Foundlings -- Drama', 'Identity (Psychology) -- Drama']",
         "['Browsing: Fiction', 'Browsing: Literature', 'Browsing: Performing Arts/Film', 'Plays']",
         "['en']",
         "False",
         "Text",
         "{'text/html': 'https://www.gutenberg.org/ebooks/844.html.images', 'application/epub+zip': 'https://www.gutenberg.org/ebooks/844.epub3.images', 'application/x-mobipocket-ebook': 'https://www.gutenberg.org/ebooks/844.kf8.images', 'text/plain; charset=us-ascii': 'https://www.gutenberg.org/ebooks/844.txt.utf-8', 'text/plain; charset=utf-8': 'https://www.gutenberg.org/files/844/844-0.txt', 'application/rdf+xml': 'https://www.gutenberg.org/ebooks/844.rdf', 'image/jpeg': 'https://www.gutenberg.org/cache/epub/844/pg844.cover.medium.jpg', 'application/octet-stream': 'https://www.gutenberg.org/cache/epub/844/pg844-h.zip'}",
         "34602"
        ],
        [
         "17",
         "17",
         "174",
         "The Picture of Dorian Gray",
         "[{'name': 'Wilde, Oscar', 'birth_year': 1854, 'death_year': 1900}]",
         "['\"The Picture of Dorian Gray\" by Oscar Wilde is a novel written during the late 19th century. The story explores themes of art, beauty, and morality, centering on the life of a young man named Dorian Gray, who becomes entranced by his own beauty and the hedonistic philosophies of Lord Henry Wotton. As Dorian gains fame and pleasure through his youthful looks, he grapples with the implications of vanity and the cost of immortality.  At the start of the novel, we are introduced to Lord Henry Wotton and the artist Basil Hallward, who has painted a stunning portrait of Dorian Gray. Basil is deeply enamored with Dorian\\'s beauty and harbors a secret affection for him. The opening chapters establish the dynamic between Lord Henry\\'s cynical worldview and Basil\\'s idealism, culminating in Dorian\\'s arrival in the studio. Dorian\\'s first encounter with Lord Henry sparks a transformative moment; as they converse, Dorian is exposed to Henry’s hedonistic philosophies, which shape his perception of beauty and life. The chapter sets a tone that hints at the foreboding price Dorian may pay for his fascination with youth and aesthetic pleasure. (This is an automatically generated summary.)']",
         "[]",
         "['Appearance (Philosophy) -- Fiction', 'Conduct of life -- Fiction', 'Didactic fiction', 'Great Britain -- History -- Victoria, 1837-1901 -- Fiction', 'London (England) -- History -- 1800-1950 -- Fiction', 'Paranormal fiction', 'Portraits -- Fiction', 'Supernatural -- Fiction']",
         "['Browsing: Fiction', 'Browsing: Literature', 'Browsing: Philosophy & Ethics', 'Gothic Fiction', 'Movie Books']",
         "['en']",
         "False",
         "Text",
         "{'text/html': 'https://www.gutenberg.org/ebooks/174.html.images', 'application/epub+zip': 'https://www.gutenberg.org/ebooks/174.epub3.images', 'application/x-mobipocket-ebook': 'https://www.gutenberg.org/ebooks/174.kf8.images', 'text/plain; charset=us-ascii': 'https://www.gutenberg.org/ebooks/174.txt.utf-8', 'application/rdf+xml': 'https://www.gutenberg.org/ebooks/174.rdf', 'image/jpeg': 'https://www.gutenberg.org/cache/epub/174/pg174.cover.medium.jpg', 'application/octet-stream': 'https://www.gutenberg.org/cache/epub/174/pg174-h.zip'}",
         "33948"
        ],
        [
         "18",
         "18",
         "6761",
         "The Adventures of Ferdinand Count Fathom — Complete",
         "[{'name': 'Smollett, T. (Tobias)', 'birth_year': 1721, 'death_year': 1771}]",
         "['\"The Adventures of Ferdinand Count Fathom\" by Tobias Smollett is a satirical novel written in the mid-18th century. The narrative follows the cunning and morally ambiguous character of Ferdinand Count Fathom, a man of mysterious parentage armed with an extraordinary talent for deception and manipulation. The story sets the stage for themes of vice and virtue, exploring Fathom’s escapades and schemes as he navigates a world ripe for exploitation.  The opening of the novel introduces Fathom in an unusual light—born under strange circumstances to a mother who flitted between roles in military encampments and armies. We explore the early influence of his mother, an adventurous and fierce figure whose exploits paint a picture of a wild and unrestrained environment. As Fathom grows, he exhibits a blend of charisma and villainy, drawing the attention of powerful patrons while developing ambitions of his own. With a sharp wit and an ability to adapt, he becomes both an object of admiration and contempt, preparing the reader for a complex journey through deceit, ambition, and the nature of morality. (This is an automatically generated summary.)']",
         "[]",
         "['Adventure stories', 'Gothic fiction']",
         "['Best Books Ever Listings', 'Browsing: Fiction', 'Browsing: Literature']",
         "['en']",
         "False",
         "Text",
         "{'text/html': 'https://www.gutenberg.org/ebooks/6761.html.images', 'application/epub+zip': 'https://www.gutenberg.org/ebooks/6761.epub3.images', 'application/x-mobipocket-ebook': 'https://www.gutenberg.org/ebooks/6761.kf8.images', 'text/plain; charset=us-ascii': 'https://www.gutenberg.org/ebooks/6761.txt.utf-8', 'application/rdf+xml': 'https://www.gutenberg.org/ebooks/6761.rdf', 'image/jpeg': 'https://www.gutenberg.org/cache/epub/6761/pg6761.cover.medium.jpg', 'application/octet-stream': 'https://www.gutenberg.org/files/6761/6761-0.zip'}",
         "31790"
        ],
        [
         "19",
         "19",
         "394",
         "Cranford",
         "[{'name': 'Gaskell, Elizabeth Cleghorn', 'birth_year': 1810, 'death_year': 1865}]",
         "['\"Cranford\" by Elizabeth Cleghorn Gaskell is a novel written in the mid-19th century. The story unfolds in a small English village dominated by women, where men are conspicuously absent from social life. The narrative is rich with observations about the peculiar rituals, customs, and dynamics of the tight-knit community, primarily focusing on the lives of its female inhabitants, including the amiable and kind-hearted Miss Matty and the spirited Captain Brown, who disrupts their tranquil existence.  At the start of \"Cranford,\" we are introduced to the unique social structure of the village, characterized by its predominantly female residents who manage their affairs without the presence of men, aside from the occasional visitor. The opening chapter humorously details the societal norms and the unspoken rules that govern interactions, such as visiting etiquette and the preference for economy over ostentation. Key characters like the gentle Miss Matty and the charismatic Captain Brown are introduced, hinting at a deeper exploration of human relationships and character development as the story progresses. Through the eyes of the narrator, the reader gets a glimpse into the endearing quirks and camaraderie of the Cranford community, setting the stage for the unfolding tales of friendship, love, and social commentary that define this charming novel. (This is an automatically generated summary.)']",
         "[]",
         "['England -- Fiction', 'Female friendship -- Fiction', 'Older women -- Fiction', 'Pastoral fiction', 'Sisters -- Fiction', 'Villages -- Fiction']",
         "['Browsing: Culture/Civilization/Society', 'Browsing: Fiction', 'Browsing: Literature']",
         "['en']",
         "False",
         "Text",
         "{'text/html': 'https://www.gutenberg.org/ebooks/394.html.images', 'application/epub+zip': 'https://www.gutenberg.org/ebooks/394.epub3.images', 'application/x-mobipocket-ebook': 'https://www.gutenberg.org/ebooks/394.kf8.images', 'text/plain; charset=us-ascii': 'https://www.gutenberg.org/ebooks/394.txt.utf-8', 'application/rdf+xml': 'https://www.gutenberg.org/ebooks/394.rdf', 'image/jpeg': 'https://www.gutenberg.org/cache/epub/394/pg394.cover.medium.jpg', 'application/octet-stream': 'https://www.gutenberg.org/files/394/394-0.zip'}",
         "31362"
        ],
        [
         "20",
         "20",
         "6593",
         "History of Tom Jones, a Foundling",
         "[{'name': 'Fielding, Henry', 'birth_year': 1707, 'death_year': 1754}]",
         "['\"The History of Tom Jones, A Foundling\" by Henry Fielding is a novel written in the early 18th century. The narrative revolves around the life of Tom Jones, a foundling raised by the benevolent Squire Allworthy, exploring themes of morality, love, and social class. The story is rich in characters and details, illustrating the intricacies of human nature and society’s response to vice and virtue.  At the start of the novel, Fielding introduces Squire Allworthy as a compassionate and virtuous landowner who returns home from London to discover an infant boy, Tom, wrapped in linens in his bed. This event sets the stage for Tom\\'s upbringing, as Allworthy decides to raise him as his own, despite the stigma attached to his illegitimate birth. The narrative also includes a humorous and philosophical commentary on human nature, inviting the reader to reflect on the follies and virtues of society through the interactions of characters like Allworthy, his sister Bridget, and the housekeeper Deborah. As Allworthy navigates the challenges of incorporating Tom into his life, the novel presents an exploration of how society views morality, innocence, and the social implications of being a \"bastard\" in a judgmental world. (This is an automatically generated summary.)']",
         "[]",
         "['Bildungsromans', 'England -- Fiction', 'Foundlings -- Fiction', 'Humorous stories', 'Identity (Psychology) -- Fiction', 'Young men -- Fiction']",
         "[\"Banned Books from Anne Haight's list\", 'Best Books Ever Listings', 'Browsing: Fiction', 'Browsing: Humour', 'Browsing: Literature', 'Harvard Classics', 'Movie Books']",
         "['en']",
         "False",
         "Text",
         "{'text/html': 'https://www.gutenberg.org/ebooks/6593.html.images', 'text/html; charset=utf-8': 'https://www.gutenberg.org/files/6593/6593-h/6593-h.htm', 'application/epub+zip': 'https://www.gutenberg.org/ebooks/6593.epub3.images', 'application/x-mobipocket-ebook': 'https://www.gutenberg.org/ebooks/6593.kf8.images', 'text/plain; charset=us-ascii': 'https://www.gutenberg.org/ebooks/6593.txt.utf-8', 'text/plain; charset=utf-8': 'https://www.gutenberg.org/files/6593/6593-0.txt', 'text/plain; charset=iso-8859-1': 'https://www.gutenberg.org/files/6593/6593-8.txt', 'application/rdf+xml': 'https://www.gutenberg.org/ebooks/6593.rdf', 'image/jpeg': 'https://www.gutenberg.org/cache/epub/6593/pg6593.cover.medium.jpg', 'application/octet-stream': 'https://www.gutenberg.org/cache/epub/6593/pg6593-h.zip'}",
         "30962"
        ],
        [
         "21",
         "21",
         "2554",
         "Crime and Punishment",
         "[{'name': 'Dostoyevsky, Fyodor', 'birth_year': 1821, 'death_year': 1881}]",
         "['\"Crime and Punishment\" by Fyodor Dostoyevsky is a novel written in the mid-19th century. The story delves into the psychological turmoil of its main character, Rodion Raskolnikov, a former student living in extreme poverty in St. Petersburg, as he grapples with morality, guilt, and the nature of crime. Raskolnikov\\'s internal struggles and rationalizations set the stage for a broader exploration of existential questions and the consequences of one\\'s choices.  At the start of the novel, readers are introduced to Raskolnikov, who, on a sweltering July evening, leaves his cramped garret, fueled by a mix of fear and dread. He is acutely aware of his troubled finances, particularly his debts to his landlady, which cultivate a sense of isolation and despair. As he wanders through the city\\'s pungent streets, he reflects on his own cowardice and impotence while contemplating a deeply disturbing act he is contemplating. The opening scene captures Raskolnikov\\'s increasingly fraught mental state, portraying him as both an intellectual and a tormented soul. Eventually, he visits an old pawnbroker, Alyona Ivanovna, where an unsettling encounter begins to unfold, hinting at the drastic actions he is considering. (This is an automatically generated summary.)']",
         "[{'name': 'Garnett, Constance', 'birth_year': 1861, 'death_year': 1946}]",
         "['Crime -- Psychological aspects -- Fiction', 'Detective and mystery stories', 'Murder -- Fiction', 'Psychological fiction', 'Saint Petersburg (Russia) -- Fiction']",
         "['Best Books Ever Listings', 'Browsing: Crime/Mystery', 'Browsing: Fiction', 'Browsing: Literature', 'Browsing: Psychiatry/Psychology', 'Crime Fiction', 'Harvard Classics']",
         "['en']",
         "False",
         "Text",
         "{'text/html': 'https://www.gutenberg.org/ebooks/2554.html.images', 'application/epub+zip': 'https://www.gutenberg.org/ebooks/2554.epub3.images', 'application/x-mobipocket-ebook': 'https://www.gutenberg.org/ebooks/2554.kf8.images', 'text/plain; charset=us-ascii': 'https://www.gutenberg.org/ebooks/2554.txt.utf-8', 'application/rdf+xml': 'https://www.gutenberg.org/ebooks/2554.rdf', 'image/jpeg': 'https://www.gutenberg.org/cache/epub/2554/pg2554.cover.medium.jpg', 'application/octet-stream': 'https://www.gutenberg.org/files/2554/2554-0.zip'}",
         "30716"
        ],
        [
         "22",
         "22",
         "2160",
         "The Expedition of Humphry Clinker",
         "[{'name': 'Smollett, T. (Tobias)', 'birth_year': 1721, 'death_year': 1771}]",
         "['\"The Expedition of Humphry Clinker\" by Tobias Smollett is a novel written during the mid-18th century. This humorous work explores the journey and misadventures of the Bramble family and their companions as they travel through Wales and England, providing a satirical glimpse into the social and cultural life of the time. The story is primarily told through a series of letters, offering a diverse range of perspectives from its characters, including the hypochondriac Matthew Bramble and his lively niece, Lydia Melford.  The opening of the novel introduces several key characters through a series of letters among various recipients. The narrative begins with Jonathan Dustwich, who writes to Mr. Henry Davis about his plans to publish a collection of letters, asserting the importance of their content. We also meet Matthew Bramble, who expresses his ailments and frustrations with familial responsibilities, alluding to troublesome interactions with his niece’s romantic interests. As they prepare for a trip to the Hot Well in Bristol, the Bramble family’s dynamic begins to unfold, hinting at both familial loyalty and the conflicts that arise from their contrasting personalities. Ultimately, the beginning sets the stage for a blend of comedy, social commentary, and insight into human relationships throughout their journey. (This is an automatically generated summary.)']",
         "[]",
         "['Epistolary fiction', 'Great Britain -- Fiction', 'Travelers -- Fiction']",
         "['Best Books Ever Listings', 'Browsing: Fiction', 'Browsing: History - General', 'Browsing: Literature', 'Browsing: Travel & Geography', 'Historical Fiction']",
         "['en']",
         "False",
         "Text",
         "{'text/html': 'https://www.gutenberg.org/ebooks/2160.html.images', 'application/epub+zip': 'https://www.gutenberg.org/ebooks/2160.epub3.images', 'application/x-mobipocket-ebook': 'https://www.gutenberg.org/ebooks/2160.kf8.images', 'text/plain; charset=us-ascii': 'https://www.gutenberg.org/ebooks/2160.txt.utf-8', 'application/rdf+xml': 'https://www.gutenberg.org/ebooks/2160.rdf', 'image/jpeg': 'https://www.gutenberg.org/cache/epub/2160/pg2160.cover.medium.jpg', 'application/octet-stream': 'https://www.gutenberg.org/files/2160/git_setup.log'}",
         "30659"
        ],
        [
         "23",
         "23",
         "4085",
         "The Adventures of Roderick Random",
         "[{'name': 'Smollett, T. (Tobias)', 'birth_year': 1721, 'death_year': 1771}]",
         "['\"The Adventures of Roderick Random\" by Tobias Smollett is a novel written in the early 18th century. The book follows the life and misadventures of Roderick Random, an orphan navigating a world rife with challenges, cruelty, and injustice. As he grows from a neglected child into a young man, Roderick\\'s journey is marked by both comedic elements and social satire.  At the start of the novel, Roderick Random recounts his difficult birth into a life of hardship, beginning with the aversion of his wealthy grandfather to his parents\\' union. The narrative unfolds through a vivid portrayal of Roderick\\'s childhood, where he faces animosity from his relatives and mistreatment at school. Despite his hardships, Roderick displays resilience and cunning, emboldened by friendships with fellow outcasts. He breaks free from his grim circumstances upon moving to a new setting, where an encounter with his uncle leads him to a supportive environment, setting the stage for his future adventures. Throughout this opening, readers are introduced to a world filled with humor, familial conflict, and early struggles as Roderick seeks a better existence amid adversity. (This is an automatically generated summary.)']",
         "[]",
         "['England -- Fiction', 'Impressment -- Fiction', 'Picaresque literature', 'Rogues and vagabonds -- Fiction', 'Sailors -- Fiction', 'Scots -- England -- Fiction', 'Sea stories', 'Warships -- Fiction']",
         "['Best Books Ever Listings', 'Browsing: Culture/Civilization/Society', 'Browsing: Fiction', 'Browsing: History - General', 'Browsing: Literature', 'Historical Fiction']",
         "['en']",
         "False",
         "Text",
         "{'text/html': 'https://www.gutenberg.org/ebooks/4085.html.images', 'application/epub+zip': 'https://www.gutenberg.org/ebooks/4085.epub3.images', 'application/x-mobipocket-ebook': 'https://www.gutenberg.org/ebooks/4085.kf8.images', 'text/plain; charset=us-ascii': 'https://www.gutenberg.org/ebooks/4085.txt.utf-8', 'application/rdf+xml': 'https://www.gutenberg.org/ebooks/4085.rdf', 'image/jpeg': 'https://www.gutenberg.org/cache/epub/4085/pg4085.cover.medium.jpg', 'application/octet-stream': 'https://www.gutenberg.org/files/4085/4085-0.zip'}",
         "30484"
        ],
        [
         "24",
         "24",
         "345",
         "Dracula",
         "[{'name': 'Stoker, Bram', 'birth_year': 1847, 'death_year': 1912}]",
         "['\"Dracula\" by Bram Stoker is a Gothic horror novel written in the late 19th century. The story unfolds through a series of letters, journal entries, and newspaper clippings, primarily following the experiences of Jonathan Harker, a young English solicitor. Harker’s journey takes him to Transylvania, where he encounters the enigmatic Count Dracula, setting a thrilling and mysterious tone that delves into themes of fear, seduction, and the supernatural.  The opening of the novel presents Jonathan Harker’s journal entries, marking the beginning of his travels to meet Count Dracula regarding a real estate transaction. Harker describes his train journey through the picturesque landscapes of eastern Europe, highlighting the eerie atmosphere and local superstitions that hint at the challenges he will face. Upon arriving at the Count\\'s castle, Harker senses unease, especially when local villagers express concern and give him protective charms against evil spirits. The tension escalates as Harker meets Dracula, who, while courteous, exhibits strange and unsettling behavior. Kafkaesque and claustrophobic, the initial chapters effectively set the stage for Harker’s realization that he is trapped in Dracula’s world, creating an eerie, suspenseful foundation for the unfolding narrative. (This is an automatically generated summary.)']",
         "[]",
         "['Dracula, Count (Fictitious character) -- Fiction', 'Epistolary fiction', 'Gothic fiction', 'Horror tales', 'Transylvania (Romania) -- Fiction', 'Vampires -- Fiction', 'Whitby (England) -- Fiction']",
         "['Browsing: Fiction', 'Browsing: Literature', 'Browsing: Science-Fiction & Fantasy', 'Gothic Fiction', 'Horror', 'Movie Books', 'Mystery Fiction']",
         "['en']",
         "False",
         "Text",
         "{'text/html': 'https://www.gutenberg.org/ebooks/345.html.images', 'application/epub+zip': 'https://www.gutenberg.org/ebooks/345.epub3.images', 'application/x-mobipocket-ebook': 'https://www.gutenberg.org/ebooks/345.kf8.images', 'text/plain; charset=us-ascii': 'https://www.gutenberg.org/ebooks/345.txt.utf-8', 'application/rdf+xml': 'https://www.gutenberg.org/ebooks/345.rdf', 'image/jpeg': 'https://www.gutenberg.org/cache/epub/345/pg345.cover.medium.jpg', 'application/octet-stream': 'https://www.gutenberg.org/cache/epub/345/pg345-h.zip'}",
         "30184"
        ],
        [
         "25",
         "25",
         "1259",
         "Twenty years after",
         "[{'name': 'Dumas, Alexandre', 'birth_year': 1802, 'death_year': 1870}, {'name': 'Maquet, Auguste', 'birth_year': 1813, 'death_year': 1888}]",
         "['\"Twenty Years After\" by Alexandre Dumas and Auguste Maquet is a historical novel written in the mid-19th century. It serves as the sequel to \"The Three Musketeers\" and continues the adventurous saga of D\\'Artagnan and his friends—Athos, Porthos, and Aramis. This installment delves into their lives twenty years after the original tale, exploring themes of friendship, loyalty, and political intrigue against the backdrop of a tumultuous France.  At the start of \"Twenty Years After,\" the reader is introduced to the political discontent in France following the death of Cardinal Richelieu. Cardinal Mazarin, his successor, finds himself in troubling times marked by public outrage against the government. The opening scene is set in the Palais Royal where Mazarin contemplates his precarious position amidst rising unrest. We witness D’Artagnan, now older but no less courageous, as he prepares to navigate this new political landscape. The narrative unveils immediate tensions as D’Artagnan is called to assist Mazarin, and we see hints of past friendships and alliances which will come into play as tensions rise. This opening part lays the groundwork for an epic blend of action, political maneuvering, and the enduring camaraderie of the central characters. (This is an automatically generated summary.)']",
         "[]",
         "['France -- History -- Louis XIV, 1643-1715 -- Fiction']",
         "['Adventure', 'Browsing: Culture/Civilization/Society', 'Browsing: Fiction', 'Browsing: History - General', 'Browsing: Literature', 'Historical Fiction', 'Movie Books']",
         "['en']",
         "False",
         "Text",
         "{'text/html': 'https://www.gutenberg.org/ebooks/1259.html.images', 'application/epub+zip': 'https://www.gutenberg.org/ebooks/1259.epub3.images', 'application/x-mobipocket-ebook': 'https://www.gutenberg.org/ebooks/1259.kf8.images', 'text/plain; charset=us-ascii': 'https://www.gutenberg.org/ebooks/1259.txt.utf-8', 'application/rdf+xml': 'https://www.gutenberg.org/ebooks/1259.rdf', 'image/jpeg': 'https://www.gutenberg.org/cache/epub/1259/pg1259.cover.medium.jpg', 'application/octet-stream': 'https://www.gutenberg.org/cache/epub/1259/pg1259-h.zip'}",
         "30152"
        ],
        [
         "26",
         "26",
         "5197",
         "My Life — Volume 1",
         "[{'name': 'Wagner, Richard', 'birth_year': 1813, 'death_year': 1883}]",
         "['\"My Life — Volume 1\" by Richard Wagner is an autobiographical work written in the mid-19th century. This volume details the early years and formative experiences of the famed composer, from his childhood in Leipzig to his early professional endeavors around 1842. The book reflects on Wagner\\'s family background, his introduction to music, and the influences that shaped his artistic journey.  The opening of this autobiographical account begins with Wagner’s birth and the immediate aftermath of his father\\'s death, which left his family in difficult circumstances. He describes his stepfather\\'s pivotal role in his upbringing and education, as well as the vibrant cultural environment he was immersed in, including his early encounters with the theatre and music. Throughout the narrative, Wagner recounts his childhood memories, the struggles with education, and the blossoming of his musical talent, which ultimately sets the stage for his future career as a composer. The reader is drawn into the emotions and aspirations of a young artist at the brink of discovering his calling, with significant events, relationships, and sentiments foreshadowing the remarkable life he would lead. (This is an automatically generated summary.)']",
         "[]",
         "['Composers -- Germany -- Biography', 'Wagner, Richard, 1813-1883']",
         "['Browsing: Biographies', 'Browsing: Music']",
         "['en']",
         "False",
         "Text",
         "{'text/html': 'https://www.gutenberg.org/ebooks/5197.html.images', 'application/epub+zip': 'https://www.gutenberg.org/ebooks/5197.epub3.images', 'application/x-mobipocket-ebook': 'https://www.gutenberg.org/ebooks/5197.kf8.images', 'text/plain; charset=us-ascii': 'https://www.gutenberg.org/ebooks/5197.txt.utf-8', 'application/rdf+xml': 'https://www.gutenberg.org/ebooks/5197.rdf', 'image/jpeg': 'https://www.gutenberg.org/cache/epub/5197/pg5197.cover.medium.jpg', 'application/octet-stream': 'https://www.gutenberg.org/files/5197/5197-0.zip'}",
         "29617"
        ],
        [
         "27",
         "27",
         "98",
         "A Tale of Two Cities",
         "[{'name': 'Dickens, Charles', 'birth_year': 1812, 'death_year': 1870}]",
         "['\"A Tale of Two Cities\" by Charles Dickens is a historical novel written in the mid-19th century. Set against the backdrop of the French Revolution, the story opens with an exploration of the social and political turmoil of the time, introducing key themes such as resurrection, sacrifice, and the dichotomy between oppression and liberty. The narrative begins with the character Mr. Jarvis Lorry\\'s journey, who is on a mission to retrieve Dr. Alexandre Manette, an imprisoned former physician, who has been \"recalled to life\" after years of suffering.  The opening of the novel vividly depicts the contrasting conditions in England and France, emphasizing the hardships faced by common people. A detailed scene unfolds as Mr. Lorry, traveling on a Dover mail coach, encounters a mysterious messenger who brings him a message related to Dr. Manette. As Mr. Lorry arrives in Paris, we sense ominous undertones of the Revolution as Madame Defarge’s wine shop symbolizes the brewing discontent. The narrative hints at the challenges ahead as characters intertwine in a story of personal and political upheaval, setting the stage for the unfolding drama that explores the quest for justice in the face of tyranny. (This is an automatically generated summary.)']",
         "[]",
         "['British -- France -- Paris -- Fiction', 'Executions and executioners -- Fiction', 'France -- History -- Revolution, 1789-1799 -- Fiction', 'French -- England -- London -- Fiction', 'Historical fiction', 'London (England) -- History -- 18th century -- Fiction', 'Lookalikes -- Fiction', 'Paris (France) -- History -- 1789-1799 -- Fiction', 'War stories']",
         "['Browsing: Fiction', 'Browsing: History - British', 'Browsing: History - European', 'Browsing: History - General', 'Browsing: Literature', 'Historical Fiction']",
         "['en']",
         "False",
         "Text",
         "{'text/html': 'https://www.gutenberg.org/ebooks/98.html.images', 'text/html; charset=utf-8': 'https://www.gutenberg.org/files/98/98-h/98-h.htm', 'application/epub+zip': 'https://www.gutenberg.org/ebooks/98.epub3.images', 'application/x-mobipocket-ebook': 'https://www.gutenberg.org/ebooks/98.kf8.images', 'text/plain; charset=us-ascii': 'https://www.gutenberg.org/ebooks/98.txt.utf-8', 'text/plain; charset=utf-8': 'https://www.gutenberg.org/files/98/98-0.txt', 'application/rdf+xml': 'https://www.gutenberg.org/ebooks/98.rdf', 'image/jpeg': 'https://www.gutenberg.org/cache/epub/98/pg98.cover.medium.jpg', 'application/octet-stream': 'https://www.gutenberg.org/cache/epub/98/pg98-h.zip'}",
         "26383"
        ],
        [
         "28",
         "28",
         "1260",
         "Jane Eyre: An Autobiography",
         "[{'name': 'Brontë, Charlotte', 'birth_year': 1816, 'death_year': 1855}]",
         "['\"Jane Eyre: An Autobiography\" by Charlotte Brontë is a novel written in the early 19th century, specifically during the Victorian era. The story centers around Jane Eyre, an orphaned girl who faces hardship and oppression while growing up in the unkind household of her aunt, Mrs. Reed. The narrative unfolds her struggles against social class constraints and personal adversities as she searches for love, belonging, and independence.  The opening of the novel introduces us to Jane Eyre\\'s bleak existence at Gateshead Hall, where she lives with her aunt and cousins. As a child, Jane is mistreated by her relatives, particularly her cousin John Reed, who bullies her relentlessly. Following a confrontation with John, Jane is punished by being locked in the \"red-room,\" a place associated with fear and isolation, which deepens her feelings of alienation and resentment. This initial section sets the tone for Jane\\'s journey as it highlights her passionate spirit and desire for justice, laying the groundwork for her development and the challenges she will face in her quest for a place where she truly belongs. (This is an automatically generated summary.)']",
         "[]",
         "['Bildungsromans', 'Charity-schools -- Fiction', 'Country homes -- Fiction', 'England -- Fiction', 'Fathers and daughters -- Fiction', 'Governesses -- Fiction', 'Love stories', 'Married people -- Fiction', 'Mentally ill women -- Fiction', 'Orphans -- Fiction', 'Young women -- Fiction']",
         "['Browsing: Culture/Civilization/Society', 'Browsing: Fiction', 'Browsing: Literature']",
         "['en']",
         "False",
         "Text",
         "{'text/html': 'https://www.gutenberg.org/ebooks/1260.html.images', 'application/epub+zip': 'https://www.gutenberg.org/ebooks/1260.epub3.images', 'application/x-mobipocket-ebook': 'https://www.gutenberg.org/ebooks/1260.kf8.images', 'text/plain; charset=us-ascii': 'https://www.gutenberg.org/ebooks/1260.txt.utf-8', 'application/rdf+xml': 'https://www.gutenberg.org/ebooks/1260.rdf', 'image/jpeg': 'https://www.gutenberg.org/cache/epub/1260/pg1260.cover.medium.jpg', 'application/octet-stream': 'https://www.gutenberg.org/cache/epub/1260/pg1260-h.zip'}",
         "24301"
        ],
        [
         "29",
         "29",
         "1998",
         "Thus Spake Zarathustra: A Book for All and None",
         "[{'name': 'Nietzsche, Friedrich Wilhelm', 'birth_year': 1844, 'death_year': 1900}]",
         "['\"Thus Spake Zarathustra: A Book for All and None\" by Friedrich Wilhelm Nietzsche is a philosophical treatise written in the late 19th century. The book follows Zarathustra, a prophet-like figure, as he descends from his mountain solitude to share his transformative ideas about humanity and existence. Nietzsche explores themes such as the Übermensch (Superman), the will to power, and the rejection of traditional moral values.  At the start of the book, Zarathustra, having spent ten years in solitude, resolves to bestow his wisdom upon humanity. He expresses his weariness and desire to share his insight with people, likening himself to the sun that gives light to the world. His initial interactions, however, reveal a disconnect between him and the people he wishes to enlighten. Zarathustra encounters an old saint who advises him against sharing his gifts with mankind, suggesting that people are wary of those who presume to offer wisdom. This sets the stage for Zarathustra’s struggle to articulate his vision of the Superman and confront the prevailing values of society as he navigates the misunderstandings and skepticism of those he aims to inspire. (This is an automatically generated summary.)']",
         "[{'name': 'Common, Thomas', 'birth_year': 1850, 'death_year': 1919}]",
         "['Philosophy, German', 'Superman (Philosophical concept)']",
         "['Browsing: Philosophy & Ethics', 'Browsing: Psychiatry/Psychology', 'Browsing: Religion/Spirituality/Paranormal', 'Philosophy']",
         "['en']",
         "False",
         "Text",
         "{'text/html': 'https://www.gutenberg.org/ebooks/1998.html.images', 'application/epub+zip': 'https://www.gutenberg.org/ebooks/1998.epub3.images', 'application/x-mobipocket-ebook': 'https://www.gutenberg.org/ebooks/1998.kf8.images', 'text/plain; charset=us-ascii': 'https://www.gutenberg.org/ebooks/1998.txt.utf-8', 'application/rdf+xml': 'https://www.gutenberg.org/ebooks/1998.rdf', 'image/jpeg': 'https://www.gutenberg.org/cache/epub/1998/pg1998.cover.medium.jpg', 'application/octet-stream': 'https://www.gutenberg.org/files/1998/1998-0.zip'}",
         "23968"
        ],
        [
         "30",
         "30",
         "5200",
         "Metamorphosis",
         "[{'name': 'Kafka, Franz', 'birth_year': 1883, 'death_year': 1924}]",
         "['\"Metamorphosis\" by Franz Kafka is a novella written during the late 19th century. The book explores themes of alienation and identity through the strange and tragic transformation of its main character, Gregor Samsa, who wakes up one morning to find himself turned into a grotesque insect. The story grapples with Gregor\\'s struggle to adapt to his new physical form and its implications for his family, shedding light on societal expectations and familial responsibilities.  The opening of \"Metamorphosis\" presents an unsettling scene as Gregor Samsa discovers his shocking metamorphosis. Initially confused and in discomfort, he reflects on his life as a travelling salesman and the burdens of his job, all while grappling with the absurdity of his situation. As he struggles to get out of bed, the concern of his family begins to stir. His mother knocks on his door, anxious about his tardiness for work, and this prompts a cascade of worry for Gregor about how his family will react to his transformation. Despite his efforts to communicate and reassure them, the fear and misunderstanding stemming from his condition quickly become apparent. This launch into the bizarre and tragic sets the tone for the exploration of alienation and familial dynamics that unfolds throughout the novella. (This is an automatically generated summary.)']",
         "[{'name': 'Wyllie, David (Translator)', 'birth_year': None, 'death_year': None}]",
         "['Metamorphosis -- Fiction', 'Psychological fiction']",
         "['Browsing: Fiction', 'Browsing: Literature', 'Browsing: Psychiatry/Psychology', 'Horror']",
         "['en']",
         "True",
         "Text",
         "{'text/html': 'https://www.gutenberg.org/ebooks/5200.html.images', 'text/html; charset=iso-8859-1': 'https://www.gutenberg.org/files/5200/5200-h/5200-h.htm', 'application/epub+zip': 'https://www.gutenberg.org/ebooks/5200.epub3.images', 'application/x-mobipocket-ebook': 'https://www.gutenberg.org/ebooks/5200.kf8.images', 'text/plain; charset=us-ascii': 'https://www.gutenberg.org/ebooks/5200.txt.utf-8', 'text/plain; charset=utf-8': 'https://www.gutenberg.org/files/5200/5200-0.txt', 'application/rdf+xml': 'https://www.gutenberg.org/ebooks/5200.rdf', 'image/jpeg': 'https://www.gutenberg.org/cache/epub/5200/pg5200.cover.medium.jpg', 'application/octet-stream': 'https://www.gutenberg.org/cache/epub/5200/pg5200-h.zip'}",
         "23566"
        ],
        [
         "31",
         "31",
         "1400",
         "Great Expectations",
         "[{'name': 'Dickens, Charles', 'birth_year': 1812, 'death_year': 1870}]",
         "['\"Great Expectations\" by Charles Dickens is a novel written in the mid-19th century (Victorian era). The story follows the life of a young orphan named Philip \"Pip\" Pirrip as he navigates social classes, personal aspirations, and the complexities of human relationships. The narrative begins with Pip\\'s fateful encounter with an escaped convict, setting the stage for themes of ambition, morality, and transformation.  The opening of the novel introduces Pip as he wanders through a churchyard, reflecting on his family history derived from tombstones. His innocent musings are interrupted by a terrifying confrontation with a convict who demands food and a file, instilling fear in Pip. As Pip grapples with the fear of being discovered stealing food for the convict and the horror of his surroundings, we are drawn into the bleak marshes that shape much of his childhood. This intense encounter not only establishes a sense of danger but also foreshadows Pip\\'s future entanglements with crime and class disparity, as he later must navigate his relationships with figures from both the convict\\'s world and his own lower-class upbringing. (This is an automatically generated summary.)']",
         "[]",
         "['Benefactors -- Fiction', 'Bildungsromans', 'England -- Fiction', 'Ex-convicts -- Fiction', 'Man-woman relationships -- Fiction', 'Orphans -- Fiction', 'Revenge -- Fiction', 'Young men -- Fiction']",
         "['Best Books Ever Listings', 'Browsing: Fiction', 'Browsing: Literature']",
         "['en']",
         "False",
         "Text",
         "{'text/html': 'https://www.gutenberg.org/ebooks/1400.html.images', 'application/epub+zip': 'https://www.gutenberg.org/ebooks/1400.epub3.images', 'application/x-mobipocket-ebook': 'https://www.gutenberg.org/ebooks/1400.kf8.images', 'text/plain; charset=us-ascii': 'https://www.gutenberg.org/ebooks/1400.txt.utf-8', 'application/rdf+xml': 'https://www.gutenberg.org/ebooks/1400.rdf', 'image/jpeg': 'https://www.gutenberg.org/cache/epub/1400/pg1400.cover.medium.jpg', 'application/octet-stream': 'https://www.gutenberg.org/cache/epub/1400/pg1400-h.zip'}",
         "23190"
        ],
        [
         "32",
         "0",
         "76",
         "Adventures of Huckleberry Finn",
         "[{'name': 'Twain, Mark', 'birth_year': 1835, 'death_year': 1910}]",
         "['\"Adventures of Huckleberry Finn\" by Mark Twain is a novel likely written in the late 19th century. The book explores the adventures of a young boy named Huckleberry Finn as he grapples with themes of freedom, morality, and societal expectations against the backdrop of the pre-Civil War American South. The narrative takes place as Huck escapes his restrictive life and embarks on a journey down the Mississippi River, where he encounters various characters that challenge his understanding of right and wrong.  The opening of the book introduces Huck Finn, the protagonist, reflecting on his life before the events of the story, specifically referencing his previous adventures with Tom Sawyer. Huck describes his uncomfortable life with the Widow Douglas, who is trying to civilize him, and informs the reader about his father\\'s abusive behavior and his desire to escape. The groundwork is laid for his quest for freedom and individuality, as he is soon joined by Jim, a runaway slave, hinting at the deeper moral complexities that will unfold throughout their journey. The tone is light-hearted yet critical, establishing Huck\\'s voice and his perspective on the absurdities of societal norms. (This is an automatically generated summary.)']",
         "[]",
         "['Adventure stories', 'Bildungsromans', 'Boys -- Fiction', 'Finn, Huckleberry (Fictitious character) -- Fiction', 'Fugitive slaves -- Fiction', 'Humorous stories', 'Male friendship -- Fiction', 'Mississippi River -- Fiction', 'Missouri -- Fiction', 'Race relations -- Fiction', 'Runaway children -- Fiction']",
         "['Banned Books List from the American Library Association', \"Banned Books from Anne Haight's list\", 'Best Books Ever Listings', 'Browsing: Culture/Civilization/Society', 'Browsing: Fiction', 'Browsing: Humour', 'Browsing: Literature']",
         "['en']",
         "False",
         "Text",
         "{'text/html': 'https://www.gutenberg.org/ebooks/76.html.images', 'application/epub+zip': 'https://www.gutenberg.org/ebooks/76.epub3.images', 'application/x-mobipocket-ebook': 'https://www.gutenberg.org/ebooks/76.kf8.images', 'text/plain; charset=us-ascii': 'https://www.gutenberg.org/ebooks/76.txt.utf-8', 'application/rdf+xml': 'https://www.gutenberg.org/ebooks/76.rdf', 'image/jpeg': 'https://www.gutenberg.org/cache/epub/76/pg76.cover.medium.jpg', 'application/octet-stream': 'https://www.gutenberg.org/cache/epub/76/pg76-h.zip'}",
         "22465"
        ],
        [
         "33",
         "1",
         "28054",
         "The Brothers Karamazov",
         "[{'name': 'Dostoyevsky, Fyodor', 'birth_year': 1821, 'death_year': 1881}]",
         "['\"The Brothers Karamazov\" by Fyodor Dostoyevsky is a profound novel written in the late 19th century. It explores the complex dynamics of the Karamazov family, particularly focusing on the turbulent relationships among the three brothers—Dmitri, Ivan, and Alyosha—and their morally questionable father, Fyodor Pavlovitch. The themes of faith, free will, and the nature of evil are central to the narrative, drawing readers into a deeply philosophical and psychological exploration of human behavior.  At the start of the novel, we are introduced to Fyodor Pavlovitch Karamazov, a neglectful and irresponsible father whose life is marked by debauchery and self-indulgence. The narrative begins to outline the backgrounds of his three sons: Dmitri, who yearns for paternal approval but struggles with his own passions; Ivan, the intellectual grappling with faith and doubt; and Alyosha, the spiritual seeker seeking solace in monastic life. As the familial tensions set the stage for conflict, we witness the stark contrasts in their characters, philosophies, and aspirations, all foreshadowing the dramatic events that will unfold in their lives and the existential questions that they will confront. (This is an automatically generated summary.)']",
         "[{'name': 'Garnett, Constance', 'birth_year': 1861, 'death_year': 1946}]",
         "['Brothers -- Fiction', 'Didactic fiction', 'Fathers and sons -- Fiction', 'Russia -- Social life and customs -- 1533-1917 -- Fiction']",
         "['Best Books Ever Listings', 'Browsing: Culture/Civilization/Society', 'Browsing: Fiction', 'Browsing: Literature']",
         "['en']",
         "False",
         "Text",
         "{'text/html': 'https://www.gutenberg.org/ebooks/28054.html.images', 'application/epub+zip': 'https://www.gutenberg.org/ebooks/28054.epub3.images', 'application/x-mobipocket-ebook': 'https://www.gutenberg.org/ebooks/28054.kf8.images', 'text/plain; charset=us-ascii': 'https://www.gutenberg.org/ebooks/28054.txt.utf-8', 'application/rdf+xml': 'https://www.gutenberg.org/ebooks/28054.rdf', 'image/jpeg': 'https://www.gutenberg.org/cache/epub/28054/pg28054.cover.medium.jpg', 'application/octet-stream': 'https://www.gutenberg.org/files/28054/28054-0.zip'}",
         "21131"
        ],
        [
         "34",
         "2",
         "25344",
         "The Scarlet Letter",
         "[{'name': 'Hawthorne, Nathaniel', 'birth_year': 1804, 'death_year': 1864}]",
         "['\"The Scarlet Letter\" by Nathaniel Hawthorne is a classic novel written in the mid-19th century. The book delves into themes of sin, guilt, and redemption, primarily exploring the life of Hester Prynne, a woman shunned by her Puritan community after bearing an illegitimate child. Through her experiences and struggles, the narrative examines the societal and personal ramifications of moral transgressions.  At the start of the novel, the author introduces the setting, a dilapidated jail in colonial Boston, where a crowd has gathered to witness the punishment of Hester Prynne. The scene conveys a deep sense of Puritanical severity, showing the townspeople\\'s intense scrutiny over Hester, who stands accused of adultery. Hawthorne sets a somber tone as he describes the prison and its surroundings, including a wild rosebush that offers a stark contrast to the grimness of the prison, symbolizing hope and compassion amidst human frailty. (This is an automatically generated summary.)']",
         "[]",
         "['Adultery -- Fiction', 'Boston (Mass.) -- History -- Colonial period, ca. 1600-1775 -- Fiction', 'Clergy -- Fiction', 'Historical fiction', 'Illegitimate children -- Fiction', 'Married women -- Fiction', 'Psychological fiction', 'Puritans -- Fiction', 'Revenge -- Fiction', 'Triangles (Interpersonal relations) -- Fiction', 'Women immigrants -- Fiction']",
         "[\"Banned Books from Anne Haight's list\", 'Browsing: Culture/Civilization/Society', 'Browsing: Fiction', 'Browsing: History - American', 'Browsing: Literature']",
         "['en']",
         "False",
         "Text",
         "{'text/html': 'https://www.gutenberg.org/ebooks/25344.html.images', 'application/epub+zip': 'https://www.gutenberg.org/ebooks/25344.epub3.images', 'application/x-mobipocket-ebook': 'https://www.gutenberg.org/ebooks/25344.kf8.images', 'text/plain; charset=us-ascii': 'https://www.gutenberg.org/ebooks/25344.txt.utf-8', 'application/rdf+xml': 'https://www.gutenberg.org/ebooks/25344.rdf', 'image/jpeg': 'https://www.gutenberg.org/cache/epub/25344/pg25344.cover.medium.jpg', 'application/octet-stream': 'https://www.gutenberg.org/files/25344/25344-0.zip'}",
         "20792"
        ],
        [
         "35",
         "3",
         "1080",
         "A Modest Proposal: For preventing the children of poor people in Ireland, from being a burden on their parents or country, and for making them beneficial to the publick",
         "[{'name': 'Swift, Jonathan', 'birth_year': 1667, 'death_year': 1745}]",
         "['\"A Modest Proposal\" by Jonathan Swift is a satirical essay written in the early 18th century. This work is a classic example of political satire and addresses the dire circumstances faced by the poor in Ireland during that period. The essay presents a shocking and extreme solution to poverty and overpopulation, proposing that impoverished Irish families sell their children as food to the wealthy.  In this ironic treatise, Swift employs a calm and logical tone to suggest that the solution to the plight of poor Irish mothers and their numerous children lies in the consumption of infants. He meticulously calculates the benefits of his proposal, including the economic advantages for families and the reduction of poverty. The essay critiques the British government’s neglect of the Irish population and the dehumanizing effects of colonialism, illustrating the absurdity of the social and economic conditions that lead to such a monstrous idea. Through this startling argument, Swift encourages readers to reflect on the inhumane treatment of the lower classes and the moral responsibilities of society. (This is an automatically generated summary.)']",
         "[]",
         "['Ireland -- Politics and government -- 18th century -- Humor', 'Political satire, English', 'Religious satire, English']",
         "['Browsing: Humour', 'Browsing: Literature', 'Browsing: Politics']",
         "['en']",
         "False",
         "Text",
         "{'text/html': 'https://www.gutenberg.org/ebooks/1080.html.images', 'text/html; charset=utf-8': 'https://www.gutenberg.org/files/1080/1080-h/1080-h.htm', 'application/epub+zip': 'https://www.gutenberg.org/ebooks/1080.epub3.images', 'application/x-mobipocket-ebook': 'https://www.gutenberg.org/ebooks/1080.kf8.images', 'text/plain; charset=us-ascii': 'https://www.gutenberg.org/ebooks/1080.txt.utf-8', 'text/plain; charset=utf-8': 'https://www.gutenberg.org/files/1080/1080-0.txt', 'application/rdf+xml': 'https://www.gutenberg.org/ebooks/1080.rdf', 'image/jpeg': 'https://www.gutenberg.org/cache/epub/1080/pg1080.cover.medium.jpg', 'application/octet-stream': 'https://www.gutenberg.org/cache/epub/1080/pg1080-h.zip'}",
         "20742"
        ],
        [
         "36",
         "4",
         "1232",
         "The Prince",
         "[{'name': 'Machiavelli, Niccolò', 'birth_year': 1469, 'death_year': 1527}]",
         "['\"The Prince\" by Niccolò Machiavelli is a political treatise written during the early 16th century. This influential work explores the nature of power and governance, offering pragmatic advice to rulers on how to maintain control of their principalities. Machiavelli addresses various types of principalities, their acquisition, and the methods necessary for governing them effectively, inviting readers to navigate the complexities of political leadership with a sense of realism.  At the start of \"The Prince,\" Machiavelli introduces the concept of principalities, categorizing them into hereditary and new, and discusses the varied challenges each type presents. He reflects on historical examples to illustrate his points, asserting that new rulers often face difficulties in gaining the loyalty of their subjects. Moreover, he emphasizes the necessity for rulers to understand the importance of adapting their governance strategies based on the specific nature of their states and the expectations of their citizens. This opening sets the stage for the detailed analysis and practical strategies that will follow throughout the work, establishing a foundation for Machiavelli’s reputation as one of the founders of modern political science. (This is an automatically generated summary.)']",
         "[{'name': 'Marriott, W. K. (William Kenaz)', 'birth_year': None, 'death_year': 1927}]",
         "['Political ethics -- Early works to 1800', 'Political science -- Philosophy -- Early works to 1800', 'State, The -- Early works to 1800']",
         "[\"Banned Books from Anne Haight's list\", 'Browsing: History - General', 'Browsing: Philosophy & Ethics', 'Browsing: Politics', 'Harvard Classics', 'Philosophy', 'Politics']",
         "['en']",
         "False",
         "Text",
         "{'text/html': 'https://www.gutenberg.org/ebooks/1232.html.images', 'application/epub+zip': 'https://www.gutenberg.org/ebooks/1232.epub3.images', 'application/x-mobipocket-ebook': 'https://www.gutenberg.org/ebooks/1232.kf8.images', 'text/plain; charset=us-ascii': 'https://www.gutenberg.org/ebooks/1232.txt.utf-8', 'application/rdf+xml': 'https://www.gutenberg.org/ebooks/1232.rdf', 'image/jpeg': 'https://www.gutenberg.org/cache/epub/1232/pg1232.cover.medium.jpg', 'application/octet-stream': 'https://www.gutenberg.org/cache/epub/1232/pg1232-h.zip'}",
         "20587"
        ],
        [
         "37",
         "5",
         "1661",
         "The Adventures of Sherlock Holmes",
         "[{'name': 'Doyle, Arthur Conan', 'birth_year': 1859, 'death_year': 1930}]",
         "['\"The Adventures of Sherlock Holmes\" by Arthur Conan Doyle is a collection of detective stories written during the late 19th century. The book introduces the legendary detective Sherlock Holmes and his loyal companion, Dr. John Watson, as they embark on various intriguing cases, filled with mystery and clever deductions.  The opening of the book presents \"A Scandal in Bohemia,\" where Dr. Watson reflects on his relationship with Holmes and hints at the detective\\'s infatuation with Irene Adler, a woman of great significance in his past. In this initial chapter, a royal client, who is later revealed to be the King of Bohemia, seeks Holmes\\'s help to retrieve a compromising photograph involving Adler before his impending marriage. Watson observes Holmes\\'s deductive abilities as Holmes analyzes a mysterious note from the king and receives visitors of significant stature, foreshadowing the adventure ahead. This introduction sets the stage for a thrilling narrative filled with twists and an exploration of Holmes\\'s character, particularly in relation to women and the complexities of human emotions. (This is an automatically generated summary.)']",
         "[]",
         "['Detective and mystery stories, English', 'Holmes, Sherlock (Fictitious character) -- Fiction', 'Private investigators -- England -- Fiction']",
         "[\"Banned Books from Anne Haight's list\", 'Browsing: Crime/Mystery', 'Browsing: Fiction', 'Browsing: Literature', 'Contemporary Reviews', 'Detective Fiction']",
         "['en']",
         "False",
         "Text",
         "{'text/html': 'https://www.gutenberg.org/ebooks/1661.html.images', 'application/epub+zip': 'https://www.gutenberg.org/ebooks/1661.epub3.images', 'application/x-mobipocket-ebook': 'https://www.gutenberg.org/ebooks/1661.kf8.images', 'text/plain; charset=us-ascii': 'https://www.gutenberg.org/ebooks/1661.txt.utf-8', 'application/rdf+xml': 'https://www.gutenberg.org/ebooks/1661.rdf', 'image/jpeg': 'https://www.gutenberg.org/cache/epub/1661/pg1661.cover.medium.jpg', 'application/octet-stream': 'https://www.gutenberg.org/cache/epub/1661/pg1661-h.zip'}",
         "20565"
        ],
        [
         "38",
         "6",
         "4300",
         "Ulysses",
         "[{'name': 'Joyce, James', 'birth_year': 1882, 'death_year': 1941}]",
         "['\"Ulysses\" by James Joyce is a modernist novel written in the early 20th century. This influential work takes place in Dublin and chronicles the experiences of its central characters, primarily Leopold Bloom, as well as Stephen Dedalus and Molly Bloom, over the course of a single day, June 16, 1904. The story engages with themes of identity, daily life, and the complexity of human thought, often intertwining the mundane with profound introspection.  The beginning of \"Ulysses\" introduces readers to Buck Mulligan and Stephen Dedalus at a Martello tower overlooking Dublin Bay. Buck Mulligan, a lively and somewhat boisterous character, prepares for the day with an unrefined but humorous manner, invoking religious imagery as he shaves. Stephen, in contrast, is depicted as introspective and burdened by memories of his deceased mother, reflecting on grief and guilt while navigating his relationship with Mulligan. The opening sets the tone for the intricate explorations of character dynamics and the dense, stream-of-consciousness narrative style that Joyce employs throughout the novel. (This is an automatically generated summary.)']",
         "[]",
         "['Alienation (Social psychology) -- Fiction', 'Artists -- Fiction', 'City and town life -- Fiction', 'Domestic fiction', 'Dublin (Ireland) -- Fiction', 'Epic literature', 'Jewish men -- Fiction', 'Male friendship -- Fiction', 'Married people -- Fiction', 'Psychological fiction']",
         "['Banned Books List from the American Library Association', \"Banned Books from Anne Haight's list\", 'Best Books Ever Listings', 'Browsing: Culture/Civilization/Society', 'Browsing: Fiction', 'Browsing: Literature', 'Erotic Fiction']",
         "['en']",
         "False",
         "Text",
         "{'text/html': 'https://www.gutenberg.org/ebooks/4300.html.images', 'application/epub+zip': 'https://www.gutenberg.org/ebooks/4300.epub3.images', 'application/x-mobipocket-ebook': 'https://www.gutenberg.org/ebooks/4300.kf8.images', 'text/plain; charset=us-ascii': 'https://www.gutenberg.org/ebooks/4300.txt.utf-8', 'application/rdf+xml': 'https://www.gutenberg.org/ebooks/4300.rdf', 'image/jpeg': 'https://www.gutenberg.org/cache/epub/4300/pg4300.cover.medium.jpg', 'application/octet-stream': 'https://www.gutenberg.org/cache/epub/4300/pg4300-h.zip'}",
         "20390"
        ],
        [
         "39",
         "7",
         "41445",
         "Frankenstein; Or, The Modern Prometheus",
         "[{'name': 'Shelley, Mary Wollstonecraft', 'birth_year': 1797, 'death_year': 1851}]",
         "['\"Frankenstein; Or, The Modern Prometheus\" by Mary Wollstonecraft Shelley is a novel written in the early 19th century. The story revolves around Victor Frankenstein, a young scientist who becomes obsessed with creating life, leading him to construct a living being from reanimated body parts. The book explores themes of ambition, the consequences of man\\'s desire to play God, and the isolation that arises from the act of creation.  At the start of the novel, we are introduced to Robert Walton, an explorer, who writes letters to his sister while embarking on an ambitious expedition to the North Pole. Walton describes his enthusiasm for adventure and the mysteries of the Arctic, but also expresses a deep longing for companionship. After some harrowing events, Walton rescues a distressed and emaciated man—Victor Frankenstein—who begins to share his tragic tale. As he recounts the story of his early life, the loss of loved ones, and his blinding pursuit of scientific knowledge, a sense of dread and foreshadowing permeates the narrative, hinting at the monstrous consequences of Frankenstein’s obsession. This opening establishes a captivating framework that sets the stage for the intense exploration of humanity, morality, and the impulse to transcend natural limits. (This is an automatically generated summary.)']",
         "[]",
         "[\"Frankenstein's monster (Fictitious character) -- Fiction\", 'Frankenstein, Victor (Fictitious character) -- Fiction', 'Gothic fiction', 'Horror tales', 'Monsters -- Fiction', 'Science fiction', 'Scientists -- Fiction']",
         "['Browsing: Fiction', 'Browsing: Gender & Sexuality Studies', 'Browsing: Literature', 'Browsing: Science-Fiction & Fantasy', 'Precursors of Science Fiction', 'Science Fiction by Women']",
         "['en']",
         "False",
         "Text",
         "{'text/html': 'https://www.gutenberg.org/ebooks/41445.html.images', 'application/epub+zip': 'https://www.gutenberg.org/ebooks/41445.epub3.images', 'application/x-mobipocket-ebook': 'https://www.gutenberg.org/ebooks/41445.kf8.images', 'application/rdf+xml': 'https://www.gutenberg.org/ebooks/41445.rdf', 'image/jpeg': 'https://www.gutenberg.org/cache/epub/41445/pg41445.cover.medium.jpg', 'application/octet-stream': 'https://www.gutenberg.org/cache/epub/41445/pg41445-h.zip', 'text/plain; charset=us-ascii': 'https://www.gutenberg.org/ebooks/41445.txt.utf-8'}",
         "20310"
        ]
       ],
       "shape": {
        "columns": 13,
        "rows": 40
       }
      },
      "text/html": [
       "<div>\n",
       "<style scoped>\n",
       "    .dataframe tbody tr th:only-of-type {\n",
       "        vertical-align: middle;\n",
       "    }\n",
       "\n",
       "    .dataframe tbody tr th {\n",
       "        vertical-align: top;\n",
       "    }\n",
       "\n",
       "    .dataframe thead th {\n",
       "        text-align: right;\n",
       "    }\n",
       "</style>\n",
       "<table border=\"1\" class=\"dataframe\">\n",
       "  <thead>\n",
       "    <tr style=\"text-align: right;\">\n",
       "      <th></th>\n",
       "      <th>index</th>\n",
       "      <th>id</th>\n",
       "      <th>title</th>\n",
       "      <th>authors</th>\n",
       "      <th>summaries</th>\n",
       "      <th>translators</th>\n",
       "      <th>subjects</th>\n",
       "      <th>bookshelves</th>\n",
       "      <th>languages</th>\n",
       "      <th>copyright</th>\n",
       "      <th>media_type</th>\n",
       "      <th>formats</th>\n",
       "      <th>download_count</th>\n",
       "    </tr>\n",
       "  </thead>\n",
       "  <tbody>\n",
       "    <tr>\n",
       "      <th>0</th>\n",
       "      <td>0</td>\n",
       "      <td>84</td>\n",
       "      <td>Frankenstein; Or, The Modern Prometheus</td>\n",
       "      <td>[{'name': 'Shelley, Mary Wollstonecraft', 'bir...</td>\n",
       "      <td>[\"Frankenstein; Or, The Modern Prometheus\" by ...</td>\n",
       "      <td>[]</td>\n",
       "      <td>[Frankenstein's monster (Fictitious character)...</td>\n",
       "      <td>[Browsing: Culture/Civilization/Society, Brows...</td>\n",
       "      <td>[en]</td>\n",
       "      <td>False</td>\n",
       "      <td>Text</td>\n",
       "      <td>{'text/html': 'https://www.gutenberg.org/ebook...</td>\n",
       "      <td>117026</td>\n",
       "    </tr>\n",
       "    <tr>\n",
       "      <th>1</th>\n",
       "      <td>1</td>\n",
       "      <td>2701</td>\n",
       "      <td>Moby Dick; Or, The Whale</td>\n",
       "      <td>[{'name': 'Melville, Herman', 'birth_year': 18...</td>\n",
       "      <td>[\"Moby Dick; Or, The Whale\" by Herman Melville...</td>\n",
       "      <td>[]</td>\n",
       "      <td>[Adventure stories, Ahab, Captain (Fictitious ...</td>\n",
       "      <td>[Best Books Ever Listings, Browsing: Fiction, ...</td>\n",
       "      <td>[en]</td>\n",
       "      <td>False</td>\n",
       "      <td>Text</td>\n",
       "      <td>{'text/html': 'https://www.gutenberg.org/ebook...</td>\n",
       "      <td>93457</td>\n",
       "    </tr>\n",
       "    <tr>\n",
       "      <th>2</th>\n",
       "      <td>2</td>\n",
       "      <td>1513</td>\n",
       "      <td>Romeo and Juliet</td>\n",
       "      <td>[{'name': 'Shakespeare, William', 'birth_year'...</td>\n",
       "      <td>[\"Romeo and Juliet\" by William Shakespeare is ...</td>\n",
       "      <td>[]</td>\n",
       "      <td>[Conflict of generations -- Drama, Juliet (Fic...</td>\n",
       "      <td>[Browsing: Fiction, Browsing: Literature, Brow...</td>\n",
       "      <td>[en]</td>\n",
       "      <td>False</td>\n",
       "      <td>Text</td>\n",
       "      <td>{'text/html': 'https://www.gutenberg.org/ebook...</td>\n",
       "      <td>56729</td>\n",
       "    </tr>\n",
       "    <tr>\n",
       "      <th>3</th>\n",
       "      <td>3</td>\n",
       "      <td>1342</td>\n",
       "      <td>Pride and Prejudice</td>\n",
       "      <td>[{'name': 'Austen, Jane', 'birth_year': 1775, ...</td>\n",
       "      <td>[\"Pride and Prejudice\" by Jane Austen is a cla...</td>\n",
       "      <td>[]</td>\n",
       "      <td>[Courtship -- Fiction, Domestic fiction, Engla...</td>\n",
       "      <td>[Best Books Ever Listings, Browsing: Culture/C...</td>\n",
       "      <td>[en]</td>\n",
       "      <td>False</td>\n",
       "      <td>Text</td>\n",
       "      <td>{'text/html': 'https://www.gutenberg.org/ebook...</td>\n",
       "      <td>54851</td>\n",
       "    </tr>\n",
       "    <tr>\n",
       "      <th>4</th>\n",
       "      <td>4</td>\n",
       "      <td>11</td>\n",
       "      <td>Alice's Adventures in Wonderland</td>\n",
       "      <td>[{'name': 'Carroll, Lewis', 'birth_year': 1832...</td>\n",
       "      <td>[\"Alice's Adventures in Wonderland\" by Lewis C...</td>\n",
       "      <td>[]</td>\n",
       "      <td>[Alice (Fictitious character from Carroll) -- ...</td>\n",
       "      <td>[Browsing: Children &amp; Young Adult Reading, Bro...</td>\n",
       "      <td>[en]</td>\n",
       "      <td>False</td>\n",
       "      <td>Text</td>\n",
       "      <td>{'text/html': 'https://www.gutenberg.org/ebook...</td>\n",
       "      <td>47514</td>\n",
       "    </tr>\n",
       "    <tr>\n",
       "      <th>5</th>\n",
       "      <td>5</td>\n",
       "      <td>100</td>\n",
       "      <td>The Complete Works of William Shakespeare</td>\n",
       "      <td>[{'name': 'Shakespeare, William', 'birth_year'...</td>\n",
       "      <td>[\"The Complete Works of William Shakespeare\" b...</td>\n",
       "      <td>[]</td>\n",
       "      <td>[English drama -- Early modern and Elizabethan...</td>\n",
       "      <td>[Browsing: Fiction, Browsing: Literature, Plays]</td>\n",
       "      <td>[en]</td>\n",
       "      <td>False</td>\n",
       "      <td>Text</td>\n",
       "      <td>{'text/html': 'https://www.gutenberg.org/ebook...</td>\n",
       "      <td>42209</td>\n",
       "    </tr>\n",
       "    <tr>\n",
       "      <th>6</th>\n",
       "      <td>6</td>\n",
       "      <td>145</td>\n",
       "      <td>Middlemarch</td>\n",
       "      <td>[{'name': 'Eliot, George', 'birth_year': 1819,...</td>\n",
       "      <td>[\"Middlemarch\" by George Eliot is a novel writ...</td>\n",
       "      <td>[]</td>\n",
       "      <td>[Bildungsromans, City and town life -- Fiction...</td>\n",
       "      <td>[Best Books Ever Listings, Browsing: Culture/C...</td>\n",
       "      <td>[en]</td>\n",
       "      <td>False</td>\n",
       "      <td>Text</td>\n",
       "      <td>{'text/html': 'https://www.gutenberg.org/ebook...</td>\n",
       "      <td>40160</td>\n",
       "    </tr>\n",
       "    <tr>\n",
       "      <th>7</th>\n",
       "      <td>7</td>\n",
       "      <td>2641</td>\n",
       "      <td>A Room with a View</td>\n",
       "      <td>[{'name': 'Forster, E. M. (Edward Morgan)', 'b...</td>\n",
       "      <td>[\"A Room with a View\" by E. M. Forster is a no...</td>\n",
       "      <td>[]</td>\n",
       "      <td>[British -- Italy -- Fiction, England -- Ficti...</td>\n",
       "      <td>[Browsing: Culture/Civilization/Society, Brows...</td>\n",
       "      <td>[en]</td>\n",
       "      <td>False</td>\n",
       "      <td>Text</td>\n",
       "      <td>{'text/html': 'https://www.gutenberg.org/ebook...</td>\n",
       "      <td>39430</td>\n",
       "    </tr>\n",
       "    <tr>\n",
       "      <th>8</th>\n",
       "      <td>8</td>\n",
       "      <td>64317</td>\n",
       "      <td>The Great Gatsby</td>\n",
       "      <td>[{'name': 'Fitzgerald, F. Scott (Francis Scott...</td>\n",
       "      <td>[\"The Great Gatsby\" by F. Scott Fitzgerald is ...</td>\n",
       "      <td>[]</td>\n",
       "      <td>[First loves -- Fiction, Long Island (N.Y.) --...</td>\n",
       "      <td>[Browsing: Culture/Civilization/Society, Brows...</td>\n",
       "      <td>[en]</td>\n",
       "      <td>False</td>\n",
       "      <td>Text</td>\n",
       "      <td>{'text/plain; charset=us-ascii': 'https://www....</td>\n",
       "      <td>39149</td>\n",
       "    </tr>\n",
       "    <tr>\n",
       "      <th>9</th>\n",
       "      <td>9</td>\n",
       "      <td>2542</td>\n",
       "      <td>A Doll's House : a play</td>\n",
       "      <td>[{'name': 'Ibsen, Henrik', 'birth_year': 1828,...</td>\n",
       "      <td>[\"A Doll's House\" by Henrik Ibsen is a three-a...</td>\n",
       "      <td>[]</td>\n",
       "      <td>[Man-woman relationships -- Drama, Marriage --...</td>\n",
       "      <td>[Best Books Ever Listings, Browsing: Fiction, ...</td>\n",
       "      <td>[en]</td>\n",
       "      <td>False</td>\n",
       "      <td>Text</td>\n",
       "      <td>{'text/html': 'https://www.gutenberg.org/ebook...</td>\n",
       "      <td>39082</td>\n",
       "    </tr>\n",
       "    <tr>\n",
       "      <th>10</th>\n",
       "      <td>10</td>\n",
       "      <td>1023</td>\n",
       "      <td>Bleak House</td>\n",
       "      <td>[{'name': 'Dickens, Charles', 'birth_year': 18...</td>\n",
       "      <td>[\"Bleak House\" by Charles Dickens is a novel w...</td>\n",
       "      <td>[]</td>\n",
       "      <td>[Bildungsromans, Domestic fiction, Guardian an...</td>\n",
       "      <td>[Browsing: Culture/Civilization/Society, Brows...</td>\n",
       "      <td>[en]</td>\n",
       "      <td>False</td>\n",
       "      <td>Text</td>\n",
       "      <td>{'text/html': 'https://www.gutenberg.org/ebook...</td>\n",
       "      <td>38966</td>\n",
       "    </tr>\n",
       "    <tr>\n",
       "      <th>11</th>\n",
       "      <td>11</td>\n",
       "      <td>37106</td>\n",
       "      <td>Little Women; Or, Meg, Jo, Beth, and Amy</td>\n",
       "      <td>[{'name': 'Alcott, Louisa May', 'birth_year': ...</td>\n",
       "      <td>[\"Little Women; Or, Meg, Jo, Beth, and Amy\" by...</td>\n",
       "      <td>[]</td>\n",
       "      <td>[Autobiographical fiction, Bildungsromans, Dom...</td>\n",
       "      <td>[Browsing: Culture/Civilization/Society, Brows...</td>\n",
       "      <td>[en]</td>\n",
       "      <td>False</td>\n",
       "      <td>Text</td>\n",
       "      <td>{'text/html': 'https://www.gutenberg.org/ebook...</td>\n",
       "      <td>38071</td>\n",
       "    </tr>\n",
       "    <tr>\n",
       "      <th>12</th>\n",
       "      <td>12</td>\n",
       "      <td>26184</td>\n",
       "      <td>Simple Sabotage Field Manual</td>\n",
       "      <td>[{'name': 'United States. Office of Strategic ...</td>\n",
       "      <td>[\"Simple Sabotage Field Manual\" by United Stat...</td>\n",
       "      <td>[]</td>\n",
       "      <td>[Sabotage]</td>\n",
       "      <td>[Browsing: History - Warfare]</td>\n",
       "      <td>[en]</td>\n",
       "      <td>False</td>\n",
       "      <td>Text</td>\n",
       "      <td>{'text/html': 'https://www.gutenberg.org/ebook...</td>\n",
       "      <td>36196</td>\n",
       "    </tr>\n",
       "    <tr>\n",
       "      <th>13</th>\n",
       "      <td>13</td>\n",
       "      <td>43</td>\n",
       "      <td>The Strange Case of Dr. Jekyll and Mr. Hyde</td>\n",
       "      <td>[{'name': 'Stevenson, Robert Louis', 'birth_ye...</td>\n",
       "      <td>[\"The Strange Case of Dr. Jekyll and Mr. Hyde\"...</td>\n",
       "      <td>[]</td>\n",
       "      <td>[Horror tales, London (England) -- Fiction, Mu...</td>\n",
       "      <td>[Browsing: Fiction, Browsing: Psychiatry/Psych...</td>\n",
       "      <td>[en]</td>\n",
       "      <td>False</td>\n",
       "      <td>Text</td>\n",
       "      <td>{'text/html': 'https://www.gutenberg.org/ebook...</td>\n",
       "      <td>35263</td>\n",
       "    </tr>\n",
       "    <tr>\n",
       "      <th>14</th>\n",
       "      <td>14</td>\n",
       "      <td>16389</td>\n",
       "      <td>The Enchanted April</td>\n",
       "      <td>[{'name': 'Von Arnim, Elizabeth', 'birth_year'...</td>\n",
       "      <td>[\"The Enchanted April\" by Elizabeth Von Arnim ...</td>\n",
       "      <td>[]</td>\n",
       "      <td>[British -- Italy -- Fiction, Domestic fiction...</td>\n",
       "      <td>[Bestsellers, American, 1895-1923, Browsing: C...</td>\n",
       "      <td>[en]</td>\n",
       "      <td>False</td>\n",
       "      <td>Text</td>\n",
       "      <td>{'text/html': 'https://www.gutenberg.org/ebook...</td>\n",
       "      <td>35228</td>\n",
       "    </tr>\n",
       "    <tr>\n",
       "      <th>15</th>\n",
       "      <td>15</td>\n",
       "      <td>67979</td>\n",
       "      <td>The Blue Castle: a novel</td>\n",
       "      <td>[{'name': 'Montgomery, L. M. (Lucy Maud)', 'bi...</td>\n",
       "      <td>[\"The Blue Castle\" by L. M. Montgomery is a no...</td>\n",
       "      <td>[]</td>\n",
       "      <td>[Canada -- History -- 1914-1945 -- Fiction, Ch...</td>\n",
       "      <td>[Browsing: Culture/Civilization/Society, Brows...</td>\n",
       "      <td>[en]</td>\n",
       "      <td>False</td>\n",
       "      <td>Text</td>\n",
       "      <td>{'application/octet-stream': 'https://www.gute...</td>\n",
       "      <td>34644</td>\n",
       "    </tr>\n",
       "    <tr>\n",
       "      <th>16</th>\n",
       "      <td>16</td>\n",
       "      <td>844</td>\n",
       "      <td>The Importance of Being Earnest: A Trivial Com...</td>\n",
       "      <td>[{'name': 'Wilde, Oscar', 'birth_year': 1854, ...</td>\n",
       "      <td>[\"The Importance of Being Earnest: A Trivial C...</td>\n",
       "      <td>[]</td>\n",
       "      <td>[Comedy plays, England -- Drama, Foundlings --...</td>\n",
       "      <td>[Browsing: Fiction, Browsing: Literature, Brow...</td>\n",
       "      <td>[en]</td>\n",
       "      <td>False</td>\n",
       "      <td>Text</td>\n",
       "      <td>{'text/html': 'https://www.gutenberg.org/ebook...</td>\n",
       "      <td>34602</td>\n",
       "    </tr>\n",
       "    <tr>\n",
       "      <th>17</th>\n",
       "      <td>17</td>\n",
       "      <td>174</td>\n",
       "      <td>The Picture of Dorian Gray</td>\n",
       "      <td>[{'name': 'Wilde, Oscar', 'birth_year': 1854, ...</td>\n",
       "      <td>[\"The Picture of Dorian Gray\" by Oscar Wilde i...</td>\n",
       "      <td>[]</td>\n",
       "      <td>[Appearance (Philosophy) -- Fiction, Conduct o...</td>\n",
       "      <td>[Browsing: Fiction, Browsing: Literature, Brow...</td>\n",
       "      <td>[en]</td>\n",
       "      <td>False</td>\n",
       "      <td>Text</td>\n",
       "      <td>{'text/html': 'https://www.gutenberg.org/ebook...</td>\n",
       "      <td>33948</td>\n",
       "    </tr>\n",
       "    <tr>\n",
       "      <th>18</th>\n",
       "      <td>18</td>\n",
       "      <td>6761</td>\n",
       "      <td>The Adventures of Ferdinand Count Fathom — Com...</td>\n",
       "      <td>[{'name': 'Smollett, T. (Tobias)', 'birth_year...</td>\n",
       "      <td>[\"The Adventures of Ferdinand Count Fathom\" by...</td>\n",
       "      <td>[]</td>\n",
       "      <td>[Adventure stories, Gothic fiction]</td>\n",
       "      <td>[Best Books Ever Listings, Browsing: Fiction, ...</td>\n",
       "      <td>[en]</td>\n",
       "      <td>False</td>\n",
       "      <td>Text</td>\n",
       "      <td>{'text/html': 'https://www.gutenberg.org/ebook...</td>\n",
       "      <td>31790</td>\n",
       "    </tr>\n",
       "    <tr>\n",
       "      <th>19</th>\n",
       "      <td>19</td>\n",
       "      <td>394</td>\n",
       "      <td>Cranford</td>\n",
       "      <td>[{'name': 'Gaskell, Elizabeth Cleghorn', 'birt...</td>\n",
       "      <td>[\"Cranford\" by Elizabeth Cleghorn Gaskell is a...</td>\n",
       "      <td>[]</td>\n",
       "      <td>[England -- Fiction, Female friendship -- Fict...</td>\n",
       "      <td>[Browsing: Culture/Civilization/Society, Brows...</td>\n",
       "      <td>[en]</td>\n",
       "      <td>False</td>\n",
       "      <td>Text</td>\n",
       "      <td>{'text/html': 'https://www.gutenberg.org/ebook...</td>\n",
       "      <td>31362</td>\n",
       "    </tr>\n",
       "    <tr>\n",
       "      <th>20</th>\n",
       "      <td>20</td>\n",
       "      <td>6593</td>\n",
       "      <td>History of Tom Jones, a Foundling</td>\n",
       "      <td>[{'name': 'Fielding, Henry', 'birth_year': 170...</td>\n",
       "      <td>[\"The History of Tom Jones, A Foundling\" by He...</td>\n",
       "      <td>[]</td>\n",
       "      <td>[Bildungsromans, England -- Fiction, Foundling...</td>\n",
       "      <td>[Banned Books from Anne Haight's list, Best Bo...</td>\n",
       "      <td>[en]</td>\n",
       "      <td>False</td>\n",
       "      <td>Text</td>\n",
       "      <td>{'text/html': 'https://www.gutenberg.org/ebook...</td>\n",
       "      <td>30962</td>\n",
       "    </tr>\n",
       "    <tr>\n",
       "      <th>21</th>\n",
       "      <td>21</td>\n",
       "      <td>2554</td>\n",
       "      <td>Crime and Punishment</td>\n",
       "      <td>[{'name': 'Dostoyevsky, Fyodor', 'birth_year':...</td>\n",
       "      <td>[\"Crime and Punishment\" by Fyodor Dostoyevsky ...</td>\n",
       "      <td>[{'name': 'Garnett, Constance', 'birth_year': ...</td>\n",
       "      <td>[Crime -- Psychological aspects -- Fiction, De...</td>\n",
       "      <td>[Best Books Ever Listings, Browsing: Crime/Mys...</td>\n",
       "      <td>[en]</td>\n",
       "      <td>False</td>\n",
       "      <td>Text</td>\n",
       "      <td>{'text/html': 'https://www.gutenberg.org/ebook...</td>\n",
       "      <td>30716</td>\n",
       "    </tr>\n",
       "    <tr>\n",
       "      <th>22</th>\n",
       "      <td>22</td>\n",
       "      <td>2160</td>\n",
       "      <td>The Expedition of Humphry Clinker</td>\n",
       "      <td>[{'name': 'Smollett, T. (Tobias)', 'birth_year...</td>\n",
       "      <td>[\"The Expedition of Humphry Clinker\" by Tobias...</td>\n",
       "      <td>[]</td>\n",
       "      <td>[Epistolary fiction, Great Britain -- Fiction,...</td>\n",
       "      <td>[Best Books Ever Listings, Browsing: Fiction, ...</td>\n",
       "      <td>[en]</td>\n",
       "      <td>False</td>\n",
       "      <td>Text</td>\n",
       "      <td>{'text/html': 'https://www.gutenberg.org/ebook...</td>\n",
       "      <td>30659</td>\n",
       "    </tr>\n",
       "    <tr>\n",
       "      <th>23</th>\n",
       "      <td>23</td>\n",
       "      <td>4085</td>\n",
       "      <td>The Adventures of Roderick Random</td>\n",
       "      <td>[{'name': 'Smollett, T. (Tobias)', 'birth_year...</td>\n",
       "      <td>[\"The Adventures of Roderick Random\" by Tobias...</td>\n",
       "      <td>[]</td>\n",
       "      <td>[England -- Fiction, Impressment -- Fiction, P...</td>\n",
       "      <td>[Best Books Ever Listings, Browsing: Culture/C...</td>\n",
       "      <td>[en]</td>\n",
       "      <td>False</td>\n",
       "      <td>Text</td>\n",
       "      <td>{'text/html': 'https://www.gutenberg.org/ebook...</td>\n",
       "      <td>30484</td>\n",
       "    </tr>\n",
       "    <tr>\n",
       "      <th>24</th>\n",
       "      <td>24</td>\n",
       "      <td>345</td>\n",
       "      <td>Dracula</td>\n",
       "      <td>[{'name': 'Stoker, Bram', 'birth_year': 1847, ...</td>\n",
       "      <td>[\"Dracula\" by Bram Stoker is a Gothic horror n...</td>\n",
       "      <td>[]</td>\n",
       "      <td>[Dracula, Count (Fictitious character) -- Fict...</td>\n",
       "      <td>[Browsing: Fiction, Browsing: Literature, Brow...</td>\n",
       "      <td>[en]</td>\n",
       "      <td>False</td>\n",
       "      <td>Text</td>\n",
       "      <td>{'text/html': 'https://www.gutenberg.org/ebook...</td>\n",
       "      <td>30184</td>\n",
       "    </tr>\n",
       "    <tr>\n",
       "      <th>25</th>\n",
       "      <td>25</td>\n",
       "      <td>1259</td>\n",
       "      <td>Twenty years after</td>\n",
       "      <td>[{'name': 'Dumas, Alexandre', 'birth_year': 18...</td>\n",
       "      <td>[\"Twenty Years After\" by Alexandre Dumas and A...</td>\n",
       "      <td>[]</td>\n",
       "      <td>[France -- History -- Louis XIV, 1643-1715 -- ...</td>\n",
       "      <td>[Adventure, Browsing: Culture/Civilization/Soc...</td>\n",
       "      <td>[en]</td>\n",
       "      <td>False</td>\n",
       "      <td>Text</td>\n",
       "      <td>{'text/html': 'https://www.gutenberg.org/ebook...</td>\n",
       "      <td>30152</td>\n",
       "    </tr>\n",
       "    <tr>\n",
       "      <th>26</th>\n",
       "      <td>26</td>\n",
       "      <td>5197</td>\n",
       "      <td>My Life — Volume 1</td>\n",
       "      <td>[{'name': 'Wagner, Richard', 'birth_year': 181...</td>\n",
       "      <td>[\"My Life — Volume 1\" by Richard Wagner is an ...</td>\n",
       "      <td>[]</td>\n",
       "      <td>[Composers -- Germany -- Biography, Wagner, Ri...</td>\n",
       "      <td>[Browsing: Biographies, Browsing: Music]</td>\n",
       "      <td>[en]</td>\n",
       "      <td>False</td>\n",
       "      <td>Text</td>\n",
       "      <td>{'text/html': 'https://www.gutenberg.org/ebook...</td>\n",
       "      <td>29617</td>\n",
       "    </tr>\n",
       "    <tr>\n",
       "      <th>27</th>\n",
       "      <td>27</td>\n",
       "      <td>98</td>\n",
       "      <td>A Tale of Two Cities</td>\n",
       "      <td>[{'name': 'Dickens, Charles', 'birth_year': 18...</td>\n",
       "      <td>[\"A Tale of Two Cities\" by Charles Dickens is ...</td>\n",
       "      <td>[]</td>\n",
       "      <td>[British -- France -- Paris -- Fiction, Execut...</td>\n",
       "      <td>[Browsing: Fiction, Browsing: History - Britis...</td>\n",
       "      <td>[en]</td>\n",
       "      <td>False</td>\n",
       "      <td>Text</td>\n",
       "      <td>{'text/html': 'https://www.gutenberg.org/ebook...</td>\n",
       "      <td>26383</td>\n",
       "    </tr>\n",
       "    <tr>\n",
       "      <th>28</th>\n",
       "      <td>28</td>\n",
       "      <td>1260</td>\n",
       "      <td>Jane Eyre: An Autobiography</td>\n",
       "      <td>[{'name': 'Brontë, Charlotte', 'birth_year': 1...</td>\n",
       "      <td>[\"Jane Eyre: An Autobiography\" by Charlotte Br...</td>\n",
       "      <td>[]</td>\n",
       "      <td>[Bildungsromans, Charity-schools -- Fiction, C...</td>\n",
       "      <td>[Browsing: Culture/Civilization/Society, Brows...</td>\n",
       "      <td>[en]</td>\n",
       "      <td>False</td>\n",
       "      <td>Text</td>\n",
       "      <td>{'text/html': 'https://www.gutenberg.org/ebook...</td>\n",
       "      <td>24301</td>\n",
       "    </tr>\n",
       "    <tr>\n",
       "      <th>29</th>\n",
       "      <td>29</td>\n",
       "      <td>1998</td>\n",
       "      <td>Thus Spake Zarathustra: A Book for All and None</td>\n",
       "      <td>[{'name': 'Nietzsche, Friedrich Wilhelm', 'bir...</td>\n",
       "      <td>[\"Thus Spake Zarathustra: A Book for All and N...</td>\n",
       "      <td>[{'name': 'Common, Thomas', 'birth_year': 1850...</td>\n",
       "      <td>[Philosophy, German, Superman (Philosophical c...</td>\n",
       "      <td>[Browsing: Philosophy &amp; Ethics, Browsing: Psyc...</td>\n",
       "      <td>[en]</td>\n",
       "      <td>False</td>\n",
       "      <td>Text</td>\n",
       "      <td>{'text/html': 'https://www.gutenberg.org/ebook...</td>\n",
       "      <td>23968</td>\n",
       "    </tr>\n",
       "    <tr>\n",
       "      <th>30</th>\n",
       "      <td>30</td>\n",
       "      <td>5200</td>\n",
       "      <td>Metamorphosis</td>\n",
       "      <td>[{'name': 'Kafka, Franz', 'birth_year': 1883, ...</td>\n",
       "      <td>[\"Metamorphosis\" by Franz Kafka is a novella w...</td>\n",
       "      <td>[{'name': 'Wyllie, David (Translator)', 'birth...</td>\n",
       "      <td>[Metamorphosis -- Fiction, Psychological fiction]</td>\n",
       "      <td>[Browsing: Fiction, Browsing: Literature, Brow...</td>\n",
       "      <td>[en]</td>\n",
       "      <td>True</td>\n",
       "      <td>Text</td>\n",
       "      <td>{'text/html': 'https://www.gutenberg.org/ebook...</td>\n",
       "      <td>23566</td>\n",
       "    </tr>\n",
       "    <tr>\n",
       "      <th>31</th>\n",
       "      <td>31</td>\n",
       "      <td>1400</td>\n",
       "      <td>Great Expectations</td>\n",
       "      <td>[{'name': 'Dickens, Charles', 'birth_year': 18...</td>\n",
       "      <td>[\"Great Expectations\" by Charles Dickens is a ...</td>\n",
       "      <td>[]</td>\n",
       "      <td>[Benefactors -- Fiction, Bildungsromans, Engla...</td>\n",
       "      <td>[Best Books Ever Listings, Browsing: Fiction, ...</td>\n",
       "      <td>[en]</td>\n",
       "      <td>False</td>\n",
       "      <td>Text</td>\n",
       "      <td>{'text/html': 'https://www.gutenberg.org/ebook...</td>\n",
       "      <td>23190</td>\n",
       "    </tr>\n",
       "    <tr>\n",
       "      <th>32</th>\n",
       "      <td>0</td>\n",
       "      <td>76</td>\n",
       "      <td>Adventures of Huckleberry Finn</td>\n",
       "      <td>[{'name': 'Twain, Mark', 'birth_year': 1835, '...</td>\n",
       "      <td>[\"Adventures of Huckleberry Finn\" by Mark Twai...</td>\n",
       "      <td>[]</td>\n",
       "      <td>[Adventure stories, Bildungsromans, Boys -- Fi...</td>\n",
       "      <td>[Banned Books List from the American Library A...</td>\n",
       "      <td>[en]</td>\n",
       "      <td>False</td>\n",
       "      <td>Text</td>\n",
       "      <td>{'text/html': 'https://www.gutenberg.org/ebook...</td>\n",
       "      <td>22465</td>\n",
       "    </tr>\n",
       "    <tr>\n",
       "      <th>33</th>\n",
       "      <td>1</td>\n",
       "      <td>28054</td>\n",
       "      <td>The Brothers Karamazov</td>\n",
       "      <td>[{'name': 'Dostoyevsky, Fyodor', 'birth_year':...</td>\n",
       "      <td>[\"The Brothers Karamazov\" by Fyodor Dostoyevsk...</td>\n",
       "      <td>[{'name': 'Garnett, Constance', 'birth_year': ...</td>\n",
       "      <td>[Brothers -- Fiction, Didactic fiction, Father...</td>\n",
       "      <td>[Best Books Ever Listings, Browsing: Culture/C...</td>\n",
       "      <td>[en]</td>\n",
       "      <td>False</td>\n",
       "      <td>Text</td>\n",
       "      <td>{'text/html': 'https://www.gutenberg.org/ebook...</td>\n",
       "      <td>21131</td>\n",
       "    </tr>\n",
       "    <tr>\n",
       "      <th>34</th>\n",
       "      <td>2</td>\n",
       "      <td>25344</td>\n",
       "      <td>The Scarlet Letter</td>\n",
       "      <td>[{'name': 'Hawthorne, Nathaniel', 'birth_year'...</td>\n",
       "      <td>[\"The Scarlet Letter\" by Nathaniel Hawthorne i...</td>\n",
       "      <td>[]</td>\n",
       "      <td>[Adultery -- Fiction, Boston (Mass.) -- Histor...</td>\n",
       "      <td>[Banned Books from Anne Haight's list, Browsin...</td>\n",
       "      <td>[en]</td>\n",
       "      <td>False</td>\n",
       "      <td>Text</td>\n",
       "      <td>{'text/html': 'https://www.gutenberg.org/ebook...</td>\n",
       "      <td>20792</td>\n",
       "    </tr>\n",
       "    <tr>\n",
       "      <th>35</th>\n",
       "      <td>3</td>\n",
       "      <td>1080</td>\n",
       "      <td>A Modest Proposal: For preventing the children...</td>\n",
       "      <td>[{'name': 'Swift, Jonathan', 'birth_year': 166...</td>\n",
       "      <td>[\"A Modest Proposal\" by Jonathan Swift is a sa...</td>\n",
       "      <td>[]</td>\n",
       "      <td>[Ireland -- Politics and government -- 18th ce...</td>\n",
       "      <td>[Browsing: Humour, Browsing: Literature, Brows...</td>\n",
       "      <td>[en]</td>\n",
       "      <td>False</td>\n",
       "      <td>Text</td>\n",
       "      <td>{'text/html': 'https://www.gutenberg.org/ebook...</td>\n",
       "      <td>20742</td>\n",
       "    </tr>\n",
       "    <tr>\n",
       "      <th>36</th>\n",
       "      <td>4</td>\n",
       "      <td>1232</td>\n",
       "      <td>The Prince</td>\n",
       "      <td>[{'name': 'Machiavelli, Niccolò', 'birth_year'...</td>\n",
       "      <td>[\"The Prince\" by Niccolò Machiavelli is a poli...</td>\n",
       "      <td>[{'name': 'Marriott, W. K. (William Kenaz)', '...</td>\n",
       "      <td>[Political ethics -- Early works to 1800, Poli...</td>\n",
       "      <td>[Banned Books from Anne Haight's list, Browsin...</td>\n",
       "      <td>[en]</td>\n",
       "      <td>False</td>\n",
       "      <td>Text</td>\n",
       "      <td>{'text/html': 'https://www.gutenberg.org/ebook...</td>\n",
       "      <td>20587</td>\n",
       "    </tr>\n",
       "    <tr>\n",
       "      <th>37</th>\n",
       "      <td>5</td>\n",
       "      <td>1661</td>\n",
       "      <td>The Adventures of Sherlock Holmes</td>\n",
       "      <td>[{'name': 'Doyle, Arthur Conan', 'birth_year':...</td>\n",
       "      <td>[\"The Adventures of Sherlock Holmes\" by Arthur...</td>\n",
       "      <td>[]</td>\n",
       "      <td>[Detective and mystery stories, English, Holme...</td>\n",
       "      <td>[Banned Books from Anne Haight's list, Browsin...</td>\n",
       "      <td>[en]</td>\n",
       "      <td>False</td>\n",
       "      <td>Text</td>\n",
       "      <td>{'text/html': 'https://www.gutenberg.org/ebook...</td>\n",
       "      <td>20565</td>\n",
       "    </tr>\n",
       "    <tr>\n",
       "      <th>38</th>\n",
       "      <td>6</td>\n",
       "      <td>4300</td>\n",
       "      <td>Ulysses</td>\n",
       "      <td>[{'name': 'Joyce, James', 'birth_year': 1882, ...</td>\n",
       "      <td>[\"Ulysses\" by James Joyce is a modernist novel...</td>\n",
       "      <td>[]</td>\n",
       "      <td>[Alienation (Social psychology) -- Fiction, Ar...</td>\n",
       "      <td>[Banned Books List from the American Library A...</td>\n",
       "      <td>[en]</td>\n",
       "      <td>False</td>\n",
       "      <td>Text</td>\n",
       "      <td>{'text/html': 'https://www.gutenberg.org/ebook...</td>\n",
       "      <td>20390</td>\n",
       "    </tr>\n",
       "    <tr>\n",
       "      <th>39</th>\n",
       "      <td>7</td>\n",
       "      <td>41445</td>\n",
       "      <td>Frankenstein; Or, The Modern Prometheus</td>\n",
       "      <td>[{'name': 'Shelley, Mary Wollstonecraft', 'bir...</td>\n",
       "      <td>[\"Frankenstein; Or, The Modern Prometheus\" by ...</td>\n",
       "      <td>[]</td>\n",
       "      <td>[Frankenstein's monster (Fictitious character)...</td>\n",
       "      <td>[Browsing: Fiction, Browsing: Gender &amp; Sexuali...</td>\n",
       "      <td>[en]</td>\n",
       "      <td>False</td>\n",
       "      <td>Text</td>\n",
       "      <td>{'text/html': 'https://www.gutenberg.org/ebook...</td>\n",
       "      <td>20310</td>\n",
       "    </tr>\n",
       "  </tbody>\n",
       "</table>\n",
       "</div>"
      ],
      "text/plain": [
       "    index     id                                              title  \\\n",
       "0       0     84            Frankenstein; Or, The Modern Prometheus   \n",
       "1       1   2701                           Moby Dick; Or, The Whale   \n",
       "2       2   1513                                   Romeo and Juliet   \n",
       "3       3   1342                                Pride and Prejudice   \n",
       "4       4     11                   Alice's Adventures in Wonderland   \n",
       "5       5    100          The Complete Works of William Shakespeare   \n",
       "6       6    145                                        Middlemarch   \n",
       "7       7   2641                                 A Room with a View   \n",
       "8       8  64317                                   The Great Gatsby   \n",
       "9       9   2542                            A Doll's House : a play   \n",
       "10     10   1023                                        Bleak House   \n",
       "11     11  37106           Little Women; Or, Meg, Jo, Beth, and Amy   \n",
       "12     12  26184                       Simple Sabotage Field Manual   \n",
       "13     13     43        The Strange Case of Dr. Jekyll and Mr. Hyde   \n",
       "14     14  16389                                The Enchanted April   \n",
       "15     15  67979                           The Blue Castle: a novel   \n",
       "16     16    844  The Importance of Being Earnest: A Trivial Com...   \n",
       "17     17    174                         The Picture of Dorian Gray   \n",
       "18     18   6761  The Adventures of Ferdinand Count Fathom — Com...   \n",
       "19     19    394                                           Cranford   \n",
       "20     20   6593                  History of Tom Jones, a Foundling   \n",
       "21     21   2554                               Crime and Punishment   \n",
       "22     22   2160                  The Expedition of Humphry Clinker   \n",
       "23     23   4085                  The Adventures of Roderick Random   \n",
       "24     24    345                                            Dracula   \n",
       "25     25   1259                                 Twenty years after   \n",
       "26     26   5197                                 My Life — Volume 1   \n",
       "27     27     98                               A Tale of Two Cities   \n",
       "28     28   1260                        Jane Eyre: An Autobiography   \n",
       "29     29   1998    Thus Spake Zarathustra: A Book for All and None   \n",
       "30     30   5200                                      Metamorphosis   \n",
       "31     31   1400                                 Great Expectations   \n",
       "32      0     76                     Adventures of Huckleberry Finn   \n",
       "33      1  28054                             The Brothers Karamazov   \n",
       "34      2  25344                                 The Scarlet Letter   \n",
       "35      3   1080  A Modest Proposal: For preventing the children...   \n",
       "36      4   1232                                         The Prince   \n",
       "37      5   1661                  The Adventures of Sherlock Holmes   \n",
       "38      6   4300                                            Ulysses   \n",
       "39      7  41445            Frankenstein; Or, The Modern Prometheus   \n",
       "\n",
       "                                              authors  \\\n",
       "0   [{'name': 'Shelley, Mary Wollstonecraft', 'bir...   \n",
       "1   [{'name': 'Melville, Herman', 'birth_year': 18...   \n",
       "2   [{'name': 'Shakespeare, William', 'birth_year'...   \n",
       "3   [{'name': 'Austen, Jane', 'birth_year': 1775, ...   \n",
       "4   [{'name': 'Carroll, Lewis', 'birth_year': 1832...   \n",
       "5   [{'name': 'Shakespeare, William', 'birth_year'...   \n",
       "6   [{'name': 'Eliot, George', 'birth_year': 1819,...   \n",
       "7   [{'name': 'Forster, E. M. (Edward Morgan)', 'b...   \n",
       "8   [{'name': 'Fitzgerald, F. Scott (Francis Scott...   \n",
       "9   [{'name': 'Ibsen, Henrik', 'birth_year': 1828,...   \n",
       "10  [{'name': 'Dickens, Charles', 'birth_year': 18...   \n",
       "11  [{'name': 'Alcott, Louisa May', 'birth_year': ...   \n",
       "12  [{'name': 'United States. Office of Strategic ...   \n",
       "13  [{'name': 'Stevenson, Robert Louis', 'birth_ye...   \n",
       "14  [{'name': 'Von Arnim, Elizabeth', 'birth_year'...   \n",
       "15  [{'name': 'Montgomery, L. M. (Lucy Maud)', 'bi...   \n",
       "16  [{'name': 'Wilde, Oscar', 'birth_year': 1854, ...   \n",
       "17  [{'name': 'Wilde, Oscar', 'birth_year': 1854, ...   \n",
       "18  [{'name': 'Smollett, T. (Tobias)', 'birth_year...   \n",
       "19  [{'name': 'Gaskell, Elizabeth Cleghorn', 'birt...   \n",
       "20  [{'name': 'Fielding, Henry', 'birth_year': 170...   \n",
       "21  [{'name': 'Dostoyevsky, Fyodor', 'birth_year':...   \n",
       "22  [{'name': 'Smollett, T. (Tobias)', 'birth_year...   \n",
       "23  [{'name': 'Smollett, T. (Tobias)', 'birth_year...   \n",
       "24  [{'name': 'Stoker, Bram', 'birth_year': 1847, ...   \n",
       "25  [{'name': 'Dumas, Alexandre', 'birth_year': 18...   \n",
       "26  [{'name': 'Wagner, Richard', 'birth_year': 181...   \n",
       "27  [{'name': 'Dickens, Charles', 'birth_year': 18...   \n",
       "28  [{'name': 'Brontë, Charlotte', 'birth_year': 1...   \n",
       "29  [{'name': 'Nietzsche, Friedrich Wilhelm', 'bir...   \n",
       "30  [{'name': 'Kafka, Franz', 'birth_year': 1883, ...   \n",
       "31  [{'name': 'Dickens, Charles', 'birth_year': 18...   \n",
       "32  [{'name': 'Twain, Mark', 'birth_year': 1835, '...   \n",
       "33  [{'name': 'Dostoyevsky, Fyodor', 'birth_year':...   \n",
       "34  [{'name': 'Hawthorne, Nathaniel', 'birth_year'...   \n",
       "35  [{'name': 'Swift, Jonathan', 'birth_year': 166...   \n",
       "36  [{'name': 'Machiavelli, Niccolò', 'birth_year'...   \n",
       "37  [{'name': 'Doyle, Arthur Conan', 'birth_year':...   \n",
       "38  [{'name': 'Joyce, James', 'birth_year': 1882, ...   \n",
       "39  [{'name': 'Shelley, Mary Wollstonecraft', 'bir...   \n",
       "\n",
       "                                            summaries  \\\n",
       "0   [\"Frankenstein; Or, The Modern Prometheus\" by ...   \n",
       "1   [\"Moby Dick; Or, The Whale\" by Herman Melville...   \n",
       "2   [\"Romeo and Juliet\" by William Shakespeare is ...   \n",
       "3   [\"Pride and Prejudice\" by Jane Austen is a cla...   \n",
       "4   [\"Alice's Adventures in Wonderland\" by Lewis C...   \n",
       "5   [\"The Complete Works of William Shakespeare\" b...   \n",
       "6   [\"Middlemarch\" by George Eliot is a novel writ...   \n",
       "7   [\"A Room with a View\" by E. M. Forster is a no...   \n",
       "8   [\"The Great Gatsby\" by F. Scott Fitzgerald is ...   \n",
       "9   [\"A Doll's House\" by Henrik Ibsen is a three-a...   \n",
       "10  [\"Bleak House\" by Charles Dickens is a novel w...   \n",
       "11  [\"Little Women; Or, Meg, Jo, Beth, and Amy\" by...   \n",
       "12  [\"Simple Sabotage Field Manual\" by United Stat...   \n",
       "13  [\"The Strange Case of Dr. Jekyll and Mr. Hyde\"...   \n",
       "14  [\"The Enchanted April\" by Elizabeth Von Arnim ...   \n",
       "15  [\"The Blue Castle\" by L. M. Montgomery is a no...   \n",
       "16  [\"The Importance of Being Earnest: A Trivial C...   \n",
       "17  [\"The Picture of Dorian Gray\" by Oscar Wilde i...   \n",
       "18  [\"The Adventures of Ferdinand Count Fathom\" by...   \n",
       "19  [\"Cranford\" by Elizabeth Cleghorn Gaskell is a...   \n",
       "20  [\"The History of Tom Jones, A Foundling\" by He...   \n",
       "21  [\"Crime and Punishment\" by Fyodor Dostoyevsky ...   \n",
       "22  [\"The Expedition of Humphry Clinker\" by Tobias...   \n",
       "23  [\"The Adventures of Roderick Random\" by Tobias...   \n",
       "24  [\"Dracula\" by Bram Stoker is a Gothic horror n...   \n",
       "25  [\"Twenty Years After\" by Alexandre Dumas and A...   \n",
       "26  [\"My Life — Volume 1\" by Richard Wagner is an ...   \n",
       "27  [\"A Tale of Two Cities\" by Charles Dickens is ...   \n",
       "28  [\"Jane Eyre: An Autobiography\" by Charlotte Br...   \n",
       "29  [\"Thus Spake Zarathustra: A Book for All and N...   \n",
       "30  [\"Metamorphosis\" by Franz Kafka is a novella w...   \n",
       "31  [\"Great Expectations\" by Charles Dickens is a ...   \n",
       "32  [\"Adventures of Huckleberry Finn\" by Mark Twai...   \n",
       "33  [\"The Brothers Karamazov\" by Fyodor Dostoyevsk...   \n",
       "34  [\"The Scarlet Letter\" by Nathaniel Hawthorne i...   \n",
       "35  [\"A Modest Proposal\" by Jonathan Swift is a sa...   \n",
       "36  [\"The Prince\" by Niccolò Machiavelli is a poli...   \n",
       "37  [\"The Adventures of Sherlock Holmes\" by Arthur...   \n",
       "38  [\"Ulysses\" by James Joyce is a modernist novel...   \n",
       "39  [\"Frankenstein; Or, The Modern Prometheus\" by ...   \n",
       "\n",
       "                                          translators  \\\n",
       "0                                                  []   \n",
       "1                                                  []   \n",
       "2                                                  []   \n",
       "3                                                  []   \n",
       "4                                                  []   \n",
       "5                                                  []   \n",
       "6                                                  []   \n",
       "7                                                  []   \n",
       "8                                                  []   \n",
       "9                                                  []   \n",
       "10                                                 []   \n",
       "11                                                 []   \n",
       "12                                                 []   \n",
       "13                                                 []   \n",
       "14                                                 []   \n",
       "15                                                 []   \n",
       "16                                                 []   \n",
       "17                                                 []   \n",
       "18                                                 []   \n",
       "19                                                 []   \n",
       "20                                                 []   \n",
       "21  [{'name': 'Garnett, Constance', 'birth_year': ...   \n",
       "22                                                 []   \n",
       "23                                                 []   \n",
       "24                                                 []   \n",
       "25                                                 []   \n",
       "26                                                 []   \n",
       "27                                                 []   \n",
       "28                                                 []   \n",
       "29  [{'name': 'Common, Thomas', 'birth_year': 1850...   \n",
       "30  [{'name': 'Wyllie, David (Translator)', 'birth...   \n",
       "31                                                 []   \n",
       "32                                                 []   \n",
       "33  [{'name': 'Garnett, Constance', 'birth_year': ...   \n",
       "34                                                 []   \n",
       "35                                                 []   \n",
       "36  [{'name': 'Marriott, W. K. (William Kenaz)', '...   \n",
       "37                                                 []   \n",
       "38                                                 []   \n",
       "39                                                 []   \n",
       "\n",
       "                                             subjects  \\\n",
       "0   [Frankenstein's monster (Fictitious character)...   \n",
       "1   [Adventure stories, Ahab, Captain (Fictitious ...   \n",
       "2   [Conflict of generations -- Drama, Juliet (Fic...   \n",
       "3   [Courtship -- Fiction, Domestic fiction, Engla...   \n",
       "4   [Alice (Fictitious character from Carroll) -- ...   \n",
       "5   [English drama -- Early modern and Elizabethan...   \n",
       "6   [Bildungsromans, City and town life -- Fiction...   \n",
       "7   [British -- Italy -- Fiction, England -- Ficti...   \n",
       "8   [First loves -- Fiction, Long Island (N.Y.) --...   \n",
       "9   [Man-woman relationships -- Drama, Marriage --...   \n",
       "10  [Bildungsromans, Domestic fiction, Guardian an...   \n",
       "11  [Autobiographical fiction, Bildungsromans, Dom...   \n",
       "12                                         [Sabotage]   \n",
       "13  [Horror tales, London (England) -- Fiction, Mu...   \n",
       "14  [British -- Italy -- Fiction, Domestic fiction...   \n",
       "15  [Canada -- History -- 1914-1945 -- Fiction, Ch...   \n",
       "16  [Comedy plays, England -- Drama, Foundlings --...   \n",
       "17  [Appearance (Philosophy) -- Fiction, Conduct o...   \n",
       "18                [Adventure stories, Gothic fiction]   \n",
       "19  [England -- Fiction, Female friendship -- Fict...   \n",
       "20  [Bildungsromans, England -- Fiction, Foundling...   \n",
       "21  [Crime -- Psychological aspects -- Fiction, De...   \n",
       "22  [Epistolary fiction, Great Britain -- Fiction,...   \n",
       "23  [England -- Fiction, Impressment -- Fiction, P...   \n",
       "24  [Dracula, Count (Fictitious character) -- Fict...   \n",
       "25  [France -- History -- Louis XIV, 1643-1715 -- ...   \n",
       "26  [Composers -- Germany -- Biography, Wagner, Ri...   \n",
       "27  [British -- France -- Paris -- Fiction, Execut...   \n",
       "28  [Bildungsromans, Charity-schools -- Fiction, C...   \n",
       "29  [Philosophy, German, Superman (Philosophical c...   \n",
       "30  [Metamorphosis -- Fiction, Psychological fiction]   \n",
       "31  [Benefactors -- Fiction, Bildungsromans, Engla...   \n",
       "32  [Adventure stories, Bildungsromans, Boys -- Fi...   \n",
       "33  [Brothers -- Fiction, Didactic fiction, Father...   \n",
       "34  [Adultery -- Fiction, Boston (Mass.) -- Histor...   \n",
       "35  [Ireland -- Politics and government -- 18th ce...   \n",
       "36  [Political ethics -- Early works to 1800, Poli...   \n",
       "37  [Detective and mystery stories, English, Holme...   \n",
       "38  [Alienation (Social psychology) -- Fiction, Ar...   \n",
       "39  [Frankenstein's monster (Fictitious character)...   \n",
       "\n",
       "                                          bookshelves languages  copyright  \\\n",
       "0   [Browsing: Culture/Civilization/Society, Brows...      [en]      False   \n",
       "1   [Best Books Ever Listings, Browsing: Fiction, ...      [en]      False   \n",
       "2   [Browsing: Fiction, Browsing: Literature, Brow...      [en]      False   \n",
       "3   [Best Books Ever Listings, Browsing: Culture/C...      [en]      False   \n",
       "4   [Browsing: Children & Young Adult Reading, Bro...      [en]      False   \n",
       "5    [Browsing: Fiction, Browsing: Literature, Plays]      [en]      False   \n",
       "6   [Best Books Ever Listings, Browsing: Culture/C...      [en]      False   \n",
       "7   [Browsing: Culture/Civilization/Society, Brows...      [en]      False   \n",
       "8   [Browsing: Culture/Civilization/Society, Brows...      [en]      False   \n",
       "9   [Best Books Ever Listings, Browsing: Fiction, ...      [en]      False   \n",
       "10  [Browsing: Culture/Civilization/Society, Brows...      [en]      False   \n",
       "11  [Browsing: Culture/Civilization/Society, Brows...      [en]      False   \n",
       "12                      [Browsing: History - Warfare]      [en]      False   \n",
       "13  [Browsing: Fiction, Browsing: Psychiatry/Psych...      [en]      False   \n",
       "14  [Bestsellers, American, 1895-1923, Browsing: C...      [en]      False   \n",
       "15  [Browsing: Culture/Civilization/Society, Brows...      [en]      False   \n",
       "16  [Browsing: Fiction, Browsing: Literature, Brow...      [en]      False   \n",
       "17  [Browsing: Fiction, Browsing: Literature, Brow...      [en]      False   \n",
       "18  [Best Books Ever Listings, Browsing: Fiction, ...      [en]      False   \n",
       "19  [Browsing: Culture/Civilization/Society, Brows...      [en]      False   \n",
       "20  [Banned Books from Anne Haight's list, Best Bo...      [en]      False   \n",
       "21  [Best Books Ever Listings, Browsing: Crime/Mys...      [en]      False   \n",
       "22  [Best Books Ever Listings, Browsing: Fiction, ...      [en]      False   \n",
       "23  [Best Books Ever Listings, Browsing: Culture/C...      [en]      False   \n",
       "24  [Browsing: Fiction, Browsing: Literature, Brow...      [en]      False   \n",
       "25  [Adventure, Browsing: Culture/Civilization/Soc...      [en]      False   \n",
       "26           [Browsing: Biographies, Browsing: Music]      [en]      False   \n",
       "27  [Browsing: Fiction, Browsing: History - Britis...      [en]      False   \n",
       "28  [Browsing: Culture/Civilization/Society, Brows...      [en]      False   \n",
       "29  [Browsing: Philosophy & Ethics, Browsing: Psyc...      [en]      False   \n",
       "30  [Browsing: Fiction, Browsing: Literature, Brow...      [en]       True   \n",
       "31  [Best Books Ever Listings, Browsing: Fiction, ...      [en]      False   \n",
       "32  [Banned Books List from the American Library A...      [en]      False   \n",
       "33  [Best Books Ever Listings, Browsing: Culture/C...      [en]      False   \n",
       "34  [Banned Books from Anne Haight's list, Browsin...      [en]      False   \n",
       "35  [Browsing: Humour, Browsing: Literature, Brows...      [en]      False   \n",
       "36  [Banned Books from Anne Haight's list, Browsin...      [en]      False   \n",
       "37  [Banned Books from Anne Haight's list, Browsin...      [en]      False   \n",
       "38  [Banned Books List from the American Library A...      [en]      False   \n",
       "39  [Browsing: Fiction, Browsing: Gender & Sexuali...      [en]      False   \n",
       "\n",
       "   media_type                                            formats  \\\n",
       "0        Text  {'text/html': 'https://www.gutenberg.org/ebook...   \n",
       "1        Text  {'text/html': 'https://www.gutenberg.org/ebook...   \n",
       "2        Text  {'text/html': 'https://www.gutenberg.org/ebook...   \n",
       "3        Text  {'text/html': 'https://www.gutenberg.org/ebook...   \n",
       "4        Text  {'text/html': 'https://www.gutenberg.org/ebook...   \n",
       "5        Text  {'text/html': 'https://www.gutenberg.org/ebook...   \n",
       "6        Text  {'text/html': 'https://www.gutenberg.org/ebook...   \n",
       "7        Text  {'text/html': 'https://www.gutenberg.org/ebook...   \n",
       "8        Text  {'text/plain; charset=us-ascii': 'https://www....   \n",
       "9        Text  {'text/html': 'https://www.gutenberg.org/ebook...   \n",
       "10       Text  {'text/html': 'https://www.gutenberg.org/ebook...   \n",
       "11       Text  {'text/html': 'https://www.gutenberg.org/ebook...   \n",
       "12       Text  {'text/html': 'https://www.gutenberg.org/ebook...   \n",
       "13       Text  {'text/html': 'https://www.gutenberg.org/ebook...   \n",
       "14       Text  {'text/html': 'https://www.gutenberg.org/ebook...   \n",
       "15       Text  {'application/octet-stream': 'https://www.gute...   \n",
       "16       Text  {'text/html': 'https://www.gutenberg.org/ebook...   \n",
       "17       Text  {'text/html': 'https://www.gutenberg.org/ebook...   \n",
       "18       Text  {'text/html': 'https://www.gutenberg.org/ebook...   \n",
       "19       Text  {'text/html': 'https://www.gutenberg.org/ebook...   \n",
       "20       Text  {'text/html': 'https://www.gutenberg.org/ebook...   \n",
       "21       Text  {'text/html': 'https://www.gutenberg.org/ebook...   \n",
       "22       Text  {'text/html': 'https://www.gutenberg.org/ebook...   \n",
       "23       Text  {'text/html': 'https://www.gutenberg.org/ebook...   \n",
       "24       Text  {'text/html': 'https://www.gutenberg.org/ebook...   \n",
       "25       Text  {'text/html': 'https://www.gutenberg.org/ebook...   \n",
       "26       Text  {'text/html': 'https://www.gutenberg.org/ebook...   \n",
       "27       Text  {'text/html': 'https://www.gutenberg.org/ebook...   \n",
       "28       Text  {'text/html': 'https://www.gutenberg.org/ebook...   \n",
       "29       Text  {'text/html': 'https://www.gutenberg.org/ebook...   \n",
       "30       Text  {'text/html': 'https://www.gutenberg.org/ebook...   \n",
       "31       Text  {'text/html': 'https://www.gutenberg.org/ebook...   \n",
       "32       Text  {'text/html': 'https://www.gutenberg.org/ebook...   \n",
       "33       Text  {'text/html': 'https://www.gutenberg.org/ebook...   \n",
       "34       Text  {'text/html': 'https://www.gutenberg.org/ebook...   \n",
       "35       Text  {'text/html': 'https://www.gutenberg.org/ebook...   \n",
       "36       Text  {'text/html': 'https://www.gutenberg.org/ebook...   \n",
       "37       Text  {'text/html': 'https://www.gutenberg.org/ebook...   \n",
       "38       Text  {'text/html': 'https://www.gutenberg.org/ebook...   \n",
       "39       Text  {'text/html': 'https://www.gutenberg.org/ebook...   \n",
       "\n",
       "    download_count  \n",
       "0           117026  \n",
       "1            93457  \n",
       "2            56729  \n",
       "3            54851  \n",
       "4            47514  \n",
       "5            42209  \n",
       "6            40160  \n",
       "7            39430  \n",
       "8            39149  \n",
       "9            39082  \n",
       "10           38966  \n",
       "11           38071  \n",
       "12           36196  \n",
       "13           35263  \n",
       "14           35228  \n",
       "15           34644  \n",
       "16           34602  \n",
       "17           33948  \n",
       "18           31790  \n",
       "19           31362  \n",
       "20           30962  \n",
       "21           30716  \n",
       "22           30659  \n",
       "23           30484  \n",
       "24           30184  \n",
       "25           30152  \n",
       "26           29617  \n",
       "27           26383  \n",
       "28           24301  \n",
       "29           23968  \n",
       "30           23566  \n",
       "31           23190  \n",
       "32           22465  \n",
       "33           21131  \n",
       "34           20792  \n",
       "35           20742  \n",
       "36           20587  \n",
       "37           20565  \n",
       "38           20390  \n",
       "39           20310  "
      ]
     },
     "execution_count": 6,
     "metadata": {},
     "output_type": "execute_result"
    }
   ],
   "source": [
    "df = pd.concat(dfs)\n",
    "df.reset_index(inplace=True)\n",
    "df.head(40)"
   ]
  },
  {
   "cell_type": "markdown",
   "id": "8aa31d7a",
   "metadata": {},
   "source": [
    "No publication date. Can I use the title to try and look up publication year with another tool?"
   ]
  },
  {
   "cell_type": "code",
   "execution_count": 7,
   "id": "16908b5b",
   "metadata": {},
   "outputs": [
    {
     "data": {
      "text/plain": [
       "['\"Frankenstein; Or, The Modern Prometheus\" by Mary Wollstonecraft Shelley is a novel written in the early 19th century. The story explores themes of ambition, the quest for knowledge, and the consequences of man\\'s hubris through the experiences of Victor Frankenstein and the monstrous creation of his own making.   The opening of the book introduces Robert Walton, an ambitious explorer on a quest to discover new lands and knowledge in the icy regions of the Arctic. In his letters to his sister Margaret, he expresses both enthusiasm and the fear of isolation in his grand venture. As Walton\\'s expedition progresses, he encounters a mysterious, emaciated stranger who has faced great suffering—furthering the intrigue of his narrative. This stranger ultimately reveals his tale of creation, loss, and the profound consequences of seeking knowledge that lies beyond human bounds. The narrative is set up in a manner that suggests a deep examination of the emotions and ethical dilemmas faced by those who dare to defy the natural order. (This is an automatically generated summary.)']"
      ]
     },
     "execution_count": 7,
     "metadata": {},
     "output_type": "execute_result"
    }
   ],
   "source": [
    "df.summaries.iloc[0]"
   ]
  },
  {
   "cell_type": "code",
   "execution_count": 8,
   "id": "78d15cf9",
   "metadata": {},
   "outputs": [],
   "source": [
    "import plotly.express as px\n",
    "import plotly.io as pio\n",
    "import plotly.graph_objects as go"
   ]
  },
  {
   "cell_type": "code",
   "execution_count": 9,
   "id": "a0e9e720",
   "metadata": {},
   "outputs": [
    {
     "data": {
      "application/vnd.plotly.v1+json": {
       "config": {
        "plotlyServerURL": "https://plot.ly"
       },
       "data": [
        {
         "hovertemplate": "<b>%{hovertext}</b><br><br>_index=%{x}<br>download_count=%{y}<extra></extra>",
         "hovertext": [
          "Frankenstein; Or, The Modern Prometheus",
          "Moby Dick; Or, The Whale",
          "Romeo and Juliet",
          "Pride and Prejudice",
          "Alice's Adventures in Wonderland",
          "The Complete Works of William Shakespeare",
          "Middlemarch",
          "A Room with a View",
          "The Great Gatsby",
          "A Doll's House : a play",
          "Bleak House",
          "Little Women; Or, Meg, Jo, Beth, and Amy",
          "Simple Sabotage Field Manual",
          "The Strange Case of Dr. Jekyll and Mr. Hyde",
          "The Enchanted April",
          "The Blue Castle: a novel",
          "The Importance of Being Earnest: A Trivial Comedy for Serious People",
          "The Picture of Dorian Gray",
          "The Adventures of Ferdinand Count Fathom — Complete",
          "Cranford",
          "History of Tom Jones, a Foundling",
          "Crime and Punishment",
          "The Expedition of Humphry Clinker",
          "The Adventures of Roderick Random",
          "Dracula",
          "Twenty years after",
          "My Life — Volume 1",
          "A Tale of Two Cities",
          "Jane Eyre: An Autobiography",
          "Thus Spake Zarathustra: A Book for All and None",
          "Metamorphosis",
          "Great Expectations",
          "Adventures of Huckleberry Finn",
          "The Brothers Karamazov",
          "The Scarlet Letter",
          "A Modest Proposal: For preventing the children of poor people in Ireland, from being a burden on their parents or country, and for making them beneficial to the publick",
          "The Prince",
          "The Adventures of Sherlock Holmes",
          "Ulysses",
          "Frankenstein; Or, The Modern Prometheus",
          "Anne of Green Gables",
          "The Adventures of Tom Sawyer, Complete",
          "Beyond Good and Evil",
          "Beowulf: An Anglo-Saxon Epic Poem",
          "Grimms' Fairy Tales",
          "The Yellow Wallpaper",
          "The Confessions of St. Augustine",
          "The Count of Monte Cristo",
          "Leviathan",
          "War and Peace",
          "Don Quijote",
          "Moby Word Lists",
          "The Iliad",
          "On Liberty",
          "Heart of Darkness",
          "White Nights and Other Stories: The Novels of Fyodor Dostoevsky, Volume X",
          "Wuthering Heights",
          "Walden, and On The Duty Of Civil Disobedience",
          "A Christmas Carol in Prose; Being a Ghost Story of Christmas",
          "The Souls of Black Folk",
          "The divine comedy",
          "Second Treatise of Government",
          "The Odyssey: Rendered into English prose for the use of those who cannot read the original",
          "Les Misérables",
          "Du côté de chez Swann",
          "The Republic",
          "The King in Yellow",
          "The Romance of Lust: A classic Victorian erotic novel",
          "A Study in Scarlet",
          "The Philippines a Century Hence",
          "Spoon River Anthology",
          "The Hound of the Baskervilles",
          "The Wonderful Wizard of Oz",
          "Oliver Twist",
          "The Kama Sutra of Vatsyayana: Translated From the Sanscrit in Seven Parts With Preface, Introduction and Concluding Remarks",
          "Little Women",
          "The Works of Edgar Allan Poe — Volume 2",
          "Dubliners",
          "Anna Karenina",
          "Meditations",
          "Treasure Island",
          "Gulliver's Travels into Several Remote Nations of the World",
          "The Prophet",
          "Josefine Mutzenbacher: oder Die Geschichte einer Wienerischen Dirne von ihr selbst erzählt",
          "Novo dicionário da língua portuguesa",
          "Emma",
          "Don Quixote",
          "The Tragical History of Doctor Faustus: From the Quarto of 1604",
          "Le Morte d'Arthur: Volume 1",
          "Moby Multiple Language Lists of Common Words",
          "The Legend of Sleepy Hollow",
          "The lesser Key of Solomon, Goetia, the book of evil spirits : $b contains two hundred diagrams and seals for invocation and convocation of spirits, necromancy, witchcraft and black art",
          "Tess of the d'Urbervilles: A Pure Woman",
          "Carmilla",
          "Peter Pan",
          "The Reign of Greed",
          "Notes from the Underground",
          "Sense and Sensibility",
          "Hard Times",
          "The Art of War",
          "The Critique of Pure Reason",
          "The History of the Peloponnesian War",
          "The Secret Garden",
          "Hamlet, Prince of Denmark",
          "Winnie-the-Pooh",
          "Calculus Made Easy: Being a very-simplest introduction to those beautiful methods which are generally called by the terrifying names of the Differential Calculus and the Integral Calculus",
          "Noli Me Tangere",
          "The War of the Worlds",
          "Riders to the Sea",
          "Oedipus King of Thebes: Translated into English Rhyming Verse with Explanatory Notes",
          "Candide",
          "A Portrait of the Artist as a Young Man",
          "The Mahabharata of Krishna-Dwaipayana Vyasa, Volume 1: Books 1, 2 and 3",
          "Antiquities of the Jews",
          "The Metamorphoses of Ovid, Books I-VII",
          "Helps to Latin Translation at Sight",
          "The Genealogy of Morals: The Complete Works, Volume Thirteen, edited by Dr. Oscar Levy.",
          "An Essay Concerning Humane Understanding, Volume 1: MDCXC, Based on the 2nd Edition, Books 1 and 2",
          "The Ethics of Aristotle",
          "Tractatus Logico-Philosophicus",
          "Through the Looking-Glass",
          "Persuasion",
          "Pygmalion",
          "Macbeth",
          "On the Origin of Species By Means of Natural Selection: Or, the Preservation of Favoured Races in the Struggle for Life",
          "Plays",
          "The Life and Adventures of Robinson Crusoe",
          "The Decameron of Giovanni Boccaccio",
          "The Problems of Philosophy",
          "Faust [part 1]. Translated Into English in the Original Metres",
          "Symposium",
          "An Inquiry into the Nature and Causes of the Wealth of Nations",
          "Narrative of the Life of Frederick Douglass, an American Slave",
          "A Complete Dictionary of Synonyms and Antonyms: or, Synonyms and Words of Opposite Meaning",
          "Rip Van Winkle",
          "Paradise Lost",
          "Complete Original Short Stories of Guy De Maupassant",
          "Spenser's The Faerie Queene, Book I",
          "The Time Machine",
          "Pascal's Pensées",
          "The First Book of Adam and Eve",
          "On War",
          "Madame Bovary",
          "The Interesting Narrative of the Life of Olaudah Equiano, Or Gustavus Vassa, The African: Written By Himself",
          "The King James Version of the Bible",
          "David Copperfield",
          "Aesop's Fables; a new translation",
          "Don Juan",
          "Democracy in America — Volume 1",
          "Ethics",
          "Frankenstein; Or, The Modern Prometheus",
          "Twenty Thousand Leagues under the Sea",
          "How the Other Half Lives: Studies Among the Tenements of New York",
          "Uncle Tom's Cabin",
          "The murder of Roger Ackroyd",
          "Les misérables Tome I: Fantine",
          "The Sign of the Four",
          "The Jungle Book",
          "Songs of Innocence and of Experience",
          "The Tempest: The Works of William Shakespeare [Cambridge Edition] [9 vols.]",
          "The Twilight of the Idols; or, How to Philosophize with the Hammer. The Antichrist: Complete Works, Volume Sixteen",
          "The Elements of Style",
          "Memoirs of Fanny Hill: A New and Genuine Edition from the Original Text (London, 1749)",
          "Three Men in a Boat (To Say Nothing of the Dog)",
          "Childe Harold's Pilgrimage",
          "The Secret Garden",
          "Essays of Michel de Montaigne — Complete",
          "The Birth of Tragedy; or, Hellenism and Pessimism",
          "A Midsummer Night's Dream",
          "Autobiography of Benjamin Franklin",
          "The call of the wild",
          "Struwwelpeter: Merry Stories and Funny Pictures",
          "The Rámáyan of Válmíki, translated into English verse",
          "Northanger Abbey",
          "Around the World in Eighty Days",
          "Eve's Diary, Complete",
          "The Anabasis of Alexander : $b or, The history of the wars and conquests of Alexander the Great",
          "Perpetual Peace: A Philosophical Essay",
          "De Profundis",
          "An Enquiry Concerning Human Understanding",
          "The Prince and the Pauper",
          "Leaves of Grass",
          "The Thousand and One Nights, Vol. I.: Commonly Called the Arabian Nights' Entertainments",
          "La Odisea",
          "The Ladies' Book of Etiquette, and Manual of Politeness: A Complete Hand Book for the Use of the Lady in Polite Society",
          "Omens and Superstitions of Southern India",
          "雲形紋章",
          "The History of Herodotus — Volume 1",
          "Fifteen Thousand Useful Phrases",
          "A Pickle for the Knowing Ones",
          "The Elementary Forms of the Religious Life",
          "Cookery and Dining in Imperial Rome",
          "Lysistrata",
          "The Marriage of Heaven and Hell",
          "Poems by Emily Dickinson, Three Series, Complete",
          "The Communist Manifesto",
          "The Sorrows of Young Werther",
          "The Egyptian Book of the dead",
          "The Antichrist",
          "Cyrano de Bergerac",
          "The Federalist Papers",
          "Language of Flowers",
          "裁判",
          "The History of the Decline and Fall of the Roman Empire: Table of Contents with links in the HTML file to the two Project Gutenberg editions (12 volumes)",
          "The Song Celestial; Or, Bhagavad-Gîtâ (from the Mahâbhârata): Being a discourse between Arjuna, Prince of India, and the Supreme Being under the form of Krishna",
          "灵历集光",
          "The Turn of the Screw",
          "The Tale of Peter Rabbit",
          "Project Gutenberg Compilation of Short Stories by Chekhov",
          "The Rape of the Lock, and Other Poems",
          "Siddhartha",
          "The Innocents Abroad",
          "Project Gutenberg \"10K\" DVD",
          "The Travels of Marco Polo — Volume 1",
          "The Idiot",
          "The Awakening, and Selected Short Stories",
          "Hamlet, Prince of Denmark",
          "Know the Truth: A Critique on the Hamiltonian Theory of Limitation: Including Some Strictures Upon the Theories of Rev. Henry L. Mansel and Mr. Herbert Spencer",
          "The Gay Cockade",
          "Divine Comedy, Longfellow's Translation, Hell",
          "The Happy Prince, and Other Tales",
          "Les mille et une nuits, tome premier",
          "Mrs. Dalloway",
          "R.U.R. (Rossum's Universal Robots): A Fantastic Melodrama in Three Acts and an Epilogue",
          "Ethan Frome",
          "The Red Badge of Courage: An Episode of the American Civil War",
          "Ang \"Filibusterismo\" (Karugtóng ng Noli Me Tangere)",
          "Hedda Gabler",
          "The Lives of the Twelve Caesars, Complete",
          "Essays by Ralph Waldo Emerson",
          "The government of the Ottoman Empire in the time of Suleiman the Magnificent",
          "El paraíso perdido",
          "Mansfield Park",
          "Project Gutenberg DVD: The July 2006 Special",
          "The Lady with the Dog and Other Stories",
          "2 B R 0 2 B",
          "Myths and Legends of Ancient Greece and Rome",
          "The Consolation of Philosophy",
          "Magic: A Fantastic Comedy",
          "Mary Olivier: a Life",
          "The Jewish State",
          "Phaedrus",
          "The Wars of the Jews; Or, The History of the Destruction of Jerusalem",
          "Anabasis",
          "Notre-Dame de Paris",
          "The Invisible Man: A Grotesque Romance",
          "The Flowers of Evil",
          "Poems, with The Ballad of Reading Gaol",
          "Discourse on the Method of Rightly Conducting One's Reason and of Seeking Truth in the Sciences",
          "A Complete Guide to Heraldry",
          "The Sea-Gull",
          "The Tenniel Illustrations for Carroll's Alice in Wonderland",
          "Othello, the Moor of Venice",
          "White Fang",
          "Notre-Dame de Paris - Tome 1",
          "Common Sense",
          "The City of God, Volume I",
          "Poems and Songs of Robert Burns",
          "This Side of Paradise",
          "The Jungle",
          "The Doré Bible Gallery, Complete: Containing One Hundred Superb Illustrations, and a Page of Explanatory Letter-press Facing Each",
          "The Lady of the Lake",
          "The Works of Edgar Allan Poe — Volume 1",
          "Anthem",
          "The History of Don Quixote, Volume 1, Complete",
          "Bartleby, the Scrivener: A Story of Wall-Street",
          "Roget's Thesaurus of English Words and Phrases",
          "Life on the Mississippi",
          "斬鬼傳",
          "The Federalist Papers",
          "A Dictionary of Cebuano Visayan",
          "We",
          "The Vampyre; a Tale",
          "On Heroes, Hero-Worship, and the Heroic in History",
          "The Iliad",
          "The Divine Comedy of Dante Alighieri: The Inferno",
          "The slang dictionary : $b Etymological, historical and anecdotal",
          "The Enchiridion",
          "Vanity Fair",
          "Democracy in America — Volume 2",
          "Just so stories",
          "Three Hundred Tang Poems, Volume 1",
          "Anne of the Island",
          "The Duchess of Malfi",
          "The Aeneid",
          "Revelations of Divine Love",
          "A Christmas Carol",
          "The three musketeers",
          "Human, All Too Human: A Book for Free Spirits",
          "Fairy Tales of Hans Christian Andersen",
          "The Phantom of the Opera",
          "A Journey to the Centre of the Earth",
          "The Mysterious Affair at Styles",
          "A Connecticut Yankee in King Arthur's Court",
          "Black Beauty",
          "In Praise of Folly: Illustrated with Many Curious Cuts",
          "The Will to Believe, and Other Essays in Popular Philosophy",
          "Incidents in the Life of a Slave Girl, Written by Herself",
          "Philippine Folk Tales",
          "A Concise Dictionary of Middle English from A.D. 1150 to 1580",
          "A Dictionary of Slang, Cant, and Vulgar Words: Used at the Present Day in the Streets of London; the Universities of Oxford and Cambridge; the Houses of Parliament; the Dens of St. Giles; and the Palaces of St. James.",
          "Mi Ultimo Adiós",
          "Ecce Homo: Complete Works, Volume Seventeen",
          "The Social Contract & Discourses",
          "A Little Princess: Being the whole story of Sara Crewe now told for the first time",
          "An Occurrence at Owl Creek Bridge",
          "Emma",
          "A History of the Philippines",
          "Poems",
          "The Devil's Dictionary",
          "Shakespearean Tragedy: Lectures on Hamlet, Othello, King Lear, Macbeth",
          "Bede's Ecclesiastical History of England",
          "The Poetics of Aristotle",
          "Personal Memoirs of U. S. Grant, Complete",
          "The Spy",
          "Myths of the Cherokee: Extract from the Nineteenth Annual Report of the Bureau of American Ethnology",
          "The Republic of Plato",
          "Daredevil",
          "A passage to India",
          "Mystics of the Renaissance and their relation to modern thought, including Meister Eckhart, Tauler, Paracelsus, Jacob Boehme, Giordano Bruno, and others"
         ],
         "legendgroup": "",
         "marker": {
          "color": "#636efa",
          "symbol": "circle"
         },
         "mode": "markers",
         "name": "",
         "orientation": "v",
         "showlegend": false,
         "type": "scatter",
         "x": {
          "bdata": "AAABAAIAAwAEAAUABgAHAAgACQAKAAsADAANAA4ADwAQABEAEgATABQAFQAWABcAGAAZABoAGwAcAB0AHgAfACAAIQAiACMAJAAlACYAJwAoACkAKgArACwALQAuAC8AMAAxADIAMwA0ADUANgA3ADgAOQA6ADsAPAA9AD4APwBAAEEAQgBDAEQARQBGAEcASABJAEoASwBMAE0ATgBPAFAAUQBSAFMAVABVAFYAVwBYAFkAWgBbAFwAXQBeAF8AYABhAGIAYwBkAGUAZgBnAGgAaQBqAGsAbABtAG4AbwBwAHEAcgBzAHQAdQB2AHcAeAB5AHoAewB8AH0AfgB/AIAAgQCCAIMAhACFAIYAhwCIAIkAigCLAIwAjQCOAI8AkACRAJIAkwCUAJUAlgCXAJgAmQCaAJsAnACdAJ4AnwCgAKEAogCjAKQApQCmAKcAqACpAKoAqwCsAK0ArgCvALAAsQCyALMAtAC1ALYAtwC4ALkAugC7ALwAvQC+AL8AwADBAMIAwwDEAMUAxgDHAMgAyQDKAMsAzADNAM4AzwDQANEA0gDTANQA1QDWANcA2ADZANoA2wDcAN0A3gDfAOAA4QDiAOMA5ADlAOYA5wDoAOkA6gDrAOwA7QDuAO8A8ADxAPIA8wD0APUA9gD3APgA+QD6APsA/AD9AP4A/wAAAQEBAgEDAQQBBQEGAQcBCAEJAQoBCwEMAQ0BDgEPARABEQESARMBFAEVARYBFwEYARkBGgEbARwBHQEeAR8BIAEhASIBIwEkASUBJgEnASgBKQEqASsBLAEtAS4BLwEwATEBMgEzATQBNQE2ATcBOAE5AToBOwE8AT0BPgE/AQ==",
          "dtype": "i2"
         },
         "xaxis": "x",
         "y": {
          "bdata": "IskBABFtAQCZ3QAAQ9YAAJq5AADhpAAA4JwAAAaaAADtmAAAqpgAADaYAAC3lAAAZI0AAL+JAACciQAAVIcAACqHAACchAAALnwAAIJ6AADyeAAA/HcAAMN3AAAUdwAA6HUAAMh1AACxcwAAD2cAAO1eAACgXQAADlwAAJZaAADBVwAAi1IAADhRAAAGUQAAa1AAAFVQAACmTwAAVk8AAFNNAAC2RwAATkYAAA5GAABqRQAA2EQAAIBEAABlRAAA0UMAAP1BAAB7QAAA+z8AABo/AADoPgAAeD4AAAI+AACGPQAAPz0AAPQ8AADYOwAA0DoAACk5AACJOAAA3TUAACQ0AAAaNAAAVTMAAMgyAADUMQAAMTAAAM0vAAAJLwAAMS4AAMYtAAAlLQAAuywAACQsAAAYLAAA9ysAAGgrAABHKwAAGCoAAIgpAACGKQAARCkAAA4pAAC5JgAAhyYAAFkmAAAlJgAAEiYAAGwlAAAiJQAAjyQAAGMkAABgJAAAPSQAADckAAAdJAAAYSMAAEcjAAA2IwAA2iIAAIMiAABzIgAAciIAAGIiAAA9IgAA7SEAAK4hAACBIQAAfyEAAOcgAACyIAAArSAAAKIgAACAIAAACyAAAPkfAACwHwAALR8AAIweAAAhHgAAHh4AAAkeAADpHQAAdB0AAGYdAADsHAAA5RwAAHUcAABnHAAAVRwAAEEcAAAsHAAAERwAAAkcAABmGwAAHRsAAAAbAADbGgAAzxoAAL0aAAC3GgAAoxoAAIwaAAAXGgAABBoAALgZAACsGQAAnxkAAJUZAACKGQAAeBkAAEQZAAA8GQAAIxkAAO8YAAAYGAAA9hcAAOAXAADZFwAA0hcAAGcXAABfFwAAXBcAAEoXAABHFwAAPhcAADwXAAAVFwAAChcAAAEXAADgFgAA1hYAAL8WAABdFgAAKxYAABcWAAAJFgAA/BUAAOkVAADfFQAAyxUAAMIVAACBFQAAcBUAAG0VAABrFQAAYxUAAF0VAABQFQAAFBUAABIVAADoFAAAtxQAALMUAACvFAAApBQAAJkUAACOFAAAiRQAAH4UAABzFAAAXhQAAFQUAABSFAAAThQAAC8UAAAiFAAABxQAAAAUAADrEwAA5hMAAN0TAACSEwAAgBMAAHATAABSEwAARRMAADkTAAAoEwAAGBMAAA4TAAACEwAA7xIAAKUSAACiEgAAmRIAAIgSAACIEgAAdxIAAHcSAAByEgAAZBIAADQSAAAtEgAAJhIAAAsSAAAFEgAA+REAAPERAADgEQAAwhEAALoRAACAEQAAehEAAGERAABcEQAAVREAAFERAABJEQAAJBEAABsRAAD8EAAA7RAAAOwQAADrEAAA0BAAAM4QAADCEAAAwBAAAL8QAAC3EAAArxAAAJ8QAACSEAAAcxAAAFwQAABSEAAATRAAAD0QAAA4EAAAMBAAAB0QAAAWEAAACRAAAPYPAADvDwAAxw8AAL4PAACsDwAApA8AAI8PAACHDwAAfQ8AAHcPAABzDwAAPA8AADMPAAArDwAAIw8AACMPAAAbDwAAGQ8AABgPAAANDwAACg8AAAQPAAACDwAA+w4AAPkOAADxDgAA7Q4AAOgOAADNDgAAyw4AAJgOAACXDgAAlg4AAJUOAACQDgAAhg4AAHwOAAB4DgAAcg4AAG8OAABjDgAAYg4AAFYOAAA=",
          "dtype": "i4"
         },
         "yaxis": "y"
        }
       ],
       "layout": {
        "legend": {
         "tracegroupgap": 0
        },
        "margin": {
         "t": 60
        },
        "template": {
         "data": {
          "bar": [
           {
            "error_x": {
             "color": "#2a3f5f"
            },
            "error_y": {
             "color": "#2a3f5f"
            },
            "marker": {
             "line": {
              "color": "#E5ECF6",
              "width": 0.5
             },
             "pattern": {
              "fillmode": "overlay",
              "size": 10,
              "solidity": 0.2
             }
            },
            "type": "bar"
           }
          ],
          "barpolar": [
           {
            "marker": {
             "line": {
              "color": "#E5ECF6",
              "width": 0.5
             },
             "pattern": {
              "fillmode": "overlay",
              "size": 10,
              "solidity": 0.2
             }
            },
            "type": "barpolar"
           }
          ],
          "carpet": [
           {
            "aaxis": {
             "endlinecolor": "#2a3f5f",
             "gridcolor": "white",
             "linecolor": "white",
             "minorgridcolor": "white",
             "startlinecolor": "#2a3f5f"
            },
            "baxis": {
             "endlinecolor": "#2a3f5f",
             "gridcolor": "white",
             "linecolor": "white",
             "minorgridcolor": "white",
             "startlinecolor": "#2a3f5f"
            },
            "type": "carpet"
           }
          ],
          "choropleth": [
           {
            "colorbar": {
             "outlinewidth": 0,
             "ticks": ""
            },
            "type": "choropleth"
           }
          ],
          "contour": [
           {
            "colorbar": {
             "outlinewidth": 0,
             "ticks": ""
            },
            "colorscale": [
             [
              0,
              "#0d0887"
             ],
             [
              0.1111111111111111,
              "#46039f"
             ],
             [
              0.2222222222222222,
              "#7201a8"
             ],
             [
              0.3333333333333333,
              "#9c179e"
             ],
             [
              0.4444444444444444,
              "#bd3786"
             ],
             [
              0.5555555555555556,
              "#d8576b"
             ],
             [
              0.6666666666666666,
              "#ed7953"
             ],
             [
              0.7777777777777778,
              "#fb9f3a"
             ],
             [
              0.8888888888888888,
              "#fdca26"
             ],
             [
              1,
              "#f0f921"
             ]
            ],
            "type": "contour"
           }
          ],
          "contourcarpet": [
           {
            "colorbar": {
             "outlinewidth": 0,
             "ticks": ""
            },
            "type": "contourcarpet"
           }
          ],
          "heatmap": [
           {
            "colorbar": {
             "outlinewidth": 0,
             "ticks": ""
            },
            "colorscale": [
             [
              0,
              "#0d0887"
             ],
             [
              0.1111111111111111,
              "#46039f"
             ],
             [
              0.2222222222222222,
              "#7201a8"
             ],
             [
              0.3333333333333333,
              "#9c179e"
             ],
             [
              0.4444444444444444,
              "#bd3786"
             ],
             [
              0.5555555555555556,
              "#d8576b"
             ],
             [
              0.6666666666666666,
              "#ed7953"
             ],
             [
              0.7777777777777778,
              "#fb9f3a"
             ],
             [
              0.8888888888888888,
              "#fdca26"
             ],
             [
              1,
              "#f0f921"
             ]
            ],
            "type": "heatmap"
           }
          ],
          "histogram": [
           {
            "marker": {
             "pattern": {
              "fillmode": "overlay",
              "size": 10,
              "solidity": 0.2
             }
            },
            "type": "histogram"
           }
          ],
          "histogram2d": [
           {
            "colorbar": {
             "outlinewidth": 0,
             "ticks": ""
            },
            "colorscale": [
             [
              0,
              "#0d0887"
             ],
             [
              0.1111111111111111,
              "#46039f"
             ],
             [
              0.2222222222222222,
              "#7201a8"
             ],
             [
              0.3333333333333333,
              "#9c179e"
             ],
             [
              0.4444444444444444,
              "#bd3786"
             ],
             [
              0.5555555555555556,
              "#d8576b"
             ],
             [
              0.6666666666666666,
              "#ed7953"
             ],
             [
              0.7777777777777778,
              "#fb9f3a"
             ],
             [
              0.8888888888888888,
              "#fdca26"
             ],
             [
              1,
              "#f0f921"
             ]
            ],
            "type": "histogram2d"
           }
          ],
          "histogram2dcontour": [
           {
            "colorbar": {
             "outlinewidth": 0,
             "ticks": ""
            },
            "colorscale": [
             [
              0,
              "#0d0887"
             ],
             [
              0.1111111111111111,
              "#46039f"
             ],
             [
              0.2222222222222222,
              "#7201a8"
             ],
             [
              0.3333333333333333,
              "#9c179e"
             ],
             [
              0.4444444444444444,
              "#bd3786"
             ],
             [
              0.5555555555555556,
              "#d8576b"
             ],
             [
              0.6666666666666666,
              "#ed7953"
             ],
             [
              0.7777777777777778,
              "#fb9f3a"
             ],
             [
              0.8888888888888888,
              "#fdca26"
             ],
             [
              1,
              "#f0f921"
             ]
            ],
            "type": "histogram2dcontour"
           }
          ],
          "mesh3d": [
           {
            "colorbar": {
             "outlinewidth": 0,
             "ticks": ""
            },
            "type": "mesh3d"
           }
          ],
          "parcoords": [
           {
            "line": {
             "colorbar": {
              "outlinewidth": 0,
              "ticks": ""
             }
            },
            "type": "parcoords"
           }
          ],
          "pie": [
           {
            "automargin": true,
            "type": "pie"
           }
          ],
          "scatter": [
           {
            "fillpattern": {
             "fillmode": "overlay",
             "size": 10,
             "solidity": 0.2
            },
            "type": "scatter"
           }
          ],
          "scatter3d": [
           {
            "line": {
             "colorbar": {
              "outlinewidth": 0,
              "ticks": ""
             }
            },
            "marker": {
             "colorbar": {
              "outlinewidth": 0,
              "ticks": ""
             }
            },
            "type": "scatter3d"
           }
          ],
          "scattercarpet": [
           {
            "marker": {
             "colorbar": {
              "outlinewidth": 0,
              "ticks": ""
             }
            },
            "type": "scattercarpet"
           }
          ],
          "scattergeo": [
           {
            "marker": {
             "colorbar": {
              "outlinewidth": 0,
              "ticks": ""
             }
            },
            "type": "scattergeo"
           }
          ],
          "scattergl": [
           {
            "marker": {
             "colorbar": {
              "outlinewidth": 0,
              "ticks": ""
             }
            },
            "type": "scattergl"
           }
          ],
          "scattermap": [
           {
            "marker": {
             "colorbar": {
              "outlinewidth": 0,
              "ticks": ""
             }
            },
            "type": "scattermap"
           }
          ],
          "scattermapbox": [
           {
            "marker": {
             "colorbar": {
              "outlinewidth": 0,
              "ticks": ""
             }
            },
            "type": "scattermapbox"
           }
          ],
          "scatterpolar": [
           {
            "marker": {
             "colorbar": {
              "outlinewidth": 0,
              "ticks": ""
             }
            },
            "type": "scatterpolar"
           }
          ],
          "scatterpolargl": [
           {
            "marker": {
             "colorbar": {
              "outlinewidth": 0,
              "ticks": ""
             }
            },
            "type": "scatterpolargl"
           }
          ],
          "scatterternary": [
           {
            "marker": {
             "colorbar": {
              "outlinewidth": 0,
              "ticks": ""
             }
            },
            "type": "scatterternary"
           }
          ],
          "surface": [
           {
            "colorbar": {
             "outlinewidth": 0,
             "ticks": ""
            },
            "colorscale": [
             [
              0,
              "#0d0887"
             ],
             [
              0.1111111111111111,
              "#46039f"
             ],
             [
              0.2222222222222222,
              "#7201a8"
             ],
             [
              0.3333333333333333,
              "#9c179e"
             ],
             [
              0.4444444444444444,
              "#bd3786"
             ],
             [
              0.5555555555555556,
              "#d8576b"
             ],
             [
              0.6666666666666666,
              "#ed7953"
             ],
             [
              0.7777777777777778,
              "#fb9f3a"
             ],
             [
              0.8888888888888888,
              "#fdca26"
             ],
             [
              1,
              "#f0f921"
             ]
            ],
            "type": "surface"
           }
          ],
          "table": [
           {
            "cells": {
             "fill": {
              "color": "#EBF0F8"
             },
             "line": {
              "color": "white"
             }
            },
            "header": {
             "fill": {
              "color": "#C8D4E3"
             },
             "line": {
              "color": "white"
             }
            },
            "type": "table"
           }
          ]
         },
         "layout": {
          "annotationdefaults": {
           "arrowcolor": "#2a3f5f",
           "arrowhead": 0,
           "arrowwidth": 1
          },
          "autotypenumbers": "strict",
          "coloraxis": {
           "colorbar": {
            "outlinewidth": 0,
            "ticks": ""
           }
          },
          "colorscale": {
           "diverging": [
            [
             0,
             "#8e0152"
            ],
            [
             0.1,
             "#c51b7d"
            ],
            [
             0.2,
             "#de77ae"
            ],
            [
             0.3,
             "#f1b6da"
            ],
            [
             0.4,
             "#fde0ef"
            ],
            [
             0.5,
             "#f7f7f7"
            ],
            [
             0.6,
             "#e6f5d0"
            ],
            [
             0.7,
             "#b8e186"
            ],
            [
             0.8,
             "#7fbc41"
            ],
            [
             0.9,
             "#4d9221"
            ],
            [
             1,
             "#276419"
            ]
           ],
           "sequential": [
            [
             0,
             "#0d0887"
            ],
            [
             0.1111111111111111,
             "#46039f"
            ],
            [
             0.2222222222222222,
             "#7201a8"
            ],
            [
             0.3333333333333333,
             "#9c179e"
            ],
            [
             0.4444444444444444,
             "#bd3786"
            ],
            [
             0.5555555555555556,
             "#d8576b"
            ],
            [
             0.6666666666666666,
             "#ed7953"
            ],
            [
             0.7777777777777778,
             "#fb9f3a"
            ],
            [
             0.8888888888888888,
             "#fdca26"
            ],
            [
             1,
             "#f0f921"
            ]
           ],
           "sequentialminus": [
            [
             0,
             "#0d0887"
            ],
            [
             0.1111111111111111,
             "#46039f"
            ],
            [
             0.2222222222222222,
             "#7201a8"
            ],
            [
             0.3333333333333333,
             "#9c179e"
            ],
            [
             0.4444444444444444,
             "#bd3786"
            ],
            [
             0.5555555555555556,
             "#d8576b"
            ],
            [
             0.6666666666666666,
             "#ed7953"
            ],
            [
             0.7777777777777778,
             "#fb9f3a"
            ],
            [
             0.8888888888888888,
             "#fdca26"
            ],
            [
             1,
             "#f0f921"
            ]
           ]
          },
          "colorway": [
           "#636efa",
           "#EF553B",
           "#00cc96",
           "#ab63fa",
           "#FFA15A",
           "#19d3f3",
           "#FF6692",
           "#B6E880",
           "#FF97FF",
           "#FECB52"
          ],
          "font": {
           "color": "#2a3f5f"
          },
          "geo": {
           "bgcolor": "white",
           "lakecolor": "white",
           "landcolor": "#E5ECF6",
           "showlakes": true,
           "showland": true,
           "subunitcolor": "white"
          },
          "hoverlabel": {
           "align": "left"
          },
          "hovermode": "closest",
          "mapbox": {
           "style": "light"
          },
          "paper_bgcolor": "white",
          "plot_bgcolor": "#E5ECF6",
          "polar": {
           "angularaxis": {
            "gridcolor": "white",
            "linecolor": "white",
            "ticks": ""
           },
           "bgcolor": "#E5ECF6",
           "radialaxis": {
            "gridcolor": "white",
            "linecolor": "white",
            "ticks": ""
           }
          },
          "scene": {
           "xaxis": {
            "backgroundcolor": "#E5ECF6",
            "gridcolor": "white",
            "gridwidth": 2,
            "linecolor": "white",
            "showbackground": true,
            "ticks": "",
            "zerolinecolor": "white"
           },
           "yaxis": {
            "backgroundcolor": "#E5ECF6",
            "gridcolor": "white",
            "gridwidth": 2,
            "linecolor": "white",
            "showbackground": true,
            "ticks": "",
            "zerolinecolor": "white"
           },
           "zaxis": {
            "backgroundcolor": "#E5ECF6",
            "gridcolor": "white",
            "gridwidth": 2,
            "linecolor": "white",
            "showbackground": true,
            "ticks": "",
            "zerolinecolor": "white"
           }
          },
          "shapedefaults": {
           "line": {
            "color": "#2a3f5f"
           }
          },
          "ternary": {
           "aaxis": {
            "gridcolor": "white",
            "linecolor": "white",
            "ticks": ""
           },
           "baxis": {
            "gridcolor": "white",
            "linecolor": "white",
            "ticks": ""
           },
           "bgcolor": "#E5ECF6",
           "caxis": {
            "gridcolor": "white",
            "linecolor": "white",
            "ticks": ""
           }
          },
          "title": {
           "x": 0.05
          },
          "xaxis": {
           "automargin": true,
           "gridcolor": "white",
           "linecolor": "white",
           "ticks": "",
           "title": {
            "standoff": 15
           },
           "zerolinecolor": "white",
           "zerolinewidth": 2
          },
          "yaxis": {
           "automargin": true,
           "gridcolor": "white",
           "linecolor": "white",
           "ticks": "",
           "title": {
            "standoff": 15
           },
           "zerolinecolor": "white",
           "zerolinewidth": 2
          }
         }
        },
        "xaxis": {
         "anchor": "y",
         "domain": [
          0,
          1
         ],
         "title": {
          "text": "_index"
         }
        },
        "yaxis": {
         "anchor": "x",
         "domain": [
          0,
          1
         ],
         "title": {
          "text": "download_count"
         }
        }
       }
      }
     },
     "metadata": {},
     "output_type": "display_data"
    }
   ],
   "source": [
    "fig = px.scatter(df, x=df.index, y ='download_count', hover_name='title')\n",
    "fig.show()"
   ]
  },
  {
   "cell_type": "code",
   "execution_count": 10,
   "id": "306a456f",
   "metadata": {},
   "outputs": [
    {
     "data": {
      "application/vnd.plotly.v1+json": {
       "config": {
        "plotlyServerURL": "https://plot.ly"
       },
       "data": [
        {
         "hovertemplate": "title=%{x}<br>download_count=%{y}<extra></extra>",
         "legendgroup": "",
         "marker": {
          "color": "#636efa",
          "pattern": {
           "shape": ""
          }
         },
         "name": "",
         "orientation": "v",
         "showlegend": false,
         "textposition": "auto",
         "type": "bar",
         "x": [
          "Frankenstein; Or, The Modern Prometheus",
          "Moby Dick; Or, The Whale",
          "Romeo and Juliet",
          "Pride and Prejudice",
          "Alice's Adventures in Wonderland",
          "The Complete Works of William Shakespeare",
          "Middlemarch",
          "A Room with a View",
          "The Great Gatsby",
          "A Doll's House : a play"
         ],
         "xaxis": "x",
         "y": {
          "bdata": "IskBABFtAQCZ3QAAQ9YAAJq5AADhpAAA4JwAAAaaAADtmAAAqpgAAA==",
          "dtype": "i4"
         },
         "yaxis": "y"
        }
       ],
       "layout": {
        "barmode": "relative",
        "legend": {
         "tracegroupgap": 0
        },
        "margin": {
         "t": 60
        },
        "template": {
         "data": {
          "bar": [
           {
            "error_x": {
             "color": "#2a3f5f"
            },
            "error_y": {
             "color": "#2a3f5f"
            },
            "marker": {
             "line": {
              "color": "#E5ECF6",
              "width": 0.5
             },
             "pattern": {
              "fillmode": "overlay",
              "size": 10,
              "solidity": 0.2
             }
            },
            "type": "bar"
           }
          ],
          "barpolar": [
           {
            "marker": {
             "line": {
              "color": "#E5ECF6",
              "width": 0.5
             },
             "pattern": {
              "fillmode": "overlay",
              "size": 10,
              "solidity": 0.2
             }
            },
            "type": "barpolar"
           }
          ],
          "carpet": [
           {
            "aaxis": {
             "endlinecolor": "#2a3f5f",
             "gridcolor": "white",
             "linecolor": "white",
             "minorgridcolor": "white",
             "startlinecolor": "#2a3f5f"
            },
            "baxis": {
             "endlinecolor": "#2a3f5f",
             "gridcolor": "white",
             "linecolor": "white",
             "minorgridcolor": "white",
             "startlinecolor": "#2a3f5f"
            },
            "type": "carpet"
           }
          ],
          "choropleth": [
           {
            "colorbar": {
             "outlinewidth": 0,
             "ticks": ""
            },
            "type": "choropleth"
           }
          ],
          "contour": [
           {
            "colorbar": {
             "outlinewidth": 0,
             "ticks": ""
            },
            "colorscale": [
             [
              0,
              "#0d0887"
             ],
             [
              0.1111111111111111,
              "#46039f"
             ],
             [
              0.2222222222222222,
              "#7201a8"
             ],
             [
              0.3333333333333333,
              "#9c179e"
             ],
             [
              0.4444444444444444,
              "#bd3786"
             ],
             [
              0.5555555555555556,
              "#d8576b"
             ],
             [
              0.6666666666666666,
              "#ed7953"
             ],
             [
              0.7777777777777778,
              "#fb9f3a"
             ],
             [
              0.8888888888888888,
              "#fdca26"
             ],
             [
              1,
              "#f0f921"
             ]
            ],
            "type": "contour"
           }
          ],
          "contourcarpet": [
           {
            "colorbar": {
             "outlinewidth": 0,
             "ticks": ""
            },
            "type": "contourcarpet"
           }
          ],
          "heatmap": [
           {
            "colorbar": {
             "outlinewidth": 0,
             "ticks": ""
            },
            "colorscale": [
             [
              0,
              "#0d0887"
             ],
             [
              0.1111111111111111,
              "#46039f"
             ],
             [
              0.2222222222222222,
              "#7201a8"
             ],
             [
              0.3333333333333333,
              "#9c179e"
             ],
             [
              0.4444444444444444,
              "#bd3786"
             ],
             [
              0.5555555555555556,
              "#d8576b"
             ],
             [
              0.6666666666666666,
              "#ed7953"
             ],
             [
              0.7777777777777778,
              "#fb9f3a"
             ],
             [
              0.8888888888888888,
              "#fdca26"
             ],
             [
              1,
              "#f0f921"
             ]
            ],
            "type": "heatmap"
           }
          ],
          "histogram": [
           {
            "marker": {
             "pattern": {
              "fillmode": "overlay",
              "size": 10,
              "solidity": 0.2
             }
            },
            "type": "histogram"
           }
          ],
          "histogram2d": [
           {
            "colorbar": {
             "outlinewidth": 0,
             "ticks": ""
            },
            "colorscale": [
             [
              0,
              "#0d0887"
             ],
             [
              0.1111111111111111,
              "#46039f"
             ],
             [
              0.2222222222222222,
              "#7201a8"
             ],
             [
              0.3333333333333333,
              "#9c179e"
             ],
             [
              0.4444444444444444,
              "#bd3786"
             ],
             [
              0.5555555555555556,
              "#d8576b"
             ],
             [
              0.6666666666666666,
              "#ed7953"
             ],
             [
              0.7777777777777778,
              "#fb9f3a"
             ],
             [
              0.8888888888888888,
              "#fdca26"
             ],
             [
              1,
              "#f0f921"
             ]
            ],
            "type": "histogram2d"
           }
          ],
          "histogram2dcontour": [
           {
            "colorbar": {
             "outlinewidth": 0,
             "ticks": ""
            },
            "colorscale": [
             [
              0,
              "#0d0887"
             ],
             [
              0.1111111111111111,
              "#46039f"
             ],
             [
              0.2222222222222222,
              "#7201a8"
             ],
             [
              0.3333333333333333,
              "#9c179e"
             ],
             [
              0.4444444444444444,
              "#bd3786"
             ],
             [
              0.5555555555555556,
              "#d8576b"
             ],
             [
              0.6666666666666666,
              "#ed7953"
             ],
             [
              0.7777777777777778,
              "#fb9f3a"
             ],
             [
              0.8888888888888888,
              "#fdca26"
             ],
             [
              1,
              "#f0f921"
             ]
            ],
            "type": "histogram2dcontour"
           }
          ],
          "mesh3d": [
           {
            "colorbar": {
             "outlinewidth": 0,
             "ticks": ""
            },
            "type": "mesh3d"
           }
          ],
          "parcoords": [
           {
            "line": {
             "colorbar": {
              "outlinewidth": 0,
              "ticks": ""
             }
            },
            "type": "parcoords"
           }
          ],
          "pie": [
           {
            "automargin": true,
            "type": "pie"
           }
          ],
          "scatter": [
           {
            "fillpattern": {
             "fillmode": "overlay",
             "size": 10,
             "solidity": 0.2
            },
            "type": "scatter"
           }
          ],
          "scatter3d": [
           {
            "line": {
             "colorbar": {
              "outlinewidth": 0,
              "ticks": ""
             }
            },
            "marker": {
             "colorbar": {
              "outlinewidth": 0,
              "ticks": ""
             }
            },
            "type": "scatter3d"
           }
          ],
          "scattercarpet": [
           {
            "marker": {
             "colorbar": {
              "outlinewidth": 0,
              "ticks": ""
             }
            },
            "type": "scattercarpet"
           }
          ],
          "scattergeo": [
           {
            "marker": {
             "colorbar": {
              "outlinewidth": 0,
              "ticks": ""
             }
            },
            "type": "scattergeo"
           }
          ],
          "scattergl": [
           {
            "marker": {
             "colorbar": {
              "outlinewidth": 0,
              "ticks": ""
             }
            },
            "type": "scattergl"
           }
          ],
          "scattermap": [
           {
            "marker": {
             "colorbar": {
              "outlinewidth": 0,
              "ticks": ""
             }
            },
            "type": "scattermap"
           }
          ],
          "scattermapbox": [
           {
            "marker": {
             "colorbar": {
              "outlinewidth": 0,
              "ticks": ""
             }
            },
            "type": "scattermapbox"
           }
          ],
          "scatterpolar": [
           {
            "marker": {
             "colorbar": {
              "outlinewidth": 0,
              "ticks": ""
             }
            },
            "type": "scatterpolar"
           }
          ],
          "scatterpolargl": [
           {
            "marker": {
             "colorbar": {
              "outlinewidth": 0,
              "ticks": ""
             }
            },
            "type": "scatterpolargl"
           }
          ],
          "scatterternary": [
           {
            "marker": {
             "colorbar": {
              "outlinewidth": 0,
              "ticks": ""
             }
            },
            "type": "scatterternary"
           }
          ],
          "surface": [
           {
            "colorbar": {
             "outlinewidth": 0,
             "ticks": ""
            },
            "colorscale": [
             [
              0,
              "#0d0887"
             ],
             [
              0.1111111111111111,
              "#46039f"
             ],
             [
              0.2222222222222222,
              "#7201a8"
             ],
             [
              0.3333333333333333,
              "#9c179e"
             ],
             [
              0.4444444444444444,
              "#bd3786"
             ],
             [
              0.5555555555555556,
              "#d8576b"
             ],
             [
              0.6666666666666666,
              "#ed7953"
             ],
             [
              0.7777777777777778,
              "#fb9f3a"
             ],
             [
              0.8888888888888888,
              "#fdca26"
             ],
             [
              1,
              "#f0f921"
             ]
            ],
            "type": "surface"
           }
          ],
          "table": [
           {
            "cells": {
             "fill": {
              "color": "#EBF0F8"
             },
             "line": {
              "color": "white"
             }
            },
            "header": {
             "fill": {
              "color": "#C8D4E3"
             },
             "line": {
              "color": "white"
             }
            },
            "type": "table"
           }
          ]
         },
         "layout": {
          "annotationdefaults": {
           "arrowcolor": "#2a3f5f",
           "arrowhead": 0,
           "arrowwidth": 1
          },
          "autotypenumbers": "strict",
          "coloraxis": {
           "colorbar": {
            "outlinewidth": 0,
            "ticks": ""
           }
          },
          "colorscale": {
           "diverging": [
            [
             0,
             "#8e0152"
            ],
            [
             0.1,
             "#c51b7d"
            ],
            [
             0.2,
             "#de77ae"
            ],
            [
             0.3,
             "#f1b6da"
            ],
            [
             0.4,
             "#fde0ef"
            ],
            [
             0.5,
             "#f7f7f7"
            ],
            [
             0.6,
             "#e6f5d0"
            ],
            [
             0.7,
             "#b8e186"
            ],
            [
             0.8,
             "#7fbc41"
            ],
            [
             0.9,
             "#4d9221"
            ],
            [
             1,
             "#276419"
            ]
           ],
           "sequential": [
            [
             0,
             "#0d0887"
            ],
            [
             0.1111111111111111,
             "#46039f"
            ],
            [
             0.2222222222222222,
             "#7201a8"
            ],
            [
             0.3333333333333333,
             "#9c179e"
            ],
            [
             0.4444444444444444,
             "#bd3786"
            ],
            [
             0.5555555555555556,
             "#d8576b"
            ],
            [
             0.6666666666666666,
             "#ed7953"
            ],
            [
             0.7777777777777778,
             "#fb9f3a"
            ],
            [
             0.8888888888888888,
             "#fdca26"
            ],
            [
             1,
             "#f0f921"
            ]
           ],
           "sequentialminus": [
            [
             0,
             "#0d0887"
            ],
            [
             0.1111111111111111,
             "#46039f"
            ],
            [
             0.2222222222222222,
             "#7201a8"
            ],
            [
             0.3333333333333333,
             "#9c179e"
            ],
            [
             0.4444444444444444,
             "#bd3786"
            ],
            [
             0.5555555555555556,
             "#d8576b"
            ],
            [
             0.6666666666666666,
             "#ed7953"
            ],
            [
             0.7777777777777778,
             "#fb9f3a"
            ],
            [
             0.8888888888888888,
             "#fdca26"
            ],
            [
             1,
             "#f0f921"
            ]
           ]
          },
          "colorway": [
           "#636efa",
           "#EF553B",
           "#00cc96",
           "#ab63fa",
           "#FFA15A",
           "#19d3f3",
           "#FF6692",
           "#B6E880",
           "#FF97FF",
           "#FECB52"
          ],
          "font": {
           "color": "#2a3f5f"
          },
          "geo": {
           "bgcolor": "white",
           "lakecolor": "white",
           "landcolor": "#E5ECF6",
           "showlakes": true,
           "showland": true,
           "subunitcolor": "white"
          },
          "hoverlabel": {
           "align": "left"
          },
          "hovermode": "closest",
          "mapbox": {
           "style": "light"
          },
          "paper_bgcolor": "white",
          "plot_bgcolor": "#E5ECF6",
          "polar": {
           "angularaxis": {
            "gridcolor": "white",
            "linecolor": "white",
            "ticks": ""
           },
           "bgcolor": "#E5ECF6",
           "radialaxis": {
            "gridcolor": "white",
            "linecolor": "white",
            "ticks": ""
           }
          },
          "scene": {
           "xaxis": {
            "backgroundcolor": "#E5ECF6",
            "gridcolor": "white",
            "gridwidth": 2,
            "linecolor": "white",
            "showbackground": true,
            "ticks": "",
            "zerolinecolor": "white"
           },
           "yaxis": {
            "backgroundcolor": "#E5ECF6",
            "gridcolor": "white",
            "gridwidth": 2,
            "linecolor": "white",
            "showbackground": true,
            "ticks": "",
            "zerolinecolor": "white"
           },
           "zaxis": {
            "backgroundcolor": "#E5ECF6",
            "gridcolor": "white",
            "gridwidth": 2,
            "linecolor": "white",
            "showbackground": true,
            "ticks": "",
            "zerolinecolor": "white"
           }
          },
          "shapedefaults": {
           "line": {
            "color": "#2a3f5f"
           }
          },
          "ternary": {
           "aaxis": {
            "gridcolor": "white",
            "linecolor": "white",
            "ticks": ""
           },
           "baxis": {
            "gridcolor": "white",
            "linecolor": "white",
            "ticks": ""
           },
           "bgcolor": "#E5ECF6",
           "caxis": {
            "gridcolor": "white",
            "linecolor": "white",
            "ticks": ""
           }
          },
          "title": {
           "x": 0.05
          },
          "xaxis": {
           "automargin": true,
           "gridcolor": "white",
           "linecolor": "white",
           "ticks": "",
           "title": {
            "standoff": 15
           },
           "zerolinecolor": "white",
           "zerolinewidth": 2
          },
          "yaxis": {
           "automargin": true,
           "gridcolor": "white",
           "linecolor": "white",
           "ticks": "",
           "title": {
            "standoff": 15
           },
           "zerolinecolor": "white",
           "zerolinewidth": 2
          }
         }
        },
        "xaxis": {
         "anchor": "y",
         "domain": [
          0,
          1
         ],
         "title": {
          "text": "title"
         }
        },
        "yaxis": {
         "anchor": "x",
         "domain": [
          0,
          1
         ],
         "title": {
          "text": "download_count"
         }
        }
       }
      }
     },
     "metadata": {},
     "output_type": "display_data"
    }
   ],
   "source": [
    "fig = px.bar(df.iloc[0:10,:], x='title', y = 'download_count')\n",
    "fig.show()"
   ]
  },
  {
   "cell_type": "markdown",
   "id": "2b0577e0",
   "metadata": {},
   "source": [
    "This is kind of interesting, but it doesn't show downloads over time, sales, or any other metadata on the books to analyze. Crosslookup might be possible by using titles. \n",
    "\n",
    "Maybe NYT best seller list is a better gauge of what type of media our culture is consuming. This might be interesting to look at over time. I could compare this to say, popular podcasts, tv shows, movies, etc to see if our cultural interests have changed by media type."
   ]
  },
  {
   "cell_type": "code",
   "execution_count": 11,
   "id": "11f34574",
   "metadata": {},
   "outputs": [
    {
     "data": {
      "text/plain": [
       "dict_keys(['previous_published_date', 'published_date', 'next_published_date', 'published_date_description', 'bestsellers_date', 'lists', 'monthly_uri', 'weekly_uri'])"
      ]
     },
     "execution_count": 11,
     "metadata": {},
     "output_type": "execute_result"
    }
   ],
   "source": [
    "ny_key = nyt_key\n",
    "response = requests.get(f'https://api.nytimes.com/svc/books/v3/lists/overview.json?api-key={ny_key}')\n",
    "\n",
    "data = response.json()\n",
    "\n",
    "data['results'].keys()"
   ]
  },
  {
   "cell_type": "code",
   "execution_count": 12,
   "id": "a260d2f3",
   "metadata": {},
   "outputs": [
    {
     "data": {
      "text/plain": [
       "dict_keys(['Combined Print & E-Book Fiction', 'Combined Print & E-Book Nonfiction', 'Hardcover Fiction', 'Hardcover Nonfiction', 'Paperback Trade Fiction', 'Paperback Nonfiction', 'Advice, How-To and Miscellaneous', \"Children's Middle Grade Hardcover\", \"Children's Picture Books\", \"Children's & Young Adult Series\", 'Young Adult Hardcover', 'Audio Fiction', 'Audio Nonfiction', 'Business', 'Graphic Books and Manga', 'Mass Market', 'Middle Grade Paperback', 'Young Adult Paperback'])"
      ]
     },
     "execution_count": 12,
     "metadata": {},
     "output_type": "execute_result"
    }
   ],
   "source": [
    "lists = {}\n",
    "for list in data['results']['lists']:\n",
    "    lists[(list['list_name'])] = list\n",
    "\n",
    "lists.keys()"
   ]
  },
  {
   "cell_type": "code",
   "execution_count": 13,
   "id": "cbed9b64",
   "metadata": {},
   "outputs": [
    {
     "data": {
      "text/plain": [
       "[{'isbn10': '', 'isbn13': '9781668089330'}]"
      ]
     },
     "execution_count": 13,
     "metadata": {},
     "output_type": "execute_result"
    }
   ],
   "source": [
    "lists['Combined Print & E-Book Fiction']['books'][0]['isbns']"
   ]
  },
  {
   "cell_type": "code",
   "execution_count": 14,
   "id": "bc93ac10",
   "metadata": {},
   "outputs": [
    {
     "name": "stdout",
     "output_type": "stream",
     "text": [
      "Hardcover Nonfiction\n",
      "-\n",
      "ORIGINAL SIN\n",
      "Jake Tapper and Alex Thompson\n",
      "An account of Joe Biden’s initial decision to run for re-election in 2024 and its numerous consequences.\n",
      "9798217060672\n",
      "['Political Science']\n",
      "-\n",
      "THE ANXIOUS GENERATION\n",
      "Jonathan Haidt\n",
      "A co-author of “The Coddling of the American Mind” looks at the mental health impacts that a phone-based life has on children.\n",
      "9780593655030\n",
      "['Psychology']\n",
      "-\n",
      "MARK TWAIN\n",
      "Ron Chernow\n",
      "The Pulitzer Prize-winning biographer portrays the life and career of the literary celebrity and political pundit.\n",
      "9780525561729\n",
      "['Biography & Autobiography']\n",
      "-\n",
      "ABUNDANCE\n",
      "Ezra Klein and Derek Thompson\n",
      "A New York Times opinion columnist and a staff writer at The Atlantic evaluate obstacles to American progress.\n",
      "9781668023488\n",
      "['Business & Economics']\n",
      "-\n",
      "BIG DUMB EYES\n",
      "Nate Bargatze\n",
      "The Grammy Award-nominated comedian shares snippets from his life and career.\n",
      "9781538768464\n",
      "['Biography & Autobiography']\n",
      "-\n",
      "UNCOMMON FAVOR\n",
      "Dawn Staley\n",
      "The three-time Olympic gold medalist and six-time W.N.B.A. All-Star, who is the head coach for the South Carolina Gamecocks women’s basketball team, describes obstacles she encountered on and off the court.\n",
      "9781668023365\n",
      "['Biography & Autobiography']\n",
      "-\n",
      "APPLE IN CHINA\n",
      "Patrick McGee\n",
      "A journalist depicts the development of Apple’s supply chain and its increasingly precarious relationship with China.\n",
      "9781668053379\n",
      "['Business & Economics']\n",
      "-\n",
      "EVERYTHING IS TUBERCULOSIS\n",
      "John Green\n",
      "The author of “The Anthropocene Reviewed” chronicles the fight against the deadly infectious disease tuberculosis.\n",
      "9780525556572\n",
      "['Social Science']\n",
      "-\n",
      "THE FATE OF THE DAY\n",
      "Rick Atkinson\n",
      "The author of “The British Are Coming” portrays the middle years of the American Revolution.\n",
      "9780593799185\n",
      "['History']\n",
      "-\n",
      "MY NEXT BREATH\n",
      "Jeremy Renner\n",
      "The Academy Award-nominated actor tells the story of the accident he had with a snowplow and his efforts to recover from it.\n",
      "9781250383532\n",
      "['Biography & Autobiography']\n",
      "-\n",
      "OUTLIVE\n",
      "Peter Attia with Bill Gifford\n",
      "A look at recent scientific research on aging and longevity.\n",
      "9780593236598\n",
      "['Health & Fitness']\n",
      "-\n",
      "THE SERVICEBERRY\n",
      "Robin Wall Kimmerer\n",
      "The author of “Braiding Sweetgrass” illuminates how the gift economy in the natural world works and draws lessons for our economy; with illustrations by John Burgoyne.\n",
      "9781668072240\n",
      "['Nature']\n",
      "-\n",
      "STEVE MARTIN WRITES THE WRITTEN WORD\n",
      "Steve Martin\n",
      "The comedian brings together previously and newly published words he wrote such as “strudel,” “Filofax” and “socks.”\n",
      "9780306835735\n",
      "['Fiction']\n",
      "-\n",
      "REMEMBER US\n",
      "Robert M. Edsel with Bret Witter\n",
      "The authors of “The Monuments Men” document the stories of a dozen people who lived during World War II.\n",
      "9781400337811\n",
      "['Biography & Autobiography']\n",
      "-\n",
      "EMPIRE OF AI\n",
      "Karen Hao\n",
      "An examination of the disruptions made and resources taken by artificial intelligence.\n",
      "9780593657508\n",
      "['Technology & Engineering']\n",
      "-\n",
      "---\n",
      "Hardcover Fiction\n",
      "-\n",
      "NEVER FLINCH\n",
      "Stephen King\n",
      "Holly Gibney does double duty by helping head off acts of retribution and protecting a women’s rights activist.\n",
      "9781668089330\n",
      "['Fiction']\n",
      "-\n",
      "HIDDEN NATURE\n",
      "Nora Roberts\n",
      "After recovering from a gunshot, a Natural Resources police officer investigates a woman’s disappearance.\n",
      "9781250370853\n",
      "['Fiction']\n",
      "-\n",
      "THE KNIGHT AND THE MOTH\n",
      "Rachel Gillig\n",
      "Sybil Delling, who is gifted with the power of foresight, forms an alliance with a heretical knight when her sister Diviners disappear.\n",
      "9780316588447\n",
      "-\n",
      "GREAT BIG BEAUTIFUL LIFE\n",
      "Emily Henry\n",
      "A writer looking for her big break competes against a Pulitzer winner to tell the story of an octogenarian with a storied past.\n",
      "9780593441299\n",
      "['Fiction']\n",
      "-\n",
      "NIGHTSHADE\n",
      "Michael Connelly\n",
      "The Los Angeles County sheriff's detective Stilwell gets reassigned to Catalina Island, where he investigates a poaching case and a Jane Doe found in the harbor.\n",
      "9780316588485\n",
      "['Fiction']\n",
      "-\n",
      "MY FRIENDS\n",
      "Fredrik Backman\n",
      "A young woman looks into the story behind a painting that was made 25 years ago and a small group of teens depicted in it; translated by Neil Smith.\n",
      "9781982112820\n",
      "['Fiction']\n",
      "-\n",
      "THE EMPEROR OF GLADNESS\n",
      "Ocean Vuong\n",
      "A young man becomes the caretaker of an elderly widow and they form a bond over the course of a year.\n",
      "9780593831878\n",
      "['Fiction']\n",
      "-\n",
      "SHIELD OF SPARROWS\n",
      "Devney Perry\n",
      "A princess deals with various adversaries as she moves into the role she chooses for herself, not the one chosen for her.\n",
      "9781649378514\n",
      "['Fiction']\n",
      "-\n",
      "ONYX STORM\n",
      "Rebecca Yarros\n",
      "The third book in the Empyrean series. As enemies gain traction, Violet Sorrengail goes beyond the Aretian wards in search of allies.\n",
      "9781649377159\n",
      "['Fiction']\n",
      "-\n",
      "THE PERFECT DIVORCE\n",
      "Jeneva Rose\n",
      "Around the time of the disappearance of a woman who had a one-night stand with the attorney Sarah Morgan’s new husband, police reopen the investigation into the murder of her first husband’s mistress.\n",
      "9798874620936\n",
      "['Fiction']\n",
      "-\n",
      "JAMES\n",
      "Percival Everett\n",
      "A reimagining of “Adventures of Huckleberry Finn” shines a different light on Mark Twain's classic, revealing new facets of the character of Jim.\n",
      "9780385550369\n",
      "['Fiction']\n",
      "-\n",
      "RETURN TO SENDER\n",
      "Craig Johnson\n",
      "The 21st book in the Longmire series. An otherworldly cult might be connected to the disappearance of a mail person who handles a 300-mile daily route.\n",
      "9780593830703\n",
      "['Fiction']\n",
      "-\n",
      "BROKEN COUNTRY\n",
      "Clare Leslie Hall\n",
      "Beth must confront her past when the man she once loved as a teenager returns to the village with his son.\n",
      "9781668078181\n",
      "['Fiction']\n",
      "-\n",
      "THE WEDDING PEOPLE\n",
      "Alison Espach\n",
      "A woman who is down on her luck forms an unexpected bond with the bride at a wedding in Rhode Island.\n",
      "9781250899576\n",
      "['Fiction']\n",
      "-\n",
      "STRANGERS IN TIME\n",
      "David Baldacci\n",
      "In London in 1944, two teenagers dealing with the dangers of World War II form an alliance with a bookshop owner.\n",
      "9781538742051\n",
      "['Fiction']\n",
      "-\n",
      "---\n"
     ]
    }
   ],
   "source": [
    "# date should be supplied as 2025-05-04\n",
    "\n",
    "def get_titles(list,date=None):\n",
    "    print(f\"{list}\\n-\")\n",
    "\n",
    "    if (date == None):\n",
    "        response = requests.get(f'https://api.nytimes.com/svc/books/v3/lists/overview.json?api-key={ny_key}')\n",
    "\n",
    "    else: \n",
    "        response = requests.get(f'https://api.nytimes.com/svc/books/v3/lists/overview.json?api-key={ny_key}&date={date}')\n",
    "\n",
    "\n",
    "\n",
    "    for title in lists[list]['books']:\n",
    "        print(title['title'])\n",
    "        print(title['author'])\n",
    "        print(title['description'])\n",
    "        isbn= title['primary_isbn13']\n",
    "        print(isbn)\n",
    "\n",
    "        response = requests.get(f'https://books.googleapis.com/books/v1/volumes?q=isbn%3A{isbn}&key={google_key}')\n",
    "        data = response.json()\n",
    "\n",
    "        if (data['totalItems'] > 0):\n",
    "            print(data['items'][0]['volumeInfo']['categories'])\n",
    "\n",
    "        print('-')\n",
    "    print(\"---\")\n",
    "\n",
    "\n",
    "get_titles('Hardcover Nonfiction')\n",
    "get_titles('Hardcover Fiction')\n"
   ]
  },
  {
   "cell_type": "markdown",
   "id": "9cf0d0c8",
   "metadata": {},
   "source": [
    "Some fiction books isbn don't match the nyt supplied one. Fiction books also don't have genre. Maybe Hardcover instead? Need to check when they can supply after getting API token.\n",
    "\n",
    "https://docs.hardcover.app/api/guides/gettingbookdetails/"
   ]
  },
  {
   "cell_type": "code",
   "execution_count": 15,
   "id": "60b7a3ac",
   "metadata": {},
   "outputs": [
    {
     "data": {
      "text/plain": [
       "['Political Science']"
      ]
     },
     "execution_count": 15,
     "metadata": {},
     "output_type": "execute_result"
    }
   ],
   "source": [
    "# Google books api key google_key\n",
    "# example call GET https://www.googleapis.com/books/v1/volumes?q=flowers+inauthor:keyes&key=yourAPIKey\n",
    "\n",
    "# This doesn't work and I don't know why\n",
    "# response = requests.get(f'https://www.googleapis.com/books/v1/volumes?q=isbn:3A9781526635198&key={google_key}')\n",
    "\n",
    "# This is what Books API query builder gave me.\n",
    "\n",
    "response = requests.get(f'https://books.googleapis.com/books/v1/volumes?q=isbn%3A9798217060672&key={google_key}')\n",
    "\n",
    "\n",
    "data = response.json()\n",
    "\n",
    "data['items'][0]['volumeInfo']['categories']"
   ]
  },
  {
   "cell_type": "code",
   "execution_count": null,
   "id": "ab0b7fdb",
   "metadata": {},
   "outputs": [],
   "source": []
  }
 ],
 "metadata": {
  "kernelspec": {
   "display_name": "Python 3",
   "language": "python",
   "name": "python3"
  },
  "language_info": {
   "codemirror_mode": {
    "name": "ipython",
    "version": 3
   },
   "file_extension": ".py",
   "mimetype": "text/x-python",
   "name": "python",
   "nbconvert_exporter": "python",
   "pygments_lexer": "ipython3",
   "version": "3.12.8"
  }
 },
 "nbformat": 4,
 "nbformat_minor": 5
}
