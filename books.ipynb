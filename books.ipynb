{
 "cells": [
  {
   "cell_type": "code",
   "execution_count": 2,
   "id": "b82c1087",
   "metadata": {},
   "outputs": [],
   "source": [
    "import requests\n",
    "import pandas as pd\n",
    "\n",
    "import time\n",
    "\n",
    "import os\n",
    "from dotenv import load_dotenv\n",
    "\n",
    "load_dotenv()\n",
    "\n",
    "google_key = os.getenv(\"GOOGLE_BOOKS\")\n",
    "nyt_key = os.getenv(\"NYT\")"
   ]
  },
  {
   "cell_type": "code",
   "execution_count": 3,
   "id": "78d15cf9",
   "metadata": {},
   "outputs": [],
   "source": [
    "import plotly.express as px\n",
    "import plotly.io as pio\n",
    "import plotly.graph_objects as go"
   ]
  },
  {
   "cell_type": "code",
   "execution_count": 4,
   "id": "51f0abea",
   "metadata": {},
   "outputs": [],
   "source": [
    "df_cached = pd.read_csv('df_cached.csv')\n",
    "df_cached['primary_isbn13'] = df_cached['primary_isbn13'].apply(str)"
   ]
  },
  {
   "cell_type": "code",
   "execution_count": 5,
   "id": "cebe6e0b",
   "metadata": {},
   "outputs": [
    {
     "data": {
      "application/vnd.microsoft.datawrangler.viewer.v0+json": {
       "columns": [
        {
         "name": "index",
         "rawType": "int64",
         "type": "integer"
        },
        {
         "name": "age_group",
         "rawType": "float64",
         "type": "float"
        },
        {
         "name": "amazon_product_url",
         "rawType": "object",
         "type": "string"
        },
        {
         "name": "article_chapter_link",
         "rawType": "float64",
         "type": "float"
        },
        {
         "name": "asterisk",
         "rawType": "int64",
         "type": "integer"
        },
        {
         "name": "author",
         "rawType": "object",
         "type": "string"
        },
        {
         "name": "book_image",
         "rawType": "object",
         "type": "string"
        },
        {
         "name": "book_image_height",
         "rawType": "int64",
         "type": "integer"
        },
        {
         "name": "book_image_width",
         "rawType": "int64",
         "type": "integer"
        },
        {
         "name": "book_review_link",
         "rawType": "object",
         "type": "unknown"
        },
        {
         "name": "book_uri",
         "rawType": "object",
         "type": "string"
        },
        {
         "name": "contributor",
         "rawType": "object",
         "type": "string"
        },
        {
         "name": "contributor_note",
         "rawType": "object",
         "type": "unknown"
        },
        {
         "name": "created_date",
         "rawType": "object",
         "type": "string"
        },
        {
         "name": "dagger",
         "rawType": "int64",
         "type": "integer"
        },
        {
         "name": "description",
         "rawType": "object",
         "type": "unknown"
        },
        {
         "name": "first_chapter_link",
         "rawType": "object",
         "type": "unknown"
        },
        {
         "name": "price",
         "rawType": "float64",
         "type": "float"
        },
        {
         "name": "primary_isbn10",
         "rawType": "float64",
         "type": "float"
        },
        {
         "name": "primary_isbn13",
         "rawType": "object",
         "type": "string"
        },
        {
         "name": "publisher",
         "rawType": "object",
         "type": "unknown"
        },
        {
         "name": "rank",
         "rawType": "int64",
         "type": "integer"
        },
        {
         "name": "rank_last_week",
         "rawType": "int64",
         "type": "integer"
        },
        {
         "name": "sunday_review_link",
         "rawType": "float64",
         "type": "float"
        },
        {
         "name": "title",
         "rawType": "object",
         "type": "string"
        },
        {
         "name": "updated_date",
         "rawType": "object",
         "type": "string"
        },
        {
         "name": "weeks_on_list",
         "rawType": "int64",
         "type": "integer"
        },
        {
         "name": "category",
         "rawType": "object",
         "type": "unknown"
        },
        {
         "name": "published_date",
         "rawType": "object",
         "type": "string"
        },
        {
         "name": "Unnamed: 0",
         "rawType": "float64",
         "type": "float"
        }
       ],
       "ref": "e9df4e3e-fcb4-49a0-a8bc-1ade55f4b617",
       "rows": [
        [
         "0",
         null,
         "https://www.amazon.com/dp/B0DTYKCJC9?tag=thenewyorktim-20",
         null,
         "0",
         "Jake Tapper and Alex Thompson",
         "https://static01.nyt.com/bestsellers/images/9798217060672.jpg",
         "500",
         "329",
         null,
         "nyt://book/786e31c1-bc83-50f1-bd8d-995926458641",
         "by Jake Tapper and Alex Thompson",
         null,
         "2025-06-02T23:13:46.798Z",
         "0",
         "An account of Joe Biden’s initial decision to run for re-election in 2024 and its numerous consequences.",
         null,
         "0.0",
         null,
         "9798217060672",
         "Penguin Press",
         "1",
         "0",
         null,
         "ORIGINAL SIN",
         "2025-06-02T23:13:46.798Z",
         "1",
         "Political Science",
         "2025-06-08",
         null
        ],
        [
         "1",
         null,
         "https://www.amazon.com/dp/1668023369?tag=thenewyorktim-20",
         null,
         "0",
         "Dawn Staley",
         "https://static01.nyt.com/bestsellers/images/9781668023365.jpg",
         "500",
         "329",
         null,
         "nyt://book/93e1c5cf-1a3f-5ede-b081-ca9bbd7d30a2",
         "by Dawn Staley",
         null,
         "2025-06-02T23:13:46.873Z",
         "0",
         "The three-time Olympic gold medalist and six-time W.N.B.A. All-Star, who is the head coach for the South Carolina Gamecocks women’s basketball team, describes obstacles she encountered on and off the court.",
         null,
         "0.0",
         null,
         "9781668023365",
         "Atria/Black Privilege",
         "2",
         "0",
         null,
         "UNCOMMON FAVOR",
         "2025-06-02T23:13:46.873Z",
         "1",
         "Biography & Autobiography",
         "2025-06-08",
         null
        ],
        [
         "2",
         null,
         "https://www.amazon.com/dp/0525561722?tag=thenewyorktim-20",
         null,
         "0",
         "Ron Chernow",
         "https://static01.nyt.com/bestsellers/images/9780525561729.jpg",
         "500",
         "329",
         null,
         "nyt://book/b92f68c9-76ad-5510-8520-c5864d663b19",
         "by Ron Chernow",
         null,
         "2025-06-02T23:13:46.947Z",
         "0",
         "The Pulitzer Prize-winning biographer portrays the life and career of the literary celebrity and political pundit.",
         null,
         "0.0",
         null,
         "9780525561729",
         "Penguin Press",
         "3",
         "1",
         null,
         "MARK TWAIN",
         "2025-06-02T23:13:46.947Z",
         "2",
         "Biography & Autobiography",
         "2025-06-08",
         null
        ],
        [
         "3",
         null,
         "https://www.amazon.com/dp/1668053373?tag=thenewyorktim-20",
         null,
         "0",
         "Patrick McGee",
         "https://static01.nyt.com/bestsellers/images/9781668053379.jpg",
         "500",
         "331",
         null,
         "nyt://book/82ca74aa-bab8-5b05-9a1f-f8f7e383e1e2",
         "by Patrick McGee",
         null,
         "2025-06-02T23:13:47.02Z",
         "0",
         "A journalist depicts the development of Apple’s supply chain and its increasingly precarious relationship with China.",
         null,
         "0.0",
         null,
         "9781668053379",
         "Scribner",
         "4",
         "0",
         null,
         "APPLE IN CHINA",
         "2025-06-02T23:13:47.02Z",
         "1",
         "Business & Economics",
         "2025-06-08",
         null
        ],
        [
         "4",
         null,
         "https://www.amazon.com/dp/0593655036?tag=thenewyorktim-20",
         null,
         "0",
         "Jonathan Haidt",
         "https://static01.nyt.com/bestsellers/images/9780593655030.jpg",
         "500",
         "329",
         null,
         "nyt://book/7557cf43-7888-5c15-8206-d3541cccd89b",
         "by Jonathan Haidt",
         null,
         "2025-06-02T23:13:47.093Z",
         "0",
         "A co-author of “The Coddling of the American Mind” looks at the mental health impacts that a phone-based life has on children.",
         null,
         "0.0",
         null,
         "9780593655030",
         "Penguin Press",
         "5",
         "2",
         null,
         "THE ANXIOUS GENERATION",
         "2025-06-02T23:13:47.093Z",
         "61",
         "Psychology",
         "2025-06-08",
         null
        ],
        [
         "5",
         null,
         "https://www.amazon.com/dp/1668096870?tag=thenewyorktim-20",
         null,
         "0",
         "Barry Diller",
         "https://static01.nyt.com/bestsellers/images/9781668096871.jpg",
         "500",
         "335",
         null,
         "nyt://book/e98102d7-5245-5251-b913-d2331f70382a",
         "by Barry Diller",
         null,
         "2025-06-02T23:13:47.167Z",
         "1",
         "The businessman charts his career from the mail room at William Morris to the heights of the entertainment industry and beyond.",
         null,
         "0.0",
         null,
         "9781668096871",
         "Simon & Schuster",
         "6",
         "0",
         null,
         "WHO KNEW",
         "2025-06-02T23:13:47.167Z",
         "1",
         "Biography & Autobiography",
         "2025-06-08",
         null
        ],
        [
         "6",
         null,
         "http://www.amazon.com/The-Body-Keeps-Score-Healing/dp/0670785938?tag=thenewyorktim-20",
         null,
         "0",
         "Bessel van der Kolk",
         "https://static01.nyt.com/bestsellers/images/9780143127741.jpg",
         "193",
         "128",
         "https://www.nytimes.com/2018/10/18/books/review/how-to-rewire-your-traumatized-brain.html",
         "nyt://book/e3e33e9d-0e67-5fec-b0d2-2ecddc38ce0e",
         "by Bessel van der Kolk",
         null,
         "2025-06-02T23:13:47.24Z",
         "0",
         "How trauma affects the body and mind, and innovative treatments for recovery.",
         null,
         "0.0",
         null,
         "9780143127741",
         "Penguin",
         "7",
         "5",
         null,
         "THE BODY KEEPS THE SCORE",
         "2025-06-02T23:13:47.24Z",
         "244",
         "Medical",
         "2025-06-08",
         null
        ],
        [
         "7",
         null,
         "https://www.amazon.com/dp/1668023482?tag=thenewyorktim-20",
         null,
         "0",
         "Ezra Klein and Derek Thompson",
         "https://static01.nyt.com/bestsellers/images/9781668023488.jpg",
         "500",
         "331",
         null,
         "nyt://book/041486a7-1130-5821-989f-33b7d1efd0de",
         "by Ezra Klein and Derek Thompson",
         null,
         "2025-06-02T23:13:47.314Z",
         "0",
         "A New York Times opinion columnist and a staff writer at The Atlantic evaluate obstacles to American progress.",
         null,
         "0.0",
         null,
         "9781668023488",
         "Avid Reader",
         "8",
         "7",
         null,
         "ABUNDANCE",
         "2025-06-02T23:13:47.314Z",
         "10",
         "Business & Economics",
         "2025-06-08",
         null
        ],
        [
         "8",
         null,
         "https://www.amazon.com/dp/1538768461?tag=thenewyorktim-20",
         null,
         "0",
         "Nate Bargatze",
         "https://static01.nyt.com/bestsellers/images/9781538768464.jpg",
         "500",
         "329",
         null,
         "nyt://book/455045a1-1463-5d73-be48-160b23c2acc9",
         "by Nate Bargatze",
         null,
         "2025-06-02T23:13:47.386Z",
         "0",
         "The Grammy Award-nominated comedian shares snippets from his life and career.",
         null,
         "0.0",
         null,
         "9781538768464",
         "Grand Central",
         "9",
         "3",
         null,
         "BIG DUMB EYES",
         "2025-06-02T23:13:47.386Z",
         "3",
         "Biography & Autobiography",
         "2025-06-08",
         null
        ],
        [
         "9",
         null,
         "https://www.amazon.com/dp/0593799186?tag=thenewyorktim-20",
         null,
         "0",
         "Rick Atkinson",
         "https://static01.nyt.com/bestsellers/images/9780593799185.jpg",
         "500",
         "329",
         null,
         "nyt://book/fa7dc600-09b9-5121-8800-f63b633f9f41",
         "by Rick Atkinson",
         null,
         "2025-06-02T23:13:47.459Z",
         "0",
         "The author of “The British Are Coming” portrays the middle years of the American Revolution.",
         null,
         "0.0",
         null,
         "9780593799185",
         "Crown",
         "10",
         "12",
         null,
         "THE FATE OF THE DAY",
         "2025-06-02T23:13:47.459Z",
         "4",
         "History",
         "2025-06-08",
         null
        ],
        [
         "10",
         null,
         "https://www.amazon.com/dp/0393242137?tag=thenewyorktim-20",
         null,
         "0",
         "Robert Macfarlane",
         "https://static01.nyt.com/bestsellers/images/9780393242133.jpg",
         "500",
         "329",
         null,
         "nyt://book/a89110b8-b088-58cd-afd3-275cc677b3c2",
         "by Robert Macfarlane",
         null,
         "2025-06-02T23:13:47.534Z",
         "0",
         "The author of “Underland” explores flowing waters in Ecuador, India and Canada.",
         null,
         "0.0",
         null,
         "9780393242133",
         "Norton",
         "11",
         "0",
         null,
         "IS A RIVER ALIVE?",
         "2025-06-02T23:13:47.534Z",
         "1",
         "Nature",
         "2025-06-08",
         null
        ],
        [
         "11",
         null,
         "https://www.amazon.com/dp/0525426051?tag=thenewyorktim-20",
         null,
         "0",
         "John Green",
         "https://static01.nyt.com/bestsellers/images/9780525556572.jpg",
         "500",
         "331",
         null,
         "nyt://book/bb5b70b2-964d-5146-8e4b-64724d34a3a9",
         "by John Green",
         null,
         "2025-06-02T23:13:47.608Z",
         "0",
         "The author of “The Anthropocene Reviewed” chronicles the fight against the deadly infectious disease tuberculosis.",
         null,
         "0.0",
         null,
         "9780525556572",
         "Crash Course",
         "12",
         "10",
         null,
         "EVERYTHING IS TUBERCULOSIS",
         "2025-06-02T23:13:47.608Z",
         "10",
         "Social Science",
         "2025-06-08",
         null
        ],
        [
         "12",
         null,
         "https://www.amazon.com/Tyranny-Twenty-Lessons-Twentieth-Century/dp/0804190119?tag=thenewyorktim-20",
         null,
         "0",
         "Timothy Snyder",
         "https://static01.nyt.com/bestsellers/images/9780804190114.jpg",
         "465",
         "330",
         null,
         "nyt://book/eeb07cb6-f672-5b8d-b85d-6ce6f62b1856",
         "by Timothy Snyder",
         null,
         "2025-06-02T23:13:47.681Z",
         "0",
         "Twenty lessons from the 20th century about the course of tyranny.",
         null,
         "0.0",
         null,
         "9780804190114",
         "Crown",
         "13",
         "13",
         null,
         "ON TYRANNY",
         "2025-06-02T23:13:47.681Z",
         "52",
         "Political Science",
         "2025-06-08",
         null
        ],
        [
         "13",
         null,
         "https://www.amazon.com/dp/0593657500?tag=thenewyorktim-20",
         null,
         "0",
         "Karen Hao",
         "https://static01.nyt.com/bestsellers/images/9780593657508.jpg",
         "500",
         "329",
         null,
         "nyt://book/ab7f22c8-0633-5baf-8263-71c8899cfd41",
         "by Karen Hao",
         null,
         "2025-06-02T23:13:47.754Z",
         "0",
         "An examination of the disruptions made and resources taken by artificial intelligence.",
         null,
         "0.0",
         null,
         "9780593657508",
         "Penguin Press",
         "14",
         "0",
         null,
         "EMPIRE OF AI",
         "2025-06-02T23:13:47.754Z",
         "1",
         "Technology & Engineering",
         "2025-06-08",
         null
        ],
        [
         "14",
         null,
         "https://www.amazon.com/dp/1538767066?tag=thenewyorktim-20",
         null,
         "0",
         "Jonathan Capehart",
         "https://static01.nyt.com/bestsellers/images/9781538767061.jpg",
         "500",
         "331",
         null,
         "nyt://book/1c972b9e-91e8-512f-b55e-8be6f7c0a1e3",
         "by Jonathan Capehart",
         null,
         "2025-06-02T23:13:47.827Z",
         "0",
         "The MSNBC anchor and Pulitzer Prize-winning journalist describes how he embraced his identity.",
         null,
         "0.0",
         null,
         "9781538767061",
         "Grand Central",
         "15",
         "0",
         null,
         "YET HERE I AM",
         "2025-06-02T23:13:47.827Z",
         "1",
         "Biography & Autobiography",
         "2025-06-08",
         null
        ],
        [
         "15",
         null,
         "https://www.amazon.com/dp/0593597400?tag=thenewyorktim-20",
         null,
         "0",
         "Tina Knowles with Kevin Carr O'Leary",
         "https://static01.nyt.com/bestsellers/images/9780593597408.jpg",
         "500",
         "375",
         null,
         "nyt://book/4e539008-0935-5396-aa30-495b9145310f",
         "by Tina Knowles with Kevin Carr O'Leary",
         null,
         "2025-06-04T22:33:17.822Z",
         "0",
         null,
         null,
         "0.0",
         null,
         "9780593597408",
         "One World",
         "1",
         "0",
         null,
         "MATRIARCH",
         "2025-06-04T22:33:17.822Z",
         "1",
         "Biography & Autobiography",
         "2025-05-11",
         null
        ],
        [
         "16",
         null,
         "https://www.amazon.com/dp/1668023482?tag=thenewyorktim-20",
         null,
         "0",
         "Ezra Klein and Derek Thompson",
         "https://static01.nyt.com/bestsellers/images/9781668023488.jpg",
         "500",
         "331",
         null,
         "nyt://book/041486a7-1130-5821-989f-33b7d1efd0de",
         "by Ezra Klein and Derek Thompson",
         null,
         "2025-06-02T23:13:47.314Z",
         "0",
         "A New York Times opinion columnist and a staff writer at The Atlantic evaluate obstacles to American progress.",
         null,
         "0.0",
         null,
         "9781668023488",
         "Avid Reader",
         "2",
         "1",
         null,
         "ABUNDANCE",
         "2025-06-02T23:13:47.314Z",
         "6",
         "Business & Economics",
         "2025-05-11",
         null
        ],
        [
         "17",
         null,
         "https://www.amazon.com/dp/0525426051?tag=thenewyorktim-20",
         null,
         "0",
         "John Green",
         "https://static01.nyt.com/bestsellers/images/9780525556572.jpg",
         "500",
         "331",
         null,
         "nyt://book/bb5b70b2-964d-5146-8e4b-64724d34a3a9",
         "by John Green",
         null,
         "2025-06-02T23:13:47.608Z",
         "0",
         "The author of “The Anthropocene Reviewed” chronicles the fight against the deadly infectious disease tuberculosis.",
         null,
         "0.0",
         null,
         "9780525556572",
         "Crash Course",
         "3",
         "2",
         null,
         "EVERYTHING IS TUBERCULOSIS",
         "2025-06-02T23:13:47.608Z",
         "6",
         "Social Science",
         "2025-05-11",
         null
        ],
        [
         "18",
         null,
         "https://www.amazon.com/dp/0593803671?tag=thenewyorktim-20",
         null,
         "0",
         "Joan Didion",
         "https://static01.nyt.com/bestsellers/images/9780593803677.jpg",
         "500",
         "329",
         null,
         "nyt://book/5ebb46d0-9a97-51ed-91f0-a518dda382d1",
         "by Joan Didion",
         null,
         "2025-05-16T17:58:08.88Z",
         "0",
         "Didon’s first-person account, discovered after her death, written to her husband, John Gregory Dunne, of her psychiatric sessions.",
         null,
         "0.0",
         null,
         "9780593803677",
         "Knopf",
         "4",
         "0",
         null,
         "NOTES TO JOHN",
         "2025-05-16T17:58:08.88Z",
         "1",
         "Literary Collections",
         "2025-05-11",
         null
        ],
        [
         "19",
         null,
         "https://www.amazon.com/dp/0593978773?tag=thenewyorktim-20",
         null,
         "0",
         "Pope Francis with Carlo Musso",
         "https://static01.nyt.com/bestsellers/images/9780593978771.jpg",
         "500",
         "335",
         null,
         "nyt://book/2520551f-07e4-5c12-b83d-f426855f31e1",
         "by Pope Francis with Carlo Musso",
         null,
         "2025-06-02T23:12:58.352Z",
         "0",
         "The late Pope Francis recounts details of his life from his childhood through to key moments of his papacy; translated by Richard Dixon.",
         null,
         "0.0",
         null,
         "9780593978771",
         "Random House",
         "5",
         "0",
         null,
         "HOPE",
         "2025-06-02T23:12:58.352Z",
         "3",
         "Religion",
         "2025-05-11",
         null
        ],
        [
         "20",
         null,
         "https://www.amazon.com/dp/0593655036?tag=thenewyorktim-20",
         null,
         "0",
         "Jonathan Haidt",
         "https://static01.nyt.com/bestsellers/images/9780593655030.jpg",
         "500",
         "329",
         null,
         "nyt://book/7557cf43-7888-5c15-8206-d3541cccd89b",
         "by Jonathan Haidt",
         null,
         "2025-06-02T23:13:47.093Z",
         "0",
         "A co-author of “The Coddling of the American Mind” looks at the mental health impacts that a phone-based life has on children.",
         null,
         "0.0",
         null,
         "9780593655030",
         "Penguin Press",
         "6",
         "3",
         null,
         "THE ANXIOUS GENERATION",
         "2025-06-02T23:13:47.093Z",
         "57",
         "Psychology",
         "2025-05-11",
         null
        ],
        [
         "21",
         null,
         "https://www.amazon.com/Tyranny-Twenty-Lessons-Twentieth-Century/dp/0804190119?tag=thenewyorktim-20",
         null,
         "0",
         "Timothy Snyder",
         "https://static01.nyt.com/bestsellers/images/9780804190114.jpg",
         "465",
         "330",
         null,
         "nyt://book/eeb07cb6-f672-5b8d-b85d-6ce6f62b1856",
         "by Timothy Snyder",
         null,
         "2025-06-02T23:13:47.681Z",
         "0",
         "Twenty lessons from the 20th century about the course of tyranny.",
         null,
         "0.0",
         null,
         "9780804190114",
         "Crown",
         "7",
         "4",
         null,
         "ON TYRANNY",
         "2025-06-02T23:13:47.681Z",
         "48",
         "Political Science",
         "2025-05-11",
         null
        ],
        [
         "22",
         null,
         "http://www.amazon.com/The-Body-Keeps-Score-Healing/dp/0670785938?tag=thenewyorktim-20",
         null,
         "0",
         "Bessel van der Kolk",
         "https://static01.nyt.com/bestsellers/images/9780143127741.jpg",
         "193",
         "128",
         "https://www.nytimes.com/2018/10/18/books/review/how-to-rewire-your-traumatized-brain.html",
         "nyt://book/e3e33e9d-0e67-5fec-b0d2-2ecddc38ce0e",
         "by Bessel van der Kolk",
         null,
         "2025-06-02T23:13:47.24Z",
         "0",
         "How trauma affects the body and mind, and innovative treatments for recovery.",
         null,
         "0.0",
         null,
         "9780143127741",
         "Penguin",
         "8",
         "7",
         null,
         "THE BODY KEEPS THE SCORE",
         "2025-06-02T23:13:47.24Z",
         "240",
         "Medical",
         "2025-05-11",
         null
        ],
        [
         "23",
         null,
         "https://www.amazon.com/dp/B0DHZ2ZXPM?tag=thenewyorktim-20",
         null,
         "0",
         "Michael Lewis",
         "https://static01.nyt.com/bestsellers/images/9798217047802.jpg",
         "500",
         "331",
         null,
         "nyt://book/0a1d12c6-2ba3-5618-a876-5f7072d3d8b7",
         "by Michael Lewis",
         null,
         "2025-05-16T17:58:09.242Z",
         "0",
         "Essays by Casey Cep, Dave Eggers, John Lanchester, Geraldine Brooks, Sarah Vowell, W. Kamau Bell and Michael Lewis illuminate the work of federal employees and the business of government.",
         null,
         "0.0",
         null,
         "9798217047802",
         "Riverhead",
         "9",
         "12",
         null,
         "WHO IS GOVERNMENT?",
         "2025-05-16T17:58:09.242Z",
         "6",
         "Political Science",
         "2025-05-11",
         null
        ],
        [
         "24",
         null,
         "https://www.amazon.com/dp/0063437139?tag=thenewyorktim-20",
         null,
         "0",
         "Douglas Murray",
         "https://static01.nyt.com/bestsellers/images/9780063437135.jpg",
         "500",
         "327",
         null,
         "nyt://book/00ff19eb-fa60-56df-85ed-fe85316f7f02",
         "by Douglas Murray",
         null,
         "2025-05-16T17:58:09.316Z",
         "1",
         "The author of “The War on the West” gives his perspective on the conflict between Israel and Hamas.",
         null,
         "0.0",
         null,
         "9780063437135",
         "Broadside",
         "10",
         "8",
         null,
         "ON DEMOCRACIES AND DEATH CULTS",
         "2025-05-16T17:58:09.316Z",
         "3",
         "History",
         "2025-05-11",
         null
        ],
        [
         "25",
         null,
         "https://www.amazon.com/dp/B0DTP85ZG6?tag=thenewyorktim-20",
         null,
         "0",
         "David A. Graham",
         "https://static01.nyt.com/bestsellers/images/9798217153725.jpg",
         "500",
         "333",
         null,
         "nyt://book/b908173b-897f-51e9-be8b-67e5cf24ba8b",
         "by David A. Graham",
         null,
         "2025-05-17T20:58:25.315Z",
         "0",
         "A staff writer at The Atlantic explicates Project 2025, which was published by the conservative think tank the Heritage Foundation.",
         null,
         "0.0",
         null,
         "9798217153725",
         "Random House",
         "11",
         "0",
         null,
         "THE PROJECT",
         "2025-05-17T20:58:25.315Z",
         "1",
         "Political Science",
         "2025-05-11",
         null
        ],
        [
         "26",
         null,
         "https://www.amazon.com/dp/1623716365?tag=thenewyorktim-20",
         null,
         "0",
         "Sim Kern",
         "https://static01.nyt.com/bestsellers/images/9781623716363.jpg",
         "500",
         "335",
         null,
         "nyt://book/85a5b7fb-ed39-5d02-a207-c1fd7579fed6",
         "by Sim Kern",
         null,
         "2025-05-16T17:58:09.459Z",
         "0",
         "An anti-Zionist Jewish activist recounts pivotal life experiences.",
         null,
         "0.0",
         null,
         "9781623716363",
         "Interlink",
         "12",
         "0",
         null,
         "GENOCIDE BAD",
         "2025-05-16T17:58:09.459Z",
         "1",
         "Political Science",
         "2025-05-11",
         null
        ],
        [
         "27",
         null,
         "https://www.amazon.com/dp/1250391237?tag=thenewyorktim-20",
         null,
         "0",
         "Sarah Wynn-Williams",
         "https://static01.nyt.com/bestsellers/images/9781250391230.jpg",
         "500",
         "329",
         null,
         "nyt://book/7c18484b-2dcb-57fc-800a-8d457e7b848c",
         "by Sarah Wynn-Williams",
         null,
         "2025-05-16T17:58:09.532Z",
         "0",
         "A former Facebook executive gives an account of policies and leadership at the social media platform.",
         null,
         "0.0",
         null,
         "9781250391230",
         "Flatiron",
         "13",
         "9",
         null,
         "CARELESS PEOPLE",
         "2025-05-16T17:58:09.532Z",
         "7",
         "Biography & Autobiography",
         "2025-05-11",
         null
        ],
        [
         "28",
         null,
         "https://www.amazon.com/dp/006343864X?tag=thenewyorktim-20",
         null,
         "0",
         "Jonathan Allen and Amie Parnes",
         "https://static01.nyt.com/bestsellers/images/9780063438644.jpg",
         "500",
         "331",
         null,
         "nyt://book/fb226c54-cf9f-55b0-87b7-2855382cbd45",
         "by Jonathan Allen and Amie Parnes",
         null,
         "2025-05-16T17:58:09.606Z",
         "0",
         "The authors of “Shattered” give an account of the 2024 presidential campaigns.",
         null,
         "0.0",
         null,
         "9780063438644",
         "Morrow",
         "14",
         "5",
         null,
         "FIGHT",
         "2025-05-16T17:58:09.606Z",
         "4",
         "Biography & Autobiography",
         "2025-05-11",
         null
        ],
        [
         "29",
         null,
         "https://www.amazon.com/dp/1668072246?tag=thenewyorktim-20",
         null,
         "0",
         "Robin Wall Kimmerer",
         "https://static01.nyt.com/bestsellers/images/9781668072240.jpg",
         "500",
         "356",
         null,
         "nyt://book/546eae3e-3927-5811-8afb-976b6a5478d0",
         "by Robin Wall Kimmerer",
         null,
         "2025-06-02T23:12:58.28Z",
         "0",
         "The author of “Braiding Sweetgrass” illuminates how the gift economy in the natural world works and draws lessons for our economy; with illustrations by John Burgoyne.",
         null,
         "0.0",
         null,
         "9781668072240",
         "Scribner",
         "15",
         "0",
         null,
         "THE SERVICEBERRY",
         "2025-06-02T23:12:58.28Z",
         "16",
         "Nature",
         "2025-05-11",
         null
        ],
        [
         "30",
         null,
         "https://www.amazon.com/dp/0525426051?tag=thenewyorktim-20",
         null,
         "0",
         "John Green",
         "https://static01.nyt.com/bestsellers/images/9780525426059.jpg",
         "500",
         "331",
         null,
         "nyt://book/de969ddd-72a6-5b79-9532-48ebbd0eef70",
         "by John Green",
         null,
         "2025-05-14T15:37:09.377Z",
         "0",
         "The author of “The Anthropocene Reviewed” chronicles the fight against the deadly infectious disease tuberculosis.",
         null,
         "0.0",
         null,
         "9780525426059",
         "Crash Course",
         "1",
         "1",
         null,
         "EVERYTHING IS TUBERCULOSIS",
         "2025-05-14T15:37:09.377Z",
         "2",
         "Social Science",
         "2025-04-13",
         null
        ],
        [
         "31",
         null,
         "https://www.amazon.com/dp/1250391237?tag=thenewyorktim-20",
         null,
         "0",
         "Sarah Wynn-Williams",
         "https://static01.nyt.com/bestsellers/images/9781250391230.jpg",
         "500",
         "329",
         null,
         "nyt://book/7c18484b-2dcb-57fc-800a-8d457e7b848c",
         "by Sarah Wynn-Williams",
         null,
         "2025-05-16T17:58:09.532Z",
         "0",
         "A former Facebook executive gives an account of policies and leadership at the social media platform.",
         null,
         "0.0",
         null,
         "9781250391230",
         "Flatiron",
         "2",
         "3",
         null,
         "CARELESS PEOPLE",
         "2025-05-16T17:58:09.532Z",
         "3",
         "Biography & Autobiography",
         "2025-04-13",
         null
        ],
        [
         "32",
         null,
         "https://www.amazon.com/dp/1668023482?tag=thenewyorktim-20",
         null,
         "0",
         "Ezra Klein and Derek Thompson",
         "https://static01.nyt.com/bestsellers/images/9781668023488.jpg",
         "500",
         "331",
         null,
         "nyt://book/041486a7-1130-5821-989f-33b7d1efd0de",
         "by Ezra Klein and Derek Thompson",
         null,
         "2025-06-02T23:13:47.314Z",
         "0",
         "A New York Times opinion columnist and a staff writer at The Atlantic evaluate obstacles to American progress.",
         null,
         "0.0",
         null,
         "9781668023488",
         "Avid Reader",
         "3",
         "2",
         null,
         "ABUNDANCE",
         "2025-06-02T23:13:47.314Z",
         "2",
         "Business & Economics",
         "2025-04-13",
         null
        ],
        [
         "33",
         null,
         "https://www.amazon.com/dp/0593655036?tag=thenewyorktim-20",
         null,
         "0",
         "Jonathan Haidt",
         "https://static01.nyt.com/bestsellers/images/9780593655030.jpg",
         "500",
         "329",
         null,
         "nyt://book/7557cf43-7888-5c15-8206-d3541cccd89b",
         "by Jonathan Haidt",
         null,
         "2025-06-02T23:13:47.093Z",
         "0",
         "A co-author of “The Coddling of the American Mind” looks at the mental health impacts that a phone-based life has on children.",
         null,
         "0.0",
         null,
         "9780593655030",
         "Penguin Press",
         "4",
         "7",
         null,
         "THE ANXIOUS GENERATION",
         "2025-06-02T23:13:47.093Z",
         "53",
         "Psychology",
         "2025-04-13",
         null
        ],
        [
         "34",
         null,
         "https://www.amazon.com/dp/0593655907?tag=thenewyorktim-20",
         null,
         "0",
         "Graydon Carter with James Fox",
         "https://static01.nyt.com/bestsellers/images/9780593655900.jpg",
         "500",
         "331",
         null,
         "nyt://book/a0fbfb29-9374-50e0-b70e-154e3a4cb8b8",
         "by Graydon Carter with James Fox",
         null,
         "2025-05-14T15:35:48.986Z",
         "0",
         "The co-creator of Spy and former editor of Vanity Fair retraces his storied career.",
         null,
         "0.0",
         null,
         "9780593655900",
         "Penguin Press",
         "5",
         "0",
         null,
         "WHEN THE GOING WAS GOOD",
         "2025-05-14T15:35:48.986Z",
         "1",
         "Biography & Autobiography",
         "2025-04-13",
         null
        ],
        [
         "35",
         null,
         "http://www.amazon.com/The-Body-Keeps-Score-Healing/dp/0670785938?tag=thenewyorktim-20",
         null,
         "0",
         "Bessel van der Kolk",
         "https://static01.nyt.com/bestsellers/images/9780143127741.jpg",
         "193",
         "128",
         "https://www.nytimes.com/2018/10/18/books/review/how-to-rewire-your-traumatized-brain.html",
         "nyt://book/e3e33e9d-0e67-5fec-b0d2-2ecddc38ce0e",
         "by Bessel van der Kolk",
         null,
         "2025-06-02T23:13:47.24Z",
         "0",
         "How trauma affects the body and mind, and innovative treatments for recovery.",
         null,
         "0.0",
         null,
         "9780143127741",
         "Penguin",
         "6",
         "10",
         null,
         "THE BODY KEEPS THE SCORE",
         "2025-06-02T23:13:47.24Z",
         "236",
         "Medical",
         "2025-04-13",
         null
        ],
        [
         "36",
         null,
         "https://www.amazon.com/dp/0807016535?tag=thenewyorktim-20",
         null,
         "0",
         "David Pakman",
         "https://static01.nyt.com/bestsellers/images/9780807016534.jpg",
         "500",
         "333",
         null,
         "nyt://book/9b5c9208-37d0-539c-9c9d-bde5e4708420",
         "by David Pakman",
         null,
         "2025-05-14T15:37:39.022Z",
         "0",
         "The podcast host assesses a cycle of reactionary political ideology in an era of polarization.",
         null,
         "0.0",
         null,
         "9780807016534",
         "Beacon",
         "7",
         "0",
         null,
         "THE ECHO MACHINE",
         "2025-05-14T15:37:39.022Z",
         "1",
         "Political Science",
         "2025-04-13",
         null
        ],
        [
         "37",
         null,
         "https://www.amazon.com/Tyranny-Twenty-Lessons-Twentieth-Century/dp/0804190119?tag=thenewyorktim-20",
         null,
         "0",
         "Timothy Snyder",
         "https://static01.nyt.com/bestsellers/images/9780804190114.jpg",
         "465",
         "330",
         null,
         "nyt://book/eeb07cb6-f672-5b8d-b85d-6ce6f62b1856",
         "by Timothy Snyder",
         null,
         "2025-06-02T23:13:47.681Z",
         "0",
         "Twenty lessons from the 20th century about the course of tyranny.",
         null,
         "0.0",
         null,
         "9780804190114",
         "Crown",
         "8",
         "8",
         null,
         "ON TYRANNY",
         "2025-06-02T23:13:47.681Z",
         "44",
         "Political Science",
         "2025-04-13",
         null
        ],
        [
         "38",
         null,
         "https://www.amazon.com/dp/0593731204?tag=thenewyorktim-20",
         null,
         "0",
         "Amy Griffin",
         "https://static01.nyt.com/bestsellers/images/9780593731208.jpg",
         "500",
         "331",
         null,
         "nyt://book/c8c1fc79-16a4-5aeb-8f99-bdf6d19579d8",
         "by Amy Griffin",
         null,
         "2025-05-14T15:37:09.522Z",
         "0",
         "The founder of the investment firm G9 Ventures recounts her efforts to recover from trauma she experienced during childhood.",
         null,
         "0.0",
         null,
         "9780593731208",
         "Dial",
         "9",
         "5",
         null,
         "THE TELL",
         "2025-05-14T15:37:09.522Z",
         "3",
         "Biography & Autobiography",
         "2025-04-13",
         null
        ],
        [
         "39",
         null,
         "https://www.amazon.com/dp/0385534264?tag=thenewyorktim-20",
         null,
         "0",
         "David Grann",
         "https://static01.nyt.com/bestsellers/images/9780307742490.jpg",
         "500",
         "329",
         null,
         "nyt://book/423213d6-9fa7-5fb1-8543-79dcd840c76e",
         "by David Grann",
         null,
         "2025-06-02T23:13:40.027Z",
         "0",
         "The survivors of a shipwrecked British vessel on a secret mission during an imperial war with Spain have different accounts of events.",
         null,
         "0.0",
         null,
         "9780307742490",
         "Vintage",
         "10",
         "11",
         null,
         "THE WAGER",
         "2025-06-02T23:13:40.027Z",
         "71",
         "True Crime",
         "2025-04-13",
         null
        ],
        [
         "40",
         null,
         "https://www.amazon.com/dp/1480216895?tag=thenewyorktim-20",
         null,
         "0",
         "Suzanne Humphries and Roman Bystrianyk",
         "https://static01.nyt.com/bestsellers/images/9781480216891.jpg",
         "500",
         "333",
         null,
         "nyt://book/52214f90-48fc-557f-8e3a-7216f5dc55bc",
         "by Suzanne Humphries and Roman Bystrianyk",
         null,
         "2025-05-14T15:35:49.415Z",
         "1",
         "Humphries and Bystrianyk argue that medical interventions might not increase lifespans or prevent premature deaths.",
         null,
         "0.0",
         null,
         "9781480216891",
         "Suzanne Humphries and Roman Bystrianyk",
         "11",
         "0",
         null,
         "DISSOLVING ILLUSIONS",
         "2025-05-14T15:35:49.415Z",
         "1",
         "Communicable diseases",
         "2025-04-13",
         null
        ],
        [
         "41",
         null,
         "https://www.amazon.com/dp/0593731263?tag=thenewyorktim-20",
         null,
         "0",
         "Annie Karni and Luke Broadwater",
         "https://static01.nyt.com/bestsellers/images/9780593731260.jpg",
         "500",
         "328",
         null,
         "nyt://book/cfd85078-e42f-5b8d-8203-3e017eed1088",
         "by Annie Karni and Luke Broadwater",
         null,
         "2025-05-14T15:35:49.486Z",
         "0",
         "Two correspondents for The New York Times depict the decay and dysfunction of the American Congress.",
         null,
         "0.0",
         null,
         "9780593731260",
         "Random House",
         "12",
         "0",
         null,
         "MAD HOUSE",
         "2025-05-14T15:35:49.486Z",
         "1",
         "Political Science",
         "2025-04-13",
         null
        ],
        [
         "42",
         null,
         "https://www.amazon.com/dp/B0DHZ2ZXPM?tag=thenewyorktim-20",
         null,
         "0",
         "Michael Lewis",
         "https://static01.nyt.com/bestsellers/images/9798217047802.jpg",
         "500",
         "331",
         null,
         "nyt://book/0a1d12c6-2ba3-5618-a876-5f7072d3d8b7",
         "by Michael Lewis",
         null,
         "2025-05-16T17:58:09.242Z",
         "0",
         "Essays by Casey Cep, Dave Eggers, John Lanchester, Geraldine Brooks, Sarah Vowell, W. Kamau Bell and Michael Lewis illuminate the work of federal employees and the business of government.",
         null,
         "0.0",
         null,
         "9798217047802",
         "Riverhead",
         "13",
         "6",
         null,
         "WHO IS GOVERNMENT?",
         "2025-05-16T17:58:09.242Z",
         "2",
         "Political Science",
         "2025-04-13",
         null
        ],
        [
         "43",
         null,
         "https://www.amazon.com/dp/1668065398?tag=thenewyorktim-20",
         null,
         "0",
         "Shari Franke",
         "https://static01.nyt.com/bestsellers/images/9781668065396.jpg",
         "500",
         "331",
         null,
         "nyt://book/44710a63-300c-58b3-8c0a-eb11c9a614ca",
         "by Shari Franke",
         null,
         "2025-05-14T15:36:23.94Z",
         "0",
         "Franke gives an account of abuse within her family, who gained a following with their YouTube channel “8 Passengers.”",
         null,
         "0.0",
         null,
         "9781668065396",
         "Gallery",
         "14",
         "13",
         null,
         "THE HOUSE OF MY MOTHER",
         "2025-05-14T15:36:23.94Z",
         "11",
         "Biography & Autobiography",
         "2025-04-13",
         null
        ],
        [
         "44",
         null,
         "https://www.amazon.com/dp/0593536134?tag=thenewyorktim-20",
         null,
         "0",
         "Amy Tan",
         "https://static01.nyt.com/bestsellers/images/9780593536131.jpg",
         "500",
         "379",
         null,
         "nyt://book/1bde7fcf-f70c-5c94-8303-fb918ea1007e",
         "by Amy Tan",
         null,
         "2025-06-02T23:13:40.102Z",
         "0",
         "Essays and drawings by the author of “The Joy Luck Club” and “The Bonesetter's Daughter,” which depict a search for peace through birding.",
         null,
         "0.0",
         null,
         "9780593536131",
         "Knopf",
         "15",
         "15",
         null,
         "THE BACKYARD BIRD CHRONICLES",
         "2025-06-02T23:13:40.102Z",
         "18",
         "Nature",
         "2025-04-13",
         null
        ],
        [
         "45",
         null,
         "http://www.amazon.com/The-Body-Keeps-Score-Healing/dp/0670785938?tag=thenewyorktim-20",
         null,
         "0",
         "Bessel van der Kolk",
         "https://static01.nyt.com/bestsellers/images/9781101608302.jpg",
         "193",
         "128",
         "https://www.nytimes.com/2018/10/18/books/review/how-to-rewire-your-traumatized-brain.html",
         "nyt://book/02c6d54c-541e-52b6-b792-88d5f44e34c4",
         "by Bessel van der Kolk",
         null,
         "2025-05-14T15:33:06.543Z",
         "0",
         "How trauma affects the body and mind, and innovative treatments for recovery.",
         null,
         "0.0",
         null,
         "9781101608302",
         "Penguin",
         "1",
         "5",
         null,
         "THE BODY KEEPS THE SCORE",
         "2025-05-14T15:33:06.543Z",
         "232",
         "Psychology",
         "2025-03-16",
         null
        ],
        [
         "46",
         null,
         "https://www.amazon.com/dp/0593596579?tag=thenewyorktim-20",
         null,
         "0",
         "Chelsea Handler",
         "https://static01.nyt.com/bestsellers/images/9780593596579.jpg",
         "500",
         "331",
         null,
         "nyt://book/99fbd2e7-cca4-52b8-8641-2297d4f299ad",
         "by Chelsea Handler",
         null,
         "2025-05-14T15:34:28.924Z",
         "0",
         "In a collection of essays, the comedian shares some public and private moments from her life.",
         null,
         "0.0",
         null,
         "9780593596579",
         "Dial",
         "2",
         "0",
         null,
         "I'LL HAVE WHAT SHE'S HAVING",
         "2025-05-14T15:34:28.924Z",
         "1",
         "Biography & Autobiography",
         "2025-03-16",
         null
        ],
        [
         "47",
         null,
         "https://www.amazon.com/Tyranny-Twenty-Lessons-Twentieth-Century/dp/0804190119?tag=thenewyorktim-20",
         null,
         "0",
         "Timothy Snyder",
         "https://static01.nyt.com/bestsellers/images/9780804190114.jpg",
         "465",
         "330",
         null,
         "nyt://book/eeb07cb6-f672-5b8d-b85d-6ce6f62b1856",
         "by Timothy Snyder",
         null,
         "2025-06-02T23:13:47.681Z",
         "0",
         "Twenty lessons from the 20th century about the course of tyranny.",
         null,
         "0.0",
         null,
         "9780804190114",
         "Crown",
         "3",
         "3",
         null,
         "ON TYRANNY",
         "2025-06-02T23:13:47.681Z",
         "40",
         "Political Science",
         "2025-03-16",
         null
        ],
        [
         "48",
         null,
         "https://www.amazon.com/dp/0593655036?tag=thenewyorktim-20",
         null,
         "0",
         "Jonathan Haidt",
         "https://static01.nyt.com/bestsellers/images/9780593655030.jpg",
         "500",
         "329",
         null,
         "nyt://book/7557cf43-7888-5c15-8206-d3541cccd89b",
         "by Jonathan Haidt",
         null,
         "2025-06-02T23:13:47.093Z",
         "0",
         "A co-author of “The Coddling of the American Mind” looks at the mental health impacts that a phone-based life has on children.",
         null,
         "0.0",
         null,
         "9780593655030",
         "Penguin Press",
         "4",
         "6",
         null,
         "THE ANXIOUS GENERATION",
         "2025-06-02T23:13:47.093Z",
         "49",
         "Psychology",
         "2025-03-16",
         null
        ],
        [
         "49",
         null,
         "https://www.amazon.com/dp/0593798694?tag=thenewyorktim-20",
         null,
         "0",
         "Alexander C. Karp and Nicholas W. Zamiska",
         "https://static01.nyt.com/bestsellers/images/9780593798690.jpg",
         "500",
         "333",
         null,
         "nyt://book/db7eee49-be29-58e3-9f0d-0d94381a11a1",
         "by Alexander C. Karp and Nicholas W. Zamiska",
         null,
         "2025-05-14T15:34:58.976Z",
         "0",
         "Two senior leaders at Palantir Technologies enumerate what they see as potential global threats to the United States.",
         null,
         "0.0",
         null,
         "9780593798690",
         "Crown Currency",
         "5",
         "1",
         null,
         "THE TECHNOLOGICAL REPUBLIC",
         "2025-05-14T15:34:58.976Z",
         "2",
         "Business & Economics",
         "2025-03-16",
         null
        ]
       ],
       "shape": {
        "columns": 29,
        "rows": 3040
       }
      },
      "text/html": [
       "<div>\n",
       "<style scoped>\n",
       "    .dataframe tbody tr th:only-of-type {\n",
       "        vertical-align: middle;\n",
       "    }\n",
       "\n",
       "    .dataframe tbody tr th {\n",
       "        vertical-align: top;\n",
       "    }\n",
       "\n",
       "    .dataframe thead th {\n",
       "        text-align: right;\n",
       "    }\n",
       "</style>\n",
       "<table border=\"1\" class=\"dataframe\">\n",
       "  <thead>\n",
       "    <tr style=\"text-align: right;\">\n",
       "      <th></th>\n",
       "      <th>age_group</th>\n",
       "      <th>amazon_product_url</th>\n",
       "      <th>article_chapter_link</th>\n",
       "      <th>asterisk</th>\n",
       "      <th>author</th>\n",
       "      <th>book_image</th>\n",
       "      <th>book_image_height</th>\n",
       "      <th>book_image_width</th>\n",
       "      <th>book_review_link</th>\n",
       "      <th>book_uri</th>\n",
       "      <th>...</th>\n",
       "      <th>publisher</th>\n",
       "      <th>rank</th>\n",
       "      <th>rank_last_week</th>\n",
       "      <th>sunday_review_link</th>\n",
       "      <th>title</th>\n",
       "      <th>updated_date</th>\n",
       "      <th>weeks_on_list</th>\n",
       "      <th>category</th>\n",
       "      <th>published_date</th>\n",
       "      <th>Unnamed: 0</th>\n",
       "    </tr>\n",
       "  </thead>\n",
       "  <tbody>\n",
       "    <tr>\n",
       "      <th>0</th>\n",
       "      <td>NaN</td>\n",
       "      <td>https://www.amazon.com/dp/B0DTYKCJC9?tag=thene...</td>\n",
       "      <td>NaN</td>\n",
       "      <td>0</td>\n",
       "      <td>Jake Tapper and Alex Thompson</td>\n",
       "      <td>https://static01.nyt.com/bestsellers/images/97...</td>\n",
       "      <td>500</td>\n",
       "      <td>329</td>\n",
       "      <td>NaN</td>\n",
       "      <td>nyt://book/786e31c1-bc83-50f1-bd8d-995926458641</td>\n",
       "      <td>...</td>\n",
       "      <td>Penguin Press</td>\n",
       "      <td>1</td>\n",
       "      <td>0</td>\n",
       "      <td>NaN</td>\n",
       "      <td>ORIGINAL SIN</td>\n",
       "      <td>2025-06-02T23:13:46.798Z</td>\n",
       "      <td>1</td>\n",
       "      <td>Political Science</td>\n",
       "      <td>2025-06-08</td>\n",
       "      <td>NaN</td>\n",
       "    </tr>\n",
       "    <tr>\n",
       "      <th>1</th>\n",
       "      <td>NaN</td>\n",
       "      <td>https://www.amazon.com/dp/1668023369?tag=thene...</td>\n",
       "      <td>NaN</td>\n",
       "      <td>0</td>\n",
       "      <td>Dawn Staley</td>\n",
       "      <td>https://static01.nyt.com/bestsellers/images/97...</td>\n",
       "      <td>500</td>\n",
       "      <td>329</td>\n",
       "      <td>NaN</td>\n",
       "      <td>nyt://book/93e1c5cf-1a3f-5ede-b081-ca9bbd7d30a2</td>\n",
       "      <td>...</td>\n",
       "      <td>Atria/Black Privilege</td>\n",
       "      <td>2</td>\n",
       "      <td>0</td>\n",
       "      <td>NaN</td>\n",
       "      <td>UNCOMMON FAVOR</td>\n",
       "      <td>2025-06-02T23:13:46.873Z</td>\n",
       "      <td>1</td>\n",
       "      <td>Biography &amp; Autobiography</td>\n",
       "      <td>2025-06-08</td>\n",
       "      <td>NaN</td>\n",
       "    </tr>\n",
       "    <tr>\n",
       "      <th>2</th>\n",
       "      <td>NaN</td>\n",
       "      <td>https://www.amazon.com/dp/0525561722?tag=thene...</td>\n",
       "      <td>NaN</td>\n",
       "      <td>0</td>\n",
       "      <td>Ron Chernow</td>\n",
       "      <td>https://static01.nyt.com/bestsellers/images/97...</td>\n",
       "      <td>500</td>\n",
       "      <td>329</td>\n",
       "      <td>NaN</td>\n",
       "      <td>nyt://book/b92f68c9-76ad-5510-8520-c5864d663b19</td>\n",
       "      <td>...</td>\n",
       "      <td>Penguin Press</td>\n",
       "      <td>3</td>\n",
       "      <td>1</td>\n",
       "      <td>NaN</td>\n",
       "      <td>MARK TWAIN</td>\n",
       "      <td>2025-06-02T23:13:46.947Z</td>\n",
       "      <td>2</td>\n",
       "      <td>Biography &amp; Autobiography</td>\n",
       "      <td>2025-06-08</td>\n",
       "      <td>NaN</td>\n",
       "    </tr>\n",
       "    <tr>\n",
       "      <th>3</th>\n",
       "      <td>NaN</td>\n",
       "      <td>https://www.amazon.com/dp/1668053373?tag=thene...</td>\n",
       "      <td>NaN</td>\n",
       "      <td>0</td>\n",
       "      <td>Patrick McGee</td>\n",
       "      <td>https://static01.nyt.com/bestsellers/images/97...</td>\n",
       "      <td>500</td>\n",
       "      <td>331</td>\n",
       "      <td>NaN</td>\n",
       "      <td>nyt://book/82ca74aa-bab8-5b05-9a1f-f8f7e383e1e2</td>\n",
       "      <td>...</td>\n",
       "      <td>Scribner</td>\n",
       "      <td>4</td>\n",
       "      <td>0</td>\n",
       "      <td>NaN</td>\n",
       "      <td>APPLE IN CHINA</td>\n",
       "      <td>2025-06-02T23:13:47.02Z</td>\n",
       "      <td>1</td>\n",
       "      <td>Business &amp; Economics</td>\n",
       "      <td>2025-06-08</td>\n",
       "      <td>NaN</td>\n",
       "    </tr>\n",
       "    <tr>\n",
       "      <th>4</th>\n",
       "      <td>NaN</td>\n",
       "      <td>https://www.amazon.com/dp/0593655036?tag=thene...</td>\n",
       "      <td>NaN</td>\n",
       "      <td>0</td>\n",
       "      <td>Jonathan Haidt</td>\n",
       "      <td>https://static01.nyt.com/bestsellers/images/97...</td>\n",
       "      <td>500</td>\n",
       "      <td>329</td>\n",
       "      <td>NaN</td>\n",
       "      <td>nyt://book/7557cf43-7888-5c15-8206-d3541cccd89b</td>\n",
       "      <td>...</td>\n",
       "      <td>Penguin Press</td>\n",
       "      <td>5</td>\n",
       "      <td>2</td>\n",
       "      <td>NaN</td>\n",
       "      <td>THE ANXIOUS GENERATION</td>\n",
       "      <td>2025-06-02T23:13:47.093Z</td>\n",
       "      <td>61</td>\n",
       "      <td>Psychology</td>\n",
       "      <td>2025-06-08</td>\n",
       "      <td>NaN</td>\n",
       "    </tr>\n",
       "    <tr>\n",
       "      <th>...</th>\n",
       "      <td>...</td>\n",
       "      <td>...</td>\n",
       "      <td>...</td>\n",
       "      <td>...</td>\n",
       "      <td>...</td>\n",
       "      <td>...</td>\n",
       "      <td>...</td>\n",
       "      <td>...</td>\n",
       "      <td>...</td>\n",
       "      <td>...</td>\n",
       "      <td>...</td>\n",
       "      <td>...</td>\n",
       "      <td>...</td>\n",
       "      <td>...</td>\n",
       "      <td>...</td>\n",
       "      <td>...</td>\n",
       "      <td>...</td>\n",
       "      <td>...</td>\n",
       "      <td>...</td>\n",
       "      <td>...</td>\n",
       "      <td>...</td>\n",
       "    </tr>\n",
       "    <tr>\n",
       "      <th>3035</th>\n",
       "      <td>NaN</td>\n",
       "      <td>http://www.amazon.com/Fifty-Shades-Trilogy-Bun...</td>\n",
       "      <td>NaN</td>\n",
       "      <td>0</td>\n",
       "      <td>E. L. James</td>\n",
       "      <td>https://static01.nyt.com/bestsellers/images/97...</td>\n",
       "      <td>197</td>\n",
       "      <td>128</td>\n",
       "      <td>NaN</td>\n",
       "      <td>nyt://book/dd89aefc-ae79-5850-ac96-f940ba2cc4fb</td>\n",
       "      <td>...</td>\n",
       "      <td>Vintage</td>\n",
       "      <td>16</td>\n",
       "      <td>0</td>\n",
       "      <td>NaN</td>\n",
       "      <td>FIFTY SHADES TRILOGY</td>\n",
       "      <td>2025-05-14T21:54:40.666Z</td>\n",
       "      <td>0</td>\n",
       "      <td>NaN</td>\n",
       "      <td>2012-08-12</td>\n",
       "      <td>NaN</td>\n",
       "    </tr>\n",
       "    <tr>\n",
       "      <th>3036</th>\n",
       "      <td>NaN</td>\n",
       "      <td>http://www.amazon.com/The-Marriage-Bargain-Bil...</td>\n",
       "      <td>NaN</td>\n",
       "      <td>0</td>\n",
       "      <td>Jennifer Probst</td>\n",
       "      <td>https://static01.nyt.com/bestsellers/images/A0...</td>\n",
       "      <td>203</td>\n",
       "      <td>128</td>\n",
       "      <td>NaN</td>\n",
       "      <td>nyt://book/cac1eae6-106b-5a28-88cf-73cdf4dd4471</td>\n",
       "      <td>...</td>\n",
       "      <td>Entangled Publishing</td>\n",
       "      <td>17</td>\n",
       "      <td>0</td>\n",
       "      <td>NaN</td>\n",
       "      <td>THE MARRIAGE BARGAIN</td>\n",
       "      <td>2025-05-14T06:55:56.627Z</td>\n",
       "      <td>0</td>\n",
       "      <td>NaN</td>\n",
       "      <td>2012-08-12</td>\n",
       "      <td>NaN</td>\n",
       "    </tr>\n",
       "    <tr>\n",
       "      <th>3037</th>\n",
       "      <td>NaN</td>\n",
       "      <td>http://www.amazon.com/The-Litigators-Novel-Joh...</td>\n",
       "      <td>NaN</td>\n",
       "      <td>0</td>\n",
       "      <td>John Grisham</td>\n",
       "      <td>https://static01.nyt.com/bestsellers/images/97...</td>\n",
       "      <td>229</td>\n",
       "      <td>128</td>\n",
       "      <td>NaN</td>\n",
       "      <td>nyt://book/7c934be9-85db-5ab2-b6a8-89c07600fa24</td>\n",
       "      <td>...</td>\n",
       "      <td>Random House Publishing</td>\n",
       "      <td>18</td>\n",
       "      <td>0</td>\n",
       "      <td>NaN</td>\n",
       "      <td>THE LITIGATORS</td>\n",
       "      <td>2025-05-14T06:55:56.769Z</td>\n",
       "      <td>0</td>\n",
       "      <td>NaN</td>\n",
       "      <td>2012-08-12</td>\n",
       "      <td>NaN</td>\n",
       "    </tr>\n",
       "    <tr>\n",
       "      <th>3038</th>\n",
       "      <td>NaN</td>\n",
       "      <td>http://www.amazon.com/Backfire-FBI-Thriller-Ca...</td>\n",
       "      <td>NaN</td>\n",
       "      <td>0</td>\n",
       "      <td>Catherine Coulter</td>\n",
       "      <td>https://static01.nyt.com/bestsellers/images/97...</td>\n",
       "      <td>495</td>\n",
       "      <td>327</td>\n",
       "      <td>NaN</td>\n",
       "      <td>nyt://book/c3da01f5-1a39-5460-a8b5-ae4e2e5015bf</td>\n",
       "      <td>...</td>\n",
       "      <td>Penguin Group</td>\n",
       "      <td>19</td>\n",
       "      <td>0</td>\n",
       "      <td>NaN</td>\n",
       "      <td>BACKFIRE</td>\n",
       "      <td>2025-05-14T06:55:56.698Z</td>\n",
       "      <td>0</td>\n",
       "      <td>NaN</td>\n",
       "      <td>2012-08-12</td>\n",
       "      <td>NaN</td>\n",
       "    </tr>\n",
       "    <tr>\n",
       "      <th>3039</th>\n",
       "      <td>NaN</td>\n",
       "      <td>http://www.amazon.com/Playing-Keeps-Neighbor-F...</td>\n",
       "      <td>NaN</td>\n",
       "      <td>0</td>\n",
       "      <td>R. L. Mathewson</td>\n",
       "      <td>https://static01.nyt.com/bestsellers/images/29...</td>\n",
       "      <td>396</td>\n",
       "      <td>330</td>\n",
       "      <td>NaN</td>\n",
       "      <td>nyt://book/5330f702-9c2a-5d62-9d85-4863cb263e6c</td>\n",
       "      <td>...</td>\n",
       "      <td>Rerum Publishing House</td>\n",
       "      <td>20</td>\n",
       "      <td>0</td>\n",
       "      <td>NaN</td>\n",
       "      <td>PLAYING FOR KEEPS</td>\n",
       "      <td>2025-05-14T06:55:57.129Z</td>\n",
       "      <td>0</td>\n",
       "      <td>NaN</td>\n",
       "      <td>2012-08-12</td>\n",
       "      <td>NaN</td>\n",
       "    </tr>\n",
       "  </tbody>\n",
       "</table>\n",
       "<p>3040 rows × 29 columns</p>\n",
       "</div>"
      ],
      "text/plain": [
       "      age_group                                 amazon_product_url  \\\n",
       "0           NaN  https://www.amazon.com/dp/B0DTYKCJC9?tag=thene...   \n",
       "1           NaN  https://www.amazon.com/dp/1668023369?tag=thene...   \n",
       "2           NaN  https://www.amazon.com/dp/0525561722?tag=thene...   \n",
       "3           NaN  https://www.amazon.com/dp/1668053373?tag=thene...   \n",
       "4           NaN  https://www.amazon.com/dp/0593655036?tag=thene...   \n",
       "...         ...                                                ...   \n",
       "3035        NaN  http://www.amazon.com/Fifty-Shades-Trilogy-Bun...   \n",
       "3036        NaN  http://www.amazon.com/The-Marriage-Bargain-Bil...   \n",
       "3037        NaN  http://www.amazon.com/The-Litigators-Novel-Joh...   \n",
       "3038        NaN  http://www.amazon.com/Backfire-FBI-Thriller-Ca...   \n",
       "3039        NaN  http://www.amazon.com/Playing-Keeps-Neighbor-F...   \n",
       "\n",
       "      article_chapter_link  asterisk                         author  \\\n",
       "0                      NaN         0  Jake Tapper and Alex Thompson   \n",
       "1                      NaN         0                    Dawn Staley   \n",
       "2                      NaN         0                    Ron Chernow   \n",
       "3                      NaN         0                  Patrick McGee   \n",
       "4                      NaN         0                 Jonathan Haidt   \n",
       "...                    ...       ...                            ...   \n",
       "3035                   NaN         0                    E. L. James   \n",
       "3036                   NaN         0                Jennifer Probst   \n",
       "3037                   NaN         0                   John Grisham   \n",
       "3038                   NaN         0              Catherine Coulter   \n",
       "3039                   NaN         0                R. L. Mathewson   \n",
       "\n",
       "                                             book_image  book_image_height  \\\n",
       "0     https://static01.nyt.com/bestsellers/images/97...                500   \n",
       "1     https://static01.nyt.com/bestsellers/images/97...                500   \n",
       "2     https://static01.nyt.com/bestsellers/images/97...                500   \n",
       "3     https://static01.nyt.com/bestsellers/images/97...                500   \n",
       "4     https://static01.nyt.com/bestsellers/images/97...                500   \n",
       "...                                                 ...                ...   \n",
       "3035  https://static01.nyt.com/bestsellers/images/97...                197   \n",
       "3036  https://static01.nyt.com/bestsellers/images/A0...                203   \n",
       "3037  https://static01.nyt.com/bestsellers/images/97...                229   \n",
       "3038  https://static01.nyt.com/bestsellers/images/97...                495   \n",
       "3039  https://static01.nyt.com/bestsellers/images/29...                396   \n",
       "\n",
       "      book_image_width book_review_link  \\\n",
       "0                  329              NaN   \n",
       "1                  329              NaN   \n",
       "2                  329              NaN   \n",
       "3                  331              NaN   \n",
       "4                  329              NaN   \n",
       "...                ...              ...   \n",
       "3035               128              NaN   \n",
       "3036               128              NaN   \n",
       "3037               128              NaN   \n",
       "3038               327              NaN   \n",
       "3039               330              NaN   \n",
       "\n",
       "                                             book_uri  ...  \\\n",
       "0     nyt://book/786e31c1-bc83-50f1-bd8d-995926458641  ...   \n",
       "1     nyt://book/93e1c5cf-1a3f-5ede-b081-ca9bbd7d30a2  ...   \n",
       "2     nyt://book/b92f68c9-76ad-5510-8520-c5864d663b19  ...   \n",
       "3     nyt://book/82ca74aa-bab8-5b05-9a1f-f8f7e383e1e2  ...   \n",
       "4     nyt://book/7557cf43-7888-5c15-8206-d3541cccd89b  ...   \n",
       "...                                               ...  ...   \n",
       "3035  nyt://book/dd89aefc-ae79-5850-ac96-f940ba2cc4fb  ...   \n",
       "3036  nyt://book/cac1eae6-106b-5a28-88cf-73cdf4dd4471  ...   \n",
       "3037  nyt://book/7c934be9-85db-5ab2-b6a8-89c07600fa24  ...   \n",
       "3038  nyt://book/c3da01f5-1a39-5460-a8b5-ae4e2e5015bf  ...   \n",
       "3039  nyt://book/5330f702-9c2a-5d62-9d85-4863cb263e6c  ...   \n",
       "\n",
       "                    publisher rank rank_last_week  sunday_review_link  \\\n",
       "0               Penguin Press    1              0                 NaN   \n",
       "1       Atria/Black Privilege    2              0                 NaN   \n",
       "2               Penguin Press    3              1                 NaN   \n",
       "3                    Scribner    4              0                 NaN   \n",
       "4               Penguin Press    5              2                 NaN   \n",
       "...                       ...  ...            ...                 ...   \n",
       "3035                  Vintage   16              0                 NaN   \n",
       "3036     Entangled Publishing   17              0                 NaN   \n",
       "3037  Random House Publishing   18              0                 NaN   \n",
       "3038            Penguin Group   19              0                 NaN   \n",
       "3039   Rerum Publishing House   20              0                 NaN   \n",
       "\n",
       "                       title              updated_date  weeks_on_list  \\\n",
       "0               ORIGINAL SIN  2025-06-02T23:13:46.798Z              1   \n",
       "1             UNCOMMON FAVOR  2025-06-02T23:13:46.873Z              1   \n",
       "2                 MARK TWAIN  2025-06-02T23:13:46.947Z              2   \n",
       "3             APPLE IN CHINA   2025-06-02T23:13:47.02Z              1   \n",
       "4     THE ANXIOUS GENERATION  2025-06-02T23:13:47.093Z             61   \n",
       "...                      ...                       ...            ...   \n",
       "3035    FIFTY SHADES TRILOGY  2025-05-14T21:54:40.666Z              0   \n",
       "3036    THE MARRIAGE BARGAIN  2025-05-14T06:55:56.627Z              0   \n",
       "3037          THE LITIGATORS  2025-05-14T06:55:56.769Z              0   \n",
       "3038                BACKFIRE  2025-05-14T06:55:56.698Z              0   \n",
       "3039       PLAYING FOR KEEPS  2025-05-14T06:55:57.129Z              0   \n",
       "\n",
       "                       category published_date Unnamed: 0  \n",
       "0             Political Science     2025-06-08        NaN  \n",
       "1     Biography & Autobiography     2025-06-08        NaN  \n",
       "2     Biography & Autobiography     2025-06-08        NaN  \n",
       "3          Business & Economics     2025-06-08        NaN  \n",
       "4                    Psychology     2025-06-08        NaN  \n",
       "...                         ...            ...        ...  \n",
       "3035                        NaN     2012-08-12        NaN  \n",
       "3036                        NaN     2012-08-12        NaN  \n",
       "3037                        NaN     2012-08-12        NaN  \n",
       "3038                        NaN     2012-08-12        NaN  \n",
       "3039                        NaN     2012-08-12        NaN  \n",
       "\n",
       "[3040 rows x 29 columns]"
      ]
     },
     "execution_count": 5,
     "metadata": {},
     "output_type": "execute_result"
    }
   ],
   "source": [
    "df_cached"
   ]
  },
  {
   "cell_type": "markdown",
   "id": "2b0577e0",
   "metadata": {},
   "source": [
    "<!-- This is kind of interesting, but it doesn't show change over time. I've decided to use the NYT best sellers list, specifically non-fiction becuase I'm able to crossreference more specific categories from the Google Books API. The question becomes:\n",
    "\n",
    "**How have American tastes in non-fiction changed over time?** -->"
   ]
  },
  {
   "cell_type": "code",
   "execution_count": 6,
   "id": "20f57805",
   "metadata": {},
   "outputs": [
    {
     "name": "stdout",
     "output_type": "stream",
     "text": [
      "2025-06-16\n",
      "2025-06-15 22:03:49.748211\n",
      "pubdate: 2025-06-15\n"
     ]
    },
    {
     "data": {
      "text/plain": [
       "6"
      ]
     },
     "execution_count": 6,
     "metadata": {},
     "output_type": "execute_result"
    }
   ],
   "source": [
    "# Able to calculate date as loop through calls. Neet to remember to always call strftime.\n",
    "from datetime import datetime\n",
    "from datetime import timedelta, date\n",
    "import dateutil.relativedelta\n",
    "\n",
    "\n",
    "date = datetime.now()\n",
    "print(date.strftime(\"%Y-%m-%d\"))\n",
    "\n",
    "while (date.weekday() != 6):\n",
    "    date = date - timedelta(1)\n",
    "\n",
    "print(date)\n",
    "pub_date = date.strftime(\"%Y-%m-%d\")\n",
    "print(f\"pubdate: {pub_date}\")\n",
    "date.weekday()\n"
   ]
  },
  {
   "cell_type": "code",
   "execution_count": 7,
   "id": "6dc33f7f",
   "metadata": {},
   "outputs": [
    {
     "name": "stdout",
     "output_type": "stream",
     "text": [
      "isbn from cache\n"
     ]
    },
    {
     "data": {
      "text/plain": [
       "'Political Science'"
      ]
     },
     "execution_count": 7,
     "metadata": {},
     "output_type": "execute_result"
    }
   ],
   "source": [
    "# Be sure to test that this works before running the full pull! Google Books limits api at 1000 per day.\n",
    "\n",
    "\n",
    "def get_category(isbn):\n",
    "    if (len(isbn)==13):\n",
    "        # First, check cache\n",
    "        try:\n",
    "            category = df_cached[df_cached['primary_isbn13'] == isbn]['category'].iloc[0]\n",
    "            print('isbn from cache')\n",
    "            return category\n",
    "        \n",
    "        # If not in cache, call Google Books API\n",
    "        except:\n",
    "\n",
    "            response = requests.get(f'https://books.googleapis.com/books/v1/volumes?q=isbn%3A{isbn}&key={google_key}')\n",
    "            data = response.json()\n",
    "\n",
    "            if(response.status_code != 200):\n",
    "                print(response.status_code)\n",
    "                print(response.headers)\n",
    "\n",
    "            try:\n",
    "                category = data['items'][0]['volumeInfo']['categories'][0]\n",
    "                print('isbn from api')\n",
    "                return category\n",
    "            except:\n",
    "                category = data['items'][0]['volumeInfo']['categories']\n",
    "                print('isbn from api')\n",
    "                return category\n",
    "            finally:\n",
    "                return None\n",
    "\n",
    "# uncomment to test   \n",
    "get_category('9798217060672')"
   ]
  },
  {
   "cell_type": "code",
   "execution_count": 8,
   "id": "4adb01a9",
   "metadata": {},
   "outputs": [
    {
     "name": "stdout",
     "output_type": "stream",
     "text": [
      "2025-06-15\n",
      "nyt list from cache\n",
      "2025-05-11\n",
      "nyt list from cache\n",
      "2025-04-06\n",
      "nyt list from cache\n",
      "2025-03-02\n",
      "nyt list from cache\n",
      "2025-01-26\n",
      "nyt list from cache\n",
      "2024-12-22\n",
      "nyt list from cache\n",
      "2024-11-17\n",
      "nyt list from cache\n",
      "2024-10-13\n",
      "nyt list from cache\n",
      "2024-09-08\n",
      "nyt list from cache\n",
      "2024-08-04\n",
      "nyt list from cache\n",
      "2024-06-30\n",
      "nyt list from cache\n",
      "2024-05-26\n",
      "nyt list from cache\n",
      "2024-04-21\n",
      "nyt list from cache\n",
      "2024-03-17\n",
      "nyt list from cache\n",
      "2024-02-11\n",
      "nyt list from cache\n",
      "2024-01-07\n",
      "nyt list from cache\n",
      "2023-12-03\n",
      "nyt list from cache\n",
      "2023-10-29\n",
      "nyt list from cache\n",
      "2023-09-24\n",
      "nyt list from cache\n",
      "2023-08-20\n",
      "nyt list from cache\n",
      "2023-07-16\n",
      "nyt list from cache\n",
      "2023-06-11\n",
      "nyt list from cache\n",
      "2023-05-07\n",
      "nyt list from cache\n",
      "2023-04-02\n",
      "nyt list from cache\n",
      "2023-02-26\n",
      "nyt list from cache\n",
      "2023-01-22\n",
      "nyt list from cache\n",
      "2022-12-18\n",
      "nyt list from cache\n",
      "2022-11-13\n",
      "nyt list from cache\n",
      "2022-10-09\n",
      "nyt list from cache\n",
      "2022-09-04\n",
      "nyt list from cache\n",
      "2022-07-31\n",
      "nyt list from cache\n",
      "2022-06-26\n",
      "nyt list from cache\n",
      "2022-05-22\n",
      "nyt list from cache\n",
      "2022-04-17\n",
      "nyt list from cache\n",
      "2022-03-13\n",
      "nyt list from cache\n",
      "2022-02-06\n",
      "nyt list from cache\n",
      "2022-01-02\n",
      "nyt list from cache\n",
      "2021-11-28\n",
      "nyt list from cache\n",
      "2021-10-24\n",
      "nyt list from cache\n",
      "2021-09-19\n",
      "nyt list from cache\n",
      "2021-08-15\n",
      "nyt list from cache\n",
      "2021-07-11\n",
      "nyt list from cache\n",
      "2021-06-06\n",
      "nyt list from cache\n",
      "2021-05-02\n",
      "nyt list from cache\n",
      "2021-03-28\n",
      "nyt list from cache\n",
      "2021-02-21\n",
      "nyt list from cache\n",
      "2021-01-17\n",
      "nyt list from cache\n",
      "2020-12-13\n",
      "nyt list from cache\n",
      "2020-11-08\n",
      "nyt list from cache\n",
      "2020-10-04\n",
      "nyt list from cache\n",
      "2020-08-30\n",
      "nyt list from cache\n",
      "2020-07-26\n",
      "nyt list from cache\n",
      "2020-06-21\n",
      "nyt list from cache\n",
      "2020-05-17\n",
      "nyt list from cache\n",
      "2020-04-12\n",
      "nyt list from cache\n",
      "2020-03-08\n",
      "nyt list from cache\n",
      "2020-02-02\n",
      "nyt list from cache\n",
      "2019-12-29\n",
      "nyt list from cache\n",
      "2019-11-24\n",
      "nyt list from cache\n",
      "2019-10-20\n",
      "nyt list from cache\n",
      "2019-09-15\n",
      "nyt list from cache\n",
      "2019-08-11\n",
      "nyt list from cache\n",
      "2019-07-07\n",
      "nyt list from cache\n",
      "2019-06-02\n",
      "nyt list from cache\n",
      "2019-04-28\n",
      "nyt list from cache\n",
      "2019-03-24\n",
      "nyt list from cache\n",
      "2019-02-17\n",
      "nyt list from cache\n",
      "2019-01-13\n",
      "nyt list from cache\n",
      "2018-12-09\n",
      "nyt list from cache\n",
      "2018-11-04\n",
      "nyt list from cache\n",
      "2018-09-30\n",
      "nyt list from cache\n",
      "2018-08-26\n",
      "nyt list from cache\n",
      "2018-07-22\n",
      "nyt list from cache\n",
      "2018-06-17\n",
      "nyt list from cache\n",
      "2018-05-13\n",
      "nyt list from cache\n",
      "2018-04-08\n",
      "nyt list from cache\n",
      "2018-03-04\n",
      "nyt list from cache\n",
      "2018-01-28\n",
      "nyt list from cache\n",
      "2017-12-24\n",
      "nyt list from cache\n",
      "2017-11-19\n",
      "nyt list from cache\n",
      "2017-10-15\n",
      "nyt list from cache\n",
      "2017-09-10\n",
      "nyt list from cache\n",
      "2017-08-06\n",
      "nyt list from cache\n",
      "2017-07-02\n",
      "nyt list from cache\n",
      "2017-05-28\n",
      "nyt list from cache\n",
      "2017-04-23\n",
      "nyt list from cache\n",
      "2017-03-19\n",
      "nyt list from cache\n",
      "2017-02-12\n",
      "nyt list from cache\n",
      "2017-01-08\n",
      "nyt list from cache\n",
      "2016-12-04\n",
      "nyt list from cache\n",
      "2016-10-30\n",
      "nyt list from cache\n",
      "2016-09-25\n",
      "nyt list from cache\n",
      "2016-08-21\n",
      "nyt list from cache\n",
      "2016-07-17\n",
      "nyt list from cache\n",
      "2016-06-12\n",
      "nyt list from cache\n",
      "2016-05-08\n",
      "nyt list from cache\n",
      "2016-04-03\n",
      "nyt list from cache\n",
      "2016-02-28\n",
      "nyt list from cache\n",
      "2016-01-24\n",
      "nyt list from cache\n",
      "2015-12-20\n",
      "nyt list from cache\n",
      "2015-11-15\n",
      "nyt list from cache\n",
      "2015-10-11\n",
      "nyt list from cache\n",
      "2015-09-06\n",
      "nyt list from cache\n",
      "2015-08-02\n",
      "nyt list from cache\n",
      "2015-06-28\n",
      "nyt list from cache\n",
      "2015-05-24\n",
      "nyt list from cache\n",
      "2015-04-19\n",
      "nyt list from cache\n",
      "2015-03-15\n",
      "nyt list from cache\n",
      "2015-02-08\n",
      "nyt list from cache\n",
      "2015-01-04\n",
      "nyt list from cache\n",
      "2014-11-30\n",
      "nyt list from cache\n",
      "2014-10-26\n",
      "nyt list from cache\n",
      "2014-09-21\n",
      "nyt list from cache\n",
      "2014-08-17\n",
      "nyt list from cache\n",
      "2014-07-13\n",
      "nyt list from cache\n",
      "2014-06-08\n",
      "nyt list from cache\n",
      "2014-05-04\n",
      "nyt list from cache\n",
      "2014-03-30\n",
      "nyt list from cache\n",
      "2014-02-23\n",
      "nyt list from cache\n",
      "2014-01-19\n",
      "nyt list from cache\n",
      "2013-12-15\n",
      "nyt list from cache\n",
      "2013-11-10\n",
      "nyt list from cache\n",
      "2013-10-06\n",
      "nyt list from cache\n",
      "2013-09-01\n",
      "nyt list from cache\n",
      "2013-07-28\n",
      "nyt list from cache\n",
      "2013-06-23\n",
      "nyt list from cache\n",
      "2013-05-19\n",
      "nyt list from cache\n",
      "2013-04-14\n",
      "nyt list from cache\n",
      "2013-03-10\n",
      "nyt list from cache\n",
      "2013-02-03\n",
      "nyt list from cache\n",
      "2012-12-30\n",
      "nyt list from cache\n",
      "2012-11-25\n",
      "nyt list from cache\n",
      "2012-10-21\n",
      "nyt list from cache\n",
      "2012-09-16\n",
      "nyt list from cache\n",
      "2012-08-12\n",
      "nyt list from cache\n",
      "2012-07-08\n",
      "nyt list from api\n",
      "500\n",
      "{'Date': 'Tue, 17 Jun 2025 02:03:50 GMT', 'Content-Type': 'application/json; charset=utf-8', 'Content-Length': '136', 'Connection': 'keep-alive', 'cache-control': 'max-age=300', 'x-cloud-trace-context': '000000000000000078146ce1442f049b', 'Server': 'Google Frontend', 'Via': '1.1 google, 1.1 varnish', 'Fastly-Restarts': '1', 'Accept-Ranges': 'bytes', 'X-Served-By': 'cache-iad-kcgs7200166-IAD', 'X-Cache': 'MISS', 'X-Cache-Hits': '0', 'X-Timer': 'S1750125830.587962,VS0,VE991', 'x-nyt-mktg-group': 'group1', 'Access-Control-Allow-Origin': '*', 'Access-Control-Allow-Headers': 'Accept, Content-Type, X-Forwarded-For, X-Prototype-Version, X-Requested-With', 'Access-Control-Expose-Headers': 'Content-Length, X-JSON', 'Access-Control-Allow-Methods': 'GET, OPTIONS', 'Strict-Transport-Security': 'max-age=63072000; preload; includeSubdomains'}\n"
     ]
    },
    {
     "ename": "KeyError",
     "evalue": "'results'",
     "output_type": "error",
     "traceback": [
      "\u001b[1;31m---------------------------------------------------------------------------\u001b[0m",
      "\u001b[1;31mKeyError\u001b[0m                                  Traceback (most recent call last)",
      "Cell \u001b[1;32mIn[8], line 29\u001b[0m\n\u001b[0;32m     27\u001b[0m     \u001b[38;5;28mprint\u001b[39m(response\u001b[38;5;241m.\u001b[39mstatus_code)\n\u001b[0;32m     28\u001b[0m     \u001b[38;5;28mprint\u001b[39m(response\u001b[38;5;241m.\u001b[39mheaders)\n\u001b[1;32m---> 29\u001b[0m data \u001b[38;5;241m=\u001b[39m \u001b[43mresponse\u001b[49m\u001b[38;5;241;43m.\u001b[39;49m\u001b[43mjson\u001b[49m\u001b[43m(\u001b[49m\u001b[43m)\u001b[49m\u001b[43m[\u001b[49m\u001b[38;5;124;43m'\u001b[39;49m\u001b[38;5;124;43mresults\u001b[39;49m\u001b[38;5;124;43m'\u001b[39;49m\u001b[43m]\u001b[49m\n\u001b[0;32m     31\u001b[0m nf_combined\u001b[38;5;241m=\u001b[39mdata[\u001b[38;5;124m'\u001b[39m\u001b[38;5;124mlists\u001b[39m\u001b[38;5;124m'\u001b[39m][\u001b[38;5;241m1\u001b[39m][\u001b[38;5;124m'\u001b[39m\u001b[38;5;124mbooks\u001b[39m\u001b[38;5;124m'\u001b[39m]\n\u001b[0;32m     33\u001b[0m df \u001b[38;5;241m=\u001b[39m pd\u001b[38;5;241m.\u001b[39mDataFrame(nf_combined)\n",
      "\u001b[1;31mKeyError\u001b[0m: 'results'"
     ]
    }
   ],
   "source": [
    "# Get NYT\n",
    "\n",
    "dfs = []\n",
    "\n",
    "weeks = 520\n",
    "time_interval = 30\n",
    "\n",
    "# start_date = '03/28/2025'\n",
    "# start_date = datetime.strptime(start_date, '%m%d,%y')\n",
    "\n",
    "# pub_date = start_date\n",
    "\n",
    "for week in range(1,weeks+1):\n",
    "    print(pub_date)\n",
    "     # First, check cache\n",
    "    if (df_cached[df_cached['published_date']==pub_date].shape[0] > 1):\n",
    "            df = df_cached[df_cached['published_date']==pub_date]\n",
    "            print('nyt list from cache')\n",
    "            \n",
    "    \n",
    "    # If not in cache, call Google Books API\n",
    "    else:\n",
    "        response = requests.get(f'https://api.nytimes.com/svc/books/v3/lists/overview.json?api-key={nyt_key}&published-date={pub_date}')\n",
    "        print('nyt list from api')\n",
    "\n",
    "        if(response.status_code != 200):\n",
    "            print(response.status_code)\n",
    "            print(response.headers)\n",
    "        data = response.json()['results']\n",
    "\n",
    "        nf_combined=data['lists'][1]['books']\n",
    "\n",
    "        df = pd.DataFrame(nf_combined)\n",
    "\n",
    "\n",
    "        # Add categories by calling Google Books API\n",
    "        df['category'] = df['primary_isbn13'].apply(get_category)\n",
    "        df['published_date'] = data['published_date']\n",
    "\n",
    "        # NYT API call limit of 5 per minute, 400 per day.\n",
    "        time.sleep(12)\n",
    "\n",
    "    dfs.append(df)\n",
    "\n",
    "    date = (date - timedelta(time_interval))\n",
    "    while (date.weekday() != 6):\n",
    "        date = date - timedelta(1)\n",
    "    pub_date = date.strftime(\"%Y-%m-%d\")\n",
    "\n"
   ]
  },
  {
   "cell_type": "code",
   "execution_count": 9,
   "id": "4b157a3d",
   "metadata": {},
   "outputs": [
    {
     "data": {
      "application/vnd.microsoft.datawrangler.viewer.v0+json": {
       "columns": [
        {
         "name": "index",
         "rawType": "int64",
         "type": "integer"
        },
        {
         "name": "category",
         "rawType": "object",
         "type": "string"
        }
       ],
       "ref": "ab6a65ff-8ab5-4647-962d-b6b5a185a4aa",
       "rows": [
        [
         "915",
         "political science"
        ],
        [
         "916",
         "psychology"
        ],
        [
         "917",
         "medical"
        ],
        [
         "918",
         "biography & autobiography"
        ],
        [
         "919",
         "business & economics"
        ],
        [
         "920",
         "business & economics"
        ],
        [
         "921",
         "history"
        ],
        [
         "922",
         "biography & autobiography"
        ],
        [
         "923",
         "biography & autobiography"
        ],
        [
         "924",
         "political science"
        ],
        [
         "925",
         "social science"
        ],
        [
         "926",
         "biography & autobiography"
        ],
        [
         "927",
         "biography & autobiography"
        ],
        [
         "928",
         "technology & engineering"
        ],
        [
         "929",
         "true crime"
        ],
        [
         "15",
         "biography & autobiography"
        ],
        [
         "16",
         "business & economics"
        ],
        [
         "17",
         "social science"
        ],
        [
         "18",
         "literary collections"
        ],
        [
         "19",
         "religion"
        ],
        [
         "20",
         "psychology"
        ],
        [
         "21",
         "political science"
        ],
        [
         "22",
         "medical"
        ],
        [
         "23",
         "political science"
        ],
        [
         "24",
         "history"
        ],
        [
         "25",
         "political science"
        ],
        [
         "26",
         "political science"
        ],
        [
         "27",
         "biography & autobiography"
        ],
        [
         "28",
         "biography & autobiography"
        ],
        [
         "29",
         "nature"
        ],
        [
         "930",
         "social science"
        ],
        [
         "931",
         "business & economics"
        ],
        [
         "932",
         "biography & autobiography"
        ],
        [
         "933",
         "biography & autobiography"
        ],
        [
         "934",
         "biography & autobiography"
        ],
        [
         "935",
         "political science"
        ],
        [
         "936",
         "psychology"
        ],
        [
         "937",
         "political science"
        ],
        [
         "938",
         "biography & autobiography"
        ],
        [
         "939",
         "medical"
        ],
        [
         "940",
         "true crime"
        ],
        [
         "941",
         "history"
        ],
        [
         "942",
         "biography & autobiography"
        ],
        [
         "943",
         "health & fitness"
        ],
        [
         "944",
         "nature"
        ],
        [
         "945",
         "health & fitness"
        ],
        [
         "946",
         "political science"
        ],
        [
         "947",
         "psychology"
        ],
        [
         "948",
         "biography & autobiography"
        ],
        [
         "949",
         "medical"
        ]
       ],
       "shape": {
        "columns": 1,
        "rows": 1837
       }
      },
      "text/plain": [
       "915             political science\n",
       "916                    psychology\n",
       "917                       medical\n",
       "918     biography & autobiography\n",
       "919          business & economics\n",
       "                  ...            \n",
       "2956                      fiction\n",
       "2960                      fiction\n",
       "2976                      fiction\n",
       "2990                      fiction\n",
       "2999                      fiction\n",
       "Name: category, Length: 1837, dtype: object"
      ]
     },
     "execution_count": 9,
     "metadata": {},
     "output_type": "execute_result"
    }
   ],
   "source": [
    "df = pd.concat(dfs)\n",
    "df.dropna(subset='category', inplace=True)\n",
    "df['category']=df['category'].str.lower()\n",
    "\n",
    "df['category']\n",
    "\n",
    "# df.to_csv('year_sample.csv', index=False)"
   ]
  },
  {
   "cell_type": "code",
   "execution_count": 10,
   "id": "fd61b716",
   "metadata": {},
   "outputs": [],
   "source": [
    "# def cut_strings(x):\n",
    "#     if (type(x) == str):\n",
    "#         new_string = x.replace(\"['\",'')\n",
    "#         new_string = new_string.replace(\"']\",'')\n",
    "#         return new_string\n",
    "\n",
    "# df['category'] = df['category'].apply(cut_strings)\n",
    "# df_cached['category'] = df_cached['category'].apply(cut_strings)"
   ]
  },
  {
   "cell_type": "code",
   "execution_count": 11,
   "id": "baa40151",
   "metadata": {},
   "outputs": [],
   "source": [
    "# Combine current df with cached\n",
    "df_cached = pd.concat([df_cached,df])\n",
    "\n",
    "try:\n",
    "    df_cached.drop(axis='columns', columns=['buy_links','isbns'], inplace=True)\n",
    "except:\n",
    "    pass\n",
    "\n",
    "\n",
    "df_cached.drop_duplicates(subset=['published_date','primary_isbn13'], inplace=True)\n",
    "df_cached.to_csv('df_cached.csv', index=False)\n"
   ]
  },
  {
   "cell_type": "code",
   "execution_count": 12,
   "id": "d6efa0a4",
   "metadata": {},
   "outputs": [
    {
     "data": {
      "application/vnd.microsoft.datawrangler.viewer.v0+json": {
       "columns": [
        {
         "name": "title",
         "rawType": "object",
         "type": "string"
        },
        {
         "name": "count",
         "rawType": "int64",
         "type": "integer"
        }
       ],
       "ref": "eb7f5a56-1bab-409c-b920-cb41cd016046",
       "rows": [
        [
         "THE BODY KEEPS THE SCORE",
         "52"
        ],
        [
         "EDUCATED",
         "28"
        ],
        [
         "THE BOYS IN THE BOAT",
         "26"
        ],
        [
         "KILLERS OF THE FLOWER MOON",
         "26"
        ],
        [
         "HILLBILLY ELEGY",
         "24"
        ],
        [
         "SAPIENS",
         "24"
        ],
        [
         "BECOMING",
         "22"
        ],
        [
         "BRAIDING SWEETGRASS",
         "20"
        ],
        [
         "OUTLIVE",
         "19"
        ],
        [
         "BETWEEN THE WORLD AND ME",
         "18"
        ],
        [
         "BORN A CRIME",
         "17"
        ],
        [
         "GREENLIGHTS",
         "17"
        ],
        [
         "UNTAMED",
         "17"
        ],
        [
         "THE WAGER",
         "15"
        ],
        [
         "WHEN BREATH BECOMES AIR",
         "15"
        ],
        [
         "ALEXANDER HAMILTON",
         "14"
        ],
        [
         "CRYING IN H MART",
         "14"
        ],
        [
         "BEING MORTAL",
         "14"
        ],
        [
         "ASTROPHYSICS FOR PEOPLE IN A HURRY",
         "13"
        ],
        [
         "WILD",
         "13"
        ],
        [
         "THE ANXIOUS GENERATION",
         "13"
        ],
        [
         "CASTE",
         "13"
        ],
        [
         "I'M GLAD MY MOM DIED",
         "13"
        ],
        [
         "UNBROKEN",
         "12"
        ],
        [
         "ALL ABOUT LOVE",
         "12"
        ],
        [
         "ON TYRANNY",
         "11"
        ],
        [
         "JUST MERCY",
         "9"
        ],
        [
         "DEAD WAKE",
         "9"
        ],
        [
         "I AM MALALA",
         "9"
        ],
        [
         "THINK AGAIN",
         "8"
        ],
        [
         "BAD BLOOD",
         "8"
        ],
        [
         "THE WRIGHT BROTHERS",
         "8"
        ],
        [
         "HAMILTON: THE REVOLUTION",
         "8"
        ],
        [
         "THE SPLENDID AND THE VILE",
         "8"
        ],
        [
         "TALKING TO STRANGERS",
         "7"
        ],
        [
         "THE LIGHT WE CARRY",
         "7"
        ],
        [
         "HOW TO BE AN ANTIRACIST",
         "7"
        ],
        [
         "THE DEMON OF UNREST",
         "7"
        ],
        [
         "FINDING ME",
         "7"
        ],
        [
         "THE STORYTELLER",
         "7"
        ],
        [
         "FRIENDS, LOVERS, AND THE BIG TERRIBLE THING",
         "6"
        ],
        [
         "YES PLEASE",
         "6"
        ],
        [
         "KILLING THE RISING SUN",
         "6"
        ],
        [
         "MAYBE YOU SHOULD TALK TO SOMEONE",
         "6"
        ],
        [
         "THE MAGNOLIA STORY",
         "6"
        ],
        [
         "AMERICAN SNIPER",
         "6"
        ],
        [
         "ORANGE IS THE NEW BLACK",
         "5"
        ],
        [
         "ELON MUSK",
         "5"
        ],
        [
         "WHITE FRAGILITY",
         "5"
        ],
        [
         "THOMAS JEFFERSON AND THE TRIPOLI PIRATES",
         "5"
        ]
       ],
       "shape": {
        "columns": 1,
        "rows": 890
       }
      },
      "text/plain": [
       "title\n",
       "THE BODY KEEPS THE SCORE      52\n",
       "EDUCATED                      28\n",
       "THE BOYS IN THE BOAT          26\n",
       "KILLERS OF THE FLOWER MOON    26\n",
       "HILLBILLY ELEGY               24\n",
       "                              ..\n",
       "THE ROUND HOUSE                1\n",
       "THE PERFECT HOPE               1\n",
       "THE SINS OF THE MOTHER         1\n",
       "A WANTED MAN                   1\n",
       "EMPIRE OF AI                   1\n",
       "Name: count, Length: 890, dtype: int64"
      ]
     },
     "execution_count": 12,
     "metadata": {},
     "output_type": "execute_result"
    }
   ],
   "source": [
    "df['title'].value_counts()\n"
   ]
  },
  {
   "cell_type": "code",
   "execution_count": 13,
   "id": "7c307f34",
   "metadata": {},
   "outputs": [],
   "source": [
    "top10_cat = df['category'].value_counts().reset_index().head(10)\n"
   ]
  },
  {
   "cell_type": "code",
   "execution_count": 14,
   "id": "c4379ab3",
   "metadata": {},
   "outputs": [
    {
     "data": {
      "application/vnd.plotly.v1+json": {
       "config": {
        "plotlyServerURL": "https://plot.ly"
       },
       "data": [
        {
         "hovertemplate": "category=%{x}<br>count=%{y}<extra></extra>",
         "legendgroup": "",
         "marker": {
          "color": "#636efa",
          "pattern": {
           "shape": ""
          }
         },
         "name": "",
         "orientation": "v",
         "showlegend": false,
         "textposition": "auto",
         "type": "bar",
         "x": [
          "biography & autobiography",
          "history",
          "political science",
          "social science",
          "true crime",
          "science",
          "business & economics",
          "medical",
          "nature",
          "psychology"
         ],
         "xaxis": "x",
         "y": {
          "bdata": "KQPNAJoAUgBFAEAANwA0ACUAIwA=",
          "dtype": "i2"
         },
         "yaxis": "y"
        }
       ],
       "layout": {
        "barmode": "relative",
        "legend": {
         "tracegroupgap": 0
        },
        "margin": {
         "t": 60
        },
        "template": {
         "data": {
          "bar": [
           {
            "error_x": {
             "color": "#2a3f5f"
            },
            "error_y": {
             "color": "#2a3f5f"
            },
            "marker": {
             "line": {
              "color": "#E5ECF6",
              "width": 0.5
             },
             "pattern": {
              "fillmode": "overlay",
              "size": 10,
              "solidity": 0.2
             }
            },
            "type": "bar"
           }
          ],
          "barpolar": [
           {
            "marker": {
             "line": {
              "color": "#E5ECF6",
              "width": 0.5
             },
             "pattern": {
              "fillmode": "overlay",
              "size": 10,
              "solidity": 0.2
             }
            },
            "type": "barpolar"
           }
          ],
          "carpet": [
           {
            "aaxis": {
             "endlinecolor": "#2a3f5f",
             "gridcolor": "white",
             "linecolor": "white",
             "minorgridcolor": "white",
             "startlinecolor": "#2a3f5f"
            },
            "baxis": {
             "endlinecolor": "#2a3f5f",
             "gridcolor": "white",
             "linecolor": "white",
             "minorgridcolor": "white",
             "startlinecolor": "#2a3f5f"
            },
            "type": "carpet"
           }
          ],
          "choropleth": [
           {
            "colorbar": {
             "outlinewidth": 0,
             "ticks": ""
            },
            "type": "choropleth"
           }
          ],
          "contour": [
           {
            "colorbar": {
             "outlinewidth": 0,
             "ticks": ""
            },
            "colorscale": [
             [
              0,
              "#0d0887"
             ],
             [
              0.1111111111111111,
              "#46039f"
             ],
             [
              0.2222222222222222,
              "#7201a8"
             ],
             [
              0.3333333333333333,
              "#9c179e"
             ],
             [
              0.4444444444444444,
              "#bd3786"
             ],
             [
              0.5555555555555556,
              "#d8576b"
             ],
             [
              0.6666666666666666,
              "#ed7953"
             ],
             [
              0.7777777777777778,
              "#fb9f3a"
             ],
             [
              0.8888888888888888,
              "#fdca26"
             ],
             [
              1,
              "#f0f921"
             ]
            ],
            "type": "contour"
           }
          ],
          "contourcarpet": [
           {
            "colorbar": {
             "outlinewidth": 0,
             "ticks": ""
            },
            "type": "contourcarpet"
           }
          ],
          "heatmap": [
           {
            "colorbar": {
             "outlinewidth": 0,
             "ticks": ""
            },
            "colorscale": [
             [
              0,
              "#0d0887"
             ],
             [
              0.1111111111111111,
              "#46039f"
             ],
             [
              0.2222222222222222,
              "#7201a8"
             ],
             [
              0.3333333333333333,
              "#9c179e"
             ],
             [
              0.4444444444444444,
              "#bd3786"
             ],
             [
              0.5555555555555556,
              "#d8576b"
             ],
             [
              0.6666666666666666,
              "#ed7953"
             ],
             [
              0.7777777777777778,
              "#fb9f3a"
             ],
             [
              0.8888888888888888,
              "#fdca26"
             ],
             [
              1,
              "#f0f921"
             ]
            ],
            "type": "heatmap"
           }
          ],
          "histogram": [
           {
            "marker": {
             "pattern": {
              "fillmode": "overlay",
              "size": 10,
              "solidity": 0.2
             }
            },
            "type": "histogram"
           }
          ],
          "histogram2d": [
           {
            "colorbar": {
             "outlinewidth": 0,
             "ticks": ""
            },
            "colorscale": [
             [
              0,
              "#0d0887"
             ],
             [
              0.1111111111111111,
              "#46039f"
             ],
             [
              0.2222222222222222,
              "#7201a8"
             ],
             [
              0.3333333333333333,
              "#9c179e"
             ],
             [
              0.4444444444444444,
              "#bd3786"
             ],
             [
              0.5555555555555556,
              "#d8576b"
             ],
             [
              0.6666666666666666,
              "#ed7953"
             ],
             [
              0.7777777777777778,
              "#fb9f3a"
             ],
             [
              0.8888888888888888,
              "#fdca26"
             ],
             [
              1,
              "#f0f921"
             ]
            ],
            "type": "histogram2d"
           }
          ],
          "histogram2dcontour": [
           {
            "colorbar": {
             "outlinewidth": 0,
             "ticks": ""
            },
            "colorscale": [
             [
              0,
              "#0d0887"
             ],
             [
              0.1111111111111111,
              "#46039f"
             ],
             [
              0.2222222222222222,
              "#7201a8"
             ],
             [
              0.3333333333333333,
              "#9c179e"
             ],
             [
              0.4444444444444444,
              "#bd3786"
             ],
             [
              0.5555555555555556,
              "#d8576b"
             ],
             [
              0.6666666666666666,
              "#ed7953"
             ],
             [
              0.7777777777777778,
              "#fb9f3a"
             ],
             [
              0.8888888888888888,
              "#fdca26"
             ],
             [
              1,
              "#f0f921"
             ]
            ],
            "type": "histogram2dcontour"
           }
          ],
          "mesh3d": [
           {
            "colorbar": {
             "outlinewidth": 0,
             "ticks": ""
            },
            "type": "mesh3d"
           }
          ],
          "parcoords": [
           {
            "line": {
             "colorbar": {
              "outlinewidth": 0,
              "ticks": ""
             }
            },
            "type": "parcoords"
           }
          ],
          "pie": [
           {
            "automargin": true,
            "type": "pie"
           }
          ],
          "scatter": [
           {
            "fillpattern": {
             "fillmode": "overlay",
             "size": 10,
             "solidity": 0.2
            },
            "type": "scatter"
           }
          ],
          "scatter3d": [
           {
            "line": {
             "colorbar": {
              "outlinewidth": 0,
              "ticks": ""
             }
            },
            "marker": {
             "colorbar": {
              "outlinewidth": 0,
              "ticks": ""
             }
            },
            "type": "scatter3d"
           }
          ],
          "scattercarpet": [
           {
            "marker": {
             "colorbar": {
              "outlinewidth": 0,
              "ticks": ""
             }
            },
            "type": "scattercarpet"
           }
          ],
          "scattergeo": [
           {
            "marker": {
             "colorbar": {
              "outlinewidth": 0,
              "ticks": ""
             }
            },
            "type": "scattergeo"
           }
          ],
          "scattergl": [
           {
            "marker": {
             "colorbar": {
              "outlinewidth": 0,
              "ticks": ""
             }
            },
            "type": "scattergl"
           }
          ],
          "scattermap": [
           {
            "marker": {
             "colorbar": {
              "outlinewidth": 0,
              "ticks": ""
             }
            },
            "type": "scattermap"
           }
          ],
          "scattermapbox": [
           {
            "marker": {
             "colorbar": {
              "outlinewidth": 0,
              "ticks": ""
             }
            },
            "type": "scattermapbox"
           }
          ],
          "scatterpolar": [
           {
            "marker": {
             "colorbar": {
              "outlinewidth": 0,
              "ticks": ""
             }
            },
            "type": "scatterpolar"
           }
          ],
          "scatterpolargl": [
           {
            "marker": {
             "colorbar": {
              "outlinewidth": 0,
              "ticks": ""
             }
            },
            "type": "scatterpolargl"
           }
          ],
          "scatterternary": [
           {
            "marker": {
             "colorbar": {
              "outlinewidth": 0,
              "ticks": ""
             }
            },
            "type": "scatterternary"
           }
          ],
          "surface": [
           {
            "colorbar": {
             "outlinewidth": 0,
             "ticks": ""
            },
            "colorscale": [
             [
              0,
              "#0d0887"
             ],
             [
              0.1111111111111111,
              "#46039f"
             ],
             [
              0.2222222222222222,
              "#7201a8"
             ],
             [
              0.3333333333333333,
              "#9c179e"
             ],
             [
              0.4444444444444444,
              "#bd3786"
             ],
             [
              0.5555555555555556,
              "#d8576b"
             ],
             [
              0.6666666666666666,
              "#ed7953"
             ],
             [
              0.7777777777777778,
              "#fb9f3a"
             ],
             [
              0.8888888888888888,
              "#fdca26"
             ],
             [
              1,
              "#f0f921"
             ]
            ],
            "type": "surface"
           }
          ],
          "table": [
           {
            "cells": {
             "fill": {
              "color": "#EBF0F8"
             },
             "line": {
              "color": "white"
             }
            },
            "header": {
             "fill": {
              "color": "#C8D4E3"
             },
             "line": {
              "color": "white"
             }
            },
            "type": "table"
           }
          ]
         },
         "layout": {
          "annotationdefaults": {
           "arrowcolor": "#2a3f5f",
           "arrowhead": 0,
           "arrowwidth": 1
          },
          "autotypenumbers": "strict",
          "coloraxis": {
           "colorbar": {
            "outlinewidth": 0,
            "ticks": ""
           }
          },
          "colorscale": {
           "diverging": [
            [
             0,
             "#8e0152"
            ],
            [
             0.1,
             "#c51b7d"
            ],
            [
             0.2,
             "#de77ae"
            ],
            [
             0.3,
             "#f1b6da"
            ],
            [
             0.4,
             "#fde0ef"
            ],
            [
             0.5,
             "#f7f7f7"
            ],
            [
             0.6,
             "#e6f5d0"
            ],
            [
             0.7,
             "#b8e186"
            ],
            [
             0.8,
             "#7fbc41"
            ],
            [
             0.9,
             "#4d9221"
            ],
            [
             1,
             "#276419"
            ]
           ],
           "sequential": [
            [
             0,
             "#0d0887"
            ],
            [
             0.1111111111111111,
             "#46039f"
            ],
            [
             0.2222222222222222,
             "#7201a8"
            ],
            [
             0.3333333333333333,
             "#9c179e"
            ],
            [
             0.4444444444444444,
             "#bd3786"
            ],
            [
             0.5555555555555556,
             "#d8576b"
            ],
            [
             0.6666666666666666,
             "#ed7953"
            ],
            [
             0.7777777777777778,
             "#fb9f3a"
            ],
            [
             0.8888888888888888,
             "#fdca26"
            ],
            [
             1,
             "#f0f921"
            ]
           ],
           "sequentialminus": [
            [
             0,
             "#0d0887"
            ],
            [
             0.1111111111111111,
             "#46039f"
            ],
            [
             0.2222222222222222,
             "#7201a8"
            ],
            [
             0.3333333333333333,
             "#9c179e"
            ],
            [
             0.4444444444444444,
             "#bd3786"
            ],
            [
             0.5555555555555556,
             "#d8576b"
            ],
            [
             0.6666666666666666,
             "#ed7953"
            ],
            [
             0.7777777777777778,
             "#fb9f3a"
            ],
            [
             0.8888888888888888,
             "#fdca26"
            ],
            [
             1,
             "#f0f921"
            ]
           ]
          },
          "colorway": [
           "#636efa",
           "#EF553B",
           "#00cc96",
           "#ab63fa",
           "#FFA15A",
           "#19d3f3",
           "#FF6692",
           "#B6E880",
           "#FF97FF",
           "#FECB52"
          ],
          "font": {
           "color": "#2a3f5f"
          },
          "geo": {
           "bgcolor": "white",
           "lakecolor": "white",
           "landcolor": "#E5ECF6",
           "showlakes": true,
           "showland": true,
           "subunitcolor": "white"
          },
          "hoverlabel": {
           "align": "left"
          },
          "hovermode": "closest",
          "mapbox": {
           "style": "light"
          },
          "paper_bgcolor": "white",
          "plot_bgcolor": "#E5ECF6",
          "polar": {
           "angularaxis": {
            "gridcolor": "white",
            "linecolor": "white",
            "ticks": ""
           },
           "bgcolor": "#E5ECF6",
           "radialaxis": {
            "gridcolor": "white",
            "linecolor": "white",
            "ticks": ""
           }
          },
          "scene": {
           "xaxis": {
            "backgroundcolor": "#E5ECF6",
            "gridcolor": "white",
            "gridwidth": 2,
            "linecolor": "white",
            "showbackground": true,
            "ticks": "",
            "zerolinecolor": "white"
           },
           "yaxis": {
            "backgroundcolor": "#E5ECF6",
            "gridcolor": "white",
            "gridwidth": 2,
            "linecolor": "white",
            "showbackground": true,
            "ticks": "",
            "zerolinecolor": "white"
           },
           "zaxis": {
            "backgroundcolor": "#E5ECF6",
            "gridcolor": "white",
            "gridwidth": 2,
            "linecolor": "white",
            "showbackground": true,
            "ticks": "",
            "zerolinecolor": "white"
           }
          },
          "shapedefaults": {
           "line": {
            "color": "#2a3f5f"
           }
          },
          "ternary": {
           "aaxis": {
            "gridcolor": "white",
            "linecolor": "white",
            "ticks": ""
           },
           "baxis": {
            "gridcolor": "white",
            "linecolor": "white",
            "ticks": ""
           },
           "bgcolor": "#E5ECF6",
           "caxis": {
            "gridcolor": "white",
            "linecolor": "white",
            "ticks": ""
           }
          },
          "title": {
           "x": 0.05
          },
          "xaxis": {
           "automargin": true,
           "gridcolor": "white",
           "linecolor": "white",
           "ticks": "",
           "title": {
            "standoff": 15
           },
           "zerolinecolor": "white",
           "zerolinewidth": 2
          },
          "yaxis": {
           "automargin": true,
           "gridcolor": "white",
           "linecolor": "white",
           "ticks": "",
           "title": {
            "standoff": 15
           },
           "zerolinecolor": "white",
           "zerolinewidth": 2
          }
         }
        },
        "xaxis": {
         "anchor": "y",
         "domain": [
          0,
          1
         ],
         "title": {
          "text": "category"
         }
        },
        "yaxis": {
         "anchor": "x",
         "domain": [
          0,
          1
         ],
         "title": {
          "text": "count"
         }
        }
       }
      }
     },
     "metadata": {},
     "output_type": "display_data"
    }
   ],
   "source": [
    "fig = px.bar(top10_cat, x = 'category', y = 'count')\n",
    "fig.show()"
   ]
  },
  {
   "cell_type": "code",
   "execution_count": null,
   "id": "e5d291f7",
   "metadata": {},
   "outputs": [
    {
     "data": {
      "application/vnd.plotly.v1+json": {
       "config": {
        "plotlyServerURL": "https://plot.ly"
       },
       "data": [
        {
         "customdata": [
          [
           "ORIGINAL SIN"
          ],
          [
           "ON TYRANNY"
          ],
          [
           "TRUTHS"
          ],
          [
           "ATTACK FROM WITHIN"
          ],
          [
           "THANK YOU FOR YOUR SERVITUDE"
          ],
          [
           "RED-HANDED"
          ],
          [
           "AMERICAN MARXISM"
          ],
          [
           "AMERICAN MARXISM"
          ],
          [
           "I ALONE CAN FIX IT"
          ],
          [
           "ZERO FAIL"
          ],
          [
           "UNMASKED"
          ],
          [
           "ONE VOTE AWAY"
          ],
          [
           "BLACKOUT"
          ],
          [
           "DISLOYAL"
          ],
          [
           "HOW TO BE AN ANTIRACIST"
          ],
          [
           "HOW TO BE AN ANTIRACIST"
          ],
          [
           "A VERY STABLE GENIUS"
          ],
          [
           "UN-TRUMPING AMERICA"
          ],
          [
           "TRIGGERED"
          ],
          [
           "BLOWOUT"
          ],
          [
           "RADICALS, RESISTANCE AND REVENGE"
          ],
          [
           "THE MUELLER REPORT"
          ],
          [
           "UNFREEDOM OF THE PRESS"
          ],
          [
           "THE MUELLER REPORT"
          ],
          [
           "THE MUELLER REPORT"
          ],
          [
           "LET ME FINISH"
          ],
          [
           "THE POINT OF IT ALL"
          ],
          [
           "SHIP OF FOOLS"
          ],
          [
           "SHIP OF FOOLS"
          ],
          [
           "FEAR"
          ],
          [
           "UNHINGED"
          ],
          [
           "EVERYTHING TRUMP TOUCHES DIES"
          ],
          [
           "THE RUSSIA HOAX"
          ],
          [
           "LIARS, LEAKERS AND LIBERALS"
          ],
          [
           "THINGS THAT MATTER"
          ],
          [
           "WAR ON PEACE"
          ],
          [
           "SECRET EMPIRES"
          ],
          [
           "RUSSIAN ROULETTE"
          ],
          [
           "FIRE AND FURY"
          ],
          [
           "FIRE AND FURY"
          ],
          [
           "FIRE AND FURY"
          ],
          [
           "LET TRUMP BE TRUMP"
          ],
          [
           "UNBELIEVABLE"
          ],
          [
           "UNDERSTANDING TRUMP"
          ],
          [
           "DEMOCRACY"
          ],
          [
           "HILLARY'S AMERICA"
          ],
          [
           "LIARS"
          ],
          [
           "CRISIS OF CHARACTER"
          ],
          [
           "ARMAGEDDON"
          ],
          [
           "CRISIS OF CHARACTER"
          ],
          [
           "GOVERNMENT ZERO"
          ],
          [
           "IT IS ABOUT ISLAM"
          ],
          [
           "PLUNDER AND DECEIT"
          ],
          [
           "CLINTON CASH"
          ],
          [
           "STOP THE COMING CIVIL WAR"
          ],
          [
           "AMERICA"
          ],
          [
           "ONE NATION"
          ]
         ],
         "hovertemplate": "category=political science<br>published_date=%{x}<br>rank=%{y}<br>title=%{customdata[0]}<extra></extra>",
         "legendgroup": "political science",
         "marker": {
          "color": "#636efa",
          "opacity": 1,
          "symbol": "circle"
         },
         "mode": "markers",
         "name": "political science",
         "orientation": "v",
         "showlegend": true,
         "type": "scatter",
         "x": [
          "2025-06-15",
          "2025-03-02",
          "2024-10-13",
          "2024-03-17",
          "2022-07-31",
          "2022-03-13",
          "2021-09-19",
          "2021-08-15",
          "2021-08-15",
          "2021-06-06",
          "2021-02-21",
          "2020-11-08",
          "2020-10-04",
          "2020-10-04",
          "2020-07-26",
          "2020-06-21",
          "2020-03-08",
          "2020-03-08",
          "2019-11-24",
          "2019-10-20",
          "2019-09-15",
          "2019-08-11",
          "2019-07-07",
          "2019-07-07",
          "2019-06-02",
          "2019-02-17",
          "2019-01-13",
          "2018-12-09",
          "2018-11-04",
          "2018-09-30",
          "2018-09-30",
          "2018-08-26",
          "2018-08-26",
          "2018-08-26",
          "2018-07-22",
          "2018-05-13",
          "2018-04-08",
          "2018-04-08",
          "2018-04-08",
          "2018-03-04",
          "2018-01-28",
          "2017-12-24",
          "2017-10-15",
          "2017-07-02",
          "2017-05-28",
          "2016-08-21",
          "2016-08-21",
          "2016-08-21",
          "2016-08-21",
          "2016-07-17",
          "2015-11-15",
          "2015-09-06",
          "2015-09-06",
          "2015-05-24",
          "2014-10-26",
          "2014-08-17",
          "2014-06-08"
         ],
         "xaxis": "x",
         "y": {
          "bdata": "AQICAwIBAgECAgMFAgMCAwQFAQEDBQIFBQUDBAIBBQECBAEDAQIEAQEDAwEEAQIDBQEEAQICBQIB",
          "dtype": "i1"
         },
         "yaxis": "y"
        },
        {
         "customdata": [
          [
           "THE ANXIOUS GENERATION"
          ],
          [
           "THE ANXIOUS GENERATION"
          ],
          [
           "THE ANXIOUS GENERATION"
          ],
          [
           "THE ANXIOUS GENERATION"
          ],
          [
           "THE ANXIOUS GENERATION"
          ],
          [
           "THE ANXIOUS GENERATION"
          ],
          [
           "THE ANXIOUS GENERATION"
          ],
          [
           "THE ANXIOUS GENERATION"
          ],
          [
           "THE ANXIOUS GENERATION"
          ],
          [
           "WHAT HAPPENED TO YOU?"
          ],
          [
           "DOPESICK"
          ],
          [
           "ENLIGHTENMENT NOW"
          ],
          [
           "DAVID AND GOLIATH"
          ]
         ],
         "hovertemplate": "category=psychology<br>published_date=%{x}<br>rank=%{y}<br>title=%{customdata[0]}<extra></extra>",
         "legendgroup": "psychology",
         "marker": {
          "color": "#EF553B",
          "opacity": 1,
          "symbol": "circle"
         },
         "mode": "markers",
         "name": "psychology",
         "orientation": "v",
         "showlegend": true,
         "type": "scatter",
         "x": [
          "2025-06-15",
          "2025-03-02",
          "2025-01-26",
          "2024-10-13",
          "2024-09-08",
          "2024-08-04",
          "2024-06-30",
          "2024-05-26",
          "2024-04-21",
          "2021-06-06",
          "2018-08-26",
          "2018-03-04",
          "2013-12-15"
         ],
         "xaxis": "x",
         "y": {
          "bdata": "AgMCBQMCAwUBBQUCAg==",
          "dtype": "i1"
         },
         "yaxis": "y"
        },
        {
         "customdata": [
          [
           "THE BODY KEEPS THE SCORE"
          ],
          [
           "THE BODY KEEPS THE SCORE"
          ],
          [
           "THE BODY KEEPS THE SCORE"
          ],
          [
           "THE BODY KEEPS THE SCORE"
          ],
          [
           "THE BODY KEEPS THE SCORE"
          ],
          [
           "THE BODY KEEPS THE SCORE"
          ],
          [
           "THE BODY KEEPS THE SCORE"
          ],
          [
           "THE BODY KEEPS THE SCORE"
          ],
          [
           "THE BODY KEEPS THE SCORE"
          ],
          [
           "THE BODY KEEPS THE SCORE"
          ],
          [
           "THE BODY KEEPS THE SCORE"
          ],
          [
           "THE BODY KEEPS THE SCORE"
          ],
          [
           "THE BODY KEEPS THE SCORE"
          ],
          [
           "THE BODY KEEPS THE SCORE"
          ],
          [
           "THE BODY KEEPS THE SCORE"
          ],
          [
           "THE BODY KEEPS THE SCORE"
          ],
          [
           "THE BODY KEEPS THE SCORE"
          ],
          [
           "THE BODY KEEPS THE SCORE"
          ],
          [
           "THE BODY KEEPS THE SCORE"
          ],
          [
           "THE BODY KEEPS THE SCORE"
          ],
          [
           "THE BODY KEEPS THE SCORE"
          ],
          [
           "THE BODY KEEPS THE SCORE"
          ],
          [
           "THE BODY KEEPS THE SCORE"
          ],
          [
           "THE BODY KEEPS THE SCORE"
          ],
          [
           "THE BODY KEEPS THE SCORE"
          ],
          [
           "THE BODY KEEPS THE SCORE"
          ],
          [
           "THE BODY KEEPS THE SCORE"
          ],
          [
           "THE BODY KEEPS THE SCORE"
          ],
          [
           "THE BODY KEEPS THE SCORE"
          ],
          [
           "THE BODY KEEPS THE SCORE"
          ]
         ],
         "hovertemplate": "category=medical<br>published_date=%{x}<br>rank=%{y}<br>title=%{customdata[0]}<extra></extra>",
         "legendgroup": "medical",
         "marker": {
          "color": "#00cc96",
          "opacity": 1,
          "symbol": "circle"
         },
         "mode": "markers",
         "name": "medical",
         "orientation": "v",
         "showlegend": true,
         "type": "scatter",
         "x": [
          "2025-06-15",
          "2025-03-02",
          "2025-01-26",
          "2024-09-08",
          "2024-08-04",
          "2024-04-21",
          "2024-03-17",
          "2024-02-11",
          "2023-09-24",
          "2023-08-20",
          "2023-07-16",
          "2023-06-11",
          "2023-05-07",
          "2023-04-02",
          "2023-02-26",
          "2023-01-22",
          "2022-12-18",
          "2022-11-13",
          "2022-10-09",
          "2022-09-04",
          "2022-07-31",
          "2022-06-26",
          "2022-04-17",
          "2022-03-13",
          "2022-02-06",
          "2021-09-19",
          "2021-08-15",
          "2021-07-11",
          "2021-05-02",
          "2021-01-17"
         ],
         "xaxis": "x",
         "y": {
          "bdata": "AwUDBQQDBAMDBQQEBQUCBAQFBAIDBAECAgMFAQUF",
          "dtype": "i1"
         },
         "yaxis": "y"
        },
        {
         "customdata": [
          [
           "MARK TWAIN"
          ],
          [
           "MATRIARCH"
          ],
          [
           "CARELESS PEOPLE"
          ],
          [
           "RESOLUTE"
          ],
          [
           "THE TELL"
          ],
          [
           "SOURCE CODE"
          ],
          [
           "THE HOUSE OF MY MOTHER"
          ],
          [
           "BE READY WHEN THE LUCK HAPPENS"
          ],
          [
           "CHER: THE MEMOIR, PART ONE"
          ],
          [
           "CHER: THE MEMOIR, PART ONE"
          ],
          [
           "MELANIA"
          ],
          [
           "BE READY WHEN THE LUCK HAPPENS"
          ],
          [
           "MELANIA"
          ],
          [
           "WAR"
          ],
          [
           "BE READY WHEN THE LUCK HAPPENS"
          ],
          [
           "CONFRONTING THE PRESIDENTS"
          ],
          [
           "IMMINENT"
          ],
          [
           "JFK JR."
          ],
          [
           "THE WAR ON WARRIORS"
          ],
          [
           "THE FRIDAY AFTERNOON CLUB"
          ],
          [
           "YOU NEVER KNOW"
          ],
          [
           "BITS AND PIECES"
          ],
          [
           "BURN BOOK"
          ],
          [
           "OATH AND HONOR"
          ],
          [
           "OATH AND HONOR"
          ],
          [
           "THE WOMAN IN ME"
          ],
          [
           "FRIENDS, LOVERS, AND THE BIG TERRIBLE THING"
          ],
          [
           "THE WOMAN IN ME"
          ],
          [
           "MY NAME IS BARBRA"
          ],
          [
           "MY EFFIN' LIFE"
          ],
          [
           "ENOUGH"
          ],
          [
           "ELON MUSK"
          ],
          [
           "AMERICAN PROMETHEUS"
          ],
          [
           "I'M GLAD MY MOM DIED"
          ],
          [
           "THE BOOK OF CHARLIE"
          ],
          [
           "SAVED"
          ],
          [
           "SPARE"
          ],
          [
           "SPARE"
          ],
          [
           "I'M GLAD MY MOM DIED"
          ],
          [
           "THE LIGHT WE CARRY"
          ],
          [
           "THE LIGHT WE CARRY"
          ],
          [
           "I'M GLAD MY MOM DIED"
          ],
          [
           "THE LIGHT WE CARRY"
          ],
          [
           "FRIENDS, LOVERS, AND THE BIG TERRIBLE THING"
          ],
          [
           "I'M GLAD MY MOM DIED"
          ],
          [
           "SURRENDER"
          ],
          [
           "RADIO'S GREATEST OF ALL TIME"
          ],
          [
           "I'M GLAD MY MOM DIED"
          ],
          [
           "AND THERE WAS LIGHT"
          ],
          [
           "WAYPOINTS"
          ],
          [
           "I'M GLAD MY MOM DIED"
          ],
          [
           "DINNERS WITH RUTH"
          ],
          [
           "I'M GLAD MY MOM DIED"
          ],
          [
           "PATH LIT BY LIGHTNING"
          ],
          [
           "DIANA, WILLIAM, AND HARRY"
          ],
          [
           "CRYING IN H MART"
          ],
          [
           "TANQUERAY"
          ],
          [
           "JAMES PATTERSON"
          ],
          [
           "FINDING ME"
          ],
          [
           "FINDING ME"
          ],
          [
           "THIS WILL NOT PASS"
          ],
          [
           "THE PALACE PAPERS"
          ],
          [
           "OUT OF THE CORNER"
          ],
          [
           "WILL"
          ],
          [
           "THE STORYTELLER"
          ],
          [
           "TEN STEPS TO NANETTE"
          ],
          [
           "GREENLIGHTS"
          ],
          [
           "ENOUGH ALREADY"
          ],
          [
           "UNTHINKABLE"
          ],
          [
           "THE STORYTELLER"
          ],
          [
           "WILL"
          ],
          [
           "TASTE"
          ],
          [
           "WILL"
          ],
          [
           "THE STORYTELLER"
          ],
          [
           "THE STORYTELLER"
          ],
          [
           "I'LL TAKE YOUR QUESTIONS NOW"
          ],
          [
           "PERIL"
          ],
          [
           "TASTE"
          ],
          [
           "HOW I SAVED THE WORLD"
          ],
          [
           "GREENLIGHTS"
          ],
          [
           "UNTAMED"
          ],
          [
           "ON THE HOUSE"
          ],
          [
           "EMPIRE OF PAIN"
          ],
          [
           "THE CODE BREAKER"
          ],
          [
           "BROKEN HORSES"
          ],
          [
           "THE CODE BREAKER"
          ],
          [
           "GREENLIGHTS"
          ],
          [
           "FOUR HUNDRED SOULS"
          ],
          [
           "JUST AS I AM"
          ],
          [
           "A PROMISED LAND"
          ],
          [
           "A PROMISED LAND"
          ],
          [
           "GREENLIGHTS"
          ],
          [
           "UNTAMED"
          ],
          [
           "A PROMISED LAND"
          ],
          [
           "GREENLIGHTS"
          ],
          [
           "BECOMING"
          ],
          [
           "MODERN WARRIORS"
          ],
          [
           "GREENLIGHTS"
          ],
          [
           "UNTAMED"
          ],
          [
           "RAGE"
          ],
          [
           "TOO MUCH AND NEVER ENOUGH"
          ],
          [
           "UNTAMED"
          ],
          [
           "ALEXANDER HAMILTON"
          ],
          [
           "UNTAMED"
          ],
          [
           "HIDDEN VALLEY ROAD"
          ],
          [
           "EDUCATED"
          ],
          [
           "UNTAMED"
          ],
          [
           "EDUCATED"
          ],
          [
           "LADY IN WAITING"
          ],
          [
           "EDUCATED"
          ],
          [
           "RUNNING AGAINST THE DEVIL"
          ],
          [
           "EDUCATED"
          ],
          [
           "ME"
          ],
          [
           "BECOMING"
          ],
          [
           "FINDING CHIKA"
          ],
          [
           "ME"
          ],
          [
           "THE BOOK OF GUTSY WOMEN"
          ],
          [
           "THE UNITED STATES OF TRUMP"
          ],
          [
           "EDUCATED"
          ],
          [
           "BECOMING"
          ],
          [
           "BORN A CRIME"
          ],
          [
           "EDUCATED"
          ],
          [
           "BECOMING"
          ],
          [
           "EDUCATED"
          ],
          [
           "BECOMING"
          ],
          [
           "HOWARD STERN COMES AGAIN"
          ],
          [
           "EDUCATED"
          ],
          [
           "BECOMING"
          ],
          [
           "LIFE WILL BE THE DEATH OF ME"
          ],
          [
           "BECOMING"
          ],
          [
           "EDUCATED"
          ],
          [
           "MAYBE YOU SHOULD TALK TO SOMEONE"
          ],
          [
           "THE MATRIARCH"
          ],
          [
           "BECOMING"
          ],
          [
           "THE CASE FOR TRUMP"
          ],
          [
           "EDUCATED"
          ],
          [
           "BORN A CRIME"
          ],
          [
           "BECOMING"
          ],
          [
           "EDUCATED"
          ],
          [
           "TEAM OF VIPERS"
          ],
          [
           "FROM THE GROUND UP"
          ],
          [
           "BECOMING"
          ],
          [
           "EDUCATED"
          ],
          [
           "BECOMING"
          ],
          [
           "EDUCATED"
          ],
          [
           "THIS WILL ONLY HURT A LITTLE"
          ],
          [
           "EDUCATED"
          ],
          [
           "THE RESTLESS WAVE"
          ],
          [
           "EDUCATED"
          ],
          [
           "KITCHEN CONFIDENTIAL"
          ],
          [
           "EDUCATED"
          ],
          [
           "THE RESTLESS WAVE"
          ],
          [
           "A HIGHER LOYALTY"
          ],
          [
           "A HIGHER LOYALTY"
          ],
          [
           "EDUCATED"
          ],
          [
           "EVERYTHING HAPPENS FOR A REASON"
          ],
          [
           "GRANT"
          ],
          [
           "BOBBY KENNEDY"
          ],
          [
           "SISTERS FIRST"
          ],
          [
           "GRANT"
          ],
          [
           "WHAT HAPPENED"
          ],
          [
           "HIT REFRESH"
          ],
          [
           "THE GLASS CASTLE"
          ],
          [
           "AL FRANKEN, GIANT OF THE SENATE"
          ],
          [
           "DEVIL'S BARGAIN"
          ],
          [
           "AL FRANKEN, GIANT OF THE SENATE"
          ],
          [
           "AL FRANKEN, GIANT OF THE SENATE"
          ],
          [
           "I CAN'T MAKE THIS UP"
          ],
          [
           "OPTION B"
          ],
          [
           "SHATTERED"
          ],
          [
           "OLD SCHOOL"
          ],
          [
           "THE MOST BEAUTIFUL"
          ],
          [
           "PORTRAITS OF COURAGE"
          ],
          [
           "THREE DAYS IN JANUARY"
          ],
          [
           "THE MAGNOLIA STORY"
          ],
          [
           "THE MAGNOLIA STORY"
          ],
          [
           "BORN TO RUN"
          ],
          [
           "SETTLE FOR MORE"
          ],
          [
           "OUR REVOLUTION"
          ],
          [
           "SCRAPPY LITTLE NOBODY"
          ],
          [
           "BORN TO RUN"
          ],
          [
           "LOVE WARRIOR"
          ],
          [
           "LOVE WARRIOR"
          ],
          [
           "THE GIRL WITH THE LOWER BACK TATTOO"
          ],
          [
           "WHEN BREATH BECOMES AIR"
          ],
          [
           "ALEXANDER HAMILTON"
          ],
          [
           "ALEXANDER HAMILTON"
          ],
          [
           "WHEN BREATH BECOMES AIR"
          ],
          [
           "BILL O'REILLY'S LEGENDS AND LIES: THE PATRIOTS"
          ],
          [
           "MY LUCKY LIFE IN AND OUT OF SHOW BUSINESS"
          ],
          [
           "WHEN BREATH BECOMES AIR"
          ],
          [
           "ALEXANDER HAMILTON"
          ],
          [
           "THE RAINBOW COMES AND GOES"
          ],
          [
           "WHEN BREATH BECOMES AIR"
          ],
          [
           "ALEXANDER HAMILTON"
          ],
          [
           "WHEN BREATH BECOMES AIR"
          ],
          [
           "MIRACLES FROM HEAVEN"
          ],
          [
           "ALEXANDER HAMILTON"
          ],
          [
           "WHEN BREATH BECOMES AIR"
          ],
          [
           "TURNING THE TABLES"
          ],
          [
           "BETWEEN THE WORLD AND ME"
          ],
          [
           "BETWEEN THE WORLD AND ME"
          ],
          [
           "THOMAS JEFFERSON AND THE TRIPOLI PIRATES"
          ],
          [
           "KILLING REAGAN"
          ],
          [
           "HUMANS OF NEW YORK: STORIES"
          ],
          [
           "KILLING REAGAN"
          ],
          [
           "THOMAS JEFFERSON AND THE TRIPOLI PIRATES"
          ],
          [
           "BETWEEN THE WORLD AND ME"
          ],
          [
           "DESTINY AND POWER"
          ],
          [
           "KILLING REAGAN"
          ],
          [
           "EXTREME OWNERSHIP"
          ],
          [
           "KILLING REAGAN"
          ],
          [
           "WHY NOT ME?"
          ],
          [
           "FURIOUSLY HAPPY"
          ],
          [
           "BETWEEN THE WORLD AND ME"
          ],
          [
           "BETWEEN THE WORLD AND ME"
          ],
          [
           "BETWEEN THE WORLD AND ME"
          ],
          [
           "DOWN THE RABBIT HOLE"
          ],
          [
           "THE WRIGHT BROTHERS"
          ],
          [
           "THE WRIGHT BROTHERS"
          ],
          [
           "PRIMATES OF PARK AVENUE"
          ],
          [
           "THE WRIGHT BROTHERS"
          ],
          [
           "HOPE"
          ],
          [
           "THE BOOK OF JOAN"
          ],
          [
           "IT'S A LONG STORY"
          ],
          [
           "AMERICAN SNIPER"
          ],
          [
           "WILD"
          ],
          [
           "UNBROKEN"
          ],
          [
           "AMERICAN SNIPER"
          ],
          [
           "WILD"
          ],
          [
           "UNBROKEN"
          ],
          [
           "UNBROKEN"
          ],
          [
           "WILD"
          ],
          [
           "CLAPTON"
          ],
          [
           "UNBROKEN"
          ],
          [
           "WILD"
          ],
          [
           "41"
          ],
          [
           "THE ANDY COHEN DIARIES"
          ],
          [
           "UNBROKEN"
          ],
          [
           "NOT THAT KIND OF GIRL"
          ],
          [
           "UNBROKEN"
          ],
          [
           "UNPHILTERED"
          ],
          [
           "ORANGE IS THE NEW BLACK"
          ],
          [
           "IT LOOKED DIFFERENT ON THE MODEL"
          ],
          [
           "FINDING ME"
          ],
          [
           "TWELVE YEARS A SLAVE"
          ],
          [
           "DUTY"
          ],
          [
           "SI-COLOGY 1"
          ],
          [
           "STILL FOOLIN' 'EM"
          ],
          [
           "EMPTY MANSIONS"
          ],
          [
           "ORANGE IS THE NEW BLACK"
          ],
          [
           "PROOF OF HEAVEN"
          ],
          [
           "HAPPY, HAPPY, HAPPY"
          ],
          [
           "UNBREAKABLE"
          ],
          [
           "LEAN IN"
          ]
         ],
         "hovertemplate": "category=biography & autobiography<br>published_date=%{x}<br>rank=%{y}<br>title=%{customdata[0]}<extra></extra>",
         "legendgroup": "biography & autobiography",
         "marker": {
          "color": "#ab63fa",
          "opacity": 1,
          "symbol": "circle"
         },
         "mode": "markers",
         "name": "biography & autobiography",
         "orientation": "v",
         "showlegend": true,
         "type": "scatter",
         "x": [
          "2025-06-15",
          "2025-05-11",
          "2025-04-06",
          "2025-04-06",
          "2025-04-06",
          "2025-03-02",
          "2025-01-26",
          "2025-01-26",
          "2025-01-26",
          "2024-12-22",
          "2024-12-22",
          "2024-12-22",
          "2024-11-17",
          "2024-11-17",
          "2024-11-17",
          "2024-10-13",
          "2024-09-08",
          "2024-08-04",
          "2024-06-30",
          "2024-06-30",
          "2024-05-26",
          "2024-05-26",
          "2024-03-17",
          "2024-02-11",
          "2024-01-07",
          "2024-01-07",
          "2023-12-03",
          "2023-12-03",
          "2023-12-03",
          "2023-12-03",
          "2023-10-29",
          "2023-10-29",
          "2023-08-20",
          "2023-07-16",
          "2023-06-11",
          "2023-04-02",
          "2023-04-02",
          "2023-02-26",
          "2023-02-26",
          "2023-02-26",
          "2023-01-22",
          "2023-01-22",
          "2022-12-18",
          "2022-12-18",
          "2022-12-18",
          "2022-12-18",
          "2022-11-13",
          "2022-11-13",
          "2022-11-13",
          "2022-11-13",
          "2022-10-09",
          "2022-10-09",
          "2022-09-04",
          "2022-09-04",
          "2022-09-04",
          "2022-09-04",
          "2022-07-31",
          "2022-06-26",
          "2022-06-26",
          "2022-05-22",
          "2022-05-22",
          "2022-05-22",
          "2022-05-22",
          "2022-04-17",
          "2022-04-17",
          "2022-04-17",
          "2022-03-13",
          "2022-02-06",
          "2022-02-06",
          "2022-01-02",
          "2022-01-02",
          "2022-01-02",
          "2021-11-28",
          "2021-11-28",
          "2021-10-24",
          "2021-10-24",
          "2021-10-24",
          "2021-10-24",
          "2021-08-15",
          "2021-07-11",
          "2021-07-11",
          "2021-05-02",
          "2021-05-02",
          "2021-05-02",
          "2021-05-02",
          "2021-03-28",
          "2021-03-28",
          "2021-02-21",
          "2021-02-21",
          "2021-02-21",
          "2021-01-17",
          "2021-01-17",
          "2021-01-17",
          "2020-12-13",
          "2020-12-13",
          "2020-12-13",
          "2020-12-13",
          "2020-11-08",
          "2020-11-08",
          "2020-10-04",
          "2020-08-30",
          "2020-08-30",
          "2020-07-26",
          "2020-05-17",
          "2020-05-17",
          "2020-05-17",
          "2020-04-12",
          "2020-04-12",
          "2020-04-12",
          "2020-02-02",
          "2020-02-02",
          "2019-12-29",
          "2019-12-29",
          "2019-12-29",
          "2019-11-24",
          "2019-11-24",
          "2019-10-20",
          "2019-10-20",
          "2019-09-15",
          "2019-09-15",
          "2019-09-15",
          "2019-08-11",
          "2019-08-11",
          "2019-07-07",
          "2019-07-07",
          "2019-06-02",
          "2019-06-02",
          "2019-06-02",
          "2019-04-28",
          "2019-04-28",
          "2019-04-28",
          "2019-04-28",
          "2019-04-28",
          "2019-03-24",
          "2019-03-24",
          "2019-03-24",
          "2019-03-24",
          "2019-02-17",
          "2019-02-17",
          "2019-02-17",
          "2019-02-17",
          "2019-01-13",
          "2019-01-13",
          "2018-12-09",
          "2018-12-09",
          "2018-11-04",
          "2018-09-30",
          "2018-09-30",
          "2018-08-26",
          "2018-07-22",
          "2018-07-22",
          "2018-06-17",
          "2018-06-17",
          "2018-05-13",
          "2018-04-08",
          "2018-03-04",
          "2017-12-24",
          "2017-11-19",
          "2017-11-19",
          "2017-11-19",
          "2017-10-15",
          "2017-10-15",
          "2017-09-10",
          "2017-09-10",
          "2017-08-06",
          "2017-08-06",
          "2017-07-02",
          "2017-07-02",
          "2017-05-28",
          "2017-05-28",
          "2017-04-23",
          "2017-04-23",
          "2017-03-19",
          "2017-02-12",
          "2017-02-12",
          "2017-01-08",
          "2017-01-08",
          "2016-12-04",
          "2016-12-04",
          "2016-12-04",
          "2016-10-30",
          "2016-10-30",
          "2016-09-25",
          "2016-09-25",
          "2016-09-25",
          "2016-09-25",
          "2016-07-17",
          "2016-07-17",
          "2016-07-17",
          "2016-07-17",
          "2016-06-12",
          "2016-06-12",
          "2016-05-08",
          "2016-05-08",
          "2016-05-08",
          "2016-04-03",
          "2016-04-03",
          "2016-04-03",
          "2016-02-28",
          "2016-02-28",
          "2016-02-28",
          "2016-01-24",
          "2016-01-24",
          "2016-01-24",
          "2015-12-20",
          "2015-12-20",
          "2015-12-20",
          "2015-12-20",
          "2015-12-20",
          "2015-11-15",
          "2015-11-15",
          "2015-10-11",
          "2015-10-11",
          "2015-10-11",
          "2015-10-11",
          "2015-09-06",
          "2015-08-02",
          "2015-08-02",
          "2015-08-02",
          "2015-06-28",
          "2015-06-28",
          "2015-05-24",
          "2015-05-24",
          "2015-05-24",
          "2015-05-24",
          "2015-04-19",
          "2015-04-19",
          "2015-04-19",
          "2015-03-15",
          "2015-03-15",
          "2015-03-15",
          "2015-02-08",
          "2015-02-08",
          "2015-02-08",
          "2015-01-04",
          "2015-01-04",
          "2015-01-04",
          "2014-11-30",
          "2014-11-30",
          "2014-10-26",
          "2014-09-21",
          "2014-09-21",
          "2014-07-13",
          "2014-07-13",
          "2014-06-08",
          "2014-02-23",
          "2014-02-23",
          "2013-10-06",
          "2013-10-06",
          "2013-10-06",
          "2013-09-01",
          "2013-07-28",
          "2013-07-28",
          "2013-07-28",
          "2013-06-23"
         ],
         "xaxis": "x",
         "y": {
          "bdata": "BAEDBAUEAQQFAQIDAQMEAwEFAgUCBAIFAgMBAgMEAgMBBQUBAgEDBQECAQIDBQECAwQBBQEDBAUBAQUCAwQFAgMEBAEFAgMFAQQBAgMEBAQFAQIDBAEDAgQFAQIDAQIEBQECAQIFBAEDBAIDBAIEAQIDAgQCBAECBAECAQQBAwQBAgMEBQECAwQBAgMEAQIBAwUCAwMDBAMEAQMFAgIEBQIEAQQBBAIEAgMBBQEEBQIDAQMFAgUBAgQFAgMEBQEEAQMFAQQFAQIDAQQFAQIDBAUBAwECAwUDAQMFAQMBAwQFAgQFAQIDAgMFAQMEAwUCAgQDBAQDBAECBQQBAwQD",
          "dtype": "i1"
         },
         "yaxis": "y"
        },
        {
         "customdata": [
          [
           "ABUNDANCE"
          ],
          [
           "ABUNDANCE"
          ],
          [
           "ABUNDANCE"
          ],
          [
           "REVENGE OF THE TIPPING POINT"
          ],
          [
           "THINK AGAIN"
          ],
          [
           "DARK TOWERS"
          ],
          [
           "TIGHTROPE"
          ],
          [
           "BAD BLOOD"
          ],
          [
           "WHEN"
          ],
          [
           "GRIT"
          ],
          [
           "CAPITAL IN THE TWENTY-FIRST CENTURY"
          ],
          [
           "FLASH BOYS"
          ]
         ],
         "hovertemplate": "category=business & economics<br>published_date=%{x}<br>rank=%{y}<br>title=%{customdata[0]}<extra></extra>",
         "legendgroup": "business & economics",
         "marker": {
          "color": "#FFA15A",
          "opacity": 1,
          "symbol": "circle"
         },
         "mode": "markers",
         "name": "business & economics",
         "orientation": "v",
         "showlegend": true,
         "type": "scatter",
         "x": [
          "2025-06-15",
          "2025-05-11",
          "2025-04-06",
          "2024-11-17",
          "2021-02-21",
          "2020-03-08",
          "2020-02-02",
          "2019-03-24",
          "2018-01-28",
          "2016-06-12",
          "2014-06-08",
          "2014-05-04"
         ],
         "xaxis": "x",
         "y": {
          "bdata": "BQICBQECAwUCAwMC",
          "dtype": "i1"
         },
         "yaxis": "y"
        },
        {
         "customdata": [
          [
           "EVERYTHING IS TUBERCULOSIS"
          ],
          [
           "EVERYTHING IS TUBERCULOSIS"
          ],
          [
           "HILLBILLY ELEGY"
          ],
          [
           "HILLBILLY ELEGY"
          ],
          [
           "THE SUM OF US"
          ],
          [
           "CASTE"
          ],
          [
           "CASTE"
          ],
          [
           "CASTE"
          ],
          [
           "CASTE"
          ],
          [
           "CASTE"
          ],
          [
           "WHITE FRAGILITY"
          ],
          [
           "WHITE FRAGILITY"
          ],
          [
           "ME AND WHITE SUPREMACY"
          ],
          [
           "TALKING TO STRANGERS"
          ],
          [
           "TALKING TO STRANGERS"
          ],
          [
           "TALKING TO STRANGERS"
          ],
          [
           "HILLBILLY ELEGY"
          ],
          [
           "HILLBILLY ELEGY"
          ],
          [
           "HILLBILLY ELEGY"
          ],
          [
           "HILLBILLY ELEGY"
          ],
          [
           "HILLBILLY ELEGY"
          ],
          [
           "HILLBILLY ELEGY"
          ],
          [
           "HILLBILLY ELEGY"
          ],
          [
           "HILLBILLY ELEGY"
          ],
          [
           "HILLBILLY ELEGY"
          ],
          [
           "HILLBILLY ELEGY"
          ],
          [
           "HILLBILLY ELEGY"
          ],
          [
           "TRIBE"
          ],
          [
           "THE ROAD TO CHARACTER"
          ]
         ],
         "hovertemplate": "category=social science<br>published_date=%{x}<br>rank=%{y}<br>title=%{customdata[0]}<extra></extra>",
         "legendgroup": "social science",
         "marker": {
          "color": "#19d3f3",
          "opacity": 1,
          "symbol": "circle"
         },
         "mode": "markers",
         "name": "social science",
         "orientation": "v",
         "showlegend": true,
         "type": "scatter",
         "x": [
          "2025-05-11",
          "2025-04-06",
          "2024-09-08",
          "2024-08-04",
          "2021-03-28",
          "2021-03-28",
          "2021-01-17",
          "2020-11-08",
          "2020-10-04",
          "2020-08-30",
          "2020-07-26",
          "2020-06-21",
          "2020-06-21",
          "2020-02-02",
          "2019-12-29",
          "2019-10-20",
          "2017-09-10",
          "2017-08-06",
          "2017-07-02",
          "2017-04-23",
          "2017-03-19",
          "2017-02-12",
          "2017-01-08",
          "2016-12-04",
          "2016-10-30",
          "2016-09-25",
          "2016-08-21",
          "2016-06-12",
          "2015-06-28"
         ],
         "xaxis": "x",
         "y": {
          "bdata": "AwECAQIEBAMFBAMBBAUFAwICBQQDAgQEBAMEBQU=",
          "dtype": "i1"
         },
         "yaxis": "y"
        },
        {
         "customdata": [
          [
           "NOTES TO JOHN"
          ],
          [
           "THE ANTHROPOCENE REVIEWED"
          ]
         ],
         "hovertemplate": "category=literary collections<br>published_date=%{x}<br>rank=%{y}<br>title=%{customdata[0]}<extra></extra>",
         "legendgroup": "literary collections",
         "marker": {
          "color": "#FF6692",
          "opacity": 1,
          "symbol": "circle"
         },
         "mode": "markers",
         "name": "literary collections",
         "orientation": "v",
         "showlegend": true,
         "type": "scatter",
         "x": [
          "2025-05-11",
          "2021-06-06"
         ],
         "xaxis": "x",
         "y": {
          "bdata": "BAE=",
          "dtype": "i1"
         },
         "yaxis": "y"
        },
        {
         "customdata": [
          [
           "HOPE"
          ],
          [
           "THE NAME OF GOD IS MERCY"
          ],
          [
           "HEAVEN IS FOR REAL"
          ]
         ],
         "hovertemplate": "category=religion<br>published_date=%{x}<br>rank=%{y}<br>title=%{customdata[0]}<extra></extra>",
         "legendgroup": "religion",
         "marker": {
          "color": "#B6E880",
          "opacity": 1,
          "symbol": "circle"
         },
         "mode": "markers",
         "name": "religion",
         "orientation": "v",
         "showlegend": true,
         "type": "scatter",
         "x": [
          "2025-05-11",
          "2016-02-28",
          "2014-05-04"
         ],
         "xaxis": "x",
         "y": {
          "bdata": "BQQB",
          "dtype": "i1"
         },
         "yaxis": "y"
        },
        {
         "customdata": [
          [
           "OUTLIVE"
          ],
          [
           "OUTLIVE"
          ],
          [
           "OUTLIVE"
          ],
          [
           "OUTLIVE"
          ],
          [
           "OUTLIVE"
          ],
          [
           "OUTLIVE"
          ],
          [
           "THE SLEEP REVOLUTION"
          ]
         ],
         "hovertemplate": "category=health & fitness<br>published_date=%{x}<br>rank=%{y}<br>title=%{customdata[0]}<extra></extra>",
         "legendgroup": "health & fitness",
         "marker": {
          "color": "#FF97FF",
          "opacity": 1,
          "symbol": "circle"
         },
         "mode": "markers",
         "name": "health & fitness",
         "orientation": "v",
         "showlegend": true,
         "type": "scatter",
         "x": [
          "2025-03-02",
          "2023-09-24",
          "2023-08-20",
          "2023-07-16",
          "2023-06-11",
          "2023-05-07",
          "2016-05-08"
         ],
         "xaxis": "x",
         "y": {
          "bdata": "AQIDAQMCAg==",
          "dtype": "i1"
         },
         "yaxis": "y"
        },
        {
         "customdata": [
          [
           "FRAMED"
          ],
          [
           "FRAMED"
          ],
          [
           "THE WAGER"
          ],
          [
           "KILLERS OF THE FLOWER MOON"
          ],
          [
           "KILLERS OF THE FLOWER MOON"
          ],
          [
           "THE WAGER"
          ],
          [
           "THE WAGER"
          ],
          [
           "KILLERS OF THE FLOWER MOON"
          ],
          [
           "KILLERS OF THE FLOWER MOON"
          ],
          [
           "KILLERS OF THE FLOWER MOON"
          ],
          [
           "KILLERS OF THE FLOWER MOON"
          ],
          [
           "KILLERS OF THE FLOWER MOON"
          ],
          [
           "THE WAGER"
          ],
          [
           "THE WAGER"
          ],
          [
           "KILLERS OF THE FLOWER MOON"
          ],
          [
           "KILLERS OF THE FLOWER MOON"
          ],
          [
           "THE WAGER"
          ],
          [
           "THE WAGER"
          ],
          [
           "KILLERS OF THE FLOWER MOON"
          ],
          [
           "KILLERS OF THE FLOWER MOON"
          ],
          [
           "I'LL BE GONE IN THE DARK"
          ],
          [
           "ALL-AMERICAN MURDER"
          ],
          [
           "KILLERS OF THE FLOWER MOON"
          ],
          [
           "FILTHY RICH"
          ]
         ],
         "hovertemplate": "category=true crime<br>published_date=%{x}<br>rank=%{y}<br>title=%{customdata[0]}<extra></extra>",
         "legendgroup": "true crime",
         "marker": {
          "color": "#FECB52",
          "opacity": 1,
          "symbol": "circle"
         },
         "mode": "markers",
         "name": "true crime",
         "orientation": "v",
         "showlegend": true,
         "type": "scatter",
         "x": [
          "2024-12-22",
          "2024-11-17",
          "2024-04-21",
          "2024-03-17",
          "2024-02-11",
          "2024-02-11",
          "2024-01-07",
          "2024-01-07",
          "2023-12-03",
          "2023-10-29",
          "2023-09-24",
          "2023-08-20",
          "2023-08-20",
          "2023-07-16",
          "2023-07-16",
          "2023-06-11",
          "2023-06-11",
          "2023-05-07",
          "2023-05-07",
          "2018-05-13",
          "2018-04-08",
          "2018-03-04",
          "2017-05-28",
          "2016-10-30"
         ],
         "xaxis": "x",
         "y": {
          "bdata": "BAIFBQEEAQQFAQECBAIDAQIBAwUFBAUD",
          "dtype": "i1"
         },
         "yaxis": "y"
        },
        {
         "customdata": [
          [
           "THE BACKYARD BIRD CHRONICLES"
          ]
         ],
         "hovertemplate": "category=nature<br>published_date=%{x}<br>rank=%{y}<br>title=%{customdata[0]}<extra></extra>",
         "legendgroup": "nature",
         "marker": {
          "color": "#636efa",
          "opacity": 1,
          "symbol": "circle"
         },
         "mode": "markers",
         "name": "nature",
         "orientation": "v",
         "showlegend": true,
         "type": "scatter",
         "x": [
          "2024-12-22"
         ],
         "xaxis": "x",
         "y": {
          "bdata": "BQ==",
          "dtype": "i1"
         },
         "yaxis": "y"
        },
        {
         "customdata": [
          [
           "THE SMALL AND THE MIGHTY"
          ],
          [
           "TARGETED: BEIRUT"
          ],
          [
           "THE DEMON OF UNREST"
          ],
          [
           "THE DEMON OF UNREST"
          ],
          [
           "THE SITUATION ROOM"
          ],
          [
           "THE DEMON OF UNREST"
          ],
          [
           "NUCLEAR WAR"
          ],
          [
           "BLOOD MONEY"
          ],
          [
           "KILLING THE WITCHES"
          ],
          [
           "THE DIVIDER"
          ],
          [
           "KILLING THE KILLERS"
          ],
          [
           "KILLING THE KILLERS"
          ],
          [
           "AGAINST ALL ODDS"
          ],
          [
           "THE 1619 PROJECT"
          ],
          [
           "THE SPLENDID AND THE VILE"
          ],
          [
           "THE BETRAYAL OF ANNE FRANK"
          ],
          [
           "THE 1619 PROJECT"
          ],
          [
           "THE 1619 PROJECT"
          ],
          [
           "THE DAWN OF EVERYTHING"
          ],
          [
           "THE PRESIDENT AND THE FREEDOM FIGHTER"
          ],
          [
           "VANDERBILT"
          ],
          [
           "THE AFGHANISTAN PAPERS"
          ],
          [
           "KILLING THE MOB"
          ],
          [
           "THE BOMBER MAFIA"
          ],
          [
           "KILLING THE MOB"
          ],
          [
           "KILLING CRAZY HORSE"
          ],
          [
           "KILLING CRAZY HORSE"
          ],
          [
           "THE SPLENDID AND THE VILE"
          ],
          [
           "THE GREAT INFLUENZA"
          ],
          [
           "THE SPLENDID AND THE VILE"
          ],
          [
           "THE GREAT INFLUENZA"
          ],
          [
           "SAM HOUSTON AND THE ALAMO AVENGERS"
          ],
          [
           "SAM HOUSTON AND THE ALAMO AVENGERS"
          ],
          [
           "THE PIONEERS"
          ],
          [
           "THREE WOMEN"
          ],
          [
           "THE PIONEERS"
          ],
          [
           "THE PIONEERS"
          ],
          [
           "THE PIONEERS"
          ],
          [
           "KILLING THE SS"
          ],
          [
           "KILLING THE SS"
          ],
          [
           "KILLING THE SS"
          ],
          [
           "21 LESSONS FOR THE 21ST CENTURY"
          ],
          [
           "THE SOUL OF AMERICA"
          ],
          [
           "THE SOUL OF AMERICA"
          ],
          [
           "ANDREW JACKSON AND THE MIRACLE OF NEW ORLEANS"
          ],
          [
           "ANDREW JACKSON AND THE MIRACLE OF NEW ORLEANS"
          ],
          [
           "KILLING ENGLAND"
          ],
          [
           "THE ZOOKEEPER’S WIFE"
          ],
          [
           "HIDDEN FIGURES"
          ],
          [
           "KILLING THE RISING SUN"
          ],
          [
           "DERELICTION OF DUTY"
          ],
          [
           "HIDDEN FIGURES"
          ],
          [
           "KILLING THE RISING SUN"
          ],
          [
           "KILLING THE RISING SUN"
          ],
          [
           "KILLING THE RISING SUN"
          ],
          [
           "KILLING THE RISING SUN"
          ],
          [
           "THE GENE"
          ],
          [
           "THOMAS JEFFERSON AND THE TRIPOLI PIRATES"
          ],
          [
           "13 HOURS"
          ],
          [
           "THE WITCHES"
          ],
          [
           "THE DEVIL IN THE WHITE CITY"
          ],
          [
           "DEAD WAKE"
          ],
          [
           "DEAD WAKE"
          ],
          [
           "KILLING PATTON"
          ],
          [
           "LONE SURVIVOR"
          ],
          [
           "KILLING JESUS"
          ],
          [
           "GEORGE WASHINGTON'S SECRET SIX"
          ],
          [
           "MIRACLES AND MASSACRES"
          ],
          [
           "KILLING JESUS"
          ]
         ],
         "hovertemplate": "category=history<br>published_date=%{x}<br>rank=%{y}<br>title=%{customdata[0]}<extra></extra>",
         "legendgroup": "history",
         "marker": {
          "color": "#EF553B",
          "opacity": 1,
          "symbol": "circle"
         },
         "mode": "markers",
         "name": "history",
         "orientation": "v",
         "showlegend": true,
         "type": "scatter",
         "x": [
          "2024-10-13",
          "2024-10-13",
          "2024-08-04",
          "2024-06-30",
          "2024-06-30",
          "2024-05-26",
          "2024-04-21",
          "2024-03-17",
          "2023-10-29",
          "2022-10-09",
          "2022-06-26",
          "2022-05-22",
          "2022-04-17",
          "2022-03-13",
          "2022-03-13",
          "2022-02-06",
          "2022-02-06",
          "2022-01-02",
          "2021-11-28",
          "2021-11-28",
          "2021-10-24",
          "2021-09-19",
          "2021-07-11",
          "2021-07-11",
          "2021-06-06",
          "2020-11-08",
          "2020-10-04",
          "2020-05-17",
          "2020-05-17",
          "2020-04-12",
          "2020-04-12",
          "2019-12-29",
          "2019-11-24",
          "2019-09-15",
          "2019-08-11",
          "2019-08-11",
          "2019-07-07",
          "2019-06-02",
          "2019-01-13",
          "2018-12-09",
          "2018-11-04",
          "2018-09-30",
          "2018-07-22",
          "2018-06-17",
          "2017-12-24",
          "2017-11-19",
          "2017-10-15",
          "2017-04-23",
          "2017-03-19",
          "2017-03-19",
          "2017-03-19",
          "2017-02-12",
          "2017-02-12",
          "2017-01-08",
          "2016-12-04",
          "2016-10-30",
          "2016-06-12",
          "2016-05-08",
          "2016-01-24",
          "2015-11-15",
          "2015-09-06",
          "2015-06-28",
          "2015-04-19",
          "2015-01-04",
          "2014-03-30",
          "2014-01-19",
          "2013-12-15",
          "2013-12-15",
          "2013-11-10"
         ],
         "xaxis": "x",
         "y": {
          "bdata": "AQQDAQQBBAEEAgIBBQMFAwQBAgMFAQIDAwQEAgUBBQQDBQMEAwIFAgEEBQIEAwECAgQFAQMBAgECBAMCBQQBAgQCBAUB",
          "dtype": "i1"
         },
         "yaxis": "y"
        },
        {
         "customdata": [
          [
           "WHAT'S NEXT"
          ]
         ],
         "hovertemplate": "category=performing arts<br>published_date=%{x}<br>rank=%{y}<br>title=%{customdata[0]}<extra></extra>",
         "legendgroup": "performing arts",
         "marker": {
          "color": "#00cc96",
          "opacity": 1,
          "symbol": "circle"
         },
         "mode": "markers",
         "name": "performing arts",
         "orientation": "v",
         "showlegend": true,
         "type": "scatter",
         "x": [
          "2024-09-08"
         ],
         "xaxis": "x",
         "y": {
          "bdata": "BA==",
          "dtype": "i1"
         },
         "yaxis": "y"
        },
        {
         "customdata": [
          [
           "THE BOYS IN THE BOAT"
          ],
          [
           "THE BOYS IN THE BOAT"
          ],
          [
           "WHY WE LOVE BASEBALL"
          ],
          [
           "THE BOYS IN THE BOAT"
          ],
          [
           "THE BOYS IN THE BOAT"
          ],
          [
           "THE BOYS IN THE BOAT"
          ],
          [
           "THE BOYS IN THE BOAT"
          ],
          [
           "THE BOYS IN THE BOAT"
          ],
          [
           "THE BOYS IN THE BOAT"
          ],
          [
           "THE BOYS IN THE BOAT"
          ],
          [
           "THE BOYS IN THE BOAT"
          ],
          [
           "THE BOYS IN THE BOAT"
          ]
         ],
         "hovertemplate": "category=sports & recreation<br>published_date=%{x}<br>rank=%{y}<br>title=%{customdata[0]}<extra></extra>",
         "legendgroup": "sports & recreation",
         "marker": {
          "color": "#ab63fa",
          "opacity": 1,
          "symbol": "circle"
         },
         "mode": "markers",
         "name": "sports & recreation",
         "orientation": "v",
         "showlegend": true,
         "type": "scatter",
         "x": [
          "2024-02-11",
          "2024-01-07",
          "2023-09-24",
          "2015-10-11",
          "2015-09-06",
          "2015-08-02",
          "2015-06-28",
          "2015-04-19",
          "2015-03-15",
          "2015-02-08",
          "2014-08-17",
          "2014-07-13"
         ],
         "xaxis": "x",
         "y": {
          "bdata": "AgUFBAQCAgMEBAQF",
          "dtype": "i1"
         },
         "yaxis": "y"
        },
        {
         "customdata": [
          [
           "THE COMING WAVE"
          ],
          [
           "THE INNOVATORS"
          ]
         ],
         "hovertemplate": "category=technology & engineering<br>published_date=%{x}<br>rank=%{y}<br>title=%{customdata[0]}<extra></extra>",
         "legendgroup": "technology & engineering",
         "marker": {
          "color": "#FFA15A",
          "opacity": 1,
          "symbol": "circle"
         },
         "mode": "markers",
         "name": "technology & engineering",
         "orientation": "v",
         "showlegend": true,
         "type": "scatter",
         "x": [
          "2023-09-24",
          "2014-10-26"
         ],
         "xaxis": "x",
         "y": {
          "bdata": "BAM=",
          "dtype": "i1"
         },
         "yaxis": "y"
        },
        {
         "customdata": [
          [
           "YOU CAN'T JOKE ABOUT THAT"
          ],
          [
           "CALYPSO"
          ],
          [
           "CALYPSO"
          ],
          [
           "THE LAST BLACK UNICORN"
          ],
          [
           "DANGEROUS"
          ],
          [
           "MODERN ROMANCE"
          ],
          [
           "YES PLEASE"
          ]
         ],
         "hovertemplate": "category=humor<br>published_date=%{x}<br>rank=%{y}<br>title=%{customdata[0]}<extra></extra>",
         "legendgroup": "humor",
         "marker": {
          "color": "#19d3f3",
          "opacity": 1,
          "symbol": "circle"
         },
         "mode": "markers",
         "name": "humor",
         "orientation": "v",
         "showlegend": true,
         "type": "scatter",
         "x": [
          "2023-05-07",
          "2018-07-22",
          "2018-06-17",
          "2018-01-28",
          "2017-08-06",
          "2015-08-02",
          "2014-11-30"
         ],
         "xaxis": "x",
         "y": {
          "bdata": "BAIBBQUEBA==",
          "dtype": "i1"
         },
         "yaxis": "y"
        },
        {
         "customdata": [
          [
           "THE JANUARY 6TH REPORT"
          ],
          [
           "JUST MERCY"
          ],
          [
           "A MORE PERFECT UNION"
          ],
          [
           "THE LIBERTY AMENDMENTS"
          ]
         ],
         "hovertemplate": "category=law<br>published_date=%{x}<br>rank=%{y}<br>title=%{customdata[0]}<extra></extra>",
         "legendgroup": "law",
         "marker": {
          "color": "#FF6692",
          "opacity": 1,
          "symbol": "circle"
         },
         "mode": "markers",
         "name": "law",
         "orientation": "v",
         "showlegend": true,
         "type": "scatter",
         "x": [
          "2023-01-22",
          "2020-02-02",
          "2015-11-15",
          "2013-09-01"
         ],
         "xaxis": "x",
         "y": {
          "bdata": "BQEFAQ==",
          "dtype": "i1"
         },
         "yaxis": "y"
        },
        {
         "customdata": [
          [
           "STARRY MESSENGER"
          ],
          [
           "HOW TO AVOID A CLIMATE DISASTER"
          ],
          [
           "SAPIENS"
          ],
          [
           "FACTFULNESS"
          ],
          [
           "BRIEF ANSWERS TO THE BIG QUESTIONS"
          ],
          [
           "ASTROPHYSICS FOR PEOPLE IN A HURRY"
          ],
          [
           "ASTROPHYSICS FOR PEOPLE IN A HURRY"
          ],
          [
           "ASTROPHYSICS FOR PEOPLE IN A HURRY"
          ],
          [
           "ASTROPHYSICS FOR PEOPLE IN A HURRY"
          ],
          [
           "ASTROPHYSICS FOR PEOPLE IN A HURRY"
          ],
          [
           "ASTROPHYSICS FOR PEOPLE IN A HURRY"
          ],
          [
           "ASTROPHYSICS FOR PEOPLE IN A HURRY"
          ],
          [
           "THE UNDOING PROJECT"
          ]
         ],
         "hovertemplate": "category=science<br>published_date=%{x}<br>rank=%{y}<br>title=%{customdata[0]}<extra></extra>",
         "legendgroup": "science",
         "marker": {
          "color": "#B6E880",
          "opacity": 1,
          "symbol": "circle"
         },
         "mode": "markers",
         "name": "science",
         "orientation": "v",
         "showlegend": true,
         "type": "scatter",
         "x": [
          "2022-10-09",
          "2021-03-28",
          "2019-01-13",
          "2018-12-09",
          "2018-11-04",
          "2018-03-04",
          "2018-01-28",
          "2017-10-15",
          "2017-09-10",
          "2017-08-06",
          "2017-07-02",
          "2017-05-28",
          "2017-01-08"
         ],
         "xaxis": "x",
         "y": {
          "bdata": "AwUEBQQDAwUDAwMBBQ==",
          "dtype": "i1"
         },
         "yaxis": "y"
        },
        {
         "customdata": [
          [
           "BATTLE FOR THE AMERICAN MIND"
          ]
         ],
         "hovertemplate": "category=education<br>published_date=%{x}<br>rank=%{y}<br>title=%{customdata[0]}<extra></extra>",
         "legendgroup": "education",
         "marker": {
          "color": "#FF97FF",
          "opacity": 1,
          "symbol": "circle"
         },
         "mode": "markers",
         "name": "education",
         "orientation": "v",
         "showlegend": true,
         "type": "scatter",
         "x": [
          "2022-07-31"
         ],
         "xaxis": "x",
         "y": {
          "bdata": "BA==",
          "dtype": "i1"
         },
         "yaxis": "y"
        },
        {
         "customdata": [
          [
           "HAPPY-GO-LUCKY"
          ],
          [
           "HAPPY-GO-LUCKY"
          ],
          [
           "BEING MORTAL"
          ]
         ],
         "hovertemplate": "category=family & relationships<br>published_date=%{x}<br>rank=%{y}<br>title=%{customdata[0]}<extra></extra>",
         "legendgroup": "family & relationships",
         "marker": {
          "color": "#FECB52",
          "opacity": 1,
          "symbol": "circle"
         },
         "mode": "markers",
         "name": "family & relationships",
         "orientation": "v",
         "showlegend": true,
         "type": "scatter",
         "x": [
          "2022-07-31",
          "2022-06-26",
          "2015-03-15"
         ],
         "xaxis": "x",
         "y": {
          "bdata": "BQMF",
          "dtype": "i1"
         },
         "yaxis": "y"
        },
        {
         "customdata": [
          [
           "THE LYRICS: 1956 TO THE PRESENT"
          ],
          [
           "THE LYRICS: 1956 TO THE PRESENT"
          ],
          [
           "OPEN BOOK"
          ],
          [
           "ACID FOR THE CHILDREN"
          ]
         ],
         "hovertemplate": "category=music<br>published_date=%{x}<br>rank=%{y}<br>title=%{customdata[0]}<extra></extra>",
         "legendgroup": "music",
         "marker": {
          "color": "#636efa",
          "opacity": 1,
          "symbol": "circle"
         },
         "mode": "markers",
         "name": "music",
         "orientation": "v",
         "showlegend": true,
         "type": "scatter",
         "x": [
          "2022-01-02",
          "2021-11-28",
          "2020-03-08",
          "2019-11-24"
         ],
         "xaxis": "x",
         "y": {
          "bdata": "BAUDBQ==",
          "dtype": "i1"
         },
         "yaxis": "y"
        },
        {
         "customdata": [
          [
           "THE LONG SLIDE"
          ]
         ],
         "hovertemplate": "category=language arts & disciplines<br>published_date=%{x}<br>rank=%{y}<br>title=%{customdata[0]}<extra></extra>",
         "legendgroup": "language arts & disciplines",
         "marker": {
          "color": "#EF553B",
          "opacity": 1,
          "symbol": "circle"
         },
         "mode": "markers",
         "name": "language arts & disciplines",
         "orientation": "v",
         "showlegend": true,
         "type": "scatter",
         "x": [
          "2021-09-19"
         ],
         "xaxis": "x",
         "y": {
          "bdata": "BA==",
          "dtype": "i1"
         },
         "yaxis": "y"
        },
        {
         "customdata": [
          [
           "THE AUTHORITARIAN MOMENT"
          ],
          [
           "WHY BUDDHISM IS TRUE"
          ]
         ],
         "hovertemplate": "category=philosophy<br>published_date=%{x}<br>rank=%{y}<br>title=%{customdata[0]}<extra></extra>",
         "legendgroup": "philosophy",
         "marker": {
          "color": "#00cc96",
          "opacity": 1,
          "symbol": "circle"
         },
         "mode": "markers",
         "name": "philosophy",
         "orientation": "v",
         "showlegend": true,
         "type": "scatter",
         "x": [
          "2021-08-15",
          "2017-09-10"
         ],
         "xaxis": "x",
         "y": {
          "bdata": "AwU=",
          "dtype": "i1"
         },
         "yaxis": "y"
        },
        {
         "customdata": [
          [
           "SHADE"
          ],
          [
           "OBAMA"
          ]
         ],
         "hovertemplate": "category=photography<br>published_date=%{x}<br>rank=%{y}<br>title=%{customdata[0]}<extra></extra>",
         "legendgroup": "photography",
         "marker": {
          "color": "#ab63fa",
          "opacity": 1,
          "symbol": "circle"
         },
         "mode": "markers",
         "name": "photography",
         "orientation": "v",
         "showlegend": true,
         "type": "scatter",
         "x": [
          "2018-11-04",
          "2017-12-24"
         ],
         "xaxis": "x",
         "y": {
          "bdata": "AwU=",
          "dtype": "i1"
         },
         "yaxis": "y"
        },
        {
         "customdata": [
          [
           "HOW TO CHANGE YOUR MIND"
          ],
          [
           "HALLELUJAH ANYWAY"
          ]
         ],
         "hovertemplate": "category=body, mind & spirit<br>published_date=%{x}<br>rank=%{y}<br>title=%{customdata[0]}<extra></extra>",
         "legendgroup": "body, mind & spirit",
         "marker": {
          "color": "#FFA15A",
          "opacity": 1,
          "symbol": "circle"
         },
         "mode": "markers",
         "name": "body, mind & spirit",
         "orientation": "v",
         "showlegend": true,
         "type": "scatter",
         "x": [
          "2018-06-17",
          "2017-04-23"
         ],
         "xaxis": "x",
         "y": {
          "bdata": "BQM=",
          "dtype": "i1"
         },
         "yaxis": "y"
        },
        {
         "customdata": [
          [
           "LEONARDO DA VINCI"
          ],
          [
           "LEONARDO DA VINCI"
          ],
          [
           "LEONARDO DA VINCI"
          ]
         ],
         "hovertemplate": "category=art<br>published_date=%{x}<br>rank=%{y}<br>title=%{customdata[0]}<extra></extra>",
         "legendgroup": "art",
         "marker": {
          "color": "#19d3f3",
          "opacity": 1,
          "symbol": "circle"
         },
         "mode": "markers",
         "name": "art",
         "orientation": "v",
         "showlegend": true,
         "type": "scatter",
         "x": [
          "2018-01-28",
          "2017-12-24",
          "2017-11-19"
         ],
         "xaxis": "x",
         "y": {
          "bdata": "BAEB",
          "dtype": "i1"
         },
         "yaxis": "y"
        },
        {
         "customdata": [
          [
           "NEITHER HERE NOR THERE"
          ]
         ],
         "hovertemplate": "category=travel<br>published_date=%{x}<br>rank=%{y}<br>title=%{customdata[0]}<extra></extra>",
         "legendgroup": "travel",
         "marker": {
          "color": "#FF6692",
          "opacity": 1,
          "symbol": "circle"
         },
         "mode": "markers",
         "name": "travel",
         "orientation": "v",
         "showlegend": true,
         "type": "scatter",
         "x": [
          "2016-04-03"
         ],
         "xaxis": "x",
         "y": {
          "bdata": "Ag==",
          "dtype": "i1"
         },
         "yaxis": "y"
        },
        {
         "customdata": [
          [
           "DARK MONEY"
          ]
         ],
         "hovertemplate": "category=billionaires<br>published_date=%{x}<br>rank=%{y}<br>title=%{customdata[0]}<extra></extra>",
         "legendgroup": "billionaires",
         "marker": {
          "color": "#B6E880",
          "opacity": 1,
          "symbol": "circle"
         },
         "mode": "markers",
         "name": "billionaires",
         "orientation": "v",
         "showlegend": true,
         "type": "scatter",
         "x": [
          "2016-04-03"
         ],
         "xaxis": "x",
         "y": {
          "bdata": "Aw==",
          "dtype": "i1"
         },
         "yaxis": "y"
        },
        {
         "customdata": [
          [
           "THE ROAD TO LITTLE DRIBBLING"
          ]
         ],
         "hovertemplate": "category=great britain<br>published_date=%{x}<br>rank=%{y}<br>title=%{customdata[0]}<extra></extra>",
         "legendgroup": "great britain",
         "marker": {
          "color": "#FF97FF",
          "opacity": 1,
          "symbol": "circle"
         },
         "mode": "markers",
         "name": "great britain",
         "orientation": "v",
         "showlegend": true,
         "type": "scatter",
         "x": [
          "2016-02-28"
         ],
         "xaxis": "x",
         "y": {
          "bdata": "BQ==",
          "dtype": "i1"
         },
         "yaxis": "y"
        },
        {
         "customdata": [
          [
           "THE BIG SHORT"
          ]
         ],
         "hovertemplate": "category=economics<br>published_date=%{x}<br>rank=%{y}<br>title=%{customdata[0]}<extra></extra>",
         "legendgroup": "economics",
         "marker": {
          "color": "#FECB52",
          "opacity": 1,
          "symbol": "circle"
         },
         "mode": "markers",
         "name": "economics",
         "orientation": "v",
         "showlegend": true,
         "type": "scatter",
         "x": [
          "2016-01-24"
         ],
         "xaxis": "x",
         "y": {
          "bdata": "Ag==",
          "dtype": "i1"
         },
         "yaxis": "y"
        },
        {
         "customdata": [
          [
           "WHAT IF?"
          ],
          [
           "WHAT IF?"
          ],
          [
           "SIX YEARS"
          ],
          [
           "GONE GIRL"
          ],
          [
           "A WEEK IN WINTER"
          ],
          [
           "SAFE HAVEN"
          ],
          [
           "THE PERFECT HOPE"
          ]
         ],
         "hovertemplate": "category=fiction<br>published_date=%{x}<br>rank=%{y}<br>title=%{customdata[0]}<extra></extra>",
         "legendgroup": "fiction",
         "marker": {
          "color": "#636efa",
          "opacity": 1,
          "symbol": "circle"
         },
         "mode": "markers",
         "name": "fiction",
         "orientation": "v",
         "showlegend": true,
         "type": "scatter",
         "x": [
          "2015-01-04",
          "2014-09-21",
          "2013-04-14",
          "2013-03-10",
          "2013-03-10",
          "2013-02-03",
          "2012-11-25"
         ],
         "xaxis": "x",
         "y": {
          "bdata": "BQEDAwUBAQ==",
          "dtype": "i1"
         },
         "yaxis": "y"
        }
       ],
       "layout": {
        "legend": {
         "title": {
          "text": "category"
         },
         "tracegroupgap": 0
        },
        "margin": {
         "t": 60
        },
        "template": {
         "data": {
          "bar": [
           {
            "error_x": {
             "color": "#2a3f5f"
            },
            "error_y": {
             "color": "#2a3f5f"
            },
            "marker": {
             "line": {
              "color": "#E5ECF6",
              "width": 0.5
             },
             "pattern": {
              "fillmode": "overlay",
              "size": 10,
              "solidity": 0.2
             }
            },
            "type": "bar"
           }
          ],
          "barpolar": [
           {
            "marker": {
             "line": {
              "color": "#E5ECF6",
              "width": 0.5
             },
             "pattern": {
              "fillmode": "overlay",
              "size": 10,
              "solidity": 0.2
             }
            },
            "type": "barpolar"
           }
          ],
          "carpet": [
           {
            "aaxis": {
             "endlinecolor": "#2a3f5f",
             "gridcolor": "white",
             "linecolor": "white",
             "minorgridcolor": "white",
             "startlinecolor": "#2a3f5f"
            },
            "baxis": {
             "endlinecolor": "#2a3f5f",
             "gridcolor": "white",
             "linecolor": "white",
             "minorgridcolor": "white",
             "startlinecolor": "#2a3f5f"
            },
            "type": "carpet"
           }
          ],
          "choropleth": [
           {
            "colorbar": {
             "outlinewidth": 0,
             "ticks": ""
            },
            "type": "choropleth"
           }
          ],
          "contour": [
           {
            "colorbar": {
             "outlinewidth": 0,
             "ticks": ""
            },
            "colorscale": [
             [
              0,
              "#0d0887"
             ],
             [
              0.1111111111111111,
              "#46039f"
             ],
             [
              0.2222222222222222,
              "#7201a8"
             ],
             [
              0.3333333333333333,
              "#9c179e"
             ],
             [
              0.4444444444444444,
              "#bd3786"
             ],
             [
              0.5555555555555556,
              "#d8576b"
             ],
             [
              0.6666666666666666,
              "#ed7953"
             ],
             [
              0.7777777777777778,
              "#fb9f3a"
             ],
             [
              0.8888888888888888,
              "#fdca26"
             ],
             [
              1,
              "#f0f921"
             ]
            ],
            "type": "contour"
           }
          ],
          "contourcarpet": [
           {
            "colorbar": {
             "outlinewidth": 0,
             "ticks": ""
            },
            "type": "contourcarpet"
           }
          ],
          "heatmap": [
           {
            "colorbar": {
             "outlinewidth": 0,
             "ticks": ""
            },
            "colorscale": [
             [
              0,
              "#0d0887"
             ],
             [
              0.1111111111111111,
              "#46039f"
             ],
             [
              0.2222222222222222,
              "#7201a8"
             ],
             [
              0.3333333333333333,
              "#9c179e"
             ],
             [
              0.4444444444444444,
              "#bd3786"
             ],
             [
              0.5555555555555556,
              "#d8576b"
             ],
             [
              0.6666666666666666,
              "#ed7953"
             ],
             [
              0.7777777777777778,
              "#fb9f3a"
             ],
             [
              0.8888888888888888,
              "#fdca26"
             ],
             [
              1,
              "#f0f921"
             ]
            ],
            "type": "heatmap"
           }
          ],
          "histogram": [
           {
            "marker": {
             "pattern": {
              "fillmode": "overlay",
              "size": 10,
              "solidity": 0.2
             }
            },
            "type": "histogram"
           }
          ],
          "histogram2d": [
           {
            "colorbar": {
             "outlinewidth": 0,
             "ticks": ""
            },
            "colorscale": [
             [
              0,
              "#0d0887"
             ],
             [
              0.1111111111111111,
              "#46039f"
             ],
             [
              0.2222222222222222,
              "#7201a8"
             ],
             [
              0.3333333333333333,
              "#9c179e"
             ],
             [
              0.4444444444444444,
              "#bd3786"
             ],
             [
              0.5555555555555556,
              "#d8576b"
             ],
             [
              0.6666666666666666,
              "#ed7953"
             ],
             [
              0.7777777777777778,
              "#fb9f3a"
             ],
             [
              0.8888888888888888,
              "#fdca26"
             ],
             [
              1,
              "#f0f921"
             ]
            ],
            "type": "histogram2d"
           }
          ],
          "histogram2dcontour": [
           {
            "colorbar": {
             "outlinewidth": 0,
             "ticks": ""
            },
            "colorscale": [
             [
              0,
              "#0d0887"
             ],
             [
              0.1111111111111111,
              "#46039f"
             ],
             [
              0.2222222222222222,
              "#7201a8"
             ],
             [
              0.3333333333333333,
              "#9c179e"
             ],
             [
              0.4444444444444444,
              "#bd3786"
             ],
             [
              0.5555555555555556,
              "#d8576b"
             ],
             [
              0.6666666666666666,
              "#ed7953"
             ],
             [
              0.7777777777777778,
              "#fb9f3a"
             ],
             [
              0.8888888888888888,
              "#fdca26"
             ],
             [
              1,
              "#f0f921"
             ]
            ],
            "type": "histogram2dcontour"
           }
          ],
          "mesh3d": [
           {
            "colorbar": {
             "outlinewidth": 0,
             "ticks": ""
            },
            "type": "mesh3d"
           }
          ],
          "parcoords": [
           {
            "line": {
             "colorbar": {
              "outlinewidth": 0,
              "ticks": ""
             }
            },
            "type": "parcoords"
           }
          ],
          "pie": [
           {
            "automargin": true,
            "type": "pie"
           }
          ],
          "scatter": [
           {
            "fillpattern": {
             "fillmode": "overlay",
             "size": 10,
             "solidity": 0.2
            },
            "type": "scatter"
           }
          ],
          "scatter3d": [
           {
            "line": {
             "colorbar": {
              "outlinewidth": 0,
              "ticks": ""
             }
            },
            "marker": {
             "colorbar": {
              "outlinewidth": 0,
              "ticks": ""
             }
            },
            "type": "scatter3d"
           }
          ],
          "scattercarpet": [
           {
            "marker": {
             "colorbar": {
              "outlinewidth": 0,
              "ticks": ""
             }
            },
            "type": "scattercarpet"
           }
          ],
          "scattergeo": [
           {
            "marker": {
             "colorbar": {
              "outlinewidth": 0,
              "ticks": ""
             }
            },
            "type": "scattergeo"
           }
          ],
          "scattergl": [
           {
            "marker": {
             "colorbar": {
              "outlinewidth": 0,
              "ticks": ""
             }
            },
            "type": "scattergl"
           }
          ],
          "scattermap": [
           {
            "marker": {
             "colorbar": {
              "outlinewidth": 0,
              "ticks": ""
             }
            },
            "type": "scattermap"
           }
          ],
          "scattermapbox": [
           {
            "marker": {
             "colorbar": {
              "outlinewidth": 0,
              "ticks": ""
             }
            },
            "type": "scattermapbox"
           }
          ],
          "scatterpolar": [
           {
            "marker": {
             "colorbar": {
              "outlinewidth": 0,
              "ticks": ""
             }
            },
            "type": "scatterpolar"
           }
          ],
          "scatterpolargl": [
           {
            "marker": {
             "colorbar": {
              "outlinewidth": 0,
              "ticks": ""
             }
            },
            "type": "scatterpolargl"
           }
          ],
          "scatterternary": [
           {
            "marker": {
             "colorbar": {
              "outlinewidth": 0,
              "ticks": ""
             }
            },
            "type": "scatterternary"
           }
          ],
          "surface": [
           {
            "colorbar": {
             "outlinewidth": 0,
             "ticks": ""
            },
            "colorscale": [
             [
              0,
              "#0d0887"
             ],
             [
              0.1111111111111111,
              "#46039f"
             ],
             [
              0.2222222222222222,
              "#7201a8"
             ],
             [
              0.3333333333333333,
              "#9c179e"
             ],
             [
              0.4444444444444444,
              "#bd3786"
             ],
             [
              0.5555555555555556,
              "#d8576b"
             ],
             [
              0.6666666666666666,
              "#ed7953"
             ],
             [
              0.7777777777777778,
              "#fb9f3a"
             ],
             [
              0.8888888888888888,
              "#fdca26"
             ],
             [
              1,
              "#f0f921"
             ]
            ],
            "type": "surface"
           }
          ],
          "table": [
           {
            "cells": {
             "fill": {
              "color": "#EBF0F8"
             },
             "line": {
              "color": "white"
             }
            },
            "header": {
             "fill": {
              "color": "#C8D4E3"
             },
             "line": {
              "color": "white"
             }
            },
            "type": "table"
           }
          ]
         },
         "layout": {
          "annotationdefaults": {
           "arrowcolor": "#2a3f5f",
           "arrowhead": 0,
           "arrowwidth": 1
          },
          "autotypenumbers": "strict",
          "coloraxis": {
           "colorbar": {
            "outlinewidth": 0,
            "ticks": ""
           }
          },
          "colorscale": {
           "diverging": [
            [
             0,
             "#8e0152"
            ],
            [
             0.1,
             "#c51b7d"
            ],
            [
             0.2,
             "#de77ae"
            ],
            [
             0.3,
             "#f1b6da"
            ],
            [
             0.4,
             "#fde0ef"
            ],
            [
             0.5,
             "#f7f7f7"
            ],
            [
             0.6,
             "#e6f5d0"
            ],
            [
             0.7,
             "#b8e186"
            ],
            [
             0.8,
             "#7fbc41"
            ],
            [
             0.9,
             "#4d9221"
            ],
            [
             1,
             "#276419"
            ]
           ],
           "sequential": [
            [
             0,
             "#0d0887"
            ],
            [
             0.1111111111111111,
             "#46039f"
            ],
            [
             0.2222222222222222,
             "#7201a8"
            ],
            [
             0.3333333333333333,
             "#9c179e"
            ],
            [
             0.4444444444444444,
             "#bd3786"
            ],
            [
             0.5555555555555556,
             "#d8576b"
            ],
            [
             0.6666666666666666,
             "#ed7953"
            ],
            [
             0.7777777777777778,
             "#fb9f3a"
            ],
            [
             0.8888888888888888,
             "#fdca26"
            ],
            [
             1,
             "#f0f921"
            ]
           ],
           "sequentialminus": [
            [
             0,
             "#0d0887"
            ],
            [
             0.1111111111111111,
             "#46039f"
            ],
            [
             0.2222222222222222,
             "#7201a8"
            ],
            [
             0.3333333333333333,
             "#9c179e"
            ],
            [
             0.4444444444444444,
             "#bd3786"
            ],
            [
             0.5555555555555556,
             "#d8576b"
            ],
            [
             0.6666666666666666,
             "#ed7953"
            ],
            [
             0.7777777777777778,
             "#fb9f3a"
            ],
            [
             0.8888888888888888,
             "#fdca26"
            ],
            [
             1,
             "#f0f921"
            ]
           ]
          },
          "colorway": [
           "#636efa",
           "#EF553B",
           "#00cc96",
           "#ab63fa",
           "#FFA15A",
           "#19d3f3",
           "#FF6692",
           "#B6E880",
           "#FF97FF",
           "#FECB52"
          ],
          "font": {
           "color": "#2a3f5f"
          },
          "geo": {
           "bgcolor": "white",
           "lakecolor": "white",
           "landcolor": "#E5ECF6",
           "showlakes": true,
           "showland": true,
           "subunitcolor": "white"
          },
          "hoverlabel": {
           "align": "left"
          },
          "hovermode": "closest",
          "mapbox": {
           "style": "light"
          },
          "paper_bgcolor": "white",
          "plot_bgcolor": "#E5ECF6",
          "polar": {
           "angularaxis": {
            "gridcolor": "white",
            "linecolor": "white",
            "ticks": ""
           },
           "bgcolor": "#E5ECF6",
           "radialaxis": {
            "gridcolor": "white",
            "linecolor": "white",
            "ticks": ""
           }
          },
          "scene": {
           "xaxis": {
            "backgroundcolor": "#E5ECF6",
            "gridcolor": "white",
            "gridwidth": 2,
            "linecolor": "white",
            "showbackground": true,
            "ticks": "",
            "zerolinecolor": "white"
           },
           "yaxis": {
            "backgroundcolor": "#E5ECF6",
            "gridcolor": "white",
            "gridwidth": 2,
            "linecolor": "white",
            "showbackground": true,
            "ticks": "",
            "zerolinecolor": "white"
           },
           "zaxis": {
            "backgroundcolor": "#E5ECF6",
            "gridcolor": "white",
            "gridwidth": 2,
            "linecolor": "white",
            "showbackground": true,
            "ticks": "",
            "zerolinecolor": "white"
           }
          },
          "shapedefaults": {
           "line": {
            "color": "#2a3f5f"
           }
          },
          "ternary": {
           "aaxis": {
            "gridcolor": "white",
            "linecolor": "white",
            "ticks": ""
           },
           "baxis": {
            "gridcolor": "white",
            "linecolor": "white",
            "ticks": ""
           },
           "bgcolor": "#E5ECF6",
           "caxis": {
            "gridcolor": "white",
            "linecolor": "white",
            "ticks": ""
           }
          },
          "title": {
           "x": 0.05
          },
          "xaxis": {
           "automargin": true,
           "gridcolor": "white",
           "linecolor": "white",
           "ticks": "",
           "title": {
            "standoff": 15
           },
           "zerolinecolor": "white",
           "zerolinewidth": 2
          },
          "yaxis": {
           "automargin": true,
           "gridcolor": "white",
           "linecolor": "white",
           "ticks": "",
           "title": {
            "standoff": 15
           },
           "zerolinecolor": "white",
           "zerolinewidth": 2
          }
         }
        },
        "xaxis": {
         "anchor": "y",
         "domain": [
          0,
          1
         ],
         "title": {
          "text": "published_date"
         }
        },
        "yaxis": {
         "anchor": "x",
         "domain": [
          0,
          1
         ],
         "title": {
          "text": "rank"
         }
        }
       }
      }
     },
     "metadata": {},
     "output_type": "display_data"
    }
   ],
   "source": [
    "fig = px.scatter(df[(df['rank']<6)], x = 'published_date', y = 'rank', color='category',opacity=1, hover_data='title',)\n",
    "fig.show()"
   ]
  },
  {
   "cell_type": "code",
   "execution_count": null,
   "id": "8dd99322",
   "metadata": {},
   "outputs": [],
   "source": [
    "top_cats = top10_cat['category'].to_list()"
   ]
  },
  {
   "cell_type": "code",
   "execution_count": null,
   "id": "15646f56",
   "metadata": {},
   "outputs": [
    {
     "data": {
      "text/plain": [
       "['biography & autobiography',\n",
       " 'history',\n",
       " 'political science',\n",
       " 'social science',\n",
       " 'true crime',\n",
       " 'science',\n",
       " 'business & economics',\n",
       " 'medical',\n",
       " 'nature',\n",
       " 'psychology']"
      ]
     },
     "execution_count": 16,
     "metadata": {},
     "output_type": "execute_result"
    }
   ],
   "source": [
    "top_cats"
   ]
  },
  {
   "cell_type": "code",
   "execution_count": null,
   "id": "6c5c0954",
   "metadata": {},
   "outputs": [
    {
     "data": {
      "text/plain": [
       "Index(['age_group', 'amazon_product_url', 'article_chapter_link', 'asterisk',\n",
       "       'author', 'book_image', 'book_image_height', 'book_image_width',\n",
       "       'book_review_link', 'book_uri', 'contributor', 'contributor_note',\n",
       "       'created_date', 'dagger', 'description', 'first_chapter_link', 'price',\n",
       "       'primary_isbn10', 'primary_isbn13', 'publisher', 'rank',\n",
       "       'rank_last_week', 'sunday_review_link', 'title', 'updated_date',\n",
       "       'weeks_on_list', 'category', 'published_date', 'Unnamed: 0'],\n",
       "      dtype='object')"
      ]
     },
     "execution_count": 17,
     "metadata": {},
     "output_type": "execute_result"
    }
   ],
   "source": [
    "df.columns"
   ]
  },
  {
   "cell_type": "code",
   "execution_count": null,
   "id": "9da0df5a",
   "metadata": {},
   "outputs": [
    {
     "data": {
      "application/vnd.microsoft.datawrangler.viewer.v0+json": {
       "columns": [
        {
         "name": "index",
         "rawType": "int64",
         "type": "integer"
        },
        {
         "name": "title",
         "rawType": "object",
         "type": "string"
        },
        {
         "name": "published_date",
         "rawType": "object",
         "type": "string"
        },
        {
         "name": "category",
         "rawType": "object",
         "type": "string"
        },
        {
         "name": "rank",
         "rawType": "int64",
         "type": "integer"
        }
       ],
       "ref": "4c61d6cd-5932-4d3a-8c98-ee44b31f4643",
       "rows": [
        [
         "915",
         "ORIGINAL SIN",
         "2025-06-15",
         "political science",
         "1"
        ],
        [
         "916",
         "THE ANXIOUS GENERATION",
         "2025-06-15",
         "psychology",
         "2"
        ],
        [
         "917",
         "THE BODY KEEPS THE SCORE",
         "2025-06-15",
         "medical",
         "3"
        ],
        [
         "918",
         "MARK TWAIN",
         "2025-06-15",
         "biography & autobiography",
         "4"
        ],
        [
         "919",
         "ABUNDANCE",
         "2025-06-15",
         "business & economics",
         "5"
        ],
        [
         "920",
         "APPLE IN CHINA",
         "2025-06-15",
         "business & economics",
         "6"
        ],
        [
         "921",
         "THE FATE OF THE DAY",
         "2025-06-15",
         "history",
         "7"
        ],
        [
         "922",
         "BIG DUMB EYES",
         "2025-06-15",
         "biography & autobiography",
         "8"
        ],
        [
         "923",
         "UNCOMMON FAVOR",
         "2025-06-15",
         "biography & autobiography",
         "9"
        ],
        [
         "924",
         "ON TYRANNY",
         "2025-06-15",
         "political science",
         "10"
        ],
        [
         "925",
         "EVERYTHING IS TUBERCULOSIS",
         "2025-06-15",
         "social science",
         "11"
        ],
        [
         "926",
         "WHEN BREATH BECOMES AIR",
         "2025-06-15",
         "biography & autobiography",
         "12"
        ],
        [
         "927",
         "MY NEXT BREATH",
         "2025-06-15",
         "biography & autobiography",
         "13"
        ],
        [
         "928",
         "EMPIRE OF AI",
         "2025-06-15",
         "technology & engineering",
         "14"
        ],
        [
         "929",
         "THE WAGER",
         "2025-06-15",
         "true crime",
         "15"
        ],
        [
         "15",
         "MATRIARCH",
         "2025-05-11",
         "biography & autobiography",
         "1"
        ],
        [
         "16",
         "ABUNDANCE",
         "2025-05-11",
         "business & economics",
         "2"
        ],
        [
         "17",
         "EVERYTHING IS TUBERCULOSIS",
         "2025-05-11",
         "social science",
         "3"
        ],
        [
         "18",
         "NOTES TO JOHN",
         "2025-05-11",
         "literary collections",
         "4"
        ],
        [
         "19",
         "HOPE",
         "2025-05-11",
         "religion",
         "5"
        ],
        [
         "20",
         "THE ANXIOUS GENERATION",
         "2025-05-11",
         "psychology",
         "6"
        ],
        [
         "21",
         "ON TYRANNY",
         "2025-05-11",
         "political science",
         "7"
        ],
        [
         "22",
         "THE BODY KEEPS THE SCORE",
         "2025-05-11",
         "medical",
         "8"
        ],
        [
         "23",
         "WHO IS GOVERNMENT?",
         "2025-05-11",
         "political science",
         "9"
        ],
        [
         "24",
         "ON DEMOCRACIES AND DEATH CULTS",
         "2025-05-11",
         "history",
         "10"
        ],
        [
         "25",
         "THE PROJECT",
         "2025-05-11",
         "political science",
         "11"
        ],
        [
         "26",
         "GENOCIDE BAD",
         "2025-05-11",
         "political science",
         "12"
        ],
        [
         "27",
         "CARELESS PEOPLE",
         "2025-05-11",
         "biography & autobiography",
         "13"
        ],
        [
         "28",
         "FIGHT",
         "2025-05-11",
         "biography & autobiography",
         "14"
        ],
        [
         "29",
         "THE SERVICEBERRY",
         "2025-05-11",
         "nature",
         "15"
        ],
        [
         "930",
         "EVERYTHING IS TUBERCULOSIS",
         "2025-04-06",
         "social science",
         "1"
        ]
       ],
       "shape": {
        "columns": 4,
        "rows": 31
       }
      },
      "text/html": [
       "<div>\n",
       "<style scoped>\n",
       "    .dataframe tbody tr th:only-of-type {\n",
       "        vertical-align: middle;\n",
       "    }\n",
       "\n",
       "    .dataframe tbody tr th {\n",
       "        vertical-align: top;\n",
       "    }\n",
       "\n",
       "    .dataframe thead th {\n",
       "        text-align: right;\n",
       "    }\n",
       "</style>\n",
       "<table border=\"1\" class=\"dataframe\">\n",
       "  <thead>\n",
       "    <tr style=\"text-align: right;\">\n",
       "      <th></th>\n",
       "      <th>title</th>\n",
       "      <th>published_date</th>\n",
       "      <th>category</th>\n",
       "      <th>rank</th>\n",
       "    </tr>\n",
       "  </thead>\n",
       "  <tbody>\n",
       "    <tr>\n",
       "      <th>915</th>\n",
       "      <td>ORIGINAL SIN</td>\n",
       "      <td>2025-06-15</td>\n",
       "      <td>political science</td>\n",
       "      <td>1</td>\n",
       "    </tr>\n",
       "    <tr>\n",
       "      <th>916</th>\n",
       "      <td>THE ANXIOUS GENERATION</td>\n",
       "      <td>2025-06-15</td>\n",
       "      <td>psychology</td>\n",
       "      <td>2</td>\n",
       "    </tr>\n",
       "    <tr>\n",
       "      <th>917</th>\n",
       "      <td>THE BODY KEEPS THE SCORE</td>\n",
       "      <td>2025-06-15</td>\n",
       "      <td>medical</td>\n",
       "      <td>3</td>\n",
       "    </tr>\n",
       "    <tr>\n",
       "      <th>918</th>\n",
       "      <td>MARK TWAIN</td>\n",
       "      <td>2025-06-15</td>\n",
       "      <td>biography &amp; autobiography</td>\n",
       "      <td>4</td>\n",
       "    </tr>\n",
       "    <tr>\n",
       "      <th>919</th>\n",
       "      <td>ABUNDANCE</td>\n",
       "      <td>2025-06-15</td>\n",
       "      <td>business &amp; economics</td>\n",
       "      <td>5</td>\n",
       "    </tr>\n",
       "    <tr>\n",
       "      <th>920</th>\n",
       "      <td>APPLE IN CHINA</td>\n",
       "      <td>2025-06-15</td>\n",
       "      <td>business &amp; economics</td>\n",
       "      <td>6</td>\n",
       "    </tr>\n",
       "    <tr>\n",
       "      <th>921</th>\n",
       "      <td>THE FATE OF THE DAY</td>\n",
       "      <td>2025-06-15</td>\n",
       "      <td>history</td>\n",
       "      <td>7</td>\n",
       "    </tr>\n",
       "    <tr>\n",
       "      <th>922</th>\n",
       "      <td>BIG DUMB EYES</td>\n",
       "      <td>2025-06-15</td>\n",
       "      <td>biography &amp; autobiography</td>\n",
       "      <td>8</td>\n",
       "    </tr>\n",
       "    <tr>\n",
       "      <th>923</th>\n",
       "      <td>UNCOMMON FAVOR</td>\n",
       "      <td>2025-06-15</td>\n",
       "      <td>biography &amp; autobiography</td>\n",
       "      <td>9</td>\n",
       "    </tr>\n",
       "    <tr>\n",
       "      <th>924</th>\n",
       "      <td>ON TYRANNY</td>\n",
       "      <td>2025-06-15</td>\n",
       "      <td>political science</td>\n",
       "      <td>10</td>\n",
       "    </tr>\n",
       "    <tr>\n",
       "      <th>925</th>\n",
       "      <td>EVERYTHING IS TUBERCULOSIS</td>\n",
       "      <td>2025-06-15</td>\n",
       "      <td>social science</td>\n",
       "      <td>11</td>\n",
       "    </tr>\n",
       "    <tr>\n",
       "      <th>926</th>\n",
       "      <td>WHEN BREATH BECOMES AIR</td>\n",
       "      <td>2025-06-15</td>\n",
       "      <td>biography &amp; autobiography</td>\n",
       "      <td>12</td>\n",
       "    </tr>\n",
       "    <tr>\n",
       "      <th>927</th>\n",
       "      <td>MY NEXT BREATH</td>\n",
       "      <td>2025-06-15</td>\n",
       "      <td>biography &amp; autobiography</td>\n",
       "      <td>13</td>\n",
       "    </tr>\n",
       "    <tr>\n",
       "      <th>928</th>\n",
       "      <td>EMPIRE OF AI</td>\n",
       "      <td>2025-06-15</td>\n",
       "      <td>technology &amp; engineering</td>\n",
       "      <td>14</td>\n",
       "    </tr>\n",
       "    <tr>\n",
       "      <th>929</th>\n",
       "      <td>THE WAGER</td>\n",
       "      <td>2025-06-15</td>\n",
       "      <td>true crime</td>\n",
       "      <td>15</td>\n",
       "    </tr>\n",
       "    <tr>\n",
       "      <th>15</th>\n",
       "      <td>MATRIARCH</td>\n",
       "      <td>2025-05-11</td>\n",
       "      <td>biography &amp; autobiography</td>\n",
       "      <td>1</td>\n",
       "    </tr>\n",
       "    <tr>\n",
       "      <th>16</th>\n",
       "      <td>ABUNDANCE</td>\n",
       "      <td>2025-05-11</td>\n",
       "      <td>business &amp; economics</td>\n",
       "      <td>2</td>\n",
       "    </tr>\n",
       "    <tr>\n",
       "      <th>17</th>\n",
       "      <td>EVERYTHING IS TUBERCULOSIS</td>\n",
       "      <td>2025-05-11</td>\n",
       "      <td>social science</td>\n",
       "      <td>3</td>\n",
       "    </tr>\n",
       "    <tr>\n",
       "      <th>18</th>\n",
       "      <td>NOTES TO JOHN</td>\n",
       "      <td>2025-05-11</td>\n",
       "      <td>literary collections</td>\n",
       "      <td>4</td>\n",
       "    </tr>\n",
       "    <tr>\n",
       "      <th>19</th>\n",
       "      <td>HOPE</td>\n",
       "      <td>2025-05-11</td>\n",
       "      <td>religion</td>\n",
       "      <td>5</td>\n",
       "    </tr>\n",
       "    <tr>\n",
       "      <th>20</th>\n",
       "      <td>THE ANXIOUS GENERATION</td>\n",
       "      <td>2025-05-11</td>\n",
       "      <td>psychology</td>\n",
       "      <td>6</td>\n",
       "    </tr>\n",
       "    <tr>\n",
       "      <th>21</th>\n",
       "      <td>ON TYRANNY</td>\n",
       "      <td>2025-05-11</td>\n",
       "      <td>political science</td>\n",
       "      <td>7</td>\n",
       "    </tr>\n",
       "    <tr>\n",
       "      <th>22</th>\n",
       "      <td>THE BODY KEEPS THE SCORE</td>\n",
       "      <td>2025-05-11</td>\n",
       "      <td>medical</td>\n",
       "      <td>8</td>\n",
       "    </tr>\n",
       "    <tr>\n",
       "      <th>23</th>\n",
       "      <td>WHO IS GOVERNMENT?</td>\n",
       "      <td>2025-05-11</td>\n",
       "      <td>political science</td>\n",
       "      <td>9</td>\n",
       "    </tr>\n",
       "    <tr>\n",
       "      <th>24</th>\n",
       "      <td>ON DEMOCRACIES AND DEATH CULTS</td>\n",
       "      <td>2025-05-11</td>\n",
       "      <td>history</td>\n",
       "      <td>10</td>\n",
       "    </tr>\n",
       "    <tr>\n",
       "      <th>25</th>\n",
       "      <td>THE PROJECT</td>\n",
       "      <td>2025-05-11</td>\n",
       "      <td>political science</td>\n",
       "      <td>11</td>\n",
       "    </tr>\n",
       "    <tr>\n",
       "      <th>26</th>\n",
       "      <td>GENOCIDE BAD</td>\n",
       "      <td>2025-05-11</td>\n",
       "      <td>political science</td>\n",
       "      <td>12</td>\n",
       "    </tr>\n",
       "    <tr>\n",
       "      <th>27</th>\n",
       "      <td>CARELESS PEOPLE</td>\n",
       "      <td>2025-05-11</td>\n",
       "      <td>biography &amp; autobiography</td>\n",
       "      <td>13</td>\n",
       "    </tr>\n",
       "    <tr>\n",
       "      <th>28</th>\n",
       "      <td>FIGHT</td>\n",
       "      <td>2025-05-11</td>\n",
       "      <td>biography &amp; autobiography</td>\n",
       "      <td>14</td>\n",
       "    </tr>\n",
       "    <tr>\n",
       "      <th>29</th>\n",
       "      <td>THE SERVICEBERRY</td>\n",
       "      <td>2025-05-11</td>\n",
       "      <td>nature</td>\n",
       "      <td>15</td>\n",
       "    </tr>\n",
       "    <tr>\n",
       "      <th>930</th>\n",
       "      <td>EVERYTHING IS TUBERCULOSIS</td>\n",
       "      <td>2025-04-06</td>\n",
       "      <td>social science</td>\n",
       "      <td>1</td>\n",
       "    </tr>\n",
       "  </tbody>\n",
       "</table>\n",
       "</div>"
      ],
      "text/plain": [
       "                              title published_date                   category  \\\n",
       "915                    ORIGINAL SIN     2025-06-15          political science   \n",
       "916          THE ANXIOUS GENERATION     2025-06-15                 psychology   \n",
       "917        THE BODY KEEPS THE SCORE     2025-06-15                    medical   \n",
       "918                      MARK TWAIN     2025-06-15  biography & autobiography   \n",
       "919                       ABUNDANCE     2025-06-15       business & economics   \n",
       "920                  APPLE IN CHINA     2025-06-15       business & economics   \n",
       "921             THE FATE OF THE DAY     2025-06-15                    history   \n",
       "922                   BIG DUMB EYES     2025-06-15  biography & autobiography   \n",
       "923                  UNCOMMON FAVOR     2025-06-15  biography & autobiography   \n",
       "924                      ON TYRANNY     2025-06-15          political science   \n",
       "925      EVERYTHING IS TUBERCULOSIS     2025-06-15             social science   \n",
       "926         WHEN BREATH BECOMES AIR     2025-06-15  biography & autobiography   \n",
       "927                  MY NEXT BREATH     2025-06-15  biography & autobiography   \n",
       "928                    EMPIRE OF AI     2025-06-15   technology & engineering   \n",
       "929                       THE WAGER     2025-06-15                 true crime   \n",
       "15                        MATRIARCH     2025-05-11  biography & autobiography   \n",
       "16                        ABUNDANCE     2025-05-11       business & economics   \n",
       "17       EVERYTHING IS TUBERCULOSIS     2025-05-11             social science   \n",
       "18                    NOTES TO JOHN     2025-05-11       literary collections   \n",
       "19                             HOPE     2025-05-11                   religion   \n",
       "20           THE ANXIOUS GENERATION     2025-05-11                 psychology   \n",
       "21                       ON TYRANNY     2025-05-11          political science   \n",
       "22         THE BODY KEEPS THE SCORE     2025-05-11                    medical   \n",
       "23               WHO IS GOVERNMENT?     2025-05-11          political science   \n",
       "24   ON DEMOCRACIES AND DEATH CULTS     2025-05-11                    history   \n",
       "25                      THE PROJECT     2025-05-11          political science   \n",
       "26                     GENOCIDE BAD     2025-05-11          political science   \n",
       "27                  CARELESS PEOPLE     2025-05-11  biography & autobiography   \n",
       "28                            FIGHT     2025-05-11  biography & autobiography   \n",
       "29                 THE SERVICEBERRY     2025-05-11                     nature   \n",
       "930      EVERYTHING IS TUBERCULOSIS     2025-04-06             social science   \n",
       "\n",
       "     rank  \n",
       "915     1  \n",
       "916     2  \n",
       "917     3  \n",
       "918     4  \n",
       "919     5  \n",
       "920     6  \n",
       "921     7  \n",
       "922     8  \n",
       "923     9  \n",
       "924    10  \n",
       "925    11  \n",
       "926    12  \n",
       "927    13  \n",
       "928    14  \n",
       "929    15  \n",
       "15      1  \n",
       "16      2  \n",
       "17      3  \n",
       "18      4  \n",
       "19      5  \n",
       "20      6  \n",
       "21      7  \n",
       "22      8  \n",
       "23      9  \n",
       "24     10  \n",
       "25     11  \n",
       "26     12  \n",
       "27     13  \n",
       "28     14  \n",
       "29     15  \n",
       "930     1  "
      ]
     },
     "execution_count": 18,
     "metadata": {},
     "output_type": "execute_result"
    }
   ],
   "source": [
    "clean_df = df[['title','published_date','category','rank']]\n",
    "clean_df.head(31)"
   ]
  },
  {
   "cell_type": "code",
   "execution_count": null,
   "id": "027257bb",
   "metadata": {},
   "outputs": [],
   "source": [
    "clean_df.to_csv('clean_df.csv',index=False)"
   ]
  }
 ],
 "metadata": {
  "kernelspec": {
   "display_name": "Python 3",
   "language": "python",
   "name": "python3"
  },
  "language_info": {
   "codemirror_mode": {
    "name": "ipython",
    "version": 3
   },
   "file_extension": ".py",
   "mimetype": "text/x-python",
   "name": "python",
   "nbconvert_exporter": "python",
   "pygments_lexer": "ipython3",
   "version": "3.12.8"
  }
 },
 "nbformat": 4,
 "nbformat_minor": 5
}
