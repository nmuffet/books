{
 "cells": [
  {
   "cell_type": "code",
   "execution_count": 1,
   "id": "b82c1087",
   "metadata": {},
   "outputs": [],
   "source": [
    "import requests\n",
    "import pandas as pd\n",
    "\n",
    "import time\n",
    "\n",
    "import os\n",
    "from dotenv import load_dotenv\n",
    "\n",
    "load_dotenv()\n",
    "\n",
    "google_key = os.getenv(\"GOOGLE_BOOKS\")\n",
    "nyt_key = os.getenv(\"NYT\")"
   ]
  },
  {
   "cell_type": "code",
   "execution_count": 2,
   "id": "78d15cf9",
   "metadata": {},
   "outputs": [],
   "source": [
    "import plotly.express as px\n",
    "import plotly.io as pio\n",
    "import plotly.graph_objects as go\n",
    "pio.templates.default = \"plotly_white\""
   ]
  },
  {
   "cell_type": "code",
   "execution_count": 3,
   "id": "51f0abea",
   "metadata": {},
   "outputs": [],
   "source": [
    "df_cached = pd.read_csv('df_cached.csv')\n",
    "df_cached['primary_isbn13'] = df_cached['primary_isbn13'].apply(str)"
   ]
  },
  {
   "cell_type": "code",
   "execution_count": 4,
   "id": "cebe6e0b",
   "metadata": {},
   "outputs": [
    {
     "data": {
      "application/vnd.microsoft.datawrangler.viewer.v0+json": {
       "columns": [
        {
         "name": "index",
         "rawType": "int64",
         "type": "integer"
        },
        {
         "name": "age_group",
         "rawType": "float64",
         "type": "float"
        },
        {
         "name": "amazon_product_url",
         "rawType": "object",
         "type": "string"
        },
        {
         "name": "article_chapter_link",
         "rawType": "float64",
         "type": "float"
        },
        {
         "name": "asterisk",
         "rawType": "int64",
         "type": "integer"
        },
        {
         "name": "author",
         "rawType": "object",
         "type": "string"
        },
        {
         "name": "book_image",
         "rawType": "object",
         "type": "string"
        },
        {
         "name": "book_image_height",
         "rawType": "int64",
         "type": "integer"
        },
        {
         "name": "book_image_width",
         "rawType": "int64",
         "type": "integer"
        },
        {
         "name": "book_review_link",
         "rawType": "object",
         "type": "unknown"
        },
        {
         "name": "book_uri",
         "rawType": "object",
         "type": "string"
        },
        {
         "name": "contributor",
         "rawType": "object",
         "type": "string"
        },
        {
         "name": "contributor_note",
         "rawType": "object",
         "type": "unknown"
        },
        {
         "name": "created_date",
         "rawType": "object",
         "type": "string"
        },
        {
         "name": "dagger",
         "rawType": "int64",
         "type": "integer"
        },
        {
         "name": "description",
         "rawType": "object",
         "type": "unknown"
        },
        {
         "name": "first_chapter_link",
         "rawType": "object",
         "type": "unknown"
        },
        {
         "name": "price",
         "rawType": "float64",
         "type": "float"
        },
        {
         "name": "primary_isbn10",
         "rawType": "float64",
         "type": "float"
        },
        {
         "name": "primary_isbn13",
         "rawType": "object",
         "type": "string"
        },
        {
         "name": "publisher",
         "rawType": "object",
         "type": "unknown"
        },
        {
         "name": "rank",
         "rawType": "int64",
         "type": "integer"
        },
        {
         "name": "rank_last_week",
         "rawType": "int64",
         "type": "integer"
        },
        {
         "name": "sunday_review_link",
         "rawType": "float64",
         "type": "float"
        },
        {
         "name": "title",
         "rawType": "object",
         "type": "string"
        },
        {
         "name": "updated_date",
         "rawType": "object",
         "type": "string"
        },
        {
         "name": "weeks_on_list",
         "rawType": "int64",
         "type": "integer"
        },
        {
         "name": "category",
         "rawType": "object",
         "type": "unknown"
        },
        {
         "name": "published_date",
         "rawType": "object",
         "type": "string"
        },
        {
         "name": "Unnamed: 0",
         "rawType": "float64",
         "type": "float"
        },
        {
         "name": "date_datetime",
         "rawType": "object",
         "type": "unknown"
        }
       ],
       "ref": "2f45616f-bae7-4654-b528-f2a0e26d70a4",
       "rows": [
        [
         "0",
         null,
         "https://www.amazon.com/dp/B0DTYKCJC9?tag=thenewyorktim-20",
         null,
         "0",
         "Jake Tapper and Alex Thompson",
         "https://static01.nyt.com/bestsellers/images/9798217060672.jpg",
         "500",
         "329",
         null,
         "nyt://book/786e31c1-bc83-50f1-bd8d-995926458641",
         "by Jake Tapper and Alex Thompson",
         null,
         "2025-06-02T23:13:46.798Z",
         "0",
         "An account of Joe Biden’s initial decision to run for re-election in 2024 and its numerous consequences.",
         null,
         "0.0",
         null,
         "9798217060672",
         "Penguin Press",
         "1",
         "0",
         null,
         "ORIGINAL SIN",
         "2025-06-02T23:13:46.798Z",
         "1",
         "Political Science",
         "2025-06-08",
         null,
         null
        ],
        [
         "1",
         null,
         "https://www.amazon.com/dp/1668023369?tag=thenewyorktim-20",
         null,
         "0",
         "Dawn Staley",
         "https://static01.nyt.com/bestsellers/images/9781668023365.jpg",
         "500",
         "329",
         null,
         "nyt://book/93e1c5cf-1a3f-5ede-b081-ca9bbd7d30a2",
         "by Dawn Staley",
         null,
         "2025-06-02T23:13:46.873Z",
         "0",
         "The three-time Olympic gold medalist and six-time W.N.B.A. All-Star, who is the head coach for the South Carolina Gamecocks women’s basketball team, describes obstacles she encountered on and off the court.",
         null,
         "0.0",
         null,
         "9781668023365",
         "Atria/Black Privilege",
         "2",
         "0",
         null,
         "UNCOMMON FAVOR",
         "2025-06-02T23:13:46.873Z",
         "1",
         "Biography & Autobiography",
         "2025-06-08",
         null,
         null
        ],
        [
         "2",
         null,
         "https://www.amazon.com/dp/0525561722?tag=thenewyorktim-20",
         null,
         "0",
         "Ron Chernow",
         "https://static01.nyt.com/bestsellers/images/9780525561729.jpg",
         "500",
         "329",
         null,
         "nyt://book/b92f68c9-76ad-5510-8520-c5864d663b19",
         "by Ron Chernow",
         null,
         "2025-06-02T23:13:46.947Z",
         "0",
         "The Pulitzer Prize-winning biographer portrays the life and career of the literary celebrity and political pundit.",
         null,
         "0.0",
         null,
         "9780525561729",
         "Penguin Press",
         "3",
         "1",
         null,
         "MARK TWAIN",
         "2025-06-02T23:13:46.947Z",
         "2",
         "Biography & Autobiography",
         "2025-06-08",
         null,
         null
        ],
        [
         "3",
         null,
         "https://www.amazon.com/dp/1668053373?tag=thenewyorktim-20",
         null,
         "0",
         "Patrick McGee",
         "https://static01.nyt.com/bestsellers/images/9781668053379.jpg",
         "500",
         "331",
         null,
         "nyt://book/82ca74aa-bab8-5b05-9a1f-f8f7e383e1e2",
         "by Patrick McGee",
         null,
         "2025-06-02T23:13:47.02Z",
         "0",
         "A journalist depicts the development of Apple’s supply chain and its increasingly precarious relationship with China.",
         null,
         "0.0",
         null,
         "9781668053379",
         "Scribner",
         "4",
         "0",
         null,
         "APPLE IN CHINA",
         "2025-06-02T23:13:47.02Z",
         "1",
         "Business & Economics",
         "2025-06-08",
         null,
         null
        ],
        [
         "4",
         null,
         "https://www.amazon.com/dp/0593655036?tag=thenewyorktim-20",
         null,
         "0",
         "Jonathan Haidt",
         "https://static01.nyt.com/bestsellers/images/9780593655030.jpg",
         "500",
         "329",
         null,
         "nyt://book/7557cf43-7888-5c15-8206-d3541cccd89b",
         "by Jonathan Haidt",
         null,
         "2025-06-02T23:13:47.093Z",
         "0",
         "A co-author of “The Coddling of the American Mind” looks at the mental health impacts that a phone-based life has on children.",
         null,
         "0.0",
         null,
         "9780593655030",
         "Penguin Press",
         "5",
         "2",
         null,
         "THE ANXIOUS GENERATION",
         "2025-06-02T23:13:47.093Z",
         "61",
         "Psychology",
         "2025-06-08",
         null,
         null
        ],
        [
         "5",
         null,
         "https://www.amazon.com/dp/1668096870?tag=thenewyorktim-20",
         null,
         "0",
         "Barry Diller",
         "https://static01.nyt.com/bestsellers/images/9781668096871.jpg",
         "500",
         "335",
         null,
         "nyt://book/e98102d7-5245-5251-b913-d2331f70382a",
         "by Barry Diller",
         null,
         "2025-06-02T23:13:47.167Z",
         "1",
         "The businessman charts his career from the mail room at William Morris to the heights of the entertainment industry and beyond.",
         null,
         "0.0",
         null,
         "9781668096871",
         "Simon & Schuster",
         "6",
         "0",
         null,
         "WHO KNEW",
         "2025-06-02T23:13:47.167Z",
         "1",
         "Biography & Autobiography",
         "2025-06-08",
         null,
         null
        ],
        [
         "6",
         null,
         "http://www.amazon.com/The-Body-Keeps-Score-Healing/dp/0670785938?tag=thenewyorktim-20",
         null,
         "0",
         "Bessel van der Kolk",
         "https://static01.nyt.com/bestsellers/images/9780143127741.jpg",
         "193",
         "128",
         "https://www.nytimes.com/2018/10/18/books/review/how-to-rewire-your-traumatized-brain.html",
         "nyt://book/e3e33e9d-0e67-5fec-b0d2-2ecddc38ce0e",
         "by Bessel van der Kolk",
         null,
         "2025-06-02T23:13:47.24Z",
         "0",
         "How trauma affects the body and mind, and innovative treatments for recovery.",
         null,
         "0.0",
         null,
         "9780143127741",
         "Penguin",
         "7",
         "5",
         null,
         "THE BODY KEEPS THE SCORE",
         "2025-06-02T23:13:47.24Z",
         "244",
         "Medical",
         "2025-06-08",
         null,
         null
        ],
        [
         "7",
         null,
         "https://www.amazon.com/dp/1668023482?tag=thenewyorktim-20",
         null,
         "0",
         "Ezra Klein and Derek Thompson",
         "https://static01.nyt.com/bestsellers/images/9781668023488.jpg",
         "500",
         "331",
         null,
         "nyt://book/041486a7-1130-5821-989f-33b7d1efd0de",
         "by Ezra Klein and Derek Thompson",
         null,
         "2025-06-02T23:13:47.314Z",
         "0",
         "A New York Times opinion columnist and a staff writer at The Atlantic evaluate obstacles to American progress.",
         null,
         "0.0",
         null,
         "9781668023488",
         "Avid Reader",
         "8",
         "7",
         null,
         "ABUNDANCE",
         "2025-06-02T23:13:47.314Z",
         "10",
         "Business & Economics",
         "2025-06-08",
         null,
         null
        ],
        [
         "8",
         null,
         "https://www.amazon.com/dp/1538768461?tag=thenewyorktim-20",
         null,
         "0",
         "Nate Bargatze",
         "https://static01.nyt.com/bestsellers/images/9781538768464.jpg",
         "500",
         "329",
         null,
         "nyt://book/455045a1-1463-5d73-be48-160b23c2acc9",
         "by Nate Bargatze",
         null,
         "2025-06-02T23:13:47.386Z",
         "0",
         "The Grammy Award-nominated comedian shares snippets from his life and career.",
         null,
         "0.0",
         null,
         "9781538768464",
         "Grand Central",
         "9",
         "3",
         null,
         "BIG DUMB EYES",
         "2025-06-02T23:13:47.386Z",
         "3",
         "Biography & Autobiography",
         "2025-06-08",
         null,
         null
        ],
        [
         "9",
         null,
         "https://www.amazon.com/dp/0593799186?tag=thenewyorktim-20",
         null,
         "0",
         "Rick Atkinson",
         "https://static01.nyt.com/bestsellers/images/9780593799185.jpg",
         "500",
         "329",
         null,
         "nyt://book/fa7dc600-09b9-5121-8800-f63b633f9f41",
         "by Rick Atkinson",
         null,
         "2025-06-02T23:13:47.459Z",
         "0",
         "The author of “The British Are Coming” portrays the middle years of the American Revolution.",
         null,
         "0.0",
         null,
         "9780593799185",
         "Crown",
         "10",
         "12",
         null,
         "THE FATE OF THE DAY",
         "2025-06-02T23:13:47.459Z",
         "4",
         "History",
         "2025-06-08",
         null,
         null
        ],
        [
         "10",
         null,
         "https://www.amazon.com/dp/0393242137?tag=thenewyorktim-20",
         null,
         "0",
         "Robert Macfarlane",
         "https://static01.nyt.com/bestsellers/images/9780393242133.jpg",
         "500",
         "329",
         null,
         "nyt://book/a89110b8-b088-58cd-afd3-275cc677b3c2",
         "by Robert Macfarlane",
         null,
         "2025-06-02T23:13:47.534Z",
         "0",
         "The author of “Underland” explores flowing waters in Ecuador, India and Canada.",
         null,
         "0.0",
         null,
         "9780393242133",
         "Norton",
         "11",
         "0",
         null,
         "IS A RIVER ALIVE?",
         "2025-06-02T23:13:47.534Z",
         "1",
         "Nature",
         "2025-06-08",
         null,
         null
        ],
        [
         "11",
         null,
         "https://www.amazon.com/dp/0525426051?tag=thenewyorktim-20",
         null,
         "0",
         "John Green",
         "https://static01.nyt.com/bestsellers/images/9780525556572.jpg",
         "500",
         "331",
         null,
         "nyt://book/bb5b70b2-964d-5146-8e4b-64724d34a3a9",
         "by John Green",
         null,
         "2025-06-02T23:13:47.608Z",
         "0",
         "The author of “The Anthropocene Reviewed” chronicles the fight against the deadly infectious disease tuberculosis.",
         null,
         "0.0",
         null,
         "9780525556572",
         "Crash Course",
         "12",
         "10",
         null,
         "EVERYTHING IS TUBERCULOSIS",
         "2025-06-02T23:13:47.608Z",
         "10",
         "Social Science",
         "2025-06-08",
         null,
         null
        ],
        [
         "12",
         null,
         "https://www.amazon.com/Tyranny-Twenty-Lessons-Twentieth-Century/dp/0804190119?tag=thenewyorktim-20",
         null,
         "0",
         "Timothy Snyder",
         "https://static01.nyt.com/bestsellers/images/9780804190114.jpg",
         "465",
         "330",
         null,
         "nyt://book/eeb07cb6-f672-5b8d-b85d-6ce6f62b1856",
         "by Timothy Snyder",
         null,
         "2025-06-02T23:13:47.681Z",
         "0",
         "Twenty lessons from the 20th century about the course of tyranny.",
         null,
         "0.0",
         null,
         "9780804190114",
         "Crown",
         "13",
         "13",
         null,
         "ON TYRANNY",
         "2025-06-02T23:13:47.681Z",
         "52",
         "Political Science",
         "2025-06-08",
         null,
         null
        ],
        [
         "13",
         null,
         "https://www.amazon.com/dp/0593657500?tag=thenewyorktim-20",
         null,
         "0",
         "Karen Hao",
         "https://static01.nyt.com/bestsellers/images/9780593657508.jpg",
         "500",
         "329",
         null,
         "nyt://book/ab7f22c8-0633-5baf-8263-71c8899cfd41",
         "by Karen Hao",
         null,
         "2025-06-02T23:13:47.754Z",
         "0",
         "An examination of the disruptions made and resources taken by artificial intelligence.",
         null,
         "0.0",
         null,
         "9780593657508",
         "Penguin Press",
         "14",
         "0",
         null,
         "EMPIRE OF AI",
         "2025-06-02T23:13:47.754Z",
         "1",
         "Technology & Engineering",
         "2025-06-08",
         null,
         null
        ],
        [
         "14",
         null,
         "https://www.amazon.com/dp/1538767066?tag=thenewyorktim-20",
         null,
         "0",
         "Jonathan Capehart",
         "https://static01.nyt.com/bestsellers/images/9781538767061.jpg",
         "500",
         "331",
         null,
         "nyt://book/1c972b9e-91e8-512f-b55e-8be6f7c0a1e3",
         "by Jonathan Capehart",
         null,
         "2025-06-02T23:13:47.827Z",
         "0",
         "The MSNBC anchor and Pulitzer Prize-winning journalist describes how he embraced his identity.",
         null,
         "0.0",
         null,
         "9781538767061",
         "Grand Central",
         "15",
         "0",
         null,
         "YET HERE I AM",
         "2025-06-02T23:13:47.827Z",
         "1",
         "Biography & Autobiography",
         "2025-06-08",
         null,
         null
        ],
        [
         "15",
         null,
         "https://www.amazon.com/dp/0593597400?tag=thenewyorktim-20",
         null,
         "0",
         "Tina Knowles with Kevin Carr O'Leary",
         "https://static01.nyt.com/bestsellers/images/9780593597408.jpg",
         "500",
         "375",
         null,
         "nyt://book/4e539008-0935-5396-aa30-495b9145310f",
         "by Tina Knowles with Kevin Carr O'Leary",
         null,
         "2025-06-04T22:33:17.822Z",
         "0",
         null,
         null,
         "0.0",
         null,
         "9780593597408",
         "One World",
         "1",
         "0",
         null,
         "MATRIARCH",
         "2025-06-04T22:33:17.822Z",
         "1",
         "Biography & Autobiography",
         "2025-05-11",
         null,
         null
        ],
        [
         "16",
         null,
         "https://www.amazon.com/dp/1668023482?tag=thenewyorktim-20",
         null,
         "0",
         "Ezra Klein and Derek Thompson",
         "https://static01.nyt.com/bestsellers/images/9781668023488.jpg",
         "500",
         "331",
         null,
         "nyt://book/041486a7-1130-5821-989f-33b7d1efd0de",
         "by Ezra Klein and Derek Thompson",
         null,
         "2025-06-02T23:13:47.314Z",
         "0",
         "A New York Times opinion columnist and a staff writer at The Atlantic evaluate obstacles to American progress.",
         null,
         "0.0",
         null,
         "9781668023488",
         "Avid Reader",
         "2",
         "1",
         null,
         "ABUNDANCE",
         "2025-06-02T23:13:47.314Z",
         "6",
         "Business & Economics",
         "2025-05-11",
         null,
         null
        ],
        [
         "17",
         null,
         "https://www.amazon.com/dp/0525426051?tag=thenewyorktim-20",
         null,
         "0",
         "John Green",
         "https://static01.nyt.com/bestsellers/images/9780525556572.jpg",
         "500",
         "331",
         null,
         "nyt://book/bb5b70b2-964d-5146-8e4b-64724d34a3a9",
         "by John Green",
         null,
         "2025-06-02T23:13:47.608Z",
         "0",
         "The author of “The Anthropocene Reviewed” chronicles the fight against the deadly infectious disease tuberculosis.",
         null,
         "0.0",
         null,
         "9780525556572",
         "Crash Course",
         "3",
         "2",
         null,
         "EVERYTHING IS TUBERCULOSIS",
         "2025-06-02T23:13:47.608Z",
         "6",
         "Social Science",
         "2025-05-11",
         null,
         null
        ],
        [
         "18",
         null,
         "https://www.amazon.com/dp/0593803671?tag=thenewyorktim-20",
         null,
         "0",
         "Joan Didion",
         "https://static01.nyt.com/bestsellers/images/9780593803677.jpg",
         "500",
         "329",
         null,
         "nyt://book/5ebb46d0-9a97-51ed-91f0-a518dda382d1",
         "by Joan Didion",
         null,
         "2025-05-16T17:58:08.88Z",
         "0",
         "Didon’s first-person account, discovered after her death, written to her husband, John Gregory Dunne, of her psychiatric sessions.",
         null,
         "0.0",
         null,
         "9780593803677",
         "Knopf",
         "4",
         "0",
         null,
         "NOTES TO JOHN",
         "2025-05-16T17:58:08.88Z",
         "1",
         "Literary Collections",
         "2025-05-11",
         null,
         null
        ],
        [
         "19",
         null,
         "https://www.amazon.com/dp/0593978773?tag=thenewyorktim-20",
         null,
         "0",
         "Pope Francis with Carlo Musso",
         "https://static01.nyt.com/bestsellers/images/9780593978771.jpg",
         "500",
         "335",
         null,
         "nyt://book/2520551f-07e4-5c12-b83d-f426855f31e1",
         "by Pope Francis with Carlo Musso",
         null,
         "2025-06-02T23:12:58.352Z",
         "0",
         "The late Pope Francis recounts details of his life from his childhood through to key moments of his papacy; translated by Richard Dixon.",
         null,
         "0.0",
         null,
         "9780593978771",
         "Random House",
         "5",
         "0",
         null,
         "HOPE",
         "2025-06-02T23:12:58.352Z",
         "3",
         "Religion",
         "2025-05-11",
         null,
         null
        ],
        [
         "20",
         null,
         "https://www.amazon.com/dp/0593655036?tag=thenewyorktim-20",
         null,
         "0",
         "Jonathan Haidt",
         "https://static01.nyt.com/bestsellers/images/9780593655030.jpg",
         "500",
         "329",
         null,
         "nyt://book/7557cf43-7888-5c15-8206-d3541cccd89b",
         "by Jonathan Haidt",
         null,
         "2025-06-02T23:13:47.093Z",
         "0",
         "A co-author of “The Coddling of the American Mind” looks at the mental health impacts that a phone-based life has on children.",
         null,
         "0.0",
         null,
         "9780593655030",
         "Penguin Press",
         "6",
         "3",
         null,
         "THE ANXIOUS GENERATION",
         "2025-06-02T23:13:47.093Z",
         "57",
         "Psychology",
         "2025-05-11",
         null,
         null
        ],
        [
         "21",
         null,
         "https://www.amazon.com/Tyranny-Twenty-Lessons-Twentieth-Century/dp/0804190119?tag=thenewyorktim-20",
         null,
         "0",
         "Timothy Snyder",
         "https://static01.nyt.com/bestsellers/images/9780804190114.jpg",
         "465",
         "330",
         null,
         "nyt://book/eeb07cb6-f672-5b8d-b85d-6ce6f62b1856",
         "by Timothy Snyder",
         null,
         "2025-06-02T23:13:47.681Z",
         "0",
         "Twenty lessons from the 20th century about the course of tyranny.",
         null,
         "0.0",
         null,
         "9780804190114",
         "Crown",
         "7",
         "4",
         null,
         "ON TYRANNY",
         "2025-06-02T23:13:47.681Z",
         "48",
         "Political Science",
         "2025-05-11",
         null,
         null
        ],
        [
         "22",
         null,
         "http://www.amazon.com/The-Body-Keeps-Score-Healing/dp/0670785938?tag=thenewyorktim-20",
         null,
         "0",
         "Bessel van der Kolk",
         "https://static01.nyt.com/bestsellers/images/9780143127741.jpg",
         "193",
         "128",
         "https://www.nytimes.com/2018/10/18/books/review/how-to-rewire-your-traumatized-brain.html",
         "nyt://book/e3e33e9d-0e67-5fec-b0d2-2ecddc38ce0e",
         "by Bessel van der Kolk",
         null,
         "2025-06-02T23:13:47.24Z",
         "0",
         "How trauma affects the body and mind, and innovative treatments for recovery.",
         null,
         "0.0",
         null,
         "9780143127741",
         "Penguin",
         "8",
         "7",
         null,
         "THE BODY KEEPS THE SCORE",
         "2025-06-02T23:13:47.24Z",
         "240",
         "Medical",
         "2025-05-11",
         null,
         null
        ],
        [
         "23",
         null,
         "https://www.amazon.com/dp/B0DHZ2ZXPM?tag=thenewyorktim-20",
         null,
         "0",
         "Michael Lewis",
         "https://static01.nyt.com/bestsellers/images/9798217047802.jpg",
         "500",
         "331",
         null,
         "nyt://book/0a1d12c6-2ba3-5618-a876-5f7072d3d8b7",
         "by Michael Lewis",
         null,
         "2025-05-16T17:58:09.242Z",
         "0",
         "Essays by Casey Cep, Dave Eggers, John Lanchester, Geraldine Brooks, Sarah Vowell, W. Kamau Bell and Michael Lewis illuminate the work of federal employees and the business of government.",
         null,
         "0.0",
         null,
         "9798217047802",
         "Riverhead",
         "9",
         "12",
         null,
         "WHO IS GOVERNMENT?",
         "2025-05-16T17:58:09.242Z",
         "6",
         "Political Science",
         "2025-05-11",
         null,
         null
        ],
        [
         "24",
         null,
         "https://www.amazon.com/dp/0063437139?tag=thenewyorktim-20",
         null,
         "0",
         "Douglas Murray",
         "https://static01.nyt.com/bestsellers/images/9780063437135.jpg",
         "500",
         "327",
         null,
         "nyt://book/00ff19eb-fa60-56df-85ed-fe85316f7f02",
         "by Douglas Murray",
         null,
         "2025-05-16T17:58:09.316Z",
         "1",
         "The author of “The War on the West” gives his perspective on the conflict between Israel and Hamas.",
         null,
         "0.0",
         null,
         "9780063437135",
         "Broadside",
         "10",
         "8",
         null,
         "ON DEMOCRACIES AND DEATH CULTS",
         "2025-05-16T17:58:09.316Z",
         "3",
         "History",
         "2025-05-11",
         null,
         null
        ],
        [
         "25",
         null,
         "https://www.amazon.com/dp/B0DTP85ZG6?tag=thenewyorktim-20",
         null,
         "0",
         "David A. Graham",
         "https://static01.nyt.com/bestsellers/images/9798217153725.jpg",
         "500",
         "333",
         null,
         "nyt://book/b908173b-897f-51e9-be8b-67e5cf24ba8b",
         "by David A. Graham",
         null,
         "2025-05-17T20:58:25.315Z",
         "0",
         "A staff writer at The Atlantic explicates Project 2025, which was published by the conservative think tank the Heritage Foundation.",
         null,
         "0.0",
         null,
         "9798217153725",
         "Random House",
         "11",
         "0",
         null,
         "THE PROJECT",
         "2025-05-17T20:58:25.315Z",
         "1",
         "Political Science",
         "2025-05-11",
         null,
         null
        ],
        [
         "26",
         null,
         "https://www.amazon.com/dp/1623716365?tag=thenewyorktim-20",
         null,
         "0",
         "Sim Kern",
         "https://static01.nyt.com/bestsellers/images/9781623716363.jpg",
         "500",
         "335",
         null,
         "nyt://book/85a5b7fb-ed39-5d02-a207-c1fd7579fed6",
         "by Sim Kern",
         null,
         "2025-05-16T17:58:09.459Z",
         "0",
         "An anti-Zionist Jewish activist recounts pivotal life experiences.",
         null,
         "0.0",
         null,
         "9781623716363",
         "Interlink",
         "12",
         "0",
         null,
         "GENOCIDE BAD",
         "2025-05-16T17:58:09.459Z",
         "1",
         "Political Science",
         "2025-05-11",
         null,
         null
        ],
        [
         "27",
         null,
         "https://www.amazon.com/dp/1250391237?tag=thenewyorktim-20",
         null,
         "0",
         "Sarah Wynn-Williams",
         "https://static01.nyt.com/bestsellers/images/9781250391230.jpg",
         "500",
         "329",
         null,
         "nyt://book/7c18484b-2dcb-57fc-800a-8d457e7b848c",
         "by Sarah Wynn-Williams",
         null,
         "2025-05-16T17:58:09.532Z",
         "0",
         "A former Facebook executive gives an account of policies and leadership at the social media platform.",
         null,
         "0.0",
         null,
         "9781250391230",
         "Flatiron",
         "13",
         "9",
         null,
         "CARELESS PEOPLE",
         "2025-05-16T17:58:09.532Z",
         "7",
         "Biography & Autobiography",
         "2025-05-11",
         null,
         null
        ],
        [
         "28",
         null,
         "https://www.amazon.com/dp/006343864X?tag=thenewyorktim-20",
         null,
         "0",
         "Jonathan Allen and Amie Parnes",
         "https://static01.nyt.com/bestsellers/images/9780063438644.jpg",
         "500",
         "331",
         null,
         "nyt://book/fb226c54-cf9f-55b0-87b7-2855382cbd45",
         "by Jonathan Allen and Amie Parnes",
         null,
         "2025-05-16T17:58:09.606Z",
         "0",
         "The authors of “Shattered” give an account of the 2024 presidential campaigns.",
         null,
         "0.0",
         null,
         "9780063438644",
         "Morrow",
         "14",
         "5",
         null,
         "FIGHT",
         "2025-05-16T17:58:09.606Z",
         "4",
         "Biography & Autobiography",
         "2025-05-11",
         null,
         null
        ],
        [
         "29",
         null,
         "https://www.amazon.com/dp/1668072246?tag=thenewyorktim-20",
         null,
         "0",
         "Robin Wall Kimmerer",
         "https://static01.nyt.com/bestsellers/images/9781668072240.jpg",
         "500",
         "356",
         null,
         "nyt://book/546eae3e-3927-5811-8afb-976b6a5478d0",
         "by Robin Wall Kimmerer",
         null,
         "2025-06-02T23:12:58.28Z",
         "0",
         "The author of “Braiding Sweetgrass” illuminates how the gift economy in the natural world works and draws lessons for our economy; with illustrations by John Burgoyne.",
         null,
         "0.0",
         null,
         "9781668072240",
         "Scribner",
         "15",
         "0",
         null,
         "THE SERVICEBERRY",
         "2025-06-02T23:12:58.28Z",
         "16",
         "Nature",
         "2025-05-11",
         null,
         null
        ],
        [
         "30",
         null,
         "https://www.amazon.com/dp/0525426051?tag=thenewyorktim-20",
         null,
         "0",
         "John Green",
         "https://static01.nyt.com/bestsellers/images/9780525426059.jpg",
         "500",
         "331",
         null,
         "nyt://book/de969ddd-72a6-5b79-9532-48ebbd0eef70",
         "by John Green",
         null,
         "2025-05-14T15:37:09.377Z",
         "0",
         "The author of “The Anthropocene Reviewed” chronicles the fight against the deadly infectious disease tuberculosis.",
         null,
         "0.0",
         null,
         "9780525426059",
         "Crash Course",
         "1",
         "1",
         null,
         "EVERYTHING IS TUBERCULOSIS",
         "2025-05-14T15:37:09.377Z",
         "2",
         "Social Science",
         "2025-04-13",
         null,
         null
        ],
        [
         "31",
         null,
         "https://www.amazon.com/dp/1250391237?tag=thenewyorktim-20",
         null,
         "0",
         "Sarah Wynn-Williams",
         "https://static01.nyt.com/bestsellers/images/9781250391230.jpg",
         "500",
         "329",
         null,
         "nyt://book/7c18484b-2dcb-57fc-800a-8d457e7b848c",
         "by Sarah Wynn-Williams",
         null,
         "2025-05-16T17:58:09.532Z",
         "0",
         "A former Facebook executive gives an account of policies and leadership at the social media platform.",
         null,
         "0.0",
         null,
         "9781250391230",
         "Flatiron",
         "2",
         "3",
         null,
         "CARELESS PEOPLE",
         "2025-05-16T17:58:09.532Z",
         "3",
         "Biography & Autobiography",
         "2025-04-13",
         null,
         null
        ],
        [
         "32",
         null,
         "https://www.amazon.com/dp/1668023482?tag=thenewyorktim-20",
         null,
         "0",
         "Ezra Klein and Derek Thompson",
         "https://static01.nyt.com/bestsellers/images/9781668023488.jpg",
         "500",
         "331",
         null,
         "nyt://book/041486a7-1130-5821-989f-33b7d1efd0de",
         "by Ezra Klein and Derek Thompson",
         null,
         "2025-06-02T23:13:47.314Z",
         "0",
         "A New York Times opinion columnist and a staff writer at The Atlantic evaluate obstacles to American progress.",
         null,
         "0.0",
         null,
         "9781668023488",
         "Avid Reader",
         "3",
         "2",
         null,
         "ABUNDANCE",
         "2025-06-02T23:13:47.314Z",
         "2",
         "Business & Economics",
         "2025-04-13",
         null,
         null
        ],
        [
         "33",
         null,
         "https://www.amazon.com/dp/0593655036?tag=thenewyorktim-20",
         null,
         "0",
         "Jonathan Haidt",
         "https://static01.nyt.com/bestsellers/images/9780593655030.jpg",
         "500",
         "329",
         null,
         "nyt://book/7557cf43-7888-5c15-8206-d3541cccd89b",
         "by Jonathan Haidt",
         null,
         "2025-06-02T23:13:47.093Z",
         "0",
         "A co-author of “The Coddling of the American Mind” looks at the mental health impacts that a phone-based life has on children.",
         null,
         "0.0",
         null,
         "9780593655030",
         "Penguin Press",
         "4",
         "7",
         null,
         "THE ANXIOUS GENERATION",
         "2025-06-02T23:13:47.093Z",
         "53",
         "Psychology",
         "2025-04-13",
         null,
         null
        ],
        [
         "34",
         null,
         "https://www.amazon.com/dp/0593655907?tag=thenewyorktim-20",
         null,
         "0",
         "Graydon Carter with James Fox",
         "https://static01.nyt.com/bestsellers/images/9780593655900.jpg",
         "500",
         "331",
         null,
         "nyt://book/a0fbfb29-9374-50e0-b70e-154e3a4cb8b8",
         "by Graydon Carter with James Fox",
         null,
         "2025-05-14T15:35:48.986Z",
         "0",
         "The co-creator of Spy and former editor of Vanity Fair retraces his storied career.",
         null,
         "0.0",
         null,
         "9780593655900",
         "Penguin Press",
         "5",
         "0",
         null,
         "WHEN THE GOING WAS GOOD",
         "2025-05-14T15:35:48.986Z",
         "1",
         "Biography & Autobiography",
         "2025-04-13",
         null,
         null
        ],
        [
         "35",
         null,
         "http://www.amazon.com/The-Body-Keeps-Score-Healing/dp/0670785938?tag=thenewyorktim-20",
         null,
         "0",
         "Bessel van der Kolk",
         "https://static01.nyt.com/bestsellers/images/9780143127741.jpg",
         "193",
         "128",
         "https://www.nytimes.com/2018/10/18/books/review/how-to-rewire-your-traumatized-brain.html",
         "nyt://book/e3e33e9d-0e67-5fec-b0d2-2ecddc38ce0e",
         "by Bessel van der Kolk",
         null,
         "2025-06-02T23:13:47.24Z",
         "0",
         "How trauma affects the body and mind, and innovative treatments for recovery.",
         null,
         "0.0",
         null,
         "9780143127741",
         "Penguin",
         "6",
         "10",
         null,
         "THE BODY KEEPS THE SCORE",
         "2025-06-02T23:13:47.24Z",
         "236",
         "Medical",
         "2025-04-13",
         null,
         null
        ],
        [
         "36",
         null,
         "https://www.amazon.com/dp/0807016535?tag=thenewyorktim-20",
         null,
         "0",
         "David Pakman",
         "https://static01.nyt.com/bestsellers/images/9780807016534.jpg",
         "500",
         "333",
         null,
         "nyt://book/9b5c9208-37d0-539c-9c9d-bde5e4708420",
         "by David Pakman",
         null,
         "2025-05-14T15:37:39.022Z",
         "0",
         "The podcast host assesses a cycle of reactionary political ideology in an era of polarization.",
         null,
         "0.0",
         null,
         "9780807016534",
         "Beacon",
         "7",
         "0",
         null,
         "THE ECHO MACHINE",
         "2025-05-14T15:37:39.022Z",
         "1",
         "Political Science",
         "2025-04-13",
         null,
         null
        ],
        [
         "37",
         null,
         "https://www.amazon.com/Tyranny-Twenty-Lessons-Twentieth-Century/dp/0804190119?tag=thenewyorktim-20",
         null,
         "0",
         "Timothy Snyder",
         "https://static01.nyt.com/bestsellers/images/9780804190114.jpg",
         "465",
         "330",
         null,
         "nyt://book/eeb07cb6-f672-5b8d-b85d-6ce6f62b1856",
         "by Timothy Snyder",
         null,
         "2025-06-02T23:13:47.681Z",
         "0",
         "Twenty lessons from the 20th century about the course of tyranny.",
         null,
         "0.0",
         null,
         "9780804190114",
         "Crown",
         "8",
         "8",
         null,
         "ON TYRANNY",
         "2025-06-02T23:13:47.681Z",
         "44",
         "Political Science",
         "2025-04-13",
         null,
         null
        ],
        [
         "38",
         null,
         "https://www.amazon.com/dp/0593731204?tag=thenewyorktim-20",
         null,
         "0",
         "Amy Griffin",
         "https://static01.nyt.com/bestsellers/images/9780593731208.jpg",
         "500",
         "331",
         null,
         "nyt://book/c8c1fc79-16a4-5aeb-8f99-bdf6d19579d8",
         "by Amy Griffin",
         null,
         "2025-05-14T15:37:09.522Z",
         "0",
         "The founder of the investment firm G9 Ventures recounts her efforts to recover from trauma she experienced during childhood.",
         null,
         "0.0",
         null,
         "9780593731208",
         "Dial",
         "9",
         "5",
         null,
         "THE TELL",
         "2025-05-14T15:37:09.522Z",
         "3",
         "Biography & Autobiography",
         "2025-04-13",
         null,
         null
        ],
        [
         "39",
         null,
         "https://www.amazon.com/dp/0385534264?tag=thenewyorktim-20",
         null,
         "0",
         "David Grann",
         "https://static01.nyt.com/bestsellers/images/9780307742490.jpg",
         "500",
         "329",
         null,
         "nyt://book/423213d6-9fa7-5fb1-8543-79dcd840c76e",
         "by David Grann",
         null,
         "2025-06-02T23:13:40.027Z",
         "0",
         "The survivors of a shipwrecked British vessel on a secret mission during an imperial war with Spain have different accounts of events.",
         null,
         "0.0",
         null,
         "9780307742490",
         "Vintage",
         "10",
         "11",
         null,
         "THE WAGER",
         "2025-06-02T23:13:40.027Z",
         "71",
         "True Crime",
         "2025-04-13",
         null,
         null
        ],
        [
         "40",
         null,
         "https://www.amazon.com/dp/1480216895?tag=thenewyorktim-20",
         null,
         "0",
         "Suzanne Humphries and Roman Bystrianyk",
         "https://static01.nyt.com/bestsellers/images/9781480216891.jpg",
         "500",
         "333",
         null,
         "nyt://book/52214f90-48fc-557f-8e3a-7216f5dc55bc",
         "by Suzanne Humphries and Roman Bystrianyk",
         null,
         "2025-05-14T15:35:49.415Z",
         "1",
         "Humphries and Bystrianyk argue that medical interventions might not increase lifespans or prevent premature deaths.",
         null,
         "0.0",
         null,
         "9781480216891",
         "Suzanne Humphries and Roman Bystrianyk",
         "11",
         "0",
         null,
         "DISSOLVING ILLUSIONS",
         "2025-05-14T15:35:49.415Z",
         "1",
         "Communicable diseases",
         "2025-04-13",
         null,
         null
        ],
        [
         "41",
         null,
         "https://www.amazon.com/dp/0593731263?tag=thenewyorktim-20",
         null,
         "0",
         "Annie Karni and Luke Broadwater",
         "https://static01.nyt.com/bestsellers/images/9780593731260.jpg",
         "500",
         "328",
         null,
         "nyt://book/cfd85078-e42f-5b8d-8203-3e017eed1088",
         "by Annie Karni and Luke Broadwater",
         null,
         "2025-05-14T15:35:49.486Z",
         "0",
         "Two correspondents for The New York Times depict the decay and dysfunction of the American Congress.",
         null,
         "0.0",
         null,
         "9780593731260",
         "Random House",
         "12",
         "0",
         null,
         "MAD HOUSE",
         "2025-05-14T15:35:49.486Z",
         "1",
         "Political Science",
         "2025-04-13",
         null,
         null
        ],
        [
         "42",
         null,
         "https://www.amazon.com/dp/B0DHZ2ZXPM?tag=thenewyorktim-20",
         null,
         "0",
         "Michael Lewis",
         "https://static01.nyt.com/bestsellers/images/9798217047802.jpg",
         "500",
         "331",
         null,
         "nyt://book/0a1d12c6-2ba3-5618-a876-5f7072d3d8b7",
         "by Michael Lewis",
         null,
         "2025-05-16T17:58:09.242Z",
         "0",
         "Essays by Casey Cep, Dave Eggers, John Lanchester, Geraldine Brooks, Sarah Vowell, W. Kamau Bell and Michael Lewis illuminate the work of federal employees and the business of government.",
         null,
         "0.0",
         null,
         "9798217047802",
         "Riverhead",
         "13",
         "6",
         null,
         "WHO IS GOVERNMENT?",
         "2025-05-16T17:58:09.242Z",
         "2",
         "Political Science",
         "2025-04-13",
         null,
         null
        ],
        [
         "43",
         null,
         "https://www.amazon.com/dp/1668065398?tag=thenewyorktim-20",
         null,
         "0",
         "Shari Franke",
         "https://static01.nyt.com/bestsellers/images/9781668065396.jpg",
         "500",
         "331",
         null,
         "nyt://book/44710a63-300c-58b3-8c0a-eb11c9a614ca",
         "by Shari Franke",
         null,
         "2025-05-14T15:36:23.94Z",
         "0",
         "Franke gives an account of abuse within her family, who gained a following with their YouTube channel “8 Passengers.”",
         null,
         "0.0",
         null,
         "9781668065396",
         "Gallery",
         "14",
         "13",
         null,
         "THE HOUSE OF MY MOTHER",
         "2025-05-14T15:36:23.94Z",
         "11",
         "Biography & Autobiography",
         "2025-04-13",
         null,
         null
        ],
        [
         "44",
         null,
         "https://www.amazon.com/dp/0593536134?tag=thenewyorktim-20",
         null,
         "0",
         "Amy Tan",
         "https://static01.nyt.com/bestsellers/images/9780593536131.jpg",
         "500",
         "379",
         null,
         "nyt://book/1bde7fcf-f70c-5c94-8303-fb918ea1007e",
         "by Amy Tan",
         null,
         "2025-06-02T23:13:40.102Z",
         "0",
         "Essays and drawings by the author of “The Joy Luck Club” and “The Bonesetter's Daughter,” which depict a search for peace through birding.",
         null,
         "0.0",
         null,
         "9780593536131",
         "Knopf",
         "15",
         "15",
         null,
         "THE BACKYARD BIRD CHRONICLES",
         "2025-06-02T23:13:40.102Z",
         "18",
         "Nature",
         "2025-04-13",
         null,
         null
        ],
        [
         "45",
         null,
         "http://www.amazon.com/The-Body-Keeps-Score-Healing/dp/0670785938?tag=thenewyorktim-20",
         null,
         "0",
         "Bessel van der Kolk",
         "https://static01.nyt.com/bestsellers/images/9781101608302.jpg",
         "193",
         "128",
         "https://www.nytimes.com/2018/10/18/books/review/how-to-rewire-your-traumatized-brain.html",
         "nyt://book/02c6d54c-541e-52b6-b792-88d5f44e34c4",
         "by Bessel van der Kolk",
         null,
         "2025-05-14T15:33:06.543Z",
         "0",
         "How trauma affects the body and mind, and innovative treatments for recovery.",
         null,
         "0.0",
         null,
         "9781101608302",
         "Penguin",
         "1",
         "5",
         null,
         "THE BODY KEEPS THE SCORE",
         "2025-05-14T15:33:06.543Z",
         "232",
         "Psychology",
         "2025-03-16",
         null,
         null
        ],
        [
         "46",
         null,
         "https://www.amazon.com/dp/0593596579?tag=thenewyorktim-20",
         null,
         "0",
         "Chelsea Handler",
         "https://static01.nyt.com/bestsellers/images/9780593596579.jpg",
         "500",
         "331",
         null,
         "nyt://book/99fbd2e7-cca4-52b8-8641-2297d4f299ad",
         "by Chelsea Handler",
         null,
         "2025-05-14T15:34:28.924Z",
         "0",
         "In a collection of essays, the comedian shares some public and private moments from her life.",
         null,
         "0.0",
         null,
         "9780593596579",
         "Dial",
         "2",
         "0",
         null,
         "I'LL HAVE WHAT SHE'S HAVING",
         "2025-05-14T15:34:28.924Z",
         "1",
         "Biography & Autobiography",
         "2025-03-16",
         null,
         null
        ],
        [
         "47",
         null,
         "https://www.amazon.com/Tyranny-Twenty-Lessons-Twentieth-Century/dp/0804190119?tag=thenewyorktim-20",
         null,
         "0",
         "Timothy Snyder",
         "https://static01.nyt.com/bestsellers/images/9780804190114.jpg",
         "465",
         "330",
         null,
         "nyt://book/eeb07cb6-f672-5b8d-b85d-6ce6f62b1856",
         "by Timothy Snyder",
         null,
         "2025-06-02T23:13:47.681Z",
         "0",
         "Twenty lessons from the 20th century about the course of tyranny.",
         null,
         "0.0",
         null,
         "9780804190114",
         "Crown",
         "3",
         "3",
         null,
         "ON TYRANNY",
         "2025-06-02T23:13:47.681Z",
         "40",
         "Political Science",
         "2025-03-16",
         null,
         null
        ],
        [
         "48",
         null,
         "https://www.amazon.com/dp/0593655036?tag=thenewyorktim-20",
         null,
         "0",
         "Jonathan Haidt",
         "https://static01.nyt.com/bestsellers/images/9780593655030.jpg",
         "500",
         "329",
         null,
         "nyt://book/7557cf43-7888-5c15-8206-d3541cccd89b",
         "by Jonathan Haidt",
         null,
         "2025-06-02T23:13:47.093Z",
         "0",
         "A co-author of “The Coddling of the American Mind” looks at the mental health impacts that a phone-based life has on children.",
         null,
         "0.0",
         null,
         "9780593655030",
         "Penguin Press",
         "4",
         "6",
         null,
         "THE ANXIOUS GENERATION",
         "2025-06-02T23:13:47.093Z",
         "49",
         "Psychology",
         "2025-03-16",
         null,
         null
        ],
        [
         "49",
         null,
         "https://www.amazon.com/dp/0593798694?tag=thenewyorktim-20",
         null,
         "0",
         "Alexander C. Karp and Nicholas W. Zamiska",
         "https://static01.nyt.com/bestsellers/images/9780593798690.jpg",
         "500",
         "333",
         null,
         "nyt://book/db7eee49-be29-58e3-9f0d-0d94381a11a1",
         "by Alexander C. Karp and Nicholas W. Zamiska",
         null,
         "2025-05-14T15:34:58.976Z",
         "0",
         "Two senior leaders at Palantir Technologies enumerate what they see as potential global threats to the United States.",
         null,
         "0.0",
         null,
         "9780593798690",
         "Crown Currency",
         "5",
         "1",
         null,
         "THE TECHNOLOGICAL REPUBLIC",
         "2025-05-14T15:34:58.976Z",
         "2",
         "Business & Economics",
         "2025-03-16",
         null,
         null
        ]
       ],
       "shape": {
        "columns": 30,
        "rows": 4196
       }
      },
      "text/html": [
       "<div>\n",
       "<style scoped>\n",
       "    .dataframe tbody tr th:only-of-type {\n",
       "        vertical-align: middle;\n",
       "    }\n",
       "\n",
       "    .dataframe tbody tr th {\n",
       "        vertical-align: top;\n",
       "    }\n",
       "\n",
       "    .dataframe thead th {\n",
       "        text-align: right;\n",
       "    }\n",
       "</style>\n",
       "<table border=\"1\" class=\"dataframe\">\n",
       "  <thead>\n",
       "    <tr style=\"text-align: right;\">\n",
       "      <th></th>\n",
       "      <th>age_group</th>\n",
       "      <th>amazon_product_url</th>\n",
       "      <th>article_chapter_link</th>\n",
       "      <th>asterisk</th>\n",
       "      <th>author</th>\n",
       "      <th>book_image</th>\n",
       "      <th>book_image_height</th>\n",
       "      <th>book_image_width</th>\n",
       "      <th>book_review_link</th>\n",
       "      <th>book_uri</th>\n",
       "      <th>...</th>\n",
       "      <th>rank</th>\n",
       "      <th>rank_last_week</th>\n",
       "      <th>sunday_review_link</th>\n",
       "      <th>title</th>\n",
       "      <th>updated_date</th>\n",
       "      <th>weeks_on_list</th>\n",
       "      <th>category</th>\n",
       "      <th>published_date</th>\n",
       "      <th>Unnamed: 0</th>\n",
       "      <th>date_datetime</th>\n",
       "    </tr>\n",
       "  </thead>\n",
       "  <tbody>\n",
       "    <tr>\n",
       "      <th>0</th>\n",
       "      <td>NaN</td>\n",
       "      <td>https://www.amazon.com/dp/B0DTYKCJC9?tag=thene...</td>\n",
       "      <td>NaN</td>\n",
       "      <td>0</td>\n",
       "      <td>Jake Tapper and Alex Thompson</td>\n",
       "      <td>https://static01.nyt.com/bestsellers/images/97...</td>\n",
       "      <td>500</td>\n",
       "      <td>329</td>\n",
       "      <td>NaN</td>\n",
       "      <td>nyt://book/786e31c1-bc83-50f1-bd8d-995926458641</td>\n",
       "      <td>...</td>\n",
       "      <td>1</td>\n",
       "      <td>0</td>\n",
       "      <td>NaN</td>\n",
       "      <td>ORIGINAL SIN</td>\n",
       "      <td>2025-06-02T23:13:46.798Z</td>\n",
       "      <td>1</td>\n",
       "      <td>Political Science</td>\n",
       "      <td>2025-06-08</td>\n",
       "      <td>NaN</td>\n",
       "      <td>NaN</td>\n",
       "    </tr>\n",
       "    <tr>\n",
       "      <th>1</th>\n",
       "      <td>NaN</td>\n",
       "      <td>https://www.amazon.com/dp/1668023369?tag=thene...</td>\n",
       "      <td>NaN</td>\n",
       "      <td>0</td>\n",
       "      <td>Dawn Staley</td>\n",
       "      <td>https://static01.nyt.com/bestsellers/images/97...</td>\n",
       "      <td>500</td>\n",
       "      <td>329</td>\n",
       "      <td>NaN</td>\n",
       "      <td>nyt://book/93e1c5cf-1a3f-5ede-b081-ca9bbd7d30a2</td>\n",
       "      <td>...</td>\n",
       "      <td>2</td>\n",
       "      <td>0</td>\n",
       "      <td>NaN</td>\n",
       "      <td>UNCOMMON FAVOR</td>\n",
       "      <td>2025-06-02T23:13:46.873Z</td>\n",
       "      <td>1</td>\n",
       "      <td>Biography &amp; Autobiography</td>\n",
       "      <td>2025-06-08</td>\n",
       "      <td>NaN</td>\n",
       "      <td>NaN</td>\n",
       "    </tr>\n",
       "    <tr>\n",
       "      <th>2</th>\n",
       "      <td>NaN</td>\n",
       "      <td>https://www.amazon.com/dp/0525561722?tag=thene...</td>\n",
       "      <td>NaN</td>\n",
       "      <td>0</td>\n",
       "      <td>Ron Chernow</td>\n",
       "      <td>https://static01.nyt.com/bestsellers/images/97...</td>\n",
       "      <td>500</td>\n",
       "      <td>329</td>\n",
       "      <td>NaN</td>\n",
       "      <td>nyt://book/b92f68c9-76ad-5510-8520-c5864d663b19</td>\n",
       "      <td>...</td>\n",
       "      <td>3</td>\n",
       "      <td>1</td>\n",
       "      <td>NaN</td>\n",
       "      <td>MARK TWAIN</td>\n",
       "      <td>2025-06-02T23:13:46.947Z</td>\n",
       "      <td>2</td>\n",
       "      <td>Biography &amp; Autobiography</td>\n",
       "      <td>2025-06-08</td>\n",
       "      <td>NaN</td>\n",
       "      <td>NaN</td>\n",
       "    </tr>\n",
       "    <tr>\n",
       "      <th>3</th>\n",
       "      <td>NaN</td>\n",
       "      <td>https://www.amazon.com/dp/1668053373?tag=thene...</td>\n",
       "      <td>NaN</td>\n",
       "      <td>0</td>\n",
       "      <td>Patrick McGee</td>\n",
       "      <td>https://static01.nyt.com/bestsellers/images/97...</td>\n",
       "      <td>500</td>\n",
       "      <td>331</td>\n",
       "      <td>NaN</td>\n",
       "      <td>nyt://book/82ca74aa-bab8-5b05-9a1f-f8f7e383e1e2</td>\n",
       "      <td>...</td>\n",
       "      <td>4</td>\n",
       "      <td>0</td>\n",
       "      <td>NaN</td>\n",
       "      <td>APPLE IN CHINA</td>\n",
       "      <td>2025-06-02T23:13:47.02Z</td>\n",
       "      <td>1</td>\n",
       "      <td>Business &amp; Economics</td>\n",
       "      <td>2025-06-08</td>\n",
       "      <td>NaN</td>\n",
       "      <td>NaN</td>\n",
       "    </tr>\n",
       "    <tr>\n",
       "      <th>4</th>\n",
       "      <td>NaN</td>\n",
       "      <td>https://www.amazon.com/dp/0593655036?tag=thene...</td>\n",
       "      <td>NaN</td>\n",
       "      <td>0</td>\n",
       "      <td>Jonathan Haidt</td>\n",
       "      <td>https://static01.nyt.com/bestsellers/images/97...</td>\n",
       "      <td>500</td>\n",
       "      <td>329</td>\n",
       "      <td>NaN</td>\n",
       "      <td>nyt://book/7557cf43-7888-5c15-8206-d3541cccd89b</td>\n",
       "      <td>...</td>\n",
       "      <td>5</td>\n",
       "      <td>2</td>\n",
       "      <td>NaN</td>\n",
       "      <td>THE ANXIOUS GENERATION</td>\n",
       "      <td>2025-06-02T23:13:47.093Z</td>\n",
       "      <td>61</td>\n",
       "      <td>Psychology</td>\n",
       "      <td>2025-06-08</td>\n",
       "      <td>NaN</td>\n",
       "      <td>NaN</td>\n",
       "    </tr>\n",
       "    <tr>\n",
       "      <th>...</th>\n",
       "      <td>...</td>\n",
       "      <td>...</td>\n",
       "      <td>...</td>\n",
       "      <td>...</td>\n",
       "      <td>...</td>\n",
       "      <td>...</td>\n",
       "      <td>...</td>\n",
       "      <td>...</td>\n",
       "      <td>...</td>\n",
       "      <td>...</td>\n",
       "      <td>...</td>\n",
       "      <td>...</td>\n",
       "      <td>...</td>\n",
       "      <td>...</td>\n",
       "      <td>...</td>\n",
       "      <td>...</td>\n",
       "      <td>...</td>\n",
       "      <td>...</td>\n",
       "      <td>...</td>\n",
       "      <td>...</td>\n",
       "      <td>...</td>\n",
       "    </tr>\n",
       "    <tr>\n",
       "      <th>4191</th>\n",
       "      <td>NaN</td>\n",
       "      <td>https://www.amazon.com/We-Were-Eight-Years-Pow...</td>\n",
       "      <td>NaN</td>\n",
       "      <td>0</td>\n",
       "      <td>Ta-Nehisi Coates</td>\n",
       "      <td>https://static01.nyt.com/bestsellers/images/97...</td>\n",
       "      <td>495</td>\n",
       "      <td>326</td>\n",
       "      <td>https://www.nytimes.com/2017/11/03/books/revie...</td>\n",
       "      <td>nyt://book/a9a88c8e-563f-5c2a-b16f-b0c3bb9a0c3e</td>\n",
       "      <td>...</td>\n",
       "      <td>11</td>\n",
       "      <td>10</td>\n",
       "      <td>NaN</td>\n",
       "      <td>WE WERE EIGHT YEARS IN POWER</td>\n",
       "      <td>2025-05-14T09:34:13.54Z</td>\n",
       "      <td>6</td>\n",
       "      <td>biography &amp; autobiography</td>\n",
       "      <td>2017-11-26</td>\n",
       "      <td>NaN</td>\n",
       "      <td>2017-04-30 13:01:34.672838</td>\n",
       "    </tr>\n",
       "    <tr>\n",
       "      <th>4192</th>\n",
       "      <td>NaN</td>\n",
       "      <td>https://www.amazon.com/What-Happened-Hillary-R...</td>\n",
       "      <td>NaN</td>\n",
       "      <td>0</td>\n",
       "      <td>Hillary Clinton</td>\n",
       "      <td>https://static01.nyt.com/bestsellers/images/97...</td>\n",
       "      <td>495</td>\n",
       "      <td>328</td>\n",
       "      <td>NaN</td>\n",
       "      <td>nyt://book/daadee57-173f-5ce7-926e-1e46bec21171</td>\n",
       "      <td>...</td>\n",
       "      <td>12</td>\n",
       "      <td>7</td>\n",
       "      <td>NaN</td>\n",
       "      <td>WHAT HAPPENED</td>\n",
       "      <td>2025-05-14T09:34:13.468Z</td>\n",
       "      <td>9</td>\n",
       "      <td>biography &amp; autobiography</td>\n",
       "      <td>2017-11-26</td>\n",
       "      <td>NaN</td>\n",
       "      <td>2017-04-30 13:01:34.672838</td>\n",
       "    </tr>\n",
       "    <tr>\n",
       "      <th>4193</th>\n",
       "      <td>NaN</td>\n",
       "      <td>https://www.amazon.com/Endurance-Year-Space-Li...</td>\n",
       "      <td>NaN</td>\n",
       "      <td>0</td>\n",
       "      <td>Scott Kelly</td>\n",
       "      <td>https://static01.nyt.com/bestsellers/images/97...</td>\n",
       "      <td>482</td>\n",
       "      <td>330</td>\n",
       "      <td>https://www.nytimes.com/2017/12/07/books/revie...</td>\n",
       "      <td>nyt://book/c7e1f813-6d8d-5dd1-bcc6-4975f4f1f6f9</td>\n",
       "      <td>...</td>\n",
       "      <td>13</td>\n",
       "      <td>14</td>\n",
       "      <td>NaN</td>\n",
       "      <td>ENDURANCE</td>\n",
       "      <td>2025-05-14T09:34:18.976Z</td>\n",
       "      <td>4</td>\n",
       "      <td>biography &amp; autobiography</td>\n",
       "      <td>2017-11-26</td>\n",
       "      <td>NaN</td>\n",
       "      <td>2017-04-30 13:01:34.672838</td>\n",
       "    </tr>\n",
       "    <tr>\n",
       "      <th>4194</th>\n",
       "      <td>NaN</td>\n",
       "      <td>https://www.amazon.com/You-Cant-Spell-America-...</td>\n",
       "      <td>NaN</td>\n",
       "      <td>0</td>\n",
       "      <td>Alec Baldwin and Kurt Andersen</td>\n",
       "      <td>https://static01.nyt.com/bestsellers/images/97...</td>\n",
       "      <td>495</td>\n",
       "      <td>325</td>\n",
       "      <td>NaN</td>\n",
       "      <td>nyt://book/5c041301-c2fe-52ca-9993-999a49448282</td>\n",
       "      <td>...</td>\n",
       "      <td>14</td>\n",
       "      <td>0</td>\n",
       "      <td>NaN</td>\n",
       "      <td>YOU CAN'T SPELL AMERICA WITHOUT ME</td>\n",
       "      <td>2025-05-14T09:29:17.821Z</td>\n",
       "      <td>1</td>\n",
       "      <td>humor</td>\n",
       "      <td>2017-11-26</td>\n",
       "      <td>NaN</td>\n",
       "      <td>2017-04-30 13:01:34.672838</td>\n",
       "    </tr>\n",
       "    <tr>\n",
       "      <th>4195</th>\n",
       "      <td>NaN</td>\n",
       "      <td>https://www.amazon.com/God-Human-History-Reza-...</td>\n",
       "      <td>NaN</td>\n",
       "      <td>0</td>\n",
       "      <td>Reza Aslan</td>\n",
       "      <td>https://static01.nyt.com/bestsellers/images/97...</td>\n",
       "      <td>495</td>\n",
       "      <td>326</td>\n",
       "      <td>https://www.nytimes.com/2017/12/19/books/revie...</td>\n",
       "      <td>nyt://book/eb001754-6bea-5263-97e7-3fd68c487fe7</td>\n",
       "      <td>...</td>\n",
       "      <td>15</td>\n",
       "      <td>0</td>\n",
       "      <td>NaN</td>\n",
       "      <td>GOD</td>\n",
       "      <td>2025-05-14T09:29:17.907Z</td>\n",
       "      <td>1</td>\n",
       "      <td>religion</td>\n",
       "      <td>2017-11-26</td>\n",
       "      <td>NaN</td>\n",
       "      <td>2017-04-30 13:01:34.672838</td>\n",
       "    </tr>\n",
       "  </tbody>\n",
       "</table>\n",
       "<p>4196 rows × 30 columns</p>\n",
       "</div>"
      ],
      "text/plain": [
       "      age_group                                 amazon_product_url  \\\n",
       "0           NaN  https://www.amazon.com/dp/B0DTYKCJC9?tag=thene...   \n",
       "1           NaN  https://www.amazon.com/dp/1668023369?tag=thene...   \n",
       "2           NaN  https://www.amazon.com/dp/0525561722?tag=thene...   \n",
       "3           NaN  https://www.amazon.com/dp/1668053373?tag=thene...   \n",
       "4           NaN  https://www.amazon.com/dp/0593655036?tag=thene...   \n",
       "...         ...                                                ...   \n",
       "4191        NaN  https://www.amazon.com/We-Were-Eight-Years-Pow...   \n",
       "4192        NaN  https://www.amazon.com/What-Happened-Hillary-R...   \n",
       "4193        NaN  https://www.amazon.com/Endurance-Year-Space-Li...   \n",
       "4194        NaN  https://www.amazon.com/You-Cant-Spell-America-...   \n",
       "4195        NaN  https://www.amazon.com/God-Human-History-Reza-...   \n",
       "\n",
       "      article_chapter_link  asterisk                          author  \\\n",
       "0                      NaN         0   Jake Tapper and Alex Thompson   \n",
       "1                      NaN         0                     Dawn Staley   \n",
       "2                      NaN         0                     Ron Chernow   \n",
       "3                      NaN         0                   Patrick McGee   \n",
       "4                      NaN         0                  Jonathan Haidt   \n",
       "...                    ...       ...                             ...   \n",
       "4191                   NaN         0                Ta-Nehisi Coates   \n",
       "4192                   NaN         0                 Hillary Clinton   \n",
       "4193                   NaN         0                     Scott Kelly   \n",
       "4194                   NaN         0  Alec Baldwin and Kurt Andersen   \n",
       "4195                   NaN         0                      Reza Aslan   \n",
       "\n",
       "                                             book_image  book_image_height  \\\n",
       "0     https://static01.nyt.com/bestsellers/images/97...                500   \n",
       "1     https://static01.nyt.com/bestsellers/images/97...                500   \n",
       "2     https://static01.nyt.com/bestsellers/images/97...                500   \n",
       "3     https://static01.nyt.com/bestsellers/images/97...                500   \n",
       "4     https://static01.nyt.com/bestsellers/images/97...                500   \n",
       "...                                                 ...                ...   \n",
       "4191  https://static01.nyt.com/bestsellers/images/97...                495   \n",
       "4192  https://static01.nyt.com/bestsellers/images/97...                495   \n",
       "4193  https://static01.nyt.com/bestsellers/images/97...                482   \n",
       "4194  https://static01.nyt.com/bestsellers/images/97...                495   \n",
       "4195  https://static01.nyt.com/bestsellers/images/97...                495   \n",
       "\n",
       "      book_image_width                                   book_review_link  \\\n",
       "0                  329                                                NaN   \n",
       "1                  329                                                NaN   \n",
       "2                  329                                                NaN   \n",
       "3                  331                                                NaN   \n",
       "4                  329                                                NaN   \n",
       "...                ...                                                ...   \n",
       "4191               326  https://www.nytimes.com/2017/11/03/books/revie...   \n",
       "4192               328                                                NaN   \n",
       "4193               330  https://www.nytimes.com/2017/12/07/books/revie...   \n",
       "4194               325                                                NaN   \n",
       "4195               326  https://www.nytimes.com/2017/12/19/books/revie...   \n",
       "\n",
       "                                             book_uri  ... rank  \\\n",
       "0     nyt://book/786e31c1-bc83-50f1-bd8d-995926458641  ...    1   \n",
       "1     nyt://book/93e1c5cf-1a3f-5ede-b081-ca9bbd7d30a2  ...    2   \n",
       "2     nyt://book/b92f68c9-76ad-5510-8520-c5864d663b19  ...    3   \n",
       "3     nyt://book/82ca74aa-bab8-5b05-9a1f-f8f7e383e1e2  ...    4   \n",
       "4     nyt://book/7557cf43-7888-5c15-8206-d3541cccd89b  ...    5   \n",
       "...                                               ...  ...  ...   \n",
       "4191  nyt://book/a9a88c8e-563f-5c2a-b16f-b0c3bb9a0c3e  ...   11   \n",
       "4192  nyt://book/daadee57-173f-5ce7-926e-1e46bec21171  ...   12   \n",
       "4193  nyt://book/c7e1f813-6d8d-5dd1-bcc6-4975f4f1f6f9  ...   13   \n",
       "4194  nyt://book/5c041301-c2fe-52ca-9993-999a49448282  ...   14   \n",
       "4195  nyt://book/eb001754-6bea-5263-97e7-3fd68c487fe7  ...   15   \n",
       "\n",
       "     rank_last_week sunday_review_link                               title  \\\n",
       "0                 0                NaN                        ORIGINAL SIN   \n",
       "1                 0                NaN                      UNCOMMON FAVOR   \n",
       "2                 1                NaN                          MARK TWAIN   \n",
       "3                 0                NaN                      APPLE IN CHINA   \n",
       "4                 2                NaN              THE ANXIOUS GENERATION   \n",
       "...             ...                ...                                 ...   \n",
       "4191             10                NaN        WE WERE EIGHT YEARS IN POWER   \n",
       "4192              7                NaN                       WHAT HAPPENED   \n",
       "4193             14                NaN                           ENDURANCE   \n",
       "4194              0                NaN  YOU CAN'T SPELL AMERICA WITHOUT ME   \n",
       "4195              0                NaN                                 GOD   \n",
       "\n",
       "                  updated_date weeks_on_list                   category  \\\n",
       "0     2025-06-02T23:13:46.798Z             1          Political Science   \n",
       "1     2025-06-02T23:13:46.873Z             1  Biography & Autobiography   \n",
       "2     2025-06-02T23:13:46.947Z             2  Biography & Autobiography   \n",
       "3      2025-06-02T23:13:47.02Z             1       Business & Economics   \n",
       "4     2025-06-02T23:13:47.093Z            61                 Psychology   \n",
       "...                        ...           ...                        ...   \n",
       "4191   2025-05-14T09:34:13.54Z             6  biography & autobiography   \n",
       "4192  2025-05-14T09:34:13.468Z             9  biography & autobiography   \n",
       "4193  2025-05-14T09:34:18.976Z             4  biography & autobiography   \n",
       "4194  2025-05-14T09:29:17.821Z             1                      humor   \n",
       "4195  2025-05-14T09:29:17.907Z             1                   religion   \n",
       "\n",
       "      published_date Unnamed: 0               date_datetime  \n",
       "0         2025-06-08        NaN                         NaN  \n",
       "1         2025-06-08        NaN                         NaN  \n",
       "2         2025-06-08        NaN                         NaN  \n",
       "3         2025-06-08        NaN                         NaN  \n",
       "4         2025-06-08        NaN                         NaN  \n",
       "...              ...        ...                         ...  \n",
       "4191      2017-11-26        NaN  2017-04-30 13:01:34.672838  \n",
       "4192      2017-11-26        NaN  2017-04-30 13:01:34.672838  \n",
       "4193      2017-11-26        NaN  2017-04-30 13:01:34.672838  \n",
       "4194      2017-11-26        NaN  2017-04-30 13:01:34.672838  \n",
       "4195      2017-11-26        NaN  2017-04-30 13:01:34.672838  \n",
       "\n",
       "[4196 rows x 30 columns]"
      ]
     },
     "execution_count": 4,
     "metadata": {},
     "output_type": "execute_result"
    }
   ],
   "source": [
    "df_cached"
   ]
  },
  {
   "cell_type": "markdown",
   "id": "2b0577e0",
   "metadata": {},
   "source": [
    "<!-- This is kind of interesting, but it doesn't show change over time. I've decided to use the NYT best sellers list, specifically non-fiction becuase I'm able to crossreference more specific categories from the Google Books API. The question becomes:\n",
    "\n",
    "**How have American tastes in non-fiction changed over time?** -->"
   ]
  },
  {
   "cell_type": "code",
   "execution_count": 5,
   "id": "20f57805",
   "metadata": {},
   "outputs": [
    {
     "name": "stdout",
     "output_type": "stream",
     "text": [
      "2025-06-26\n",
      "2025-06-22 17:34:46.978746\n",
      "pubdate: 2025-06-22\n"
     ]
    },
    {
     "data": {
      "text/plain": [
       "6"
      ]
     },
     "execution_count": 5,
     "metadata": {},
     "output_type": "execute_result"
    }
   ],
   "source": [
    "# Able to calculate date as loop through calls. Neet to remember to always call strftime.\n",
    "from datetime import datetime\n",
    "from datetime import timedelta, date\n",
    "import dateutil.relativedelta\n",
    "\n",
    "\n",
    "date = datetime.now()\n",
    "print(date.strftime(\"%Y-%m-%d\"))\n",
    "\n",
    "while (date.weekday() != 6):\n",
    "    date = date - timedelta(1)\n",
    "\n",
    "print(date)\n",
    "pub_date = date.strftime(\"%Y-%m-%d\")\n",
    "print(f\"pubdate: {pub_date}\")\n",
    "date.weekday()\n"
   ]
  },
  {
   "cell_type": "code",
   "execution_count": 6,
   "id": "6dc33f7f",
   "metadata": {},
   "outputs": [
    {
     "name": "stdout",
     "output_type": "stream",
     "text": [
      "isbn from cache\n"
     ]
    },
    {
     "data": {
      "text/plain": [
       "'Political Science'"
      ]
     },
     "execution_count": 6,
     "metadata": {},
     "output_type": "execute_result"
    }
   ],
   "source": [
    "# Be sure to test that this works before running the full pull! Google Books limits api at 1000 per day.\n",
    "\n",
    "\n",
    "def get_category(isbn):\n",
    "    if (len(isbn)==13):\n",
    "        # First, check cache\n",
    "        try:\n",
    "            category = df_cached[df_cached['primary_isbn13'] == isbn]['category'].iloc[0]\n",
    "            print('isbn from cache')\n",
    "            return category\n",
    "        \n",
    "        # If not in cache, call Google Books API\n",
    "        except:\n",
    "\n",
    "            response = requests.get(f'https://books.googleapis.com/books/v1/volumes?q=isbn%3A{isbn}&key={google_key}')\n",
    "            data = response.json()\n",
    "\n",
    "            if(response.status_code != 200):\n",
    "                print(response.status_code)\n",
    "                print(response.headers)\n",
    "\n",
    "            try:\n",
    "                category = data['items'][0]['volumeInfo']['categories'][0]\n",
    "                print('isbn from api')\n",
    "                return category\n",
    "            except:\n",
    "                category = data['items'][0]['volumeInfo']['categories']\n",
    "                print('isbn from api')\n",
    "                return category\n",
    "\n",
    "\n",
    "# uncomment to test   \n",
    "get_category('9798217060672')"
   ]
  },
  {
   "cell_type": "code",
   "execution_count": 7,
   "id": "4adb01a9",
   "metadata": {},
   "outputs": [
    {
     "name": "stdout",
     "output_type": "stream",
     "text": [
      "2025-06-22\n",
      "nyt list from cache\n",
      "2025-05-18\n",
      "nyt list from cache\n",
      "2025-04-13\n",
      "nyt list from cache\n",
      "2025-03-09\n",
      "nyt list from cache\n",
      "2025-02-02\n",
      "nyt list from cache\n",
      "2024-12-29\n",
      "nyt list from cache\n",
      "2024-11-24\n",
      "nyt list from cache\n",
      "2024-10-20\n",
      "nyt list from cache\n",
      "2024-09-15\n",
      "nyt list from cache\n",
      "2024-08-11\n",
      "nyt list from cache\n",
      "2024-07-07\n",
      "nyt list from cache\n",
      "2024-06-02\n",
      "nyt list from cache\n",
      "2024-04-28\n",
      "nyt list from cache\n",
      "2024-03-24\n",
      "nyt list from cache\n",
      "2024-02-18\n",
      "nyt list from cache\n",
      "2024-01-14\n",
      "nyt list from cache\n",
      "2023-12-10\n",
      "nyt list from cache\n",
      "2023-11-05\n"
     ]
    },
    {
     "name": "stderr",
     "output_type": "stream",
     "text": [
      "C:\\Users\\nmuff\\AppData\\Local\\Temp\\ipykernel_42292\\988167329.py:50: SettingWithCopyWarning: \n",
      "A value is trying to be set on a copy of a slice from a DataFrame.\n",
      "Try using .loc[row_indexer,col_indexer] = value instead\n",
      "\n",
      "See the caveats in the documentation: https://pandas.pydata.org/pandas-docs/stable/user_guide/indexing.html#returning-a-view-versus-a-copy\n",
      "  df['date_datetime']=date\n"
     ]
    },
    {
     "name": "stdout",
     "output_type": "stream",
     "text": [
      "nyt list from api\n",
      "isbn from cache\n",
      "isbn from cache\n",
      "isbn from cache\n",
      "2023-10-01\n",
      "nyt list from api\n",
      "isbn from cache\n",
      "isbn from api\n",
      "isbn from cache\n",
      "isbn from cache\n",
      "isbn from cache\n",
      "isbn from cache\n",
      "isbn from api\n",
      "2023-08-27\n",
      "nyt list from cache\n",
      "2023-07-23\n",
      "nyt list from cache\n",
      "2023-06-18\n",
      "nyt list from cache\n",
      "2023-05-14\n",
      "nyt list from cache\n",
      "2023-04-09\n",
      "nyt list from cache\n",
      "2023-03-05\n",
      "nyt list from cache\n",
      "2023-01-29\n",
      "nyt list from cache\n",
      "2022-12-25\n",
      "nyt list from cache\n",
      "2022-11-20\n",
      "nyt list from cache\n",
      "2022-10-16\n",
      "nyt list from cache\n",
      "2022-09-11\n",
      "nyt list from cache\n",
      "2022-08-07\n",
      "nyt list from cache\n",
      "2022-07-03\n",
      "nyt list from cache\n",
      "2022-05-29\n",
      "nyt list from cache\n",
      "2022-04-24\n"
     ]
    },
    {
     "name": "stderr",
     "output_type": "stream",
     "text": [
      "C:\\Users\\nmuff\\AppData\\Local\\Temp\\ipykernel_42292\\988167329.py:50: SettingWithCopyWarning: \n",
      "A value is trying to be set on a copy of a slice from a DataFrame.\n",
      "Try using .loc[row_indexer,col_indexer] = value instead\n",
      "\n",
      "See the caveats in the documentation: https://pandas.pydata.org/pandas-docs/stable/user_guide/indexing.html#returning-a-view-versus-a-copy\n",
      "  df['date_datetime']=date\n"
     ]
    },
    {
     "name": "stdout",
     "output_type": "stream",
     "text": [
      "nyt list from api\n",
      "isbn from cache\n",
      "isbn from cache\n",
      "isbn from cache\n",
      "2022-03-20\n",
      "nyt list from cache\n",
      "2022-02-13\n",
      "nyt list from cache\n",
      "2022-01-09\n"
     ]
    },
    {
     "name": "stderr",
     "output_type": "stream",
     "text": [
      "C:\\Users\\nmuff\\AppData\\Local\\Temp\\ipykernel_42292\\988167329.py:50: SettingWithCopyWarning: \n",
      "A value is trying to be set on a copy of a slice from a DataFrame.\n",
      "Try using .loc[row_indexer,col_indexer] = value instead\n",
      "\n",
      "See the caveats in the documentation: https://pandas.pydata.org/pandas-docs/stable/user_guide/indexing.html#returning-a-view-versus-a-copy\n",
      "  df['date_datetime']=date\n"
     ]
    },
    {
     "name": "stdout",
     "output_type": "stream",
     "text": [
      "nyt list from api\n",
      "isbn from cache\n",
      "isbn from cache\n",
      "isbn from cache\n",
      "isbn from cache\n",
      "isbn from cache\n",
      "isbn from cache\n",
      "isbn from cache\n",
      "isbn from cache\n",
      "isbn from cache\n",
      "isbn from cache\n",
      "isbn from cache\n",
      "isbn from cache\n",
      "2021-12-05\n",
      "nyt list from cache\n",
      "2021-10-31\n",
      "nyt list from cache\n",
      "2021-09-26\n",
      "nyt list from cache\n",
      "2021-08-22\n",
      "nyt list from cache\n",
      "2021-07-18\n",
      "nyt list from cache\n",
      "2021-06-13\n"
     ]
    },
    {
     "name": "stderr",
     "output_type": "stream",
     "text": [
      "C:\\Users\\nmuff\\AppData\\Local\\Temp\\ipykernel_42292\\988167329.py:50: SettingWithCopyWarning: \n",
      "A value is trying to be set on a copy of a slice from a DataFrame.\n",
      "Try using .loc[row_indexer,col_indexer] = value instead\n",
      "\n",
      "See the caveats in the documentation: https://pandas.pydata.org/pandas-docs/stable/user_guide/indexing.html#returning-a-view-versus-a-copy\n",
      "  df['date_datetime']=date\n"
     ]
    },
    {
     "name": "stdout",
     "output_type": "stream",
     "text": [
      "nyt list from api\n",
      "isbn from cache\n",
      "isbn from cache\n",
      "isbn from cache\n",
      "isbn from cache\n",
      "isbn from cache\n",
      "isbn from cache\n",
      "isbn from cache\n",
      "isbn from cache\n",
      "isbn from cache\n",
      "isbn from cache\n",
      "isbn from cache\n",
      "isbn from api\n",
      "isbn from api\n",
      "isbn from api\n",
      "isbn from cache\n",
      "2021-05-09\n",
      "nyt list from api\n",
      "isbn from api\n",
      "isbn from cache\n",
      "isbn from cache\n",
      "isbn from cache\n",
      "isbn from cache\n",
      "isbn from cache\n",
      "isbn from cache\n",
      "isbn from api\n",
      "isbn from cache\n",
      "isbn from cache\n",
      "isbn from cache\n",
      "2021-04-04\n",
      "nyt list from cache\n",
      "2021-02-28\n",
      "nyt list from cache\n",
      "2021-01-24\n",
      "nyt list from cache\n",
      "2020-12-20\n",
      "nyt list from cache\n",
      "2020-11-15\n",
      "nyt list from cache\n",
      "2020-10-11\n"
     ]
    },
    {
     "name": "stderr",
     "output_type": "stream",
     "text": [
      "C:\\Users\\nmuff\\AppData\\Local\\Temp\\ipykernel_42292\\988167329.py:50: SettingWithCopyWarning: \n",
      "A value is trying to be set on a copy of a slice from a DataFrame.\n",
      "Try using .loc[row_indexer,col_indexer] = value instead\n",
      "\n",
      "See the caveats in the documentation: https://pandas.pydata.org/pandas-docs/stable/user_guide/indexing.html#returning-a-view-versus-a-copy\n",
      "  df['date_datetime']=date\n"
     ]
    },
    {
     "name": "stdout",
     "output_type": "stream",
     "text": [
      "nyt list from api\n",
      "isbn from cache\n",
      "isbn from cache\n",
      "isbn from cache\n",
      "isbn from cache\n",
      "isbn from cache\n",
      "isbn from cache\n",
      "isbn from cache\n",
      "isbn from cache\n",
      "isbn from api\n",
      "isbn from cache\n",
      "isbn from cache\n",
      "isbn from api\n",
      "isbn from cache\n",
      "isbn from cache\n",
      "isbn from api\n",
      "2020-09-06\n",
      "nyt list from cache\n",
      "2020-08-02\n"
     ]
    },
    {
     "name": "stderr",
     "output_type": "stream",
     "text": [
      "C:\\Users\\nmuff\\AppData\\Local\\Temp\\ipykernel_42292\\988167329.py:50: SettingWithCopyWarning: \n",
      "A value is trying to be set on a copy of a slice from a DataFrame.\n",
      "Try using .loc[row_indexer,col_indexer] = value instead\n",
      "\n",
      "See the caveats in the documentation: https://pandas.pydata.org/pandas-docs/stable/user_guide/indexing.html#returning-a-view-versus-a-copy\n",
      "  df['date_datetime']=date\n"
     ]
    },
    {
     "name": "stdout",
     "output_type": "stream",
     "text": [
      "nyt list from api\n",
      "isbn from cache\n",
      "isbn from cache\n",
      "isbn from cache\n",
      "isbn from cache\n",
      "isbn from cache\n",
      "isbn from cache\n",
      "isbn from cache\n",
      "isbn from cache\n",
      "isbn from cache\n",
      "isbn from cache\n",
      "isbn from api\n",
      "isbn from cache\n",
      "isbn from cache\n",
      "isbn from cache\n",
      "isbn from cache\n",
      "2020-06-28\n",
      "nyt list from api\n",
      "isbn from cache\n",
      "isbn from cache\n",
      "isbn from cache\n",
      "isbn from cache\n",
      "isbn from cache\n",
      "isbn from cache\n",
      "isbn from cache\n",
      "isbn from cache\n",
      "isbn from cache\n",
      "isbn from cache\n",
      "isbn from cache\n",
      "isbn from cache\n",
      "isbn from cache\n",
      "isbn from cache\n",
      "isbn from cache\n",
      "2020-05-24\n",
      "nyt list from api\n",
      "isbn from cache\n",
      "isbn from cache\n",
      "isbn from api\n",
      "isbn from cache\n",
      "isbn from cache\n",
      "isbn from api\n",
      "isbn from api\n",
      "isbn from api\n",
      "isbn from cache\n",
      "isbn from cache\n",
      "isbn from cache\n",
      "isbn from cache\n",
      "isbn from cache\n",
      "isbn from cache\n",
      "isbn from cache\n",
      "2020-04-19\n",
      "nyt list from api\n",
      "isbn from cache\n",
      "isbn from cache\n",
      "isbn from cache\n",
      "isbn from cache\n",
      "isbn from api\n",
      "isbn from cache\n",
      "isbn from api\n",
      "isbn from cache\n",
      "isbn from api\n",
      "isbn from cache\n",
      "isbn from cache\n",
      "isbn from cache\n",
      "isbn from cache\n",
      "isbn from cache\n",
      "isbn from cache\n",
      "2020-03-15\n",
      "nyt list from api\n",
      "isbn from cache\n",
      "isbn from cache\n",
      "isbn from api\n",
      "isbn from api\n",
      "isbn from cache\n",
      "isbn from cache\n",
      "isbn from cache\n",
      "isbn from cache\n",
      "isbn from cache\n",
      "isbn from cache\n",
      "isbn from cache\n",
      "isbn from cache\n",
      "isbn from cache\n",
      "isbn from cache\n",
      "isbn from cache\n",
      "2020-02-09\n",
      "nyt list from api\n",
      "isbn from cache\n",
      "isbn from cache\n",
      "isbn from cache\n",
      "isbn from cache\n",
      "isbn from cache\n",
      "isbn from cache\n",
      "isbn from cache\n",
      "isbn from cache\n",
      "isbn from cache\n",
      "isbn from api\n",
      "2020-01-05\n",
      "nyt list from api\n",
      "isbn from cache\n",
      "isbn from cache\n",
      "isbn from cache\n",
      "isbn from cache\n",
      "isbn from cache\n",
      "isbn from cache\n",
      "isbn from cache\n",
      "isbn from cache\n",
      "isbn from cache\n",
      "isbn from api\n",
      "isbn from cache\n",
      "isbn from cache\n",
      "isbn from cache\n",
      "isbn from api\n",
      "isbn from cache\n",
      "2019-12-01\n",
      "nyt list from api\n",
      "isbn from cache\n",
      "isbn from api\n",
      "isbn from cache\n",
      "isbn from api\n",
      "isbn from cache\n",
      "isbn from cache\n",
      "isbn from cache\n",
      "isbn from api\n",
      "isbn from cache\n",
      "isbn from cache\n",
      "isbn from cache\n",
      "isbn from api\n",
      "isbn from api\n",
      "isbn from cache\n",
      "isbn from cache\n",
      "2019-10-27\n",
      "nyt list from api\n",
      "isbn from cache\n",
      "isbn from cache\n",
      "isbn from api\n",
      "isbn from cache\n",
      "isbn from cache\n",
      "isbn from api\n",
      "isbn from cache\n",
      "isbn from cache\n",
      "isbn from api\n",
      "isbn from cache\n",
      "isbn from api\n",
      "isbn from cache\n",
      "isbn from cache\n",
      "isbn from cache\n",
      "isbn from cache\n",
      "2019-09-22\n",
      "nyt list from api\n",
      "isbn from cache\n",
      "isbn from cache\n",
      "isbn from cache\n",
      "isbn from cache\n",
      "isbn from cache\n",
      "isbn from cache\n",
      "isbn from cache\n",
      "isbn from api\n",
      "isbn from api\n",
      "isbn from cache\n",
      "isbn from cache\n",
      "isbn from cache\n",
      "isbn from cache\n",
      "isbn from api\n",
      "isbn from cache\n",
      "2019-08-18\n",
      "nyt list from api\n",
      "isbn from cache\n",
      "isbn from cache\n",
      "isbn from cache\n",
      "isbn from cache\n",
      "isbn from cache\n",
      "isbn from cache\n",
      "isbn from cache\n",
      "isbn from cache\n",
      "isbn from cache\n",
      "isbn from cache\n",
      "isbn from api\n",
      "isbn from api\n",
      "isbn from api\n",
      "isbn from api\n",
      "isbn from cache\n",
      "2019-07-14\n",
      "nyt list from api\n",
      "isbn from cache\n",
      "isbn from cache\n",
      "isbn from cache\n",
      "isbn from cache\n",
      "isbn from cache\n",
      "isbn from api\n",
      "isbn from cache\n",
      "isbn from cache\n",
      "isbn from api\n",
      "isbn from cache\n",
      "isbn from cache\n",
      "isbn from cache\n",
      "isbn from cache\n",
      "isbn from cache\n",
      "isbn from api\n",
      "2019-06-09\n",
      "nyt list from cache\n",
      "2019-05-05\n",
      "nyt list from cache\n",
      "2019-03-31\n",
      "nyt list from cache\n",
      "2019-02-24\n",
      "nyt list from cache\n",
      "2019-01-20\n",
      "nyt list from cache\n",
      "2018-12-16\n",
      "nyt list from cache\n",
      "2018-11-11\n",
      "nyt list from cache\n",
      "2018-10-07\n",
      "nyt list from cache\n",
      "2018-09-02\n"
     ]
    },
    {
     "name": "stderr",
     "output_type": "stream",
     "text": [
      "C:\\Users\\nmuff\\AppData\\Local\\Temp\\ipykernel_42292\\988167329.py:50: SettingWithCopyWarning: \n",
      "A value is trying to be set on a copy of a slice from a DataFrame.\n",
      "Try using .loc[row_indexer,col_indexer] = value instead\n",
      "\n",
      "See the caveats in the documentation: https://pandas.pydata.org/pandas-docs/stable/user_guide/indexing.html#returning-a-view-versus-a-copy\n",
      "  df['date_datetime']=date\n"
     ]
    },
    {
     "name": "stdout",
     "output_type": "stream",
     "text": [
      "nyt list from api\n",
      "isbn from cache\n",
      "isbn from cache\n",
      "isbn from cache\n",
      "isbn from cache\n",
      "2018-07-29\n",
      "nyt list from cache\n",
      "2018-06-24\n"
     ]
    },
    {
     "name": "stderr",
     "output_type": "stream",
     "text": [
      "C:\\Users\\nmuff\\AppData\\Local\\Temp\\ipykernel_42292\\988167329.py:50: SettingWithCopyWarning: \n",
      "A value is trying to be set on a copy of a slice from a DataFrame.\n",
      "Try using .loc[row_indexer,col_indexer] = value instead\n",
      "\n",
      "See the caveats in the documentation: https://pandas.pydata.org/pandas-docs/stable/user_guide/indexing.html#returning-a-view-versus-a-copy\n",
      "  df['date_datetime']=date\n"
     ]
    },
    {
     "name": "stdout",
     "output_type": "stream",
     "text": [
      "nyt list from api\n",
      "isbn from api\n",
      "isbn from cache\n",
      "isbn from api\n",
      "isbn from api\n",
      "2018-05-20\n",
      "nyt list from api\n",
      "isbn from cache\n",
      "isbn from cache\n",
      "isbn from cache\n",
      "isbn from cache\n",
      "isbn from cache\n",
      "isbn from cache\n",
      "isbn from cache\n",
      "isbn from api\n",
      "isbn from api\n",
      "isbn from cache\n",
      "isbn from cache\n",
      "isbn from cache\n",
      "isbn from cache\n",
      "isbn from cache\n",
      "2018-04-15\n",
      "nyt list from cache\n",
      "2018-03-11\n",
      "nyt list from cache\n",
      "2018-02-04\n",
      "nyt list from cache\n",
      "2017-12-31\n",
      "nyt list from cache\n",
      "2017-11-26\n",
      "nyt list from cache\n",
      "2017-10-22\n"
     ]
    },
    {
     "name": "stderr",
     "output_type": "stream",
     "text": [
      "C:\\Users\\nmuff\\AppData\\Local\\Temp\\ipykernel_42292\\988167329.py:50: SettingWithCopyWarning: \n",
      "A value is trying to be set on a copy of a slice from a DataFrame.\n",
      "Try using .loc[row_indexer,col_indexer] = value instead\n",
      "\n",
      "See the caveats in the documentation: https://pandas.pydata.org/pandas-docs/stable/user_guide/indexing.html#returning-a-view-versus-a-copy\n",
      "  df['date_datetime']=date\n"
     ]
    },
    {
     "name": "stdout",
     "output_type": "stream",
     "text": [
      "nyt list from api\n",
      "isbn from cache\n",
      "isbn from cache\n",
      "isbn from cache\n",
      "isbn from api\n",
      "isbn from cache\n",
      "isbn from api\n",
      "isbn from cache\n",
      "isbn from cache\n",
      "isbn from api\n",
      "isbn from cache\n",
      "isbn from cache\n",
      "isbn from api\n",
      "isbn from cache\n",
      "isbn from api\n",
      "isbn from cache\n",
      "2017-09-17\n",
      "nyt list from api\n",
      "isbn from cache\n",
      "isbn from cache\n",
      "isbn from cache\n",
      "isbn from cache\n",
      "isbn from cache\n",
      "isbn from cache\n",
      "isbn from api\n",
      "2017-08-13\n",
      "nyt list from api\n",
      "429\n",
      "{'Date': 'Thu, 26 Jun 2025 21:38:23 GMT', 'Content-Type': 'application/json', 'Content-Length': '187', 'Connection': 'keep-alive', 'Access-Control-Allow-Headers': 'Accept, Content-Type, Origin, X-Forwarded-For, X-Prototype-Version, X-Requested-With', 'Access-Control-Allow-Methods': 'GET, OPTIONS', 'Access-Control-Allow-Origin': '*', 'Access-Control-Expose-Headers': 'Content-Length, X-JSON'}\n",
      "429\n",
      "{'Date': 'Thu, 26 Jun 2025 21:38:23 GMT', 'Content-Type': 'application/json', 'Content-Length': '187', 'Connection': 'keep-alive', 'Access-Control-Allow-Headers': 'Accept, Content-Type, Origin, X-Forwarded-For, X-Prototype-Version, X-Requested-With', 'Access-Control-Allow-Methods': 'GET, OPTIONS', 'Access-Control-Allow-Origin': '*', 'Access-Control-Expose-Headers': 'Content-Length, X-JSON'}\n",
      "2017-07-09\n",
      "nyt list from api\n",
      "429\n",
      "{'Date': 'Thu, 26 Jun 2025 21:38:24 GMT', 'Content-Type': 'application/json', 'Content-Length': '187', 'Connection': 'keep-alive', 'Access-Control-Allow-Headers': 'Accept, Content-Type, Origin, X-Forwarded-For, X-Prototype-Version, X-Requested-With', 'Access-Control-Allow-Methods': 'GET, OPTIONS', 'Access-Control-Allow-Origin': '*', 'Access-Control-Expose-Headers': 'Content-Length, X-JSON'}\n",
      "429\n",
      "{'Date': 'Thu, 26 Jun 2025 21:38:24 GMT', 'Content-Type': 'application/json', 'Content-Length': '187', 'Connection': 'keep-alive', 'Access-Control-Allow-Headers': 'Accept, Content-Type, Origin, X-Forwarded-For, X-Prototype-Version, X-Requested-With', 'Access-Control-Allow-Methods': 'GET, OPTIONS', 'Access-Control-Allow-Origin': '*', 'Access-Control-Expose-Headers': 'Content-Length, X-JSON'}\n",
      "2017-06-04\n",
      "nyt list from api\n",
      "429\n",
      "{'Date': 'Thu, 26 Jun 2025 21:38:24 GMT', 'Content-Type': 'application/json', 'Content-Length': '187', 'Connection': 'keep-alive', 'Access-Control-Allow-Headers': 'Accept, Content-Type, Origin, X-Forwarded-For, X-Prototype-Version, X-Requested-With', 'Access-Control-Allow-Methods': 'GET, OPTIONS', 'Access-Control-Allow-Origin': '*', 'Access-Control-Expose-Headers': 'Content-Length, X-JSON'}\n",
      "429\n",
      "{'Date': 'Thu, 26 Jun 2025 21:38:24 GMT', 'Content-Type': 'application/json', 'Content-Length': '187', 'Connection': 'keep-alive', 'Access-Control-Allow-Headers': 'Accept, Content-Type, Origin, X-Forwarded-For, X-Prototype-Version, X-Requested-With', 'Access-Control-Allow-Methods': 'GET, OPTIONS', 'Access-Control-Allow-Origin': '*', 'Access-Control-Expose-Headers': 'Content-Length, X-JSON'}\n",
      "2017-04-30\n",
      "nyt list from api\n",
      "429\n",
      "{'Date': 'Thu, 26 Jun 2025 21:38:24 GMT', 'Content-Type': 'application/json', 'Content-Length': '187', 'Connection': 'keep-alive', 'Access-Control-Allow-Headers': 'Accept, Content-Type, Origin, X-Forwarded-For, X-Prototype-Version, X-Requested-With', 'Access-Control-Allow-Methods': 'GET, OPTIONS', 'Access-Control-Allow-Origin': '*', 'Access-Control-Expose-Headers': 'Content-Length, X-JSON'}\n",
      "429\n",
      "{'Date': 'Thu, 26 Jun 2025 21:38:24 GMT', 'Content-Type': 'application/json', 'Content-Length': '187', 'Connection': 'keep-alive', 'Access-Control-Allow-Headers': 'Accept, Content-Type, Origin, X-Forwarded-For, X-Prototype-Version, X-Requested-With', 'Access-Control-Allow-Methods': 'GET, OPTIONS', 'Access-Control-Allow-Origin': '*', 'Access-Control-Expose-Headers': 'Content-Length, X-JSON'}\n",
      "2017-03-26\n",
      "nyt list from cache\n",
      "2017-02-19\n",
      "nyt list from cache\n",
      "2017-01-15\n",
      "nyt list from cache\n",
      "2016-12-11\n",
      "nyt list from cache\n",
      "2016-11-06\n",
      "nyt list from cache\n",
      "2016-10-02\n",
      "nyt list from cache\n",
      "2016-08-28\n",
      "nyt list from cache\n",
      "2016-07-24\n",
      "nyt list from cache\n",
      "2016-06-19\n",
      "nyt list from cache\n",
      "2016-05-15\n",
      "nyt list from cache\n",
      "2016-04-10\n",
      "nyt list from cache\n",
      "2016-03-06\n"
     ]
    },
    {
     "name": "stderr",
     "output_type": "stream",
     "text": [
      "C:\\Users\\nmuff\\AppData\\Local\\Temp\\ipykernel_42292\\988167329.py:50: SettingWithCopyWarning: \n",
      "A value is trying to be set on a copy of a slice from a DataFrame.\n",
      "Try using .loc[row_indexer,col_indexer] = value instead\n",
      "\n",
      "See the caveats in the documentation: https://pandas.pydata.org/pandas-docs/stable/user_guide/indexing.html#returning-a-view-versus-a-copy\n",
      "  df['date_datetime']=date\n"
     ]
    },
    {
     "name": "stdout",
     "output_type": "stream",
     "text": [
      "nyt list from api\n",
      "429\n",
      "{'Date': 'Thu, 26 Jun 2025 21:38:25 GMT', 'Content-Type': 'application/json', 'Content-Length': '187', 'Connection': 'keep-alive', 'Access-Control-Allow-Headers': 'Accept, Content-Type, Origin, X-Forwarded-For, X-Prototype-Version, X-Requested-With', 'Access-Control-Allow-Methods': 'GET, OPTIONS', 'Access-Control-Allow-Origin': '*', 'Access-Control-Expose-Headers': 'Content-Length, X-JSON'}\n",
      "429\n",
      "{'Date': 'Thu, 26 Jun 2025 21:38:25 GMT', 'Content-Type': 'application/json', 'Content-Length': '187', 'Connection': 'keep-alive', 'Access-Control-Allow-Headers': 'Accept, Content-Type, Origin, X-Forwarded-For, X-Prototype-Version, X-Requested-With', 'Access-Control-Allow-Methods': 'GET, OPTIONS', 'Access-Control-Allow-Origin': '*', 'Access-Control-Expose-Headers': 'Content-Length, X-JSON'}\n",
      "2016-01-31\n",
      "nyt list from cache\n",
      "2015-12-27\n",
      "nyt list from cache\n",
      "2015-11-22\n",
      "nyt list from cache\n",
      "2015-10-18\n",
      "nyt list from cache\n",
      "2015-09-13\n",
      "nyt list from cache\n",
      "2015-08-09\n",
      "nyt list from cache\n",
      "2015-07-05\n",
      "nyt list from cache\n",
      "2015-05-31\n",
      "nyt list from cache\n",
      "2015-04-26\n",
      "nyt list from cache\n",
      "2015-03-22\n",
      "nyt list from api\n",
      "429\n",
      "{'Date': 'Thu, 26 Jun 2025 21:38:25 GMT', 'Content-Type': 'application/json', 'Content-Length': '187', 'Connection': 'keep-alive', 'Access-Control-Allow-Headers': 'Accept, Content-Type, Origin, X-Forwarded-For, X-Prototype-Version, X-Requested-With', 'Access-Control-Allow-Methods': 'GET, OPTIONS', 'Access-Control-Allow-Origin': '*', 'Access-Control-Expose-Headers': 'Content-Length, X-JSON'}\n",
      "429\n",
      "{'Date': 'Thu, 26 Jun 2025 21:38:25 GMT', 'Content-Type': 'application/json', 'Content-Length': '187', 'Connection': 'keep-alive', 'Access-Control-Allow-Headers': 'Accept, Content-Type, Origin, X-Forwarded-For, X-Prototype-Version, X-Requested-With', 'Access-Control-Allow-Methods': 'GET, OPTIONS', 'Access-Control-Allow-Origin': '*', 'Access-Control-Expose-Headers': 'Content-Length, X-JSON'}\n",
      "2015-02-15\n",
      "nyt list from cache\n",
      "2015-01-11\n",
      "nyt list from cache\n",
      "2014-12-07\n",
      "nyt list from cache\n",
      "2014-11-02\n",
      "nyt list from api\n",
      "429\n",
      "{'Date': 'Thu, 26 Jun 2025 21:38:25 GMT', 'Content-Type': 'application/json', 'Content-Length': '187', 'Connection': 'keep-alive', 'Access-Control-Allow-Headers': 'Accept, Content-Type, Origin, X-Forwarded-For, X-Prototype-Version, X-Requested-With', 'Access-Control-Allow-Methods': 'GET, OPTIONS', 'Access-Control-Allow-Origin': '*', 'Access-Control-Expose-Headers': 'Content-Length, X-JSON'}\n",
      "429\n",
      "{'Date': 'Thu, 26 Jun 2025 21:38:25 GMT', 'Content-Type': 'application/json', 'Content-Length': '187', 'Connection': 'keep-alive', 'Access-Control-Allow-Headers': 'Accept, Content-Type, Origin, X-Forwarded-For, X-Prototype-Version, X-Requested-With', 'Access-Control-Allow-Methods': 'GET, OPTIONS', 'Access-Control-Allow-Origin': '*', 'Access-Control-Expose-Headers': 'Content-Length, X-JSON'}\n",
      "2014-09-28\n",
      "nyt list from api\n",
      "429\n",
      "{'Date': 'Thu, 26 Jun 2025 21:38:26 GMT', 'Content-Type': 'application/json', 'Content-Length': '187', 'Connection': 'keep-alive', 'Access-Control-Allow-Headers': 'Accept, Content-Type, Origin, X-Forwarded-For, X-Prototype-Version, X-Requested-With', 'Access-Control-Allow-Methods': 'GET, OPTIONS', 'Access-Control-Allow-Origin': '*', 'Access-Control-Expose-Headers': 'Content-Length, X-JSON'}\n",
      "429\n",
      "{'Date': 'Thu, 26 Jun 2025 21:38:26 GMT', 'Content-Type': 'application/json', 'Content-Length': '187', 'Connection': 'keep-alive', 'Access-Control-Allow-Headers': 'Accept, Content-Type, Origin, X-Forwarded-For, X-Prototype-Version, X-Requested-With', 'Access-Control-Allow-Methods': 'GET, OPTIONS', 'Access-Control-Allow-Origin': '*', 'Access-Control-Expose-Headers': 'Content-Length, X-JSON'}\n",
      "2014-08-24\n",
      "nyt list from api\n",
      "429\n",
      "{'Date': 'Thu, 26 Jun 2025 21:38:26 GMT', 'Content-Type': 'application/json', 'Content-Length': '187', 'Connection': 'keep-alive', 'Access-Control-Allow-Headers': 'Accept, Content-Type, Origin, X-Forwarded-For, X-Prototype-Version, X-Requested-With', 'Access-Control-Allow-Methods': 'GET, OPTIONS', 'Access-Control-Allow-Origin': '*', 'Access-Control-Expose-Headers': 'Content-Length, X-JSON'}\n",
      "429\n",
      "{'Date': 'Thu, 26 Jun 2025 21:38:26 GMT', 'Content-Type': 'application/json', 'Content-Length': '187', 'Connection': 'keep-alive', 'Access-Control-Allow-Headers': 'Accept, Content-Type, Origin, X-Forwarded-For, X-Prototype-Version, X-Requested-With', 'Access-Control-Allow-Methods': 'GET, OPTIONS', 'Access-Control-Allow-Origin': '*', 'Access-Control-Expose-Headers': 'Content-Length, X-JSON'}\n",
      "2014-07-20\n",
      "nyt list from api\n",
      "429\n",
      "{'Date': 'Thu, 26 Jun 2025 21:38:26 GMT', 'Content-Type': 'application/json', 'Content-Length': '187', 'Connection': 'keep-alive', 'Access-Control-Allow-Headers': 'Accept, Content-Type, Origin, X-Forwarded-For, X-Prototype-Version, X-Requested-With', 'Access-Control-Allow-Methods': 'GET, OPTIONS', 'Access-Control-Allow-Origin': '*', 'Access-Control-Expose-Headers': 'Content-Length, X-JSON'}\n",
      "429\n",
      "{'Date': 'Thu, 26 Jun 2025 21:38:26 GMT', 'Content-Type': 'application/json', 'Content-Length': '187', 'Connection': 'keep-alive', 'Access-Control-Allow-Headers': 'Accept, Content-Type, Origin, X-Forwarded-For, X-Prototype-Version, X-Requested-With', 'Access-Control-Allow-Methods': 'GET, OPTIONS', 'Access-Control-Allow-Origin': '*', 'Access-Control-Expose-Headers': 'Content-Length, X-JSON'}\n",
      "2014-06-15\n",
      "nyt list from api\n",
      "429\n",
      "{'Date': 'Thu, 26 Jun 2025 21:38:27 GMT', 'Content-Type': 'application/json', 'Content-Length': '187', 'Connection': 'keep-alive', 'Access-Control-Allow-Headers': 'Accept, Content-Type, Origin, X-Forwarded-For, X-Prototype-Version, X-Requested-With', 'Access-Control-Allow-Methods': 'GET, OPTIONS', 'Access-Control-Allow-Origin': '*', 'Access-Control-Expose-Headers': 'Content-Length, X-JSON'}\n",
      "429\n",
      "{'Date': 'Thu, 26 Jun 2025 21:38:27 GMT', 'Content-Type': 'application/json', 'Content-Length': '187', 'Connection': 'keep-alive', 'Access-Control-Allow-Headers': 'Accept, Content-Type, Origin, X-Forwarded-For, X-Prototype-Version, X-Requested-With', 'Access-Control-Allow-Methods': 'GET, OPTIONS', 'Access-Control-Allow-Origin': '*', 'Access-Control-Expose-Headers': 'Content-Length, X-JSON'}\n",
      "2014-05-11\n",
      "nyt list from api\n",
      "429\n",
      "{'Date': 'Thu, 26 Jun 2025 21:38:27 GMT', 'Content-Type': 'application/json', 'Content-Length': '187', 'Connection': 'keep-alive', 'Access-Control-Allow-Headers': 'Accept, Content-Type, Origin, X-Forwarded-For, X-Prototype-Version, X-Requested-With', 'Access-Control-Allow-Methods': 'GET, OPTIONS', 'Access-Control-Allow-Origin': '*', 'Access-Control-Expose-Headers': 'Content-Length, X-JSON'}\n",
      "429\n",
      "{'Date': 'Thu, 26 Jun 2025 21:38:27 GMT', 'Content-Type': 'application/json', 'Content-Length': '187', 'Connection': 'keep-alive', 'Access-Control-Allow-Headers': 'Accept, Content-Type, Origin, X-Forwarded-For, X-Prototype-Version, X-Requested-With', 'Access-Control-Allow-Methods': 'GET, OPTIONS', 'Access-Control-Allow-Origin': '*', 'Access-Control-Expose-Headers': 'Content-Length, X-JSON'}\n",
      "2014-04-06\n",
      "nyt list from api\n",
      "429\n",
      "{'Date': 'Thu, 26 Jun 2025 21:38:27 GMT', 'Content-Type': 'application/json', 'Content-Length': '187', 'Connection': 'keep-alive', 'Access-Control-Allow-Headers': 'Accept, Content-Type, Origin, X-Forwarded-For, X-Prototype-Version, X-Requested-With', 'Access-Control-Allow-Methods': 'GET, OPTIONS', 'Access-Control-Allow-Origin': '*', 'Access-Control-Expose-Headers': 'Content-Length, X-JSON'}\n",
      "429\n",
      "{'Date': 'Thu, 26 Jun 2025 21:38:27 GMT', 'Content-Type': 'application/json', 'Content-Length': '187', 'Connection': 'keep-alive', 'Access-Control-Allow-Headers': 'Accept, Content-Type, Origin, X-Forwarded-For, X-Prototype-Version, X-Requested-With', 'Access-Control-Allow-Methods': 'GET, OPTIONS', 'Access-Control-Allow-Origin': '*', 'Access-Control-Expose-Headers': 'Content-Length, X-JSON'}\n",
      "2014-03-02\n",
      "nyt list from api\n",
      "429\n",
      "{'Date': 'Thu, 26 Jun 2025 21:38:28 GMT', 'Content-Type': 'application/json', 'Content-Length': '187', 'Connection': 'keep-alive', 'Access-Control-Allow-Headers': 'Accept, Content-Type, Origin, X-Forwarded-For, X-Prototype-Version, X-Requested-With', 'Access-Control-Allow-Methods': 'GET, OPTIONS', 'Access-Control-Allow-Origin': '*', 'Access-Control-Expose-Headers': 'Content-Length, X-JSON'}\n",
      "429\n",
      "{'Date': 'Thu, 26 Jun 2025 21:38:28 GMT', 'Content-Type': 'application/json', 'Content-Length': '187', 'Connection': 'keep-alive', 'Access-Control-Allow-Headers': 'Accept, Content-Type, Origin, X-Forwarded-For, X-Prototype-Version, X-Requested-With', 'Access-Control-Allow-Methods': 'GET, OPTIONS', 'Access-Control-Allow-Origin': '*', 'Access-Control-Expose-Headers': 'Content-Length, X-JSON'}\n",
      "2014-01-26\n",
      "nyt list from api\n",
      "429\n",
      "{'Date': 'Thu, 26 Jun 2025 21:38:28 GMT', 'Content-Type': 'application/json', 'Content-Length': '187', 'Connection': 'keep-alive', 'Access-Control-Allow-Headers': 'Accept, Content-Type, Origin, X-Forwarded-For, X-Prototype-Version, X-Requested-With', 'Access-Control-Allow-Methods': 'GET, OPTIONS', 'Access-Control-Allow-Origin': '*', 'Access-Control-Expose-Headers': 'Content-Length, X-JSON'}\n",
      "429\n",
      "{'Date': 'Thu, 26 Jun 2025 21:38:28 GMT', 'Content-Type': 'application/json', 'Content-Length': '187', 'Connection': 'keep-alive', 'Access-Control-Allow-Headers': 'Accept, Content-Type, Origin, X-Forwarded-For, X-Prototype-Version, X-Requested-With', 'Access-Control-Allow-Methods': 'GET, OPTIONS', 'Access-Control-Allow-Origin': '*', 'Access-Control-Expose-Headers': 'Content-Length, X-JSON'}\n"
     ]
    }
   ],
   "source": [
    "# Get NYT\n",
    "\n",
    "# This now returns an error, as the interval now runs longer than there is data to call. You might figure out a way to bypass this with except while still telling you what the error is.\n",
    "\n",
    "dfs = []\n",
    "\n",
    "weeks = 120\n",
    "time_interval = 30\n",
    "\n",
    "# start_date = '03/28/2025'\n",
    "# start_date = datetime.strptime(start_date, '%m%d,%y')\n",
    "\n",
    "# pub_date = start_date\n",
    "\n",
    "for week in range(1,weeks+1):\n",
    "    print(pub_date)\n",
    "     # First, check cache\n",
    "    if (df_cached[df_cached['published_date']==pub_date].shape[0] > 1):\n",
    "            df = df_cached[df_cached['published_date']==pub_date]\n",
    "            print('nyt list from cache')\n",
    "            \n",
    "    \n",
    "    # If not in cache, call Google Books API\n",
    "    else:\n",
    "        try:\n",
    "            response = requests.get(f'https://api.nytimes.com/svc/books/v3/lists/overview.json?api-key={nyt_key}&published-date={pub_date}')\n",
    "            print('nyt list from api')\n",
    "\n",
    "            if(response.status_code != 200):\n",
    "                print(response.status_code)\n",
    "                print(response.headers)\n",
    "            data = response.json()['results']\n",
    "\n",
    "            nf_combined=data['lists'][1]['books']\n",
    "\n",
    "            df = pd.DataFrame(nf_combined)\n",
    "\n",
    "\n",
    "            # Add categories by calling Google Books API\n",
    "            df['category'] = df['primary_isbn13'].apply(get_category)\n",
    "            df['published_date'] = data['published_date']\n",
    "\n",
    "            # NYT API call limit of 5 per minute, 400 per day.\n",
    "            time.sleep(12)\n",
    "        except:\n",
    "            if(response.status_code != 200):\n",
    "                print(response.status_code)\n",
    "                print(response.headers)\n",
    "    \n",
    "    df['date_datetime']=date\n",
    "    dfs.append(df)\n",
    "\n",
    "\n",
    "    date = (date - timedelta(time_interval))\n",
    "    while (date.weekday() != 6):\n",
    "        date = date - timedelta(1)\n",
    "    pub_date = date.strftime(\"%Y-%m-%d\")\n",
    "\n"
   ]
  },
  {
   "cell_type": "code",
   "execution_count": 8,
   "id": "4b157a3d",
   "metadata": {},
   "outputs": [
    {
     "data": {
      "application/vnd.microsoft.datawrangler.viewer.v0+json": {
       "columns": [
        {
         "name": "index",
         "rawType": "int64",
         "type": "integer"
        },
        {
         "name": "category",
         "rawType": "object",
         "type": "string"
        }
       ],
       "ref": "92e7cf2a-e470-4ed3-b503-6100d8c5014f",
       "rows": [
        [
         "3040",
         "business & economics"
        ],
        [
         "3041",
         "political science"
        ],
        [
         "3042",
         "biography & autobiography"
        ],
        [
         "3043",
         "pets"
        ],
        [
         "3044",
         "history"
        ],
        [
         "3045",
         "biography & autobiography"
        ],
        [
         "3046",
         "psychology"
        ],
        [
         "3047",
         "biography & autobiography"
        ],
        [
         "3048",
         "medical"
        ],
        [
         "3049",
         "biography & autobiography"
        ],
        [
         "3050",
         "biography & autobiography"
        ],
        [
         "3051",
         "business & economics"
        ],
        [
         "3052",
         "art"
        ],
        [
         "3053",
         "history"
        ],
        [
         "3054",
         "biography & autobiography"
        ],
        [
         "3055",
         "history"
        ],
        [
         "3056",
         "biography & autobiography"
        ],
        [
         "3057",
         "biography & autobiography"
        ],
        [
         "3058",
         "biography & autobiography"
        ],
        [
         "3059",
         "business & economics"
        ],
        [
         "3060",
         "psychology"
        ],
        [
         "3061",
         "religion"
        ],
        [
         "3062",
         "biography & autobiography"
        ],
        [
         "3063",
         "medical"
        ],
        [
         "3064",
         "political science"
        ],
        [
         "3065",
         "history"
        ],
        [
         "3066",
         "social science"
        ],
        [
         "3067",
         "biography & autobiography"
        ],
        [
         "3068",
         "biography & autobiography"
        ],
        [
         "3069",
         "health & fitness"
        ],
        [
         "30",
         "social science"
        ],
        [
         "31",
         "biography & autobiography"
        ],
        [
         "32",
         "business & economics"
        ],
        [
         "33",
         "psychology"
        ],
        [
         "34",
         "biography & autobiography"
        ],
        [
         "35",
         "medical"
        ],
        [
         "36",
         "political science"
        ],
        [
         "37",
         "political science"
        ],
        [
         "38",
         "biography & autobiography"
        ],
        [
         "39",
         "true crime"
        ],
        [
         "40",
         "communicable diseases"
        ],
        [
         "41",
         "political science"
        ],
        [
         "42",
         "political science"
        ],
        [
         "43",
         "biography & autobiography"
        ],
        [
         "44",
         "nature"
        ],
        [
         "3070",
         "business & economics"
        ],
        [
         "3071",
         "political science"
        ],
        [
         "3072",
         "political science"
        ],
        [
         "3073",
         "biography & autobiography"
        ],
        [
         "3074",
         "medical"
        ]
       ],
       "shape": {
        "columns": 1,
        "rows": 1681
       }
      },
      "text/plain": [
       "3040         business & economics\n",
       "3041            political science\n",
       "3042    biography & autobiography\n",
       "3043                         pets\n",
       "3044                      history\n",
       "                  ...            \n",
       "3898                    education\n",
       "3899    biography & autobiography\n",
       "3900    biography & autobiography\n",
       "3901    biography & autobiography\n",
       "3902            political science\n",
       "Name: category, Length: 1681, dtype: object"
      ]
     },
     "execution_count": 8,
     "metadata": {},
     "output_type": "execute_result"
    }
   ],
   "source": [
    "df = pd.concat(dfs)\n",
    "df.dropna(subset='category', inplace=True)\n",
    "df['category']=df['category'].str.lower()\n",
    "\n",
    "df['category']\n",
    "\n",
    "# df.to_csv('year_sample.csv', index=False)"
   ]
  },
  {
   "cell_type": "code",
   "execution_count": 9,
   "id": "7bf2a82f",
   "metadata": {},
   "outputs": [
    {
     "data": {
      "application/vnd.microsoft.datawrangler.viewer.v0+json": {
       "columns": [
        {
         "name": "index",
         "rawType": "int64",
         "type": "integer"
        },
        {
         "name": "age_group",
         "rawType": "object",
         "type": "unknown"
        },
        {
         "name": "amazon_product_url",
         "rawType": "object",
         "type": "string"
        },
        {
         "name": "article_chapter_link",
         "rawType": "object",
         "type": "unknown"
        },
        {
         "name": "asterisk",
         "rawType": "int64",
         "type": "integer"
        },
        {
         "name": "author",
         "rawType": "object",
         "type": "string"
        },
        {
         "name": "book_image",
         "rawType": "object",
         "type": "string"
        },
        {
         "name": "book_image_height",
         "rawType": "int64",
         "type": "integer"
        },
        {
         "name": "book_image_width",
         "rawType": "int64",
         "type": "integer"
        },
        {
         "name": "book_review_link",
         "rawType": "object",
         "type": "unknown"
        },
        {
         "name": "book_uri",
         "rawType": "object",
         "type": "string"
        },
        {
         "name": "contributor",
         "rawType": "object",
         "type": "string"
        },
        {
         "name": "contributor_note",
         "rawType": "object",
         "type": "unknown"
        },
        {
         "name": "created_date",
         "rawType": "object",
         "type": "string"
        },
        {
         "name": "dagger",
         "rawType": "int64",
         "type": "integer"
        },
        {
         "name": "description",
         "rawType": "object",
         "type": "unknown"
        },
        {
         "name": "first_chapter_link",
         "rawType": "object",
         "type": "unknown"
        },
        {
         "name": "price",
         "rawType": "object",
         "type": "unknown"
        },
        {
         "name": "primary_isbn10",
         "rawType": "object",
         "type": "unknown"
        },
        {
         "name": "primary_isbn13",
         "rawType": "object",
         "type": "string"
        },
        {
         "name": "publisher",
         "rawType": "object",
         "type": "string"
        },
        {
         "name": "rank",
         "rawType": "int64",
         "type": "integer"
        },
        {
         "name": "rank_last_week",
         "rawType": "int64",
         "type": "integer"
        },
        {
         "name": "sunday_review_link",
         "rawType": "object",
         "type": "unknown"
        },
        {
         "name": "title",
         "rawType": "object",
         "type": "string"
        },
        {
         "name": "updated_date",
         "rawType": "object",
         "type": "string"
        },
        {
         "name": "weeks_on_list",
         "rawType": "int64",
         "type": "integer"
        },
        {
         "name": "category",
         "rawType": "object",
         "type": "string"
        },
        {
         "name": "published_date",
         "rawType": "object",
         "type": "string"
        },
        {
         "name": "Unnamed: 0",
         "rawType": "float64",
         "type": "float"
        },
        {
         "name": "date_datetime",
         "rawType": "datetime64[us]",
         "type": "unknown"
        },
        {
         "name": "isbns",
         "rawType": "object",
         "type": "unknown"
        },
        {
         "name": "buy_links",
         "rawType": "object",
         "type": "unknown"
        }
       ],
       "ref": "da1382a5-6a3d-41a1-8121-2d3be257d375",
       "rows": [
        [
         "3898",
         null,
         "http://www.amazon.com/One-Nation-Under-Taught-Engineering/dp/0825307449?tag=thenewyorktim-20",
         null,
         "0",
         "Vince M. Bertram",
         "https://static01.nyt.com/bestsellers/images/9780825307447.jpg",
         "495",
         "323",
         null,
         "nyt://book/744a666c-c8af-5fc6-a95e-ba6fd27356cf",
         "by Vince M. Bertram",
         null,
         "2025-05-14T21:43:26.346Z",
         "0",
         null,
         null,
         "0.0",
         null,
         "9780825307447",
         "Beaufort Books",
         "15",
         "0",
         null,
         "ONE NATION UNDER TAUGHT",
         "2025-05-14T21:43:26.346Z",
         "1",
         "education",
         "2014-12-07",
         null,
         "2014-01-26 17:34:46.978746",
         null,
         null
        ],
        [
         "3899",
         null,
         "http://www.amazon.com/The-Innovators-Hackers-Geniuses-Revolution-ebook/dp/B00JGAS65Q?tag=thenewyorktim-20",
         null,
         "0",
         "Walter Isaacson",
         "https://static01.nyt.com/bestsellers/images/9781476708690.jpg",
         "193",
         "128",
         "https://www.nytimes.com/2014/10/09/arts/walter-isaacsons-the-innovators-studies-computer-wizards.html",
         "nyt://book/74ec3a0a-e7dd-51ea-a372-e0f99f575220",
         "by Walter Isaacson",
         null,
         "2025-05-14T21:54:22.175Z",
         "0",
         null,
         null,
         "0.0",
         null,
         "9781476708690",
         "Simon & Schuster",
         "16",
         "0",
         null,
         "THE INNOVATORS",
         "2025-05-14T21:54:22.175Z",
         "0",
         "biography & autobiography",
         "2014-12-07",
         null,
         "2014-01-26 17:34:46.978746",
         null,
         null
        ],
        [
         "3900",
         null,
         "http://www.amazon.com/So-Anyway-John-Cleese-ebook/dp/B00KAFVNY2?tag=thenewyorktim-20",
         null,
         "0",
         "John Cleese",
         "https://static01.nyt.com/bestsellers/images/9780385348249.jpg",
         "192",
         "128",
         null,
         "nyt://book/2ac79002-dd66-5355-aa33-9fa687c751f5",
         "by John Cleese",
         null,
         "2025-05-14T21:54:30.3Z",
         "0",
         "A memoir by the comedian, actor and writer, a former member of the Monty Python troupe.",
         null,
         "0.0",
         null,
         "9780385348249",
         "Crown Archetype",
         "18",
         "0",
         null,
         "SO ANYWAY . . .",
         "2025-05-14T21:54:30.3Z",
         "0",
         "biography & autobiography",
         "2014-12-07",
         null,
         "2014-01-26 17:34:46.978746",
         null,
         null
        ],
        [
         "3901",
         null,
         "http://www.amazon.com/As-You-Wish-Inconceivable-Princess/dp/1476764026?tag=thenewyorktim-20",
         null,
         "0",
         "Cary Elwes with Joe Layden",
         "https://static01.nyt.com/bestsellers/images/9781476764023.jpg",
         "194",
         "128",
         null,
         "nyt://book/d6048d24-b0fe-5c00-867c-54466d1a8521",
         "by Cary Elwes with Joe Layden",
         null,
         "2025-05-14T21:54:32.7Z",
         "0",
         "The making of the movie “The Princess Bride,” 25 years ago.",
         null,
         "0.0",
         null,
         "9781476764023",
         "Touchstone/Simon & Schuster",
         "19",
         "0",
         null,
         "AS YOU WISH",
         "2025-05-14T21:54:32.7Z",
         "0",
         "biography & autobiography",
         "2014-12-07",
         null,
         "2014-01-26 17:34:46.978746",
         null,
         null
        ],
        [
         "3902",
         null,
         "http://www.amazon.com/Stonewalled-Obstruction-Intimidation-Harassment-Washington/dp/0062322842?tag=thenewyorktim-20",
         null,
         "0",
         "Sharyl Attkisson",
         "https://static01.nyt.com/bestsellers/images/9780062322845.jpg",
         "183",
         "128",
         null,
         "nyt://book/86318b39-c538-519c-9ff9-4678f380d848",
         "by Sharyl Attkisson",
         null,
         "2025-05-14T21:43:22.166Z",
         "0",
         "An investigative reporter complains of harassment and intimidation by the Obama administration.",
         null,
         "0.0",
         null,
         "9780062322845",
         "Harper",
         "20",
         "0",
         null,
         "STONEWALLED",
         "2025-05-14T21:43:22.166Z",
         "0",
         "political science",
         "2014-12-07",
         null,
         "2014-01-26 17:34:46.978746",
         null,
         null
        ]
       ],
       "shape": {
        "columns": 32,
        "rows": 5
       }
      },
      "text/html": [
       "<div>\n",
       "<style scoped>\n",
       "    .dataframe tbody tr th:only-of-type {\n",
       "        vertical-align: middle;\n",
       "    }\n",
       "\n",
       "    .dataframe tbody tr th {\n",
       "        vertical-align: top;\n",
       "    }\n",
       "\n",
       "    .dataframe thead th {\n",
       "        text-align: right;\n",
       "    }\n",
       "</style>\n",
       "<table border=\"1\" class=\"dataframe\">\n",
       "  <thead>\n",
       "    <tr style=\"text-align: right;\">\n",
       "      <th></th>\n",
       "      <th>age_group</th>\n",
       "      <th>amazon_product_url</th>\n",
       "      <th>article_chapter_link</th>\n",
       "      <th>asterisk</th>\n",
       "      <th>author</th>\n",
       "      <th>book_image</th>\n",
       "      <th>book_image_height</th>\n",
       "      <th>book_image_width</th>\n",
       "      <th>book_review_link</th>\n",
       "      <th>book_uri</th>\n",
       "      <th>...</th>\n",
       "      <th>sunday_review_link</th>\n",
       "      <th>title</th>\n",
       "      <th>updated_date</th>\n",
       "      <th>weeks_on_list</th>\n",
       "      <th>category</th>\n",
       "      <th>published_date</th>\n",
       "      <th>Unnamed: 0</th>\n",
       "      <th>date_datetime</th>\n",
       "      <th>isbns</th>\n",
       "      <th>buy_links</th>\n",
       "    </tr>\n",
       "  </thead>\n",
       "  <tbody>\n",
       "    <tr>\n",
       "      <th>3898</th>\n",
       "      <td>NaN</td>\n",
       "      <td>http://www.amazon.com/One-Nation-Under-Taught-...</td>\n",
       "      <td>NaN</td>\n",
       "      <td>0</td>\n",
       "      <td>Vince M. Bertram</td>\n",
       "      <td>https://static01.nyt.com/bestsellers/images/97...</td>\n",
       "      <td>495</td>\n",
       "      <td>323</td>\n",
       "      <td>NaN</td>\n",
       "      <td>nyt://book/744a666c-c8af-5fc6-a95e-ba6fd27356cf</td>\n",
       "      <td>...</td>\n",
       "      <td>NaN</td>\n",
       "      <td>ONE NATION UNDER TAUGHT</td>\n",
       "      <td>2025-05-14T21:43:26.346Z</td>\n",
       "      <td>1</td>\n",
       "      <td>education</td>\n",
       "      <td>2014-12-07</td>\n",
       "      <td>NaN</td>\n",
       "      <td>2014-01-26 17:34:46.978746</td>\n",
       "      <td>NaN</td>\n",
       "      <td>NaN</td>\n",
       "    </tr>\n",
       "    <tr>\n",
       "      <th>3899</th>\n",
       "      <td>NaN</td>\n",
       "      <td>http://www.amazon.com/The-Innovators-Hackers-G...</td>\n",
       "      <td>NaN</td>\n",
       "      <td>0</td>\n",
       "      <td>Walter Isaacson</td>\n",
       "      <td>https://static01.nyt.com/bestsellers/images/97...</td>\n",
       "      <td>193</td>\n",
       "      <td>128</td>\n",
       "      <td>https://www.nytimes.com/2014/10/09/arts/walter...</td>\n",
       "      <td>nyt://book/74ec3a0a-e7dd-51ea-a372-e0f99f575220</td>\n",
       "      <td>...</td>\n",
       "      <td>NaN</td>\n",
       "      <td>THE INNOVATORS</td>\n",
       "      <td>2025-05-14T21:54:22.175Z</td>\n",
       "      <td>0</td>\n",
       "      <td>biography &amp; autobiography</td>\n",
       "      <td>2014-12-07</td>\n",
       "      <td>NaN</td>\n",
       "      <td>2014-01-26 17:34:46.978746</td>\n",
       "      <td>NaN</td>\n",
       "      <td>NaN</td>\n",
       "    </tr>\n",
       "    <tr>\n",
       "      <th>3900</th>\n",
       "      <td>NaN</td>\n",
       "      <td>http://www.amazon.com/So-Anyway-John-Cleese-eb...</td>\n",
       "      <td>NaN</td>\n",
       "      <td>0</td>\n",
       "      <td>John Cleese</td>\n",
       "      <td>https://static01.nyt.com/bestsellers/images/97...</td>\n",
       "      <td>192</td>\n",
       "      <td>128</td>\n",
       "      <td>NaN</td>\n",
       "      <td>nyt://book/2ac79002-dd66-5355-aa33-9fa687c751f5</td>\n",
       "      <td>...</td>\n",
       "      <td>NaN</td>\n",
       "      <td>SO ANYWAY . . .</td>\n",
       "      <td>2025-05-14T21:54:30.3Z</td>\n",
       "      <td>0</td>\n",
       "      <td>biography &amp; autobiography</td>\n",
       "      <td>2014-12-07</td>\n",
       "      <td>NaN</td>\n",
       "      <td>2014-01-26 17:34:46.978746</td>\n",
       "      <td>NaN</td>\n",
       "      <td>NaN</td>\n",
       "    </tr>\n",
       "    <tr>\n",
       "      <th>3901</th>\n",
       "      <td>NaN</td>\n",
       "      <td>http://www.amazon.com/As-You-Wish-Inconceivabl...</td>\n",
       "      <td>NaN</td>\n",
       "      <td>0</td>\n",
       "      <td>Cary Elwes with Joe Layden</td>\n",
       "      <td>https://static01.nyt.com/bestsellers/images/97...</td>\n",
       "      <td>194</td>\n",
       "      <td>128</td>\n",
       "      <td>NaN</td>\n",
       "      <td>nyt://book/d6048d24-b0fe-5c00-867c-54466d1a8521</td>\n",
       "      <td>...</td>\n",
       "      <td>NaN</td>\n",
       "      <td>AS YOU WISH</td>\n",
       "      <td>2025-05-14T21:54:32.7Z</td>\n",
       "      <td>0</td>\n",
       "      <td>biography &amp; autobiography</td>\n",
       "      <td>2014-12-07</td>\n",
       "      <td>NaN</td>\n",
       "      <td>2014-01-26 17:34:46.978746</td>\n",
       "      <td>NaN</td>\n",
       "      <td>NaN</td>\n",
       "    </tr>\n",
       "    <tr>\n",
       "      <th>3902</th>\n",
       "      <td>NaN</td>\n",
       "      <td>http://www.amazon.com/Stonewalled-Obstruction-...</td>\n",
       "      <td>NaN</td>\n",
       "      <td>0</td>\n",
       "      <td>Sharyl Attkisson</td>\n",
       "      <td>https://static01.nyt.com/bestsellers/images/97...</td>\n",
       "      <td>183</td>\n",
       "      <td>128</td>\n",
       "      <td>NaN</td>\n",
       "      <td>nyt://book/86318b39-c538-519c-9ff9-4678f380d848</td>\n",
       "      <td>...</td>\n",
       "      <td>NaN</td>\n",
       "      <td>STONEWALLED</td>\n",
       "      <td>2025-05-14T21:43:22.166Z</td>\n",
       "      <td>0</td>\n",
       "      <td>political science</td>\n",
       "      <td>2014-12-07</td>\n",
       "      <td>NaN</td>\n",
       "      <td>2014-01-26 17:34:46.978746</td>\n",
       "      <td>NaN</td>\n",
       "      <td>NaN</td>\n",
       "    </tr>\n",
       "  </tbody>\n",
       "</table>\n",
       "<p>5 rows × 32 columns</p>\n",
       "</div>"
      ],
      "text/plain": [
       "     age_group                                 amazon_product_url  \\\n",
       "3898       NaN  http://www.amazon.com/One-Nation-Under-Taught-...   \n",
       "3899       NaN  http://www.amazon.com/The-Innovators-Hackers-G...   \n",
       "3900       NaN  http://www.amazon.com/So-Anyway-John-Cleese-eb...   \n",
       "3901       NaN  http://www.amazon.com/As-You-Wish-Inconceivabl...   \n",
       "3902       NaN  http://www.amazon.com/Stonewalled-Obstruction-...   \n",
       "\n",
       "     article_chapter_link  asterisk                      author  \\\n",
       "3898                  NaN         0            Vince M. Bertram   \n",
       "3899                  NaN         0             Walter Isaacson   \n",
       "3900                  NaN         0                 John Cleese   \n",
       "3901                  NaN         0  Cary Elwes with Joe Layden   \n",
       "3902                  NaN         0            Sharyl Attkisson   \n",
       "\n",
       "                                             book_image  book_image_height  \\\n",
       "3898  https://static01.nyt.com/bestsellers/images/97...                495   \n",
       "3899  https://static01.nyt.com/bestsellers/images/97...                193   \n",
       "3900  https://static01.nyt.com/bestsellers/images/97...                192   \n",
       "3901  https://static01.nyt.com/bestsellers/images/97...                194   \n",
       "3902  https://static01.nyt.com/bestsellers/images/97...                183   \n",
       "\n",
       "      book_image_width                                   book_review_link  \\\n",
       "3898               323                                                NaN   \n",
       "3899               128  https://www.nytimes.com/2014/10/09/arts/walter...   \n",
       "3900               128                                                NaN   \n",
       "3901               128                                                NaN   \n",
       "3902               128                                                NaN   \n",
       "\n",
       "                                             book_uri  ... sunday_review_link  \\\n",
       "3898  nyt://book/744a666c-c8af-5fc6-a95e-ba6fd27356cf  ...                NaN   \n",
       "3899  nyt://book/74ec3a0a-e7dd-51ea-a372-e0f99f575220  ...                NaN   \n",
       "3900  nyt://book/2ac79002-dd66-5355-aa33-9fa687c751f5  ...                NaN   \n",
       "3901  nyt://book/d6048d24-b0fe-5c00-867c-54466d1a8521  ...                NaN   \n",
       "3902  nyt://book/86318b39-c538-519c-9ff9-4678f380d848  ...                NaN   \n",
       "\n",
       "                        title              updated_date  weeks_on_list  \\\n",
       "3898  ONE NATION UNDER TAUGHT  2025-05-14T21:43:26.346Z              1   \n",
       "3899           THE INNOVATORS  2025-05-14T21:54:22.175Z              0   \n",
       "3900          SO ANYWAY . . .    2025-05-14T21:54:30.3Z              0   \n",
       "3901              AS YOU WISH    2025-05-14T21:54:32.7Z              0   \n",
       "3902              STONEWALLED  2025-05-14T21:43:22.166Z              0   \n",
       "\n",
       "                       category published_date Unnamed: 0  \\\n",
       "3898                  education     2014-12-07        NaN   \n",
       "3899  biography & autobiography     2014-12-07        NaN   \n",
       "3900  biography & autobiography     2014-12-07        NaN   \n",
       "3901  biography & autobiography     2014-12-07        NaN   \n",
       "3902          political science     2014-12-07        NaN   \n",
       "\n",
       "                  date_datetime isbns buy_links  \n",
       "3898 2014-01-26 17:34:46.978746   NaN       NaN  \n",
       "3899 2014-01-26 17:34:46.978746   NaN       NaN  \n",
       "3900 2014-01-26 17:34:46.978746   NaN       NaN  \n",
       "3901 2014-01-26 17:34:46.978746   NaN       NaN  \n",
       "3902 2014-01-26 17:34:46.978746   NaN       NaN  \n",
       "\n",
       "[5 rows x 32 columns]"
      ]
     },
     "execution_count": 9,
     "metadata": {},
     "output_type": "execute_result"
    }
   ],
   "source": [
    "df.tail()"
   ]
  },
  {
   "cell_type": "code",
   "execution_count": 10,
   "id": "fd61b716",
   "metadata": {},
   "outputs": [],
   "source": [
    "# def cut_strings(x):\n",
    "#     if (type(x) == str):\n",
    "#         new_string = x.replace(\"['\",'')\n",
    "#         new_string = new_string.replace(\"']\",'')\n",
    "#         return new_string\n",
    "\n",
    "# df['category'] = df['category'].apply(cut_strings)\n",
    "# df_cached['category'] = df_cached['category'].apply(cut_strings)"
   ]
  },
  {
   "cell_type": "code",
   "execution_count": 11,
   "id": "baa40151",
   "metadata": {},
   "outputs": [],
   "source": [
    "# Combine current df with cached\n",
    "df_cached = pd.concat([df_cached,df])\n",
    "\n",
    "try:\n",
    "    df_cached.drop(axis='columns', columns=['buy_links','isbns'], inplace=True)\n",
    "except:\n",
    "    pass\n",
    "\n",
    "\n",
    "df_cached.drop_duplicates(subset=['published_date','primary_isbn13'], inplace=True)\n",
    "df_cached.to_csv('df_cached.csv', index=False)\n"
   ]
  },
  {
   "cell_type": "code",
   "execution_count": 12,
   "id": "d6efa0a4",
   "metadata": {},
   "outputs": [],
   "source": [
    "best_books = df.groupby(['title','category']).size().reset_index(name='count').sort_values(by='count',ascending=False).head(10)\n",
    "\n"
   ]
  },
  {
   "cell_type": "code",
   "execution_count": 13,
   "id": "46240dc6",
   "metadata": {},
   "outputs": [
    {
     "name": "stdout",
     "output_type": "stream",
     "text": [
      "A collection of essays from the late scientist’s personal archive that address 10 imponderables.\n"
     ]
    }
   ],
   "source": [
    "def find_description(title):\n",
    "    return df[df['title']==title]['description'].iloc[0]\n",
    "\n",
    "test = find_description('BRIEF ANSWERS TO THE BIG QUESTIONS')\n",
    "print(test)"
   ]
  },
  {
   "cell_type": "code",
   "execution_count": 14,
   "id": "9c950f2e",
   "metadata": {},
   "outputs": [
    {
     "data": {
      "application/vnd.microsoft.datawrangler.viewer.v0+json": {
       "columns": [
        {
         "name": "index",
         "rawType": "int64",
         "type": "integer"
        },
        {
         "name": "title",
         "rawType": "object",
         "type": "string"
        },
        {
         "name": "category",
         "rawType": "object",
         "type": "string"
        },
        {
         "name": "count",
         "rawType": "int64",
         "type": "integer"
        },
        {
         "name": "description",
         "rawType": "object",
         "type": "unknown"
        }
       ],
       "ref": "8a3be086-6fd8-4dbd-bcb6-87ba89334d45",
       "rows": [
        [
         "517",
         "THE BODY KEEPS THE SCORE",
         "medical",
         "45",
         "How trauma affects the body and mind, and innovative treatments for recovery."
        ],
        [
         "526",
         "THE BOYS IN THE BOAT",
         "sports & recreation",
         "31",
         null
        ],
        [
         "169",
         "EDUCATED",
         "biography & autobiography",
         "24",
         "The daughter of survivalists, who is kept out of school, educates herself enough to leave home for university."
        ],
        [
         "85",
         "BEING MORTAL",
         "family & relationships",
         "24",
         "The surgeon and New Yorker writer considers how doctors fail patients at the end of life and how they can do better."
        ],
        [
         "80",
         "BECOMING",
         "biography & autobiography",
         "21",
         "The former first lady describes her journey from the South Side of Chicago to the White House, and how she balanced work, family and her husband’s political ascent."
        ]
       ],
       "shape": {
        "columns": 4,
        "rows": 5
       }
      },
      "text/html": [
       "<div>\n",
       "<style scoped>\n",
       "    .dataframe tbody tr th:only-of-type {\n",
       "        vertical-align: middle;\n",
       "    }\n",
       "\n",
       "    .dataframe tbody tr th {\n",
       "        vertical-align: top;\n",
       "    }\n",
       "\n",
       "    .dataframe thead th {\n",
       "        text-align: right;\n",
       "    }\n",
       "</style>\n",
       "<table border=\"1\" class=\"dataframe\">\n",
       "  <thead>\n",
       "    <tr style=\"text-align: right;\">\n",
       "      <th></th>\n",
       "      <th>title</th>\n",
       "      <th>category</th>\n",
       "      <th>count</th>\n",
       "      <th>description</th>\n",
       "    </tr>\n",
       "  </thead>\n",
       "  <tbody>\n",
       "    <tr>\n",
       "      <th>517</th>\n",
       "      <td>THE BODY KEEPS THE SCORE</td>\n",
       "      <td>medical</td>\n",
       "      <td>45</td>\n",
       "      <td>How trauma affects the body and mind, and inno...</td>\n",
       "    </tr>\n",
       "    <tr>\n",
       "      <th>526</th>\n",
       "      <td>THE BOYS IN THE BOAT</td>\n",
       "      <td>sports &amp; recreation</td>\n",
       "      <td>31</td>\n",
       "      <td>NaN</td>\n",
       "    </tr>\n",
       "    <tr>\n",
       "      <th>169</th>\n",
       "      <td>EDUCATED</td>\n",
       "      <td>biography &amp; autobiography</td>\n",
       "      <td>24</td>\n",
       "      <td>The daughter of survivalists, who is kept out ...</td>\n",
       "    </tr>\n",
       "    <tr>\n",
       "      <th>85</th>\n",
       "      <td>BEING MORTAL</td>\n",
       "      <td>family &amp; relationships</td>\n",
       "      <td>24</td>\n",
       "      <td>The surgeon and New Yorker writer considers ho...</td>\n",
       "    </tr>\n",
       "    <tr>\n",
       "      <th>80</th>\n",
       "      <td>BECOMING</td>\n",
       "      <td>biography &amp; autobiography</td>\n",
       "      <td>21</td>\n",
       "      <td>The former first lady describes her journey fr...</td>\n",
       "    </tr>\n",
       "  </tbody>\n",
       "</table>\n",
       "</div>"
      ],
      "text/plain": [
       "                        title                   category  count  \\\n",
       "517  THE BODY KEEPS THE SCORE                    medical     45   \n",
       "526      THE BOYS IN THE BOAT        sports & recreation     31   \n",
       "169                  EDUCATED  biography & autobiography     24   \n",
       "85               BEING MORTAL     family & relationships     24   \n",
       "80                   BECOMING  biography & autobiography     21   \n",
       "\n",
       "                                           description  \n",
       "517  How trauma affects the body and mind, and inno...  \n",
       "526                                                NaN  \n",
       "169  The daughter of survivalists, who is kept out ...  \n",
       "85   The surgeon and New Yorker writer considers ho...  \n",
       "80   The former first lady describes her journey fr...  "
      ]
     },
     "execution_count": 14,
     "metadata": {},
     "output_type": "execute_result"
    }
   ],
   "source": [
    "best_books['description'] = best_books['title'].apply(find_description)\n",
    "best_books.head()"
   ]
  },
  {
   "cell_type": "code",
   "execution_count": 15,
   "id": "93c21018",
   "metadata": {},
   "outputs": [
    {
     "data": {
      "application/vnd.plotly.v1+json": {
       "config": {
        "plotlyServerURL": "https://plot.ly"
       },
       "data": [
        {
         "customdata": [
          [
           "medical",
           "How trauma affects the body and mind, and innovative treatments for recovery."
          ]
         ],
         "hovertemplate": "category=%{customdata[0]}<br>title=%{x}<br>count=%{y}<br>description=%{customdata[1]}<extra></extra>",
         "legendgroup": "medical",
         "marker": {
          "color": "#636efa",
          "pattern": {
           "shape": ""
          }
         },
         "name": "medical",
         "orientation": "v",
         "showlegend": true,
         "textposition": "auto",
         "type": "bar",
         "x": [
          "THE BODY KEEPS THE SCORE"
         ],
         "xaxis": "x",
         "y": {
          "bdata": "LQ==",
          "dtype": "i1"
         },
         "yaxis": "y"
        },
        {
         "customdata": [
          [
           "sports & recreation",
           null
          ]
         ],
         "hovertemplate": "category=%{customdata[0]}<br>title=%{x}<br>count=%{y}<br>description=%{customdata[1]}<extra></extra>",
         "legendgroup": "sports & recreation",
         "marker": {
          "color": "#EF553B",
          "pattern": {
           "shape": ""
          }
         },
         "name": "sports & recreation",
         "orientation": "v",
         "showlegend": true,
         "textposition": "auto",
         "type": "bar",
         "x": [
          "THE BOYS IN THE BOAT"
         ],
         "xaxis": "x",
         "y": {
          "bdata": "Hw==",
          "dtype": "i1"
         },
         "yaxis": "y"
        },
        {
         "customdata": [
          [
           "biography & autobiography",
           "The daughter of survivalists, who is kept out of school, educates herself enough to leave home for university."
          ],
          [
           "biography & autobiography",
           "The former first lady describes her journey from the South Side of Chicago to the White House, and how she balanced work, family and her husband’s political ascent."
          ],
          [
           "biography & autobiography",
           "A woman’s account of a life-changing 1,100-mile hike along the Pacific Crest Trail during the summer of 1995; a 2014 movie."
          ],
          [
           "biography & autobiography",
           "An Olympic runner’s story of survival as a prisoner of the Japanese in World War II; a 2014 movie."
          ],
          [
           "biography & autobiography",
           "A memoir about growing up biracial in apartheid South Africa by the former host of “The Daily Show.”"
          ],
          [
           "biography & autobiography",
           "The actress and filmmaker describes her eating disorders and difficult relationship with her mother."
          ]
         ],
         "hovertemplate": "category=%{customdata[0]}<br>title=%{x}<br>count=%{y}<br>description=%{customdata[1]}<extra></extra>",
         "legendgroup": "biography & autobiography",
         "marker": {
          "color": "#00cc96",
          "pattern": {
           "shape": ""
          }
         },
         "name": "biography & autobiography",
         "orientation": "v",
         "showlegend": true,
         "textposition": "auto",
         "type": "bar",
         "x": [
          "EDUCATED",
          "BECOMING",
          "WILD",
          "UNBROKEN",
          "BORN A CRIME",
          "I'M GLAD MY MOM DIED"
         ],
         "xaxis": "x",
         "y": {
          "bdata": "GBUSERAP",
          "dtype": "i1"
         },
         "yaxis": "y"
        },
        {
         "customdata": [
          [
           "family & relationships",
           "The surgeon and New Yorker writer considers how doctors fail patients at the end of life and how they can do better."
          ]
         ],
         "hovertemplate": "category=%{customdata[0]}<br>title=%{x}<br>count=%{y}<br>description=%{customdata[1]}<extra></extra>",
         "legendgroup": "family & relationships",
         "marker": {
          "color": "#ab63fa",
          "pattern": {
           "shape": ""
          }
         },
         "name": "family & relationships",
         "orientation": "v",
         "showlegend": true,
         "textposition": "auto",
         "type": "bar",
         "x": [
          "BEING MORTAL"
         ],
         "xaxis": "x",
         "y": {
          "bdata": "GA==",
          "dtype": "i1"
         },
         "yaxis": "y"
        },
        {
         "customdata": [
          [
           "social science",
           "The vice president, in a memoir written shortly after graduating from Yale Law School, looks at the struggles of the white working class through the story of his own childhood."
          ]
         ],
         "hovertemplate": "category=%{customdata[0]}<br>title=%{x}<br>count=%{y}<br>description=%{customdata[1]}<extra></extra>",
         "legendgroup": "social science",
         "marker": {
          "color": "#FFA15A",
          "pattern": {
           "shape": ""
          }
         },
         "name": "social science",
         "orientation": "v",
         "showlegend": true,
         "textposition": "auto",
         "type": "bar",
         "x": [
          "HILLBILLY ELEGY"
         ],
         "xaxis": "x",
         "y": {
          "bdata": "Eg==",
          "dtype": "i1"
         },
         "yaxis": "y"
        }
       ],
       "layout": {
        "barmode": "relative",
        "legend": {
         "title": {
          "text": "category"
         },
         "tracegroupgap": 0
        },
        "template": {
         "data": {
          "bar": [
           {
            "error_x": {
             "color": "#2a3f5f"
            },
            "error_y": {
             "color": "#2a3f5f"
            },
            "marker": {
             "line": {
              "color": "white",
              "width": 0.5
             },
             "pattern": {
              "fillmode": "overlay",
              "size": 10,
              "solidity": 0.2
             }
            },
            "type": "bar"
           }
          ],
          "barpolar": [
           {
            "marker": {
             "line": {
              "color": "white",
              "width": 0.5
             },
             "pattern": {
              "fillmode": "overlay",
              "size": 10,
              "solidity": 0.2
             }
            },
            "type": "barpolar"
           }
          ],
          "carpet": [
           {
            "aaxis": {
             "endlinecolor": "#2a3f5f",
             "gridcolor": "#C8D4E3",
             "linecolor": "#C8D4E3",
             "minorgridcolor": "#C8D4E3",
             "startlinecolor": "#2a3f5f"
            },
            "baxis": {
             "endlinecolor": "#2a3f5f",
             "gridcolor": "#C8D4E3",
             "linecolor": "#C8D4E3",
             "minorgridcolor": "#C8D4E3",
             "startlinecolor": "#2a3f5f"
            },
            "type": "carpet"
           }
          ],
          "choropleth": [
           {
            "colorbar": {
             "outlinewidth": 0,
             "ticks": ""
            },
            "type": "choropleth"
           }
          ],
          "contour": [
           {
            "colorbar": {
             "outlinewidth": 0,
             "ticks": ""
            },
            "colorscale": [
             [
              0,
              "#0d0887"
             ],
             [
              0.1111111111111111,
              "#46039f"
             ],
             [
              0.2222222222222222,
              "#7201a8"
             ],
             [
              0.3333333333333333,
              "#9c179e"
             ],
             [
              0.4444444444444444,
              "#bd3786"
             ],
             [
              0.5555555555555556,
              "#d8576b"
             ],
             [
              0.6666666666666666,
              "#ed7953"
             ],
             [
              0.7777777777777778,
              "#fb9f3a"
             ],
             [
              0.8888888888888888,
              "#fdca26"
             ],
             [
              1,
              "#f0f921"
             ]
            ],
            "type": "contour"
           }
          ],
          "contourcarpet": [
           {
            "colorbar": {
             "outlinewidth": 0,
             "ticks": ""
            },
            "type": "contourcarpet"
           }
          ],
          "heatmap": [
           {
            "colorbar": {
             "outlinewidth": 0,
             "ticks": ""
            },
            "colorscale": [
             [
              0,
              "#0d0887"
             ],
             [
              0.1111111111111111,
              "#46039f"
             ],
             [
              0.2222222222222222,
              "#7201a8"
             ],
             [
              0.3333333333333333,
              "#9c179e"
             ],
             [
              0.4444444444444444,
              "#bd3786"
             ],
             [
              0.5555555555555556,
              "#d8576b"
             ],
             [
              0.6666666666666666,
              "#ed7953"
             ],
             [
              0.7777777777777778,
              "#fb9f3a"
             ],
             [
              0.8888888888888888,
              "#fdca26"
             ],
             [
              1,
              "#f0f921"
             ]
            ],
            "type": "heatmap"
           }
          ],
          "histogram": [
           {
            "marker": {
             "pattern": {
              "fillmode": "overlay",
              "size": 10,
              "solidity": 0.2
             }
            },
            "type": "histogram"
           }
          ],
          "histogram2d": [
           {
            "colorbar": {
             "outlinewidth": 0,
             "ticks": ""
            },
            "colorscale": [
             [
              0,
              "#0d0887"
             ],
             [
              0.1111111111111111,
              "#46039f"
             ],
             [
              0.2222222222222222,
              "#7201a8"
             ],
             [
              0.3333333333333333,
              "#9c179e"
             ],
             [
              0.4444444444444444,
              "#bd3786"
             ],
             [
              0.5555555555555556,
              "#d8576b"
             ],
             [
              0.6666666666666666,
              "#ed7953"
             ],
             [
              0.7777777777777778,
              "#fb9f3a"
             ],
             [
              0.8888888888888888,
              "#fdca26"
             ],
             [
              1,
              "#f0f921"
             ]
            ],
            "type": "histogram2d"
           }
          ],
          "histogram2dcontour": [
           {
            "colorbar": {
             "outlinewidth": 0,
             "ticks": ""
            },
            "colorscale": [
             [
              0,
              "#0d0887"
             ],
             [
              0.1111111111111111,
              "#46039f"
             ],
             [
              0.2222222222222222,
              "#7201a8"
             ],
             [
              0.3333333333333333,
              "#9c179e"
             ],
             [
              0.4444444444444444,
              "#bd3786"
             ],
             [
              0.5555555555555556,
              "#d8576b"
             ],
             [
              0.6666666666666666,
              "#ed7953"
             ],
             [
              0.7777777777777778,
              "#fb9f3a"
             ],
             [
              0.8888888888888888,
              "#fdca26"
             ],
             [
              1,
              "#f0f921"
             ]
            ],
            "type": "histogram2dcontour"
           }
          ],
          "mesh3d": [
           {
            "colorbar": {
             "outlinewidth": 0,
             "ticks": ""
            },
            "type": "mesh3d"
           }
          ],
          "parcoords": [
           {
            "line": {
             "colorbar": {
              "outlinewidth": 0,
              "ticks": ""
             }
            },
            "type": "parcoords"
           }
          ],
          "pie": [
           {
            "automargin": true,
            "type": "pie"
           }
          ],
          "scatter": [
           {
            "fillpattern": {
             "fillmode": "overlay",
             "size": 10,
             "solidity": 0.2
            },
            "type": "scatter"
           }
          ],
          "scatter3d": [
           {
            "line": {
             "colorbar": {
              "outlinewidth": 0,
              "ticks": ""
             }
            },
            "marker": {
             "colorbar": {
              "outlinewidth": 0,
              "ticks": ""
             }
            },
            "type": "scatter3d"
           }
          ],
          "scattercarpet": [
           {
            "marker": {
             "colorbar": {
              "outlinewidth": 0,
              "ticks": ""
             }
            },
            "type": "scattercarpet"
           }
          ],
          "scattergeo": [
           {
            "marker": {
             "colorbar": {
              "outlinewidth": 0,
              "ticks": ""
             }
            },
            "type": "scattergeo"
           }
          ],
          "scattergl": [
           {
            "marker": {
             "colorbar": {
              "outlinewidth": 0,
              "ticks": ""
             }
            },
            "type": "scattergl"
           }
          ],
          "scattermap": [
           {
            "marker": {
             "colorbar": {
              "outlinewidth": 0,
              "ticks": ""
             }
            },
            "type": "scattermap"
           }
          ],
          "scattermapbox": [
           {
            "marker": {
             "colorbar": {
              "outlinewidth": 0,
              "ticks": ""
             }
            },
            "type": "scattermapbox"
           }
          ],
          "scatterpolar": [
           {
            "marker": {
             "colorbar": {
              "outlinewidth": 0,
              "ticks": ""
             }
            },
            "type": "scatterpolar"
           }
          ],
          "scatterpolargl": [
           {
            "marker": {
             "colorbar": {
              "outlinewidth": 0,
              "ticks": ""
             }
            },
            "type": "scatterpolargl"
           }
          ],
          "scatterternary": [
           {
            "marker": {
             "colorbar": {
              "outlinewidth": 0,
              "ticks": ""
             }
            },
            "type": "scatterternary"
           }
          ],
          "surface": [
           {
            "colorbar": {
             "outlinewidth": 0,
             "ticks": ""
            },
            "colorscale": [
             [
              0,
              "#0d0887"
             ],
             [
              0.1111111111111111,
              "#46039f"
             ],
             [
              0.2222222222222222,
              "#7201a8"
             ],
             [
              0.3333333333333333,
              "#9c179e"
             ],
             [
              0.4444444444444444,
              "#bd3786"
             ],
             [
              0.5555555555555556,
              "#d8576b"
             ],
             [
              0.6666666666666666,
              "#ed7953"
             ],
             [
              0.7777777777777778,
              "#fb9f3a"
             ],
             [
              0.8888888888888888,
              "#fdca26"
             ],
             [
              1,
              "#f0f921"
             ]
            ],
            "type": "surface"
           }
          ],
          "table": [
           {
            "cells": {
             "fill": {
              "color": "#EBF0F8"
             },
             "line": {
              "color": "white"
             }
            },
            "header": {
             "fill": {
              "color": "#C8D4E3"
             },
             "line": {
              "color": "white"
             }
            },
            "type": "table"
           }
          ]
         },
         "layout": {
          "annotationdefaults": {
           "arrowcolor": "#2a3f5f",
           "arrowhead": 0,
           "arrowwidth": 1
          },
          "autotypenumbers": "strict",
          "coloraxis": {
           "colorbar": {
            "outlinewidth": 0,
            "ticks": ""
           }
          },
          "colorscale": {
           "diverging": [
            [
             0,
             "#8e0152"
            ],
            [
             0.1,
             "#c51b7d"
            ],
            [
             0.2,
             "#de77ae"
            ],
            [
             0.3,
             "#f1b6da"
            ],
            [
             0.4,
             "#fde0ef"
            ],
            [
             0.5,
             "#f7f7f7"
            ],
            [
             0.6,
             "#e6f5d0"
            ],
            [
             0.7,
             "#b8e186"
            ],
            [
             0.8,
             "#7fbc41"
            ],
            [
             0.9,
             "#4d9221"
            ],
            [
             1,
             "#276419"
            ]
           ],
           "sequential": [
            [
             0,
             "#0d0887"
            ],
            [
             0.1111111111111111,
             "#46039f"
            ],
            [
             0.2222222222222222,
             "#7201a8"
            ],
            [
             0.3333333333333333,
             "#9c179e"
            ],
            [
             0.4444444444444444,
             "#bd3786"
            ],
            [
             0.5555555555555556,
             "#d8576b"
            ],
            [
             0.6666666666666666,
             "#ed7953"
            ],
            [
             0.7777777777777778,
             "#fb9f3a"
            ],
            [
             0.8888888888888888,
             "#fdca26"
            ],
            [
             1,
             "#f0f921"
            ]
           ],
           "sequentialminus": [
            [
             0,
             "#0d0887"
            ],
            [
             0.1111111111111111,
             "#46039f"
            ],
            [
             0.2222222222222222,
             "#7201a8"
            ],
            [
             0.3333333333333333,
             "#9c179e"
            ],
            [
             0.4444444444444444,
             "#bd3786"
            ],
            [
             0.5555555555555556,
             "#d8576b"
            ],
            [
             0.6666666666666666,
             "#ed7953"
            ],
            [
             0.7777777777777778,
             "#fb9f3a"
            ],
            [
             0.8888888888888888,
             "#fdca26"
            ],
            [
             1,
             "#f0f921"
            ]
           ]
          },
          "colorway": [
           "#636efa",
           "#EF553B",
           "#00cc96",
           "#ab63fa",
           "#FFA15A",
           "#19d3f3",
           "#FF6692",
           "#B6E880",
           "#FF97FF",
           "#FECB52"
          ],
          "font": {
           "color": "#2a3f5f"
          },
          "geo": {
           "bgcolor": "white",
           "lakecolor": "white",
           "landcolor": "white",
           "showlakes": true,
           "showland": true,
           "subunitcolor": "#C8D4E3"
          },
          "hoverlabel": {
           "align": "left"
          },
          "hovermode": "closest",
          "mapbox": {
           "style": "light"
          },
          "paper_bgcolor": "white",
          "plot_bgcolor": "white",
          "polar": {
           "angularaxis": {
            "gridcolor": "#EBF0F8",
            "linecolor": "#EBF0F8",
            "ticks": ""
           },
           "bgcolor": "white",
           "radialaxis": {
            "gridcolor": "#EBF0F8",
            "linecolor": "#EBF0F8",
            "ticks": ""
           }
          },
          "scene": {
           "xaxis": {
            "backgroundcolor": "white",
            "gridcolor": "#DFE8F3",
            "gridwidth": 2,
            "linecolor": "#EBF0F8",
            "showbackground": true,
            "ticks": "",
            "zerolinecolor": "#EBF0F8"
           },
           "yaxis": {
            "backgroundcolor": "white",
            "gridcolor": "#DFE8F3",
            "gridwidth": 2,
            "linecolor": "#EBF0F8",
            "showbackground": true,
            "ticks": "",
            "zerolinecolor": "#EBF0F8"
           },
           "zaxis": {
            "backgroundcolor": "white",
            "gridcolor": "#DFE8F3",
            "gridwidth": 2,
            "linecolor": "#EBF0F8",
            "showbackground": true,
            "ticks": "",
            "zerolinecolor": "#EBF0F8"
           }
          },
          "shapedefaults": {
           "line": {
            "color": "#2a3f5f"
           }
          },
          "ternary": {
           "aaxis": {
            "gridcolor": "#DFE8F3",
            "linecolor": "#A2B1C6",
            "ticks": ""
           },
           "baxis": {
            "gridcolor": "#DFE8F3",
            "linecolor": "#A2B1C6",
            "ticks": ""
           },
           "bgcolor": "white",
           "caxis": {
            "gridcolor": "#DFE8F3",
            "linecolor": "#A2B1C6",
            "ticks": ""
           }
          },
          "title": {
           "x": 0.05
          },
          "xaxis": {
           "automargin": true,
           "gridcolor": "#EBF0F8",
           "linecolor": "#EBF0F8",
           "ticks": "",
           "title": {
            "standoff": 15
           },
           "zerolinecolor": "#EBF0F8",
           "zerolinewidth": 2
          },
          "yaxis": {
           "automargin": true,
           "gridcolor": "#EBF0F8",
           "linecolor": "#EBF0F8",
           "ticks": "",
           "title": {
            "standoff": 15
           },
           "zerolinecolor": "#EBF0F8",
           "zerolinewidth": 2
          }
         }
        },
        "title": {
         "text": "Weeks on NYT Best Sellers List"
        },
        "xaxis": {
         "anchor": "y",
         "domain": [
          0,
          1
         ],
         "title": {
          "text": "title"
         }
        },
        "yaxis": {
         "anchor": "x",
         "domain": [
          0,
          1
         ],
         "title": {
          "text": "count"
         }
        }
       }
      }
     },
     "metadata": {},
     "output_type": "display_data"
    }
   ],
   "source": [
    "fig = px.bar(best_books, x='title',y='count', title=\"Weeks on NYT Best Sellers List\", hover_data=['category', 'description'], color='category')\n",
    "fig.show()\n",
    "\n",
    "fig.write_image(\"images/top_titles.svg\")"
   ]
  },
  {
   "cell_type": "code",
   "execution_count": 16,
   "id": "2510524c",
   "metadata": {},
   "outputs": [
    {
     "data": {
      "application/vnd.microsoft.datawrangler.viewer.v0+json": {
       "columns": [
        {
         "name": "index",
         "rawType": "int64",
         "type": "integer"
        },
        {
         "name": "title",
         "rawType": "object",
         "type": "string"
        },
        {
         "name": "category",
         "rawType": "object",
         "type": "string"
        },
        {
         "name": "count",
         "rawType": "int64",
         "type": "integer"
        },
        {
         "name": "description",
         "rawType": "object",
         "type": "unknown"
        }
       ],
       "ref": "9f2d9830-a355-4377-95a8-5dd4fc4c0307",
       "rows": [
        [
         "517",
         "THE BODY KEEPS THE SCORE",
         "medical",
         "45",
         "How trauma affects the body and mind, and innovative treatments for recovery."
        ],
        [
         "526",
         "THE BOYS IN THE BOAT",
         "sports & recreation",
         "31",
         null
        ],
        [
         "169",
         "EDUCATED",
         "biography & autobiography",
         "24",
         "The daughter of survivalists, who is kept out of school, educates herself enough to leave home for university."
        ],
        [
         "85",
         "BEING MORTAL",
         "family & relationships",
         "24",
         "The surgeon and New Yorker writer considers how doctors fail patients at the end of life and how they can do better."
        ],
        [
         "80",
         "BECOMING",
         "biography & autobiography",
         "21",
         "The former first lady describes her journey from the South Side of Chicago to the White House, and how she balanced work, family and her husband’s political ascent."
        ],
        [
         "748",
         "WILD",
         "biography & autobiography",
         "18",
         "A woman’s account of a life-changing 1,100-mile hike along the Pacific Crest Trail during the summer of 1995; a 2014 movie."
        ],
        [
         "242",
         "HILLBILLY ELEGY",
         "social science",
         "18",
         "The vice president, in a memoir written shortly after graduating from Yale Law School, looks at the struggles of the white working class through the story of his own childhood."
        ],
        [
         "707",
         "UNBROKEN",
         "biography & autobiography",
         "17",
         "An Olympic runner’s story of survival as a prisoner of the Japanese in World War II; a 2014 movie."
        ],
        [
         "111",
         "BORN A CRIME",
         "biography & autobiography",
         "16",
         "A memoir about growing up biracial in apartheid South Africa by the former host of “The Daily Show.”"
        ],
        [
         "272",
         "I'M GLAD MY MOM DIED",
         "biography & autobiography",
         "15",
         "The actress and filmmaker describes her eating disorders and difficult relationship with her mother."
        ]
       ],
       "shape": {
        "columns": 4,
        "rows": 10
       }
      },
      "text/html": [
       "<div>\n",
       "<style scoped>\n",
       "    .dataframe tbody tr th:only-of-type {\n",
       "        vertical-align: middle;\n",
       "    }\n",
       "\n",
       "    .dataframe tbody tr th {\n",
       "        vertical-align: top;\n",
       "    }\n",
       "\n",
       "    .dataframe thead th {\n",
       "        text-align: right;\n",
       "    }\n",
       "</style>\n",
       "<table border=\"1\" class=\"dataframe\">\n",
       "  <thead>\n",
       "    <tr style=\"text-align: right;\">\n",
       "      <th></th>\n",
       "      <th>title</th>\n",
       "      <th>category</th>\n",
       "      <th>count</th>\n",
       "      <th>description</th>\n",
       "    </tr>\n",
       "  </thead>\n",
       "  <tbody>\n",
       "    <tr>\n",
       "      <th>517</th>\n",
       "      <td>THE BODY KEEPS THE SCORE</td>\n",
       "      <td>medical</td>\n",
       "      <td>45</td>\n",
       "      <td>How trauma affects the body and mind, and inno...</td>\n",
       "    </tr>\n",
       "    <tr>\n",
       "      <th>526</th>\n",
       "      <td>THE BOYS IN THE BOAT</td>\n",
       "      <td>sports &amp; recreation</td>\n",
       "      <td>31</td>\n",
       "      <td>NaN</td>\n",
       "    </tr>\n",
       "    <tr>\n",
       "      <th>169</th>\n",
       "      <td>EDUCATED</td>\n",
       "      <td>biography &amp; autobiography</td>\n",
       "      <td>24</td>\n",
       "      <td>The daughter of survivalists, who is kept out ...</td>\n",
       "    </tr>\n",
       "    <tr>\n",
       "      <th>85</th>\n",
       "      <td>BEING MORTAL</td>\n",
       "      <td>family &amp; relationships</td>\n",
       "      <td>24</td>\n",
       "      <td>The surgeon and New Yorker writer considers ho...</td>\n",
       "    </tr>\n",
       "    <tr>\n",
       "      <th>80</th>\n",
       "      <td>BECOMING</td>\n",
       "      <td>biography &amp; autobiography</td>\n",
       "      <td>21</td>\n",
       "      <td>The former first lady describes her journey fr...</td>\n",
       "    </tr>\n",
       "    <tr>\n",
       "      <th>748</th>\n",
       "      <td>WILD</td>\n",
       "      <td>biography &amp; autobiography</td>\n",
       "      <td>18</td>\n",
       "      <td>A woman’s account of a life-changing 1,100-mil...</td>\n",
       "    </tr>\n",
       "    <tr>\n",
       "      <th>242</th>\n",
       "      <td>HILLBILLY ELEGY</td>\n",
       "      <td>social science</td>\n",
       "      <td>18</td>\n",
       "      <td>The vice president, in a memoir written shortl...</td>\n",
       "    </tr>\n",
       "    <tr>\n",
       "      <th>707</th>\n",
       "      <td>UNBROKEN</td>\n",
       "      <td>biography &amp; autobiography</td>\n",
       "      <td>17</td>\n",
       "      <td>An Olympic runner’s story of survival as a pri...</td>\n",
       "    </tr>\n",
       "    <tr>\n",
       "      <th>111</th>\n",
       "      <td>BORN A CRIME</td>\n",
       "      <td>biography &amp; autobiography</td>\n",
       "      <td>16</td>\n",
       "      <td>A memoir about growing up biracial in aparthei...</td>\n",
       "    </tr>\n",
       "    <tr>\n",
       "      <th>272</th>\n",
       "      <td>I'M GLAD MY MOM DIED</td>\n",
       "      <td>biography &amp; autobiography</td>\n",
       "      <td>15</td>\n",
       "      <td>The actress and filmmaker describes her eating...</td>\n",
       "    </tr>\n",
       "  </tbody>\n",
       "</table>\n",
       "</div>"
      ],
      "text/plain": [
       "                        title                   category  count  \\\n",
       "517  THE BODY KEEPS THE SCORE                    medical     45   \n",
       "526      THE BOYS IN THE BOAT        sports & recreation     31   \n",
       "169                  EDUCATED  biography & autobiography     24   \n",
       "85               BEING MORTAL     family & relationships     24   \n",
       "80                   BECOMING  biography & autobiography     21   \n",
       "748                      WILD  biography & autobiography     18   \n",
       "242           HILLBILLY ELEGY             social science     18   \n",
       "707                  UNBROKEN  biography & autobiography     17   \n",
       "111              BORN A CRIME  biography & autobiography     16   \n",
       "272      I'M GLAD MY MOM DIED  biography & autobiography     15   \n",
       "\n",
       "                                           description  \n",
       "517  How trauma affects the body and mind, and inno...  \n",
       "526                                                NaN  \n",
       "169  The daughter of survivalists, who is kept out ...  \n",
       "85   The surgeon and New Yorker writer considers ho...  \n",
       "80   The former first lady describes her journey fr...  \n",
       "748  A woman’s account of a life-changing 1,100-mil...  \n",
       "242  The vice president, in a memoir written shortl...  \n",
       "707  An Olympic runner’s story of survival as a pri...  \n",
       "111  A memoir about growing up biracial in aparthei...  \n",
       "272  The actress and filmmaker describes her eating...  "
      ]
     },
     "execution_count": 16,
     "metadata": {},
     "output_type": "execute_result"
    }
   ],
   "source": [
    "best_books"
   ]
  },
  {
   "cell_type": "code",
   "execution_count": 17,
   "id": "705038f7",
   "metadata": {},
   "outputs": [
    {
     "data": {
      "application/vnd.microsoft.datawrangler.viewer.v0+json": {
       "columns": [
        {
         "name": "index",
         "rawType": "int64",
         "type": "integer"
        },
        {
         "name": "title",
         "rawType": "object",
         "type": "string"
        },
        {
         "name": "category",
         "rawType": "object",
         "type": "string"
        },
        {
         "name": "count",
         "rawType": "int64",
         "type": "integer"
        },
        {
         "name": "description",
         "rawType": "object",
         "type": "unknown"
        }
       ],
       "ref": "f4821a86-42b3-442c-a7c6-e7886ac21e9b",
       "rows": [
        [
         "517",
         "THE BODY KEEPS THE SCORE",
         "medical",
         "45",
         "How trauma affects the body and mind, and innovative treatments for recovery."
        ],
        [
         "526",
         "THE BOYS IN THE BOAT",
         "sports & recreation",
         "31",
         null
        ],
        [
         "169",
         "EDUCATED",
         "biography & autobiography",
         "24",
         "The daughter of survivalists, who is kept out of school, educates herself enough to leave home for university."
        ],
        [
         "85",
         "BEING MORTAL",
         "family & relationships",
         "24",
         "The surgeon and New Yorker writer considers how doctors fail patients at the end of life and how they can do better."
        ],
        [
         "80",
         "BECOMING",
         "biography & autobiography",
         "21",
         "The former first lady describes her journey from the South Side of Chicago to the White House, and how she balanced work, family and her husband’s political ascent."
        ]
       ],
       "shape": {
        "columns": 4,
        "rows": 5
       }
      },
      "text/html": [
       "<div>\n",
       "<style scoped>\n",
       "    .dataframe tbody tr th:only-of-type {\n",
       "        vertical-align: middle;\n",
       "    }\n",
       "\n",
       "    .dataframe tbody tr th {\n",
       "        vertical-align: top;\n",
       "    }\n",
       "\n",
       "    .dataframe thead th {\n",
       "        text-align: right;\n",
       "    }\n",
       "</style>\n",
       "<table border=\"1\" class=\"dataframe\">\n",
       "  <thead>\n",
       "    <tr style=\"text-align: right;\">\n",
       "      <th></th>\n",
       "      <th>title</th>\n",
       "      <th>category</th>\n",
       "      <th>count</th>\n",
       "      <th>description</th>\n",
       "    </tr>\n",
       "  </thead>\n",
       "  <tbody>\n",
       "    <tr>\n",
       "      <th>517</th>\n",
       "      <td>THE BODY KEEPS THE SCORE</td>\n",
       "      <td>medical</td>\n",
       "      <td>45</td>\n",
       "      <td>How trauma affects the body and mind, and inno...</td>\n",
       "    </tr>\n",
       "    <tr>\n",
       "      <th>526</th>\n",
       "      <td>THE BOYS IN THE BOAT</td>\n",
       "      <td>sports &amp; recreation</td>\n",
       "      <td>31</td>\n",
       "      <td>NaN</td>\n",
       "    </tr>\n",
       "    <tr>\n",
       "      <th>169</th>\n",
       "      <td>EDUCATED</td>\n",
       "      <td>biography &amp; autobiography</td>\n",
       "      <td>24</td>\n",
       "      <td>The daughter of survivalists, who is kept out ...</td>\n",
       "    </tr>\n",
       "    <tr>\n",
       "      <th>85</th>\n",
       "      <td>BEING MORTAL</td>\n",
       "      <td>family &amp; relationships</td>\n",
       "      <td>24</td>\n",
       "      <td>The surgeon and New Yorker writer considers ho...</td>\n",
       "    </tr>\n",
       "    <tr>\n",
       "      <th>80</th>\n",
       "      <td>BECOMING</td>\n",
       "      <td>biography &amp; autobiography</td>\n",
       "      <td>21</td>\n",
       "      <td>The former first lady describes her journey fr...</td>\n",
       "    </tr>\n",
       "  </tbody>\n",
       "</table>\n",
       "</div>"
      ],
      "text/plain": [
       "                        title                   category  count  \\\n",
       "517  THE BODY KEEPS THE SCORE                    medical     45   \n",
       "526      THE BOYS IN THE BOAT        sports & recreation     31   \n",
       "169                  EDUCATED  biography & autobiography     24   \n",
       "85               BEING MORTAL     family & relationships     24   \n",
       "80                   BECOMING  biography & autobiography     21   \n",
       "\n",
       "                                           description  \n",
       "517  How trauma affects the body and mind, and inno...  \n",
       "526                                                NaN  \n",
       "169  The daughter of survivalists, who is kept out ...  \n",
       "85   The surgeon and New Yorker writer considers ho...  \n",
       "80   The former first lady describes her journey fr...  "
      ]
     },
     "execution_count": 17,
     "metadata": {},
     "output_type": "execute_result"
    }
   ],
   "source": [
    "best_books.head()"
   ]
  },
  {
   "cell_type": "markdown",
   "id": "221e8219",
   "metadata": {},
   "source": [
    "If biographies are not the best books, why are they on the list so often?"
   ]
  },
  {
   "cell_type": "code",
   "execution_count": 18,
   "id": "7c307f34",
   "metadata": {},
   "outputs": [],
   "source": [
    "top10_cat = df['category'].value_counts().reset_index().head(10)\n"
   ]
  },
  {
   "cell_type": "code",
   "execution_count": 19,
   "id": "c4379ab3",
   "metadata": {},
   "outputs": [
    {
     "data": {
      "application/vnd.plotly.v1+json": {
       "config": {
        "plotlyServerURL": "https://plot.ly"
       },
       "data": [
        {
         "hovertemplate": "category=%{x}<br>count=%{y}<extra></extra>",
         "legendgroup": "",
         "marker": {
          "color": "#636efa",
          "pattern": {
           "shape": ""
          }
         },
         "name": "",
         "orientation": "v",
         "showlegend": false,
         "textposition": "auto",
         "type": "bar",
         "x": [
          "biography & autobiography",
          "history",
          "political science",
          "social science",
          "science",
          "true crime",
          "medical",
          "business & economics",
          "family & relationships",
          "sports & recreation"
         ],
         "xaxis": "x",
         "y": {
          "bdata": "BwOwAJsASAAwAC0ALQArACgAIAA=",
          "dtype": "i2"
         },
         "yaxis": "y"
        }
       ],
       "layout": {
        "barmode": "relative",
        "legend": {
         "tracegroupgap": 0
        },
        "margin": {
         "t": 60
        },
        "template": {
         "data": {
          "bar": [
           {
            "error_x": {
             "color": "#2a3f5f"
            },
            "error_y": {
             "color": "#2a3f5f"
            },
            "marker": {
             "line": {
              "color": "white",
              "width": 0.5
             },
             "pattern": {
              "fillmode": "overlay",
              "size": 10,
              "solidity": 0.2
             }
            },
            "type": "bar"
           }
          ],
          "barpolar": [
           {
            "marker": {
             "line": {
              "color": "white",
              "width": 0.5
             },
             "pattern": {
              "fillmode": "overlay",
              "size": 10,
              "solidity": 0.2
             }
            },
            "type": "barpolar"
           }
          ],
          "carpet": [
           {
            "aaxis": {
             "endlinecolor": "#2a3f5f",
             "gridcolor": "#C8D4E3",
             "linecolor": "#C8D4E3",
             "minorgridcolor": "#C8D4E3",
             "startlinecolor": "#2a3f5f"
            },
            "baxis": {
             "endlinecolor": "#2a3f5f",
             "gridcolor": "#C8D4E3",
             "linecolor": "#C8D4E3",
             "minorgridcolor": "#C8D4E3",
             "startlinecolor": "#2a3f5f"
            },
            "type": "carpet"
           }
          ],
          "choropleth": [
           {
            "colorbar": {
             "outlinewidth": 0,
             "ticks": ""
            },
            "type": "choropleth"
           }
          ],
          "contour": [
           {
            "colorbar": {
             "outlinewidth": 0,
             "ticks": ""
            },
            "colorscale": [
             [
              0,
              "#0d0887"
             ],
             [
              0.1111111111111111,
              "#46039f"
             ],
             [
              0.2222222222222222,
              "#7201a8"
             ],
             [
              0.3333333333333333,
              "#9c179e"
             ],
             [
              0.4444444444444444,
              "#bd3786"
             ],
             [
              0.5555555555555556,
              "#d8576b"
             ],
             [
              0.6666666666666666,
              "#ed7953"
             ],
             [
              0.7777777777777778,
              "#fb9f3a"
             ],
             [
              0.8888888888888888,
              "#fdca26"
             ],
             [
              1,
              "#f0f921"
             ]
            ],
            "type": "contour"
           }
          ],
          "contourcarpet": [
           {
            "colorbar": {
             "outlinewidth": 0,
             "ticks": ""
            },
            "type": "contourcarpet"
           }
          ],
          "heatmap": [
           {
            "colorbar": {
             "outlinewidth": 0,
             "ticks": ""
            },
            "colorscale": [
             [
              0,
              "#0d0887"
             ],
             [
              0.1111111111111111,
              "#46039f"
             ],
             [
              0.2222222222222222,
              "#7201a8"
             ],
             [
              0.3333333333333333,
              "#9c179e"
             ],
             [
              0.4444444444444444,
              "#bd3786"
             ],
             [
              0.5555555555555556,
              "#d8576b"
             ],
             [
              0.6666666666666666,
              "#ed7953"
             ],
             [
              0.7777777777777778,
              "#fb9f3a"
             ],
             [
              0.8888888888888888,
              "#fdca26"
             ],
             [
              1,
              "#f0f921"
             ]
            ],
            "type": "heatmap"
           }
          ],
          "histogram": [
           {
            "marker": {
             "pattern": {
              "fillmode": "overlay",
              "size": 10,
              "solidity": 0.2
             }
            },
            "type": "histogram"
           }
          ],
          "histogram2d": [
           {
            "colorbar": {
             "outlinewidth": 0,
             "ticks": ""
            },
            "colorscale": [
             [
              0,
              "#0d0887"
             ],
             [
              0.1111111111111111,
              "#46039f"
             ],
             [
              0.2222222222222222,
              "#7201a8"
             ],
             [
              0.3333333333333333,
              "#9c179e"
             ],
             [
              0.4444444444444444,
              "#bd3786"
             ],
             [
              0.5555555555555556,
              "#d8576b"
             ],
             [
              0.6666666666666666,
              "#ed7953"
             ],
             [
              0.7777777777777778,
              "#fb9f3a"
             ],
             [
              0.8888888888888888,
              "#fdca26"
             ],
             [
              1,
              "#f0f921"
             ]
            ],
            "type": "histogram2d"
           }
          ],
          "histogram2dcontour": [
           {
            "colorbar": {
             "outlinewidth": 0,
             "ticks": ""
            },
            "colorscale": [
             [
              0,
              "#0d0887"
             ],
             [
              0.1111111111111111,
              "#46039f"
             ],
             [
              0.2222222222222222,
              "#7201a8"
             ],
             [
              0.3333333333333333,
              "#9c179e"
             ],
             [
              0.4444444444444444,
              "#bd3786"
             ],
             [
              0.5555555555555556,
              "#d8576b"
             ],
             [
              0.6666666666666666,
              "#ed7953"
             ],
             [
              0.7777777777777778,
              "#fb9f3a"
             ],
             [
              0.8888888888888888,
              "#fdca26"
             ],
             [
              1,
              "#f0f921"
             ]
            ],
            "type": "histogram2dcontour"
           }
          ],
          "mesh3d": [
           {
            "colorbar": {
             "outlinewidth": 0,
             "ticks": ""
            },
            "type": "mesh3d"
           }
          ],
          "parcoords": [
           {
            "line": {
             "colorbar": {
              "outlinewidth": 0,
              "ticks": ""
             }
            },
            "type": "parcoords"
           }
          ],
          "pie": [
           {
            "automargin": true,
            "type": "pie"
           }
          ],
          "scatter": [
           {
            "fillpattern": {
             "fillmode": "overlay",
             "size": 10,
             "solidity": 0.2
            },
            "type": "scatter"
           }
          ],
          "scatter3d": [
           {
            "line": {
             "colorbar": {
              "outlinewidth": 0,
              "ticks": ""
             }
            },
            "marker": {
             "colorbar": {
              "outlinewidth": 0,
              "ticks": ""
             }
            },
            "type": "scatter3d"
           }
          ],
          "scattercarpet": [
           {
            "marker": {
             "colorbar": {
              "outlinewidth": 0,
              "ticks": ""
             }
            },
            "type": "scattercarpet"
           }
          ],
          "scattergeo": [
           {
            "marker": {
             "colorbar": {
              "outlinewidth": 0,
              "ticks": ""
             }
            },
            "type": "scattergeo"
           }
          ],
          "scattergl": [
           {
            "marker": {
             "colorbar": {
              "outlinewidth": 0,
              "ticks": ""
             }
            },
            "type": "scattergl"
           }
          ],
          "scattermap": [
           {
            "marker": {
             "colorbar": {
              "outlinewidth": 0,
              "ticks": ""
             }
            },
            "type": "scattermap"
           }
          ],
          "scattermapbox": [
           {
            "marker": {
             "colorbar": {
              "outlinewidth": 0,
              "ticks": ""
             }
            },
            "type": "scattermapbox"
           }
          ],
          "scatterpolar": [
           {
            "marker": {
             "colorbar": {
              "outlinewidth": 0,
              "ticks": ""
             }
            },
            "type": "scatterpolar"
           }
          ],
          "scatterpolargl": [
           {
            "marker": {
             "colorbar": {
              "outlinewidth": 0,
              "ticks": ""
             }
            },
            "type": "scatterpolargl"
           }
          ],
          "scatterternary": [
           {
            "marker": {
             "colorbar": {
              "outlinewidth": 0,
              "ticks": ""
             }
            },
            "type": "scatterternary"
           }
          ],
          "surface": [
           {
            "colorbar": {
             "outlinewidth": 0,
             "ticks": ""
            },
            "colorscale": [
             [
              0,
              "#0d0887"
             ],
             [
              0.1111111111111111,
              "#46039f"
             ],
             [
              0.2222222222222222,
              "#7201a8"
             ],
             [
              0.3333333333333333,
              "#9c179e"
             ],
             [
              0.4444444444444444,
              "#bd3786"
             ],
             [
              0.5555555555555556,
              "#d8576b"
             ],
             [
              0.6666666666666666,
              "#ed7953"
             ],
             [
              0.7777777777777778,
              "#fb9f3a"
             ],
             [
              0.8888888888888888,
              "#fdca26"
             ],
             [
              1,
              "#f0f921"
             ]
            ],
            "type": "surface"
           }
          ],
          "table": [
           {
            "cells": {
             "fill": {
              "color": "#EBF0F8"
             },
             "line": {
              "color": "white"
             }
            },
            "header": {
             "fill": {
              "color": "#C8D4E3"
             },
             "line": {
              "color": "white"
             }
            },
            "type": "table"
           }
          ]
         },
         "layout": {
          "annotationdefaults": {
           "arrowcolor": "#2a3f5f",
           "arrowhead": 0,
           "arrowwidth": 1
          },
          "autotypenumbers": "strict",
          "coloraxis": {
           "colorbar": {
            "outlinewidth": 0,
            "ticks": ""
           }
          },
          "colorscale": {
           "diverging": [
            [
             0,
             "#8e0152"
            ],
            [
             0.1,
             "#c51b7d"
            ],
            [
             0.2,
             "#de77ae"
            ],
            [
             0.3,
             "#f1b6da"
            ],
            [
             0.4,
             "#fde0ef"
            ],
            [
             0.5,
             "#f7f7f7"
            ],
            [
             0.6,
             "#e6f5d0"
            ],
            [
             0.7,
             "#b8e186"
            ],
            [
             0.8,
             "#7fbc41"
            ],
            [
             0.9,
             "#4d9221"
            ],
            [
             1,
             "#276419"
            ]
           ],
           "sequential": [
            [
             0,
             "#0d0887"
            ],
            [
             0.1111111111111111,
             "#46039f"
            ],
            [
             0.2222222222222222,
             "#7201a8"
            ],
            [
             0.3333333333333333,
             "#9c179e"
            ],
            [
             0.4444444444444444,
             "#bd3786"
            ],
            [
             0.5555555555555556,
             "#d8576b"
            ],
            [
             0.6666666666666666,
             "#ed7953"
            ],
            [
             0.7777777777777778,
             "#fb9f3a"
            ],
            [
             0.8888888888888888,
             "#fdca26"
            ],
            [
             1,
             "#f0f921"
            ]
           ],
           "sequentialminus": [
            [
             0,
             "#0d0887"
            ],
            [
             0.1111111111111111,
             "#46039f"
            ],
            [
             0.2222222222222222,
             "#7201a8"
            ],
            [
             0.3333333333333333,
             "#9c179e"
            ],
            [
             0.4444444444444444,
             "#bd3786"
            ],
            [
             0.5555555555555556,
             "#d8576b"
            ],
            [
             0.6666666666666666,
             "#ed7953"
            ],
            [
             0.7777777777777778,
             "#fb9f3a"
            ],
            [
             0.8888888888888888,
             "#fdca26"
            ],
            [
             1,
             "#f0f921"
            ]
           ]
          },
          "colorway": [
           "#636efa",
           "#EF553B",
           "#00cc96",
           "#ab63fa",
           "#FFA15A",
           "#19d3f3",
           "#FF6692",
           "#B6E880",
           "#FF97FF",
           "#FECB52"
          ],
          "font": {
           "color": "#2a3f5f"
          },
          "geo": {
           "bgcolor": "white",
           "lakecolor": "white",
           "landcolor": "white",
           "showlakes": true,
           "showland": true,
           "subunitcolor": "#C8D4E3"
          },
          "hoverlabel": {
           "align": "left"
          },
          "hovermode": "closest",
          "mapbox": {
           "style": "light"
          },
          "paper_bgcolor": "white",
          "plot_bgcolor": "white",
          "polar": {
           "angularaxis": {
            "gridcolor": "#EBF0F8",
            "linecolor": "#EBF0F8",
            "ticks": ""
           },
           "bgcolor": "white",
           "radialaxis": {
            "gridcolor": "#EBF0F8",
            "linecolor": "#EBF0F8",
            "ticks": ""
           }
          },
          "scene": {
           "xaxis": {
            "backgroundcolor": "white",
            "gridcolor": "#DFE8F3",
            "gridwidth": 2,
            "linecolor": "#EBF0F8",
            "showbackground": true,
            "ticks": "",
            "zerolinecolor": "#EBF0F8"
           },
           "yaxis": {
            "backgroundcolor": "white",
            "gridcolor": "#DFE8F3",
            "gridwidth": 2,
            "linecolor": "#EBF0F8",
            "showbackground": true,
            "ticks": "",
            "zerolinecolor": "#EBF0F8"
           },
           "zaxis": {
            "backgroundcolor": "white",
            "gridcolor": "#DFE8F3",
            "gridwidth": 2,
            "linecolor": "#EBF0F8",
            "showbackground": true,
            "ticks": "",
            "zerolinecolor": "#EBF0F8"
           }
          },
          "shapedefaults": {
           "line": {
            "color": "#2a3f5f"
           }
          },
          "ternary": {
           "aaxis": {
            "gridcolor": "#DFE8F3",
            "linecolor": "#A2B1C6",
            "ticks": ""
           },
           "baxis": {
            "gridcolor": "#DFE8F3",
            "linecolor": "#A2B1C6",
            "ticks": ""
           },
           "bgcolor": "white",
           "caxis": {
            "gridcolor": "#DFE8F3",
            "linecolor": "#A2B1C6",
            "ticks": ""
           }
          },
          "title": {
           "x": 0.05
          },
          "xaxis": {
           "automargin": true,
           "gridcolor": "#EBF0F8",
           "linecolor": "#EBF0F8",
           "ticks": "",
           "title": {
            "standoff": 15
           },
           "zerolinecolor": "#EBF0F8",
           "zerolinewidth": 2
          },
          "yaxis": {
           "automargin": true,
           "gridcolor": "#EBF0F8",
           "linecolor": "#EBF0F8",
           "ticks": "",
           "title": {
            "standoff": 15
           },
           "zerolinecolor": "#EBF0F8",
           "zerolinewidth": 2
          }
         }
        },
        "xaxis": {
         "anchor": "y",
         "domain": [
          0,
          1
         ],
         "title": {
          "text": "category"
         }
        },
        "yaxis": {
         "anchor": "x",
         "domain": [
          0,
          1
         ],
         "title": {
          "text": "count"
         }
        }
       }
      }
     },
     "metadata": {},
     "output_type": "display_data"
    }
   ],
   "source": [
    "fig = px.bar(top10_cat, x = 'category', y = 'count')\n",
    "fig.show()\n",
    "\n",
    "fig.write_image(\"images/top10_count.svg\")\n",
    "fig.write_image(\"images/top10_count.png\", width='1000px')\n",
    "\n"
   ]
  },
  {
   "cell_type": "code",
   "execution_count": 20,
   "id": "e5d291f7",
   "metadata": {},
   "outputs": [
    {
     "data": {
      "application/vnd.plotly.v1+json": {
       "config": {
        "plotlyServerURL": "https://plot.ly"
       },
       "data": [
        {
         "customdata": [
          [
           "HOW COUNTRIES GO BROKE"
          ],
          [
           "ABUNDANCE"
          ],
          [
           "ABUNDANCE"
          ],
          [
           "THE TECHNOLOGICAL REPUBLIC"
          ],
          [
           "REVENGE OF THE TIPPING POINT"
          ],
          [
           "UNSCRIPTED"
          ],
          [
           "THINK AGAIN"
          ],
          [
           "CALL SIGN CHAOS"
          ],
          [
           "BAD BLOOD"
          ],
          [
           "BAD BLOOD"
          ],
          [
           "BAD BLOOD"
          ],
          [
           "BAD BLOOD"
          ],
          [
           "GRIT"
          ]
         ],
         "hovertemplate": "category=business & economics<br>published_date=%{x}<br>rank=%{y}<br>title=%{customdata[0]}<extra></extra>",
         "legendgroup": "business & economics",
         "marker": {
          "color": "#636efa",
          "opacity": 1,
          "size": 10,
          "symbol": "circle"
         },
         "mode": "markers",
         "name": "business & economics",
         "orientation": "v",
         "showlegend": true,
         "type": "scatter",
         "x": [
          "2025-06-22",
          "2025-05-18",
          "2025-04-13",
          "2025-03-09",
          "2024-10-20",
          "2023-03-05",
          "2021-02-28",
          "2019-09-22",
          "2019-03-31",
          "2019-02-24",
          "2019-01-20",
          "2018-07-29",
          "2016-06-19"
         ],
         "xaxis": "x",
         "y": {
          "bdata": "AQUDAQIDAwEDAwUFBA==",
          "dtype": "i1"
         },
         "yaxis": "y"
        },
        {
         "customdata": [
          [
           "ORIGINAL SIN"
          ],
          [
           "SEVEN THINGS YOU CAN'T SAY ABOUT CHINA"
          ],
          [
           "ON TYRANNY"
          ],
          [
           "ON TYRANNY"
          ],
          [
           "THANK YOU FOR YOUR SERVITUDE"
          ],
          [
           "RED-HANDED"
          ],
          [
           "RED-HANDED"
          ],
          [
           "BETRAYAL"
          ],
          [
           "MIDNIGHT IN WASHINGTON"
          ],
          [
           "AMERICAN MARXISM"
          ],
          [
           "AMERICAN MARXISM"
          ],
          [
           "I ALONE CAN FIX IT"
          ],
          [
           "THE PREMONITION"
          ],
          [
           "NIGHTMARE SCENARIO"
          ],
          [
           "ZERO FAIL"
          ],
          [
           "THE PREMONITION"
          ],
          [
           "ON TYRANNY"
          ],
          [
           "BLACKOUT"
          ],
          [
           "LIVE FREE OR DIE"
          ],
          [
           "HOW TO BE AN ANTIRACIST"
          ],
          [
           "HOW TO BE AN ANTIRACIST"
          ],
          [
           "FRONT ROW AT THE TRUMP SHOW"
          ],
          [
           "TRIGGERED"
          ],
          [
           "WITH ALL DUE RESPECT"
          ],
          [
           "BLOWOUT"
          ],
          [
           "WITCH HUNT"
          ],
          [
           "RADICALS, RESISTANCE AND REVENGE"
          ],
          [
           "UNFREEDOM OF THE PRESS"
          ],
          [
           "UNFREEDOM OF THE PRESS"
          ],
          [
           "THE MUELLER REPORT"
          ],
          [
           "UNFREEDOM OF THE PRESS"
          ],
          [
           "THE POINT OF IT ALL"
          ],
          [
           "SHIP OF FOOLS"
          ],
          [
           "FEAR"
          ],
          [
           "FEAR"
          ],
          [
           "THINGS THAT MATTER"
          ],
          [
           "RUSSIAN ROULETTE"
          ],
          [
           "FIRE AND FURY"
          ],
          [
           "FIRE AND FURY"
          ],
          [
           "IT'S EVEN WORSE THAN YOU THINK"
          ],
          [
           "TRUMPOCRACY"
          ],
          [
           "HACKS"
          ],
          [
           "THANK YOU FOR BEING LATE"
          ],
          [
           "HILLARY'S AMERICA"
          ],
          [
           "ARMAGEDDON"
          ],
          [
           "CRISIS OF CHARACTER"
          ],
          [
           "CRIPPLED AMERICA"
          ],
          [
           "IT IS ABOUT ISLAM"
          ],
          [
           "PLUNDER AND DECEIT"
          ],
          [
           "CLINTON CASH"
          ]
         ],
         "hovertemplate": "category=political science<br>published_date=%{x}<br>rank=%{y}<br>title=%{customdata[0]}<extra></extra>",
         "legendgroup": "political science",
         "marker": {
          "color": "#EF553B",
          "opacity": 1,
          "size": 10,
          "symbol": "circle"
         },
         "mode": "markers",
         "name": "political science",
         "orientation": "v",
         "showlegend": true,
         "type": "scatter",
         "x": [
          "2025-06-22",
          "2025-03-09",
          "2025-03-09",
          "2024-11-24",
          "2022-08-07",
          "2022-03-20",
          "2022-02-13",
          "2021-12-05",
          "2021-10-31",
          "2021-09-26",
          "2021-08-22",
          "2021-08-22",
          "2021-08-22",
          "2021-07-18",
          "2021-06-13",
          "2021-06-13",
          "2021-01-24",
          "2020-10-11",
          "2020-09-06",
          "2020-08-02",
          "2020-06-28",
          "2020-04-19",
          "2019-12-01",
          "2019-12-01",
          "2019-10-27",
          "2019-10-27",
          "2019-09-22",
          "2019-08-18",
          "2019-07-14",
          "2019-07-14",
          "2019-06-09",
          "2019-01-20",
          "2018-11-11",
          "2018-11-11",
          "2018-10-07",
          "2018-07-29",
          "2018-04-15",
          "2018-03-11",
          "2018-02-04",
          "2018-02-04",
          "2018-02-04",
          "2017-11-26",
          "2016-12-11",
          "2016-08-28",
          "2016-08-28",
          "2016-07-24",
          "2015-11-22",
          "2015-09-13",
          "2015-09-13",
          "2015-05-31"
         ],
         "xaxis": "x",
         "y": {
          "bdata": "AgIDBQMCAQMBAQEDBQEEBQQDAgMDAwEEAQMEBAQFAQMDBQEEAwIBAgUDBQQFAQQBAwU=",
          "dtype": "i1"
         },
         "yaxis": "y"
        },
        {
         "customdata": [
          [
           "A DIFFERENT KIND OF POWER"
          ],
          [
           "MY NEXT BREATH"
          ],
          [
           "MATRIARCH"
          ],
          [
           "UPTOWN GIRL"
          ],
          [
           "CARELESS PEOPLE"
          ],
          [
           "WHEN THE GOING WAS GOOD"
          ],
          [
           "LORNE"
          ],
          [
           "THE HOUSE OF MY MOTHER"
          ],
          [
           "THE JFK CONSPIRACY"
          ],
          [
           "BROOKE SHIELDS IS NOT ALLOWED TO GET OLD"
          ],
          [
           "MELANIA"
          ],
          [
           "CHER: THE MEMOIR, PART ONE"
          ],
          [
           "BE READY WHEN THE LUCK HAPPENS"
          ],
          [
           "MELANIA"
          ],
          [
           "WAR"
          ],
          [
           "BE READY WHEN THE LUCK HAPPENS"
          ],
          [
           "BLACK SATURDAY"
          ],
          [
           "AT WAR WITH OURSELVES"
          ],
          [
           "ON CALL"
          ],
          [
           "THE WAR ON WARRIORS"
          ],
          [
           "LOVE & WHISKEY"
          ],
          [
           "YOU NEVER KNOW"
          ],
          [
           "THE WIDE WIDE SEA"
          ],
          [
           "I'M GLAD MY MOM DIED"
          ],
          [
           "THE HOUSE OF HIDDEN MEANINGS"
          ],
          [
           "OATH AND HONOR"
          ],
          [
           "OATH AND HONOR"
          ],
          [
           "THE WOMAN IN ME"
          ],
          [
           "THE WOMAN IN ME"
          ],
          [
           "FRIENDS, LOVERS, AND THE BIG TERRIBLE THING"
          ],
          [
           "MY NAME IS BARBRA"
          ],
          [
           "AMERICAN PROMETHEUS"
          ],
          [
           "I'M GLAD MY MOM DIED"
          ],
          [
           "THE LIGHT WE CARRY"
          ],
          [
           "GREENLIGHTS"
          ],
          [
           "SAVED"
          ],
          [
           "SPARE"
          ],
          [
           "I'M GLAD MY MOM DIED"
          ],
          [
           "SPARE"
          ],
          [
           "I'M GLAD MY MOM DIED"
          ],
          [
           "SPARE"
          ],
          [
           "THE LIGHT WE CARRY"
          ],
          [
           "I'M GLAD MY MOM DIED"
          ],
          [
           "THE NAZI CONSPIRACY"
          ],
          [
           "THE LIGHT WE CARRY"
          ],
          [
           "I'M GLAD MY MOM DIED"
          ],
          [
           "FRIENDS, LOVERS, AND THE BIG TERRIBLE THING"
          ],
          [
           "SURRENDER"
          ],
          [
           "FRIENDS, LOVERS, AND THE BIG TERRIBLE THING"
          ],
          [
           "SURRENDER"
          ],
          [
           "I'M GLAD MY MOM DIED"
          ],
          [
           "CINEMA SPECULATION"
          ],
          [
           "I'M GLAD MY MOM DIED"
          ],
          [
           "LIVE WIRE"
          ],
          [
           "KILLING THE LEGENDS"
          ],
          [
           "I'M GLAD MY MOM DIED"
          ],
          [
           "BREAKING HISTORY"
          ],
          [
           "DIANA, WILLIAM, AND HARRY"
          ],
          [
           "PATH LIT BY LIGHTNING"
          ],
          [
           "DIRTBAG, MASSACHUSETTS"
          ],
          [
           "FINDING ME"
          ],
          [
           "I'D LIKE TO PLAY ALONE, PLEASE"
          ],
          [
           "JAMES PATTERSON"
          ],
          [
           "FINDING ME"
          ],
          [
           "LILY'S PROMISE"
          ],
          [
           "COMEDY COMEDY COMEDY DRAMA"
          ],
          [
           "THE BEAUTY OF DUSK"
          ],
          [
           "ENOUGH ALREADY"
          ],
          [
           "ALL AMERICAN CHRISTMAS"
          ],
          [
           "WILL"
          ],
          [
           "TO RESCUE THE REPUBLIC"
          ],
          [
           "THE STORYTELLER"
          ],
          [
           "THE BOYS"
          ],
          [
           "PERIL"
          ],
          [
           "BEAUTIFUL COUNTRY"
          ],
          [
           "THIS BRIGHT FUTURE"
          ],
          [
           "HERE, RIGHT MATTERS"
          ],
          [
           "(RE)BORN IN THE USA"
          ],
          [
           "UNTAMED"
          ],
          [
           "THE CODE BREAKER"
          ],
          [
           "GREENLIGHTS"
          ],
          [
           "WALK IN MY COMBAT BOOTS"
          ],
          [
           "JUST AS I AM"
          ],
          [
           "A PROMISED LAND"
          ],
          [
           "FOUR HUNDRED SOULS"
          ],
          [
           "A PROMISED LAND"
          ],
          [
           "UNTAMED"
          ],
          [
           "GREENLIGHTS"
          ],
          [
           "EDUCATED"
          ],
          [
           "A PROMISED LAND"
          ],
          [
           "GREENLIGHTS"
          ],
          [
           "BECOMING"
          ],
          [
           "UNTAMED"
          ],
          [
           "GREENLIGHTS"
          ],
          [
           "UNTAMED"
          ],
          [
           "GROUP"
          ],
          [
           "RAGE"
          ],
          [
           "MY OWN WORDS"
          ],
          [
           "UNTAMED"
          ],
          [
           "TOO MUCH AND NEVER ENOUGH"
          ],
          [
           "TOO MUCH AND NEVER ENOUGH"
          ],
          [
           "UNTAMED"
          ],
          [
           "UNTAMED"
          ],
          [
           "BECOMING"
          ],
          [
           "EDUCATED"
          ],
          [
           "UNTAMED"
          ],
          [
           "MORE MYSELF"
          ],
          [
           "THE FIRST TIME"
          ],
          [
           "EDUCATED"
          ],
          [
           "BECOMING"
          ],
          [
           "ME"
          ],
          [
           "FINDING CHIKA"
          ],
          [
           "THE UNITED STATES OF TRUMP"
          ],
          [
           "EDUCATED"
          ],
          [
           "EDUCATED"
          ],
          [
           "BECOMING"
          ],
          [
           "EDUCATED"
          ],
          [
           "BECOMING"
          ],
          [
           "EDUCATED"
          ],
          [
           "BECOMING"
          ],
          [
           "HOWARD STERN COMES AGAIN"
          ],
          [
           "EDUCATED"
          ],
          [
           "BECOMING"
          ],
          [
           "EDUCATED"
          ],
          [
           "LIFE WILL BE THE DEATH OF ME"
          ],
          [
           "BECOMING"
          ],
          [
           "EDUCATED"
          ],
          [
           "BORN A CRIME"
          ],
          [
           "BECOMING"
          ],
          [
           "EDUCATED"
          ],
          [
           "BECOMING"
          ],
          [
           "EDUCATED"
          ],
          [
           "BECOMING"
          ],
          [
           "EDUCATED"
          ],
          [
           "EDUCATED"
          ],
          [
           "IN PIECES"
          ],
          [
           "EDUCATED"
          ],
          [
           "EDUCATED"
          ],
          [
           "KITCHEN CONFIDENTIAL"
          ],
          [
           "TIGER WOODS"
          ],
          [
           "EDUCATED"
          ],
          [
           "PROMISE ME, DAD"
          ],
          [
           "GRANT"
          ],
          [
           "BOBBY KENNEDY"
          ],
          [
           "GRANT"
          ],
          [
           "WE WERE EIGHT YEARS IN POWER"
          ],
          [
           "WHAT HAPPENED"
          ],
          [
           "THE DANGEROUS CASE OF DONALD TRUMP"
          ],
          [
           "PORTRAITS OF COURAGE"
          ],
          [
           "THREE DAYS IN JANUARY"
          ],
          [
           "THE MAGNOLIA STORY"
          ],
          [
           "WISHFUL DRINKING"
          ],
          [
           "SETTLE FOR MORE"
          ],
          [
           "THE MAGNOLIA STORY"
          ],
          [
           "OUR REVOLUTION"
          ],
          [
           "THE MAGNOLIA STORY"
          ],
          [
           "BORN TO RUN"
          ],
          [
           "BUFFERING"
          ],
          [
           "LOVE WARRIOR"
          ],
          [
           "BETWEEN BREATHS"
          ],
          [
           "THE GIRL WITH THE LOWER BACK TATTOO"
          ],
          [
           "WHEN BREATH BECOMES AIR"
          ],
          [
           "ALEXANDER HAMILTON"
          ],
          [
           "WHEN BREATH BECOMES AIR"
          ],
          [
           "BILL O'REILLY'S LEGENDS AND LIES: THE PATRIOTS"
          ],
          [
           "ESCAPE"
          ],
          [
           "BILL O'REILLY'S LEGENDS AND LIES: THE PATRIOTS"
          ],
          [
           "ALEXANDER HAMILTON"
          ],
          [
           "WHEN BREATH BECOMES AIR"
          ],
          [
           "THE RAINBOW COMES AND GOES"
          ],
          [
           "WHEN BREATH BECOMES AIR"
          ],
          [
           "SHOE DOG"
          ],
          [
           "ALEXANDER HAMILTON"
          ],
          [
           "WHEN BREATH BECOMES AIR"
          ],
          [
           "MIRACLES FROM HEAVEN"
          ],
          [
           "WHEN BREATH BECOMES AIR"
          ],
          [
           "MIRACLES FROM HEAVEN"
          ],
          [
           "WHEN BREATH BECOMES AIR"
          ],
          [
           "BETWEEN THE WORLD AND ME"
          ],
          [
           "KILLING REAGAN"
          ],
          [
           "THOMAS JEFFERSON AND THE TRIPOLI PIRATES"
          ],
          [
           "HUMANS OF NEW YORK: STORIES"
          ],
          [
           "BETWEEN THE WORLD AND ME"
          ],
          [
           "TROUBLEMAKER"
          ],
          [
           "KILLING REAGAN"
          ],
          [
           "THOMAS JEFFERSON AND THE TRIPOLI PIRATES"
          ],
          [
           "KILLING REAGAN"
          ],
          [
           "WHY NOT ME?"
          ],
          [
           "FURIOUSLY HAPPY"
          ],
          [
           "BETWEEN THE WORLD AND ME"
          ],
          [
           "BETWEEN THE WORLD AND ME"
          ],
          [
           "BETWEEN THE WORLD AND ME"
          ],
          [
           "THE WRIGHT BROTHERS"
          ],
          [
           "DOWN THE RABBIT HOLE"
          ],
          [
           "THE WRIGHT BROTHERS"
          ],
          [
           "BILL O'REILLY'S LEGENDS AND LIES"
          ],
          [
           "THE WRIGHT BROTHERS"
          ],
          [
           "AND THE GOOD NEWS IS ..."
          ],
          [
           "LUCKY LIFE INTERRUPTED"
          ],
          [
           "BILL O'REILLY'S LEGENDS AND LIES"
          ],
          [
           "AMERICAN SNIPER"
          ],
          [
           "BILL O'REILLY'S LEGENDS AND LIES"
          ],
          [
           "AMERICAN SNIPER"
          ],
          [
           "UNBROKEN"
          ],
          [
           "WILD"
          ],
          [
           "UNBROKEN"
          ],
          [
           "AMERICAN SNIPER"
          ],
          [
           "WILD"
          ],
          [
           "41"
          ],
          [
           "UNBROKEN"
          ],
          [
           "41"
          ],
          [
           "UNBROKEN"
          ],
          [
           "41"
          ],
          [
           "UNBROKEN"
          ],
          [
           "41"
          ],
          [
           "UNBROKEN"
          ],
          [
           "41"
          ],
          [
           "UNBROKEN"
          ],
          [
           "41"
          ],
          [
           "UNBROKEN"
          ],
          [
           "41"
          ],
          [
           "UNBROKEN"
          ],
          [
           "41"
          ],
          [
           "UNBROKEN"
          ],
          [
           "41"
          ],
          [
           "UNBROKEN"
          ],
          [
           "41"
          ],
          [
           "UNBROKEN"
          ]
         ],
         "hovertemplate": "category=biography & autobiography<br>published_date=%{x}<br>rank=%{y}<br>title=%{customdata[0]}<extra></extra>",
         "legendgroup": "biography & autobiography",
         "marker": {
          "color": "#00cc96",
          "opacity": 1,
          "size": 10,
          "symbol": "circle"
         },
         "mode": "markers",
         "name": "biography & autobiography",
         "orientation": "v",
         "showlegend": true,
         "type": "scatter",
         "x": [
          "2025-06-22",
          "2025-05-18",
          "2025-05-18",
          "2025-05-18",
          "2025-04-13",
          "2025-04-13",
          "2025-03-09",
          "2025-02-02",
          "2025-02-02",
          "2025-02-02",
          "2024-12-29",
          "2024-12-29",
          "2024-12-29",
          "2024-11-24",
          "2024-11-24",
          "2024-10-20",
          "2024-10-20",
          "2024-09-15",
          "2024-07-07",
          "2024-07-07",
          "2024-07-07",
          "2024-06-02",
          "2024-04-28",
          "2024-04-28",
          "2024-03-24",
          "2024-02-18",
          "2024-01-14",
          "2024-01-14",
          "2023-12-10",
          "2023-12-10",
          "2023-12-10",
          "2023-08-27",
          "2023-06-18",
          "2023-05-14",
          "2023-05-14",
          "2023-04-09",
          "2023-04-09",
          "2023-04-09",
          "2023-03-05",
          "2023-03-05",
          "2023-01-29",
          "2023-01-29",
          "2023-01-29",
          "2023-01-29",
          "2022-12-25",
          "2022-12-25",
          "2022-12-25",
          "2022-12-25",
          "2022-11-20",
          "2022-11-20",
          "2022-11-20",
          "2022-11-20",
          "2022-10-16",
          "2022-10-16",
          "2022-10-16",
          "2022-09-11",
          "2022-09-11",
          "2022-09-11",
          "2022-09-11",
          "2022-08-07",
          "2022-08-07",
          "2022-07-03",
          "2022-07-03",
          "2022-05-29",
          "2022-05-29",
          "2022-03-20",
          "2022-03-20",
          "2022-02-13",
          "2021-12-05",
          "2021-12-05",
          "2021-10-31",
          "2021-10-31",
          "2021-10-31",
          "2021-10-31",
          "2021-09-26",
          "2021-09-26",
          "2021-08-22",
          "2021-07-18",
          "2021-07-18",
          "2021-04-04",
          "2021-04-04",
          "2021-02-28",
          "2021-02-28",
          "2021-02-28",
          "2021-02-28",
          "2021-01-24",
          "2021-01-24",
          "2021-01-24",
          "2021-01-24",
          "2020-12-20",
          "2020-12-20",
          "2020-12-20",
          "2020-12-20",
          "2020-11-15",
          "2020-11-15",
          "2020-11-15",
          "2020-10-11",
          "2020-10-11",
          "2020-09-06",
          "2020-09-06",
          "2020-08-02",
          "2020-08-02",
          "2020-05-24",
          "2020-05-24",
          "2020-05-24",
          "2020-04-19",
          "2020-04-19",
          "2020-04-19",
          "2020-01-05",
          "2020-01-05",
          "2020-01-05",
          "2019-12-01",
          "2019-10-27",
          "2019-10-27",
          "2019-09-22",
          "2019-09-22",
          "2019-08-18",
          "2019-08-18",
          "2019-07-14",
          "2019-07-14",
          "2019-06-09",
          "2019-06-09",
          "2019-05-05",
          "2019-05-05",
          "2019-05-05",
          "2019-03-31",
          "2019-03-31",
          "2019-03-31",
          "2019-02-24",
          "2019-02-24",
          "2019-01-20",
          "2019-01-20",
          "2018-12-16",
          "2018-12-16",
          "2018-11-11",
          "2018-10-07",
          "2018-10-07",
          "2018-07-29",
          "2018-07-29",
          "2018-04-15",
          "2018-03-11",
          "2017-12-31",
          "2017-12-31",
          "2017-11-26",
          "2017-11-26",
          "2017-10-22",
          "2017-10-22",
          "2017-10-22",
          "2017-03-26",
          "2017-02-19",
          "2017-02-19",
          "2017-01-15",
          "2016-12-11",
          "2016-12-11",
          "2016-12-11",
          "2016-11-06",
          "2016-11-06",
          "2016-11-06",
          "2016-10-02",
          "2016-10-02",
          "2016-10-02",
          "2016-08-28",
          "2016-07-24",
          "2016-07-24",
          "2016-07-24",
          "2016-07-24",
          "2016-06-19",
          "2016-06-19",
          "2016-06-19",
          "2016-05-15",
          "2016-05-15",
          "2016-05-15",
          "2016-05-15",
          "2016-04-10",
          "2016-04-10",
          "2016-04-10",
          "2016-04-10",
          "2016-01-31",
          "2016-01-31",
          "2015-12-27",
          "2015-12-27",
          "2015-12-27",
          "2015-12-27",
          "2015-11-22",
          "2015-11-22",
          "2015-11-22",
          "2015-10-18",
          "2015-10-18",
          "2015-10-18",
          "2015-10-18",
          "2015-09-13",
          "2015-08-09",
          "2015-08-09",
          "2015-08-09",
          "2015-07-05",
          "2015-07-05",
          "2015-05-31",
          "2015-05-31",
          "2015-05-31",
          "2015-04-26",
          "2015-04-26",
          "2015-04-26",
          "2015-04-26",
          "2015-02-15",
          "2015-02-15",
          "2015-01-11",
          "2015-01-11",
          "2015-01-11",
          "2014-12-07",
          "2014-12-07",
          "2014-12-07",
          "2014-12-07",
          "2014-12-07",
          "2014-12-07",
          "2014-12-07",
          "2014-12-07",
          "2014-12-07",
          "2014-12-07",
          "2014-12-07",
          "2014-12-07",
          "2014-12-07",
          "2014-12-07",
          "2014-12-07",
          "2014-12-07",
          "2014-12-07",
          "2014-12-07",
          "2014-12-07",
          "2014-12-07"
         ],
         "xaxis": "x",
         "y": {
          "bdata": "AwIDBAIFBAEDBQEDBAEEAQQCAQQFBAMEAQUCBAECBAEFAwQCAwUBBAECAwUBAgMFAQIEBQECAwECBAUCBQIDAgQDBQUCBAIDBAUEBQIDBQIDAQIEBQECAwUBAgMFAQIEAQIBBQEFAQIFAgQFAQIEBQQFAgMBAwEDAgUBAwQBAgQBAgECAQIEAgQBAgUBAwQEBQIDBAEEBQMCAwQBAwUCAwQCAgMEBQECAwEDBAUBAgECAQUBAgMEAQIDAQIDBQQBBAUBBQECAwMFAwUCAwECAwECAQIBAgECAQIBAgECAQIBAgEC",
          "dtype": "i1"
         },
         "yaxis": "y"
        },
        {
         "customdata": [
          [
           "THIS DOG WILL CHANGE YOUR LIFE"
          ]
         ],
         "hovertemplate": "category=pets<br>published_date=%{x}<br>rank=%{y}<br>title=%{customdata[0]}<extra></extra>",
         "legendgroup": "pets",
         "marker": {
          "color": "#ab63fa",
          "opacity": 1,
          "size": 10,
          "symbol": "circle"
         },
         "mode": "markers",
         "name": "pets",
         "orientation": "v",
         "showlegend": true,
         "type": "scatter",
         "x": [
          "2025-06-22"
         ],
         "xaxis": "x",
         "y": {
          "bdata": "BA==",
          "dtype": "i1"
         },
         "yaxis": "y"
        },
        {
         "customdata": [
          [
           "TRUMP'S TRIUMPH"
          ],
          [
           "THE FATE OF THE DAY"
          ],
          [
           "AUTOCRACY, INC."
          ],
          [
           "THE DEMON OF UNREST"
          ],
          [
           "THE DEMON OF UNREST"
          ],
          [
           "THE SITUATION ROOM"
          ],
          [
           "THE DEMON OF UNREST"
          ],
          [
           "BLOOD MONEY"
          ],
          [
           "KILLING THE KILLERS"
          ],
          [
           "KILLING THE KILLERS"
          ],
          [
           "THE 1619 PROJECT"
          ],
          [
           "THE 1619 PROJECT"
          ],
          [
           "THE 1619 PROJECT"
          ],
          [
           "COUNTDOWN BIN LADEN"
          ],
          [
           "KILLING THE MOB"
          ],
          [
           "KILLING THE MOB"
          ],
          [
           "THIS IS THE FIRE"
          ],
          [
           "KILLING CRAZY HORSE"
          ],
          [
           "KILLING CRAZY HORSE"
          ],
          [
           "COUNTDOWN 1945"
          ],
          [
           "THE SPLENDID AND THE VILE"
          ],
          [
           "THE SPLENDID AND THE VILE"
          ],
          [
           "THE SPLENDID AND THE VILE"
          ],
          [
           "UNKNOWN VALOR"
          ],
          [
           "SAM HOUSTON AND THE ALAMO AVENGERS"
          ],
          [
           "SAM HOUSTON AND THE ALAMO AVENGERS"
          ],
          [
           "THE PIONEERS"
          ],
          [
           "THREE WOMEN"
          ],
          [
           "THE PIONEERS"
          ],
          [
           "THE PIONEERS"
          ],
          [
           "THE PIONEERS"
          ],
          [
           "SEA STORIES"
          ],
          [
           "THE FIRST CONSPIRACY"
          ],
          [
           "KILLING THE SS"
          ],
          [
           "KILLING THE SS"
          ],
          [
           "LEADERSHIP"
          ],
          [
           "THESE TRUTHS"
          ],
          [
           "HORSE SOLDIERS"
          ],
          [
           "ANDREW JACKSON AND THE MIRACLE OF NEW ORLEANS"
          ],
          [
           "KILLING ENGLAND"
          ],
          [
           "HIDDEN FIGURES"
          ],
          [
           "KILLING THE RISING SUN"
          ],
          [
           "THE ZOOKEEPER’S WIFE"
          ],
          [
           "HIDDEN FIGURES"
          ],
          [
           "KILLING THE RISING SUN"
          ],
          [
           "KILLING THE RISING SUN"
          ],
          [
           "KILLING THE RISING SUN"
          ],
          [
           "KILLING THE RISING SUN"
          ],
          [
           "KILLING THE RISING SUN"
          ],
          [
           "THE GENE"
          ],
          [
           "DEAD WAKE"
          ],
          [
           "FROZEN IN TIME"
          ],
          [
           "DEAD WAKE"
          ],
          [
           "FROZEN IN TIME"
          ],
          [
           "13 HOURS"
          ],
          [
           "THE RESIDENCE"
          ],
          [
           "DEAD WAKE"
          ],
          [
           "THE RESIDENCE"
          ],
          [
           "DEAD WAKE"
          ],
          [
           "THE RESIDENCE"
          ],
          [
           "DEAD WAKE"
          ],
          [
           "KILLING PATTON"
          ],
          [
           "KILLING PATTON"
          ],
          [
           "KILLING PATTON"
          ],
          [
           "KILLING PATTON"
          ],
          [
           "KILLING PATTON"
          ],
          [
           "KILLING PATTON"
          ],
          [
           "KILLING PATTON"
          ],
          [
           "KILLING PATTON"
          ],
          [
           "KILLING PATTON"
          ],
          [
           "KILLING PATTON"
          ],
          [
           "KILLING PATTON"
          ]
         ],
         "hovertemplate": "category=history<br>published_date=%{x}<br>rank=%{y}<br>title=%{customdata[0]}<extra></extra>",
         "legendgroup": "history",
         "marker": {
          "color": "#FFA15A",
          "opacity": 1,
          "size": 10,
          "symbol": "circle"
         },
         "mode": "markers",
         "name": "history",
         "orientation": "v",
         "showlegend": true,
         "type": "scatter",
         "x": [
          "2025-06-22",
          "2025-05-18",
          "2024-08-11",
          "2024-08-11",
          "2024-07-07",
          "2024-06-02",
          "2024-06-02",
          "2024-03-24",
          "2022-07-03",
          "2022-05-29",
          "2022-03-20",
          "2022-02-13",
          "2021-12-05",
          "2021-09-26",
          "2021-07-18",
          "2021-06-13",
          "2021-04-04",
          "2020-11-15",
          "2020-10-11",
          "2020-06-28",
          "2020-05-24",
          "2020-04-19",
          "2020-03-15",
          "2020-03-15",
          "2020-01-05",
          "2019-12-01",
          "2019-09-22",
          "2019-08-18",
          "2019-08-18",
          "2019-07-14",
          "2019-06-09",
          "2019-06-09",
          "2019-02-24",
          "2018-12-16",
          "2018-11-11",
          "2018-10-07",
          "2018-10-07",
          "2018-02-04",
          "2017-12-31",
          "2017-10-22",
          "2017-03-26",
          "2017-03-26",
          "2017-03-26",
          "2017-02-19",
          "2017-02-19",
          "2017-01-15",
          "2016-12-11",
          "2016-11-06",
          "2016-10-02",
          "2016-06-19",
          "2016-04-10",
          "2016-04-10",
          "2016-04-10",
          "2016-04-10",
          "2016-01-31",
          "2016-01-31",
          "2015-07-05",
          "2015-04-26",
          "2015-04-26",
          "2015-04-26",
          "2015-04-26",
          "2015-01-11",
          "2014-12-07",
          "2014-12-07",
          "2014-12-07",
          "2014-12-07",
          "2014-12-07",
          "2014-12-07",
          "2014-12-07",
          "2014-12-07",
          "2014-12-07",
          "2014-12-07"
         ],
         "xaxis": "x",
         "y": {
          "bdata": "BQECBAMBAgIEAQQEAQIEAQEFBAUEAQEDBQMFAgUCAwQFAwEDBQMFAQMEBQEDBAECAQUEBQQFAgQEAQIBAgQDAwMDAwMDAwMD",
          "dtype": "i1"
         },
         "yaxis": "y"
        },
        {
         "customdata": [
          [
           "EVERYTHING IS TUBERCULOSIS"
          ],
          [
           "HILLBILLY ELEGY"
          ],
          [
           "THE MESSAGE"
          ],
          [
           "HILLBILLY ELEGY"
          ],
          [
           "HILLBILLY ELEGY"
          ],
          [
           "HILLBILLY ELEGY"
          ],
          [
           "POVERTY, BY AMERICA"
          ],
          [
           "CASTE"
          ],
          [
           "CASTE"
          ],
          [
           "CASTE"
          ],
          [
           "CASTE"
          ],
          [
           "CASTE"
          ],
          [
           "CASTE"
          ],
          [
           "WHITE FRAGILITY"
          ],
          [
           "WHITE FRAGILITY"
          ],
          [
           "TALKING TO STRANGERS"
          ],
          [
           "TALKING TO STRANGERS"
          ],
          [
           "TALKING TO STRANGERS"
          ],
          [
           "THE SECOND MOUNTAIN"
          ],
          [
           "HILLBILLY ELEGY"
          ],
          [
           "HILLBILLY ELEGY"
          ],
          [
           "HILLBILLY ELEGY"
          ],
          [
           "HILLBILLY ELEGY"
          ],
          [
           "HILLBILLY ELEGY"
          ],
          [
           "HILLBILLY ELEGY"
          ],
          [
           "HILLBILLY ELEGY"
          ]
         ],
         "hovertemplate": "category=social science<br>published_date=%{x}<br>rank=%{y}<br>title=%{customdata[0]}<extra></extra>",
         "legendgroup": "social science",
         "marker": {
          "color": "#19d3f3",
          "opacity": 1,
          "size": 10,
          "symbol": "circle"
         },
         "mode": "markers",
         "name": "social science",
         "orientation": "v",
         "showlegend": true,
         "type": "scatter",
         "x": [
          "2025-04-13",
          "2024-11-24",
          "2024-10-20",
          "2024-10-20",
          "2024-09-15",
          "2024-08-11",
          "2023-04-09",
          "2023-03-05",
          "2021-04-04",
          "2020-12-20",
          "2020-11-15",
          "2020-10-11",
          "2020-09-06",
          "2020-08-02",
          "2020-06-28",
          "2020-01-05",
          "2019-12-01",
          "2019-10-27",
          "2019-05-05",
          "2018-12-16",
          "2017-03-26",
          "2017-02-19",
          "2017-01-15",
          "2016-11-06",
          "2016-10-02",
          "2016-08-28"
         ],
         "xaxis": "x",
         "y": {
          "bdata": "AQMDBQMBAQUEBAMFAwIBAwICAgUCAgIEBQE=",
          "dtype": "i1"
         },
         "yaxis": "y"
        },
        {
         "customdata": [
          [
           "THE ANXIOUS GENERATION"
          ],
          [
           "THE ANXIOUS GENERATION"
          ],
          [
           "THE ANXIOUS GENERATION"
          ],
          [
           "THE ANXIOUS GENERATION"
          ],
          [
           "THE ANXIOUS GENERATION"
          ],
          [
           "THE ANXIOUS GENERATION"
          ],
          [
           "THE ANXIOUS GENERATION"
          ],
          [
           "WHAT HAPPENED TO YOU?"
          ],
          [
           "ENLIGHTENMENT NOW"
          ]
         ],
         "hovertemplate": "category=psychology<br>published_date=%{x}<br>rank=%{y}<br>title=%{customdata[0]}<extra></extra>",
         "legendgroup": "psychology",
         "marker": {
          "color": "#FF6692",
          "opacity": 1,
          "size": 10,
          "symbol": "circle"
         },
         "mode": "markers",
         "name": "psychology",
         "orientation": "v",
         "showlegend": true,
         "type": "scatter",
         "x": [
          "2025-04-13",
          "2025-02-02",
          "2024-09-15",
          "2024-08-11",
          "2024-07-07",
          "2024-06-02",
          "2024-04-28",
          "2021-06-13",
          "2018-03-11"
         ],
         "xaxis": "x",
         "y": {
          "bdata": "BAIBAwIDAgIE",
          "dtype": "i1"
         },
         "yaxis": "y"
        },
        {
         "customdata": [
          [
           "THE BODY KEEPS THE SCORE"
          ],
          [
           "THE BODY KEEPS THE SCORE"
          ],
          [
           "THE BODY KEEPS THE SCORE"
          ],
          [
           "THE BODY KEEPS THE SCORE"
          ],
          [
           "THE BODY KEEPS THE SCORE"
          ],
          [
           "THE BODY KEEPS THE SCORE"
          ],
          [
           "THE BODY KEEPS THE SCORE"
          ],
          [
           "THE BODY KEEPS THE SCORE"
          ],
          [
           "THE BODY KEEPS THE SCORE"
          ],
          [
           "THE BODY KEEPS THE SCORE"
          ],
          [
           "THE BODY KEEPS THE SCORE"
          ],
          [
           "THE BODY KEEPS THE SCORE"
          ],
          [
           "THE BODY KEEPS THE SCORE"
          ],
          [
           "THE BODY KEEPS THE SCORE"
          ],
          [
           "THE BODY KEEPS THE SCORE"
          ],
          [
           "THE BODY KEEPS THE SCORE"
          ],
          [
           "THE BODY KEEPS THE SCORE"
          ],
          [
           "THE BODY KEEPS THE SCORE"
          ],
          [
           "THE BODY KEEPS THE SCORE"
          ],
          [
           "THE BODY KEEPS THE SCORE"
          ],
          [
           "THE BODY KEEPS THE SCORE"
          ],
          [
           "THE BODY KEEPS THE SCORE"
          ],
          [
           "THE BODY KEEPS THE SCORE"
          ],
          [
           "THE BODY KEEPS THE SCORE"
          ],
          [
           "THE BODY KEEPS THE SCORE"
          ]
         ],
         "hovertemplate": "category=medical<br>published_date=%{x}<br>rank=%{y}<br>title=%{customdata[0]}<extra></extra>",
         "legendgroup": "medical",
         "marker": {
          "color": "#B6E880",
          "opacity": 1,
          "size": 10,
          "symbol": "circle"
         },
         "mode": "markers",
         "name": "medical",
         "orientation": "v",
         "showlegend": true,
         "type": "scatter",
         "x": [
          "2025-03-09",
          "2025-02-02",
          "2024-09-15",
          "2024-08-11",
          "2024-06-02",
          "2024-04-28",
          "2024-02-18",
          "2023-08-27",
          "2023-07-23",
          "2023-06-18",
          "2023-05-14",
          "2023-04-09",
          "2023-03-05",
          "2023-01-29",
          "2022-12-25",
          "2022-10-16",
          "2022-09-11",
          "2022-08-07",
          "2022-07-03",
          "2022-05-29",
          "2022-03-20",
          "2022-02-13",
          "2021-09-26",
          "2021-08-22",
          "2021-07-18"
         ],
         "xaxis": "x",
         "y": {
          "bdata": "BQQEBQUFAwUEBAUEAgQEBQMBBQUBAwMEAg==",
          "dtype": "i1"
         },
         "yaxis": "y"
        },
        {
         "customdata": [
          [
           "THE BACKYARD BIRD CHRONICLES"
          ]
         ],
         "hovertemplate": "category=nature<br>published_date=%{x}<br>rank=%{y}<br>title=%{customdata[0]}<extra></extra>",
         "legendgroup": "nature",
         "marker": {
          "color": "#FF97FF",
          "opacity": 1,
          "size": 10,
          "symbol": "circle"
         },
         "mode": "markers",
         "name": "nature",
         "orientation": "v",
         "showlegend": true,
         "type": "scatter",
         "x": [
          "2024-12-29"
         ],
         "xaxis": "x",
         "y": {
          "bdata": "Ag==",
          "dtype": "i1"
         },
         "yaxis": "y"
        },
        {
         "customdata": [
          [
           "FRAMED"
          ],
          [
           "FRAMED"
          ],
          [
           "THE WAGER"
          ],
          [
           "KILLERS OF THE FLOWER MOON"
          ],
          [
           "KILLERS OF THE FLOWER MOON"
          ],
          [
           "THE WAGER"
          ],
          [
           "THE WAGER"
          ],
          [
           "KILLERS OF THE FLOWER MOON"
          ],
          [
           "KILLERS OF THE FLOWER MOON"
          ],
          [
           "THE WAGER"
          ],
          [
           "KILLERS OF THE FLOWER MOON"
          ],
          [
           "THE WAGER"
          ],
          [
           "KILLERS OF THE FLOWER MOON"
          ],
          [
           "THE WAGER"
          ],
          [
           "THE WAGER"
          ],
          [
           "KILLERS OF THE FLOWER MOON"
          ],
          [
           "THE WAGER"
          ]
         ],
         "hovertemplate": "category=true crime<br>published_date=%{x}<br>rank=%{y}<br>title=%{customdata[0]}<extra></extra>",
         "legendgroup": "true crime",
         "marker": {
          "color": "#FECB52",
          "opacity": 1,
          "size": 10,
          "symbol": "circle"
         },
         "mode": "markers",
         "name": "true crime",
         "orientation": "v",
         "showlegend": true,
         "type": "scatter",
         "x": [
          "2024-12-29",
          "2024-11-24",
          "2024-03-24",
          "2024-03-24",
          "2024-02-18",
          "2024-02-18",
          "2024-01-14",
          "2024-01-14",
          "2023-12-10",
          "2023-12-10",
          "2023-08-27",
          "2023-08-27",
          "2023-07-23",
          "2023-07-23",
          "2023-06-18",
          "2023-06-18",
          "2023-05-14"
         ],
         "xaxis": "x",
         "y": {
          "bdata": "BQIDBQEEAQUDBQIEAQIBAgE=",
          "dtype": "i1"
         },
         "yaxis": "y"
        },
        {
         "customdata": [
          [
           "WHAT'S NEXT"
          ]
         ],
         "hovertemplate": "category=performing arts<br>published_date=%{x}<br>rank=%{y}<br>title=%{customdata[0]}<extra></extra>",
         "legendgroup": "performing arts",
         "marker": {
          "color": "#636efa",
          "opacity": 1,
          "size": 10,
          "symbol": "circle"
         },
         "mode": "markers",
         "name": "performing arts",
         "orientation": "v",
         "showlegend": true,
         "type": "scatter",
         "x": [
          "2024-09-15"
         ],
         "xaxis": "x",
         "y": {
          "bdata": "BQ==",
          "dtype": "i1"
         },
         "yaxis": "y"
        },
        {
         "customdata": [
          [
           "SOMEHOW"
          ]
         ],
         "hovertemplate": "category=body, mind & spirit<br>published_date=%{x}<br>rank=%{y}<br>title=%{customdata[0]}<extra></extra>",
         "legendgroup": "body, mind & spirit",
         "marker": {
          "color": "#EF553B",
          "opacity": 1,
          "size": 10,
          "symbol": "circle"
         },
         "mode": "markers",
         "name": "body, mind & spirit",
         "orientation": "v",
         "showlegend": true,
         "type": "scatter",
         "x": [
          "2024-04-28"
         ],
         "xaxis": "x",
         "y": {
          "bdata": "AQ==",
          "dtype": "i1"
         },
         "yaxis": "y"
        },
        {
         "customdata": [
          [
           "THE TRUMP INDICTMENTS"
          ],
          [
           "JUST MERCY"
          ],
          [
           "A MORE PERFECT UNION"
          ]
         ],
         "hovertemplate": "category=law<br>published_date=%{x}<br>rank=%{y}<br>title=%{customdata[0]}<extra></extra>",
         "legendgroup": "law",
         "marker": {
          "color": "#00cc96",
          "opacity": 1,
          "size": 10,
          "symbol": "circle"
         },
         "mode": "markers",
         "name": "law",
         "orientation": "v",
         "showlegend": true,
         "type": "scatter",
         "x": [
          "2024-03-24",
          "2020-09-06",
          "2015-11-22"
         ],
         "xaxis": "x",
         "y": {
          "bdata": "BAQF",
          "dtype": "i1"
         },
         "yaxis": "y"
        },
        {
         "customdata": [
          [
           "THE BOYS IN THE BOAT"
          ],
          [
           "THE BOYS IN THE BOAT"
          ],
          [
           "THE BOYS IN THE BOAT"
          ],
          [
           "THE BOYS IN THE BOAT"
          ],
          [
           "THE BOYS IN THE BOAT"
          ],
          [
           "THE BOYS IN THE BOAT"
          ],
          [
           "THE BOYS IN THE BOAT"
          ],
          [
           "THE BOYS IN THE BOAT"
          ],
          [
           "THE BOYS IN THE BOAT"
          ],
          [
           "THE BOYS IN THE BOAT"
          ],
          [
           "THE BOYS IN THE BOAT"
          ],
          [
           "THE BOYS IN THE BOAT"
          ],
          [
           "THE BOYS IN THE BOAT"
          ],
          [
           "THE BOYS IN THE BOAT"
          ],
          [
           "THE BOYS IN THE BOAT"
          ],
          [
           "THE BOYS IN THE BOAT"
          ],
          [
           "THE BOYS IN THE BOAT"
          ],
          [
           "THE BOYS IN THE BOAT"
          ],
          [
           "THE BOYS IN THE BOAT"
          ],
          [
           "THE BOYS IN THE BOAT"
          ],
          [
           "THE BOYS IN THE BOAT"
          ]
         ],
         "hovertemplate": "category=sports & recreation<br>published_date=%{x}<br>rank=%{y}<br>title=%{customdata[0]}<extra></extra>",
         "legendgroup": "sports & recreation",
         "marker": {
          "color": "#ab63fa",
          "opacity": 1,
          "size": 10,
          "symbol": "circle"
         },
         "mode": "markers",
         "name": "sports & recreation",
         "orientation": "v",
         "showlegend": true,
         "type": "scatter",
         "x": [
          "2024-02-18",
          "2024-01-14",
          "2015-12-27",
          "2015-10-18",
          "2015-09-13",
          "2015-08-09",
          "2015-07-05",
          "2015-05-31",
          "2015-04-26",
          "2015-04-26",
          "2015-02-15",
          "2014-12-07",
          "2014-12-07",
          "2014-12-07",
          "2014-12-07",
          "2014-12-07",
          "2014-12-07",
          "2014-12-07",
          "2014-12-07",
          "2014-12-07",
          "2014-12-07"
         ],
         "xaxis": "x",
         "y": {
          "bdata": "AgMFBAICAwQEBAQFBQUFBQUFBQUF",
          "dtype": "i1"
         },
         "yaxis": "y"
        },
        {
         "customdata": [
          [
           "OUTLIVE"
          ],
          [
           "OUTLIVE"
          ],
          [
           "OUTLIVE"
          ],
          [
           "OUTLIVE"
          ],
          [
           "THE REAL ANTHONY FAUCI"
          ],
          [
           "THE SLEEP REVOLUTION"
          ]
         ],
         "hovertemplate": "category=health & fitness<br>published_date=%{x}<br>rank=%{y}<br>title=%{customdata[0]}<extra></extra>",
         "legendgroup": "health & fitness",
         "marker": {
          "color": "#FFA15A",
          "opacity": 1,
          "size": 10,
          "symbol": "circle"
         },
         "mode": "markers",
         "name": "health & fitness",
         "orientation": "v",
         "showlegend": true,
         "type": "scatter",
         "x": [
          "2023-08-27",
          "2023-07-23",
          "2023-06-18",
          "2023-05-14",
          "2021-12-05",
          "2016-05-15"
         ],
         "xaxis": "x",
         "y": {
          "bdata": "AwMDAgUC",
          "dtype": "i1"
         },
         "yaxis": "y"
        },
        {
         "customdata": [
          [
           "UNBROKEN BONDS OF BATTLE"
          ]
         ],
         "hovertemplate": "category=soldiers<br>published_date=%{x}<br>rank=%{y}<br>title=%{customdata[0]}<extra></extra>",
         "legendgroup": "soldiers",
         "marker": {
          "color": "#19d3f3",
          "opacity": 1,
          "size": 10,
          "symbol": "circle"
         },
         "mode": "markers",
         "name": "soldiers",
         "orientation": "v",
         "showlegend": true,
         "type": "scatter",
         "x": [
          "2023-07-23"
         ],
         "xaxis": "x",
         "y": {
          "bdata": "BQ==",
          "dtype": "i1"
         },
         "yaxis": "y"
        },
        {
         "customdata": [
          [
           "THE PHILOSOPHY OF MODERN SONG"
          ],
          [
           "OPEN BOOK"
          ]
         ],
         "hovertemplate": "category=music<br>published_date=%{x}<br>rank=%{y}<br>title=%{customdata[0]}<extra></extra>",
         "legendgroup": "music",
         "marker": {
          "color": "#FF6692",
          "opacity": 1,
          "size": 10,
          "symbol": "circle"
         },
         "mode": "markers",
         "name": "music",
         "orientation": "v",
         "showlegend": true,
         "type": "scatter",
         "x": [
          "2022-11-20",
          "2020-03-15"
         ],
         "xaxis": "x",
         "y": {
          "bdata": "AwU=",
          "dtype": "i1"
         },
         "yaxis": "y"
        },
        {
         "customdata": [
          [
           "STARRY MESSENGER"
          ],
          [
           "HOW TO AVOID A CLIMATE DISASTER"
          ],
          [
           "PLAGUE OF CORRUPTION"
          ],
          [
           "SAPIENS"
          ],
          [
           "MAMA'S LAST HUG"
          ],
          [
           "SAPIENS"
          ],
          [
           "SAPIENS"
          ],
          [
           "ASTROPHYSICS FOR PEOPLE IN A HURRY"
          ],
          [
           "ASTROPHYSICS FOR PEOPLE IN A HURRY"
          ],
          [
           "ASTROPHYSICS FOR PEOPLE IN A HURRY"
          ],
          [
           "THE UNDOING PROJECT"
          ],
          [
           "SEVEN BRIEF LESSONS ON PHYSICS"
          ],
          [
           "SEVEN BRIEF LESSONS ON PHYSICS"
          ]
         ],
         "hovertemplate": "category=science<br>published_date=%{x}<br>rank=%{y}<br>title=%{customdata[0]}<extra></extra>",
         "legendgroup": "science",
         "marker": {
          "color": "#B6E880",
          "opacity": 1,
          "size": 10,
          "symbol": "circle"
         },
         "mode": "markers",
         "name": "science",
         "orientation": "v",
         "showlegend": true,
         "type": "scatter",
         "x": [
          "2022-10-16",
          "2021-04-04",
          "2020-05-24",
          "2019-05-05",
          "2019-03-31",
          "2019-02-24",
          "2019-01-20",
          "2018-03-11",
          "2018-02-04",
          "2017-10-22",
          "2017-01-15",
          "2016-04-10",
          "2016-04-10"
         ],
         "xaxis": "x",
         "y": {
          "bdata": "BAUDBQUEBAUEBQUDAw==",
          "dtype": "i1"
         },
         "yaxis": "y"
        },
        {
         "customdata": [
          [
           "HAPPY-GO-LUCKY"
          ],
          [
           "BEING MORTAL"
          ]
         ],
         "hovertemplate": "category=family & relationships<br>published_date=%{x}<br>rank=%{y}<br>title=%{customdata[0]}<extra></extra>",
         "legendgroup": "family & relationships",
         "marker": {
          "color": "#FF97FF",
          "opacity": 1,
          "size": 10,
          "symbol": "circle"
         },
         "mode": "markers",
         "name": "family & relationships",
         "orientation": "v",
         "showlegend": true,
         "type": "scatter",
         "x": [
          "2022-08-07",
          "2015-02-15"
         ],
         "xaxis": "x",
         "y": {
          "bdata": "BAU=",
          "dtype": "i1"
         },
         "yaxis": "y"
        },
        {
         "customdata": [
          [
           "BATTLE FOR THE AMERICAN MIND"
          ]
         ],
         "hovertemplate": "category=education<br>published_date=%{x}<br>rank=%{y}<br>title=%{customdata[0]}<extra></extra>",
         "legendgroup": "education",
         "marker": {
          "color": "#FECB52",
          "opacity": 1,
          "size": 10,
          "symbol": "circle"
         },
         "mode": "markers",
         "name": "education",
         "orientation": "v",
         "showlegend": true,
         "type": "scatter",
         "x": [
          "2022-07-03"
         ],
         "xaxis": "x",
         "y": {
          "bdata": "AQ==",
          "dtype": "i1"
         },
         "yaxis": "y"
        },
        {
         "customdata": [
          [
           "HOW TO BE PERFECT"
          ],
          [
           "CALYPSO"
          ],
          [
           "THE PRINCESS DIARIST"
          ],
          [
           "MODERN ROMANCE"
          ],
          [
           "MODERN ROMANCE"
          ],
          [
           "MODERN ROMANCE"
          ]
         ],
         "hovertemplate": "category=humor<br>published_date=%{x}<br>rank=%{y}<br>title=%{customdata[0]}<extra></extra>",
         "legendgroup": "humor",
         "marker": {
          "color": "#636efa",
          "opacity": 1,
          "size": 10,
          "symbol": "circle"
         },
         "mode": "markers",
         "name": "humor",
         "orientation": "v",
         "showlegend": true,
         "type": "scatter",
         "x": [
          "2022-02-13",
          "2018-07-29",
          "2017-01-15",
          "2015-09-13",
          "2015-08-09",
          "2015-07-05"
         ],
         "xaxis": "x",
         "y": {
          "bdata": "AgMBBQMC",
          "dtype": "i1"
         },
         "yaxis": "y"
        },
        {
         "customdata": [
          [
           "THE ANTHROPOCENE REVIEWED"
          ]
         ],
         "hovertemplate": "category=literary collections<br>published_date=%{x}<br>rank=%{y}<br>title=%{customdata[0]}<extra></extra>",
         "legendgroup": "literary collections",
         "marker": {
          "color": "#EF553B",
          "opacity": 1,
          "size": 10,
          "symbol": "circle"
         },
         "mode": "markers",
         "name": "literary collections",
         "orientation": "v",
         "showlegend": true,
         "type": "scatter",
         "x": [
          "2021-06-13"
         ],
         "xaxis": "x",
         "y": {
          "bdata": "Aw==",
          "dtype": "i1"
         },
         "yaxis": "y"
        },
        {
         "customdata": [
          [
           "THE HOPE OF GLORY"
          ],
          [
           "THE NAME OF GOD IS MERCY"
          ]
         ],
         "hovertemplate": "category=religion<br>published_date=%{x}<br>rank=%{y}<br>title=%{customdata[0]}<extra></extra>",
         "legendgroup": "religion",
         "marker": {
          "color": "#00cc96",
          "opacity": 1,
          "size": 10,
          "symbol": "circle"
         },
         "mode": "markers",
         "name": "religion",
         "orientation": "v",
         "showlegend": true,
         "type": "scatter",
         "x": [
          "2020-03-15",
          "2016-01-31"
         ],
         "xaxis": "x",
         "y": {
          "bdata": "BAM=",
          "dtype": "i1"
         },
         "yaxis": "y"
        },
        {
         "customdata": [
          [
           "SHADE"
          ],
          [
           "OBAMA"
          ],
          [
           "OBAMA"
          ],
          [
           "OBAMA"
          ]
         ],
         "hovertemplate": "category=photography<br>published_date=%{x}<br>rank=%{y}<br>title=%{customdata[0]}<extra></extra>",
         "legendgroup": "photography",
         "marker": {
          "color": "#ab63fa",
          "opacity": 1,
          "size": 10,
          "symbol": "circle"
         },
         "mode": "markers",
         "name": "photography",
         "orientation": "v",
         "showlegend": true,
         "type": "scatter",
         "x": [
          "2018-12-16",
          "2018-03-11",
          "2017-12-31",
          "2017-11-26"
         ],
         "xaxis": "x",
         "y": {
          "bdata": "BAMCAQ==",
          "dtype": "i1"
         },
         "yaxis": "y"
        },
        {
         "customdata": [
          [
           "THIS IS ME"
          ],
          [
           "DEAR MADAM PRESIDENT"
          ]
         ],
         "hovertemplate": "category=self-help<br>published_date=%{x}<br>rank=%{y}<br>title=%{customdata[0]}<extra></extra>",
         "legendgroup": "self-help",
         "marker": {
          "color": "#FFA15A",
          "opacity": 1,
          "size": 10,
          "symbol": "circle"
         },
         "mode": "markers",
         "name": "self-help",
         "orientation": "v",
         "showlegend": true,
         "type": "scatter",
         "x": [
          "2018-04-15",
          "2018-04-15"
         ],
         "xaxis": "x",
         "y": {
          "bdata": "AQQ=",
          "dtype": "i1"
         },
         "yaxis": "y"
        },
        {
         "customdata": [
          [
           "LEONARDO DA VINCI"
          ],
          [
           "LEONARDO DA VINCI"
          ]
         ],
         "hovertemplate": "category=art<br>published_date=%{x}<br>rank=%{y}<br>title=%{customdata[0]}<extra></extra>",
         "legendgroup": "art",
         "marker": {
          "color": "#19d3f3",
          "opacity": 1,
          "size": 10,
          "symbol": "circle"
         },
         "mode": "markers",
         "name": "art",
         "orientation": "v",
         "showlegend": true,
         "type": "scatter",
         "x": [
          "2017-12-31",
          "2017-11-26"
         ],
         "xaxis": "x",
         "y": {
          "bdata": "AQI=",
          "dtype": "i1"
         },
         "yaxis": "y"
        },
        {
         "customdata": [
          [
           "THE BOYS IN THE BOAT"
          ]
         ],
         "hovertemplate": "category=olympic games (11th : 1936 : berlin, germany)<br>published_date=%{x}<br>rank=%{y}<br>title=%{customdata[0]}<extra></extra>",
         "legendgroup": "olympic games (11th : 1936 : berlin, germany)",
         "marker": {
          "color": "#FF6692",
          "opacity": 1,
          "size": 10,
          "symbol": "circle"
         },
         "mode": "markers",
         "name": "olympic games (11th : 1936 : berlin, germany)",
         "orientation": "v",
         "showlegend": true,
         "type": "scatter",
         "x": [
          "2016-08-28"
         ],
         "xaxis": "x",
         "y": {
          "bdata": "Aw==",
          "dtype": "i1"
         },
         "yaxis": "y"
        }
       ],
       "layout": {
        "legend": {
         "title": {
          "text": "category"
         },
         "tracegroupgap": 0
        },
        "margin": {
         "t": 60
        },
        "template": {
         "data": {
          "bar": [
           {
            "error_x": {
             "color": "#2a3f5f"
            },
            "error_y": {
             "color": "#2a3f5f"
            },
            "marker": {
             "line": {
              "color": "white",
              "width": 0.5
             },
             "pattern": {
              "fillmode": "overlay",
              "size": 10,
              "solidity": 0.2
             }
            },
            "type": "bar"
           }
          ],
          "barpolar": [
           {
            "marker": {
             "line": {
              "color": "white",
              "width": 0.5
             },
             "pattern": {
              "fillmode": "overlay",
              "size": 10,
              "solidity": 0.2
             }
            },
            "type": "barpolar"
           }
          ],
          "carpet": [
           {
            "aaxis": {
             "endlinecolor": "#2a3f5f",
             "gridcolor": "#C8D4E3",
             "linecolor": "#C8D4E3",
             "minorgridcolor": "#C8D4E3",
             "startlinecolor": "#2a3f5f"
            },
            "baxis": {
             "endlinecolor": "#2a3f5f",
             "gridcolor": "#C8D4E3",
             "linecolor": "#C8D4E3",
             "minorgridcolor": "#C8D4E3",
             "startlinecolor": "#2a3f5f"
            },
            "type": "carpet"
           }
          ],
          "choropleth": [
           {
            "colorbar": {
             "outlinewidth": 0,
             "ticks": ""
            },
            "type": "choropleth"
           }
          ],
          "contour": [
           {
            "colorbar": {
             "outlinewidth": 0,
             "ticks": ""
            },
            "colorscale": [
             [
              0,
              "#0d0887"
             ],
             [
              0.1111111111111111,
              "#46039f"
             ],
             [
              0.2222222222222222,
              "#7201a8"
             ],
             [
              0.3333333333333333,
              "#9c179e"
             ],
             [
              0.4444444444444444,
              "#bd3786"
             ],
             [
              0.5555555555555556,
              "#d8576b"
             ],
             [
              0.6666666666666666,
              "#ed7953"
             ],
             [
              0.7777777777777778,
              "#fb9f3a"
             ],
             [
              0.8888888888888888,
              "#fdca26"
             ],
             [
              1,
              "#f0f921"
             ]
            ],
            "type": "contour"
           }
          ],
          "contourcarpet": [
           {
            "colorbar": {
             "outlinewidth": 0,
             "ticks": ""
            },
            "type": "contourcarpet"
           }
          ],
          "heatmap": [
           {
            "colorbar": {
             "outlinewidth": 0,
             "ticks": ""
            },
            "colorscale": [
             [
              0,
              "#0d0887"
             ],
             [
              0.1111111111111111,
              "#46039f"
             ],
             [
              0.2222222222222222,
              "#7201a8"
             ],
             [
              0.3333333333333333,
              "#9c179e"
             ],
             [
              0.4444444444444444,
              "#bd3786"
             ],
             [
              0.5555555555555556,
              "#d8576b"
             ],
             [
              0.6666666666666666,
              "#ed7953"
             ],
             [
              0.7777777777777778,
              "#fb9f3a"
             ],
             [
              0.8888888888888888,
              "#fdca26"
             ],
             [
              1,
              "#f0f921"
             ]
            ],
            "type": "heatmap"
           }
          ],
          "histogram": [
           {
            "marker": {
             "pattern": {
              "fillmode": "overlay",
              "size": 10,
              "solidity": 0.2
             }
            },
            "type": "histogram"
           }
          ],
          "histogram2d": [
           {
            "colorbar": {
             "outlinewidth": 0,
             "ticks": ""
            },
            "colorscale": [
             [
              0,
              "#0d0887"
             ],
             [
              0.1111111111111111,
              "#46039f"
             ],
             [
              0.2222222222222222,
              "#7201a8"
             ],
             [
              0.3333333333333333,
              "#9c179e"
             ],
             [
              0.4444444444444444,
              "#bd3786"
             ],
             [
              0.5555555555555556,
              "#d8576b"
             ],
             [
              0.6666666666666666,
              "#ed7953"
             ],
             [
              0.7777777777777778,
              "#fb9f3a"
             ],
             [
              0.8888888888888888,
              "#fdca26"
             ],
             [
              1,
              "#f0f921"
             ]
            ],
            "type": "histogram2d"
           }
          ],
          "histogram2dcontour": [
           {
            "colorbar": {
             "outlinewidth": 0,
             "ticks": ""
            },
            "colorscale": [
             [
              0,
              "#0d0887"
             ],
             [
              0.1111111111111111,
              "#46039f"
             ],
             [
              0.2222222222222222,
              "#7201a8"
             ],
             [
              0.3333333333333333,
              "#9c179e"
             ],
             [
              0.4444444444444444,
              "#bd3786"
             ],
             [
              0.5555555555555556,
              "#d8576b"
             ],
             [
              0.6666666666666666,
              "#ed7953"
             ],
             [
              0.7777777777777778,
              "#fb9f3a"
             ],
             [
              0.8888888888888888,
              "#fdca26"
             ],
             [
              1,
              "#f0f921"
             ]
            ],
            "type": "histogram2dcontour"
           }
          ],
          "mesh3d": [
           {
            "colorbar": {
             "outlinewidth": 0,
             "ticks": ""
            },
            "type": "mesh3d"
           }
          ],
          "parcoords": [
           {
            "line": {
             "colorbar": {
              "outlinewidth": 0,
              "ticks": ""
             }
            },
            "type": "parcoords"
           }
          ],
          "pie": [
           {
            "automargin": true,
            "type": "pie"
           }
          ],
          "scatter": [
           {
            "fillpattern": {
             "fillmode": "overlay",
             "size": 10,
             "solidity": 0.2
            },
            "type": "scatter"
           }
          ],
          "scatter3d": [
           {
            "line": {
             "colorbar": {
              "outlinewidth": 0,
              "ticks": ""
             }
            },
            "marker": {
             "colorbar": {
              "outlinewidth": 0,
              "ticks": ""
             }
            },
            "type": "scatter3d"
           }
          ],
          "scattercarpet": [
           {
            "marker": {
             "colorbar": {
              "outlinewidth": 0,
              "ticks": ""
             }
            },
            "type": "scattercarpet"
           }
          ],
          "scattergeo": [
           {
            "marker": {
             "colorbar": {
              "outlinewidth": 0,
              "ticks": ""
             }
            },
            "type": "scattergeo"
           }
          ],
          "scattergl": [
           {
            "marker": {
             "colorbar": {
              "outlinewidth": 0,
              "ticks": ""
             }
            },
            "type": "scattergl"
           }
          ],
          "scattermap": [
           {
            "marker": {
             "colorbar": {
              "outlinewidth": 0,
              "ticks": ""
             }
            },
            "type": "scattermap"
           }
          ],
          "scattermapbox": [
           {
            "marker": {
             "colorbar": {
              "outlinewidth": 0,
              "ticks": ""
             }
            },
            "type": "scattermapbox"
           }
          ],
          "scatterpolar": [
           {
            "marker": {
             "colorbar": {
              "outlinewidth": 0,
              "ticks": ""
             }
            },
            "type": "scatterpolar"
           }
          ],
          "scatterpolargl": [
           {
            "marker": {
             "colorbar": {
              "outlinewidth": 0,
              "ticks": ""
             }
            },
            "type": "scatterpolargl"
           }
          ],
          "scatterternary": [
           {
            "marker": {
             "colorbar": {
              "outlinewidth": 0,
              "ticks": ""
             }
            },
            "type": "scatterternary"
           }
          ],
          "surface": [
           {
            "colorbar": {
             "outlinewidth": 0,
             "ticks": ""
            },
            "colorscale": [
             [
              0,
              "#0d0887"
             ],
             [
              0.1111111111111111,
              "#46039f"
             ],
             [
              0.2222222222222222,
              "#7201a8"
             ],
             [
              0.3333333333333333,
              "#9c179e"
             ],
             [
              0.4444444444444444,
              "#bd3786"
             ],
             [
              0.5555555555555556,
              "#d8576b"
             ],
             [
              0.6666666666666666,
              "#ed7953"
             ],
             [
              0.7777777777777778,
              "#fb9f3a"
             ],
             [
              0.8888888888888888,
              "#fdca26"
             ],
             [
              1,
              "#f0f921"
             ]
            ],
            "type": "surface"
           }
          ],
          "table": [
           {
            "cells": {
             "fill": {
              "color": "#EBF0F8"
             },
             "line": {
              "color": "white"
             }
            },
            "header": {
             "fill": {
              "color": "#C8D4E3"
             },
             "line": {
              "color": "white"
             }
            },
            "type": "table"
           }
          ]
         },
         "layout": {
          "annotationdefaults": {
           "arrowcolor": "#2a3f5f",
           "arrowhead": 0,
           "arrowwidth": 1
          },
          "autotypenumbers": "strict",
          "coloraxis": {
           "colorbar": {
            "outlinewidth": 0,
            "ticks": ""
           }
          },
          "colorscale": {
           "diverging": [
            [
             0,
             "#8e0152"
            ],
            [
             0.1,
             "#c51b7d"
            ],
            [
             0.2,
             "#de77ae"
            ],
            [
             0.3,
             "#f1b6da"
            ],
            [
             0.4,
             "#fde0ef"
            ],
            [
             0.5,
             "#f7f7f7"
            ],
            [
             0.6,
             "#e6f5d0"
            ],
            [
             0.7,
             "#b8e186"
            ],
            [
             0.8,
             "#7fbc41"
            ],
            [
             0.9,
             "#4d9221"
            ],
            [
             1,
             "#276419"
            ]
           ],
           "sequential": [
            [
             0,
             "#0d0887"
            ],
            [
             0.1111111111111111,
             "#46039f"
            ],
            [
             0.2222222222222222,
             "#7201a8"
            ],
            [
             0.3333333333333333,
             "#9c179e"
            ],
            [
             0.4444444444444444,
             "#bd3786"
            ],
            [
             0.5555555555555556,
             "#d8576b"
            ],
            [
             0.6666666666666666,
             "#ed7953"
            ],
            [
             0.7777777777777778,
             "#fb9f3a"
            ],
            [
             0.8888888888888888,
             "#fdca26"
            ],
            [
             1,
             "#f0f921"
            ]
           ],
           "sequentialminus": [
            [
             0,
             "#0d0887"
            ],
            [
             0.1111111111111111,
             "#46039f"
            ],
            [
             0.2222222222222222,
             "#7201a8"
            ],
            [
             0.3333333333333333,
             "#9c179e"
            ],
            [
             0.4444444444444444,
             "#bd3786"
            ],
            [
             0.5555555555555556,
             "#d8576b"
            ],
            [
             0.6666666666666666,
             "#ed7953"
            ],
            [
             0.7777777777777778,
             "#fb9f3a"
            ],
            [
             0.8888888888888888,
             "#fdca26"
            ],
            [
             1,
             "#f0f921"
            ]
           ]
          },
          "colorway": [
           "#636efa",
           "#EF553B",
           "#00cc96",
           "#ab63fa",
           "#FFA15A",
           "#19d3f3",
           "#FF6692",
           "#B6E880",
           "#FF97FF",
           "#FECB52"
          ],
          "font": {
           "color": "#2a3f5f"
          },
          "geo": {
           "bgcolor": "white",
           "lakecolor": "white",
           "landcolor": "white",
           "showlakes": true,
           "showland": true,
           "subunitcolor": "#C8D4E3"
          },
          "hoverlabel": {
           "align": "left"
          },
          "hovermode": "closest",
          "mapbox": {
           "style": "light"
          },
          "paper_bgcolor": "white",
          "plot_bgcolor": "white",
          "polar": {
           "angularaxis": {
            "gridcolor": "#EBF0F8",
            "linecolor": "#EBF0F8",
            "ticks": ""
           },
           "bgcolor": "white",
           "radialaxis": {
            "gridcolor": "#EBF0F8",
            "linecolor": "#EBF0F8",
            "ticks": ""
           }
          },
          "scene": {
           "xaxis": {
            "backgroundcolor": "white",
            "gridcolor": "#DFE8F3",
            "gridwidth": 2,
            "linecolor": "#EBF0F8",
            "showbackground": true,
            "ticks": "",
            "zerolinecolor": "#EBF0F8"
           },
           "yaxis": {
            "backgroundcolor": "white",
            "gridcolor": "#DFE8F3",
            "gridwidth": 2,
            "linecolor": "#EBF0F8",
            "showbackground": true,
            "ticks": "",
            "zerolinecolor": "#EBF0F8"
           },
           "zaxis": {
            "backgroundcolor": "white",
            "gridcolor": "#DFE8F3",
            "gridwidth": 2,
            "linecolor": "#EBF0F8",
            "showbackground": true,
            "ticks": "",
            "zerolinecolor": "#EBF0F8"
           }
          },
          "shapedefaults": {
           "line": {
            "color": "#2a3f5f"
           }
          },
          "ternary": {
           "aaxis": {
            "gridcolor": "#DFE8F3",
            "linecolor": "#A2B1C6",
            "ticks": ""
           },
           "baxis": {
            "gridcolor": "#DFE8F3",
            "linecolor": "#A2B1C6",
            "ticks": ""
           },
           "bgcolor": "white",
           "caxis": {
            "gridcolor": "#DFE8F3",
            "linecolor": "#A2B1C6",
            "ticks": ""
           }
          },
          "title": {
           "x": 0.05
          },
          "xaxis": {
           "automargin": true,
           "gridcolor": "#EBF0F8",
           "linecolor": "#EBF0F8",
           "ticks": "",
           "title": {
            "standoff": 15
           },
           "zerolinecolor": "#EBF0F8",
           "zerolinewidth": 2
          },
          "yaxis": {
           "automargin": true,
           "gridcolor": "#EBF0F8",
           "linecolor": "#EBF0F8",
           "ticks": "",
           "title": {
            "standoff": 15
           },
           "zerolinecolor": "#EBF0F8",
           "zerolinewidth": 2
          }
         }
        },
        "xaxis": {
         "anchor": "y",
         "domain": [
          0,
          1
         ],
         "title": {
          "text": "published_date"
         }
        },
        "yaxis": {
         "anchor": "x",
         "domain": [
          0,
          1
         ],
         "title": {
          "text": "rank"
         }
        }
       }
      }
     },
     "metadata": {},
     "output_type": "display_data"
    }
   ],
   "source": [
    "fig = px.scatter(df[(df['rank']<6)], x = 'published_date', y = 'rank', color='category',opacity=1, hover_data='title',)\n",
    "fig.update_traces(marker=dict(size=10))\n",
    "fig.show()\n",
    "\n",
    "fig.write_image(\"images/dots.svg\")\n",
    "fig.write_html(\"images/dots.html\")"
   ]
  },
  {
   "cell_type": "code",
   "execution_count": 21,
   "id": "8dd99322",
   "metadata": {},
   "outputs": [],
   "source": [
    "top_cats = top10_cat['category'].to_list()"
   ]
  },
  {
   "cell_type": "code",
   "execution_count": 22,
   "id": "15646f56",
   "metadata": {},
   "outputs": [
    {
     "data": {
      "text/plain": [
       "['biography & autobiography',\n",
       " 'history',\n",
       " 'political science',\n",
       " 'social science',\n",
       " 'science',\n",
       " 'true crime',\n",
       " 'medical',\n",
       " 'business & economics',\n",
       " 'family & relationships',\n",
       " 'sports & recreation']"
      ]
     },
     "execution_count": 22,
     "metadata": {},
     "output_type": "execute_result"
    }
   ],
   "source": [
    "top_cats"
   ]
  },
  {
   "cell_type": "code",
   "execution_count": 23,
   "id": "cc2510b1",
   "metadata": {},
   "outputs": [
    {
     "data": {
      "text/plain": [
       "Index(['age_group', 'amazon_product_url', 'article_chapter_link', 'asterisk',\n",
       "       'author', 'book_image', 'book_image_height', 'book_image_width',\n",
       "       'book_review_link', 'book_uri', 'contributor', 'contributor_note',\n",
       "       'created_date', 'dagger', 'description', 'first_chapter_link', 'price',\n",
       "       'primary_isbn10', 'primary_isbn13', 'publisher', 'rank',\n",
       "       'rank_last_week', 'sunday_review_link', 'title', 'updated_date',\n",
       "       'weeks_on_list', 'category', 'published_date', 'Unnamed: 0',\n",
       "       'date_datetime', 'isbns', 'buy_links'],\n",
       "      dtype='object')"
      ]
     },
     "execution_count": 23,
     "metadata": {},
     "output_type": "execute_result"
    }
   ],
   "source": [
    "df.columns"
   ]
  },
  {
   "cell_type": "code",
   "execution_count": 24,
   "id": "9da0df5a",
   "metadata": {},
   "outputs": [
    {
     "data": {
      "application/vnd.microsoft.datawrangler.viewer.v0+json": {
       "columns": [
        {
         "name": "index",
         "rawType": "int64",
         "type": "integer"
        },
        {
         "name": "title",
         "rawType": "object",
         "type": "string"
        },
        {
         "name": "published_date",
         "rawType": "object",
         "type": "string"
        },
        {
         "name": "category",
         "rawType": "object",
         "type": "string"
        },
        {
         "name": "rank",
         "rawType": "int64",
         "type": "integer"
        },
        {
         "name": "date_datetime",
         "rawType": "datetime64[us]",
         "type": "unknown"
        }
       ],
       "ref": "5baa6592-3156-481c-9767-8be2838556e3",
       "rows": [
        [
         "3898",
         "ONE NATION UNDER TAUGHT",
         "2014-12-07",
         "education",
         "15",
         "2014-01-26 17:34:46.978746"
        ],
        [
         "3899",
         "THE INNOVATORS",
         "2014-12-07",
         "biography & autobiography",
         "16",
         "2014-01-26 17:34:46.978746"
        ],
        [
         "3900",
         "SO ANYWAY . . .",
         "2014-12-07",
         "biography & autobiography",
         "18",
         "2014-01-26 17:34:46.978746"
        ],
        [
         "3901",
         "AS YOU WISH",
         "2014-12-07",
         "biography & autobiography",
         "19",
         "2014-01-26 17:34:46.978746"
        ],
        [
         "3902",
         "STONEWALLED",
         "2014-12-07",
         "political science",
         "20",
         "2014-01-26 17:34:46.978746"
        ]
       ],
       "shape": {
        "columns": 5,
        "rows": 5
       }
      },
      "text/html": [
       "<div>\n",
       "<style scoped>\n",
       "    .dataframe tbody tr th:only-of-type {\n",
       "        vertical-align: middle;\n",
       "    }\n",
       "\n",
       "    .dataframe tbody tr th {\n",
       "        vertical-align: top;\n",
       "    }\n",
       "\n",
       "    .dataframe thead th {\n",
       "        text-align: right;\n",
       "    }\n",
       "</style>\n",
       "<table border=\"1\" class=\"dataframe\">\n",
       "  <thead>\n",
       "    <tr style=\"text-align: right;\">\n",
       "      <th></th>\n",
       "      <th>title</th>\n",
       "      <th>published_date</th>\n",
       "      <th>category</th>\n",
       "      <th>rank</th>\n",
       "      <th>date_datetime</th>\n",
       "    </tr>\n",
       "  </thead>\n",
       "  <tbody>\n",
       "    <tr>\n",
       "      <th>3898</th>\n",
       "      <td>ONE NATION UNDER TAUGHT</td>\n",
       "      <td>2014-12-07</td>\n",
       "      <td>education</td>\n",
       "      <td>15</td>\n",
       "      <td>2014-01-26 17:34:46.978746</td>\n",
       "    </tr>\n",
       "    <tr>\n",
       "      <th>3899</th>\n",
       "      <td>THE INNOVATORS</td>\n",
       "      <td>2014-12-07</td>\n",
       "      <td>biography &amp; autobiography</td>\n",
       "      <td>16</td>\n",
       "      <td>2014-01-26 17:34:46.978746</td>\n",
       "    </tr>\n",
       "    <tr>\n",
       "      <th>3900</th>\n",
       "      <td>SO ANYWAY . . .</td>\n",
       "      <td>2014-12-07</td>\n",
       "      <td>biography &amp; autobiography</td>\n",
       "      <td>18</td>\n",
       "      <td>2014-01-26 17:34:46.978746</td>\n",
       "    </tr>\n",
       "    <tr>\n",
       "      <th>3901</th>\n",
       "      <td>AS YOU WISH</td>\n",
       "      <td>2014-12-07</td>\n",
       "      <td>biography &amp; autobiography</td>\n",
       "      <td>19</td>\n",
       "      <td>2014-01-26 17:34:46.978746</td>\n",
       "    </tr>\n",
       "    <tr>\n",
       "      <th>3902</th>\n",
       "      <td>STONEWALLED</td>\n",
       "      <td>2014-12-07</td>\n",
       "      <td>political science</td>\n",
       "      <td>20</td>\n",
       "      <td>2014-01-26 17:34:46.978746</td>\n",
       "    </tr>\n",
       "  </tbody>\n",
       "</table>\n",
       "</div>"
      ],
      "text/plain": [
       "                        title published_date                   category  rank  \\\n",
       "3898  ONE NATION UNDER TAUGHT     2014-12-07                  education    15   \n",
       "3899           THE INNOVATORS     2014-12-07  biography & autobiography    16   \n",
       "3900          SO ANYWAY . . .     2014-12-07  biography & autobiography    18   \n",
       "3901              AS YOU WISH     2014-12-07  biography & autobiography    19   \n",
       "3902              STONEWALLED     2014-12-07          political science    20   \n",
       "\n",
       "                  date_datetime  \n",
       "3898 2014-01-26 17:34:46.978746  \n",
       "3899 2014-01-26 17:34:46.978746  \n",
       "3900 2014-01-26 17:34:46.978746  \n",
       "3901 2014-01-26 17:34:46.978746  \n",
       "3902 2014-01-26 17:34:46.978746  "
      ]
     },
     "execution_count": 24,
     "metadata": {},
     "output_type": "execute_result"
    }
   ],
   "source": [
    "clean_df = df[['title','published_date','category','rank', 'date_datetime']]\n",
    "clean_df=clean_df[clean_df['category'].str.contains('fiction')==False]\n",
    "clean_df.tail()"
   ]
  },
  {
   "cell_type": "code",
   "execution_count": 25,
   "id": "469ce53d",
   "metadata": {},
   "outputs": [
    {
     "data": {
      "text/plain": [
       "array(['business & economics', 'political science',\n",
       "       'biography & autobiography', 'pets', 'history', 'psychology',\n",
       "       'medical', 'art', 'religion', 'social science', 'health & fitness',\n",
       "       'true crime', 'communicable diseases', 'nature', 'performing arts',\n",
       "       'humor', 'science', 'body, mind & spirit', 'law',\n",
       "       'sports & recreation', 'family & relationships', 'soldiers',\n",
       "       'photography', 'music', 'literary collections', 'education',\n",
       "       'self-help', 'language arts & disciplines', 'philosophy',\n",
       "       'mathematics', 'cold war', 'equality', 'computers', 'biography',\n",
       "       'anti-communist movements', 'south african war, 1899-1902',\n",
       "       'cooking', 'olympic games (11th : 1936 : berlin, germany)',\n",
       "       'technology & engineering', 'billionaires', 'travel',\n",
       "       'autobiographies'], dtype=object)"
      ]
     },
     "execution_count": 25,
     "metadata": {},
     "output_type": "execute_result"
    }
   ],
   "source": [
    "nyt_cats=clean_df['category'].unique()\n",
    "nyt_cats"
   ]
  },
  {
   "cell_type": "code",
   "execution_count": 26,
   "id": "027257bb",
   "metadata": {},
   "outputs": [],
   "source": [
    "clean_df.to_csv('clean_df.csv',index=False)"
   ]
  },
  {
   "cell_type": "markdown",
   "id": "579410b6",
   "metadata": {},
   "source": [
    "Could it be there are just more biographies? This is a 5 year old scrape of 46k books from Goodreads. I can run the ISBNs to get the same category information but this will take a few weeks even if it runs every day due to Google Books API limitation. There is no good way to filter out fiction before running them."
   ]
  },
  {
   "cell_type": "code",
   "execution_count": 27,
   "id": "7efc09c6",
   "metadata": {},
   "outputs": [],
   "source": [
    "books = pd.read_csv('books.csv')"
   ]
  },
  {
   "cell_type": "code",
   "execution_count": 28,
   "id": "a8611afc",
   "metadata": {},
   "outputs": [
    {
     "data": {
      "application/vnd.microsoft.datawrangler.viewer.v0+json": {
       "columns": [
        {
         "name": "index",
         "rawType": "int64",
         "type": "integer"
        },
        {
         "name": "bookID",
         "rawType": "int64",
         "type": "integer"
        },
        {
         "name": "title",
         "rawType": "object",
         "type": "string"
        },
        {
         "name": "authors",
         "rawType": "object",
         "type": "string"
        },
        {
         "name": "average_rating",
         "rawType": "object",
         "type": "string"
        },
        {
         "name": "isbn",
         "rawType": "object",
         "type": "string"
        },
        {
         "name": "isbn13",
         "rawType": "float64",
         "type": "float"
        },
        {
         "name": "category",
         "rawType": "object",
         "type": "unknown"
        }
       ],
       "ref": "fb234470-f750-492d-a4ea-d8d4a1b54234",
       "rows": [
        [
         "0",
         "28195",
         "Inkspell (Inkworld  #2)",
         "Cornelia Funke/Anthea Bell",
         "3.92",
         "0439554004",
         "9780440000000.0",
         "juvenile fiction"
        ],
        [
         "1",
         "20001",
         "Interfictions: An Anthology of Interstitial Writing",
         "Delia Sherman/Theodora Goss/K. Tempest Bradford/Karen Jordan Allen/Rachel Pollack/Veronica Schanoes/Mikal Trimm/Colin Greenland/Vandana Singh/Matthew Cheney/Léa Silhol/Adrián Ferrero/Holly Phillips/Catherynne M. Valente/Christopher Barzak/Leslie What/Anna Tambour/Joy Marchand/Jon Singer/Csilla Kleinheincz/Michael J. DeLuca",
         "3.77",
         "1931520240",
         "9781930000000.0",
         null
        ],
        [
         "2",
         "32286",
         "A Mad People's History of Madness",
         "Dale Peterson",
         "4.33",
         "0822953315",
         "9780820000000.0",
         "psychology"
        ],
        [
         "3",
         "38583",
         "Bite Me!: An Unofficial Guide to the World of Buffy the Vampire Slayer",
         "Nikki Stafford",
         "4.13",
         "1550225405",
         "9781550000000.0",
         "young adult fiction"
        ],
        [
         "4",
         "38175",
         "The South Beach Diet: The Delicious  Doctor-Designed  Foolproof Plan for Fast and Healthy Weight Loss",
         "Arthur Agatston",
         "3.45",
         "1579546463",
         "9781580000000.0",
         null
        ]
       ],
       "shape": {
        "columns": 7,
        "rows": 5
       }
      },
      "text/html": [
       "<div>\n",
       "<style scoped>\n",
       "    .dataframe tbody tr th:only-of-type {\n",
       "        vertical-align: middle;\n",
       "    }\n",
       "\n",
       "    .dataframe tbody tr th {\n",
       "        vertical-align: top;\n",
       "    }\n",
       "\n",
       "    .dataframe thead th {\n",
       "        text-align: right;\n",
       "    }\n",
       "</style>\n",
       "<table border=\"1\" class=\"dataframe\">\n",
       "  <thead>\n",
       "    <tr style=\"text-align: right;\">\n",
       "      <th></th>\n",
       "      <th>bookID</th>\n",
       "      <th>title</th>\n",
       "      <th>authors</th>\n",
       "      <th>average_rating</th>\n",
       "      <th>isbn</th>\n",
       "      <th>isbn13</th>\n",
       "      <th>category</th>\n",
       "    </tr>\n",
       "  </thead>\n",
       "  <tbody>\n",
       "    <tr>\n",
       "      <th>0</th>\n",
       "      <td>28195</td>\n",
       "      <td>Inkspell (Inkworld  #2)</td>\n",
       "      <td>Cornelia Funke/Anthea Bell</td>\n",
       "      <td>3.92</td>\n",
       "      <td>0439554004</td>\n",
       "      <td>9.780440e+12</td>\n",
       "      <td>juvenile fiction</td>\n",
       "    </tr>\n",
       "    <tr>\n",
       "      <th>1</th>\n",
       "      <td>20001</td>\n",
       "      <td>Interfictions: An Anthology of Interstitial Wr...</td>\n",
       "      <td>Delia Sherman/Theodora Goss/K. Tempest Bradfor...</td>\n",
       "      <td>3.77</td>\n",
       "      <td>1931520240</td>\n",
       "      <td>9.781930e+12</td>\n",
       "      <td>NaN</td>\n",
       "    </tr>\n",
       "    <tr>\n",
       "      <th>2</th>\n",
       "      <td>32286</td>\n",
       "      <td>A Mad People's History of Madness</td>\n",
       "      <td>Dale Peterson</td>\n",
       "      <td>4.33</td>\n",
       "      <td>0822953315</td>\n",
       "      <td>9.780820e+12</td>\n",
       "      <td>psychology</td>\n",
       "    </tr>\n",
       "    <tr>\n",
       "      <th>3</th>\n",
       "      <td>38583</td>\n",
       "      <td>Bite Me!: An Unofficial Guide to the World of ...</td>\n",
       "      <td>Nikki Stafford</td>\n",
       "      <td>4.13</td>\n",
       "      <td>1550225405</td>\n",
       "      <td>9.781550e+12</td>\n",
       "      <td>young adult fiction</td>\n",
       "    </tr>\n",
       "    <tr>\n",
       "      <th>4</th>\n",
       "      <td>38175</td>\n",
       "      <td>The South Beach Diet: The Delicious  Doctor-De...</td>\n",
       "      <td>Arthur Agatston</td>\n",
       "      <td>3.45</td>\n",
       "      <td>1579546463</td>\n",
       "      <td>9.781580e+12</td>\n",
       "      <td>NaN</td>\n",
       "    </tr>\n",
       "  </tbody>\n",
       "</table>\n",
       "</div>"
      ],
      "text/plain": [
       "   bookID                                              title  \\\n",
       "0   28195                            Inkspell (Inkworld  #2)   \n",
       "1   20001  Interfictions: An Anthology of Interstitial Wr...   \n",
       "2   32286                  A Mad People's History of Madness   \n",
       "3   38583  Bite Me!: An Unofficial Guide to the World of ...   \n",
       "4   38175  The South Beach Diet: The Delicious  Doctor-De...   \n",
       "\n",
       "                                             authors average_rating  \\\n",
       "0                         Cornelia Funke/Anthea Bell           3.92   \n",
       "1  Delia Sherman/Theodora Goss/K. Tempest Bradfor...           3.77   \n",
       "2                                      Dale Peterson           4.33   \n",
       "3                                     Nikki Stafford           4.13   \n",
       "4                                    Arthur Agatston           3.45   \n",
       "\n",
       "         isbn        isbn13             category  \n",
       "0  0439554004  9.780440e+12     juvenile fiction  \n",
       "1  1931520240  9.781930e+12                  NaN  \n",
       "2  0822953315  9.780820e+12           psychology  \n",
       "3  1550225405  9.781550e+12  young adult fiction  \n",
       "4  1579546463  9.781580e+12                  NaN  "
      ]
     },
     "execution_count": 28,
     "metadata": {},
     "output_type": "execute_result"
    }
   ],
   "source": [
    "sample_cached = pd.read_csv('sample_cached.csv')\n",
    "sample_cached.head()"
   ]
  },
  {
   "cell_type": "code",
   "execution_count": 29,
   "id": "cc4b4d1d",
   "metadata": {},
   "outputs": [],
   "source": [
    "# Be sure to test that this works before running the full pull! Google Books limits api at 1000 per day.\n",
    "\n",
    "\n",
    "def get_category_by_title(book):\n",
    "\n",
    "# First, check cache\n",
    "    try:\n",
    "        category = sample_cached[sample_cached['isbn'] == book['isbn']]['category'].iloc[0]\n",
    "        print('isbn from cache')\n",
    "        return category\n",
    "\n",
    "    # If not in cache, call Google Books API\n",
    "    except:\n",
    "        query =(book['title']+\" \"+book['authors']).replace(\" \",\"_\")\n",
    "        \n",
    "\n",
    "        response = requests.get(f'https://books.googleapis.com/books/v1/volumes?q={query}&key={google_key}')\n",
    "        data = response.json()\n",
    "\n",
    "        if(response.status_code != 200):\n",
    "            print(response.status_code)\n",
    "            print(response.headers)\n",
    "\n",
    "        if(data['totalItems']!=0):\n",
    "\n",
    "            try:\n",
    "                category = data['items'][0]['volumeInfo']['categories'][0]\n",
    "                print('isbn from api')\n",
    "                return category\n",
    "            except:\n",
    "                pass\n",
    "\n",
    "# uncomment to test   \n",
    "# test_cat = get_category_by_title(sample_cached.iloc[0])\n",
    "# print(test_cat)\n"
   ]
  },
  {
   "cell_type": "code",
   "execution_count": 30,
   "id": "e3c6afe1",
   "metadata": {},
   "outputs": [
    {
     "name": "stdout",
     "output_type": "stream",
     "text": [
      "isbn from cache\n",
      "isbn from cache\n",
      "isbn from cache\n",
      "isbn from cache\n",
      "isbn from cache\n",
      "isbn from api\n",
      "isbn from cache\n",
      "isbn from cache\n",
      "isbn from cache\n",
      "isbn from api\n",
      "isbn from cache\n",
      "isbn from cache\n",
      "isbn from api\n",
      "isbn from cache\n",
      "isbn from cache\n",
      "isbn from cache\n",
      "isbn from cache\n",
      "isbn from cache\n",
      "isbn from cache\n",
      "isbn from cache\n",
      "isbn from api\n",
      "isbn from cache\n",
      "isbn from api\n",
      "isbn from api\n",
      "isbn from cache\n",
      "isbn from cache\n",
      "isbn from cache\n",
      "isbn from api\n",
      "isbn from api\n",
      "isbn from api\n",
      "isbn from cache\n",
      "isbn from cache\n",
      "isbn from api\n",
      "isbn from cache\n",
      "isbn from api\n",
      "isbn from api\n",
      "isbn from api\n",
      "isbn from cache\n",
      "isbn from cache\n",
      "isbn from cache\n",
      "isbn from cache\n",
      "isbn from cache\n",
      "isbn from cache\n",
      "isbn from cache\n",
      "isbn from cache\n",
      "isbn from api\n",
      "isbn from api\n",
      "isbn from cache\n",
      "isbn from api\n",
      "isbn from cache\n",
      "isbn from api\n",
      "isbn from api\n",
      "isbn from api\n",
      "isbn from api\n",
      "isbn from cache\n",
      "isbn from cache\n",
      "isbn from api\n",
      "isbn from cache\n",
      "isbn from cache\n",
      "isbn from api\n",
      "isbn from api\n",
      "isbn from api\n",
      "isbn from cache\n",
      "isbn from cache\n",
      "isbn from api\n",
      "isbn from api\n",
      "isbn from api\n",
      "isbn from cache\n",
      "isbn from cache\n",
      "isbn from cache\n",
      "isbn from cache\n",
      "isbn from cache\n",
      "isbn from cache\n",
      "isbn from cache\n",
      "isbn from api\n",
      "isbn from api\n",
      "isbn from api\n",
      "isbn from cache\n",
      "isbn from cache\n",
      "isbn from cache\n",
      "isbn from cache\n",
      "isbn from api\n",
      "isbn from cache\n",
      "isbn from cache\n",
      "isbn from cache\n",
      "isbn from cache\n",
      "isbn from api\n",
      "isbn from cache\n",
      "isbn from api\n",
      "isbn from api\n",
      "isbn from api\n",
      "isbn from cache\n",
      "isbn from cache\n",
      "isbn from cache\n",
      "isbn from cache\n",
      "isbn from cache\n",
      "isbn from api\n",
      "isbn from api\n",
      "isbn from cache\n",
      "isbn from cache\n",
      "isbn from api\n",
      "isbn from api\n",
      "isbn from cache\n",
      "isbn from api\n",
      "isbn from cache\n",
      "isbn from cache\n",
      "isbn from cache\n",
      "isbn from api\n",
      "isbn from api\n",
      "isbn from api\n",
      "isbn from cache\n",
      "isbn from cache\n",
      "isbn from cache\n",
      "isbn from api\n",
      "isbn from api\n",
      "isbn from api\n",
      "isbn from cache\n",
      "isbn from cache\n",
      "isbn from cache\n",
      "isbn from cache\n",
      "isbn from api\n",
      "isbn from api\n",
      "isbn from api\n",
      "isbn from cache\n",
      "isbn from api\n",
      "isbn from cache\n",
      "isbn from cache\n",
      "isbn from cache\n",
      "isbn from cache\n",
      "isbn from cache\n",
      "isbn from api\n",
      "isbn from cache\n",
      "isbn from cache\n",
      "isbn from cache\n",
      "isbn from api\n",
      "isbn from cache\n",
      "isbn from cache\n",
      "isbn from cache\n",
      "isbn from cache\n",
      "isbn from cache\n",
      "isbn from cache\n",
      "isbn from api\n",
      "isbn from api\n",
      "isbn from cache\n",
      "isbn from api\n",
      "isbn from api\n",
      "isbn from api\n",
      "isbn from cache\n",
      "isbn from cache\n",
      "isbn from api\n",
      "isbn from cache\n",
      "isbn from cache\n",
      "isbn from api\n",
      "isbn from cache\n",
      "isbn from cache\n",
      "isbn from api\n",
      "isbn from cache\n",
      "isbn from cache\n",
      "isbn from cache\n",
      "isbn from cache\n",
      "isbn from cache\n",
      "isbn from cache\n",
      "isbn from cache\n",
      "isbn from api\n",
      "isbn from cache\n",
      "isbn from cache\n",
      "isbn from api\n",
      "isbn from cache\n",
      "isbn from cache\n",
      "isbn from cache\n",
      "isbn from cache\n",
      "isbn from api\n",
      "isbn from cache\n",
      "isbn from api\n",
      "isbn from api\n",
      "isbn from api\n",
      "isbn from api\n",
      "isbn from api\n",
      "isbn from api\n",
      "isbn from cache\n",
      "isbn from cache\n",
      "isbn from cache\n",
      "isbn from api\n",
      "isbn from cache\n",
      "isbn from api\n",
      "isbn from cache\n",
      "isbn from cache\n",
      "isbn from api\n",
      "isbn from cache\n",
      "isbn from cache\n",
      "isbn from cache\n",
      "isbn from cache\n",
      "isbn from cache\n",
      "isbn from cache\n",
      "isbn from cache\n",
      "isbn from cache\n",
      "isbn from api\n",
      "isbn from api\n",
      "isbn from cache\n",
      "isbn from api\n",
      "isbn from api\n",
      "isbn from cache\n",
      "isbn from api\n",
      "isbn from api\n",
      "isbn from cache\n",
      "isbn from api\n",
      "isbn from api\n",
      "isbn from cache\n",
      "isbn from cache\n",
      "isbn from api\n",
      "isbn from cache\n",
      "isbn from cache\n",
      "isbn from cache\n",
      "isbn from api\n",
      "isbn from cache\n",
      "isbn from cache\n",
      "isbn from api\n",
      "isbn from api\n",
      "isbn from cache\n",
      "isbn from cache\n",
      "isbn from cache\n",
      "isbn from cache\n",
      "isbn from cache\n",
      "isbn from api\n",
      "isbn from cache\n",
      "isbn from cache\n",
      "isbn from cache\n",
      "isbn from cache\n",
      "isbn from cache\n",
      "isbn from cache\n",
      "isbn from cache\n",
      "isbn from cache\n",
      "isbn from cache\n",
      "isbn from api\n",
      "isbn from cache\n",
      "isbn from api\n",
      "isbn from cache\n",
      "isbn from cache\n",
      "isbn from api\n",
      "isbn from cache\n",
      "isbn from cache\n",
      "isbn from cache\n",
      "isbn from api\n",
      "isbn from cache\n",
      "isbn from api\n",
      "isbn from cache\n",
      "isbn from api\n",
      "isbn from api\n",
      "isbn from cache\n",
      "isbn from cache\n",
      "isbn from cache\n",
      "isbn from cache\n",
      "isbn from cache\n",
      "isbn from api\n",
      "isbn from cache\n",
      "isbn from api\n",
      "isbn from cache\n",
      "isbn from cache\n",
      "isbn from cache\n",
      "isbn from cache\n",
      "isbn from cache\n",
      "isbn from api\n",
      "isbn from cache\n",
      "isbn from api\n",
      "isbn from api\n",
      "isbn from cache\n",
      "isbn from cache\n",
      "isbn from api\n",
      "isbn from api\n",
      "isbn from cache\n",
      "isbn from api\n",
      "isbn from api\n",
      "isbn from cache\n",
      "isbn from api\n",
      "isbn from api\n",
      "isbn from cache\n",
      "isbn from cache\n",
      "isbn from api\n",
      "isbn from api\n",
      "isbn from cache\n",
      "isbn from cache\n",
      "isbn from cache\n",
      "isbn from cache\n",
      "isbn from cache\n",
      "isbn from api\n",
      "isbn from api\n",
      "isbn from api\n",
      "isbn from api\n",
      "isbn from cache\n",
      "isbn from cache\n",
      "isbn from api\n",
      "isbn from cache\n",
      "isbn from cache\n",
      "isbn from api\n",
      "isbn from api\n",
      "isbn from api\n",
      "isbn from cache\n",
      "isbn from api\n",
      "isbn from api\n",
      "isbn from api\n",
      "isbn from cache\n",
      "isbn from cache\n",
      "isbn from cache\n",
      "isbn from cache\n",
      "isbn from api\n",
      "isbn from cache\n",
      "isbn from cache\n",
      "isbn from cache\n",
      "isbn from cache\n",
      "isbn from cache\n",
      "isbn from cache\n",
      "isbn from api\n",
      "isbn from cache\n",
      "isbn from cache\n",
      "isbn from cache\n",
      "isbn from api\n",
      "isbn from cache\n",
      "isbn from cache\n",
      "isbn from api\n",
      "isbn from cache\n",
      "isbn from api\n",
      "isbn from cache\n",
      "isbn from cache\n",
      "isbn from cache\n",
      "isbn from cache\n",
      "isbn from cache\n",
      "isbn from api\n",
      "isbn from cache\n",
      "isbn from cache\n",
      "isbn from cache\n",
      "isbn from api\n",
      "isbn from cache\n",
      "isbn from api\n",
      "isbn from api\n",
      "isbn from cache\n",
      "isbn from api\n",
      "isbn from cache\n",
      "isbn from api\n",
      "isbn from cache\n",
      "isbn from cache\n",
      "isbn from cache\n",
      "isbn from cache\n",
      "isbn from cache\n",
      "isbn from cache\n",
      "isbn from cache\n",
      "isbn from api\n",
      "isbn from cache\n",
      "isbn from api\n",
      "isbn from cache\n",
      "isbn from api\n",
      "isbn from api\n",
      "isbn from api\n",
      "isbn from cache\n",
      "isbn from api\n",
      "isbn from cache\n",
      "isbn from cache\n",
      "isbn from cache\n",
      "isbn from api\n",
      "isbn from cache\n",
      "isbn from api\n",
      "isbn from api\n",
      "isbn from api\n",
      "isbn from cache\n",
      "isbn from api\n",
      "isbn from cache\n",
      "isbn from cache\n",
      "isbn from cache\n",
      "isbn from cache\n",
      "isbn from cache\n",
      "isbn from cache\n",
      "isbn from cache\n",
      "isbn from cache\n",
      "isbn from api\n",
      "isbn from api\n",
      "isbn from cache\n",
      "isbn from cache\n",
      "isbn from cache\n",
      "isbn from cache\n",
      "isbn from cache\n",
      "isbn from cache\n",
      "isbn from cache\n",
      "isbn from api\n",
      "isbn from cache\n",
      "isbn from api\n",
      "isbn from cache\n",
      "isbn from cache\n",
      "isbn from api\n",
      "isbn from api\n",
      "isbn from api\n",
      "isbn from api\n",
      "isbn from cache\n",
      "isbn from api\n",
      "isbn from cache\n",
      "isbn from api\n",
      "isbn from cache\n",
      "isbn from api\n",
      "isbn from api\n",
      "isbn from api\n",
      "isbn from cache\n",
      "isbn from cache\n",
      "isbn from api\n",
      "isbn from cache\n",
      "isbn from cache\n",
      "isbn from cache\n",
      "isbn from cache\n",
      "isbn from cache\n",
      "isbn from cache\n",
      "isbn from api\n",
      "isbn from api\n",
      "isbn from api\n",
      "isbn from api\n",
      "isbn from cache\n",
      "isbn from api\n",
      "isbn from api\n",
      "isbn from api\n",
      "isbn from api\n",
      "isbn from cache\n",
      "isbn from api\n",
      "isbn from cache\n",
      "isbn from api\n",
      "isbn from cache\n",
      "isbn from cache\n",
      "isbn from cache\n",
      "isbn from api\n",
      "isbn from cache\n",
      "isbn from api\n",
      "isbn from api\n",
      "isbn from cache\n",
      "isbn from cache\n",
      "isbn from api\n",
      "isbn from cache\n",
      "isbn from cache\n",
      "isbn from api\n",
      "isbn from cache\n",
      "isbn from cache\n",
      "isbn from api\n",
      "isbn from cache\n",
      "isbn from api\n",
      "isbn from cache\n",
      "isbn from cache\n",
      "isbn from cache\n",
      "isbn from cache\n",
      "isbn from cache\n",
      "isbn from cache\n",
      "isbn from cache\n",
      "isbn from api\n",
      "isbn from cache\n",
      "isbn from cache\n",
      "isbn from api\n",
      "isbn from cache\n",
      "isbn from api\n",
      "isbn from cache\n",
      "isbn from cache\n",
      "isbn from cache\n",
      "isbn from cache\n",
      "isbn from api\n",
      "isbn from cache\n",
      "isbn from cache\n",
      "isbn from cache\n",
      "isbn from cache\n",
      "isbn from api\n",
      "isbn from cache\n",
      "isbn from api\n",
      "isbn from api\n",
      "isbn from api\n",
      "isbn from cache\n",
      "isbn from api\n",
      "isbn from api\n",
      "isbn from api\n",
      "isbn from cache\n",
      "isbn from cache\n",
      "isbn from cache\n",
      "isbn from cache\n",
      "isbn from cache\n",
      "isbn from api\n",
      "isbn from cache\n",
      "isbn from api\n",
      "isbn from cache\n",
      "isbn from cache\n",
      "isbn from cache\n",
      "isbn from cache\n",
      "isbn from cache\n",
      "isbn from cache\n",
      "isbn from cache\n",
      "isbn from cache\n",
      "isbn from cache\n",
      "isbn from cache\n",
      "isbn from cache\n",
      "isbn from cache\n",
      "isbn from cache\n",
      "isbn from api\n",
      "isbn from api\n",
      "isbn from api\n",
      "isbn from cache\n",
      "isbn from cache\n",
      "isbn from cache\n",
      "isbn from api\n",
      "isbn from api\n",
      "isbn from cache\n",
      "isbn from api\n",
      "isbn from cache\n",
      "isbn from cache\n",
      "isbn from cache\n",
      "isbn from api\n",
      "isbn from cache\n",
      "isbn from cache\n",
      "isbn from api\n",
      "isbn from cache\n",
      "isbn from cache\n",
      "isbn from api\n",
      "isbn from cache\n",
      "isbn from api\n",
      "isbn from api\n",
      "isbn from cache\n",
      "isbn from cache\n",
      "isbn from cache\n",
      "isbn from cache\n",
      "isbn from cache\n",
      "isbn from api\n",
      "isbn from cache\n",
      "isbn from cache\n",
      "isbn from api\n",
      "isbn from api\n",
      "isbn from api\n",
      "isbn from cache\n",
      "isbn from cache\n",
      "isbn from cache\n",
      "isbn from api\n",
      "isbn from api\n",
      "isbn from cache\n",
      "isbn from api\n",
      "isbn from cache\n",
      "isbn from api\n",
      "isbn from cache\n",
      "isbn from api\n",
      "isbn from cache\n",
      "isbn from cache\n",
      "isbn from cache\n",
      "isbn from api\n",
      "isbn from cache\n",
      "isbn from cache\n",
      "isbn from cache\n",
      "isbn from api\n",
      "isbn from cache\n",
      "isbn from cache\n",
      "isbn from api\n",
      "isbn from api\n",
      "isbn from api\n",
      "isbn from api\n",
      "isbn from cache\n",
      "isbn from cache\n",
      "isbn from api\n",
      "isbn from cache\n",
      "isbn from cache\n",
      "isbn from cache\n",
      "isbn from api\n",
      "isbn from cache\n",
      "isbn from api\n",
      "isbn from cache\n",
      "isbn from cache\n",
      "isbn from api\n",
      "isbn from cache\n",
      "isbn from cache\n",
      "isbn from api\n",
      "isbn from cache\n",
      "isbn from cache\n",
      "isbn from api\n",
      "isbn from api\n",
      "isbn from api\n",
      "isbn from api\n",
      "isbn from api\n",
      "isbn from api\n",
      "isbn from cache\n",
      "isbn from api\n",
      "isbn from cache\n",
      "isbn from api\n",
      "isbn from cache\n",
      "isbn from api\n",
      "isbn from cache\n",
      "isbn from cache\n",
      "isbn from api\n",
      "isbn from api\n",
      "isbn from cache\n",
      "isbn from cache\n",
      "isbn from cache\n",
      "isbn from cache\n",
      "isbn from cache\n",
      "isbn from api\n",
      "isbn from api\n",
      "isbn from cache\n",
      "isbn from api\n",
      "isbn from api\n",
      "isbn from cache\n",
      "isbn from cache\n",
      "isbn from cache\n",
      "isbn from api\n",
      "isbn from api\n",
      "isbn from cache\n",
      "isbn from api\n",
      "isbn from api\n",
      "isbn from api\n",
      "isbn from api\n",
      "isbn from cache\n",
      "isbn from cache\n",
      "isbn from cache\n",
      "isbn from api\n",
      "isbn from api\n",
      "isbn from api\n",
      "isbn from api\n",
      "isbn from api\n",
      "isbn from cache\n",
      "isbn from api\n",
      "isbn from api\n",
      "isbn from cache\n",
      "isbn from api\n",
      "isbn from cache\n",
      "isbn from cache\n",
      "isbn from cache\n",
      "isbn from api\n",
      "isbn from cache\n",
      "isbn from cache\n",
      "isbn from api\n",
      "isbn from api\n",
      "isbn from api\n",
      "isbn from cache\n",
      "isbn from cache\n",
      "isbn from api\n",
      "isbn from cache\n",
      "isbn from cache\n",
      "isbn from cache\n",
      "isbn from cache\n",
      "isbn from cache\n",
      "isbn from api\n",
      "isbn from api\n",
      "isbn from cache\n",
      "isbn from api\n",
      "isbn from api\n",
      "isbn from cache\n",
      "isbn from cache\n",
      "isbn from cache\n",
      "isbn from api\n",
      "isbn from cache\n",
      "isbn from api\n",
      "isbn from cache\n",
      "isbn from api\n",
      "isbn from cache\n",
      "isbn from cache\n",
      "isbn from cache\n",
      "isbn from cache\n",
      "isbn from cache\n",
      "isbn from cache\n",
      "isbn from api\n",
      "isbn from api\n",
      "isbn from cache\n",
      "isbn from cache\n",
      "isbn from api\n",
      "isbn from cache\n",
      "isbn from cache\n",
      "isbn from api\n",
      "isbn from cache\n",
      "isbn from cache\n",
      "isbn from cache\n",
      "isbn from cache\n",
      "isbn from cache\n",
      "isbn from cache\n",
      "isbn from api\n",
      "isbn from api\n",
      "isbn from api\n",
      "isbn from cache\n",
      "isbn from api\n",
      "isbn from cache\n",
      "isbn from api\n",
      "isbn from cache\n",
      "isbn from api\n",
      "isbn from cache\n",
      "isbn from api\n",
      "isbn from cache\n",
      "isbn from api\n",
      "isbn from cache\n",
      "isbn from cache\n",
      "isbn from cache\n",
      "isbn from api\n",
      "isbn from cache\n",
      "isbn from cache\n",
      "isbn from api\n",
      "isbn from cache\n",
      "isbn from cache\n",
      "isbn from api\n",
      "isbn from cache\n",
      "isbn from api\n",
      "isbn from api\n",
      "isbn from cache\n",
      "isbn from api\n",
      "isbn from api\n",
      "isbn from cache\n",
      "isbn from cache\n",
      "isbn from cache\n",
      "isbn from cache\n",
      "isbn from api\n",
      "isbn from cache\n",
      "isbn from api\n",
      "isbn from cache\n",
      "isbn from cache\n",
      "isbn from cache\n",
      "isbn from cache\n",
      "isbn from cache\n",
      "isbn from cache\n",
      "isbn from api\n",
      "isbn from api\n",
      "isbn from cache\n",
      "isbn from api\n",
      "isbn from api\n",
      "isbn from cache\n",
      "isbn from cache\n",
      "isbn from cache\n",
      "isbn from cache\n",
      "isbn from cache\n",
      "isbn from cache\n",
      "isbn from api\n",
      "isbn from cache\n",
      "isbn from api\n",
      "isbn from cache\n",
      "isbn from cache\n",
      "isbn from api\n",
      "isbn from cache\n",
      "isbn from api\n",
      "isbn from api\n",
      "isbn from api\n",
      "isbn from api\n",
      "isbn from cache\n",
      "isbn from cache\n",
      "isbn from cache\n",
      "isbn from api\n",
      "isbn from cache\n",
      "isbn from api\n",
      "isbn from api\n",
      "isbn from cache\n",
      "isbn from cache\n",
      "isbn from api\n",
      "isbn from cache\n",
      "isbn from cache\n",
      "isbn from cache\n",
      "isbn from cache\n",
      "isbn from cache\n",
      "isbn from cache\n",
      "isbn from cache\n",
      "isbn from api\n",
      "isbn from api\n",
      "isbn from cache\n",
      "isbn from api\n",
      "isbn from api\n",
      "isbn from cache\n",
      "isbn from cache\n",
      "isbn from api\n",
      "isbn from cache\n",
      "isbn from api\n",
      "isbn from cache\n",
      "isbn from api\n",
      "isbn from cache\n",
      "isbn from api\n",
      "isbn from api\n",
      "isbn from cache\n",
      "isbn from cache\n",
      "isbn from api\n",
      "isbn from cache\n",
      "isbn from api\n",
      "isbn from api\n",
      "isbn from cache\n",
      "isbn from cache\n",
      "isbn from cache\n",
      "isbn from cache\n",
      "isbn from api\n",
      "isbn from api\n",
      "isbn from cache\n",
      "isbn from api\n",
      "isbn from cache\n",
      "isbn from api\n",
      "isbn from api\n",
      "isbn from api\n",
      "isbn from cache\n",
      "isbn from cache\n",
      "isbn from cache\n",
      "isbn from cache\n",
      "isbn from api\n",
      "isbn from api\n",
      "isbn from cache\n",
      "isbn from cache\n",
      "isbn from cache\n",
      "isbn from cache\n",
      "isbn from cache\n",
      "isbn from cache\n",
      "isbn from api\n",
      "isbn from cache\n",
      "isbn from cache\n",
      "isbn from cache\n",
      "isbn from api\n",
      "isbn from cache\n",
      "isbn from cache\n",
      "isbn from cache\n",
      "isbn from cache\n",
      "isbn from api\n",
      "isbn from cache\n",
      "isbn from api\n",
      "isbn from cache\n",
      "isbn from cache\n",
      "isbn from cache\n",
      "isbn from cache\n",
      "isbn from api\n",
      "isbn from cache\n",
      "isbn from api\n",
      "isbn from cache\n",
      "isbn from api\n",
      "isbn from cache\n",
      "isbn from api\n",
      "isbn from api\n",
      "isbn from cache\n",
      "isbn from cache\n",
      "isbn from api\n",
      "isbn from cache\n",
      "isbn from cache\n",
      "isbn from api\n",
      "isbn from cache\n",
      "isbn from api\n",
      "isbn from cache\n",
      "isbn from cache\n",
      "isbn from api\n",
      "isbn from cache\n"
     ]
    }
   ],
   "source": [
    "#sample 100 rows to start with\n",
    "\n",
    "books_sample = books.sample(900)\n",
    "\n",
    "books_sample['category'] = books_sample.apply(get_category_by_title, axis=1)\n",
    "books_sample['category'] = books_sample['category'].str.lower()"
   ]
  },
  {
   "cell_type": "code",
   "execution_count": 31,
   "id": "69d7c204",
   "metadata": {},
   "outputs": [],
   "source": [
    "sample_cached['category'] = sample_cached['category'].str.lower()\n"
   ]
  },
  {
   "cell_type": "code",
   "execution_count": 32,
   "id": "61c78f26",
   "metadata": {},
   "outputs": [],
   "source": [
    "# Combine current df with cached\n",
    "sample_cached = pd.concat([sample_cached,books_sample])\n",
    "\n",
    "sample_cached.drop_duplicates(subset=['isbn','category'], inplace=True)\n",
    "sample_cached.to_csv('sample_cached.csv', index=False)\n"
   ]
  },
  {
   "cell_type": "code",
   "execution_count": 33,
   "id": "11b3250e",
   "metadata": {},
   "outputs": [
    {
     "data": {
      "application/vnd.microsoft.datawrangler.viewer.v0+json": {
       "columns": [
        {
         "name": "category",
         "rawType": "object",
         "type": "string"
        },
        {
         "name": "count",
         "rawType": "int64",
         "type": "integer"
        }
       ],
       "ref": "6dd1dfa8-46cb-4db5-9a7a-89d25ba13334",
       "rows": [
        [
         "fiction",
         "1181"
        ],
        [
         "juvenile fiction",
         "177"
        ],
        [
         "biography & autobiography",
         "151"
        ],
        [
         "literary criticism",
         "91"
        ],
        [
         "history",
         "90"
        ],
        [
         "philosophy",
         "77"
        ],
        [
         "religion",
         "58"
        ],
        [
         "comics & graphic novels",
         "51"
        ],
        [
         "drama",
         "44"
        ],
        [
         "business & economics",
         "37"
        ],
        [
         "young adult fiction",
         "35"
        ],
        [
         "juvenile nonfiction",
         "33"
        ],
        [
         "social science",
         "32"
        ],
        [
         "poetry",
         "32"
        ],
        [
         "language arts & disciplines",
         "29"
        ],
        [
         "political science",
         "25"
        ],
        [
         "self-help",
         "25"
        ],
        [
         "science",
         "25"
        ],
        [
         "computers",
         "23"
        ],
        [
         "body, mind & spirit",
         "23"
        ],
        [
         "psychology",
         "22"
        ],
        [
         "literary collections",
         "20"
        ],
        [
         "art",
         "20"
        ],
        [
         "performing arts",
         "18"
        ],
        [
         "humor",
         "16"
        ],
        [
         "family & relationships",
         "15"
        ],
        [
         "travel",
         "15"
        ],
        [
         "cooking",
         "14"
        ],
        [
         "nature",
         "13"
        ],
        [
         "education",
         "12"
        ],
        [
         "american literature",
         "11"
        ],
        [
         "comic books, strips, etc",
         "9"
        ],
        [
         "detective and mystery stories",
         "8"
        ],
        [
         "health & fitness",
         "8"
        ],
        [
         "music",
         "7"
        ],
        [
         "sports & recreation",
         "7"
        ],
        [
         "foreign language study",
         "7"
        ],
        [
         "american fiction",
         "7"
        ],
        [
         "technology & engineering",
         "6"
        ],
        [
         "law",
         "6"
        ],
        [
         "reference",
         "6"
        ],
        [
         "architecture",
         "6"
        ],
        [
         "study aids",
         "5"
        ],
        [
         "mathematics",
         "5"
        ],
        [
         "medical",
         "5"
        ],
        [
         "young adult nonfiction",
         "4"
        ],
        [
         "union catalogs",
         "4"
        ],
        [
         "england",
         "4"
        ],
        [
         "photography",
         "4"
        ],
        [
         "english fiction",
         "4"
        ]
       ],
       "shape": {
        "columns": 1,
        "rows": 302
       }
      },
      "text/plain": [
       "category\n",
       "fiction                      1181\n",
       "juvenile fiction              177\n",
       "biography & autobiography     151\n",
       "literary criticism             91\n",
       "history                        90\n",
       "                             ... \n",
       "poets, american                 1\n",
       "photography of the nude         1\n",
       "change                          1\n",
       "ireland                         1\n",
       "dysfunctional families          1\n",
       "Name: count, Length: 302, dtype: int64"
      ]
     },
     "execution_count": 33,
     "metadata": {},
     "output_type": "execute_result"
    }
   ],
   "source": [
    "sample_cached['category'].value_counts()"
   ]
  },
  {
   "cell_type": "code",
   "execution_count": 34,
   "id": "e4cc3123",
   "metadata": {},
   "outputs": [],
   "source": [
    "# nf_sample = sample_cached[sample_cached[\"category\"].isin(drop_cols) == False]\n",
    "nf_sample = sample_cached[sample_cached['category'].isin(nyt_cats)]"
   ]
  },
  {
   "cell_type": "code",
   "execution_count": 35,
   "id": "07221cb2",
   "metadata": {},
   "outputs": [],
   "source": [
    "nf_percents = nf_sample['category'].value_counts(normalize=True).reset_index()\n",
    "nf_percents.rename(columns={'proportion':'percent'},inplace=True)"
   ]
  },
  {
   "cell_type": "code",
   "execution_count": 36,
   "id": "f3cbd244",
   "metadata": {},
   "outputs": [
    {
     "data": {
      "text/plain": [
       "<bound method Series.info of 2                      psychology\n",
       "7                  social science\n",
       "11                     philosophy\n",
       "22                        history\n",
       "27      biography & autobiography\n",
       "                  ...            \n",
       "1469                   philosophy\n",
       "7761          body, mind & spirit\n",
       "3014             health & fitness\n",
       "8302          body, mind & spirit\n",
       "4688               social science\n",
       "Name: category, Length: 811, dtype: object>"
      ]
     },
     "execution_count": 36,
     "metadata": {},
     "output_type": "execute_result"
    }
   ],
   "source": [
    "nf_sample['category'].info"
   ]
  },
  {
   "cell_type": "code",
   "execution_count": null,
   "id": "d932f045",
   "metadata": {},
   "outputs": [],
   "source": []
  },
  {
   "cell_type": "code",
   "execution_count": 37,
   "id": "43119c83",
   "metadata": {},
   "outputs": [
    {
     "data": {
      "application/vnd.microsoft.datawrangler.viewer.v0+json": {
       "columns": [
        {
         "name": "index",
         "rawType": "int64",
         "type": "integer"
        },
        {
         "name": "category",
         "rawType": "object",
         "type": "string"
        },
        {
         "name": "percent",
         "rawType": "float64",
         "type": "float"
        }
       ],
       "ref": "96d6cb25-999a-4569-a204-4458cb266f3a",
       "rows": [
        [
         "0",
         "biography & autobiography",
         "0.18618988902589395"
        ],
        [
         "1",
         "history",
         "0.11097410604192355"
        ],
        [
         "2",
         "philosophy",
         "0.09494451294697903"
        ],
        [
         "3",
         "religion",
         "0.07151664611590629"
        ],
        [
         "4",
         "business & economics",
         "0.04562268803945746"
        ],
        [
         "5",
         "social science",
         "0.03945745992601726"
        ],
        [
         "6",
         "language arts & disciplines",
         "0.035758323057953144"
        ],
        [
         "7",
         "self-help",
         "0.030826140567200986"
        ],
        [
         "8",
         "political science",
         "0.030826140567200986"
        ],
        [
         "9",
         "science",
         "0.030826140567200986"
        ],
        [
         "10",
         "body, mind & spirit",
         "0.02836004932182491"
        ],
        [
         "11",
         "computers",
         "0.02836004932182491"
        ],
        [
         "12",
         "psychology",
         "0.027127003699136867"
        ],
        [
         "13",
         "literary collections",
         "0.02466091245376079"
        ],
        [
         "14",
         "art",
         "0.02466091245376079"
        ],
        [
         "15",
         "performing arts",
         "0.02219482120838471"
        ],
        [
         "16",
         "humor",
         "0.01972872996300863"
        ],
        [
         "17",
         "family & relationships",
         "0.018495684340320593"
        ],
        [
         "18",
         "travel",
         "0.018495684340320593"
        ],
        [
         "19",
         "cooking",
         "0.01726263871763255"
        ],
        [
         "20",
         "nature",
         "0.016029593094944512"
        ],
        [
         "21",
         "education",
         "0.014796547472256474"
        ],
        [
         "22",
         "health & fitness",
         "0.009864364981504316"
        ],
        [
         "23",
         "music",
         "0.008631319358816275"
        ],
        [
         "24",
         "sports & recreation",
         "0.008631319358816275"
        ],
        [
         "25",
         "law",
         "0.007398273736128237"
        ],
        [
         "26",
         "technology & engineering",
         "0.007398273736128237"
        ],
        [
         "27",
         "medical",
         "0.006165228113440197"
        ],
        [
         "28",
         "mathematics",
         "0.006165228113440197"
        ],
        [
         "29",
         "photography",
         "0.004932182490752158"
        ],
        [
         "30",
         "true crime",
         "0.0036991368680641184"
        ]
       ],
       "shape": {
        "columns": 2,
        "rows": 31
       }
      },
      "text/html": [
       "<div>\n",
       "<style scoped>\n",
       "    .dataframe tbody tr th:only-of-type {\n",
       "        vertical-align: middle;\n",
       "    }\n",
       "\n",
       "    .dataframe tbody tr th {\n",
       "        vertical-align: top;\n",
       "    }\n",
       "\n",
       "    .dataframe thead th {\n",
       "        text-align: right;\n",
       "    }\n",
       "</style>\n",
       "<table border=\"1\" class=\"dataframe\">\n",
       "  <thead>\n",
       "    <tr style=\"text-align: right;\">\n",
       "      <th></th>\n",
       "      <th>category</th>\n",
       "      <th>percent</th>\n",
       "    </tr>\n",
       "  </thead>\n",
       "  <tbody>\n",
       "    <tr>\n",
       "      <th>0</th>\n",
       "      <td>biography &amp; autobiography</td>\n",
       "      <td>0.186190</td>\n",
       "    </tr>\n",
       "    <tr>\n",
       "      <th>1</th>\n",
       "      <td>history</td>\n",
       "      <td>0.110974</td>\n",
       "    </tr>\n",
       "    <tr>\n",
       "      <th>2</th>\n",
       "      <td>philosophy</td>\n",
       "      <td>0.094945</td>\n",
       "    </tr>\n",
       "    <tr>\n",
       "      <th>3</th>\n",
       "      <td>religion</td>\n",
       "      <td>0.071517</td>\n",
       "    </tr>\n",
       "    <tr>\n",
       "      <th>4</th>\n",
       "      <td>business &amp; economics</td>\n",
       "      <td>0.045623</td>\n",
       "    </tr>\n",
       "    <tr>\n",
       "      <th>5</th>\n",
       "      <td>social science</td>\n",
       "      <td>0.039457</td>\n",
       "    </tr>\n",
       "    <tr>\n",
       "      <th>6</th>\n",
       "      <td>language arts &amp; disciplines</td>\n",
       "      <td>0.035758</td>\n",
       "    </tr>\n",
       "    <tr>\n",
       "      <th>7</th>\n",
       "      <td>self-help</td>\n",
       "      <td>0.030826</td>\n",
       "    </tr>\n",
       "    <tr>\n",
       "      <th>8</th>\n",
       "      <td>political science</td>\n",
       "      <td>0.030826</td>\n",
       "    </tr>\n",
       "    <tr>\n",
       "      <th>9</th>\n",
       "      <td>science</td>\n",
       "      <td>0.030826</td>\n",
       "    </tr>\n",
       "    <tr>\n",
       "      <th>10</th>\n",
       "      <td>body, mind &amp; spirit</td>\n",
       "      <td>0.028360</td>\n",
       "    </tr>\n",
       "    <tr>\n",
       "      <th>11</th>\n",
       "      <td>computers</td>\n",
       "      <td>0.028360</td>\n",
       "    </tr>\n",
       "    <tr>\n",
       "      <th>12</th>\n",
       "      <td>psychology</td>\n",
       "      <td>0.027127</td>\n",
       "    </tr>\n",
       "    <tr>\n",
       "      <th>13</th>\n",
       "      <td>literary collections</td>\n",
       "      <td>0.024661</td>\n",
       "    </tr>\n",
       "    <tr>\n",
       "      <th>14</th>\n",
       "      <td>art</td>\n",
       "      <td>0.024661</td>\n",
       "    </tr>\n",
       "    <tr>\n",
       "      <th>15</th>\n",
       "      <td>performing arts</td>\n",
       "      <td>0.022195</td>\n",
       "    </tr>\n",
       "    <tr>\n",
       "      <th>16</th>\n",
       "      <td>humor</td>\n",
       "      <td>0.019729</td>\n",
       "    </tr>\n",
       "    <tr>\n",
       "      <th>17</th>\n",
       "      <td>family &amp; relationships</td>\n",
       "      <td>0.018496</td>\n",
       "    </tr>\n",
       "    <tr>\n",
       "      <th>18</th>\n",
       "      <td>travel</td>\n",
       "      <td>0.018496</td>\n",
       "    </tr>\n",
       "    <tr>\n",
       "      <th>19</th>\n",
       "      <td>cooking</td>\n",
       "      <td>0.017263</td>\n",
       "    </tr>\n",
       "    <tr>\n",
       "      <th>20</th>\n",
       "      <td>nature</td>\n",
       "      <td>0.016030</td>\n",
       "    </tr>\n",
       "    <tr>\n",
       "      <th>21</th>\n",
       "      <td>education</td>\n",
       "      <td>0.014797</td>\n",
       "    </tr>\n",
       "    <tr>\n",
       "      <th>22</th>\n",
       "      <td>health &amp; fitness</td>\n",
       "      <td>0.009864</td>\n",
       "    </tr>\n",
       "    <tr>\n",
       "      <th>23</th>\n",
       "      <td>music</td>\n",
       "      <td>0.008631</td>\n",
       "    </tr>\n",
       "    <tr>\n",
       "      <th>24</th>\n",
       "      <td>sports &amp; recreation</td>\n",
       "      <td>0.008631</td>\n",
       "    </tr>\n",
       "    <tr>\n",
       "      <th>25</th>\n",
       "      <td>law</td>\n",
       "      <td>0.007398</td>\n",
       "    </tr>\n",
       "    <tr>\n",
       "      <th>26</th>\n",
       "      <td>technology &amp; engineering</td>\n",
       "      <td>0.007398</td>\n",
       "    </tr>\n",
       "    <tr>\n",
       "      <th>27</th>\n",
       "      <td>medical</td>\n",
       "      <td>0.006165</td>\n",
       "    </tr>\n",
       "    <tr>\n",
       "      <th>28</th>\n",
       "      <td>mathematics</td>\n",
       "      <td>0.006165</td>\n",
       "    </tr>\n",
       "    <tr>\n",
       "      <th>29</th>\n",
       "      <td>photography</td>\n",
       "      <td>0.004932</td>\n",
       "    </tr>\n",
       "    <tr>\n",
       "      <th>30</th>\n",
       "      <td>true crime</td>\n",
       "      <td>0.003699</td>\n",
       "    </tr>\n",
       "  </tbody>\n",
       "</table>\n",
       "</div>"
      ],
      "text/plain": [
       "                       category   percent\n",
       "0     biography & autobiography  0.186190\n",
       "1                       history  0.110974\n",
       "2                    philosophy  0.094945\n",
       "3                      religion  0.071517\n",
       "4          business & economics  0.045623\n",
       "5                social science  0.039457\n",
       "6   language arts & disciplines  0.035758\n",
       "7                     self-help  0.030826\n",
       "8             political science  0.030826\n",
       "9                       science  0.030826\n",
       "10          body, mind & spirit  0.028360\n",
       "11                    computers  0.028360\n",
       "12                   psychology  0.027127\n",
       "13         literary collections  0.024661\n",
       "14                          art  0.024661\n",
       "15              performing arts  0.022195\n",
       "16                        humor  0.019729\n",
       "17       family & relationships  0.018496\n",
       "18                       travel  0.018496\n",
       "19                      cooking  0.017263\n",
       "20                       nature  0.016030\n",
       "21                    education  0.014797\n",
       "22             health & fitness  0.009864\n",
       "23                        music  0.008631\n",
       "24          sports & recreation  0.008631\n",
       "25                          law  0.007398\n",
       "26     technology & engineering  0.007398\n",
       "27                      medical  0.006165\n",
       "28                  mathematics  0.006165\n",
       "29                  photography  0.004932\n",
       "30                   true crime  0.003699"
      ]
     },
     "execution_count": 37,
     "metadata": {},
     "output_type": "execute_result"
    }
   ],
   "source": [
    "nf_percents"
   ]
  },
  {
   "cell_type": "code",
   "execution_count": 38,
   "id": "9493495c",
   "metadata": {},
   "outputs": [],
   "source": [
    "nyt_percents = clean_df['category'].value_counts(normalize=True).reset_index()\n",
    "nyt_percents.rename(columns={'proportion':'percent'},inplace=True)"
   ]
  },
  {
   "cell_type": "code",
   "execution_count": 39,
   "id": "868919b8",
   "metadata": {},
   "outputs": [
    {
     "data": {
      "application/vnd.microsoft.datawrangler.viewer.v0+json": {
       "columns": [
        {
         "name": "index",
         "rawType": "int64",
         "type": "integer"
        },
        {
         "name": "category",
         "rawType": "object",
         "type": "string"
        },
        {
         "name": "percent",
         "rawType": "float64",
         "type": "float"
        }
       ],
       "ref": "cce66be6-e501-4000-8826-abb5fba9c7e4",
       "rows": [
        [
         "0",
         "biography & autobiography",
         "0.46490701859628075"
        ],
        [
         "1",
         "history",
         "0.10557888422315537"
        ],
        [
         "2",
         "political science",
         "0.09298140371925614"
        ],
        [
         "3",
         "social science",
         "0.04319136172765447"
        ],
        [
         "4",
         "science",
         "0.028794241151769647"
        ],
        [
         "5",
         "medical",
         "0.026994601079784044"
        ],
        [
         "6",
         "true crime",
         "0.026994601079784044"
        ],
        [
         "7",
         "business & economics",
         "0.02579484103179364"
        ],
        [
         "8",
         "family & relationships",
         "0.02399520095980804"
        ],
        [
         "9",
         "sports & recreation",
         "0.01919616076784643"
        ],
        [
         "10",
         "humor",
         "0.01859628074385123"
        ],
        [
         "11",
         "psychology",
         "0.01859628074385123"
        ],
        [
         "12",
         "nature",
         "0.01739652069586083"
        ],
        [
         "13",
         "health & fitness",
         "0.010797840431913617"
        ],
        [
         "14",
         "literary collections",
         "0.009598080383923215"
        ],
        [
         "15",
         "law",
         "0.008398320335932814"
        ],
        [
         "16",
         "religion",
         "0.007798440311937612"
        ],
        [
         "17",
         "education",
         "0.007198560287942412"
        ],
        [
         "18",
         "performing arts",
         "0.007198560287942412"
        ],
        [
         "19",
         "photography",
         "0.005398920215956809"
        ],
        [
         "20",
         "art",
         "0.004799040191961607"
        ],
        [
         "21",
         "self-help",
         "0.003599280143971206"
        ],
        [
         "22",
         "language arts & disciplines",
         "0.002999400119976005"
        ],
        [
         "23",
         "music",
         "0.002999400119976005"
        ],
        [
         "24",
         "travel",
         "0.002999400119976005"
        ],
        [
         "25",
         "body, mind & spirit",
         "0.001799640071985603"
        ],
        [
         "26",
         "pets",
         "0.0011997600479904018"
        ],
        [
         "27",
         "equality",
         "0.0011997600479904018"
        ],
        [
         "28",
         "billionaires",
         "0.0011997600479904018"
        ],
        [
         "29",
         "communicable diseases",
         "0.0005998800239952009"
        ],
        [
         "30",
         "soldiers",
         "0.0005998800239952009"
        ],
        [
         "31",
         "cold war",
         "0.0005998800239952009"
        ],
        [
         "32",
         "mathematics",
         "0.0005998800239952009"
        ],
        [
         "33",
         "philosophy",
         "0.0005998800239952009"
        ],
        [
         "34",
         "biography",
         "0.0005998800239952009"
        ],
        [
         "35",
         "computers",
         "0.0005998800239952009"
        ],
        [
         "36",
         "anti-communist movements",
         "0.0005998800239952009"
        ],
        [
         "37",
         "south african war, 1899-1902",
         "0.0005998800239952009"
        ],
        [
         "38",
         "olympic games (11th : 1936 : berlin, germany)",
         "0.0005998800239952009"
        ],
        [
         "39",
         "cooking",
         "0.0005998800239952009"
        ],
        [
         "40",
         "technology & engineering",
         "0.0005998800239952009"
        ],
        [
         "41",
         "autobiographies",
         "0.0005998800239952009"
        ]
       ],
       "shape": {
        "columns": 2,
        "rows": 42
       }
      },
      "text/html": [
       "<div>\n",
       "<style scoped>\n",
       "    .dataframe tbody tr th:only-of-type {\n",
       "        vertical-align: middle;\n",
       "    }\n",
       "\n",
       "    .dataframe tbody tr th {\n",
       "        vertical-align: top;\n",
       "    }\n",
       "\n",
       "    .dataframe thead th {\n",
       "        text-align: right;\n",
       "    }\n",
       "</style>\n",
       "<table border=\"1\" class=\"dataframe\">\n",
       "  <thead>\n",
       "    <tr style=\"text-align: right;\">\n",
       "      <th></th>\n",
       "      <th>category</th>\n",
       "      <th>percent</th>\n",
       "    </tr>\n",
       "  </thead>\n",
       "  <tbody>\n",
       "    <tr>\n",
       "      <th>0</th>\n",
       "      <td>biography &amp; autobiography</td>\n",
       "      <td>0.464907</td>\n",
       "    </tr>\n",
       "    <tr>\n",
       "      <th>1</th>\n",
       "      <td>history</td>\n",
       "      <td>0.105579</td>\n",
       "    </tr>\n",
       "    <tr>\n",
       "      <th>2</th>\n",
       "      <td>political science</td>\n",
       "      <td>0.092981</td>\n",
       "    </tr>\n",
       "    <tr>\n",
       "      <th>3</th>\n",
       "      <td>social science</td>\n",
       "      <td>0.043191</td>\n",
       "    </tr>\n",
       "    <tr>\n",
       "      <th>4</th>\n",
       "      <td>science</td>\n",
       "      <td>0.028794</td>\n",
       "    </tr>\n",
       "    <tr>\n",
       "      <th>5</th>\n",
       "      <td>medical</td>\n",
       "      <td>0.026995</td>\n",
       "    </tr>\n",
       "    <tr>\n",
       "      <th>6</th>\n",
       "      <td>true crime</td>\n",
       "      <td>0.026995</td>\n",
       "    </tr>\n",
       "    <tr>\n",
       "      <th>7</th>\n",
       "      <td>business &amp; economics</td>\n",
       "      <td>0.025795</td>\n",
       "    </tr>\n",
       "    <tr>\n",
       "      <th>8</th>\n",
       "      <td>family &amp; relationships</td>\n",
       "      <td>0.023995</td>\n",
       "    </tr>\n",
       "    <tr>\n",
       "      <th>9</th>\n",
       "      <td>sports &amp; recreation</td>\n",
       "      <td>0.019196</td>\n",
       "    </tr>\n",
       "    <tr>\n",
       "      <th>10</th>\n",
       "      <td>humor</td>\n",
       "      <td>0.018596</td>\n",
       "    </tr>\n",
       "    <tr>\n",
       "      <th>11</th>\n",
       "      <td>psychology</td>\n",
       "      <td>0.018596</td>\n",
       "    </tr>\n",
       "    <tr>\n",
       "      <th>12</th>\n",
       "      <td>nature</td>\n",
       "      <td>0.017397</td>\n",
       "    </tr>\n",
       "    <tr>\n",
       "      <th>13</th>\n",
       "      <td>health &amp; fitness</td>\n",
       "      <td>0.010798</td>\n",
       "    </tr>\n",
       "    <tr>\n",
       "      <th>14</th>\n",
       "      <td>literary collections</td>\n",
       "      <td>0.009598</td>\n",
       "    </tr>\n",
       "    <tr>\n",
       "      <th>15</th>\n",
       "      <td>law</td>\n",
       "      <td>0.008398</td>\n",
       "    </tr>\n",
       "    <tr>\n",
       "      <th>16</th>\n",
       "      <td>religion</td>\n",
       "      <td>0.007798</td>\n",
       "    </tr>\n",
       "    <tr>\n",
       "      <th>17</th>\n",
       "      <td>education</td>\n",
       "      <td>0.007199</td>\n",
       "    </tr>\n",
       "    <tr>\n",
       "      <th>18</th>\n",
       "      <td>performing arts</td>\n",
       "      <td>0.007199</td>\n",
       "    </tr>\n",
       "    <tr>\n",
       "      <th>19</th>\n",
       "      <td>photography</td>\n",
       "      <td>0.005399</td>\n",
       "    </tr>\n",
       "    <tr>\n",
       "      <th>20</th>\n",
       "      <td>art</td>\n",
       "      <td>0.004799</td>\n",
       "    </tr>\n",
       "    <tr>\n",
       "      <th>21</th>\n",
       "      <td>self-help</td>\n",
       "      <td>0.003599</td>\n",
       "    </tr>\n",
       "    <tr>\n",
       "      <th>22</th>\n",
       "      <td>language arts &amp; disciplines</td>\n",
       "      <td>0.002999</td>\n",
       "    </tr>\n",
       "    <tr>\n",
       "      <th>23</th>\n",
       "      <td>music</td>\n",
       "      <td>0.002999</td>\n",
       "    </tr>\n",
       "    <tr>\n",
       "      <th>24</th>\n",
       "      <td>travel</td>\n",
       "      <td>0.002999</td>\n",
       "    </tr>\n",
       "    <tr>\n",
       "      <th>25</th>\n",
       "      <td>body, mind &amp; spirit</td>\n",
       "      <td>0.001800</td>\n",
       "    </tr>\n",
       "    <tr>\n",
       "      <th>26</th>\n",
       "      <td>pets</td>\n",
       "      <td>0.001200</td>\n",
       "    </tr>\n",
       "    <tr>\n",
       "      <th>27</th>\n",
       "      <td>equality</td>\n",
       "      <td>0.001200</td>\n",
       "    </tr>\n",
       "    <tr>\n",
       "      <th>28</th>\n",
       "      <td>billionaires</td>\n",
       "      <td>0.001200</td>\n",
       "    </tr>\n",
       "    <tr>\n",
       "      <th>29</th>\n",
       "      <td>communicable diseases</td>\n",
       "      <td>0.000600</td>\n",
       "    </tr>\n",
       "    <tr>\n",
       "      <th>30</th>\n",
       "      <td>soldiers</td>\n",
       "      <td>0.000600</td>\n",
       "    </tr>\n",
       "    <tr>\n",
       "      <th>31</th>\n",
       "      <td>cold war</td>\n",
       "      <td>0.000600</td>\n",
       "    </tr>\n",
       "    <tr>\n",
       "      <th>32</th>\n",
       "      <td>mathematics</td>\n",
       "      <td>0.000600</td>\n",
       "    </tr>\n",
       "    <tr>\n",
       "      <th>33</th>\n",
       "      <td>philosophy</td>\n",
       "      <td>0.000600</td>\n",
       "    </tr>\n",
       "    <tr>\n",
       "      <th>34</th>\n",
       "      <td>biography</td>\n",
       "      <td>0.000600</td>\n",
       "    </tr>\n",
       "    <tr>\n",
       "      <th>35</th>\n",
       "      <td>computers</td>\n",
       "      <td>0.000600</td>\n",
       "    </tr>\n",
       "    <tr>\n",
       "      <th>36</th>\n",
       "      <td>anti-communist movements</td>\n",
       "      <td>0.000600</td>\n",
       "    </tr>\n",
       "    <tr>\n",
       "      <th>37</th>\n",
       "      <td>south african war, 1899-1902</td>\n",
       "      <td>0.000600</td>\n",
       "    </tr>\n",
       "    <tr>\n",
       "      <th>38</th>\n",
       "      <td>olympic games (11th : 1936 : berlin, germany)</td>\n",
       "      <td>0.000600</td>\n",
       "    </tr>\n",
       "    <tr>\n",
       "      <th>39</th>\n",
       "      <td>cooking</td>\n",
       "      <td>0.000600</td>\n",
       "    </tr>\n",
       "    <tr>\n",
       "      <th>40</th>\n",
       "      <td>technology &amp; engineering</td>\n",
       "      <td>0.000600</td>\n",
       "    </tr>\n",
       "    <tr>\n",
       "      <th>41</th>\n",
       "      <td>autobiographies</td>\n",
       "      <td>0.000600</td>\n",
       "    </tr>\n",
       "  </tbody>\n",
       "</table>\n",
       "</div>"
      ],
      "text/plain": [
       "                                         category   percent\n",
       "0                       biography & autobiography  0.464907\n",
       "1                                         history  0.105579\n",
       "2                               political science  0.092981\n",
       "3                                  social science  0.043191\n",
       "4                                         science  0.028794\n",
       "5                                         medical  0.026995\n",
       "6                                      true crime  0.026995\n",
       "7                            business & economics  0.025795\n",
       "8                          family & relationships  0.023995\n",
       "9                             sports & recreation  0.019196\n",
       "10                                          humor  0.018596\n",
       "11                                     psychology  0.018596\n",
       "12                                         nature  0.017397\n",
       "13                               health & fitness  0.010798\n",
       "14                           literary collections  0.009598\n",
       "15                                            law  0.008398\n",
       "16                                       religion  0.007798\n",
       "17                                      education  0.007199\n",
       "18                                performing arts  0.007199\n",
       "19                                    photography  0.005399\n",
       "20                                            art  0.004799\n",
       "21                                      self-help  0.003599\n",
       "22                    language arts & disciplines  0.002999\n",
       "23                                          music  0.002999\n",
       "24                                         travel  0.002999\n",
       "25                            body, mind & spirit  0.001800\n",
       "26                                           pets  0.001200\n",
       "27                                       equality  0.001200\n",
       "28                                   billionaires  0.001200\n",
       "29                          communicable diseases  0.000600\n",
       "30                                       soldiers  0.000600\n",
       "31                                       cold war  0.000600\n",
       "32                                    mathematics  0.000600\n",
       "33                                     philosophy  0.000600\n",
       "34                                      biography  0.000600\n",
       "35                                      computers  0.000600\n",
       "36                       anti-communist movements  0.000600\n",
       "37                   south african war, 1899-1902  0.000600\n",
       "38  olympic games (11th : 1936 : berlin, germany)  0.000600\n",
       "39                                        cooking  0.000600\n",
       "40                       technology & engineering  0.000600\n",
       "41                                autobiographies  0.000600"
      ]
     },
     "execution_count": 39,
     "metadata": {},
     "output_type": "execute_result"
    }
   ],
   "source": [
    "nyt_percents"
   ]
  },
  {
   "cell_type": "code",
   "execution_count": 40,
   "id": "a68576b0",
   "metadata": {},
   "outputs": [],
   "source": [
    "nf_percents['list']='nf'\n",
    "nyt_percents['list']='nyt'\n",
    "\n",
    "combined_percents = pd.concat([nf_percents,nyt_percents])"
   ]
  },
  {
   "cell_type": "code",
   "execution_count": 41,
   "id": "3fff6621",
   "metadata": {},
   "outputs": [
    {
     "data": {
      "application/vnd.microsoft.datawrangler.viewer.v0+json": {
       "columns": [
        {
         "name": "index",
         "rawType": "int64",
         "type": "integer"
        },
        {
         "name": "category",
         "rawType": "object",
         "type": "string"
        },
        {
         "name": "percent",
         "rawType": "float64",
         "type": "float"
        },
        {
         "name": "list",
         "rawType": "object",
         "type": "string"
        }
       ],
       "ref": "4302c4d6-db92-4c8f-a95c-09b683f31713",
       "rows": [
        [
         "0",
         "biography & autobiography",
         "0.18618988902589395",
         "nf"
        ],
        [
         "1",
         "history",
         "0.11097410604192355",
         "nf"
        ],
        [
         "2",
         "philosophy",
         "0.09494451294697903",
         "nf"
        ],
        [
         "3",
         "religion",
         "0.07151664611590629",
         "nf"
        ],
        [
         "4",
         "business & economics",
         "0.04562268803945746",
         "nf"
        ]
       ],
       "shape": {
        "columns": 3,
        "rows": 5
       }
      },
      "text/html": [
       "<div>\n",
       "<style scoped>\n",
       "    .dataframe tbody tr th:only-of-type {\n",
       "        vertical-align: middle;\n",
       "    }\n",
       "\n",
       "    .dataframe tbody tr th {\n",
       "        vertical-align: top;\n",
       "    }\n",
       "\n",
       "    .dataframe thead th {\n",
       "        text-align: right;\n",
       "    }\n",
       "</style>\n",
       "<table border=\"1\" class=\"dataframe\">\n",
       "  <thead>\n",
       "    <tr style=\"text-align: right;\">\n",
       "      <th></th>\n",
       "      <th>category</th>\n",
       "      <th>percent</th>\n",
       "      <th>list</th>\n",
       "    </tr>\n",
       "  </thead>\n",
       "  <tbody>\n",
       "    <tr>\n",
       "      <th>0</th>\n",
       "      <td>biography &amp; autobiography</td>\n",
       "      <td>0.186190</td>\n",
       "      <td>nf</td>\n",
       "    </tr>\n",
       "    <tr>\n",
       "      <th>1</th>\n",
       "      <td>history</td>\n",
       "      <td>0.110974</td>\n",
       "      <td>nf</td>\n",
       "    </tr>\n",
       "    <tr>\n",
       "      <th>2</th>\n",
       "      <td>philosophy</td>\n",
       "      <td>0.094945</td>\n",
       "      <td>nf</td>\n",
       "    </tr>\n",
       "    <tr>\n",
       "      <th>3</th>\n",
       "      <td>religion</td>\n",
       "      <td>0.071517</td>\n",
       "      <td>nf</td>\n",
       "    </tr>\n",
       "    <tr>\n",
       "      <th>4</th>\n",
       "      <td>business &amp; economics</td>\n",
       "      <td>0.045623</td>\n",
       "      <td>nf</td>\n",
       "    </tr>\n",
       "  </tbody>\n",
       "</table>\n",
       "</div>"
      ],
      "text/plain": [
       "                    category   percent list\n",
       "0  biography & autobiography  0.186190   nf\n",
       "1                    history  0.110974   nf\n",
       "2                 philosophy  0.094945   nf\n",
       "3                   religion  0.071517   nf\n",
       "4       business & economics  0.045623   nf"
      ]
     },
     "execution_count": 41,
     "metadata": {},
     "output_type": "execute_result"
    }
   ],
   "source": [
    "combined_percents.head()"
   ]
  },
  {
   "cell_type": "code",
   "execution_count": 42,
   "id": "815d00b3",
   "metadata": {},
   "outputs": [
    {
     "data": {
      "text/plain": [
       "(811, 7)"
      ]
     },
     "execution_count": 42,
     "metadata": {},
     "output_type": "execute_result"
    }
   ],
   "source": [
    "nf_sample.shape"
   ]
  },
  {
   "cell_type": "code",
   "execution_count": 43,
   "id": "efa89c33",
   "metadata": {},
   "outputs": [
    {
     "data": {
      "application/vnd.plotly.v1+json": {
       "config": {
        "plotlyServerURL": "https://plot.ly"
       },
       "data": [
        {
         "alignmentgroup": "True",
         "hovertemplate": "list=nf<br>category=%{x}<br>percent=%{y}<extra></extra>",
         "legendgroup": "nf",
         "marker": {
          "color": "#636efa",
          "pattern": {
           "shape": ""
          }
         },
         "name": "nf",
         "offsetgroup": "nf",
         "orientation": "v",
         "showlegend": true,
         "textposition": "auto",
         "type": "bar",
         "x": [
          "biography & autobiography",
          "history",
          "business & economics",
          "social science",
          "political science",
          "science",
          "family & relationships",
          "sports & recreation",
          "medical",
          "true crime"
         ],
         "xaxis": "x",
         "y": {
          "bdata": "kCUb/hHVxz9NJCeMzGi8P6CPK2LbW6c/tFLup8QzpD85YWRG45CfPzlhZEbjkJ8/iW1vXYjwkj9diPASTK2BP2Hn6dG1QHk/Dnzl+6ZNbj8=",
          "dtype": "f8"
         },
         "yaxis": "y"
        },
        {
         "alignmentgroup": "True",
         "hovertemplate": "list=nyt<br>category=%{x}<br>percent=%{y}<extra></extra>",
         "legendgroup": "nyt",
         "marker": {
          "color": "#EF553B",
          "pattern": {
           "shape": ""
          }
         },
         "name": "nyt",
         "offsetgroup": "nyt",
         "orientation": "v",
         "showlegend": true,
         "textposition": "auto",
         "type": "bar",
         "x": [
          "biography & autobiography",
          "history",
          "political science",
          "social science",
          "science",
          "medical",
          "true crime",
          "business & economics",
          "family & relationships",
          "sports & recreation"
         ],
         "xaxis": "x",
         "y": {
          "bdata": "KVIjXgnB3T+0+eK+Nwe7P7pBHBihzbc/HxIunC0dpj9/bT3QPHydP6eWOQN5pJs/p5Y5A3mkmz/BXIx69mmaP+qFiK0ykpg/VJ7Tiiiokz8=",
          "dtype": "f8"
         },
         "yaxis": "y"
        }
       ],
       "layout": {
        "barmode": "group",
        "legend": {
         "title": {
          "text": "list"
         },
         "tracegroupgap": 0
        },
        "margin": {
         "t": 60
        },
        "template": {
         "data": {
          "bar": [
           {
            "error_x": {
             "color": "#2a3f5f"
            },
            "error_y": {
             "color": "#2a3f5f"
            },
            "marker": {
             "line": {
              "color": "white",
              "width": 0.5
             },
             "pattern": {
              "fillmode": "overlay",
              "size": 10,
              "solidity": 0.2
             }
            },
            "type": "bar"
           }
          ],
          "barpolar": [
           {
            "marker": {
             "line": {
              "color": "white",
              "width": 0.5
             },
             "pattern": {
              "fillmode": "overlay",
              "size": 10,
              "solidity": 0.2
             }
            },
            "type": "barpolar"
           }
          ],
          "carpet": [
           {
            "aaxis": {
             "endlinecolor": "#2a3f5f",
             "gridcolor": "#C8D4E3",
             "linecolor": "#C8D4E3",
             "minorgridcolor": "#C8D4E3",
             "startlinecolor": "#2a3f5f"
            },
            "baxis": {
             "endlinecolor": "#2a3f5f",
             "gridcolor": "#C8D4E3",
             "linecolor": "#C8D4E3",
             "minorgridcolor": "#C8D4E3",
             "startlinecolor": "#2a3f5f"
            },
            "type": "carpet"
           }
          ],
          "choropleth": [
           {
            "colorbar": {
             "outlinewidth": 0,
             "ticks": ""
            },
            "type": "choropleth"
           }
          ],
          "contour": [
           {
            "colorbar": {
             "outlinewidth": 0,
             "ticks": ""
            },
            "colorscale": [
             [
              0,
              "#0d0887"
             ],
             [
              0.1111111111111111,
              "#46039f"
             ],
             [
              0.2222222222222222,
              "#7201a8"
             ],
             [
              0.3333333333333333,
              "#9c179e"
             ],
             [
              0.4444444444444444,
              "#bd3786"
             ],
             [
              0.5555555555555556,
              "#d8576b"
             ],
             [
              0.6666666666666666,
              "#ed7953"
             ],
             [
              0.7777777777777778,
              "#fb9f3a"
             ],
             [
              0.8888888888888888,
              "#fdca26"
             ],
             [
              1,
              "#f0f921"
             ]
            ],
            "type": "contour"
           }
          ],
          "contourcarpet": [
           {
            "colorbar": {
             "outlinewidth": 0,
             "ticks": ""
            },
            "type": "contourcarpet"
           }
          ],
          "heatmap": [
           {
            "colorbar": {
             "outlinewidth": 0,
             "ticks": ""
            },
            "colorscale": [
             [
              0,
              "#0d0887"
             ],
             [
              0.1111111111111111,
              "#46039f"
             ],
             [
              0.2222222222222222,
              "#7201a8"
             ],
             [
              0.3333333333333333,
              "#9c179e"
             ],
             [
              0.4444444444444444,
              "#bd3786"
             ],
             [
              0.5555555555555556,
              "#d8576b"
             ],
             [
              0.6666666666666666,
              "#ed7953"
             ],
             [
              0.7777777777777778,
              "#fb9f3a"
             ],
             [
              0.8888888888888888,
              "#fdca26"
             ],
             [
              1,
              "#f0f921"
             ]
            ],
            "type": "heatmap"
           }
          ],
          "histogram": [
           {
            "marker": {
             "pattern": {
              "fillmode": "overlay",
              "size": 10,
              "solidity": 0.2
             }
            },
            "type": "histogram"
           }
          ],
          "histogram2d": [
           {
            "colorbar": {
             "outlinewidth": 0,
             "ticks": ""
            },
            "colorscale": [
             [
              0,
              "#0d0887"
             ],
             [
              0.1111111111111111,
              "#46039f"
             ],
             [
              0.2222222222222222,
              "#7201a8"
             ],
             [
              0.3333333333333333,
              "#9c179e"
             ],
             [
              0.4444444444444444,
              "#bd3786"
             ],
             [
              0.5555555555555556,
              "#d8576b"
             ],
             [
              0.6666666666666666,
              "#ed7953"
             ],
             [
              0.7777777777777778,
              "#fb9f3a"
             ],
             [
              0.8888888888888888,
              "#fdca26"
             ],
             [
              1,
              "#f0f921"
             ]
            ],
            "type": "histogram2d"
           }
          ],
          "histogram2dcontour": [
           {
            "colorbar": {
             "outlinewidth": 0,
             "ticks": ""
            },
            "colorscale": [
             [
              0,
              "#0d0887"
             ],
             [
              0.1111111111111111,
              "#46039f"
             ],
             [
              0.2222222222222222,
              "#7201a8"
             ],
             [
              0.3333333333333333,
              "#9c179e"
             ],
             [
              0.4444444444444444,
              "#bd3786"
             ],
             [
              0.5555555555555556,
              "#d8576b"
             ],
             [
              0.6666666666666666,
              "#ed7953"
             ],
             [
              0.7777777777777778,
              "#fb9f3a"
             ],
             [
              0.8888888888888888,
              "#fdca26"
             ],
             [
              1,
              "#f0f921"
             ]
            ],
            "type": "histogram2dcontour"
           }
          ],
          "mesh3d": [
           {
            "colorbar": {
             "outlinewidth": 0,
             "ticks": ""
            },
            "type": "mesh3d"
           }
          ],
          "parcoords": [
           {
            "line": {
             "colorbar": {
              "outlinewidth": 0,
              "ticks": ""
             }
            },
            "type": "parcoords"
           }
          ],
          "pie": [
           {
            "automargin": true,
            "type": "pie"
           }
          ],
          "scatter": [
           {
            "fillpattern": {
             "fillmode": "overlay",
             "size": 10,
             "solidity": 0.2
            },
            "type": "scatter"
           }
          ],
          "scatter3d": [
           {
            "line": {
             "colorbar": {
              "outlinewidth": 0,
              "ticks": ""
             }
            },
            "marker": {
             "colorbar": {
              "outlinewidth": 0,
              "ticks": ""
             }
            },
            "type": "scatter3d"
           }
          ],
          "scattercarpet": [
           {
            "marker": {
             "colorbar": {
              "outlinewidth": 0,
              "ticks": ""
             }
            },
            "type": "scattercarpet"
           }
          ],
          "scattergeo": [
           {
            "marker": {
             "colorbar": {
              "outlinewidth": 0,
              "ticks": ""
             }
            },
            "type": "scattergeo"
           }
          ],
          "scattergl": [
           {
            "marker": {
             "colorbar": {
              "outlinewidth": 0,
              "ticks": ""
             }
            },
            "type": "scattergl"
           }
          ],
          "scattermap": [
           {
            "marker": {
             "colorbar": {
              "outlinewidth": 0,
              "ticks": ""
             }
            },
            "type": "scattermap"
           }
          ],
          "scattermapbox": [
           {
            "marker": {
             "colorbar": {
              "outlinewidth": 0,
              "ticks": ""
             }
            },
            "type": "scattermapbox"
           }
          ],
          "scatterpolar": [
           {
            "marker": {
             "colorbar": {
              "outlinewidth": 0,
              "ticks": ""
             }
            },
            "type": "scatterpolar"
           }
          ],
          "scatterpolargl": [
           {
            "marker": {
             "colorbar": {
              "outlinewidth": 0,
              "ticks": ""
             }
            },
            "type": "scatterpolargl"
           }
          ],
          "scatterternary": [
           {
            "marker": {
             "colorbar": {
              "outlinewidth": 0,
              "ticks": ""
             }
            },
            "type": "scatterternary"
           }
          ],
          "surface": [
           {
            "colorbar": {
             "outlinewidth": 0,
             "ticks": ""
            },
            "colorscale": [
             [
              0,
              "#0d0887"
             ],
             [
              0.1111111111111111,
              "#46039f"
             ],
             [
              0.2222222222222222,
              "#7201a8"
             ],
             [
              0.3333333333333333,
              "#9c179e"
             ],
             [
              0.4444444444444444,
              "#bd3786"
             ],
             [
              0.5555555555555556,
              "#d8576b"
             ],
             [
              0.6666666666666666,
              "#ed7953"
             ],
             [
              0.7777777777777778,
              "#fb9f3a"
             ],
             [
              0.8888888888888888,
              "#fdca26"
             ],
             [
              1,
              "#f0f921"
             ]
            ],
            "type": "surface"
           }
          ],
          "table": [
           {
            "cells": {
             "fill": {
              "color": "#EBF0F8"
             },
             "line": {
              "color": "white"
             }
            },
            "header": {
             "fill": {
              "color": "#C8D4E3"
             },
             "line": {
              "color": "white"
             }
            },
            "type": "table"
           }
          ]
         },
         "layout": {
          "annotationdefaults": {
           "arrowcolor": "#2a3f5f",
           "arrowhead": 0,
           "arrowwidth": 1
          },
          "autotypenumbers": "strict",
          "coloraxis": {
           "colorbar": {
            "outlinewidth": 0,
            "ticks": ""
           }
          },
          "colorscale": {
           "diverging": [
            [
             0,
             "#8e0152"
            ],
            [
             0.1,
             "#c51b7d"
            ],
            [
             0.2,
             "#de77ae"
            ],
            [
             0.3,
             "#f1b6da"
            ],
            [
             0.4,
             "#fde0ef"
            ],
            [
             0.5,
             "#f7f7f7"
            ],
            [
             0.6,
             "#e6f5d0"
            ],
            [
             0.7,
             "#b8e186"
            ],
            [
             0.8,
             "#7fbc41"
            ],
            [
             0.9,
             "#4d9221"
            ],
            [
             1,
             "#276419"
            ]
           ],
           "sequential": [
            [
             0,
             "#0d0887"
            ],
            [
             0.1111111111111111,
             "#46039f"
            ],
            [
             0.2222222222222222,
             "#7201a8"
            ],
            [
             0.3333333333333333,
             "#9c179e"
            ],
            [
             0.4444444444444444,
             "#bd3786"
            ],
            [
             0.5555555555555556,
             "#d8576b"
            ],
            [
             0.6666666666666666,
             "#ed7953"
            ],
            [
             0.7777777777777778,
             "#fb9f3a"
            ],
            [
             0.8888888888888888,
             "#fdca26"
            ],
            [
             1,
             "#f0f921"
            ]
           ],
           "sequentialminus": [
            [
             0,
             "#0d0887"
            ],
            [
             0.1111111111111111,
             "#46039f"
            ],
            [
             0.2222222222222222,
             "#7201a8"
            ],
            [
             0.3333333333333333,
             "#9c179e"
            ],
            [
             0.4444444444444444,
             "#bd3786"
            ],
            [
             0.5555555555555556,
             "#d8576b"
            ],
            [
             0.6666666666666666,
             "#ed7953"
            ],
            [
             0.7777777777777778,
             "#fb9f3a"
            ],
            [
             0.8888888888888888,
             "#fdca26"
            ],
            [
             1,
             "#f0f921"
            ]
           ]
          },
          "colorway": [
           "#636efa",
           "#EF553B",
           "#00cc96",
           "#ab63fa",
           "#FFA15A",
           "#19d3f3",
           "#FF6692",
           "#B6E880",
           "#FF97FF",
           "#FECB52"
          ],
          "font": {
           "color": "#2a3f5f"
          },
          "geo": {
           "bgcolor": "white",
           "lakecolor": "white",
           "landcolor": "white",
           "showlakes": true,
           "showland": true,
           "subunitcolor": "#C8D4E3"
          },
          "hoverlabel": {
           "align": "left"
          },
          "hovermode": "closest",
          "mapbox": {
           "style": "light"
          },
          "paper_bgcolor": "white",
          "plot_bgcolor": "white",
          "polar": {
           "angularaxis": {
            "gridcolor": "#EBF0F8",
            "linecolor": "#EBF0F8",
            "ticks": ""
           },
           "bgcolor": "white",
           "radialaxis": {
            "gridcolor": "#EBF0F8",
            "linecolor": "#EBF0F8",
            "ticks": ""
           }
          },
          "scene": {
           "xaxis": {
            "backgroundcolor": "white",
            "gridcolor": "#DFE8F3",
            "gridwidth": 2,
            "linecolor": "#EBF0F8",
            "showbackground": true,
            "ticks": "",
            "zerolinecolor": "#EBF0F8"
           },
           "yaxis": {
            "backgroundcolor": "white",
            "gridcolor": "#DFE8F3",
            "gridwidth": 2,
            "linecolor": "#EBF0F8",
            "showbackground": true,
            "ticks": "",
            "zerolinecolor": "#EBF0F8"
           },
           "zaxis": {
            "backgroundcolor": "white",
            "gridcolor": "#DFE8F3",
            "gridwidth": 2,
            "linecolor": "#EBF0F8",
            "showbackground": true,
            "ticks": "",
            "zerolinecolor": "#EBF0F8"
           }
          },
          "shapedefaults": {
           "line": {
            "color": "#2a3f5f"
           }
          },
          "ternary": {
           "aaxis": {
            "gridcolor": "#DFE8F3",
            "linecolor": "#A2B1C6",
            "ticks": ""
           },
           "baxis": {
            "gridcolor": "#DFE8F3",
            "linecolor": "#A2B1C6",
            "ticks": ""
           },
           "bgcolor": "white",
           "caxis": {
            "gridcolor": "#DFE8F3",
            "linecolor": "#A2B1C6",
            "ticks": ""
           }
          },
          "title": {
           "x": 0.05
          },
          "xaxis": {
           "automargin": true,
           "gridcolor": "#EBF0F8",
           "linecolor": "#EBF0F8",
           "ticks": "",
           "title": {
            "standoff": 15
           },
           "zerolinecolor": "#EBF0F8",
           "zerolinewidth": 2
          },
          "yaxis": {
           "automargin": true,
           "gridcolor": "#EBF0F8",
           "linecolor": "#EBF0F8",
           "ticks": "",
           "title": {
            "standoff": 15
           },
           "zerolinecolor": "#EBF0F8",
           "zerolinewidth": 2
          }
         }
        },
        "xaxis": {
         "anchor": "y",
         "domain": [
          0,
          1
         ],
         "title": {
          "text": "category"
         }
        },
        "yaxis": {
         "anchor": "x",
         "domain": [
          0,
          1
         ],
         "title": {
          "text": "percent"
         }
        }
       }
      }
     },
     "metadata": {},
     "output_type": "display_data"
    }
   ],
   "source": [
    "fig = px.bar(combined_percents[combined_percents['category'].isin(top_cats)], x='category', y='percent', color='list', barmode='group', template='plotly_white')\n",
    "\n",
    "fig.show()\n",
    "\n",
    "fig.write_image(\"images/percents.svg\")\n",
    "fig.write_image(\"images/percents.png\")"
   ]
  },
  {
   "cell_type": "code",
   "execution_count": 44,
   "id": "9326e469",
   "metadata": {},
   "outputs": [
    {
     "data": {
      "text/plain": [
       "Index(['age_group', 'amazon_product_url', 'article_chapter_link', 'asterisk',\n",
       "       'author', 'book_image', 'book_image_height', 'book_image_width',\n",
       "       'book_review_link', 'book_uri', 'contributor', 'contributor_note',\n",
       "       'created_date', 'dagger', 'description', 'first_chapter_link', 'price',\n",
       "       'primary_isbn10', 'primary_isbn13', 'publisher', 'rank',\n",
       "       'rank_last_week', 'sunday_review_link', 'title', 'updated_date',\n",
       "       'weeks_on_list', 'category', 'published_date', 'Unnamed: 0',\n",
       "       'date_datetime', 'isbns', 'buy_links'],\n",
       "      dtype='object')"
      ]
     },
     "execution_count": 44,
     "metadata": {},
     "output_type": "execute_result"
    }
   ],
   "source": [
    "df.columns"
   ]
  },
  {
   "cell_type": "code",
   "execution_count": 45,
   "id": "c04167ab",
   "metadata": {},
   "outputs": [],
   "source": [
    "sample=df.sample(5)[['author','title','category','rank','published_date']].to_csv('sample.csv')"
   ]
  },
  {
   "cell_type": "code",
   "execution_count": 46,
   "id": "bd3a905f",
   "metadata": {},
   "outputs": [
    {
     "data": {
      "application/vnd.microsoft.datawrangler.viewer.v0+json": {
       "columns": [
        {
         "name": "index",
         "rawType": "int64",
         "type": "integer"
        },
        {
         "name": "title",
         "rawType": "object",
         "type": "string"
        },
        {
         "name": "published_date",
         "rawType": "object",
         "type": "string"
        },
        {
         "name": "category",
         "rawType": "object",
         "type": "string"
        },
        {
         "name": "rank",
         "rawType": "int64",
         "type": "integer"
        },
        {
         "name": "date_datetime",
         "rawType": "datetime64[us]",
         "type": "unknown"
        }
       ],
       "ref": "c512417c-f257-42db-a2d4-800248349e32",
       "rows": [
        [
         "3040",
         "HOW COUNTRIES GO BROKE",
         "2025-06-22",
         "business & economics",
         "1",
         "2025-06-22 17:34:46.978746"
        ],
        [
         "3041",
         "ORIGINAL SIN",
         "2025-06-22",
         "political science",
         "2",
         "2025-06-22 17:34:46.978746"
        ],
        [
         "3042",
         "A DIFFERENT KIND OF POWER",
         "2025-06-22",
         "biography & autobiography",
         "3",
         "2025-06-22 17:34:46.978746"
        ],
        [
         "3043",
         "THIS DOG WILL CHANGE YOUR LIFE",
         "2025-06-22",
         "pets",
         "4",
         "2025-06-22 17:34:46.978746"
        ],
        [
         "3044",
         "TRUMP'S TRIUMPH",
         "2025-06-22",
         "history",
         "5",
         "2025-06-22 17:34:46.978746"
        ],
        [
         "3045",
         "HOW TO LOSE YOUR MOTHER",
         "2025-06-22",
         "biography & autobiography",
         "6",
         "2025-06-22 17:34:46.978746"
        ],
        [
         "3046",
         "THE ANXIOUS GENERATION",
         "2025-06-22",
         "psychology",
         "7",
         "2025-06-22 17:34:46.978746"
        ],
        [
         "3047",
         "MARK TWAIN",
         "2025-06-22",
         "biography & autobiography",
         "8",
         "2025-06-22 17:34:46.978746"
        ],
        [
         "3048",
         "THE BODY KEEPS THE SCORE",
         "2025-06-22",
         "medical",
         "9",
         "2025-06-22 17:34:46.978746"
        ],
        [
         "3049",
         "SO GAY FOR YOU",
         "2025-06-22",
         "biography & autobiography",
         "10",
         "2025-06-22 17:34:46.978746"
        ],
        [
         "3050",
         "FREE RIDE",
         "2025-06-22",
         "biography & autobiography",
         "11",
         "2025-06-22 17:34:46.978746"
        ],
        [
         "3051",
         "ABUNDANCE",
         "2025-06-22",
         "business & economics",
         "12",
         "2025-06-22 17:34:46.978746"
        ],
        [
         "3052",
         "THE DISENLIGHTENMENT",
         "2025-06-22",
         "art",
         "13",
         "2025-06-22 17:34:46.978746"
        ],
        [
         "3053",
         "THE HAVES AND HAVE-YACHTS",
         "2025-06-22",
         "history",
         "14",
         "2025-06-22 17:34:46.978746"
        ],
        [
         "3054",
         "BIG DUMB EYES",
         "2025-06-22",
         "biography & autobiography",
         "15",
         "2025-06-22 17:34:46.978746"
        ],
        [
         "3055",
         "THE FATE OF THE DAY",
         "2025-05-18",
         "history",
         "1",
         "2025-05-18 17:34:46.978746"
        ],
        [
         "3056",
         "MY NEXT BREATH",
         "2025-05-18",
         "biography & autobiography",
         "2",
         "2025-05-18 17:34:46.978746"
        ],
        [
         "3057",
         "MATRIARCH",
         "2025-05-18",
         "biography & autobiography",
         "3",
         "2025-05-18 17:34:46.978746"
        ],
        [
         "3058",
         "UPTOWN GIRL",
         "2025-05-18",
         "biography & autobiography",
         "4",
         "2025-05-18 17:34:46.978746"
        ],
        [
         "3059",
         "ABUNDANCE",
         "2025-05-18",
         "business & economics",
         "5",
         "2025-05-18 17:34:46.978746"
        ],
        [
         "3060",
         "THE ANXIOUS GENERATION",
         "2025-05-18",
         "psychology",
         "6",
         "2025-05-18 17:34:46.978746"
        ],
        [
         "3061",
         "THE BIBLE SAYS SO",
         "2025-05-18",
         "religion",
         "7",
         "2025-05-18 17:34:46.978746"
        ],
        [
         "3062",
         "THE GREATEST COMEBACK EVER",
         "2025-05-18",
         "biography & autobiography",
         "8",
         "2025-05-18 17:34:46.978746"
        ],
        [
         "3063",
         "THE BODY KEEPS THE SCORE",
         "2025-05-18",
         "medical",
         "9",
         "2025-05-18 17:34:46.978746"
        ],
        [
         "3064",
         "ON TYRANNY",
         "2025-05-18",
         "political science",
         "10",
         "2025-05-18 17:34:46.978746"
        ],
        [
         "3065",
         "SNAFU",
         "2025-05-18",
         "history",
         "11",
         "2025-05-18 17:34:46.978746"
        ],
        [
         "3066",
         "EVERYTHING IS TUBERCULOSIS",
         "2025-05-18",
         "social science",
         "12",
         "2025-05-18 17:34:46.978746"
        ],
        [
         "3067",
         "THIS AMERICAN WOMAN",
         "2025-05-18",
         "biography & autobiography",
         "13",
         "2025-05-18 17:34:46.978746"
        ],
        [
         "3068",
         "POETS SQUARE",
         "2025-05-18",
         "biography & autobiography",
         "14",
         "2025-05-18 17:34:46.978746"
        ],
        [
         "3069",
         "OUTLIVE",
         "2025-05-18",
         "health & fitness",
         "15",
         "2025-05-18 17:34:46.978746"
        ],
        [
         "30",
         "EVERYTHING IS TUBERCULOSIS",
         "2025-04-13",
         "social science",
         "1",
         "2025-04-13 17:34:46.978746"
        ],
        [
         "31",
         "CARELESS PEOPLE",
         "2025-04-13",
         "biography & autobiography",
         "2",
         "2025-04-13 17:34:46.978746"
        ],
        [
         "32",
         "ABUNDANCE",
         "2025-04-13",
         "business & economics",
         "3",
         "2025-04-13 17:34:46.978746"
        ],
        [
         "33",
         "THE ANXIOUS GENERATION",
         "2025-04-13",
         "psychology",
         "4",
         "2025-04-13 17:34:46.978746"
        ],
        [
         "34",
         "WHEN THE GOING WAS GOOD",
         "2025-04-13",
         "biography & autobiography",
         "5",
         "2025-04-13 17:34:46.978746"
        ],
        [
         "35",
         "THE BODY KEEPS THE SCORE",
         "2025-04-13",
         "medical",
         "6",
         "2025-04-13 17:34:46.978746"
        ],
        [
         "36",
         "THE ECHO MACHINE",
         "2025-04-13",
         "political science",
         "7",
         "2025-04-13 17:34:46.978746"
        ],
        [
         "37",
         "ON TYRANNY",
         "2025-04-13",
         "political science",
         "8",
         "2025-04-13 17:34:46.978746"
        ],
        [
         "38",
         "THE TELL",
         "2025-04-13",
         "biography & autobiography",
         "9",
         "2025-04-13 17:34:46.978746"
        ],
        [
         "39",
         "THE WAGER",
         "2025-04-13",
         "true crime",
         "10",
         "2025-04-13 17:34:46.978746"
        ],
        [
         "40",
         "DISSOLVING ILLUSIONS",
         "2025-04-13",
         "communicable diseases",
         "11",
         "2025-04-13 17:34:46.978746"
        ],
        [
         "41",
         "MAD HOUSE",
         "2025-04-13",
         "political science",
         "12",
         "2025-04-13 17:34:46.978746"
        ],
        [
         "42",
         "WHO IS GOVERNMENT?",
         "2025-04-13",
         "political science",
         "13",
         "2025-04-13 17:34:46.978746"
        ],
        [
         "43",
         "THE HOUSE OF MY MOTHER",
         "2025-04-13",
         "biography & autobiography",
         "14",
         "2025-04-13 17:34:46.978746"
        ],
        [
         "44",
         "THE BACKYARD BIRD CHRONICLES",
         "2025-04-13",
         "nature",
         "15",
         "2025-04-13 17:34:46.978746"
        ],
        [
         "3070",
         "THE TECHNOLOGICAL REPUBLIC",
         "2025-03-09",
         "business & economics",
         "1",
         "2025-03-09 17:34:46.978746"
        ],
        [
         "3071",
         "SEVEN THINGS YOU CAN'T SAY ABOUT CHINA",
         "2025-03-09",
         "political science",
         "2",
         "2025-03-09 17:34:46.978746"
        ],
        [
         "3072",
         "ON TYRANNY",
         "2025-03-09",
         "political science",
         "3",
         "2025-03-09 17:34:46.978746"
        ],
        [
         "3073",
         "LORNE",
         "2025-03-09",
         "biography & autobiography",
         "4",
         "2025-03-09 17:34:46.978746"
        ],
        [
         "3074",
         "THE BODY KEEPS THE SCORE",
         "2025-03-09",
         "medical",
         "5",
         "2025-03-09 17:34:46.978746"
        ]
       ],
       "shape": {
        "columns": 5,
        "rows": 1667
       }
      },
      "text/html": [
       "<div>\n",
       "<style scoped>\n",
       "    .dataframe tbody tr th:only-of-type {\n",
       "        vertical-align: middle;\n",
       "    }\n",
       "\n",
       "    .dataframe tbody tr th {\n",
       "        vertical-align: top;\n",
       "    }\n",
       "\n",
       "    .dataframe thead th {\n",
       "        text-align: right;\n",
       "    }\n",
       "</style>\n",
       "<table border=\"1\" class=\"dataframe\">\n",
       "  <thead>\n",
       "    <tr style=\"text-align: right;\">\n",
       "      <th></th>\n",
       "      <th>title</th>\n",
       "      <th>published_date</th>\n",
       "      <th>category</th>\n",
       "      <th>rank</th>\n",
       "      <th>date_datetime</th>\n",
       "    </tr>\n",
       "  </thead>\n",
       "  <tbody>\n",
       "    <tr>\n",
       "      <th>3040</th>\n",
       "      <td>HOW COUNTRIES GO BROKE</td>\n",
       "      <td>2025-06-22</td>\n",
       "      <td>business &amp; economics</td>\n",
       "      <td>1</td>\n",
       "      <td>2025-06-22 17:34:46.978746</td>\n",
       "    </tr>\n",
       "    <tr>\n",
       "      <th>3041</th>\n",
       "      <td>ORIGINAL SIN</td>\n",
       "      <td>2025-06-22</td>\n",
       "      <td>political science</td>\n",
       "      <td>2</td>\n",
       "      <td>2025-06-22 17:34:46.978746</td>\n",
       "    </tr>\n",
       "    <tr>\n",
       "      <th>3042</th>\n",
       "      <td>A DIFFERENT KIND OF POWER</td>\n",
       "      <td>2025-06-22</td>\n",
       "      <td>biography &amp; autobiography</td>\n",
       "      <td>3</td>\n",
       "      <td>2025-06-22 17:34:46.978746</td>\n",
       "    </tr>\n",
       "    <tr>\n",
       "      <th>3043</th>\n",
       "      <td>THIS DOG WILL CHANGE YOUR LIFE</td>\n",
       "      <td>2025-06-22</td>\n",
       "      <td>pets</td>\n",
       "      <td>4</td>\n",
       "      <td>2025-06-22 17:34:46.978746</td>\n",
       "    </tr>\n",
       "    <tr>\n",
       "      <th>3044</th>\n",
       "      <td>TRUMP'S TRIUMPH</td>\n",
       "      <td>2025-06-22</td>\n",
       "      <td>history</td>\n",
       "      <td>5</td>\n",
       "      <td>2025-06-22 17:34:46.978746</td>\n",
       "    </tr>\n",
       "    <tr>\n",
       "      <th>...</th>\n",
       "      <td>...</td>\n",
       "      <td>...</td>\n",
       "      <td>...</td>\n",
       "      <td>...</td>\n",
       "      <td>...</td>\n",
       "    </tr>\n",
       "    <tr>\n",
       "      <th>3898</th>\n",
       "      <td>ONE NATION UNDER TAUGHT</td>\n",
       "      <td>2014-12-07</td>\n",
       "      <td>education</td>\n",
       "      <td>15</td>\n",
       "      <td>2014-01-26 17:34:46.978746</td>\n",
       "    </tr>\n",
       "    <tr>\n",
       "      <th>3899</th>\n",
       "      <td>THE INNOVATORS</td>\n",
       "      <td>2014-12-07</td>\n",
       "      <td>biography &amp; autobiography</td>\n",
       "      <td>16</td>\n",
       "      <td>2014-01-26 17:34:46.978746</td>\n",
       "    </tr>\n",
       "    <tr>\n",
       "      <th>3900</th>\n",
       "      <td>SO ANYWAY . . .</td>\n",
       "      <td>2014-12-07</td>\n",
       "      <td>biography &amp; autobiography</td>\n",
       "      <td>18</td>\n",
       "      <td>2014-01-26 17:34:46.978746</td>\n",
       "    </tr>\n",
       "    <tr>\n",
       "      <th>3901</th>\n",
       "      <td>AS YOU WISH</td>\n",
       "      <td>2014-12-07</td>\n",
       "      <td>biography &amp; autobiography</td>\n",
       "      <td>19</td>\n",
       "      <td>2014-01-26 17:34:46.978746</td>\n",
       "    </tr>\n",
       "    <tr>\n",
       "      <th>3902</th>\n",
       "      <td>STONEWALLED</td>\n",
       "      <td>2014-12-07</td>\n",
       "      <td>political science</td>\n",
       "      <td>20</td>\n",
       "      <td>2014-01-26 17:34:46.978746</td>\n",
       "    </tr>\n",
       "  </tbody>\n",
       "</table>\n",
       "<p>1667 rows × 5 columns</p>\n",
       "</div>"
      ],
      "text/plain": [
       "                               title published_date  \\\n",
       "3040          HOW COUNTRIES GO BROKE     2025-06-22   \n",
       "3041                    ORIGINAL SIN     2025-06-22   \n",
       "3042       A DIFFERENT KIND OF POWER     2025-06-22   \n",
       "3043  THIS DOG WILL CHANGE YOUR LIFE     2025-06-22   \n",
       "3044                 TRUMP'S TRIUMPH     2025-06-22   \n",
       "...                              ...            ...   \n",
       "3898         ONE NATION UNDER TAUGHT     2014-12-07   \n",
       "3899                  THE INNOVATORS     2014-12-07   \n",
       "3900                 SO ANYWAY . . .     2014-12-07   \n",
       "3901                     AS YOU WISH     2014-12-07   \n",
       "3902                     STONEWALLED     2014-12-07   \n",
       "\n",
       "                       category  rank              date_datetime  \n",
       "3040       business & economics     1 2025-06-22 17:34:46.978746  \n",
       "3041          political science     2 2025-06-22 17:34:46.978746  \n",
       "3042  biography & autobiography     3 2025-06-22 17:34:46.978746  \n",
       "3043                       pets     4 2025-06-22 17:34:46.978746  \n",
       "3044                    history     5 2025-06-22 17:34:46.978746  \n",
       "...                         ...   ...                        ...  \n",
       "3898                  education    15 2014-01-26 17:34:46.978746  \n",
       "3899  biography & autobiography    16 2014-01-26 17:34:46.978746  \n",
       "3900  biography & autobiography    18 2014-01-26 17:34:46.978746  \n",
       "3901  biography & autobiography    19 2014-01-26 17:34:46.978746  \n",
       "3902          political science    20 2014-01-26 17:34:46.978746  \n",
       "\n",
       "[1667 rows x 5 columns]"
      ]
     },
     "execution_count": 46,
     "metadata": {},
     "output_type": "execute_result"
    }
   ],
   "source": [
    "clean_df"
   ]
  },
  {
   "cell_type": "code",
   "execution_count": 47,
   "id": "b5fe29a2",
   "metadata": {},
   "outputs": [
    {
     "data": {
      "application/vnd.plotly.v1+json": {
       "config": {
        "plotlyServerURL": "https://plot.ly"
       },
       "data": [
        {
         "hovertemplate": "category=business & economics<br>published_date=%{x}<br>count=%{y}<extra></extra>",
         "legendgroup": "business & economics",
         "marker": {
          "color": "#636efa",
          "pattern": {
           "shape": ""
          }
         },
         "name": "business & economics",
         "orientation": "v",
         "showlegend": true,
         "textposition": "auto",
         "type": "bar",
         "x": [
          "2025-06-22",
          "2025-06-22",
          "2025-05-18",
          "2025-04-13",
          "2025-03-09",
          "2024-12-29",
          "2024-11-24",
          "2024-10-20",
          "2024-09-15"
         ],
         "xaxis": "x",
         "y": {
          "bdata": "AQEBAQEBAQEB",
          "dtype": "i1"
         },
         "yaxis": "y"
        },
        {
         "hovertemplate": "category=political science<br>published_date=%{x}<br>count=%{y}<extra></extra>",
         "legendgroup": "political science",
         "marker": {
          "color": "#EF553B",
          "pattern": {
           "shape": ""
          }
         },
         "name": "political science",
         "orientation": "v",
         "showlegend": true,
         "textposition": "auto",
         "type": "bar",
         "x": [
          "2025-06-22",
          "2025-05-18",
          "2025-04-13",
          "2025-04-13",
          "2025-04-13",
          "2025-04-13",
          "2025-03-09",
          "2025-03-09",
          "2025-03-09",
          "2025-02-02",
          "2025-02-02",
          "2024-11-24",
          "2024-10-20"
         ],
         "xaxis": "x",
         "y": {
          "bdata": "AQEBAQEBAQEBAQEBAQ==",
          "dtype": "i1"
         },
         "yaxis": "y"
        },
        {
         "hovertemplate": "category=biography & autobiography<br>published_date=%{x}<br>count=%{y}<extra></extra>",
         "legendgroup": "biography & autobiography",
         "marker": {
          "color": "#00cc96",
          "pattern": {
           "shape": ""
          }
         },
         "name": "biography & autobiography",
         "orientation": "v",
         "showlegend": true,
         "textposition": "auto",
         "type": "bar",
         "x": [
          "2025-06-22",
          "2025-06-22",
          "2025-06-22",
          "2025-06-22",
          "2025-06-22",
          "2025-06-22",
          "2025-05-18",
          "2025-05-18",
          "2025-05-18",
          "2025-05-18",
          "2025-05-18",
          "2025-05-18",
          "2025-04-13",
          "2025-04-13",
          "2025-04-13",
          "2025-04-13",
          "2025-03-09",
          "2025-03-09",
          "2025-03-09",
          "2025-03-09",
          "2025-02-02",
          "2025-02-02",
          "2025-02-02",
          "2025-02-02",
          "2025-02-02",
          "2025-02-02",
          "2025-02-02",
          "2024-12-29",
          "2024-12-29",
          "2024-12-29",
          "2024-12-29",
          "2024-12-29",
          "2024-11-24",
          "2024-11-24",
          "2024-11-24",
          "2024-11-24",
          "2024-11-24",
          "2024-11-24",
          "2024-11-24",
          "2024-11-24",
          "2024-10-20",
          "2024-10-20",
          "2024-10-20",
          "2024-10-20",
          "2024-09-15",
          "2024-09-15",
          "2024-09-15",
          "2024-09-15",
          "2024-09-15",
          "2024-08-11",
          "2024-08-11",
          "2024-08-11",
          "2024-08-11",
          "2024-08-11",
          "2024-08-11",
          "2024-07-07"
         ],
         "xaxis": "x",
         "y": {
          "bdata": "AQEBAQEBAQEBAQEBAQEBAQEBAQEBAQEBAQEBAQEBAQEBAQEBAQEBAQEBAQEBAQEBAQEBAQEBAQE=",
          "dtype": "i1"
         },
         "yaxis": "y"
        },
        {
         "hovertemplate": "category=pets<br>published_date=%{x}<br>count=%{y}<extra></extra>",
         "legendgroup": "pets",
         "marker": {
          "color": "#ab63fa",
          "pattern": {
           "shape": ""
          }
         },
         "name": "pets",
         "orientation": "v",
         "showlegend": true,
         "textposition": "auto",
         "type": "bar",
         "x": [
          "2025-06-22"
         ],
         "xaxis": "x",
         "y": {
          "bdata": "AQ==",
          "dtype": "i1"
         },
         "yaxis": "y"
        },
        {
         "hovertemplate": "category=history<br>published_date=%{x}<br>count=%{y}<extra></extra>",
         "legendgroup": "history",
         "marker": {
          "color": "#FFA15A",
          "pattern": {
           "shape": ""
          }
         },
         "name": "history",
         "orientation": "v",
         "showlegend": true,
         "textposition": "auto",
         "type": "bar",
         "x": [
          "2025-06-22",
          "2025-06-22",
          "2025-05-18",
          "2025-05-18",
          "2025-03-09",
          "2024-12-29",
          "2024-12-29",
          "2024-10-20",
          "2024-10-20",
          "2024-10-20",
          "2024-10-20",
          "2024-09-15",
          "2024-09-15",
          "2024-08-11",
          "2024-08-11",
          "2024-08-11"
         ],
         "xaxis": "x",
         "y": {
          "bdata": "AQEBAQEBAQEBAQEBAQEBAQ==",
          "dtype": "i1"
         },
         "yaxis": "y"
        },
        {
         "hovertemplate": "category=psychology<br>published_date=%{x}<br>count=%{y}<extra></extra>",
         "legendgroup": "psychology",
         "marker": {
          "color": "#19d3f3",
          "pattern": {
           "shape": ""
          }
         },
         "name": "psychology",
         "orientation": "v",
         "showlegend": true,
         "textposition": "auto",
         "type": "bar",
         "x": [
          "2025-06-22",
          "2025-05-18",
          "2025-04-13",
          "2025-03-09",
          "2025-02-02",
          "2024-12-29",
          "2024-11-24",
          "2024-10-20",
          "2024-09-15",
          "2024-08-11"
         ],
         "xaxis": "x",
         "y": {
          "bdata": "AQEBAQEBAQEBAQ==",
          "dtype": "i1"
         },
         "yaxis": "y"
        },
        {
         "hovertemplate": "category=medical<br>published_date=%{x}<br>count=%{y}<extra></extra>",
         "legendgroup": "medical",
         "marker": {
          "color": "#FF6692",
          "pattern": {
           "shape": ""
          }
         },
         "name": "medical",
         "orientation": "v",
         "showlegend": true,
         "textposition": "auto",
         "type": "bar",
         "x": [
          "2025-06-22",
          "2025-05-18",
          "2025-04-13",
          "2025-03-09",
          "2025-02-02",
          "2024-12-29",
          "2024-11-24",
          "2024-10-20",
          "2024-09-15",
          "2024-08-11"
         ],
         "xaxis": "x",
         "y": {
          "bdata": "AQEBAQEBAQEBAQ==",
          "dtype": "i1"
         },
         "yaxis": "y"
        },
        {
         "hovertemplate": "category=art<br>published_date=%{x}<br>count=%{y}<extra></extra>",
         "legendgroup": "art",
         "marker": {
          "color": "#B6E880",
          "pattern": {
           "shape": ""
          }
         },
         "name": "art",
         "orientation": "v",
         "showlegend": true,
         "textposition": "auto",
         "type": "bar",
         "x": [
          "2025-06-22"
         ],
         "xaxis": "x",
         "y": {
          "bdata": "AQ==",
          "dtype": "i1"
         },
         "yaxis": "y"
        },
        {
         "hovertemplate": "category=religion<br>published_date=%{x}<br>count=%{y}<extra></extra>",
         "legendgroup": "religion",
         "marker": {
          "color": "#FF97FF",
          "pattern": {
           "shape": ""
          }
         },
         "name": "religion",
         "orientation": "v",
         "showlegend": true,
         "textposition": "auto",
         "type": "bar",
         "x": [
          "2025-05-18",
          "2025-03-09",
          "2025-02-02"
         ],
         "xaxis": "x",
         "y": {
          "bdata": "AQEB",
          "dtype": "i1"
         },
         "yaxis": "y"
        },
        {
         "hovertemplate": "category=social science<br>published_date=%{x}<br>count=%{y}<extra></extra>",
         "legendgroup": "social science",
         "marker": {
          "color": "#FECB52",
          "pattern": {
           "shape": ""
          }
         },
         "name": "social science",
         "orientation": "v",
         "showlegend": true,
         "textposition": "auto",
         "type": "bar",
         "x": [
          "2025-05-18",
          "2025-04-13",
          "2025-03-09",
          "2024-12-29",
          "2024-11-24",
          "2024-11-24",
          "2024-10-20",
          "2024-10-20",
          "2024-10-20",
          "2024-09-15",
          "2024-08-11"
         ],
         "xaxis": "x",
         "y": {
          "bdata": "AQEBAQEBAQEBAQE=",
          "dtype": "i1"
         },
         "yaxis": "y"
        },
        {
         "hovertemplate": "category=health & fitness<br>published_date=%{x}<br>count=%{y}<extra></extra>",
         "legendgroup": "health & fitness",
         "marker": {
          "color": "#636efa",
          "pattern": {
           "shape": ""
          }
         },
         "name": "health & fitness",
         "orientation": "v",
         "showlegend": true,
         "textposition": "auto",
         "type": "bar",
         "x": [
          "2025-05-18",
          "2025-03-09",
          "2025-02-02",
          "2024-09-15",
          "2024-08-11"
         ],
         "xaxis": "x",
         "y": {
          "bdata": "AQEBAQE=",
          "dtype": "i1"
         },
         "yaxis": "y"
        },
        {
         "hovertemplate": "category=true crime<br>published_date=%{x}<br>count=%{y}<extra></extra>",
         "legendgroup": "true crime",
         "marker": {
          "color": "#EF553B",
          "pattern": {
           "shape": ""
          }
         },
         "name": "true crime",
         "orientation": "v",
         "showlegend": true,
         "textposition": "auto",
         "type": "bar",
         "x": [
          "2025-04-13",
          "2025-02-02",
          "2024-12-29",
          "2024-12-29",
          "2024-11-24",
          "2024-09-15",
          "2024-08-11"
         ],
         "xaxis": "x",
         "y": {
          "bdata": "AQEBAQEBAQ==",
          "dtype": "i1"
         },
         "yaxis": "y"
        },
        {
         "hovertemplate": "category=communicable diseases<br>published_date=%{x}<br>count=%{y}<extra></extra>",
         "legendgroup": "communicable diseases",
         "marker": {
          "color": "#00cc96",
          "pattern": {
           "shape": ""
          }
         },
         "name": "communicable diseases",
         "orientation": "v",
         "showlegend": true,
         "textposition": "auto",
         "type": "bar",
         "x": [
          "2025-04-13"
         ],
         "xaxis": "x",
         "y": {
          "bdata": "AQ==",
          "dtype": "i1"
         },
         "yaxis": "y"
        },
        {
         "hovertemplate": "category=nature<br>published_date=%{x}<br>count=%{y}<extra></extra>",
         "legendgroup": "nature",
         "marker": {
          "color": "#ab63fa",
          "pattern": {
           "shape": ""
          }
         },
         "name": "nature",
         "orientation": "v",
         "showlegend": true,
         "textposition": "auto",
         "type": "bar",
         "x": [
          "2025-04-13",
          "2025-03-09",
          "2025-02-02",
          "2024-12-29",
          "2024-12-29",
          "2024-09-15"
         ],
         "xaxis": "x",
         "y": {
          "bdata": "AQEBAQEB",
          "dtype": "i1"
         },
         "yaxis": "y"
        },
        {
         "hovertemplate": "category=performing arts<br>published_date=%{x}<br>count=%{y}<extra></extra>",
         "legendgroup": "performing arts",
         "marker": {
          "color": "#FFA15A",
          "pattern": {
           "shape": ""
          }
         },
         "name": "performing arts",
         "orientation": "v",
         "showlegend": true,
         "textposition": "auto",
         "type": "bar",
         "x": [
          "2024-09-15"
         ],
         "xaxis": "x",
         "y": {
          "bdata": "AQ==",
          "dtype": "i1"
         },
         "yaxis": "y"
        }
       ],
       "layout": {
        "barmode": "relative",
        "legend": {
         "title": {
          "text": "category"
         },
         "tracegroupgap": 0
        },
        "margin": {
         "t": 60
        },
        "template": {
         "data": {
          "bar": [
           {
            "error_x": {
             "color": "#2a3f5f"
            },
            "error_y": {
             "color": "#2a3f5f"
            },
            "marker": {
             "line": {
              "color": "white",
              "width": 0.5
             },
             "pattern": {
              "fillmode": "overlay",
              "size": 10,
              "solidity": 0.2
             }
            },
            "type": "bar"
           }
          ],
          "barpolar": [
           {
            "marker": {
             "line": {
              "color": "white",
              "width": 0.5
             },
             "pattern": {
              "fillmode": "overlay",
              "size": 10,
              "solidity": 0.2
             }
            },
            "type": "barpolar"
           }
          ],
          "carpet": [
           {
            "aaxis": {
             "endlinecolor": "#2a3f5f",
             "gridcolor": "#C8D4E3",
             "linecolor": "#C8D4E3",
             "minorgridcolor": "#C8D4E3",
             "startlinecolor": "#2a3f5f"
            },
            "baxis": {
             "endlinecolor": "#2a3f5f",
             "gridcolor": "#C8D4E3",
             "linecolor": "#C8D4E3",
             "minorgridcolor": "#C8D4E3",
             "startlinecolor": "#2a3f5f"
            },
            "type": "carpet"
           }
          ],
          "choropleth": [
           {
            "colorbar": {
             "outlinewidth": 0,
             "ticks": ""
            },
            "type": "choropleth"
           }
          ],
          "contour": [
           {
            "colorbar": {
             "outlinewidth": 0,
             "ticks": ""
            },
            "colorscale": [
             [
              0,
              "#0d0887"
             ],
             [
              0.1111111111111111,
              "#46039f"
             ],
             [
              0.2222222222222222,
              "#7201a8"
             ],
             [
              0.3333333333333333,
              "#9c179e"
             ],
             [
              0.4444444444444444,
              "#bd3786"
             ],
             [
              0.5555555555555556,
              "#d8576b"
             ],
             [
              0.6666666666666666,
              "#ed7953"
             ],
             [
              0.7777777777777778,
              "#fb9f3a"
             ],
             [
              0.8888888888888888,
              "#fdca26"
             ],
             [
              1,
              "#f0f921"
             ]
            ],
            "type": "contour"
           }
          ],
          "contourcarpet": [
           {
            "colorbar": {
             "outlinewidth": 0,
             "ticks": ""
            },
            "type": "contourcarpet"
           }
          ],
          "heatmap": [
           {
            "colorbar": {
             "outlinewidth": 0,
             "ticks": ""
            },
            "colorscale": [
             [
              0,
              "#0d0887"
             ],
             [
              0.1111111111111111,
              "#46039f"
             ],
             [
              0.2222222222222222,
              "#7201a8"
             ],
             [
              0.3333333333333333,
              "#9c179e"
             ],
             [
              0.4444444444444444,
              "#bd3786"
             ],
             [
              0.5555555555555556,
              "#d8576b"
             ],
             [
              0.6666666666666666,
              "#ed7953"
             ],
             [
              0.7777777777777778,
              "#fb9f3a"
             ],
             [
              0.8888888888888888,
              "#fdca26"
             ],
             [
              1,
              "#f0f921"
             ]
            ],
            "type": "heatmap"
           }
          ],
          "histogram": [
           {
            "marker": {
             "pattern": {
              "fillmode": "overlay",
              "size": 10,
              "solidity": 0.2
             }
            },
            "type": "histogram"
           }
          ],
          "histogram2d": [
           {
            "colorbar": {
             "outlinewidth": 0,
             "ticks": ""
            },
            "colorscale": [
             [
              0,
              "#0d0887"
             ],
             [
              0.1111111111111111,
              "#46039f"
             ],
             [
              0.2222222222222222,
              "#7201a8"
             ],
             [
              0.3333333333333333,
              "#9c179e"
             ],
             [
              0.4444444444444444,
              "#bd3786"
             ],
             [
              0.5555555555555556,
              "#d8576b"
             ],
             [
              0.6666666666666666,
              "#ed7953"
             ],
             [
              0.7777777777777778,
              "#fb9f3a"
             ],
             [
              0.8888888888888888,
              "#fdca26"
             ],
             [
              1,
              "#f0f921"
             ]
            ],
            "type": "histogram2d"
           }
          ],
          "histogram2dcontour": [
           {
            "colorbar": {
             "outlinewidth": 0,
             "ticks": ""
            },
            "colorscale": [
             [
              0,
              "#0d0887"
             ],
             [
              0.1111111111111111,
              "#46039f"
             ],
             [
              0.2222222222222222,
              "#7201a8"
             ],
             [
              0.3333333333333333,
              "#9c179e"
             ],
             [
              0.4444444444444444,
              "#bd3786"
             ],
             [
              0.5555555555555556,
              "#d8576b"
             ],
             [
              0.6666666666666666,
              "#ed7953"
             ],
             [
              0.7777777777777778,
              "#fb9f3a"
             ],
             [
              0.8888888888888888,
              "#fdca26"
             ],
             [
              1,
              "#f0f921"
             ]
            ],
            "type": "histogram2dcontour"
           }
          ],
          "mesh3d": [
           {
            "colorbar": {
             "outlinewidth": 0,
             "ticks": ""
            },
            "type": "mesh3d"
           }
          ],
          "parcoords": [
           {
            "line": {
             "colorbar": {
              "outlinewidth": 0,
              "ticks": ""
             }
            },
            "type": "parcoords"
           }
          ],
          "pie": [
           {
            "automargin": true,
            "type": "pie"
           }
          ],
          "scatter": [
           {
            "fillpattern": {
             "fillmode": "overlay",
             "size": 10,
             "solidity": 0.2
            },
            "type": "scatter"
           }
          ],
          "scatter3d": [
           {
            "line": {
             "colorbar": {
              "outlinewidth": 0,
              "ticks": ""
             }
            },
            "marker": {
             "colorbar": {
              "outlinewidth": 0,
              "ticks": ""
             }
            },
            "type": "scatter3d"
           }
          ],
          "scattercarpet": [
           {
            "marker": {
             "colorbar": {
              "outlinewidth": 0,
              "ticks": ""
             }
            },
            "type": "scattercarpet"
           }
          ],
          "scattergeo": [
           {
            "marker": {
             "colorbar": {
              "outlinewidth": 0,
              "ticks": ""
             }
            },
            "type": "scattergeo"
           }
          ],
          "scattergl": [
           {
            "marker": {
             "colorbar": {
              "outlinewidth": 0,
              "ticks": ""
             }
            },
            "type": "scattergl"
           }
          ],
          "scattermap": [
           {
            "marker": {
             "colorbar": {
              "outlinewidth": 0,
              "ticks": ""
             }
            },
            "type": "scattermap"
           }
          ],
          "scattermapbox": [
           {
            "marker": {
             "colorbar": {
              "outlinewidth": 0,
              "ticks": ""
             }
            },
            "type": "scattermapbox"
           }
          ],
          "scatterpolar": [
           {
            "marker": {
             "colorbar": {
              "outlinewidth": 0,
              "ticks": ""
             }
            },
            "type": "scatterpolar"
           }
          ],
          "scatterpolargl": [
           {
            "marker": {
             "colorbar": {
              "outlinewidth": 0,
              "ticks": ""
             }
            },
            "type": "scatterpolargl"
           }
          ],
          "scatterternary": [
           {
            "marker": {
             "colorbar": {
              "outlinewidth": 0,
              "ticks": ""
             }
            },
            "type": "scatterternary"
           }
          ],
          "surface": [
           {
            "colorbar": {
             "outlinewidth": 0,
             "ticks": ""
            },
            "colorscale": [
             [
              0,
              "#0d0887"
             ],
             [
              0.1111111111111111,
              "#46039f"
             ],
             [
              0.2222222222222222,
              "#7201a8"
             ],
             [
              0.3333333333333333,
              "#9c179e"
             ],
             [
              0.4444444444444444,
              "#bd3786"
             ],
             [
              0.5555555555555556,
              "#d8576b"
             ],
             [
              0.6666666666666666,
              "#ed7953"
             ],
             [
              0.7777777777777778,
              "#fb9f3a"
             ],
             [
              0.8888888888888888,
              "#fdca26"
             ],
             [
              1,
              "#f0f921"
             ]
            ],
            "type": "surface"
           }
          ],
          "table": [
           {
            "cells": {
             "fill": {
              "color": "#EBF0F8"
             },
             "line": {
              "color": "white"
             }
            },
            "header": {
             "fill": {
              "color": "#C8D4E3"
             },
             "line": {
              "color": "white"
             }
            },
            "type": "table"
           }
          ]
         },
         "layout": {
          "annotationdefaults": {
           "arrowcolor": "#2a3f5f",
           "arrowhead": 0,
           "arrowwidth": 1
          },
          "autotypenumbers": "strict",
          "coloraxis": {
           "colorbar": {
            "outlinewidth": 0,
            "ticks": ""
           }
          },
          "colorscale": {
           "diverging": [
            [
             0,
             "#8e0152"
            ],
            [
             0.1,
             "#c51b7d"
            ],
            [
             0.2,
             "#de77ae"
            ],
            [
             0.3,
             "#f1b6da"
            ],
            [
             0.4,
             "#fde0ef"
            ],
            [
             0.5,
             "#f7f7f7"
            ],
            [
             0.6,
             "#e6f5d0"
            ],
            [
             0.7,
             "#b8e186"
            ],
            [
             0.8,
             "#7fbc41"
            ],
            [
             0.9,
             "#4d9221"
            ],
            [
             1,
             "#276419"
            ]
           ],
           "sequential": [
            [
             0,
             "#0d0887"
            ],
            [
             0.1111111111111111,
             "#46039f"
            ],
            [
             0.2222222222222222,
             "#7201a8"
            ],
            [
             0.3333333333333333,
             "#9c179e"
            ],
            [
             0.4444444444444444,
             "#bd3786"
            ],
            [
             0.5555555555555556,
             "#d8576b"
            ],
            [
             0.6666666666666666,
             "#ed7953"
            ],
            [
             0.7777777777777778,
             "#fb9f3a"
            ],
            [
             0.8888888888888888,
             "#fdca26"
            ],
            [
             1,
             "#f0f921"
            ]
           ],
           "sequentialminus": [
            [
             0,
             "#0d0887"
            ],
            [
             0.1111111111111111,
             "#46039f"
            ],
            [
             0.2222222222222222,
             "#7201a8"
            ],
            [
             0.3333333333333333,
             "#9c179e"
            ],
            [
             0.4444444444444444,
             "#bd3786"
            ],
            [
             0.5555555555555556,
             "#d8576b"
            ],
            [
             0.6666666666666666,
             "#ed7953"
            ],
            [
             0.7777777777777778,
             "#fb9f3a"
            ],
            [
             0.8888888888888888,
             "#fdca26"
            ],
            [
             1,
             "#f0f921"
            ]
           ]
          },
          "colorway": [
           "#636efa",
           "#EF553B",
           "#00cc96",
           "#ab63fa",
           "#FFA15A",
           "#19d3f3",
           "#FF6692",
           "#B6E880",
           "#FF97FF",
           "#FECB52"
          ],
          "font": {
           "color": "#2a3f5f"
          },
          "geo": {
           "bgcolor": "white",
           "lakecolor": "white",
           "landcolor": "white",
           "showlakes": true,
           "showland": true,
           "subunitcolor": "#C8D4E3"
          },
          "hoverlabel": {
           "align": "left"
          },
          "hovermode": "closest",
          "mapbox": {
           "style": "light"
          },
          "paper_bgcolor": "white",
          "plot_bgcolor": "white",
          "polar": {
           "angularaxis": {
            "gridcolor": "#EBF0F8",
            "linecolor": "#EBF0F8",
            "ticks": ""
           },
           "bgcolor": "white",
           "radialaxis": {
            "gridcolor": "#EBF0F8",
            "linecolor": "#EBF0F8",
            "ticks": ""
           }
          },
          "scene": {
           "xaxis": {
            "backgroundcolor": "white",
            "gridcolor": "#DFE8F3",
            "gridwidth": 2,
            "linecolor": "#EBF0F8",
            "showbackground": true,
            "ticks": "",
            "zerolinecolor": "#EBF0F8"
           },
           "yaxis": {
            "backgroundcolor": "white",
            "gridcolor": "#DFE8F3",
            "gridwidth": 2,
            "linecolor": "#EBF0F8",
            "showbackground": true,
            "ticks": "",
            "zerolinecolor": "#EBF0F8"
           },
           "zaxis": {
            "backgroundcolor": "white",
            "gridcolor": "#DFE8F3",
            "gridwidth": 2,
            "linecolor": "#EBF0F8",
            "showbackground": true,
            "ticks": "",
            "zerolinecolor": "#EBF0F8"
           }
          },
          "shapedefaults": {
           "line": {
            "color": "#2a3f5f"
           }
          },
          "ternary": {
           "aaxis": {
            "gridcolor": "#DFE8F3",
            "linecolor": "#A2B1C6",
            "ticks": ""
           },
           "baxis": {
            "gridcolor": "#DFE8F3",
            "linecolor": "#A2B1C6",
            "ticks": ""
           },
           "bgcolor": "white",
           "caxis": {
            "gridcolor": "#DFE8F3",
            "linecolor": "#A2B1C6",
            "ticks": ""
           }
          },
          "title": {
           "x": 0.05
          },
          "xaxis": {
           "automargin": true,
           "gridcolor": "#EBF0F8",
           "linecolor": "#EBF0F8",
           "ticks": "",
           "title": {
            "standoff": 15
           },
           "zerolinecolor": "#EBF0F8",
           "zerolinewidth": 2
          },
          "yaxis": {
           "automargin": true,
           "gridcolor": "#EBF0F8",
           "linecolor": "#EBF0F8",
           "ticks": "",
           "title": {
            "standoff": 15
           },
           "zerolinecolor": "#EBF0F8",
           "zerolinewidth": 2
          }
         }
        },
        "xaxis": {
         "anchor": "y",
         "domain": [
          0,
          1
         ],
         "title": {
          "text": "published_date"
         }
        },
        "yaxis": {
         "anchor": "x",
         "domain": [
          0,
          1
         ],
         "title": {
          "text": "count"
         }
        }
       }
      }
     },
     "metadata": {},
     "output_type": "display_data"
    }
   ],
   "source": [
    "fig = px.bar(clean_df.iloc[:150],x='published_date',color='category')\n",
    "\n",
    "fig.show()"
   ]
  },
  {
   "cell_type": "code",
   "execution_count": 48,
   "id": "daaf3e99",
   "metadata": {},
   "outputs": [],
   "source": [
    "cat_counts = clean_df['category'].value_counts()"
   ]
  },
  {
   "cell_type": "code",
   "execution_count": null,
   "id": "9889834b",
   "metadata": {},
   "outputs": [],
   "source": []
  },
  {
   "cell_type": "code",
   "execution_count": 49,
   "id": "6c5304bf",
   "metadata": {},
   "outputs": [],
   "source": [
    "# useful libraries, including pyWaffle\n",
    "import matplotlib.pyplot as plt\n",
    "from pywaffle import Waffle\n"
   ]
  },
  {
   "cell_type": "code",
   "execution_count": 50,
   "id": "09ca933a",
   "metadata": {},
   "outputs": [
    {
     "data": {
      "application/vnd.microsoft.datawrangler.viewer.v0+json": {
       "columns": [
        {
         "name": "index",
         "rawType": "int64",
         "type": "integer"
        },
        {
         "name": "date_datetime",
         "rawType": "datetime64[us]",
         "type": "unknown"
        },
        {
         "name": "published_date",
         "rawType": "object",
         "type": "string"
        },
        {
         "name": "category",
         "rawType": "object",
         "type": "string"
        },
        {
         "name": "count",
         "rawType": "int64",
         "type": "integer"
        }
       ],
       "ref": "296608ac-8810-4aec-8aa5-5b76aa41aef4",
       "rows": [
        [
         "0",
         "2014-01-26 17:34:46.978746",
         "2014-12-07",
         "biography & autobiography",
         "110"
        ],
        [
         "1",
         "2014-01-26 17:34:46.978746",
         "2014-12-07",
         "education",
         "10"
        ],
        [
         "2",
         "2014-01-26 17:34:46.978746",
         "2014-12-07",
         "family & relationships",
         "10"
        ],
        [
         "3",
         "2014-01-26 17:34:46.978746",
         "2014-12-07",
         "history",
         "10"
        ],
        [
         "4",
         "2014-01-26 17:34:46.978746",
         "2014-12-07",
         "literary collections",
         "10"
        ],
        [
         "5",
         "2014-01-26 17:34:46.978746",
         "2014-12-07",
         "political science",
         "10"
        ],
        [
         "6",
         "2014-01-26 17:34:46.978746",
         "2014-12-07",
         "sports & recreation",
         "10"
        ],
        [
         "7",
         "2015-01-11 17:34:46.978746",
         "2015-01-11",
         "art",
         "1"
        ],
        [
         "8",
         "2015-01-11 17:34:46.978746",
         "2015-01-11",
         "biography & autobiography",
         "11"
        ],
        [
         "9",
         "2015-01-11 17:34:46.978746",
         "2015-01-11",
         "family & relationships",
         "1"
        ],
        [
         "10",
         "2015-01-11 17:34:46.978746",
         "2015-01-11",
         "history",
         "2"
        ],
        [
         "11",
         "2015-01-11 17:34:46.978746",
         "2015-01-11",
         "humor",
         "1"
        ],
        [
         "12",
         "2015-01-11 17:34:46.978746",
         "2015-01-11",
         "sports & recreation",
         "1"
        ],
        [
         "13",
         "2015-02-15 17:34:46.978746",
         "2015-02-15",
         "biography & autobiography",
         "7"
        ],
        [
         "14",
         "2015-02-15 17:34:46.978746",
         "2015-02-15",
         "family & relationships",
         "2"
        ],
        [
         "15",
         "2015-02-15 17:34:46.978746",
         "2015-02-15",
         "history",
         "4"
        ],
        [
         "16",
         "2015-02-15 17:34:46.978746",
         "2015-02-15",
         "language arts & disciplines",
         "1"
        ],
        [
         "17",
         "2015-02-15 17:34:46.978746",
         "2015-02-15",
         "science",
         "1"
        ],
        [
         "18",
         "2015-02-15 17:34:46.978746",
         "2015-02-15",
         "sports & recreation",
         "1"
        ],
        [
         "19",
         "2015-02-15 17:34:46.978746",
         "2015-02-15",
         "true crime",
         "1"
        ],
        [
         "20",
         "2015-03-22 17:34:46.978746",
         "2015-04-26",
         "biography & autobiography",
         "22"
        ],
        [
         "21",
         "2015-03-22 17:34:46.978746",
         "2015-04-26",
         "family & relationships",
         "2"
        ],
        [
         "22",
         "2015-03-22 17:34:46.978746",
         "2015-04-26",
         "history",
         "4"
        ],
        [
         "23",
         "2015-03-22 17:34:46.978746",
         "2015-04-26",
         "language arts & disciplines",
         "2"
        ],
        [
         "24",
         "2015-03-22 17:34:46.978746",
         "2015-04-26",
         "psychology",
         "4"
        ],
        [
         "25",
         "2015-03-22 17:34:46.978746",
         "2015-04-26",
         "religion",
         "2"
        ],
        [
         "26",
         "2015-03-22 17:34:46.978746",
         "2015-04-26",
         "sports & recreation",
         "2"
        ],
        [
         "27",
         "2015-05-31 17:34:46.978746",
         "2015-05-31",
         "biography & autobiography",
         "14"
        ],
        [
         "28",
         "2015-05-31 17:34:46.978746",
         "2015-05-31",
         "family & relationships",
         "1"
        ],
        [
         "29",
         "2015-05-31 17:34:46.978746",
         "2015-05-31",
         "history",
         "1"
        ],
        [
         "30",
         "2015-05-31 17:34:46.978746",
         "2015-05-31",
         "political science",
         "1"
        ],
        [
         "31",
         "2015-05-31 17:34:46.978746",
         "2015-05-31",
         "social science",
         "2"
        ],
        [
         "32",
         "2015-05-31 17:34:46.978746",
         "2015-05-31",
         "sports & recreation",
         "1"
        ],
        [
         "33",
         "2015-07-05 17:34:46.978746",
         "2015-07-05",
         "biography & autobiography",
         "10"
        ],
        [
         "34",
         "2015-07-05 17:34:46.978746",
         "2015-07-05",
         "family & relationships",
         "1"
        ],
        [
         "35",
         "2015-07-05 17:34:46.978746",
         "2015-07-05",
         "history",
         "2"
        ],
        [
         "36",
         "2015-07-05 17:34:46.978746",
         "2015-07-05",
         "humor",
         "1"
        ],
        [
         "37",
         "2015-07-05 17:34:46.978746",
         "2015-07-05",
         "language arts & disciplines",
         "1"
        ],
        [
         "38",
         "2015-07-05 17:34:46.978746",
         "2015-07-05",
         "political science",
         "1"
        ],
        [
         "39",
         "2015-07-05 17:34:46.978746",
         "2015-07-05",
         "social science",
         "1"
        ],
        [
         "40",
         "2015-07-05 17:34:46.978746",
         "2015-07-05",
         "sports & recreation",
         "1"
        ],
        [
         "41",
         "2015-08-09 17:34:46.978746",
         "2015-08-09",
         "biography & autobiography",
         "11"
        ],
        [
         "42",
         "2015-08-09 17:34:46.978746",
         "2015-08-09",
         "family & relationships",
         "1"
        ],
        [
         "43",
         "2015-08-09 17:34:46.978746",
         "2015-08-09",
         "history",
         "4"
        ],
        [
         "44",
         "2015-08-09 17:34:46.978746",
         "2015-08-09",
         "humor",
         "1"
        ],
        [
         "45",
         "2015-08-09 17:34:46.978746",
         "2015-08-09",
         "political science",
         "1"
        ],
        [
         "46",
         "2015-08-09 17:34:46.978746",
         "2015-08-09",
         "sports & recreation",
         "1"
        ],
        [
         "47",
         "2015-09-13 17:34:46.978746",
         "2015-09-13",
         "biography & autobiography",
         "7"
        ],
        [
         "48",
         "2015-09-13 17:34:46.978746",
         "2015-09-13",
         "family & relationships",
         "2"
        ],
        [
         "49",
         "2015-09-13 17:34:46.978746",
         "2015-09-13",
         "history",
         "2"
        ]
       ],
       "shape": {
        "columns": 4,
        "rows": 686
       }
      },
      "text/html": [
       "<div>\n",
       "<style scoped>\n",
       "    .dataframe tbody tr th:only-of-type {\n",
       "        vertical-align: middle;\n",
       "    }\n",
       "\n",
       "    .dataframe tbody tr th {\n",
       "        vertical-align: top;\n",
       "    }\n",
       "\n",
       "    .dataframe thead th {\n",
       "        text-align: right;\n",
       "    }\n",
       "</style>\n",
       "<table border=\"1\" class=\"dataframe\">\n",
       "  <thead>\n",
       "    <tr style=\"text-align: right;\">\n",
       "      <th></th>\n",
       "      <th>date_datetime</th>\n",
       "      <th>published_date</th>\n",
       "      <th>category</th>\n",
       "      <th>count</th>\n",
       "    </tr>\n",
       "  </thead>\n",
       "  <tbody>\n",
       "    <tr>\n",
       "      <th>0</th>\n",
       "      <td>2014-01-26 17:34:46.978746</td>\n",
       "      <td>2014-12-07</td>\n",
       "      <td>biography &amp; autobiography</td>\n",
       "      <td>110</td>\n",
       "    </tr>\n",
       "    <tr>\n",
       "      <th>1</th>\n",
       "      <td>2014-01-26 17:34:46.978746</td>\n",
       "      <td>2014-12-07</td>\n",
       "      <td>education</td>\n",
       "      <td>10</td>\n",
       "    </tr>\n",
       "    <tr>\n",
       "      <th>2</th>\n",
       "      <td>2014-01-26 17:34:46.978746</td>\n",
       "      <td>2014-12-07</td>\n",
       "      <td>family &amp; relationships</td>\n",
       "      <td>10</td>\n",
       "    </tr>\n",
       "    <tr>\n",
       "      <th>3</th>\n",
       "      <td>2014-01-26 17:34:46.978746</td>\n",
       "      <td>2014-12-07</td>\n",
       "      <td>history</td>\n",
       "      <td>10</td>\n",
       "    </tr>\n",
       "    <tr>\n",
       "      <th>4</th>\n",
       "      <td>2014-01-26 17:34:46.978746</td>\n",
       "      <td>2014-12-07</td>\n",
       "      <td>literary collections</td>\n",
       "      <td>10</td>\n",
       "    </tr>\n",
       "    <tr>\n",
       "      <th>...</th>\n",
       "      <td>...</td>\n",
       "      <td>...</td>\n",
       "      <td>...</td>\n",
       "      <td>...</td>\n",
       "    </tr>\n",
       "    <tr>\n",
       "      <th>681</th>\n",
       "      <td>2025-06-22 17:34:46.978746</td>\n",
       "      <td>2025-06-22</td>\n",
       "      <td>history</td>\n",
       "      <td>2</td>\n",
       "    </tr>\n",
       "    <tr>\n",
       "      <th>682</th>\n",
       "      <td>2025-06-22 17:34:46.978746</td>\n",
       "      <td>2025-06-22</td>\n",
       "      <td>medical</td>\n",
       "      <td>1</td>\n",
       "    </tr>\n",
       "    <tr>\n",
       "      <th>683</th>\n",
       "      <td>2025-06-22 17:34:46.978746</td>\n",
       "      <td>2025-06-22</td>\n",
       "      <td>pets</td>\n",
       "      <td>1</td>\n",
       "    </tr>\n",
       "    <tr>\n",
       "      <th>684</th>\n",
       "      <td>2025-06-22 17:34:46.978746</td>\n",
       "      <td>2025-06-22</td>\n",
       "      <td>political science</td>\n",
       "      <td>1</td>\n",
       "    </tr>\n",
       "    <tr>\n",
       "      <th>685</th>\n",
       "      <td>2025-06-22 17:34:46.978746</td>\n",
       "      <td>2025-06-22</td>\n",
       "      <td>psychology</td>\n",
       "      <td>1</td>\n",
       "    </tr>\n",
       "  </tbody>\n",
       "</table>\n",
       "<p>686 rows × 4 columns</p>\n",
       "</div>"
      ],
      "text/plain": [
       "                 date_datetime published_date                   category  \\\n",
       "0   2014-01-26 17:34:46.978746     2014-12-07  biography & autobiography   \n",
       "1   2014-01-26 17:34:46.978746     2014-12-07                  education   \n",
       "2   2014-01-26 17:34:46.978746     2014-12-07     family & relationships   \n",
       "3   2014-01-26 17:34:46.978746     2014-12-07                    history   \n",
       "4   2014-01-26 17:34:46.978746     2014-12-07       literary collections   \n",
       "..                         ...            ...                        ...   \n",
       "681 2025-06-22 17:34:46.978746     2025-06-22                    history   \n",
       "682 2025-06-22 17:34:46.978746     2025-06-22                    medical   \n",
       "683 2025-06-22 17:34:46.978746     2025-06-22                       pets   \n",
       "684 2025-06-22 17:34:46.978746     2025-06-22          political science   \n",
       "685 2025-06-22 17:34:46.978746     2025-06-22                 psychology   \n",
       "\n",
       "     count  \n",
       "0      110  \n",
       "1       10  \n",
       "2       10  \n",
       "3       10  \n",
       "4       10  \n",
       "..     ...  \n",
       "681      2  \n",
       "682      1  \n",
       "683      1  \n",
       "684      1  \n",
       "685      1  \n",
       "\n",
       "[686 rows x 4 columns]"
      ]
     },
     "execution_count": 50,
     "metadata": {},
     "output_type": "execute_result"
    }
   ],
   "source": [
    "clean_df.groupby(['date_datetime','published_date','category']).size().reset_index(name='count')"
   ]
  },
  {
   "cell_type": "code",
   "execution_count": 51,
   "id": "5022e002",
   "metadata": {},
   "outputs": [
    {
     "data": {
      "text/plain": [
       "datetime.datetime(2024, 6, 26, 17, 42, 46, 59796)"
      ]
     },
     "execution_count": 51,
     "metadata": {},
     "output_type": "execute_result"
    }
   ],
   "source": [
    "past_year = datetime.now() - timedelta(days=365)\n",
    "past_year"
   ]
  },
  {
   "cell_type": "code",
   "execution_count": 52,
   "id": "b990b973",
   "metadata": {},
   "outputs": [
    {
     "data": {
      "application/vnd.microsoft.datawrangler.viewer.v0+json": {
       "columns": [
        {
         "name": "index",
         "rawType": "int64",
         "type": "integer"
        },
        {
         "name": "title",
         "rawType": "object",
         "type": "string"
        },
        {
         "name": "published_date",
         "rawType": "object",
         "type": "string"
        },
        {
         "name": "category",
         "rawType": "object",
         "type": "string"
        },
        {
         "name": "rank",
         "rawType": "int64",
         "type": "integer"
        },
        {
         "name": "date_datetime",
         "rawType": "datetime64[us]",
         "type": "unknown"
        }
       ],
       "ref": "f0eae1d9-2e15-45d4-82fe-898991a89e24",
       "rows": [
        [
         "3040",
         "HOW COUNTRIES GO BROKE",
         "2025-06-22",
         "business & economics",
         "1",
         "2025-06-22 17:34:46.978746"
        ],
        [
         "3041",
         "ORIGINAL SIN",
         "2025-06-22",
         "political science",
         "2",
         "2025-06-22 17:34:46.978746"
        ],
        [
         "3042",
         "A DIFFERENT KIND OF POWER",
         "2025-06-22",
         "biography & autobiography",
         "3",
         "2025-06-22 17:34:46.978746"
        ],
        [
         "3043",
         "THIS DOG WILL CHANGE YOUR LIFE",
         "2025-06-22",
         "pets",
         "4",
         "2025-06-22 17:34:46.978746"
        ],
        [
         "3044",
         "TRUMP'S TRIUMPH",
         "2025-06-22",
         "history",
         "5",
         "2025-06-22 17:34:46.978746"
        ],
        [
         "3045",
         "HOW TO LOSE YOUR MOTHER",
         "2025-06-22",
         "biography & autobiography",
         "6",
         "2025-06-22 17:34:46.978746"
        ],
        [
         "3046",
         "THE ANXIOUS GENERATION",
         "2025-06-22",
         "psychology",
         "7",
         "2025-06-22 17:34:46.978746"
        ],
        [
         "3047",
         "MARK TWAIN",
         "2025-06-22",
         "biography & autobiography",
         "8",
         "2025-06-22 17:34:46.978746"
        ],
        [
         "3048",
         "THE BODY KEEPS THE SCORE",
         "2025-06-22",
         "medical",
         "9",
         "2025-06-22 17:34:46.978746"
        ],
        [
         "3049",
         "SO GAY FOR YOU",
         "2025-06-22",
         "biography & autobiography",
         "10",
         "2025-06-22 17:34:46.978746"
        ],
        [
         "3050",
         "FREE RIDE",
         "2025-06-22",
         "biography & autobiography",
         "11",
         "2025-06-22 17:34:46.978746"
        ],
        [
         "3051",
         "ABUNDANCE",
         "2025-06-22",
         "business & economics",
         "12",
         "2025-06-22 17:34:46.978746"
        ],
        [
         "3052",
         "THE DISENLIGHTENMENT",
         "2025-06-22",
         "art",
         "13",
         "2025-06-22 17:34:46.978746"
        ],
        [
         "3053",
         "THE HAVES AND HAVE-YACHTS",
         "2025-06-22",
         "history",
         "14",
         "2025-06-22 17:34:46.978746"
        ],
        [
         "3054",
         "BIG DUMB EYES",
         "2025-06-22",
         "biography & autobiography",
         "15",
         "2025-06-22 17:34:46.978746"
        ],
        [
         "3055",
         "THE FATE OF THE DAY",
         "2025-05-18",
         "history",
         "1",
         "2025-05-18 17:34:46.978746"
        ],
        [
         "3056",
         "MY NEXT BREATH",
         "2025-05-18",
         "biography & autobiography",
         "2",
         "2025-05-18 17:34:46.978746"
        ],
        [
         "3057",
         "MATRIARCH",
         "2025-05-18",
         "biography & autobiography",
         "3",
         "2025-05-18 17:34:46.978746"
        ],
        [
         "3058",
         "UPTOWN GIRL",
         "2025-05-18",
         "biography & autobiography",
         "4",
         "2025-05-18 17:34:46.978746"
        ],
        [
         "3059",
         "ABUNDANCE",
         "2025-05-18",
         "business & economics",
         "5",
         "2025-05-18 17:34:46.978746"
        ],
        [
         "3060",
         "THE ANXIOUS GENERATION",
         "2025-05-18",
         "psychology",
         "6",
         "2025-05-18 17:34:46.978746"
        ],
        [
         "3061",
         "THE BIBLE SAYS SO",
         "2025-05-18",
         "religion",
         "7",
         "2025-05-18 17:34:46.978746"
        ],
        [
         "3062",
         "THE GREATEST COMEBACK EVER",
         "2025-05-18",
         "biography & autobiography",
         "8",
         "2025-05-18 17:34:46.978746"
        ],
        [
         "3063",
         "THE BODY KEEPS THE SCORE",
         "2025-05-18",
         "medical",
         "9",
         "2025-05-18 17:34:46.978746"
        ],
        [
         "3064",
         "ON TYRANNY",
         "2025-05-18",
         "political science",
         "10",
         "2025-05-18 17:34:46.978746"
        ],
        [
         "3065",
         "SNAFU",
         "2025-05-18",
         "history",
         "11",
         "2025-05-18 17:34:46.978746"
        ],
        [
         "3066",
         "EVERYTHING IS TUBERCULOSIS",
         "2025-05-18",
         "social science",
         "12",
         "2025-05-18 17:34:46.978746"
        ],
        [
         "3067",
         "THIS AMERICAN WOMAN",
         "2025-05-18",
         "biography & autobiography",
         "13",
         "2025-05-18 17:34:46.978746"
        ],
        [
         "3068",
         "POETS SQUARE",
         "2025-05-18",
         "biography & autobiography",
         "14",
         "2025-05-18 17:34:46.978746"
        ],
        [
         "3069",
         "OUTLIVE",
         "2025-05-18",
         "health & fitness",
         "15",
         "2025-05-18 17:34:46.978746"
        ],
        [
         "30",
         "EVERYTHING IS TUBERCULOSIS",
         "2025-04-13",
         "social science",
         "1",
         "2025-04-13 17:34:46.978746"
        ],
        [
         "31",
         "CARELESS PEOPLE",
         "2025-04-13",
         "biography & autobiography",
         "2",
         "2025-04-13 17:34:46.978746"
        ],
        [
         "32",
         "ABUNDANCE",
         "2025-04-13",
         "business & economics",
         "3",
         "2025-04-13 17:34:46.978746"
        ],
        [
         "33",
         "THE ANXIOUS GENERATION",
         "2025-04-13",
         "psychology",
         "4",
         "2025-04-13 17:34:46.978746"
        ],
        [
         "34",
         "WHEN THE GOING WAS GOOD",
         "2025-04-13",
         "biography & autobiography",
         "5",
         "2025-04-13 17:34:46.978746"
        ],
        [
         "35",
         "THE BODY KEEPS THE SCORE",
         "2025-04-13",
         "medical",
         "6",
         "2025-04-13 17:34:46.978746"
        ],
        [
         "36",
         "THE ECHO MACHINE",
         "2025-04-13",
         "political science",
         "7",
         "2025-04-13 17:34:46.978746"
        ],
        [
         "37",
         "ON TYRANNY",
         "2025-04-13",
         "political science",
         "8",
         "2025-04-13 17:34:46.978746"
        ],
        [
         "38",
         "THE TELL",
         "2025-04-13",
         "biography & autobiography",
         "9",
         "2025-04-13 17:34:46.978746"
        ],
        [
         "39",
         "THE WAGER",
         "2025-04-13",
         "true crime",
         "10",
         "2025-04-13 17:34:46.978746"
        ],
        [
         "40",
         "DISSOLVING ILLUSIONS",
         "2025-04-13",
         "communicable diseases",
         "11",
         "2025-04-13 17:34:46.978746"
        ],
        [
         "41",
         "MAD HOUSE",
         "2025-04-13",
         "political science",
         "12",
         "2025-04-13 17:34:46.978746"
        ],
        [
         "42",
         "WHO IS GOVERNMENT?",
         "2025-04-13",
         "political science",
         "13",
         "2025-04-13 17:34:46.978746"
        ],
        [
         "43",
         "THE HOUSE OF MY MOTHER",
         "2025-04-13",
         "biography & autobiography",
         "14",
         "2025-04-13 17:34:46.978746"
        ],
        [
         "44",
         "THE BACKYARD BIRD CHRONICLES",
         "2025-04-13",
         "nature",
         "15",
         "2025-04-13 17:34:46.978746"
        ],
        [
         "3070",
         "THE TECHNOLOGICAL REPUBLIC",
         "2025-03-09",
         "business & economics",
         "1",
         "2025-03-09 17:34:46.978746"
        ],
        [
         "3071",
         "SEVEN THINGS YOU CAN'T SAY ABOUT CHINA",
         "2025-03-09",
         "political science",
         "2",
         "2025-03-09 17:34:46.978746"
        ],
        [
         "3072",
         "ON TYRANNY",
         "2025-03-09",
         "political science",
         "3",
         "2025-03-09 17:34:46.978746"
        ],
        [
         "3073",
         "LORNE",
         "2025-03-09",
         "biography & autobiography",
         "4",
         "2025-03-09 17:34:46.978746"
        ],
        [
         "3074",
         "THE BODY KEEPS THE SCORE",
         "2025-03-09",
         "medical",
         "5",
         "2025-03-09 17:34:46.978746"
        ]
       ],
       "shape": {
        "columns": 5,
        "rows": 164
       }
      },
      "text/html": [
       "<div>\n",
       "<style scoped>\n",
       "    .dataframe tbody tr th:only-of-type {\n",
       "        vertical-align: middle;\n",
       "    }\n",
       "\n",
       "    .dataframe tbody tr th {\n",
       "        vertical-align: top;\n",
       "    }\n",
       "\n",
       "    .dataframe thead th {\n",
       "        text-align: right;\n",
       "    }\n",
       "</style>\n",
       "<table border=\"1\" class=\"dataframe\">\n",
       "  <thead>\n",
       "    <tr style=\"text-align: right;\">\n",
       "      <th></th>\n",
       "      <th>title</th>\n",
       "      <th>published_date</th>\n",
       "      <th>category</th>\n",
       "      <th>rank</th>\n",
       "      <th>date_datetime</th>\n",
       "    </tr>\n",
       "  </thead>\n",
       "  <tbody>\n",
       "    <tr>\n",
       "      <th>3040</th>\n",
       "      <td>HOW COUNTRIES GO BROKE</td>\n",
       "      <td>2025-06-22</td>\n",
       "      <td>business &amp; economics</td>\n",
       "      <td>1</td>\n",
       "      <td>2025-06-22 17:34:46.978746</td>\n",
       "    </tr>\n",
       "    <tr>\n",
       "      <th>3041</th>\n",
       "      <td>ORIGINAL SIN</td>\n",
       "      <td>2025-06-22</td>\n",
       "      <td>political science</td>\n",
       "      <td>2</td>\n",
       "      <td>2025-06-22 17:34:46.978746</td>\n",
       "    </tr>\n",
       "    <tr>\n",
       "      <th>3042</th>\n",
       "      <td>A DIFFERENT KIND OF POWER</td>\n",
       "      <td>2025-06-22</td>\n",
       "      <td>biography &amp; autobiography</td>\n",
       "      <td>3</td>\n",
       "      <td>2025-06-22 17:34:46.978746</td>\n",
       "    </tr>\n",
       "    <tr>\n",
       "      <th>3043</th>\n",
       "      <td>THIS DOG WILL CHANGE YOUR LIFE</td>\n",
       "      <td>2025-06-22</td>\n",
       "      <td>pets</td>\n",
       "      <td>4</td>\n",
       "      <td>2025-06-22 17:34:46.978746</td>\n",
       "    </tr>\n",
       "    <tr>\n",
       "      <th>3044</th>\n",
       "      <td>TRUMP'S TRIUMPH</td>\n",
       "      <td>2025-06-22</td>\n",
       "      <td>history</td>\n",
       "      <td>5</td>\n",
       "      <td>2025-06-22 17:34:46.978746</td>\n",
       "    </tr>\n",
       "    <tr>\n",
       "      <th>...</th>\n",
       "      <td>...</td>\n",
       "      <td>...</td>\n",
       "      <td>...</td>\n",
       "      <td>...</td>\n",
       "      <td>...</td>\n",
       "    </tr>\n",
       "    <tr>\n",
       "      <th>3169</th>\n",
       "      <td>A WALK IN THE PARK</td>\n",
       "      <td>2024-07-07</td>\n",
       "      <td>biography &amp; autobiography</td>\n",
       "      <td>11</td>\n",
       "      <td>2024-07-07 17:34:46.978746</td>\n",
       "    </tr>\n",
       "    <tr>\n",
       "      <th>3170</th>\n",
       "      <td>THE SITUATION ROOM</td>\n",
       "      <td>2024-07-07</td>\n",
       "      <td>history</td>\n",
       "      <td>12</td>\n",
       "      <td>2024-07-07 17:34:46.978746</td>\n",
       "    </tr>\n",
       "    <tr>\n",
       "      <th>3171</th>\n",
       "      <td>WHEN THE CLOCK BROKE</td>\n",
       "      <td>2024-07-07</td>\n",
       "      <td>history</td>\n",
       "      <td>13</td>\n",
       "      <td>2024-07-07 17:34:46.978746</td>\n",
       "    </tr>\n",
       "    <tr>\n",
       "      <th>3172</th>\n",
       "      <td>OUTLIVE</td>\n",
       "      <td>2024-07-07</td>\n",
       "      <td>health &amp; fitness</td>\n",
       "      <td>14</td>\n",
       "      <td>2024-07-07 17:34:46.978746</td>\n",
       "    </tr>\n",
       "    <tr>\n",
       "      <th>3173</th>\n",
       "      <td>AN UNFINISHED LOVE STORY</td>\n",
       "      <td>2024-07-07</td>\n",
       "      <td>biography &amp; autobiography</td>\n",
       "      <td>15</td>\n",
       "      <td>2024-07-07 17:34:46.978746</td>\n",
       "    </tr>\n",
       "  </tbody>\n",
       "</table>\n",
       "<p>164 rows × 5 columns</p>\n",
       "</div>"
      ],
      "text/plain": [
       "                               title published_date  \\\n",
       "3040          HOW COUNTRIES GO BROKE     2025-06-22   \n",
       "3041                    ORIGINAL SIN     2025-06-22   \n",
       "3042       A DIFFERENT KIND OF POWER     2025-06-22   \n",
       "3043  THIS DOG WILL CHANGE YOUR LIFE     2025-06-22   \n",
       "3044                 TRUMP'S TRIUMPH     2025-06-22   \n",
       "...                              ...            ...   \n",
       "3169              A WALK IN THE PARK     2024-07-07   \n",
       "3170              THE SITUATION ROOM     2024-07-07   \n",
       "3171            WHEN THE CLOCK BROKE     2024-07-07   \n",
       "3172                         OUTLIVE     2024-07-07   \n",
       "3173        AN UNFINISHED LOVE STORY     2024-07-07   \n",
       "\n",
       "                       category  rank              date_datetime  \n",
       "3040       business & economics     1 2025-06-22 17:34:46.978746  \n",
       "3041          political science     2 2025-06-22 17:34:46.978746  \n",
       "3042  biography & autobiography     3 2025-06-22 17:34:46.978746  \n",
       "3043                       pets     4 2025-06-22 17:34:46.978746  \n",
       "3044                    history     5 2025-06-22 17:34:46.978746  \n",
       "...                         ...   ...                        ...  \n",
       "3169  biography & autobiography    11 2024-07-07 17:34:46.978746  \n",
       "3170                    history    12 2024-07-07 17:34:46.978746  \n",
       "3171                    history    13 2024-07-07 17:34:46.978746  \n",
       "3172           health & fitness    14 2024-07-07 17:34:46.978746  \n",
       "3173  biography & autobiography    15 2024-07-07 17:34:46.978746  \n",
       "\n",
       "[164 rows x 5 columns]"
      ]
     },
     "execution_count": 52,
     "metadata": {},
     "output_type": "execute_result"
    }
   ],
   "source": [
    "clean_df[clean_df['date_datetime']>past_year]"
   ]
  },
  {
   "cell_type": "code",
   "execution_count": 53,
   "id": "4f96da12",
   "metadata": {},
   "outputs": [],
   "source": [
    "past_year_counts = clean_df[clean_df['date_datetime']>past_year].groupby(['date_datetime','published_date','category']).size().reset_index(name='count')"
   ]
  },
  {
   "cell_type": "code",
   "execution_count": 54,
   "id": "54319e64",
   "metadata": {},
   "outputs": [
    {
     "data": {
      "application/vnd.microsoft.datawrangler.viewer.v0+json": {
       "columns": [
        {
         "name": "index",
         "rawType": "int64",
         "type": "integer"
        },
        {
         "name": "date_datetime",
         "rawType": "datetime64[us]",
         "type": "unknown"
        },
        {
         "name": "published_date",
         "rawType": "object",
         "type": "string"
        },
        {
         "name": "category",
         "rawType": "object",
         "type": "string"
        },
        {
         "name": "count",
         "rawType": "int64",
         "type": "integer"
        }
       ],
       "ref": "4476d5e7-28cd-46cc-956a-471aaadbc2c7",
       "rows": [
        [
         "0",
         "2024-07-07 17:34:46.978746",
         "2024-07-07",
         "biography & autobiography",
         "7"
        ],
        [
         "1",
         "2024-07-07 17:34:46.978746",
         "2024-07-07",
         "health & fitness",
         "1"
        ],
        [
         "2",
         "2024-07-07 17:34:46.978746",
         "2024-07-07",
         "history",
         "3"
        ],
        [
         "3",
         "2024-07-07 17:34:46.978746",
         "2024-07-07",
         "humor",
         "1"
        ],
        [
         "4",
         "2024-07-07 17:34:46.978746",
         "2024-07-07",
         "medical",
         "1"
        ],
        [
         "5",
         "2024-07-07 17:34:46.978746",
         "2024-07-07",
         "psychology",
         "1"
        ],
        [
         "6",
         "2024-07-07 17:34:46.978746",
         "2024-07-07",
         "true crime",
         "1"
        ],
        [
         "7",
         "2024-08-11 17:34:46.978746",
         "2024-08-11",
         "biography & autobiography",
         "6"
        ],
        [
         "8",
         "2024-08-11 17:34:46.978746",
         "2024-08-11",
         "health & fitness",
         "1"
        ],
        [
         "9",
         "2024-08-11 17:34:46.978746",
         "2024-08-11",
         "history",
         "3"
        ],
        [
         "10",
         "2024-08-11 17:34:46.978746",
         "2024-08-11",
         "medical",
         "1"
        ],
        [
         "11",
         "2024-08-11 17:34:46.978746",
         "2024-08-11",
         "psychology",
         "1"
        ],
        [
         "12",
         "2024-08-11 17:34:46.978746",
         "2024-08-11",
         "social science",
         "1"
        ],
        [
         "13",
         "2024-08-11 17:34:46.978746",
         "2024-08-11",
         "true crime",
         "1"
        ],
        [
         "14",
         "2024-09-15 17:34:46.978746",
         "2024-09-15",
         "biography & autobiography",
         "5"
        ],
        [
         "15",
         "2024-09-15 17:34:46.978746",
         "2024-09-15",
         "business & economics",
         "1"
        ],
        [
         "16",
         "2024-09-15 17:34:46.978746",
         "2024-09-15",
         "health & fitness",
         "1"
        ],
        [
         "17",
         "2024-09-15 17:34:46.978746",
         "2024-09-15",
         "history",
         "2"
        ],
        [
         "18",
         "2024-09-15 17:34:46.978746",
         "2024-09-15",
         "medical",
         "1"
        ],
        [
         "19",
         "2024-09-15 17:34:46.978746",
         "2024-09-15",
         "nature",
         "1"
        ],
        [
         "20",
         "2024-09-15 17:34:46.978746",
         "2024-09-15",
         "performing arts",
         "1"
        ],
        [
         "21",
         "2024-09-15 17:34:46.978746",
         "2024-09-15",
         "psychology",
         "1"
        ],
        [
         "22",
         "2024-09-15 17:34:46.978746",
         "2024-09-15",
         "social science",
         "1"
        ],
        [
         "23",
         "2024-09-15 17:34:46.978746",
         "2024-09-15",
         "true crime",
         "1"
        ],
        [
         "24",
         "2024-10-20 17:34:46.978746",
         "2024-10-20",
         "biography & autobiography",
         "4"
        ],
        [
         "25",
         "2024-10-20 17:34:46.978746",
         "2024-10-20",
         "business & economics",
         "1"
        ],
        [
         "26",
         "2024-10-20 17:34:46.978746",
         "2024-10-20",
         "history",
         "4"
        ],
        [
         "27",
         "2024-10-20 17:34:46.978746",
         "2024-10-20",
         "medical",
         "1"
        ],
        [
         "28",
         "2024-10-20 17:34:46.978746",
         "2024-10-20",
         "political science",
         "1"
        ],
        [
         "29",
         "2024-10-20 17:34:46.978746",
         "2024-10-20",
         "psychology",
         "1"
        ],
        [
         "30",
         "2024-10-20 17:34:46.978746",
         "2024-10-20",
         "social science",
         "3"
        ],
        [
         "31",
         "2024-11-24 17:34:46.978746",
         "2024-11-24",
         "biography & autobiography",
         "8"
        ],
        [
         "32",
         "2024-11-24 17:34:46.978746",
         "2024-11-24",
         "business & economics",
         "1"
        ],
        [
         "33",
         "2024-11-24 17:34:46.978746",
         "2024-11-24",
         "medical",
         "1"
        ],
        [
         "34",
         "2024-11-24 17:34:46.978746",
         "2024-11-24",
         "political science",
         "1"
        ],
        [
         "35",
         "2024-11-24 17:34:46.978746",
         "2024-11-24",
         "psychology",
         "1"
        ],
        [
         "36",
         "2024-11-24 17:34:46.978746",
         "2024-11-24",
         "social science",
         "2"
        ],
        [
         "37",
         "2024-11-24 17:34:46.978746",
         "2024-11-24",
         "true crime",
         "1"
        ],
        [
         "38",
         "2024-12-29 17:34:46.978746",
         "2024-12-29",
         "biography & autobiography",
         "5"
        ],
        [
         "39",
         "2024-12-29 17:34:46.978746",
         "2024-12-29",
         "business & economics",
         "1"
        ],
        [
         "40",
         "2024-12-29 17:34:46.978746",
         "2024-12-29",
         "history",
         "2"
        ],
        [
         "41",
         "2024-12-29 17:34:46.978746",
         "2024-12-29",
         "medical",
         "1"
        ],
        [
         "42",
         "2024-12-29 17:34:46.978746",
         "2024-12-29",
         "nature",
         "2"
        ],
        [
         "43",
         "2024-12-29 17:34:46.978746",
         "2024-12-29",
         "psychology",
         "1"
        ],
        [
         "44",
         "2024-12-29 17:34:46.978746",
         "2024-12-29",
         "social science",
         "1"
        ],
        [
         "45",
         "2024-12-29 17:34:46.978746",
         "2024-12-29",
         "true crime",
         "2"
        ],
        [
         "46",
         "2025-02-02 17:34:46.978746",
         "2025-02-02",
         "biography & autobiography",
         "7"
        ],
        [
         "47",
         "2025-02-02 17:34:46.978746",
         "2025-02-02",
         "health & fitness",
         "1"
        ],
        [
         "48",
         "2025-02-02 17:34:46.978746",
         "2025-02-02",
         "medical",
         "1"
        ],
        [
         "49",
         "2025-02-02 17:34:46.978746",
         "2025-02-02",
         "nature",
         "1"
        ]
       ],
       "shape": {
        "columns": 4,
        "rows": 90
       }
      },
      "text/html": [
       "<div>\n",
       "<style scoped>\n",
       "    .dataframe tbody tr th:only-of-type {\n",
       "        vertical-align: middle;\n",
       "    }\n",
       "\n",
       "    .dataframe tbody tr th {\n",
       "        vertical-align: top;\n",
       "    }\n",
       "\n",
       "    .dataframe thead th {\n",
       "        text-align: right;\n",
       "    }\n",
       "</style>\n",
       "<table border=\"1\" class=\"dataframe\">\n",
       "  <thead>\n",
       "    <tr style=\"text-align: right;\">\n",
       "      <th></th>\n",
       "      <th>date_datetime</th>\n",
       "      <th>published_date</th>\n",
       "      <th>category</th>\n",
       "      <th>count</th>\n",
       "    </tr>\n",
       "  </thead>\n",
       "  <tbody>\n",
       "    <tr>\n",
       "      <th>0</th>\n",
       "      <td>2024-07-07 17:34:46.978746</td>\n",
       "      <td>2024-07-07</td>\n",
       "      <td>biography &amp; autobiography</td>\n",
       "      <td>7</td>\n",
       "    </tr>\n",
       "    <tr>\n",
       "      <th>1</th>\n",
       "      <td>2024-07-07 17:34:46.978746</td>\n",
       "      <td>2024-07-07</td>\n",
       "      <td>health &amp; fitness</td>\n",
       "      <td>1</td>\n",
       "    </tr>\n",
       "    <tr>\n",
       "      <th>2</th>\n",
       "      <td>2024-07-07 17:34:46.978746</td>\n",
       "      <td>2024-07-07</td>\n",
       "      <td>history</td>\n",
       "      <td>3</td>\n",
       "    </tr>\n",
       "    <tr>\n",
       "      <th>3</th>\n",
       "      <td>2024-07-07 17:34:46.978746</td>\n",
       "      <td>2024-07-07</td>\n",
       "      <td>humor</td>\n",
       "      <td>1</td>\n",
       "    </tr>\n",
       "    <tr>\n",
       "      <th>4</th>\n",
       "      <td>2024-07-07 17:34:46.978746</td>\n",
       "      <td>2024-07-07</td>\n",
       "      <td>medical</td>\n",
       "      <td>1</td>\n",
       "    </tr>\n",
       "    <tr>\n",
       "      <th>...</th>\n",
       "      <td>...</td>\n",
       "      <td>...</td>\n",
       "      <td>...</td>\n",
       "      <td>...</td>\n",
       "    </tr>\n",
       "    <tr>\n",
       "      <th>85</th>\n",
       "      <td>2025-06-22 17:34:46.978746</td>\n",
       "      <td>2025-06-22</td>\n",
       "      <td>history</td>\n",
       "      <td>2</td>\n",
       "    </tr>\n",
       "    <tr>\n",
       "      <th>86</th>\n",
       "      <td>2025-06-22 17:34:46.978746</td>\n",
       "      <td>2025-06-22</td>\n",
       "      <td>medical</td>\n",
       "      <td>1</td>\n",
       "    </tr>\n",
       "    <tr>\n",
       "      <th>87</th>\n",
       "      <td>2025-06-22 17:34:46.978746</td>\n",
       "      <td>2025-06-22</td>\n",
       "      <td>pets</td>\n",
       "      <td>1</td>\n",
       "    </tr>\n",
       "    <tr>\n",
       "      <th>88</th>\n",
       "      <td>2025-06-22 17:34:46.978746</td>\n",
       "      <td>2025-06-22</td>\n",
       "      <td>political science</td>\n",
       "      <td>1</td>\n",
       "    </tr>\n",
       "    <tr>\n",
       "      <th>89</th>\n",
       "      <td>2025-06-22 17:34:46.978746</td>\n",
       "      <td>2025-06-22</td>\n",
       "      <td>psychology</td>\n",
       "      <td>1</td>\n",
       "    </tr>\n",
       "  </tbody>\n",
       "</table>\n",
       "<p>90 rows × 4 columns</p>\n",
       "</div>"
      ],
      "text/plain": [
       "                date_datetime published_date                   category  count\n",
       "0  2024-07-07 17:34:46.978746     2024-07-07  biography & autobiography      7\n",
       "1  2024-07-07 17:34:46.978746     2024-07-07           health & fitness      1\n",
       "2  2024-07-07 17:34:46.978746     2024-07-07                    history      3\n",
       "3  2024-07-07 17:34:46.978746     2024-07-07                      humor      1\n",
       "4  2024-07-07 17:34:46.978746     2024-07-07                    medical      1\n",
       "..                        ...            ...                        ...    ...\n",
       "85 2025-06-22 17:34:46.978746     2025-06-22                    history      2\n",
       "86 2025-06-22 17:34:46.978746     2025-06-22                    medical      1\n",
       "87 2025-06-22 17:34:46.978746     2025-06-22                       pets      1\n",
       "88 2025-06-22 17:34:46.978746     2025-06-22          political science      1\n",
       "89 2025-06-22 17:34:46.978746     2025-06-22                 psychology      1\n",
       "\n",
       "[90 rows x 4 columns]"
      ]
     },
     "execution_count": 54,
     "metadata": {},
     "output_type": "execute_result"
    }
   ],
   "source": [
    "past_year_counts"
   ]
  },
  {
   "cell_type": "code",
   "execution_count": 55,
   "id": "e986d86d",
   "metadata": {},
   "outputs": [],
   "source": [
    "past_year_counts.to_csv('past_year_counts.csv', index=False)"
   ]
  },
  {
   "cell_type": "code",
   "execution_count": 56,
   "id": "164bc31c",
   "metadata": {},
   "outputs": [
    {
     "data": {
      "text/plain": [
       "pandas.core.frame.DataFrame"
      ]
     },
     "execution_count": 56,
     "metadata": {},
     "output_type": "execute_result"
    }
   ],
   "source": [
    "type(past_year_counts)"
   ]
  },
  {
   "cell_type": "code",
   "execution_count": 57,
   "id": "321da53e",
   "metadata": {},
   "outputs": [],
   "source": [
    "past_year_counts.to_json('past_year_counts.json')"
   ]
  },
  {
   "cell_type": "code",
   "execution_count": 58,
   "id": "a2e7135f",
   "metadata": {},
   "outputs": [
    {
     "name": "stdout",
     "output_type": "stream",
     "text": [
      "week:2024-07-07\n",
      "biography & autobiography\n",
      "7\n",
      "health & fitness\n",
      "1\n",
      "history\n",
      "3\n",
      "humor\n",
      "1\n",
      "medical\n",
      "1\n",
      "psychology\n",
      "1\n",
      "true crime\n",
      "1\n",
      "week:2024-08-11\n",
      "biography & autobiography\n",
      "6\n",
      "health & fitness\n",
      "1\n",
      "history\n",
      "3\n",
      "medical\n",
      "1\n",
      "psychology\n",
      "1\n",
      "social science\n",
      "1\n",
      "true crime\n",
      "1\n",
      "week:2024-09-15\n",
      "biography & autobiography\n",
      "5\n",
      "business & economics\n",
      "1\n",
      "health & fitness\n",
      "1\n",
      "history\n",
      "2\n",
      "medical\n",
      "1\n",
      "nature\n",
      "1\n",
      "performing arts\n",
      "1\n",
      "psychology\n",
      "1\n",
      "social science\n",
      "1\n",
      "true crime\n",
      "1\n",
      "week:2024-10-20\n",
      "biography & autobiography\n",
      "4\n",
      "business & economics\n",
      "1\n",
      "history\n",
      "4\n",
      "medical\n",
      "1\n",
      "political science\n",
      "1\n",
      "psychology\n",
      "1\n",
      "social science\n",
      "3\n",
      "week:2024-11-24\n",
      "biography & autobiography\n",
      "8\n",
      "business & economics\n",
      "1\n",
      "medical\n",
      "1\n",
      "political science\n",
      "1\n",
      "psychology\n",
      "1\n",
      "social science\n",
      "2\n",
      "true crime\n",
      "1\n",
      "week:2024-12-29\n",
      "biography & autobiography\n",
      "5\n",
      "business & economics\n",
      "1\n",
      "history\n",
      "2\n",
      "medical\n",
      "1\n",
      "nature\n",
      "2\n",
      "psychology\n",
      "1\n",
      "social science\n",
      "1\n",
      "true crime\n",
      "2\n",
      "week:2025-02-02\n",
      "biography & autobiography\n",
      "7\n",
      "health & fitness\n",
      "1\n",
      "medical\n",
      "1\n",
      "nature\n",
      "1\n",
      "political science\n",
      "2\n",
      "psychology\n",
      "1\n",
      "religion\n",
      "1\n",
      "true crime\n",
      "1\n",
      "week:2025-03-09\n",
      "biography & autobiography\n",
      "4\n",
      "business & economics\n",
      "1\n",
      "health & fitness\n",
      "1\n",
      "history\n",
      "1\n",
      "medical\n",
      "1\n",
      "nature\n",
      "1\n",
      "political science\n",
      "3\n",
      "psychology\n",
      "1\n",
      "religion\n",
      "1\n",
      "social science\n",
      "1\n",
      "week:2025-04-13\n",
      "biography & autobiography\n",
      "4\n",
      "business & economics\n",
      "1\n",
      "communicable diseases\n",
      "1\n",
      "medical\n",
      "1\n",
      "nature\n",
      "1\n",
      "political science\n",
      "4\n",
      "psychology\n",
      "1\n",
      "social science\n",
      "1\n",
      "true crime\n",
      "1\n",
      "week:2025-05-18\n",
      "biography & autobiography\n",
      "6\n",
      "business & economics\n",
      "1\n",
      "health & fitness\n",
      "1\n",
      "history\n",
      "2\n",
      "medical\n",
      "1\n",
      "political science\n",
      "1\n",
      "psychology\n",
      "1\n",
      "religion\n",
      "1\n",
      "social science\n",
      "1\n",
      "week:2025-06-22\n",
      "art\n",
      "1\n",
      "biography & autobiography\n",
      "6\n",
      "business & economics\n",
      "2\n",
      "history\n",
      "2\n",
      "medical\n",
      "1\n",
      "pets\n",
      "1\n",
      "political science\n",
      "1\n",
      "psychology\n",
      "1\n"
     ]
    }
   ],
   "source": [
    "year_counts_list = []\n",
    "for week in past_year_counts['published_date'].unique():\n",
    "    print(f\"week:{week}\")\n",
    "    week_object = {}\n",
    "    week_object[\"week\"] = week\n",
    "    week_object[\"data\"] = []\n",
    "\n",
    "\n",
    "    for category in past_year_counts[past_year_counts['published_date']== week]['category'].unique():\n",
    "        row = {}\n",
    "        row[\"category\"] = category\n",
    "        print(row[\"category\"])\n",
    "        row['count'] = past_year_counts[(past_year_counts['published_date']== week) & (past_year_counts[\"category\"]== category)]['count'].iloc[0]\n",
    "        row[\"count\"] = int(row['count'])\n",
    "        print(row['count'])\n",
    "        week_object['data'].append(row)\n",
    "\n",
    "\n",
    "    \n",
    "    year_counts_list.append(week_object)\n"
   ]
  },
  {
   "cell_type": "code",
   "execution_count": 59,
   "id": "ef81864e",
   "metadata": {},
   "outputs": [
    {
     "data": {
      "text/plain": [
       "[{'week': '2024-07-07',\n",
       "  'data': [{'category': 'biography & autobiography', 'count': 7},\n",
       "   {'category': 'health & fitness', 'count': 1},\n",
       "   {'category': 'history', 'count': 3},\n",
       "   {'category': 'humor', 'count': 1},\n",
       "   {'category': 'medical', 'count': 1},\n",
       "   {'category': 'psychology', 'count': 1},\n",
       "   {'category': 'true crime', 'count': 1}]},\n",
       " {'week': '2024-08-11',\n",
       "  'data': [{'category': 'biography & autobiography', 'count': 6},\n",
       "   {'category': 'health & fitness', 'count': 1},\n",
       "   {'category': 'history', 'count': 3},\n",
       "   {'category': 'medical', 'count': 1},\n",
       "   {'category': 'psychology', 'count': 1},\n",
       "   {'category': 'social science', 'count': 1},\n",
       "   {'category': 'true crime', 'count': 1}]},\n",
       " {'week': '2024-09-15',\n",
       "  'data': [{'category': 'biography & autobiography', 'count': 5},\n",
       "   {'category': 'business & economics', 'count': 1},\n",
       "   {'category': 'health & fitness', 'count': 1},\n",
       "   {'category': 'history', 'count': 2},\n",
       "   {'category': 'medical', 'count': 1},\n",
       "   {'category': 'nature', 'count': 1},\n",
       "   {'category': 'performing arts', 'count': 1},\n",
       "   {'category': 'psychology', 'count': 1},\n",
       "   {'category': 'social science', 'count': 1},\n",
       "   {'category': 'true crime', 'count': 1}]},\n",
       " {'week': '2024-10-20',\n",
       "  'data': [{'category': 'biography & autobiography', 'count': 4},\n",
       "   {'category': 'business & economics', 'count': 1},\n",
       "   {'category': 'history', 'count': 4},\n",
       "   {'category': 'medical', 'count': 1},\n",
       "   {'category': 'political science', 'count': 1},\n",
       "   {'category': 'psychology', 'count': 1},\n",
       "   {'category': 'social science', 'count': 3}]},\n",
       " {'week': '2024-11-24',\n",
       "  'data': [{'category': 'biography & autobiography', 'count': 8},\n",
       "   {'category': 'business & economics', 'count': 1},\n",
       "   {'category': 'medical', 'count': 1},\n",
       "   {'category': 'political science', 'count': 1},\n",
       "   {'category': 'psychology', 'count': 1},\n",
       "   {'category': 'social science', 'count': 2},\n",
       "   {'category': 'true crime', 'count': 1}]},\n",
       " {'week': '2024-12-29',\n",
       "  'data': [{'category': 'biography & autobiography', 'count': 5},\n",
       "   {'category': 'business & economics', 'count': 1},\n",
       "   {'category': 'history', 'count': 2},\n",
       "   {'category': 'medical', 'count': 1},\n",
       "   {'category': 'nature', 'count': 2},\n",
       "   {'category': 'psychology', 'count': 1},\n",
       "   {'category': 'social science', 'count': 1},\n",
       "   {'category': 'true crime', 'count': 2}]},\n",
       " {'week': '2025-02-02',\n",
       "  'data': [{'category': 'biography & autobiography', 'count': 7},\n",
       "   {'category': 'health & fitness', 'count': 1},\n",
       "   {'category': 'medical', 'count': 1},\n",
       "   {'category': 'nature', 'count': 1},\n",
       "   {'category': 'political science', 'count': 2},\n",
       "   {'category': 'psychology', 'count': 1},\n",
       "   {'category': 'religion', 'count': 1},\n",
       "   {'category': 'true crime', 'count': 1}]},\n",
       " {'week': '2025-03-09',\n",
       "  'data': [{'category': 'biography & autobiography', 'count': 4},\n",
       "   {'category': 'business & economics', 'count': 1},\n",
       "   {'category': 'health & fitness', 'count': 1},\n",
       "   {'category': 'history', 'count': 1},\n",
       "   {'category': 'medical', 'count': 1},\n",
       "   {'category': 'nature', 'count': 1},\n",
       "   {'category': 'political science', 'count': 3},\n",
       "   {'category': 'psychology', 'count': 1},\n",
       "   {'category': 'religion', 'count': 1},\n",
       "   {'category': 'social science', 'count': 1}]},\n",
       " {'week': '2025-04-13',\n",
       "  'data': [{'category': 'biography & autobiography', 'count': 4},\n",
       "   {'category': 'business & economics', 'count': 1},\n",
       "   {'category': 'communicable diseases', 'count': 1},\n",
       "   {'category': 'medical', 'count': 1},\n",
       "   {'category': 'nature', 'count': 1},\n",
       "   {'category': 'political science', 'count': 4},\n",
       "   {'category': 'psychology', 'count': 1},\n",
       "   {'category': 'social science', 'count': 1},\n",
       "   {'category': 'true crime', 'count': 1}]},\n",
       " {'week': '2025-05-18',\n",
       "  'data': [{'category': 'biography & autobiography', 'count': 6},\n",
       "   {'category': 'business & economics', 'count': 1},\n",
       "   {'category': 'health & fitness', 'count': 1},\n",
       "   {'category': 'history', 'count': 2},\n",
       "   {'category': 'medical', 'count': 1},\n",
       "   {'category': 'political science', 'count': 1},\n",
       "   {'category': 'psychology', 'count': 1},\n",
       "   {'category': 'religion', 'count': 1},\n",
       "   {'category': 'social science', 'count': 1}]},\n",
       " {'week': '2025-06-22',\n",
       "  'data': [{'category': 'art', 'count': 1},\n",
       "   {'category': 'biography & autobiography', 'count': 6},\n",
       "   {'category': 'business & economics', 'count': 2},\n",
       "   {'category': 'history', 'count': 2},\n",
       "   {'category': 'medical', 'count': 1},\n",
       "   {'category': 'pets', 'count': 1},\n",
       "   {'category': 'political science', 'count': 1},\n",
       "   {'category': 'psychology', 'count': 1}]}]"
      ]
     },
     "execution_count": 59,
     "metadata": {},
     "output_type": "execute_result"
    }
   ],
   "source": [
    "year_counts_list"
   ]
  },
  {
   "cell_type": "code",
   "execution_count": 60,
   "id": "baaba684",
   "metadata": {},
   "outputs": [],
   "source": [
    "import json\n",
    "with open('year_counts_list.json', 'w') as f:\n",
    "    json.dump(year_counts_list, f)"
   ]
  },
  {
   "cell_type": "code",
   "execution_count": null,
   "id": "9389b6b5",
   "metadata": {},
   "outputs": [],
   "source": []
  }
 ],
 "metadata": {
  "kernelspec": {
   "display_name": "Python 3",
   "language": "python",
   "name": "python3"
  },
  "language_info": {
   "codemirror_mode": {
    "name": "ipython",
    "version": 3
   },
   "file_extension": ".py",
   "mimetype": "text/x-python",
   "name": "python",
   "nbconvert_exporter": "python",
   "pygments_lexer": "ipython3",
   "version": "3.12.8"
  }
 },
 "nbformat": 4,
 "nbformat_minor": 5
}
